{
 "cells": [
  {
   "attachments": {},
   "cell_type": "markdown",
   "metadata": {},
   "source": [
    "## Python functions\n",
    "\n",
    "#### Agenda:\n",
    "\n",
    "- Function definition\n",
    "  \n",
    "- Positional and keyword arguments\n",
    "- Argument default values\n",
    "- Using \"*\" with function arguments\n",
    "- Using \"**\" with function arguments"
   ]
  },
  {
   "attachments": {},
   "cell_type": "markdown",
   "metadata": {},
   "source": [
    "#### Creating simple function"
   ]
  },
  {
   "cell_type": "code",
   "execution_count": null,
   "metadata": {},
   "outputs": [],
   "source": [
    "word_list = [\"cat\", \"window\", \"bridges\", \"car\"]\n",
    "character = 'c'\n",
    "\n",
    "target_word_list = []\n",
    "\n",
    "for word in word_list:\n",
    "\n",
    "    if character in word:\n",
    "        target_word_list.append(word)\n",
    "        \n",
    "print(target_word_list)\n"
   ]
  },
  {
   "cell_type": "code",
   "execution_count": null,
   "metadata": {},
   "outputs": [],
   "source": [
    "# Define function\n",
    "\n",
    "def find_words_containing_character(word_list, character):\n",
    "    \n",
    "    target_word_list = []\n",
    "    \n",
    "    for word in word_list:\n",
    "\n",
    "        if character in word:\n",
    "            target_word_list.append(word)\n",
    "    \n",
    "    return target_word_list"
   ]
  },
  {
   "cell_type": "code",
   "execution_count": null,
   "metadata": {},
   "outputs": [],
   "source": [
    "# Check type of \"find_words_containing_character\"\n",
    "type(find_words_containing_character)"
   ]
  },
  {
   "cell_type": "code",
   "execution_count": null,
   "metadata": {},
   "outputs": [],
   "source": [
    "id(find_words_containing_character)"
   ]
  },
  {
   "cell_type": "code",
   "execution_count": null,
   "metadata": {},
   "outputs": [],
   "source": [
    "# Call by using keyword argument\n",
    "\n",
    "words = [\"cat\", \"window\", \"bridges\", \"car\"]\n",
    "\n",
    "out_list = find_words_containing_character(\n",
    "    word_list=words, \n",
    "    character='c'\n",
    ")\n",
    "\n",
    "print(out_list)  "
   ]
  },
  {
   "attachments": {},
   "cell_type": "markdown",
   "metadata": {},
   "source": [
    "#### Function arguments"
   ]
  },
  {
   "cell_type": "code",
   "execution_count": null,
   "metadata": {},
   "outputs": [],
   "source": [
    "# Call by using keyword argument\n",
    "\n",
    "words = [\"cat\", \"window\", \"bridges\", \"car\"]\n",
    "out_list = find_words_containing_character(\n",
    "    word_list=words, \n",
    "    character='c'\n",
    ")\n",
    "print(out_list)  "
   ]
  },
  {
   "cell_type": "code",
   "execution_count": null,
   "metadata": {},
   "outputs": [],
   "source": [
    "# Call by using positional argument\n",
    "\n",
    "words = [\"cat\", \"window\", \"bridges\", \"car\"]\n",
    "\n",
    "out_list = find_words_containing_character(words, 'c')\n",
    "\n",
    "print(out_list)  "
   ]
  },
  {
   "cell_type": "code",
   "execution_count": null,
   "metadata": {},
   "outputs": [],
   "source": [
    "# Call by using mix of arguments\n",
    "\n",
    "words = [\"cat\", \"window\", \"bridges\", \"car\"]\n",
    "\n",
    "out_list = find_words_containing_character(words, character='c')\n",
    "\n",
    "print(out_list)  "
   ]
  },
  {
   "cell_type": "code",
   "execution_count": null,
   "metadata": {},
   "outputs": [],
   "source": [
    "# Call by using mix of arguments\n",
    "\n",
    "words = [\"cat\", \"window\", \"bridges\", \"car\"]\n",
    "\n",
    "out_list = find_words_containing_character(word_list=words, 'h')\n",
    "\n",
    "print(out_list)  "
   ]
  },
  {
   "cell_type": "code",
   "execution_count": null,
   "metadata": {},
   "outputs": [],
   "source": [
    "# All arguments must be passed to the function\n",
    "\n",
    "words = [\"cat\", \"window\", \"bridges\", \"car\"]\n",
    "\n",
    "out_list = find_words_containing_character(words)\n",
    "\n",
    "print(out_list)  "
   ]
  },
  {
   "cell_type": "code",
   "execution_count": null,
   "metadata": {},
   "outputs": [],
   "source": [
    "# All arguments must be passed to the function\n",
    "\n",
    "words = [\"cat\", \"window\", \"bridges\", \"car\"]\n",
    "\n",
    "out_list = find_words_containing_character(word_list=words)\n",
    "\n",
    "print(out_list)  "
   ]
  },
  {
   "cell_type": "code",
   "execution_count": null,
   "metadata": {},
   "outputs": [],
   "source": [
    "# You cant provide values for unexisting arguments\n",
    "\n",
    "words = [\"cat\", \"window\", \"bridges\", \"car\"]\n",
    "\n",
    "out_list = find_words_containing_character(words,'h', True)\n",
    "\n",
    "print(out_list)  "
   ]
  },
  {
   "cell_type": "code",
   "execution_count": null,
   "metadata": {},
   "outputs": [],
   "source": [
    "# You cant provide values for unexisting arguments\n",
    "\n",
    "words = [\"cat\", \"window\", \"bridges\", \"car\"]\n",
    "\n",
    "out_list = find_words_containing_character(words,'h', new_arg = True)\n",
    "\n",
    "print(out_list)  "
   ]
  },
  {
   "attachments": {},
   "cell_type": "markdown",
   "metadata": {},
   "source": [
    "##### Argument default values"
   ]
  },
  {
   "cell_type": "code",
   "execution_count": null,
   "metadata": {},
   "outputs": [],
   "source": [
    "words = [\"cat\", \"window\", \"bridges\", \"car\"]\n",
    "\n",
    "def find_words_containing_character(word_list, character='c'):\n",
    "    \n",
    "    target_word_list = []\n",
    "    \n",
    "    for word in word_list:\n",
    "\n",
    "        if character in word:\n",
    "            target_word_list.append(word)\n",
    "    \n",
    "    # Return the longest word\n",
    "    return target_word_list"
   ]
  },
  {
   "cell_type": "code",
   "execution_count": null,
   "metadata": {},
   "outputs": [],
   "source": [
    "find_words_containing_character(word_list)"
   ]
  },
  {
   "cell_type": "code",
   "execution_count": null,
   "metadata": {},
   "outputs": [],
   "source": [
    "find_words_containing_character(word_list=word_list)"
   ]
  },
  {
   "attachments": {},
   "cell_type": "markdown",
   "metadata": {},
   "source": [
    "##### Unpacking positional arguments with *"
   ]
  },
  {
   "cell_type": "code",
   "execution_count": null,
   "metadata": {},
   "outputs": [],
   "source": [
    "def sum_numbers(a, b, c):\n",
    "    return a + b + c"
   ]
  },
  {
   "cell_type": "code",
   "execution_count": null,
   "metadata": {},
   "outputs": [],
   "source": [
    "# Call with positional arguments\n",
    "sum_numbers(1,2,3)"
   ]
  },
  {
   "cell_type": "code",
   "execution_count": null,
   "metadata": {},
   "outputs": [],
   "source": [
    "# List can be unpacked as arguments\n",
    "num_list = [1,2,3]\n",
    "sum_numbers(*num_list)"
   ]
  },
  {
   "cell_type": "code",
   "execution_count": null,
   "metadata": {},
   "outputs": [],
   "source": [
    "# Star can be used inside function definition\n",
    "def sum_numbers_and_print_rest(a, b, *c):\n",
    "    \n",
    "    print(a)\n",
    "    print(b)\n",
    "    print(c)"
   ]
  },
  {
   "cell_type": "code",
   "execution_count": null,
   "metadata": {},
   "outputs": [],
   "source": [
    "sum_numbers_and_print_rest(1, 2, True, 'Italy')"
   ]
  },
  {
   "cell_type": "code",
   "execution_count": null,
   "metadata": {},
   "outputs": [],
   "source": [
    "def fun_1(arg1, arg2, *args):\n",
    "\n",
    "    print(arg1)\n",
    "    print(arg2)\n",
    "    print(args)\n",
    "\n",
    "fun_1(1,2,3,4,5)"
   ]
  },
  {
   "cell_type": "code",
   "execution_count": null,
   "metadata": {},
   "outputs": [],
   "source": [
    "# You can define arguments after *\n",
    "# but this arguments must be called\n",
    "# as keyword arguments\n",
    "def fun_1(arg1, arg2, *args, arg3):\n",
    "    \n",
    "    print(arg1)\n",
    "    print(arg2)\n",
    "    print(args)\n",
    "    print(arg3)\n",
    "    \n",
    "fun_1(1,2,3,4,5)"
   ]
  },
  {
   "cell_type": "code",
   "execution_count": null,
   "metadata": {},
   "outputs": [],
   "source": [
    "fun_1(1,2,3,4,5, arg3='ARG3')"
   ]
  },
  {
   "attachments": {},
   "cell_type": "markdown",
   "metadata": {},
   "source": [
    "##### Unpacking arguments with **"
   ]
  },
  {
   "cell_type": "code",
   "execution_count": null,
   "metadata": {},
   "outputs": [],
   "source": [
    "# Unpack dict\n",
    "\n",
    "def sum_vals(a, b, c):\n",
    "    return a + b + c\n",
    "\n",
    "val_dict = {\n",
    "    'a': 1,\n",
    "    'b': 2,\n",
    "    'c': 3\n",
    "}\n",
    "\n",
    "sum_vals(**val_dict)"
   ]
  },
  {
   "cell_type": "code",
   "execution_count": null,
   "metadata": {},
   "outputs": [],
   "source": [
    "# Unpack dict\n",
    "\n",
    "def sum_vals(a, b, c):\n",
    "    return a + b + c\n",
    "\n",
    "val_dict = {\n",
    "    'm': 1,\n",
    "    'b': 2,\n",
    "    'c': 3\n",
    "}\n",
    "\n",
    "sum_vals(**val_dict)"
   ]
  },
  {
   "cell_type": "code",
   "execution_count": null,
   "metadata": {},
   "outputs": [],
   "source": [
    "# Unpack keyword arguments\n",
    "# when positional arguments are\n",
    "# also present\n",
    "\n",
    "def fun_1(arg1, arg2, arg3, **kwargs):\n",
    "    \n",
    "    print(arg1)\n",
    "    print(arg2)\n",
    "    print(arg3)\n",
    "    print(kwargs)\n",
    "\n",
    "\n",
    "fun_1(1, 2, arg3='GO', m1=5, m2=10)"
   ]
  },
  {
   "attachments": {},
   "cell_type": "markdown",
   "metadata": {},
   "source": [
    "##### Using * and **"
   ]
  },
  {
   "cell_type": "code",
   "execution_count": null,
   "metadata": {},
   "outputs": [],
   "source": [
    "def example_fun(p1, p2, k1, k2):\n",
    "    \n",
    "    print('p1 : {}'.format(p1))\n",
    "    print('p2 : {}'.format(p2))\n",
    "    print('k1 : {}'.format(k1))\n",
    "    print('k2 : {}'.format(k2))\n",
    "\n",
    "l1 = [1, 2]\n",
    "dict1 = {\n",
    "    'k1':4,\n",
    "    'k2':5\n",
    "}\n",
    "\n",
    "example_fun(*l1, **dict1)"
   ]
  },
  {
   "cell_type": "code",
   "execution_count": null,
   "metadata": {},
   "outputs": [],
   "source": [
    "# Unpack mix of positional and \n",
    "# keyword arguments\n",
    "\n",
    "def example_fun(p1, p2, *args, k1, k2, **kwargs):\n",
    "    \n",
    "    print('p1 : {}'.format(p1))\n",
    "    print('p2 : {}'.format(p2))\n",
    "    print('args : {}'.format(args))\n",
    "    print('k1 : {}'.format(k1))\n",
    "    print('k2 : {}'.format(k2))\n",
    "    print('kwargs : {}'.format(kwargs))\n"
   ]
  },
  {
   "cell_type": "code",
   "execution_count": null,
   "metadata": {},
   "outputs": [],
   "source": [
    "example_fun(1,2,3,4,5,6, k1=10, k2='house', k3=30, k4=[], k5={'a': 1})"
   ]
  },
  {
   "cell_type": "code",
   "execution_count": null,
   "metadata": {},
   "outputs": [],
   "source": [
    "# Use star to denote where \n",
    "# positional arguments end\n",
    "def example_fun_1(p1, p2, *, k1, k2, **kwargs):\n",
    "    \n",
    "    print('p1 : {}'.format(p1))\n",
    "    print('p2 : {}'.format(p2))\n",
    "    print('k1 : {}'.format(k1))\n",
    "    print('k2 : {}'.format(k2))\n",
    "    print('kwargs : {}'.format(kwargs))"
   ]
  },
  {
   "cell_type": "code",
   "execution_count": null,
   "metadata": {},
   "outputs": [],
   "source": [
    "example_fun_1(1,2, k1=10, k2='house', k3=30, k4=[], k5={'a': 1})"
   ]
  },
  {
   "cell_type": "code",
   "execution_count": null,
   "metadata": {},
   "outputs": [],
   "source": [
    "example_fun_1(1,2, 10, k2='house', k3=30, k4=[], k5={'a': 1})"
   ]
  },
  {
   "cell_type": "code",
   "execution_count": null,
   "metadata": {},
   "outputs": [],
   "source": [
    "# Call function only with \n",
    "# args and kwargs\n",
    "\n",
    "def example_fun_2(*args, **kwargs):\n",
    "    \n",
    "    print('args : {}'.format(args))\n",
    "    print('kwargs : {}'.format(kwargs))\n",
    "    \n",
    "\n",
    "example_fun_2('a', 1, 2, ['pro'], a=1, b=2, c=True)"
   ]
  },
  {
   "cell_type": "markdown",
   "metadata": {},
   "source": [
    "#### Summary:\n",
    "\n",
    "We have learned:\n",
    "\n",
    "- What is function\n",
    "\n",
    "- Function arguments\n",
    "\n",
    "- Default function argumets\n",
    "\n",
    "- Using \"*\" with function arguments\n",
    "  \n",
    "- Using \"**\" with function arguments\n",
    "\n",
    "\n",
    "\n"
   ]
  }
 ],
 "metadata": {
  "kernelspec": {
   "display_name": "test_env_2",
   "language": "python",
   "name": "python3"
  },
  "language_info": {
   "codemirror_mode": {
    "name": "ipython",
    "version": 3
   },
   "file_extension": ".py",
   "mimetype": "text/x-python",
   "name": "python",
   "nbconvert_exporter": "python",
   "pygments_lexer": "ipython3",
   "version": "3.11.3"
  },
  "orig_nbformat": 4
 },
 "nbformat": 4,
 "nbformat_minor": 2
}
