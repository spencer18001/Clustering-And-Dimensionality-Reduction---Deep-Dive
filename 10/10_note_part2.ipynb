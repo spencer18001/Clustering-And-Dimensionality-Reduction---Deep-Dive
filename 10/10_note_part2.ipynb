{
  "cells": [
    {
      "cell_type": "markdown",
      "metadata": {
        "id": "view-in-github",
        "colab_type": "text"
      },
      "source": [
        "<a href=\"https://colab.research.google.com/github/spencer18001/Clustering-And-Dimensionality-Reduction---Deep-Dive/blob/main/10/10_note_part2.ipynb\" target=\"_parent\"><img src=\"https://colab.research.google.com/assets/colab-badge.svg\" alt=\"Open In Colab\"/></a>"
      ]
    },
    {
      "cell_type": "markdown",
      "source": [
        "## Density Based Clustering Part2"
      ],
      "metadata": {
        "id": "yhj8mdMPWDTt"
      },
      "id": "yhj8mdMPWDTt"
    },
    {
      "cell_type": "markdown",
      "source": [
        "160. Density based clustering validation (DBCV) - part 1\n",
        "161. Density based clustering validation (DBCV) - part 2\n",
        "162. Demo: Implementing DBCV from scratch - part 1\n",
        "163. Demo: Implementing DBCV from scratch - part 2 + DBCV python function\n",
        "164. DBSCAN general guideliness\n",
        "165. Demo: Clustering digits (mnist784) with DBSCAN\n",
        "166. Demo: Clustering animals with DBSCAN (categorical data)\n",
        "167. HDBSCAN clustering algorithm - part 1\n",
        "168. HDBSCAN clustering algorithm - part 2\n",
        "169. HDBSCAN clustering algorithm - part 3"
      ],
      "metadata": {
        "id": "Jz7OGqSUba6s"
      },
      "id": "Jz7OGqSUba6s"
    },
    {
      "cell_type": "markdown",
      "source": [
        "#### Density based clustering validation (DBCV)"
      ],
      "metadata": {
        "id": "ZJavSW3vvNIl"
      },
      "id": "ZJavSW3vvNIl"
    },
    {
      "cell_type": "markdown",
      "source": [
        "core distance:\n",
        "\n",
        "$\\LARGE core\\_dist(o)=\\left(\\frac{\\sum_{i=2}^{n_i}\\left(\\frac{1}{dist(o, i)}\\right)^d}{n_i-1}\\right)^{-\\frac{1}{d}}$\n",
        "\n",
        "- (inverse) density 的估計\n",
        "- 鄰近 cluster point 的貢獻較大\n",
        "- 可與距離比較\n",
        "  - $KNN(o, 2) \\le core\\_dist(o) \\le KNN(o, n)$"
      ],
      "metadata": {
        "id": "JRF4Mf86v2bJ"
      },
      "id": "JRF4Mf86v2bJ"
    },
    {
      "cell_type": "markdown",
      "source": [
        "mutual reachability distance:\n",
        "\n",
        "$reach\\_dist(i, j)=max(core\\_dist(i), core\\_dist(j), dist(i, j))$\n",
        "\n",
        "- 考慮 density 的 point 之間的 symmetric 距離\n",
        "- reachability distance 小: $i, j$ 的 deisnty 高 && 距離近"
      ],
      "metadata": {
        "id": "AmjqeFVJv56w"
      },
      "id": "AmjqeFVJv56w"
    },
    {
      "cell_type": "markdown",
      "source": [
        "mutual reachability graph:\n",
        "- 針對每個 cluster, 以 mutual reachability distance 作為 edge weight 的 fully connected undirected graph"
      ],
      "metadata": {
        "id": "O3xj9LQEv7lf"
      },
      "id": "O3xj9LQEv7lf"
    },
    {
      "cell_type": "markdown",
      "source": [
        "mutual reachability graph minimum spanning tree:\n",
        "- 捕捉了 cluster 的 connectivity (形狀、density)\n",
        "- internal node: degree > 1\n",
        "- internal edge: 端點不是 internal node\n",
        "- internal edge 描述了 cluster 的主幹"
      ],
      "metadata": {
        "id": "Q1wUej7Wv9FM"
      },
      "id": "Q1wUej7Wv9FM"
    },
    {
      "cell_type": "markdown",
      "source": [
        "cluster density sparseness:\n",
        "- 針對每個 cluster, 計算 MST 中 internal edge 的最大 weight\n",
        "- cluster 內最低 density 的區域"
      ],
      "metadata": {
        "id": "yYN0nKlcv-g6"
      },
      "id": "yYN0nKlcv-g6"
    },
    {
      "cell_type": "markdown",
      "source": [
        "cluster density separation:\n",
        "- $density\\_separation(C_i, C_j)$: cluster $C_i$ 和 $C_j$ 的 MST 的 internal node 間的最小 reachability distance\n",
        "  - cluster $C_i$ 和 $C_j$ 間最高 density 的區域\n",
        "- 針對每個 cluster $C_i$, 計算 $\\min_{1 \\le j \\le k, j \\neq i} density\\_separation(C_i, C_j)$"
      ],
      "metadata": {
        "id": "aZ9Q4KUTv_qG"
      },
      "id": "aZ9Q4KUTv_qG"
    },
    {
      "cell_type": "markdown",
      "source": [
        "cluster validation coefficient:\n",
        "\n",
        "$\\Large clust\\_val\\_coef=\\frac{clust\\_density\\_separation-clust\\_density\\_sparseness}{max(clust\\_density\\_separation, clust\\_density\\_sparseness)}$\n",
        "- range: $[-1, 1]$"
      ],
      "metadata": {
        "id": "-03fNxJ8wAue"
      },
      "id": "-03fNxJ8wAue"
    },
    {
      "cell_type": "markdown",
      "source": [
        "DBCV:\n",
        "\n",
        "$\\Large \\sum_{i}\\left(\\frac{number\\_of\\_points\\_in\\_cluster_j}{total\\_number\\_of\\_points} \\times cluster\\_validation\\_coef_i\\right)$\n",
        "- range: $[-1, 1]$"
      ],
      "metadata": {
        "id": "9jNXRbURj9oI"
      },
      "id": "9jNXRbURj9oI"
    },
    {
      "cell_type": "markdown",
      "source": [
        "#### DBSCAN 小結"
      ],
      "metadata": {
        "id": "-H2d8zyZ7xpD"
      },
      "id": "-H2d8zyZ7xpD"
    },
    {
      "cell_type": "markdown",
      "source": [
        "mnist784 clustering 結果"
      ],
      "metadata": {
        "id": "n8A3ghVF8Cvv"
      },
      "id": "n8A3ghVF8Cvv"
    },
    {
      "cell_type": "markdown",
      "source": [
        "categorical data (animals) clustering 結果"
      ],
      "metadata": {
        "id": "cj9NoXsO8ZV1"
      },
      "id": "cj9NoXsO8ZV1"
    },
    {
      "cell_type": "markdown",
      "source": [
        "pros:"
      ],
      "metadata": {
        "id": "--UuVXAA7_8d"
      },
      "id": "--UuVXAA7_8d"
    },
    {
      "cell_type": "markdown",
      "source": [
        "cons:"
      ],
      "metadata": {
        "id": "7_EOlEWI8Btp"
      },
      "id": "7_EOlEWI8Btp"
    },
    {
      "cell_type": "markdown",
      "source": [
        "#### HDBSCAN"
      ],
      "metadata": {
        "id": "gFJok14Z6-uI"
      },
      "id": "gFJok14Z6-uI"
    },
    {
      "cell_type": "markdown",
      "source": [
        "HDBSCAN (hierarchical density-based spatial clustering of applications with noise)\n",
        "- 階層式 (層級對應不同 density) 的 density based clustering 方法\n",
        "- 發現 cluster 和 noise"
      ],
      "metadata": {
        "id": "QxnD3fIl7Ocb"
      },
      "id": "QxnD3fIl7Ocb"
    },
    {
      "cell_type": "markdown",
      "source": [
        "core distances:\n",
        "\n",
        "$core\\_dist(o)=KNN(o, k)$\n",
        "\n",
        "- (inverse) density 的估計"
      ],
      "metadata": {
        "id": "1q1HXUde7cvN"
      },
      "id": "1q1HXUde7cvN"
    },
    {
      "cell_type": "markdown",
      "source": [
        "mutual reachability distance:\n",
        "\n",
        "$reach\\_dist(i, j)=max(core\\_dist(i), core\\_dist(j), dist(i, j))$\n",
        "\n",
        "- 考慮 density 的 point 之間的 symmetric 距離\n",
        "- reachability distance 小: $i, j$ 的 deisnty 高 && 距離近"
      ],
      "metadata": {
        "id": "pmfS93Xl7e11"
      },
      "id": "pmfS93Xl7e11"
    },
    {
      "cell_type": "markdown",
      "source": [
        "mutual reachability graph:\n",
        "- 針對每個 cluster, 以 mutual reachability distance 作為 edge weight 的 fully connected undirected graph"
      ],
      "metadata": {
        "id": "9m-8tI26NReP"
      },
      "id": "9m-8tI26NReP"
    },
    {
      "cell_type": "markdown",
      "source": [
        "mutual reachability graph minimum spanning tree:\n",
        "- 捕捉了 cluster 的 connectivity (形狀、density)\n",
        "- 描述了 cluster 的主幹"
      ],
      "metadata": {
        "id": "yVCxP-LeNRec"
      },
      "id": "yVCxP-LeNRec"
    },
    {
      "cell_type": "markdown",
      "source": [
        "building the dendrogram"
      ],
      "metadata": {
        "id": "l2nBCshWOT2I"
      },
      "id": "l2nBCshWOT2I"
    },
    {
      "cell_type": "markdown",
      "source": [
        "condensing the dendrogram"
      ],
      "metadata": {
        "id": "jHNDbxtMOUU3"
      },
      "id": "jHNDbxtMOUU3"
    },
    {
      "cell_type": "markdown",
      "source": [
        "selecting clusters"
      ],
      "metadata": {
        "id": "sZ-dAi2ZOV2C"
      },
      "id": "sZ-dAi2ZOV2C"
    },
    {
      "cell_type": "markdown",
      "source": [
        "cluster stability"
      ],
      "metadata": {
        "id": "FXgmmi5zOaOi"
      },
      "id": "FXgmmi5zOaOi"
    },
    {
      "cell_type": "markdown",
      "source": [
        "excess of mass"
      ],
      "metadata": {
        "id": "xDQwnEdfOXQG"
      },
      "id": "xDQwnEdfOXQG"
    },
    {
      "cell_type": "markdown",
      "source": [
        "cluster_selection_epsilon"
      ],
      "metadata": {
        "id": "K0QN1sdrPnuM"
      },
      "id": "K0QN1sdrPnuM"
    },
    {
      "cell_type": "markdown",
      "source": [
        "leaf method"
      ],
      "metadata": {
        "id": "UYSrpmVsPpAe"
      },
      "id": "UYSrpmVsPpAe"
    }
  ],
  "metadata": {
    "kernelspec": {
      "display_name": "Python 3 (ipykernel)",
      "language": "python",
      "name": "python3"
    },
    "language_info": {
      "codemirror_mode": {
        "name": "ipython",
        "version": 3
      },
      "file_extension": ".py",
      "mimetype": "text/x-python",
      "name": "python",
      "nbconvert_exporter": "python",
      "pygments_lexer": "ipython3",
      "version": "3.11.3"
    },
    "colab": {
      "provenance": [],
      "toc_visible": true,
      "include_colab_link": true
    }
  },
  "nbformat": 4,
  "nbformat_minor": 5
}