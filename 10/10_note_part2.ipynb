{
  "cells": [
    {
      "cell_type": "markdown",
      "metadata": {
        "id": "view-in-github",
        "colab_type": "text"
      },
      "source": [
        "<a href=\"https://colab.research.google.com/github/spencer18001/Clustering-And-Dimensionality-Reduction---Deep-Dive/blob/main/10/10_note_part2.ipynb\" target=\"_parent\"><img src=\"https://colab.research.google.com/assets/colab-badge.svg\" alt=\"Open In Colab\"/></a>"
      ]
    },
    {
      "cell_type": "markdown",
      "source": [
        "## Density Based Clustering Part2"
      ],
      "metadata": {
        "id": "yhj8mdMPWDTt"
      },
      "id": "yhj8mdMPWDTt"
    },
    {
      "cell_type": "markdown",
      "source": [
        "160. Density based clustering validation (DBCV) - part 1\n",
        "161. Density based clustering validation (DBCV) - part 2\n",
        "162. Demo: Implementing DBCV from scratch - part 1\n",
        "163. Demo: Implementing DBCV from scratch - part 2 + DBCV python function\n",
        "164. DBSCAN general guideliness\n",
        "165. Demo: Clustering digits (mnist784) with DBSCAN\n",
        "166. Demo: Clustering animals with DBSCAN (categorical data)\n",
        "167. HDBSCAN clustering algorithm - part 1\n",
        "168. HDBSCAN clustering algorithm - part 2\n",
        "169. HDBSCAN clustering algorithm - part 3"
      ],
      "metadata": {
        "id": "Jz7OGqSUba6s"
      },
      "id": "Jz7OGqSUba6s"
    },
    {
      "cell_type": "markdown",
      "source": [
        "#### Density based clustering validation (DBCV)"
      ],
      "metadata": {
        "id": "ZJavSW3vvNIl"
      },
      "id": "ZJavSW3vvNIl"
    },
    {
      "cell_type": "markdown",
      "source": [
        "core distance"
      ],
      "metadata": {
        "id": "JRF4Mf86v2bJ"
      },
      "id": "JRF4Mf86v2bJ"
    },
    {
      "cell_type": "markdown",
      "source": [
        "mutual reachability distance"
      ],
      "metadata": {
        "id": "AmjqeFVJv56w"
      },
      "id": "AmjqeFVJv56w"
    },
    {
      "cell_type": "markdown",
      "source": [
        "mutual reachability graph"
      ],
      "metadata": {
        "id": "O3xj9LQEv7lf"
      },
      "id": "O3xj9LQEv7lf"
    },
    {
      "cell_type": "markdown",
      "source": [
        "mutual reachability graph minimum spanning tree"
      ],
      "metadata": {
        "id": "Q1wUej7Wv9FM"
      },
      "id": "Q1wUej7Wv9FM"
    },
    {
      "cell_type": "markdown",
      "source": [
        "cluster density sparseness"
      ],
      "metadata": {
        "id": "yYN0nKlcv-g6"
      },
      "id": "yYN0nKlcv-g6"
    },
    {
      "cell_type": "markdown",
      "source": [
        "cluster density separation"
      ],
      "metadata": {
        "id": "aZ9Q4KUTv_qG"
      },
      "id": "aZ9Q4KUTv_qG"
    },
    {
      "cell_type": "markdown",
      "source": [
        "cluster validation coefficient"
      ],
      "metadata": {
        "id": "-03fNxJ8wAue"
      },
      "id": "-03fNxJ8wAue"
    }
  ],
  "metadata": {
    "kernelspec": {
      "display_name": "Python 3 (ipykernel)",
      "language": "python",
      "name": "python3"
    },
    "language_info": {
      "codemirror_mode": {
        "name": "ipython",
        "version": 3
      },
      "file_extension": ".py",
      "mimetype": "text/x-python",
      "name": "python",
      "nbconvert_exporter": "python",
      "pygments_lexer": "ipython3",
      "version": "3.11.3"
    },
    "colab": {
      "provenance": [],
      "toc_visible": true,
      "include_colab_link": true
    }
  },
  "nbformat": 4,
  "nbformat_minor": 5
}