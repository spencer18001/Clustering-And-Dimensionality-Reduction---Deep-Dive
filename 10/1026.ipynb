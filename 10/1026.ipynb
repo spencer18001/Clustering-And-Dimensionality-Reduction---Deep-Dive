{
 "cells": [
  {
   "cell_type": "markdown",
   "metadata": {},
   "source": [
    "## HDBSCAN for mixed data"
   ]
  },
  {
   "cell_type": "code",
   "execution_count": null,
   "metadata": {},
   "outputs": [],
   "source": [
    "import random\n",
    "\n",
    "import numpy as np\n",
    "import pandas as pd\n",
    "\n",
    "from sklearn.preprocessing import RobustScaler\n",
    "from sklearn.metrics import silhouette_score\n",
    "\n",
    "import seaborn as sns\n",
    "import matplotlib.pyplot as plt\n",
    "\n",
    "import umap\n",
    "import umap.plot as uplot\n",
    "\n",
    "import hdbscan\n",
    "import gower\n",
    "\n",
    "random.seed(42)\n",
    "sns.set_theme()"
   ]
  },
  {
   "attachments": {},
   "cell_type": "markdown",
   "metadata": {},
   "source": [
    "### The dataset \n",
    "\n",
    "**Used Phones & Tablets Pricing Dataset**\n",
    "\n",
    "This dataset provides comprehensive details on various used mobile phones and tablets.\n",
    "\n",
    "1. **device_brand**: The manufacturer or brand name of the device.\n",
    "   \n",
    "2. **os**: The operating system running on the device.\n",
    "3. **screen_size**: The size of the device's screen in cm.\n",
    "4. **4g**: Boolean indicating whether the device supports 4G connectivity.\n",
    "5. **5g**: Boolean indicating whether the device supports 5G connectivity.\n",
    "6. **rear_camera_mp**: The resolution of the rear camera, measured in megapixels.\n",
    "7. **front_camera_mp**: The resolution of the front camera, also in megapixels.\n",
    "8. **internal_memory**: Storage capacity of the device in gigabytes.\n",
    "9.  **ram**: The amount of random-access memory (RAM) in gigabytes.\n",
    "10. **battery**: Battery capacity, typically measured in milliampere-hours (mAh).\n",
    "11. **weight**: The weight of the device, usually in grams.\n",
    "12. **release_year**: The year the device was released.\n",
    "13. **days_used**: The number of days the device has been used.\n",
    "14. **normalized_used_price**: The price of the used device, normalized to a standard scale.\n",
    "15. **normalized_new_price**: The original price of the device when new, normalized to a standard scale.\n",
    "\n",
    "Citation: https://www.kaggle.com/datasets/ahsan81/used-handheld-device-data/data"
   ]
  },
  {
   "cell_type": "code",
   "execution_count": null,
   "metadata": {},
   "outputs": [],
   "source": [
    "# Load phone data\n",
    "phone_df = pd.read_csv('data/phone_data/used_device_data.csv')\n",
    "phone_df.head()"
   ]
  },
  {
   "cell_type": "code",
   "execution_count": null,
   "metadata": {},
   "outputs": [],
   "source": [
    "phone_df.shape"
   ]
  },
  {
   "cell_type": "code",
   "execution_count": null,
   "metadata": {},
   "outputs": [],
   "source": [
    "# Get feature info\n",
    "phone_df.info()"
   ]
  },
  {
   "cell_type": "code",
   "execution_count": null,
   "metadata": {},
   "outputs": [],
   "source": [
    "# Find missing values\n",
    "phone_df.isna().sum(axis=0)"
   ]
  },
  {
   "cell_type": "code",
   "execution_count": null,
   "metadata": {},
   "outputs": [],
   "source": [
    "phone_df[phone_df.isna().sum(axis=1) > 0].head(20)"
   ]
  },
  {
   "cell_type": "code",
   "execution_count": null,
   "metadata": {},
   "outputs": [],
   "source": [
    "# Drop missing values\n",
    "phone_df = phone_df.dropna()"
   ]
  },
  {
   "cell_type": "code",
   "execution_count": null,
   "metadata": {},
   "outputs": [],
   "source": [
    "# Get only the categorical columns\n",
    "cat_cols = phone_df.select_dtypes(include=['object', 'bool']).columns\n",
    "\n",
    "# Determine the number of rows needed for the plot\n",
    "n_rows = int(np.ceil(len(cat_cols) / 2))\n",
    "\n",
    "# Create a figure and axes with subplots()\n",
    "fig, axs = plt.subplots(n_rows, 2, figsize=(15, 5*n_rows)) # Adjust the size as necessary\n",
    "axs = axs.ravel()  # this makes it easier to iterate over the axes\n",
    "\n",
    "# Loop through the columns and create the bar plots\n",
    "for i, col in enumerate(cat_cols):\n",
    "    sns.countplot(x=col, data=phone_df, ax=axs[i])\n",
    "    axs[i].set_title(f'Bar plot of {col}')\n",
    "    axs[i].tick_params(axis='x', rotation=75)  # Optional: only if x-tick labels are long\n",
    "\n",
    "# Remove any unused subplots\n",
    "if len(cat_cols) % 2:\n",
    "    fig.delaxes(axs[-1])\n",
    "\n",
    "# \n",
    "plt.tight_layout()\n",
    "plt.show()"
   ]
  },
  {
   "cell_type": "code",
   "execution_count": null,
   "metadata": {},
   "outputs": [],
   "source": [
    "# Plot numerical features\n",
    "_ = phone_df.hist(figsize=(10,10))"
   ]
  },
  {
   "cell_type": "code",
   "execution_count": null,
   "metadata": {},
   "outputs": [],
   "source": [
    "# We will not use price for clustering since we want \n",
    "# to cluster based on phone characteristics\n",
    "original_phone_df = phone_df.copy()\n",
    "phone_df = phone_df.drop(columns=['normalized_used_price', 'normalized_new_price'])"
   ]
  },
  {
   "cell_type": "code",
   "execution_count": null,
   "metadata": {},
   "outputs": [],
   "source": [
    "numeric_col_names = phone_df.select_dtypes(include=[np.number]).columns.tolist()\n",
    "\n",
    "phone_df[numeric_col_names] = RobustScaler().fit_transform(phone_df[numeric_col_names])\n",
    "_ = phone_df.hist(figsize=(10,10))"
   ]
  },
  {
   "attachments": {},
   "cell_type": "markdown",
   "metadata": {},
   "source": [
    "### HDBSCAN clustering"
   ]
  },
  {
   "cell_type": "code",
   "execution_count": null,
   "metadata": {},
   "outputs": [],
   "source": [
    "categ_cool_bool = [col in cat_cols for col in phone_df.columns]\n",
    "\n",
    "# Find gower distance\n",
    "dist_matrix = gower.gower_matrix(phone_df, cat_features=categ_cool_bool)\n",
    "\n",
    "# Umap embedding\n",
    "game_umap = umap.UMAP(metric='precomputed', n_neighbors=30, min_dist=0.3).fit(dist_matrix)\n",
    "\n",
    "uplot.points(game_umap)"
   ]
  },
  {
   "cell_type": "code",
   "execution_count": null,
   "metadata": {},
   "outputs": [],
   "source": [
    "# Run HDDBSCAN \n",
    "clusterer = hdbscan.HDBSCAN(min_samples=10, min_cluster_size=30, gen_min_span_tree=True, metric='precomputed')\n",
    "clusterer.fit(dist_matrix.astype(np.double))\n",
    "\n",
    "np.unique(clusterer.labels_, return_counts=True)"
   ]
  },
  {
   "cell_type": "code",
   "execution_count": null,
   "metadata": {},
   "outputs": [],
   "source": [
    "# Evaluate the clustering\n",
    "dbcv = hdbscan.validity.validity_index(\n",
    "    dist_matrix.astype(np.double), \n",
    "    labels=clusterer.labels_, \n",
    "    metric='precomputed', \n",
    "    d = phone_df.shape[1],\n",
    "    per_cluster_scores=True\n",
    ")\n",
    "\n",
    "non_noise_idx = np.where(clusterer.labels_!=-1)[0]\n",
    "\n",
    "sil_score = silhouette_score(\n",
    "    dist_matrix[non_noise_idx,:][:, non_noise_idx],\n",
    "    clusterer.labels_[non_noise_idx],\n",
    "    metric='precomputed'\n",
    ")\n",
    "\n",
    "print('DBCV : {}'.format(dbcv[0]))\n",
    "print('Silouethe : {}'.format(sil_score))\n",
    "\n",
    "uplot.points(game_umap, labels=clusterer.labels_)"
   ]
  },
  {
   "cell_type": "code",
   "execution_count": null,
   "metadata": {},
   "outputs": [],
   "source": [
    "from ch_10_funcs import plot_silouethes_dens\n",
    "\n",
    "plot_silouethes_dens(\n",
    "    data_df = dist_matrix.astype(np.double),\n",
    "    clusters=clusterer.labels_ ,\n",
    "    distance_measure='precomputed',\n",
    "    figsize=(12,20),\n",
    ")"
   ]
  },
  {
   "cell_type": "code",
   "execution_count": null,
   "metadata": {},
   "outputs": [],
   "source": [
    "pd.DataFrame(dbcv[1])"
   ]
  },
  {
   "attachments": {},
   "cell_type": "markdown",
   "metadata": {},
   "source": [
    "### Characterize clusters"
   ]
  },
  {
   "cell_type": "code",
   "execution_count": null,
   "metadata": {},
   "outputs": [],
   "source": [
    "# Use original features, remove noise\n",
    "numeric_col_names = original_phone_df.select_dtypes(include=[np.number]).columns.tolist()\n",
    "original_phone_df['cluster'] = clusterer.labels_\n",
    "original_phone_df = original_phone_df[original_phone_df['cluster'] != -1]"
   ]
  },
  {
   "cell_type": "code",
   "execution_count": null,
   "metadata": {},
   "outputs": [],
   "source": [
    "# Plot features\n",
    "for feature in original_phone_df.columns:\n",
    "    \n",
    "    if feature != 'cluster':\n",
    "    \n",
    "        if feature in numeric_col_names:\n",
    "            \n",
    "            plt.figure(figsize=(14, 6))\n",
    "            sns.boxplot(original_phone_df, x='cluster', y=feature)\n",
    "            plt.title(feature)\n",
    "            \n",
    "        else:\n",
    "            \n",
    "            proportions = original_phone_df.groupby(\n",
    "                'cluster'\n",
    "            )[feature].value_counts(\n",
    "                normalize=True\n",
    "            ).unstack()\n",
    "                    \n",
    "            # Create stacked bar plot\n",
    "            ax = proportions.plot(kind='bar', stacked=True, figsize=(14, 6))\n",
    "            plt.title(f'Cluster distribution for {feature}')\n",
    "            plt.ylabel('Proportion')\n",
    "            \n",
    "            if proportions.shape[1] > 15:\n",
    "                \n",
    "                # Define hatch patterns\n",
    "                patterns = [\"|\" , \"\\\\\" , \"/\" , \"+\" , \".\", \"*\",\"x\", \"o\"]\n",
    "\n",
    "\n",
    "                # Apply hatch patterns\n",
    "                for i, bar_container in enumerate(ax.containers):\n",
    "                    hatch = patterns[i % len(patterns)]  # Cycle through patterns\n",
    "                    for bar in bar_container:\n",
    "                        bar.set_hatch(hatch)\n",
    "\n",
    "            # Add legend\n",
    "            plt.legend(title=feature, bbox_to_anchor=(1.05, 1), loc='upper left')\n",
    "\n",
    "            # Get category labels\n",
    "            category_labels = proportions.columns.tolist()[::-1]\n",
    "            plt.show()"
   ]
  }
 ],
 "metadata": {
  "kernelspec": {
   "display_name": "test_env_2",
   "language": "python",
   "name": "python3"
  },
  "language_info": {
   "codemirror_mode": {
    "name": "ipython",
    "version": 3
   },
   "file_extension": ".py",
   "mimetype": "text/x-python",
   "name": "python",
   "nbconvert_exporter": "python",
   "pygments_lexer": "ipython3",
   "version": "3.11.3"
  },
  "orig_nbformat": 4
 },
 "nbformat": 4,
 "nbformat_minor": 2
}
