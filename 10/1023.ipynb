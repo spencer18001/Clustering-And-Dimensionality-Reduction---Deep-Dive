{
 "cells": [
  {
   "cell_type": "markdown",
   "id": "22b2c294",
   "metadata": {},
   "source": [
    "## HDBSCAN on digits and iris"
   ]
  },
  {
   "cell_type": "code",
   "execution_count": 2,
   "id": "ed61991b",
   "metadata": {},
   "outputs": [],
   "source": [
    "# !{sys.executable} -m pip install hdbscan\n",
    "import pandas as pd\n",
    "import numpy as np\n",
    "\n",
    "import seaborn as sns\n",
    "import matplotlib.pyplot as plt\n",
    "\n",
    "import hdbscan\n",
    "from hdbscan.validity import validity_index\n",
    "\n",
    "import umap\n",
    "import umap.plot as uplot\n",
    "from sklearn.datasets import fetch_openml, load_iris\n",
    "from sklearn.metrics import silhouette_score\n",
    "from sklearn.metrics.cluster import adjusted_rand_score\n",
    "from sklearn.decomposition import PCA\n",
    "from kneed import KneeLocator\n",
    "\n",
    "sns.set_theme()"
   ]
  },
  {
   "attachments": {},
   "cell_type": "markdown",
   "id": "9c37d2a0",
   "metadata": {},
   "source": [
    "### Digits data"
   ]
  },
  {
   "cell_type": "code",
   "execution_count": null,
   "id": "af94b701",
   "metadata": {},
   "outputs": [],
   "source": [
    "# Load digits data\n",
    "mnist = fetch_openml('mnist_784', parser='auto')\n",
    "\n",
    "# Normalize digits data\n",
    "digits_data = mnist.data/255\n",
    "digit_labels = mnist.target\n",
    "\n",
    "# Subset the dataset\n",
    "digit_labels_df = pd.DataFrame(digit_labels)\n",
    "\n",
    "label_subset_df = digit_labels_df.groupby('class').head(2000)\n",
    "\n",
    "digits_data = digits_data.loc[label_subset_df.index, :].reset_index(drop=True)\n",
    "digit_labels = label_subset_df['class'].to_numpy()"
   ]
  },
  {
   "cell_type": "code",
   "execution_count": null,
   "id": "9647902f",
   "metadata": {},
   "outputs": [],
   "source": [
    "pca = PCA()\n",
    "pca.fit(digits_data)\n",
    "pca_transformed_data = pca.transform(digits_data)\n",
    "print('Number of PCA components {}'.format(pca_transformed_data.shape[1]))\n",
    "cumulative_explained_variance = np.cumsum(pca.explained_variance_ratio_)*100\n",
    "\n",
    "kneedle = KneeLocator(\n",
    "    range(len(cumulative_explained_variance)), \n",
    "    cumulative_explained_variance, \n",
    "    S=1.0, \n",
    "    curve=\"concave\", \n",
    "    direction=\"increasing\"\n",
    ")\n",
    "kneedle.plot_knee()"
   ]
  },
  {
   "cell_type": "code",
   "execution_count": null,
   "id": "cf85982d",
   "metadata": {},
   "outputs": [],
   "source": [
    "pca_dim_red = pca_transformed_data[:,:50]"
   ]
  },
  {
   "cell_type": "code",
   "execution_count": null,
   "id": "2f152221",
   "metadata": {},
   "outputs": [],
   "source": [
    "# Default values\n",
    "umap_obj = umap.UMAP()\n",
    "embedding = umap_obj.fit_transform(pca_dim_red)\n",
    "\n",
    "uplot.points(umap_obj, labels=digit_labels)"
   ]
  },
  {
   "cell_type": "code",
   "execution_count": null,
   "id": "8be9fe98",
   "metadata": {},
   "outputs": [],
   "source": [
    "def print_clustering_stats(clusterer, clust_data, data_labels):\n",
    "    \n",
    "    # Create reduced version of data (exclude noise)\n",
    "    np_labels = np.array(clusterer.labels_)\n",
    "    non_noise_idx = np.where(np_labels != -1)\n",
    "\n",
    "    non_noise_labels = np_labels[non_noise_idx]\n",
    "    clust_labels_sub = data_labels[non_noise_idx]\n",
    "    clust_data_sub = clust_data[non_noise_idx]\n",
    "    noise_size = np_labels.shape[0] - non_noise_labels.shape[0]\n",
    "    \n",
    "    print('ARI : {}'.format(adjusted_rand_score(np_labels, data_labels)))\n",
    "    print('ARI sub : {}'.format(adjusted_rand_score(non_noise_labels, clust_labels_sub)))\n",
    "    print('noise size : {}'.format(noise_size))\n",
    "    print('Silouethe : {}'.format(silhouette_score(clust_data, np_labels)))\n",
    "    print('Silouethe sub : {}'.format(silhouette_score(clust_data_sub, clust_labels_sub)))\n",
    "    print('DBCV : {}'.format(validity_index(clust_data, np_labels)))\n",
    "    "
   ]
  },
  {
   "cell_type": "code",
   "execution_count": null,
   "id": "fbb5887d",
   "metadata": {},
   "outputs": [],
   "source": [
    "clusterer = hdbscan.HDBSCAN(\n",
    "    min_samples=5, \n",
    "    min_cluster_size=100\n",
    ")\n",
    "clusterer.fit(pca_dim_red)\n",
    "\n",
    "print_clustering_stats(\n",
    "    clusterer=clusterer,\n",
    "    clust_data=pca_dim_red,\n",
    "    data_labels=digit_labels\n",
    ")\n",
    "\n",
    "uplot.points(umap_obj, labels=clusterer.labels_)"
   ]
  },
  {
   "cell_type": "code",
   "execution_count": null,
   "id": "79084a1d",
   "metadata": {},
   "outputs": [],
   "source": [
    "clusterer = hdbscan.HDBSCAN(\n",
    "    min_samples=1,\n",
    "    min_cluster_size=100,\n",
    "    metric='euclidean'\n",
    ")\n",
    "clusterer.fit(pca_dim_red)\n",
    "\n",
    "print_clustering_stats(\n",
    "    clusterer=clusterer,\n",
    "    clust_data=pca_dim_red,\n",
    "    data_labels=digit_labels\n",
    ")\n",
    "\n",
    "uplot.points(umap_obj, labels=clusterer.labels_)"
   ]
  },
  {
   "cell_type": "code",
   "execution_count": null,
   "id": "acb35510",
   "metadata": {},
   "outputs": [],
   "source": [
    "digits_data_rshp = np.reshape(digits_data, newshape=[digits_data.shape[0], 28, 28])\n",
    "\n",
    "for clust_i, clust_name in enumerate(np.unique(clusterer.labels_)):\n",
    "    \n",
    "    clust_samples = np.where(clusterer.labels_==clust_name)[0]\n",
    "    \n",
    "    nrows = 1\n",
    "    ncols = 6\n",
    "    fig, axs = plt.subplots(nrows, ncols, figsize=(12, 4*nrows))  # Adjust the size as needed\n",
    "\n",
    "    axs = axs.flatten()\n",
    "\n",
    "    for i, img_idx in enumerate(clust_samples[:6]):\n",
    "        axs[i].imshow(digits_data_rshp[img_idx], cmap=plt.cm.gray_r)\n",
    "    fig.suptitle('Cluster {}'.format(clust_i))"
   ]
  },
  {
   "cell_type": "code",
   "execution_count": null,
   "id": "26a17734",
   "metadata": {},
   "outputs": [],
   "source": [
    "clusterer = hdbscan.HDBSCAN(\n",
    "    min_samples=2,\n",
    "    min_cluster_size=100,\n",
    "    metric='euclidean',\n",
    "    cluster_selection_method='leaf'\n",
    ")\n",
    "clusterer.fit(pca_dim_red)\n",
    "\n",
    "print_clustering_stats(\n",
    "    clusterer=clusterer,\n",
    "    clust_data=pca_dim_red,\n",
    "    data_labels=digit_labels\n",
    ")\n",
    "\n",
    "uplot.points(umap_obj, labels=clusterer.labels_)"
   ]
  },
  {
   "cell_type": "markdown",
   "id": "8107fc55",
   "metadata": {},
   "source": [
    "### Iris data"
   ]
  },
  {
   "cell_type": "code",
   "execution_count": null,
   "id": "92d365bf",
   "metadata": {},
   "outputs": [],
   "source": [
    "# Load iris dataset\n",
    "iris = load_iris()\n",
    "\n",
    "# Load iris dataset\n",
    "iris_df = pd.DataFrame(\n",
    "    iris['data'],\n",
    "    columns=iris['feature_names']\n",
    ")\n",
    "\n",
    "numer_cols = iris_df.columns\n",
    "\n",
    "# Load iris labels\n",
    "iris_df['label'] = iris['target_names'][iris['target']]\n",
    "\n",
    "# Run PCA so we can show dataset in 2D space\n",
    "pca = PCA(n_components=2)\n",
    "pca_data = pca.fit_transform(iris_df[numer_cols].to_numpy())\n",
    "pca_data = np.column_stack([pca_data, iris_df['label'].to_numpy()])\n",
    "pca_df = pd.DataFrame(pca_data, columns=['PC1', 'PC2', 'label'])\n",
    "\n",
    "# Plot and colour based on reference label\n",
    "sns.scatterplot(pca_df, x='PC1', y='PC2', hue='label')\n",
    "plt.title('Scatterplot with true label')"
   ]
  },
  {
   "cell_type": "code",
   "execution_count": null,
   "id": "1343d4eb",
   "metadata": {},
   "outputs": [],
   "source": [
    "clusterer = hdbscan.HDBSCAN(\n",
    "    min_samples=2,\n",
    "    min_cluster_size=20,\n",
    "    metric='euclidean'\n",
    ")\n",
    "clusterer = clusterer.fit(iris_df[numer_cols].to_numpy())\n",
    "\n",
    "pca_df['label'] = clusterer.labels_\n",
    "\n",
    "print_clustering_stats(\n",
    "    clusterer=clusterer,\n",
    "    clust_data=iris_df[numer_cols].to_numpy(),\n",
    "    data_labels=iris_df['label'].to_numpy()\n",
    ")\n",
    "\n",
    "sns.scatterplot(pca_df, x='PC1', y='PC2', hue='label')\n",
    "plt.title('Scatterplot with true label')"
   ]
  },
  {
   "cell_type": "code",
   "execution_count": null,
   "id": "d4007c3f",
   "metadata": {},
   "outputs": [],
   "source": [
    "clusterer.single_linkage_tree_.plot(cmap='viridis', colorbar=True)"
   ]
  },
  {
   "cell_type": "code",
   "execution_count": null,
   "id": "2a710913",
   "metadata": {},
   "outputs": [],
   "source": [
    "clusterer = hdbscan.HDBSCAN(\n",
    "    min_samples=1,\n",
    "    min_cluster_size=30,\n",
    "    metric='euclidean',\n",
    "    cluster_selection_method='leaf',\n",
    ")\n",
    "clusterer = clusterer.fit(iris_df[numer_cols].to_numpy())\n",
    "\n",
    "pca_df['label'] = clusterer.labels_\n",
    "\n",
    "print_clustering_stats(\n",
    "    clusterer=clusterer,\n",
    "    clust_data=iris_df[numer_cols].to_numpy(),\n",
    "    data_labels=iris_df['label'].to_numpy()\n",
    ")\n",
    "\n",
    "sns.scatterplot(pca_df, x='PC1', y='PC2', hue='label')\n",
    "plt.title('Scatterplot with true label')"
   ]
  }
 ],
 "metadata": {
  "kernelspec": {
   "display_name": "Python 3 (ipykernel)",
   "language": "python",
   "name": "python3"
  },
  "language_info": {
   "codemirror_mode": {
    "name": "ipython",
    "version": 3
   },
   "file_extension": ".py",
   "mimetype": "text/x-python",
   "name": "python",
   "nbconvert_exporter": "python",
   "pygments_lexer": "ipython3",
   "version": "3.11.3"
  }
 },
 "nbformat": 4,
 "nbformat_minor": 5
}
