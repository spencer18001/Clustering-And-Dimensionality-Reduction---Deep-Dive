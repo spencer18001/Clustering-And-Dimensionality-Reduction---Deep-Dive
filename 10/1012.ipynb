{
 "cells": [
  {
   "cell_type": "markdown",
   "id": "5f338276",
   "metadata": {},
   "source": [
    "## DBCV custom implementation"
   ]
  },
  {
   "cell_type": "code",
   "execution_count": null,
   "id": "cb320bcb",
   "metadata": {},
   "outputs": [],
   "source": [
    "from itertools import combinations\n",
    "\n",
    "import pandas as pd\n",
    "import numpy as np\n",
    "\n",
    "import seaborn as sns\n",
    "import matplotlib.pyplot as plt\n",
    "\n",
    "from sklearn.cluster import DBSCAN\n",
    "from sklearn.cluster import KMeans\n",
    "from sklearn.metrics import silhouette_score\n",
    "from sklearn.neighbors import NearestNeighbors\n",
    "from sklearn.datasets import make_moons\n",
    "\n",
    "from scipy.stats import multivariate_normal\n",
    "from scipy.spatial.distance import pdist, squareform\n",
    "import igraph as ig\n",
    "\n",
    "import hdbscan\n",
    "import hdbscan.validity\n",
    "from kneed import KneeLocator\n",
    "\n",
    "sns.set_theme()\n",
    "plt.rcParams[\"image.cmap\"] = \"tab10\"\n"
   ]
  },
  {
   "attachments": {},
   "cell_type": "markdown",
   "id": "3a79044b",
   "metadata": {},
   "source": [
    "### Create the  dataset"
   ]
  },
  {
   "cell_type": "code",
   "execution_count": null,
   "id": "b6e756bf",
   "metadata": {
    "scrolled": false
   },
   "outputs": [],
   "source": [
    "# Create moon dataset\n",
    "X, y = make_moons(n_samples=200,  shuffle=True, noise=0.06, random_state=12)\n",
    "X[:,1][y==0] += 0.05\n",
    "\n",
    "# Plot moon dataset\n",
    "plt.figure(figsize=(9,7))\n",
    "plt.scatter(X[:, 0], X[:, 1], s=3)\n",
    "plt.title('Moons ataset')\n",
    "plt.show()"
   ]
  },
  {
   "cell_type": "code",
   "execution_count": null,
   "id": "3b63113d",
   "metadata": {},
   "outputs": [],
   "source": [
    "# Cluster moons with k-means\n",
    "kmeans = KMeans(n_clusters=2, random_state=0, n_init='auto')\n",
    "kmeans = kmeans.fit(X)"
   ]
  },
  {
   "cell_type": "code",
   "execution_count": null,
   "id": "e5cfebcd",
   "metadata": {},
   "outputs": [],
   "source": [
    "CLR_DCT = {\n",
    "    0: 'red',\n",
    "    1: 'blue',\n",
    "    2: 'green',\n",
    "    3: 'yellow',\n",
    "    -1:'black'\n",
    "}"
   ]
  },
  {
   "cell_type": "code",
   "execution_count": null,
   "id": "5c0be52d",
   "metadata": {},
   "outputs": [],
   "source": [
    "# Plot moon dataset\n",
    "plt.figure(figsize=(9,7))\n",
    "point_colors = [CLR_DCT[label] for label in kmeans.labels_]\n",
    "plt.scatter(X[:, 0], X[:, 1], s=3, c=point_colors)\n",
    "plt.title('Moons dataset')\n",
    "plt.show()"
   ]
  },
  {
   "cell_type": "code",
   "execution_count": null,
   "id": "722b3a46",
   "metadata": {},
   "outputs": [],
   "source": [
    "silhouette_score(X, kmeans.labels_)"
   ]
  },
  {
   "cell_type": "code",
   "execution_count": null,
   "id": "1a38f26f",
   "metadata": {},
   "outputs": [],
   "source": [
    "np.meshgrid([2,4,6], [2,4,6])"
   ]
  },
  {
   "cell_type": "code",
   "execution_count": null,
   "id": "62543c8b",
   "metadata": {},
   "outputs": [],
   "source": [
    "pd.DataFrame(np.max(np.meshgrid([2,4,6], [2,4,6]), axis=0))"
   ]
  },
  {
   "attachments": {},
   "cell_type": "markdown",
   "id": "96e8eb39",
   "metadata": {},
   "source": [
    "### DBCV\n"
   ]
  },
  {
   "cell_type": "code",
   "execution_count": null,
   "id": "30e71275",
   "metadata": {},
   "outputs": [],
   "source": [
    "# Get dbscan labels\n",
    "labels = kmeans.labels_\n",
    "\n",
    "# Choose metric\n",
    "DIST_FUNCTION = \"euclidean\"\n",
    "NUM_FEATURES = 2\n",
    "IGNORE_CORE = False\n",
    "\n",
    "# Check if distance function is precomputed\n",
    "if DIST_FUNCTION == \"precomputed\":\n",
    "    n_samples = np.shape(X)[0]\n",
    "    n_features = DIST_FUNCTION\n",
    "    dists = X\n",
    "else:\n",
    "    n_samples = np.shape(X)[0]\n",
    "    n_features = np.shape(X)[1]\n",
    "    dists = pdist(X, DIST_FUNCTION)\n",
    "    dists = squareform(dists)"
   ]
  },
  {
   "cell_type": "code",
   "execution_count": null,
   "id": "d3e667bb",
   "metadata": {},
   "outputs": [],
   "source": [
    "# Core distance calculation\n",
    "\n",
    "# Array that will be used to store core distances\n",
    "core_dists = np.empty(n_samples)\n",
    "\n",
    "# Dict for cluster index\n",
    "clust_point_dict = {}\n",
    "\n",
    "# Get all unique clusters\n",
    "unique_clusts = list(np.unique(labels))\n",
    "unique_clusts = [clust for clust in unique_clusts if clust!=-1]\n",
    "\n",
    "if not IGNORE_CORE:\n",
    "\n",
    "    # Iterate through unique labels - all calculations\n",
    "    # in a single loop iteration correspond to single cluster\n",
    "    for label in unique_clusts:\n",
    "        \n",
    "        # Get mask corresponding only to\n",
    "        # datapoints from current cluster\n",
    "        clust_ids = np.where(labels==label)[0]\n",
    "\n",
    "        # Add all cluster points to dict\n",
    "        clust_point_dict[label] = clust_ids\n",
    "\n",
    "        # Get number of points for cluster\n",
    "        num_clust_points = clust_ids.shape[0]\n",
    "\n",
    "        # Calculate core distances based on distances to\n",
    "        # nearest neighbors\n",
    "        clust_core_dists = dists[np.ix_(clust_ids, clust_ids)]\n",
    "\n",
    "        clust_core_dists[clust_core_dists != 0] = np.power(\n",
    "            clust_core_dists[clust_core_dists != 0],\n",
    "            -n_features\n",
    "        )\n",
    "\n",
    "        clust_core_dists = np.sum(clust_core_dists, axis=1)/(num_clust_points - 1)\n",
    "        clust_core_dists = np.power(clust_core_dists, -1/n_features)\n",
    "\n",
    "        # Store core dists\n",
    "        core_dists[clust_ids] = clust_core_dists\n",
    "\n",
    "        \n",
    "    # Create mutual reachibility distance matrix\n",
    "    max_core_dist = np.max(\n",
    "        np.meshgrid(core_dists, core_dists), \n",
    "        axis=0\n",
    "    )\n",
    "    \n",
    "    mut_reach_dist = np.max(\n",
    "        [dists, max_core_dist], \n",
    "        axis=0\n",
    "    )\n",
    "    \n",
    "else:\n",
    "    \n",
    "    for label in unique_clusts:\n",
    "        \n",
    "        clust_ids = np.where(labels==label)[0]\n",
    "    \n",
    "        clust_point_dict[label] = clust_ids\n",
    "\n",
    "    mut_reach_dist = dists"
   ]
  },
  {
   "cell_type": "code",
   "execution_count": null,
   "id": "41184bb6",
   "metadata": {},
   "outputs": [],
   "source": [
    "# Cluster density sparseness\n",
    "\n",
    "# Dict to store density sparseness of a cluster\n",
    "cluster_dens_spars = {}\n",
    "\n",
    "# Dict to store cluster internal nodes\n",
    "cluster_internal_nodes = {}\n",
    "\n",
    "# In this loop sparseness of a cluster and \n",
    "# internal nodes are obtained\n",
    "for label in unique_clusts:\n",
    "        \n",
    "    # Get index of all points from current cluster\n",
    "    point_idx = clust_point_dict[label]\n",
    "    \n",
    "    # Get reachibility distances for points in\n",
    "    # current cluster\n",
    "    clust_mut_reach_dist = mut_reach_dist[np.ix_(point_idx, point_idx)].copy()\n",
    "    np.fill_diagonal(clust_mut_reach_dist, 0)\n",
    "        \n",
    "    g = ig.Graph.Weighted_Adjacency(clust_mut_reach_dist, mode='undirected')\n",
    "\n",
    "    # Find the minimum spanning tree\n",
    "    mst = g.spanning_tree(weights=g.es[\"weight\"])\n",
    "\n",
    "    mst_adj = mst.get_adjacency(attribute='weight')\n",
    "    curr_MST = np.array(mst_adj.data)\n",
    "    \n",
    "    # Calculate node degree\n",
    "    node_degree = np.array((curr_MST>0).sum(axis=0)).flatten()\n",
    "    \n",
    "    # Find index of all internal nodes\n",
    "    # (nodes with degree greater than 1)\n",
    "    intern_sub_idx = np.where(node_degree>1)[0]\n",
    "    \n",
    "    # Max edge weight in MST is density sparseness of a cluster\n",
    "    # Max edge is taken from set of internal edges\n",
    "    cluster_dens_spars[label] = (curr_MST[np.ix_(intern_sub_idx,intern_sub_idx)]).max()\n",
    "        \n",
    "    # Collect all internal nodes of a cluster\n",
    "    cluster_internal_nodes[label] = point_idx[intern_sub_idx]"
   ]
  },
  {
   "cell_type": "code",
   "execution_count": null,
   "id": "1da87553",
   "metadata": {},
   "outputs": [],
   "source": [
    "cluster_dens_spars"
   ]
  },
  {
   "cell_type": "code",
   "execution_count": null,
   "id": "8d88f00e",
   "metadata": {},
   "outputs": [],
   "source": [
    "# Cluster density separation\n",
    "\n",
    "# Get all cluster pairs\n",
    "clust_combs = list(combinations(unique_clusts, 2))\n",
    "\n",
    "# Dataframe to store density separation\n",
    "# between cluster pairs\n",
    "distance_df = pd.DataFrame(\n",
    "    np.full([len(unique_clusts), len(unique_clusts)], 0), \n",
    "    index=unique_clusts, \n",
    "    columns=unique_clusts)\n",
    "\n",
    "# Calculate density separation for \n",
    "# cluster pairs\n",
    "for clust_comb in clust_combs:\n",
    "    \n",
    "    # Get cluster ids\n",
    "    clust1 = clust_comb[0]\n",
    "    clust2 = clust_comb[1]\n",
    "    \n",
    "    # Get cluster internal nodes\n",
    "    clust1_points = cluster_internal_nodes[clust1]\n",
    "    clust2_points = cluster_internal_nodes[clust2]\n",
    "    \n",
    "    # Minimum reachability between clsuter internal nodes\n",
    "    # is cluster density separation\n",
    "    curr_clust_sep = (mut_reach_dist[np.ix_(clust2_points, clust1_points)]).min()\n",
    "    \n",
    "    # Write distance to symetrical distance matrix\n",
    "    distance_df.loc[clust1, clust2] = curr_clust_sep\n",
    "    distance_df.loc[clust2, clust1] = curr_clust_sep\n",
    "    "
   ]
  },
  {
   "cell_type": "code",
   "execution_count": null,
   "id": "52fad1e5",
   "metadata": {},
   "outputs": [],
   "source": [
    "distance_df"
   ]
  },
  {
   "cell_type": "code",
   "execution_count": null,
   "id": "dd6590f5",
   "metadata": {},
   "outputs": [],
   "source": [
    "# Calculate validity coefficient for all clusters\n",
    "cluster_vc = {}\n",
    "\n",
    "for label in unique_clusts:\n",
    "    \n",
    "    curr_vc_nom = distance_df[label].max() - cluster_dens_spars[label]\n",
    "    curr_vc_den = max(distance_df[label].max(), cluster_dens_spars[label])\n",
    "    \n",
    "    cluster_vc[label] = curr_vc_nom/curr_vc_den\n",
    "    \n",
    "\n",
    "# Final calculation\n",
    "final_res = 0\n",
    "\n",
    "for label in unique_clusts:\n",
    "    \n",
    "    final_res +=  cluster_vc[label] * (clust_point_dict[label].shape[0]/n_samples)\n",
    "    print('Validity index for cluster {} is {}'.format(label, cluster_vc[label]))\n",
    "    \n",
    "print('Mean validity index is {}'.format(final_res))"
   ]
  },
  {
   "cell_type": "code",
   "execution_count": null,
   "id": "e8057dc3",
   "metadata": {},
   "outputs": [],
   "source": [
    "# HDBSCAN libraru validity index\n",
    "hdbscan.validity.validity_index(\n",
    "    X=X, \n",
    "    labels=kmeans.labels_, \n",
    "    metric='euclidean', \n",
    "    per_cluster_scores=True\n",
    ")"
   ]
  },
  {
   "cell_type": "code",
   "execution_count": null,
   "id": "b1c6c9e3",
   "metadata": {},
   "outputs": [],
   "source": [
    "min_pts = X.shape[1] * 2\n",
    "\n",
    "nbrs = NearestNeighbors(n_neighbors=min_pts).fit(X)\n",
    "distances, _ = nbrs.kneighbors(X)\n",
    "\n",
    "sort_dist = np.sort(distances[:,-1])\n",
    "\n",
    "kneedle = KneeLocator(\n",
    "    range(sort_dist.shape[0]), \n",
    "    sort_dist, \n",
    "    S=1.0, \n",
    "    curve=\"convex\", \n",
    "    direction=\"increasing\"\n",
    ")\n",
    "kneedle.plot_knee()"
   ]
  },
  {
   "cell_type": "code",
   "execution_count": null,
   "id": "4fce02fb",
   "metadata": {},
   "outputs": [],
   "source": [
    "dbscan = DBSCAN(eps=0.175, min_samples=4)\n",
    "_ = dbscan.fit(X)\n",
    "\n",
    "\n",
    "colors = [CLR_DCT[label] for label in dbscan.labels_]\n",
    "\n",
    "plt.figure(figsize=(10,8))\n",
    "plt.scatter(X[:, 0], X[:, 1], s=4, c=colors)\n",
    "plt.title('K-means clustering')\n",
    "plt.show()\n"
   ]
  },
  {
   "cell_type": "code",
   "execution_count": null,
   "id": "265a3e22",
   "metadata": {},
   "outputs": [],
   "source": [
    "hdbscan.validity.validity_index(\n",
    "    X=X, \n",
    "    labels=dbscan.labels_, \n",
    "    metric='euclidean', \n",
    "    per_cluster_scores=True\n",
    ")"
   ]
  },
  {
   "attachments": {},
   "cell_type": "markdown",
   "id": "0ed19627",
   "metadata": {},
   "source": [
    "## Parallel and long clusters"
   ]
  },
  {
   "cell_type": "code",
   "execution_count": null,
   "id": "0cb5b42e",
   "metadata": {},
   "outputs": [],
   "source": [
    "# Create elongated clusters\n",
    "multivar = multivariate_normal(cov = [[1, 0.98],[0.98,1]], mean = [1,1.5])\n",
    "X1 = multivar.rvs(size = 500, random_state=1)\n",
    "\n",
    "multivar = multivariate_normal(cov = [[1, 0.98],[0.98,1]], mean = [0.5,3])\n",
    "X2 = multivar.rvs(size = 500, random_state=1)\n",
    "\n",
    "X = np.vstack([X1, X2])\n",
    "\n",
    "# Plot new clustering\n",
    "plt.figure()\n",
    "plt.scatter(X[:, 0], X[:, 1])\n",
    "plt.title('Dataset')\n",
    "plt.show()"
   ]
  },
  {
   "cell_type": "code",
   "execution_count": null,
   "id": "4152f166",
   "metadata": {},
   "outputs": [],
   "source": [
    "kmeans = KMeans(n_clusters=2, random_state=0, n_init='auto')\n",
    "kmeans.fit(X)\n",
    "\n",
    "plt.figure()\n",
    "plt.scatter(X[:, 0], X[:, 1], c=kmeans.labels_)\n",
    "plt.scatter(kmeans.cluster_centers_[:, 0], kmeans.cluster_centers_[:, 1], s=20, c='red')\n",
    "plt.title('Clustered dataset - K means')\n",
    "plt.show()"
   ]
  },
  {
   "cell_type": "code",
   "execution_count": null,
   "id": "acb43112",
   "metadata": {},
   "outputs": [],
   "source": [
    "# Identify MinPts\n",
    "min_pts = X.shape[1] * 2\n",
    "\n",
    "# Find distances to min_pts'th neighbor\n",
    "nbrs = NearestNeighbors(n_neighbors=min_pts).fit(X)\n",
    "distances, _ = nbrs.kneighbors(X)\n",
    "\n",
    "# Sort the distance to the min_pts'th neighbor\n",
    "sort_dist = np.sort(distances[:,-1])\n",
    "\n",
    "kneedle = KneeLocator(\n",
    "    range(sort_dist.shape[0]), \n",
    "    sort_dist, \n",
    "    S=1.0, \n",
    "    curve=\"convex\", \n",
    "    direction=\"increasing\"\n",
    ")\n",
    "kneedle.plot_knee()"
   ]
  },
  {
   "cell_type": "code",
   "execution_count": null,
   "id": "7b675f53",
   "metadata": {},
   "outputs": [],
   "source": [
    "# Cluster again\n",
    "dbscan_tun = DBSCAN(eps=0.4, min_samples=min_pts)\n",
    "_ = dbscan_tun.fit(X)\n",
    "\n",
    "plt.figure()\n",
    "plt.scatter(X[:, 0], X[:, 1], c=dbscan_tun.labels_)\n",
    "plt.title('Clustered dataset - DBSCAN after parameter tunning')\n",
    "plt.show()"
   ]
  },
  {
   "attachments": {},
   "cell_type": "markdown",
   "id": "be8601b2",
   "metadata": {},
   "source": [
    "### Silouethe scores"
   ]
  },
  {
   "cell_type": "code",
   "execution_count": null,
   "id": "2e3068ae",
   "metadata": {},
   "outputs": [],
   "source": [
    "silhouette_score(X, kmeans.labels_)"
   ]
  },
  {
   "cell_type": "code",
   "execution_count": null,
   "id": "572c133e",
   "metadata": {},
   "outputs": [],
   "source": [
    "silhouette_score(X, dbscan_tun.labels_)"
   ]
  },
  {
   "attachments": {},
   "cell_type": "markdown",
   "id": "a4be7707",
   "metadata": {},
   "source": [
    "### DBCV values"
   ]
  },
  {
   "cell_type": "code",
   "execution_count": null,
   "id": "deb18f2c",
   "metadata": {},
   "outputs": [],
   "source": [
    "hdbscan.validity.validity_index(X, dbscan_tun.labels_, metric='euclidean', per_cluster_scores=True)"
   ]
  },
  {
   "cell_type": "code",
   "execution_count": null,
   "id": "81d2b5d9",
   "metadata": {},
   "outputs": [],
   "source": [
    "hdbscan.validity.validity_index(X, kmeans.labels_, metric='euclidean', per_cluster_scores=True)"
   ]
  }
 ],
 "metadata": {
  "kernelspec": {
   "display_name": "Python 3 (ipykernel)",
   "language": "python",
   "name": "python3"
  },
  "language_info": {
   "codemirror_mode": {
    "name": "ipython",
    "version": 3
   },
   "file_extension": ".py",
   "mimetype": "text/x-python",
   "name": "python",
   "nbconvert_exporter": "python",
   "pygments_lexer": "ipython3",
   "version": "3.11.3"
  }
 },
 "nbformat": 4,
 "nbformat_minor": 5
}
