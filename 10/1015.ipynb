{
 "cells": [
  {
   "cell_type": "markdown",
   "id": "c7a6a3c6",
   "metadata": {},
   "source": [
    "## Clustering digits with DBSCAN"
   ]
  },
  {
   "cell_type": "code",
   "execution_count": null,
   "id": "228512dd",
   "metadata": {},
   "outputs": [],
   "source": [
    "import random\n",
    "\n",
    "import pandas as pd\n",
    "import numpy as np\n",
    "\n",
    "import seaborn as sns\n",
    "import matplotlib.pyplot as plt\n",
    "\n",
    "from sklearn.neighbors import NearestNeighbors\n",
    "from sklearn.cluster import DBSCAN\n",
    "from sklearn.metrics import silhouette_score\n",
    "from sklearn.datasets import fetch_openml\n",
    "from sklearn.metrics.cluster import adjusted_rand_score\n",
    "from sklearn.metrics.cluster import silhouette_score\n",
    "\n",
    "import umap\n",
    "import umap.plot as uplot\n",
    "\n",
    "import hdbscan\n",
    "import hdbscan.validity\n",
    "\n",
    "from kneed import KneeLocator\n",
    "\n",
    "from sklearn.decomposition import PCA\n",
    "\n",
    "random.seed(2)\n",
    "sns.set_theme()"
   ]
  },
  {
   "attachments": {},
   "cell_type": "markdown",
   "id": "183b708f",
   "metadata": {},
   "source": [
    "### Load the digit dataset"
   ]
  },
  {
   "cell_type": "code",
   "execution_count": null,
   "id": "c45be2fb",
   "metadata": {},
   "outputs": [],
   "source": [
    "# Load digits data\n",
    "mnist = fetch_openml('mnist_784', parser='auto')\n",
    "\n",
    "# Normalize digits data\n",
    "digits_data = mnist.data/255\n",
    "digit_labels = mnist.target\n",
    "\n",
    "# Subset the dataset\n",
    "digit_labels_df = pd.DataFrame(digit_labels)\n",
    "\n",
    "label_subset_df = digit_labels_df.groupby('class').head(2000)\n",
    "\n",
    "digits_data = digits_data.loc[label_subset_df.index, :].reset_index(drop=True)\n",
    "digit_labels = label_subset_df['class'].to_numpy()"
   ]
  },
  {
   "cell_type": "code",
   "execution_count": null,
   "id": "6c917e08",
   "metadata": {},
   "outputs": [],
   "source": [
    "digits_data.shape"
   ]
  },
  {
   "cell_type": "code",
   "execution_count": null,
   "id": "ea86f85d",
   "metadata": {},
   "outputs": [],
   "source": [
    "# Default values\n",
    "umap_obj = umap.UMAP()\n",
    "embedding = umap_obj.fit_transform(digits_data)\n",
    "\n",
    "uplot.points(umap_obj, labels=digit_labels)"
   ]
  },
  {
   "attachments": {},
   "cell_type": "markdown",
   "id": "3d21055b",
   "metadata": {},
   "source": [
    "### Dbscan - default parameter choosing methods"
   ]
  },
  {
   "cell_type": "code",
   "execution_count": null,
   "id": "6cd1ddce",
   "metadata": {},
   "outputs": [],
   "source": [
    "# Identify MinPts\n",
    "min_pts = int(np.log(digits_data.shape[0]))\n",
    "\n",
    "# Find distances to min_pts'th neighbor\n",
    "knn = NearestNeighbors()\n",
    "knn.fit(digits_data)\n",
    "distances, _ = knn.kneighbors(digits_data, n_neighbors=min_pts)\n",
    "\n",
    "\n",
    "# Sort the dsitances to min_pts'th neighbor\n",
    "sort_dist = np.sort(distances[:,-1])\n",
    "\n",
    "# Plot and search for the knee\n",
    "plt.plot(range(sort_dist.shape[0]), sort_dist)"
   ]
  },
  {
   "cell_type": "code",
   "execution_count": null,
   "id": "b708135e",
   "metadata": {},
   "outputs": [],
   "source": [
    "# Cluster again\n",
    "dbscan_tun = DBSCAN(eps=6, min_samples=min_pts)\n",
    "_ = dbscan_tun.fit(digits_data)\n",
    "\n",
    "np.unique(dbscan_tun.labels_)"
   ]
  },
  {
   "cell_type": "code",
   "execution_count": null,
   "id": "07a93366",
   "metadata": {},
   "outputs": [],
   "source": [
    "print('ARI : {}'.format(\n",
    "    adjusted_rand_score(dbscan_tun.labels_, digit_labels)\n",
    "    )\n",
    ")\n",
    "\n",
    "uplot.points(umap_obj, labels=dbscan_tun.labels_)"
   ]
  },
  {
   "attachments": {},
   "cell_type": "markdown",
   "id": "2a44acde",
   "metadata": {},
   "source": [
    "### DBSCAN with PCA"
   ]
  },
  {
   "cell_type": "code",
   "execution_count": null,
   "id": "0a71aef4",
   "metadata": {},
   "outputs": [],
   "source": [
    "pca = PCA()\n",
    "pca.fit(digits_data)\n",
    "pca_transformed_data = pca.transform(digits_data)\n",
    "print('Number of PCA components {}'.format(pca_transformed_data.shape[1]))\n",
    "cumulative_explained_variance = np.cumsum(pca.explained_variance_ratio_)*100\n",
    "\n",
    "kneedle = KneeLocator(\n",
    "    range(len(cumulative_explained_variance)), \n",
    "    cumulative_explained_variance, \n",
    "    S=1.0, \n",
    "    curve=\"concave\", \n",
    "    direction=\"increasing\"\n",
    ")\n",
    "kneedle.plot_knee()"
   ]
  },
  {
   "cell_type": "code",
   "execution_count": null,
   "id": "61a7e0f2",
   "metadata": {},
   "outputs": [],
   "source": [
    "pca_reduced_data = pca_transformed_data[:, :100]"
   ]
  },
  {
   "cell_type": "code",
   "execution_count": null,
   "id": "fc66b46c",
   "metadata": {},
   "outputs": [],
   "source": [
    "# Identify MinPts\n",
    "min_pts =  pca_reduced_data.shape[1] + 1\n",
    "\n",
    "# Find distances to min_pts'th neighbor\n",
    "knn = NearestNeighbors(n_neighbors=min_pts+1)\n",
    "knn.fit(pca_reduced_data)\n",
    "distances, _ = knn.kneighbors(pca_reduced_data)\n",
    "\n",
    "\n",
    "# Sort the distances to the min_pts'th neighbor\n",
    "sort_dist = np.sort(distances[:,-1])\n",
    "\n",
    "# Plot and search for a knee\n",
    "plt.plot(range(sort_dist.shape[0]), sort_dist)"
   ]
  },
  {
   "cell_type": "code",
   "execution_count": null,
   "id": "32781d3b",
   "metadata": {},
   "outputs": [],
   "source": [
    "# Cluster again\n",
    "dbscan_tun = DBSCAN(eps=2.5, min_samples=min_pts)\n",
    "_ = dbscan_tun.fit(pca_reduced_data)"
   ]
  },
  {
   "cell_type": "code",
   "execution_count": null,
   "id": "279362d7",
   "metadata": {},
   "outputs": [],
   "source": [
    "print('ARI : {}'.format(\n",
    "    adjusted_rand_score(dbscan_tun.labels_, digit_labels)\n",
    "    )\n",
    ")\n",
    "\n",
    "uplot.points(umap_obj, labels=dbscan_tun.labels_)"
   ]
  },
  {
   "attachments": {},
   "cell_type": "markdown",
   "id": "f5972233",
   "metadata": {},
   "source": [
    "### Brute force search"
   ]
  },
  {
   "cell_type": "code",
   "execution_count": null,
   "id": "2f79eb43",
   "metadata": {},
   "outputs": [],
   "source": [
    "# Lists of candidate parameters\n",
    "n_neighbor_list = [10, 20, 40, 80] + list(range(100, 600, 100))\n",
    "eps_list = [1, 3, 6, 8, 10, 12]\n",
    "\n",
    "# List to store results\n",
    "result_list = []\n",
    "\n",
    "print('Loop has started !')\n",
    "\n",
    "# Iterate through the neighbors\n",
    "for iter_i, n_neighbor in enumerate(n_neighbor_list):\n",
    "    \n",
    "    print('Done {}/{} for outter loop'.format(iter_i, len(n_neighbor_list)))\n",
    "    \n",
    "    # Take various eps thresholds and perform clustering\n",
    "    for curr_eps in eps_list:\n",
    "        \n",
    "        curr_dbscan = DBSCAN(eps=curr_eps, min_samples=n_neighbor, n_jobs=-1)\n",
    "        _ = curr_dbscan.fit(pca_reduced_data)\n",
    "        \n",
    "        # Get number of unique clusters by removing noise\n",
    "        unique_clusters = [clust for clust in set(curr_dbscan.labels_) if clust != -1]\n",
    "        \n",
    "        # Create reduced version of the data\n",
    "        np_labels = np.array(curr_dbscan.labels_)\n",
    "        non_noise_idx = np.where(np_labels != -1)\n",
    "\n",
    "        non_noise_labels = np_labels[non_noise_idx]\n",
    "        digit_labels_sub = digit_labels[non_noise_idx]\n",
    "        pca_data_sub = pca_reduced_data[non_noise_idx]\n",
    "        noise_size = np_labels.shape[0] - non_noise_labels.shape[0]\n",
    "        \n",
    "        # If number of clusters is higher than 1, calculate and \n",
    "        # record the stats\n",
    "        if len(unique_clusters) > 1:\n",
    "            \n",
    "            try:\n",
    "                dbcv = hdbscan.validity.validity_index(pca_reduced_data, curr_dbscan.labels_, metric='euclidean')\n",
    "            except:\n",
    "                dbcv = -1\n",
    "        \n",
    "            result_list.append({\n",
    "                'n_neigh': n_neighbor,\n",
    "                'eps': curr_eps,\n",
    "                'num_clust': len(set(curr_dbscan.labels_)),\n",
    "                'silouethe': silhouette_score(pca_reduced_data, curr_dbscan.labels_, metric='euclidean'),\n",
    "                'silouethe_sub': silhouette_score(pca_data_sub, non_noise_labels, metric='euclidean'),\n",
    "                'dbcv': dbcv,\n",
    "                'ari': adjusted_rand_score(digit_labels, curr_dbscan.labels_),\n",
    "                'ari_sub': adjusted_rand_score(non_noise_labels, digit_labels_sub),\n",
    "                'noise_size': noise_size\n",
    "            })\n",
    "\n",
    "# Obtain dataframe\n",
    "result_df = pd.DataFrame.from_dict(result_list).round(3)"
   ]
  },
  {
   "cell_type": "code",
   "execution_count": null,
   "id": "b6703a95",
   "metadata": {},
   "outputs": [],
   "source": [
    "# Sort by dbcv\n",
    "best_dbcv = result_df.sort_values(by='dbcv', ascending=False).head(10).reset_index(drop=True)\n",
    "best_dbcv"
   ]
  },
  {
   "cell_type": "code",
   "execution_count": null,
   "id": "e6d8f444",
   "metadata": {},
   "outputs": [],
   "source": [
    "dbscan_tun = DBSCAN(\n",
    "    eps=best_dbcv.loc[0,'eps'], \n",
    "    min_samples=best_dbcv.loc[0, 'n_neigh']\n",
    ")\n",
    "_ = dbscan_tun.fit(pca_reduced_data)\n",
    "\n",
    "uplot.points(umap_obj, labels=dbscan_tun.labels_)"
   ]
  },
  {
   "cell_type": "code",
   "execution_count": null,
   "id": "d651ed23",
   "metadata": {},
   "outputs": [],
   "source": [
    "# Sort by silouethe score\n",
    "best_silouethe = result_df.sort_values(by='silouethe', ascending=False).head(10).reset_index(drop=True)\n",
    "best_silouethe"
   ]
  },
  {
   "cell_type": "code",
   "execution_count": null,
   "id": "49394b76",
   "metadata": {},
   "outputs": [],
   "source": [
    "dbscan_tun = DBSCAN(\n",
    "    eps=best_silouethe.loc[0,'eps'], \n",
    "    min_samples=best_silouethe.loc[0, 'n_neigh']\n",
    ")\n",
    "_ = dbscan_tun.fit(pca_reduced_data)\n",
    "\n",
    "uplot.points(umap_obj, labels=dbscan_tun.labels_)"
   ]
  },
  {
   "cell_type": "code",
   "execution_count": null,
   "id": "41b09b3c",
   "metadata": {},
   "outputs": [],
   "source": [
    "# Sort by silouethe score for non-noise samples\n",
    "best_silouethe_sub = result_df.sort_values(by='silouethe_sub', ascending=False).head(10).reset_index(drop=True)\n",
    "best_silouethe_sub"
   ]
  },
  {
   "cell_type": "code",
   "execution_count": null,
   "id": "83fa4ffd",
   "metadata": {},
   "outputs": [],
   "source": [
    "dbscan_tun = DBSCAN(\n",
    "    eps=best_silouethe_sub.loc[0,'eps'], \n",
    "    min_samples=best_silouethe_sub.loc[0, 'n_neigh']\n",
    ")\n",
    "_ = dbscan_tun.fit(pca_reduced_data)\n",
    "\n",
    "uplot.points(umap_obj, labels=dbscan_tun.labels_)"
   ]
  },
  {
   "cell_type": "code",
   "execution_count": null,
   "id": "837dcf7d",
   "metadata": {},
   "outputs": [],
   "source": [
    "# Sort by num_clust\n",
    "high_clust_num = result_df.sort_values(by='num_clust', ascending=False).head(10).reset_index(drop=True)\n",
    "high_clust_num"
   ]
  },
  {
   "cell_type": "code",
   "execution_count": null,
   "id": "b4905fc3",
   "metadata": {},
   "outputs": [],
   "source": [
    "dbscan_tun = DBSCAN(\n",
    "    eps=high_clust_num.loc[0,'eps'], \n",
    "    min_samples=high_clust_num.loc[0, 'n_neigh']\n",
    ")\n",
    "_ = dbscan_tun.fit(pca_reduced_data)\n",
    "\n",
    "uplot.points(umap_obj, labels=dbscan_tun.labels_)"
   ]
  },
  {
   "cell_type": "code",
   "execution_count": null,
   "id": "cc903fbd",
   "metadata": {},
   "outputs": [],
   "source": [
    "# Sort by ari\n",
    "best_ari = result_df.sort_values(by='ari', ascending=False).head(10).reset_index(drop=True)\n",
    "best_ari"
   ]
  },
  {
   "cell_type": "code",
   "execution_count": null,
   "id": "7fe1f9b8",
   "metadata": {},
   "outputs": [],
   "source": [
    "dbscan_tun = DBSCAN(\n",
    "    eps=best_ari.loc[0,'eps'], \n",
    "    min_samples=best_ari.loc[0, 'n_neigh']\n",
    ")\n",
    "_ = dbscan_tun.fit(pca_reduced_data)\n",
    "\n",
    "uplot.points(umap_obj, labels=dbscan_tun.labels_)"
   ]
  },
  {
   "cell_type": "code",
   "execution_count": null,
   "id": "7f4c6463",
   "metadata": {},
   "outputs": [],
   "source": [
    "# Sort by ari on non-noise samples\n",
    "best_sub_ari = result_df.sort_values(by='ari_sub', ascending=False).head(10).reset_index(drop=True)\n",
    "best_sub_ari"
   ]
  },
  {
   "cell_type": "code",
   "execution_count": null,
   "id": "33237598",
   "metadata": {},
   "outputs": [],
   "source": [
    "dbscan_tun = DBSCAN(\n",
    "    eps=best_sub_ari.loc[0,'eps'], \n",
    "    min_samples=best_sub_ari.loc[0, 'n_neigh']\n",
    ")\n",
    "_ = dbscan_tun.fit(pca_reduced_data)\n",
    "\n",
    "uplot.points(umap_obj, labels=dbscan_tun.labels_)"
   ]
  }
 ],
 "metadata": {
  "kernelspec": {
   "display_name": "Python 3 (ipykernel)",
   "language": "python",
   "name": "python3"
  },
  "language_info": {
   "codemirror_mode": {
    "name": "ipython",
    "version": 3
   },
   "file_extension": ".py",
   "mimetype": "text/x-python",
   "name": "python",
   "nbconvert_exporter": "python",
   "pygments_lexer": "ipython3",
   "version": "3.11.3"
  }
 },
 "nbformat": 4,
 "nbformat_minor": 5
}
