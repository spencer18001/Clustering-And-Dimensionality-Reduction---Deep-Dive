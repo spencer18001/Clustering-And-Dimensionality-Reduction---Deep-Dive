{
 "cells": [
  {
   "cell_type": "markdown",
   "id": "f892ac05",
   "metadata": {},
   "source": [
    "## Animal zoo dataset - DBSCAN clustering\n"
   ]
  },
  {
   "cell_type": "code",
   "execution_count": null,
   "id": "4804e496",
   "metadata": {},
   "outputs": [],
   "source": [
    "# Zoo dataset : https://www.kaggle.com/datasets/uciml/zoo-animal-classification/code?datasetId=586&searchQuery=hier&select=zoo.csv\n",
    "\n",
    "import pandas as pd\n",
    "import numpy as np\n",
    "\n",
    "import seaborn as sns\n",
    "from matplotlib import pyplot as plt\n",
    "\n",
    "import umap\n",
    "import umap.plot as uplot\n",
    "\n",
    "from sklearn.cluster import DBSCAN \n",
    "from sklearn.neighbors import NearestNeighbors\n",
    "from kneed import KneeLocator\n",
    "from sklearn.metrics import adjusted_rand_score\n",
    "\n",
    "from hdbscan.validity import validity_index\n",
    "\n",
    "sns.set_theme()"
   ]
  },
  {
   "cell_type": "markdown",
   "id": "e5d7d1c5",
   "metadata": {},
   "source": [
    "The Zoo Dataset is a comprehensive collection of data about various animals found in zoos worldwide. The dataset is composed of several attributes related to these animals, such as:\n",
    "\n",
    "- `animal_name`: The name of the animal.\n",
    "\n",
    "- `hair`: Indicates if the animal has hair (1 for yes, 0 for no).\n",
    "- `feathers`: Indicates if the animal has feathers (1 for yes, 0 for no).\n",
    "- `eggs`: Indicates if the animal lays eggs (1 for yes, 0 for no).\n",
    "- `milk`: Indicates if the animal produces milk (1 for yes, 0 for no).\n",
    "- `airborne`: Indicates if the animal can fly (1 for yes, 0 for no).\n",
    "- `aquatic`: Indicates if the animal lives in water (1 for yes, 0 for no).\n",
    "- `predator`: Indicates if the animal is a predator (1 for yes, 0 for no).\n",
    "- `toothed`: Indicates if the animal has teeth (1 for yes, 0 for no).\n",
    "- `backbone`: Indicates if the animal has a backbone (1 for yes, 0 for no).\n",
    "- `breathes`: Indicates if the animal breathes air (1 for yes, 0 for no).\n",
    "- `venomous`: Indicates if the animal is venomous (1 for yes, 0 for no).\n",
    "- `fins`: Indicates if the animal has fins (1 for yes, 0 for no).\n",
    "- `legs`: Number of legs the animal has (integer value).\n",
    "- `tail`: Indicates if the animal has a tail (1 for yes, 0 for no).\n",
    "- `domestic`: Indicates if the animal is domesticated (1 for yes, 0 for no).\n",
    "- `catsize`: Indicates if the animal is cat-sized or larger (1 for yes, 0 for no).\n",
    "- `class_type`: Numerical code indicating the animal's taxonomic class.\n",
    "\n",
    "\n",
    "Citation : Forsyth,Richard. (1990). Zoo. UCI Machine Learning Repository. https://doi.org/10.24432/C5R59V."
   ]
  },
  {
   "cell_type": "code",
   "execution_count": null,
   "id": "362e4ce4",
   "metadata": {},
   "outputs": [],
   "source": [
    "# Load the data\n",
    "zoo_path = 'data/hierarchical/zoo/zoo.csv'\n",
    "zoo_df = pd.read_csv(zoo_path)\n",
    "\n",
    "# Load class mapping\n",
    "class_mappings = 'data/hierarchical/zoo/class.csv'\n",
    "class_mapper = pd.read_csv(class_mappings)"
   ]
  },
  {
   "cell_type": "code",
   "execution_count": null,
   "id": "6a310281",
   "metadata": {},
   "outputs": [],
   "source": [
    "zoo_df.head()"
   ]
  },
  {
   "cell_type": "code",
   "execution_count": null,
   "id": "906e5f9c",
   "metadata": {},
   "outputs": [],
   "source": [
    "class_mapper"
   ]
  },
  {
   "cell_type": "code",
   "execution_count": null,
   "id": "0d8b1418",
   "metadata": {},
   "outputs": [],
   "source": [
    "zoo_df.shape"
   ]
  },
  {
   "cell_type": "code",
   "execution_count": null,
   "id": "ce1ae495",
   "metadata": {},
   "outputs": [],
   "source": [
    "zoo_df.isna().sum(axis=0)"
   ]
  },
  {
   "cell_type": "code",
   "execution_count": null,
   "id": "c931edd1",
   "metadata": {},
   "outputs": [],
   "source": [
    "# Check number of unique animals \n",
    "zoo_df['animal_name'].nunique()"
   ]
  },
  {
   "cell_type": "code",
   "execution_count": null,
   "id": "dc25784a",
   "metadata": {},
   "outputs": [],
   "source": [
    "# Drop duplicates since there should be one species per row\n",
    "zoo_df = zoo_df.drop_duplicates('animal_name')\n",
    "zoo_df.shape"
   ]
  },
  {
   "cell_type": "code",
   "execution_count": null,
   "id": "eddcca56",
   "metadata": {},
   "outputs": [],
   "source": [
    "# Map class id to class name\n",
    "class_map_dict = class_mapper.set_index('Class_Number')['Class_Type'].to_dict()\n",
    "zoo_df['class_type'] = zoo_df['class_type'].map(class_map_dict)\n",
    "\n",
    "# Extract class as separate object and drop class from zoo_df\n",
    "animal_class = zoo_df['class_type'] \n",
    "zoo_df = zoo_df.drop(columns=['class_type'])"
   ]
  },
  {
   "cell_type": "code",
   "execution_count": null,
   "id": "3f045e55",
   "metadata": {},
   "outputs": [],
   "source": [
    "# Set animal name as index\n",
    "zoo_df = zoo_df.set_index('animal_name', drop=True)"
   ]
  },
  {
   "cell_type": "code",
   "execution_count": null,
   "metadata": {},
   "outputs": [],
   "source": [
    "_ = zoo_df.hist(figsize=(7,7))\n",
    "plt.tight_layout()"
   ]
  },
  {
   "attachments": {},
   "cell_type": "markdown",
   "id": "6ee82f33",
   "metadata": {},
   "source": [
    "### DBSCAN"
   ]
  },
  {
   "cell_type": "code",
   "execution_count": null,
   "id": "4c50dffb",
   "metadata": {},
   "outputs": [],
   "source": [
    "# Default values\n",
    "umap_obj = umap.UMAP(metric='hamming')\n",
    "embedding = umap_obj.fit_transform(zoo_df.to_numpy())\n",
    "\n",
    "uplot.points(umap_obj, labels=animal_class)"
   ]
  },
  {
   "cell_type": "code",
   "execution_count": null,
   "id": "1dd4445c",
   "metadata": {},
   "outputs": [],
   "source": [
    "# Identify MinPts\n",
    "min_pts = zoo_df.shape[1] + 1\n",
    "\n",
    "# Find distances to min_pts'th neighbor\n",
    "knn = NearestNeighbors(metric='hamming')\n",
    "knn.fit(zoo_df)\n",
    "distances, _ = knn.kneighbors(zoo_df, n_neighbors=min_pts)\n",
    "\n",
    "\n",
    "# Sort the distances to the min_pts'th neighbor\n",
    "sort_dist = np.sort(distances[:,-1])\n",
    "\n",
    "kneedle = KneeLocator(\n",
    "    range(sort_dist.shape[0]), \n",
    "    sort_dist, \n",
    "    S=1.0, \n",
    "    curve=\"convex\", \n",
    "    direction=\"increasing\"\n",
    ")\n",
    "kneedle.plot_knee()"
   ]
  },
  {
   "cell_type": "code",
   "execution_count": null,
   "id": "477f817b",
   "metadata": {},
   "outputs": [],
   "source": [
    "# Cluster \n",
    "dbscan = DBSCAN(eps=0.12, min_samples=min_pts, metric='hamming')\n",
    "_ = dbscan.fit(zoo_df)\n",
    "\n",
    "uplot.points(umap_obj, labels=dbscan.labels_)"
   ]
  },
  {
   "cell_type": "code",
   "execution_count": null,
   "id": "935d82f0",
   "metadata": {},
   "outputs": [],
   "source": [
    "# Identify MinPts\n",
    "min_pts = int(np.log(zoo_df.shape[0]))\n",
    "min_pts"
   ]
  },
  {
   "cell_type": "code",
   "execution_count": null,
   "id": "754cf70e",
   "metadata": {},
   "outputs": [],
   "source": [
    "# Find distances to min_pts'th neighbor\n",
    "knn = NearestNeighbors(metric='hamming')\n",
    "knn.fit(zoo_df)\n",
    "distances, _ = knn.kneighbors(zoo_df, n_neighbors=min_pts)\n",
    "\n",
    "\n",
    "# Sort the dsitances to min_pts'th neighbor\n",
    "sort_dist = np.sort(distances[:,-1])\n",
    "\n",
    "kneedle = KneeLocator(\n",
    "    range(sort_dist.shape[0]), \n",
    "    sort_dist, \n",
    "    S=1.0, \n",
    "    curve=\"convex\", \n",
    "    direction=\"increasing\"\n",
    ")\n",
    "kneedle.plot_knee()"
   ]
  },
  {
   "cell_type": "code",
   "execution_count": null,
   "id": "e4e5deb9",
   "metadata": {},
   "outputs": [],
   "source": [
    "dbscan = DBSCAN(eps=0.19, min_samples=min_pts, metric='hamming')\n",
    "_ = dbscan.fit(zoo_df)\n",
    "\n",
    "uplot.points(umap_obj, labels=dbscan.labels_)"
   ]
  },
  {
   "cell_type": "code",
   "execution_count": null,
   "id": "2ed4aaa6",
   "metadata": {},
   "outputs": [],
   "source": [
    "dbscan = DBSCAN(eps=0.124, min_samples=min_pts, metric='hamming')\n",
    "_ = dbscan.fit(zoo_df)\n",
    "\n",
    "uplot.points(umap_obj, labels=dbscan.labels_)"
   ]
  },
  {
   "cell_type": "code",
   "execution_count": null,
   "id": "c31e4c2c",
   "metadata": {},
   "outputs": [],
   "source": [
    "validity_index(\n",
    "    X=zoo_df.to_numpy(), \n",
    "    labels=dbscan.labels_, \n",
    "    metric='hamming', \n",
    "    per_cluster_scores=True\n",
    ")"
   ]
  },
  {
   "cell_type": "code",
   "execution_count": null,
   "id": "ddd700e5",
   "metadata": {},
   "outputs": [],
   "source": [
    "uplot.points(umap_obj, labels=animal_class)"
   ]
  },
  {
   "cell_type": "code",
   "execution_count": null,
   "id": "23828b40",
   "metadata": {},
   "outputs": [],
   "source": [
    "adjusted_rand_score(animal_class, dbscan.labels_)"
   ]
  }
 ],
 "metadata": {
  "kernelspec": {
   "display_name": "Python 3 (ipykernel)",
   "language": "python",
   "name": "python3"
  },
  "language_info": {
   "codemirror_mode": {
    "name": "ipython",
    "version": 3
   },
   "file_extension": ".py",
   "mimetype": "text/x-python",
   "name": "python",
   "nbconvert_exporter": "python",
   "pygments_lexer": "ipython3",
   "version": "3.11.3"
  }
 },
 "nbformat": 4,
 "nbformat_minor": 5
}
