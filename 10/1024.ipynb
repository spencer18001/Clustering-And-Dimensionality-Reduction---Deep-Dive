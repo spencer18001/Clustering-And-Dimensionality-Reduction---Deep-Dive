{
 "cells": [
  {
   "cell_type": "markdown",
   "metadata": {},
   "source": [
    "## HDBSCAN for categorical data"
   ]
  },
  {
   "cell_type": "code",
   "execution_count": null,
   "metadata": {},
   "outputs": [],
   "source": [
    "# !{sys.executable} -m pip install hdbscan\n",
    "import pandas as pd\n",
    "import numpy as np\n",
    "import seaborn as sns\n",
    "\n",
    "import hdbscan\n",
    "from hdbscan.validity import validity_index\n",
    "\n",
    "import umap\n",
    "import umap.plot as uplot\n",
    "\n",
    "from sklearn.metrics import silhouette_score\n",
    "from sklearn.metrics.cluster import adjusted_rand_score\n",
    "\n",
    "import matplotlib.pyplot as plt\n",
    "\n",
    "sns.set_theme()"
   ]
  },
  {
   "attachments": {},
   "cell_type": "markdown",
   "metadata": {},
   "source": [
    "### Load animal zoo dataset\n",
    "\n",
    "The Zoo Dataset is a comprehensive collection of data about various animals found in zoos worldwide. The dataset is composed of several attributes related to these animals, such as:\n",
    "\n",
    "- `animal_name`: The name of the animal.\n",
    "\n",
    "- `hair`: Indicates if the animal has hair (1 for yes, 0 for no).\n",
    "- `feathers`: Indicates if the animal has feathers (1 for yes, 0 for no).\n",
    "- `eggs`: Indicates if the animal lays eggs (1 for yes, 0 for no).\n",
    "- `milk`: Indicates if the animal produces milk (1 for yes, 0 for no).\n",
    "- `airborne`: Indicates if the animal can fly (1 for yes, 0 for no).\n",
    "- `aquatic`: Indicates if the animal lives in water (1 for yes, 0 for no).\n",
    "- `predator`: Indicates if the animal is a predator (1 for yes, 0 for no).\n",
    "- `toothed`: Indicates if the animal has teeth (1 for yes, 0 for no).\n",
    "- `backbone`: Indicates if the animal has a backbone (1 for yes, 0 for no).\n",
    "- `breathes`: Indicates if the animal breathes air (1 for yes, 0 for no).\n",
    "- `venomous`: Indicates if the animal is venomous (1 for yes, 0 for no).\n",
    "- `fins`: Indicates if the animal has fins (1 for yes, 0 for no).\n",
    "- `legs`: Number of legs the animal has (integer value).\n",
    "- `tail`: Indicates if the animal has a tail (1 for yes, 0 for no).\n",
    "- `domestic`: Indicates if the animal is domesticated (1 for yes, 0 for no).\n",
    "- `catsize`: Indicates if the animal is cat-sized or larger (1 for yes, 0 for no).\n",
    "- `class_type`: Numerical code indicating the animal's taxonomic class.\n",
    "\n",
    "\n",
    "Citation : Forsyth,Richard. (1990). Zoo. UCI Machine Learning Repository. https://doi.org/10.24432/C5R59V."
   ]
  },
  {
   "cell_type": "code",
   "execution_count": null,
   "metadata": {},
   "outputs": [],
   "source": [
    "# Load the data\n",
    "zoo_path = 'data/hierarchical/zoo/zoo.csv'\n",
    "zoo_df = pd.read_csv(zoo_path)\n",
    "\n",
    "# Load class mapping\n",
    "class_mappings = 'data/hierarchical/zoo/class.csv'\n",
    "class_mapper = pd.read_csv(class_mappings)"
   ]
  },
  {
   "cell_type": "code",
   "execution_count": null,
   "metadata": {},
   "outputs": [],
   "source": [
    "zoo_df.head()"
   ]
  },
  {
   "cell_type": "code",
   "execution_count": null,
   "metadata": {},
   "outputs": [],
   "source": [
    "class_mapper"
   ]
  },
  {
   "cell_type": "code",
   "execution_count": null,
   "metadata": {},
   "outputs": [],
   "source": [
    "zoo_df.shape"
   ]
  },
  {
   "cell_type": "code",
   "execution_count": null,
   "metadata": {},
   "outputs": [],
   "source": [
    "zoo_df.isna().sum(axis=0)"
   ]
  },
  {
   "cell_type": "code",
   "execution_count": null,
   "metadata": {},
   "outputs": [],
   "source": [
    "# Check number of unique animals \n",
    "zoo_df['animal_name'].nunique()"
   ]
  },
  {
   "cell_type": "code",
   "execution_count": null,
   "metadata": {},
   "outputs": [],
   "source": [
    "# Drop duplicates since there should be one species per row\n",
    "zoo_df = zoo_df.drop_duplicates('animal_name')\n",
    "zoo_df.shape"
   ]
  },
  {
   "cell_type": "code",
   "execution_count": null,
   "metadata": {},
   "outputs": [],
   "source": [
    "# Map class id to class name\n",
    "class_map_dict = class_mapper.set_index('Class_Number')['Class_Type'].to_dict()\n",
    "zoo_df['class_type'] = zoo_df['class_type'].map(class_map_dict)\n",
    "\n",
    "# Extract class as separate object and drop class from zoo_df\n",
    "animal_class = zoo_df['class_type'] \n",
    "zoo_df = zoo_df.drop(columns=['class_type'])"
   ]
  },
  {
   "cell_type": "code",
   "execution_count": null,
   "metadata": {},
   "outputs": [],
   "source": [
    "# Set animal name as index\n",
    "zoo_df = zoo_df.set_index('animal_name', drop=True)"
   ]
  },
  {
   "cell_type": "code",
   "execution_count": null,
   "metadata": {},
   "outputs": [],
   "source": [
    "_ = zoo_df.hist(figsize=(7,7))\n",
    "plt.tight_layout()"
   ]
  },
  {
   "cell_type": "code",
   "execution_count": null,
   "metadata": {},
   "outputs": [],
   "source": [
    "zoo_umap = umap.UMAP(metric='hamming', n_neighbors=20).fit(zoo_df.values)"
   ]
  },
  {
   "cell_type": "code",
   "execution_count": null,
   "metadata": {},
   "outputs": [],
   "source": [
    "uplot.points(zoo_umap, labels=animal_class)"
   ]
  },
  {
   "attachments": {},
   "cell_type": "markdown",
   "metadata": {},
   "source": [
    "### HDBSCAN clustering"
   ]
  },
  {
   "cell_type": "code",
   "execution_count": null,
   "metadata": {},
   "outputs": [],
   "source": [
    "def print_clustering_stats(clusterer, data_df, data_labels, metric):\n",
    "    \n",
    "    # Create reduced version of data (exclude noise)\n",
    "    np_labels = np.array(clusterer.labels_)\n",
    "    non_noise_idx = np.where(np_labels != -1)\n",
    "\n",
    "    non_noise_labels = np_labels[non_noise_idx]\n",
    "    data_labels_sub = data_labels[non_noise_idx]\n",
    "    digits_data_sub = data_df[non_noise_idx]\n",
    "    noise_size = np_labels.shape[0] - non_noise_labels.shape[0]\n",
    "    \n",
    "    print('ARI : {}'.format(adjusted_rand_score(np_labels, data_labels)))\n",
    "    print('ARI sub : {}'.format(adjusted_rand_score(non_noise_labels, data_labels_sub)))\n",
    "    print('noise size : {}'.format(noise_size))\n",
    "    print('Silouethe : {}'.format(silhouette_score(data_df, np_labels, metric=metric)))\n",
    "    print('Silouethe sub : {}'.format(silhouette_score(digits_data_sub, data_labels_sub, metric=metric)))\n",
    "    print('DBCV : {}'.format(validity_index(data_df, np_labels, metric=metric)))\n",
    "    "
   ]
  },
  {
   "cell_type": "code",
   "execution_count": null,
   "metadata": {},
   "outputs": [],
   "source": [
    "clusterer = hdbscan.HDBSCAN(\n",
    "    min_samples=5, \n",
    "    min_cluster_size=10, \n",
    "    gen_min_span_tree=True, \n",
    "    metric='hamming'\n",
    ")\n",
    "clusterer.fit(zoo_df.values)\n",
    "\n",
    "print_clustering_stats(\n",
    "    clusterer=clusterer,\n",
    "    data_df=zoo_df.values, \n",
    "    data_labels=animal_class.values,\n",
    "    metric='hamming'\n",
    ")\n",
    "\n",
    "uplot.points(zoo_umap, labels=clusterer.labels_)"
   ]
  },
  {
   "cell_type": "code",
   "execution_count": null,
   "metadata": {},
   "outputs": [],
   "source": [
    "clusterer = hdbscan.HDBSCAN(\n",
    "    min_samples=2, \n",
    "    min_cluster_size=7, \n",
    "    gen_min_span_tree=True, \n",
    "    metric='hamming'\n",
    ")\n",
    "clusterer.fit(zoo_df.values)\n",
    "\n",
    "print_clustering_stats(\n",
    "    clusterer=clusterer,\n",
    "    data_df=zoo_df.values, \n",
    "    data_labels=animal_class.values,\n",
    "    metric='hamming'\n",
    ")\n",
    "\n",
    "uplot.points(zoo_umap, labels=clusterer.labels_)"
   ]
  }
 ],
 "metadata": {
  "kernelspec": {
   "display_name": "test_env_2",
   "language": "python",
   "name": "python3"
  },
  "language_info": {
   "codemirror_mode": {
    "name": "ipython",
    "version": 3
   },
   "file_extension": ".py",
   "mimetype": "text/x-python",
   "name": "python",
   "nbconvert_exporter": "python",
   "pygments_lexer": "ipython3",
   "version": "3.11.3"
  },
  "orig_nbformat": 4
 },
 "nbformat": 4,
 "nbformat_minor": 2
}
