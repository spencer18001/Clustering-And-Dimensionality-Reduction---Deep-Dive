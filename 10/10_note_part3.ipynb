{
  "cells": [
    {
      "cell_type": "markdown",
      "metadata": {
        "id": "view-in-github",
        "colab_type": "text"
      },
      "source": [
        "<a href=\"https://colab.research.google.com/github/spencer18001/Clustering-And-Dimensionality-Reduction---Deep-Dive/blob/main/10/10_note_part3.ipynb\" target=\"_parent\"><img src=\"https://colab.research.google.com/assets/colab-badge.svg\" alt=\"Open In Colab\"/></a>"
      ]
    },
    {
      "cell_type": "markdown",
      "id": "yhj8mdMPWDTt",
      "metadata": {
        "id": "yhj8mdMPWDTt"
      },
      "source": [
        "## Density Based Clustering Part3"
      ]
    },
    {
      "cell_type": "markdown",
      "id": "Jz7OGqSUba6s",
      "metadata": {
        "id": "Jz7OGqSUba6s"
      },
      "source": [
        "170. HDBSCAN python library (hdbscan)\n",
        "171. Demo: Implementing HDBSCAN (partial implementation)\n",
        "172. HDBSCAN general guideliness\n",
        "173. Demo: Clustering iris and digits (mnist784) with HDBSCAN\n",
        "174. Demo: Clustering animals with HDBSCAN (categorical data)\n",
        "175. Robust scaler (demo prerequisite)\n",
        "176. Demo: Clustering phones with HDBSCAN (mixed data)\n",
        "177. Case study: Geospatial clustering with DBSCAN and HDBSCAN - introduction\n",
        "178. Case study: Geospatial clustering with DBSCAN and HDBSCAN\n",
        "179. Chapter summary"
      ]
    },
    {
      "cell_type": "markdown",
      "source": [
        "#### API - HDBSCAN"
      ],
      "metadata": {
        "id": "w4bvhlp74x1X"
      },
      "id": "w4bvhlp74x1X"
    },
    {
      "cell_type": "markdown",
      "source": [
        "<font size='4'>\n",
        "\n",
        "```python\n",
        "class hdbscan.hdbscan_.HDBSCAN(min_cluster_size=5, min_samples=None, cluster_selection_epsilon=0.0, max_cluster_size=0,\n",
        "  metric='euclidean', alpha=1.0, p=None, algorithm='best', leaf_size=40, memory=Memory(location=None),\n",
        "  approx_min_span_tree=True, gen_min_span_tree=False, core_dist_n_jobs=4, cluster_selection_method='eom',\n",
        "  allow_single_cluster=False, prediction_data=False, branch_detection_data=False, match_reference_implementation=False,\n",
        "  cluster_selection_epsilon_max=inf, **kwargs)\n",
        "```\n",
        "\n",
        "</font>"
      ],
      "metadata": {
        "id": "lKBRnp_c4x1Z"
      },
      "id": "lKBRnp_c4x1Z"
    },
    {
      "cell_type": "markdown",
      "source": [
        "methods:\n",
        "\n",
        "<font size='4'>\n",
        "\n",
        "\n",
        "```python\n",
        "fit(X)\n",
        "fit_predict(X)\n",
        "```\n",
        "\n",
        "</font>\n"
      ],
      "metadata": {
        "id": "yGp2AX1u4x1Z"
      },
      "id": "yGp2AX1u4x1Z"
    },
    {
      "cell_type": "markdown",
      "source": [
        "attributes:\n",
        "\n",
        "<font size='4'>\n",
        "\n",
        "```python\n",
        "labels_ # cluster id (noise point 為 -1)\n",
        "probabilities_ # point 屬於該 cluster 成員的機率 (noise 為 0)\n",
        "outlier_scores_ # [0, 1] outlier score; 表示 point 有多像 outlier\n",
        "relative_validity_ # 每個 cluster 的 DBCV 近似值\n",
        "condensed_tree_\n",
        "minimum_spanning_tree_\n",
        "```\n",
        "\n",
        "</font>\n"
      ],
      "metadata": {
        "id": "FB2Q0Krs5vqk"
      },
      "id": "FB2Q0Krs5vqk"
    },
    {
      "cell_type": "markdown",
      "source": [
        "#### HDBSCAB Parameters"
      ],
      "metadata": {
        "id": "ceN4kRt9VrPj"
      },
      "id": "ceN4kRt9VrPj"
    },
    {
      "cell_type": "markdown",
      "source": [
        "- `min_samples`: 計算 core distance\n",
        "  - 高值: 較多 noise\n",
        "    - 高 core distance -> 高 reachability distance\n",
        "  - 低值: 較少 noise\n",
        "- `min_cluster_size`: 建構 condensed tree 時用到\n",
        "  - 若兩個 branch 的 point 數目都 > `min_cluster_size`, 則維持拆分的 branch\n",
        "  - 高值: 較少 cluster\n",
        "    - 維持拆分的條件難達到 -> 常常合併 branch\n",
        "  - 低值: 較多 cluster\n",
        "  "
      ],
      "metadata": {
        "id": "hMtQ9UiJV3Sm"
      },
      "id": "hMtQ9UiJV3Sm"
    },
    {
      "cell_type": "markdown",
      "source": [
        "#### HDBSCAN 的限制"
      ],
      "metadata": {
        "id": "Ab6shCHEZ3jd"
      },
      "id": "Ab6shCHEZ3jd"
    },
    {
      "cell_type": "markdown",
      "source": [
        "- 需要 parameter tuning\n",
        "- feature 數太大時 (>100), 效率不佳 # todo_spencer\n",
        "- 可處理不同 density 的 clusters, 但較難處理內部 density 差異很大的 cluster"
      ],
      "metadata": {
        "id": "N1H0q_nRcPQL"
      },
      "id": "N1H0q_nRcPQL"
    }
  ],
  "metadata": {
    "colab": {
      "provenance": [],
      "include_colab_link": true
    },
    "kernelspec": {
      "display_name": "Python 3.7.0 64-bit",
      "language": "python",
      "name": "python3"
    },
    "language_info": {
      "codemirror_mode": {
        "name": "ipython",
        "version": 3
      },
      "file_extension": ".py",
      "mimetype": "text/x-python",
      "name": "python",
      "nbconvert_exporter": "python",
      "pygments_lexer": "ipython3",
      "version": "3.7.0"
    },
    "vscode": {
      "interpreter": {
        "hash": "e774977668b7c0ae8309835a5187aa7fbf7669e7d0bb59755bc63e573643edcd"
      }
    }
  },
  "nbformat": 4,
  "nbformat_minor": 5
}