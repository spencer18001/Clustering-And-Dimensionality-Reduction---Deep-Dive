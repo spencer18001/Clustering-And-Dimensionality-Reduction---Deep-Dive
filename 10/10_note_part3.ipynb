{
  "cells": [
    {
      "cell_type": "markdown",
      "metadata": {
        "colab_type": "text",
        "id": "view-in-github"
      },
      "source": [
        "<a href=\"https://colab.research.google.com/github/spencer18001/Clustering-And-Dimensionality-Reduction---Deep-Dive/blob/main/10/10_note_part3.ipynb\" target=\"_parent\"><img src=\"https://colab.research.google.com/assets/colab-badge.svg\" alt=\"Open In Colab\"/></a>"
      ]
    },
    {
      "cell_type": "markdown",
      "id": "yhj8mdMPWDTt",
      "metadata": {
        "id": "yhj8mdMPWDTt"
      },
      "source": [
        "## Density Based Clustering Part3"
      ]
    },
    {
      "cell_type": "markdown",
      "id": "Jz7OGqSUba6s",
      "metadata": {
        "id": "Jz7OGqSUba6s"
      },
      "source": [
        "170. HDBSCAN python library (hdbscan)\n",
        "171. Demo: Implementing HDBSCAN (partial implementation)\n",
        "172. HDBSCAN general guideliness\n",
        "173. Demo: Clustering iris and digits (mnist784) with HDBSCAN\n",
        "174. Demo: Clustering animals with HDBSCAN (categorical data)\n",
        "175. Robust scaler (demo prerequisite)\n",
        "176. Demo: Clustering phones with HDBSCAN (mixed data)\n",
        "177. Case study: Geospatial clustering with DBSCAN and HDBSCAN - introduction\n",
        "178. Case study: Geospatial clustering with DBSCAN and HDBSCAN\n",
        "179. Chapter summary"
      ]
    }
  ],
  "metadata": {
    "colab": {
      "include_colab_link": true,
      "provenance": []
    },
    "kernelspec": {
      "display_name": "Python 3.7.0 64-bit",
      "language": "python",
      "name": "python3"
    },
    "language_info": {
      "codemirror_mode": {
        "name": "ipython",
        "version": 3
      },
      "file_extension": ".py",
      "mimetype": "text/x-python",
      "name": "python",
      "nbconvert_exporter": "python",
      "pygments_lexer": "ipython3",
      "version": "3.7.0"
    },
    "vscode": {
      "interpreter": {
        "hash": "e774977668b7c0ae8309835a5187aa7fbf7669e7d0bb59755bc63e573643edcd"
      }
    }
  },
  "nbformat": 4,
  "nbformat_minor": 5
}
