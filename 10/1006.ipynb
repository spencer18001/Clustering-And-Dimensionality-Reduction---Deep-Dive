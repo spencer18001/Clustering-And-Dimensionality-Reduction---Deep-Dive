{
 "cells": [
  {
   "cell_type": "markdown",
   "id": "469a0d5b",
   "metadata": {},
   "source": [
    "## DBSCAN from scratch"
   ]
  },
  {
   "cell_type": "code",
   "execution_count": null,
   "id": "bb9e6398",
   "metadata": {},
   "outputs": [],
   "source": [
    "import pandas as pd\n",
    "import numpy as np\n",
    "\n",
    "import matplotlib.pyplot as plt\n",
    "import seaborn as sns\n",
    "\n",
    "from sklearn.datasets import make_blobs\n",
    "from sklearn.neighbors import NearestNeighbors\n",
    "\n",
    "sns.set_theme()"
   ]
  },
  {
   "cell_type": "markdown",
   "id": "e0de7c7c",
   "metadata": {},
   "source": [
    "## Create the dataset"
   ]
  },
  {
   "cell_type": "code",
   "execution_count": null,
   "id": "fda2b29d",
   "metadata": {},
   "outputs": [],
   "source": [
    "# Create dataset\n",
    "X, y = make_blobs(n_samples=1000, n_features=2, random_state=4, centers=[[-4,-4], [4,4], [-4,4]])\n",
    "\n",
    "# Add two outliers\n",
    "X = np.vstack([X, np.array([[4,-4], [6,-4]])])\n",
    "y = np.concatenate([y, np.array([-1,-1])])\n",
    "\n",
    "# Convert to data frame\n",
    "X_df = pd.DataFrame(X, columns=['dim1', 'dim2'])\n",
    "\n",
    "# Plot the blobs\n",
    "sns.scatterplot(X_df, x='dim1', y='dim2', hue=y)"
   ]
  },
  {
   "cell_type": "markdown",
   "id": "ed4b9636",
   "metadata": {},
   "source": [
    "### Radius neighbors"
   ]
  },
  {
   "cell_type": "code",
   "execution_count": null,
   "id": "3ddea102",
   "metadata": {},
   "outputs": [],
   "source": [
    "nearest_neigh = NearestNeighbors()\n",
    "nearest_neigh = nearest_neigh.fit(X)"
   ]
  },
  {
   "cell_type": "code",
   "execution_count": null,
   "id": "3d0463ef",
   "metadata": {},
   "outputs": [],
   "source": [
    "example_data_point_id = 0\n",
    "np.expand_dims(X[example_data_point_id], axis=0)"
   ]
  },
  {
   "cell_type": "code",
   "execution_count": null,
   "id": "68c8bf8d",
   "metadata": {},
   "outputs": [],
   "source": [
    "nearest_neigh.radius_neighbors(\n",
    "    np.expand_dims(X[example_data_point_id], axis=0), \n",
    "    radius=0.2, \n",
    "    return_distance=True\n",
    ")"
   ]
  },
  {
   "cell_type": "code",
   "execution_count": null,
   "id": "359055f8",
   "metadata": {},
   "outputs": [],
   "source": [
    "nearest_neigh.radius_neighbors(\n",
    "    X[[0,1], :], \n",
    "    radius=0.2, \n",
    "    return_distance=False\n",
    ")"
   ]
  },
  {
   "cell_type": "markdown",
   "id": "b89a8e48",
   "metadata": {},
   "source": [
    "### DBSCAN"
   ]
  },
  {
   "cell_type": "code",
   "execution_count": null,
   "id": "9fa9fec6",
   "metadata": {},
   "outputs": [],
   "source": [
    "# Set main parameters\n",
    "eps = 1\n",
    "min_samples = 5"
   ]
  },
  {
   "cell_type": "code",
   "execution_count": null,
   "id": "269b51d6",
   "metadata": {},
   "outputs": [],
   "source": [
    "# Create dataframe to store results\n",
    "point_df = pd.DataFrame(index=X_df.index)\n",
    "\n",
    "point_df['cluster'] = None\n",
    "point_df['unvisited'] = True\n",
    "point_df['core'] = False\n",
    "point_df['border'] = False\n",
    "\n",
    "\n",
    "point_df.head()"
   ]
  },
  {
   "cell_type": "code",
   "execution_count": null,
   "id": "a5e0d3f4",
   "metadata": {},
   "outputs": [],
   "source": [
    "# Id of first cluster is 0\n",
    "current_cluster = 0\n",
    "\n",
    "# Outter loop iterates through clusters\n",
    "while True:\n",
    "    \n",
    "    # Check if there are unvisited points left\n",
    "    if point_df['unvisited'].sum()==0:\n",
    "        break\n",
    "    \n",
    "    # Get first available unvisited point\n",
    "    curr_point = point_df[point_df['unvisited']].index[0]\n",
    "    \n",
    "    # Get neighbors of selected point within eps radius\n",
    "    # cluster_points set will be used to add cluster candidates\n",
    "    cluster_points = set(\n",
    "        nearest_neigh.radius_neighbors(\n",
    "            np.expand_dims(X[curr_point], axis=0), \n",
    "            radius=eps, \n",
    "            return_distance=False\n",
    "            )[0]\n",
    "        )\n",
    "    \n",
    "    # If point has enough neighbors within eps radius\n",
    "    # then start building the cluster\n",
    "    if len(cluster_points) >= min_samples:\n",
    "        \n",
    "        # Assign cluster id to the current data point\n",
    "        point_df.loc[curr_point, 'cluster'] = current_cluster\n",
    "        point_df.loc[curr_point, 'core'] = True\n",
    "        \n",
    "        cluster_points = {point for point in cluster_points if point_df.loc[point, 'unvisited']}\n",
    "        \n",
    "        # Cluster is built in this loop\n",
    "        while True:\n",
    "            \n",
    "            # Select one of the candiate points\n",
    "            curr_point = cluster_points.pop()\n",
    "            \n",
    "            point_df.loc[curr_point, 'unvisited'] = False\n",
    "            point_df.loc[curr_point, 'cluster'] = current_cluster\n",
    "            \n",
    "            # Get all neighbors of curr_point that are within eps distance\n",
    "            curr_cluster_points = set(\n",
    "                nearest_neigh.radius_neighbors(\n",
    "                    np.expand_dims(X[curr_point], axis=0), \n",
    "                    radius=eps,\n",
    "                    return_distance=False\n",
    "                    )[0]\n",
    "                )\n",
    "            \n",
    "            # If number of obtained neighbors is not sufficient\n",
    "            # then data point is border data point\n",
    "            if len(curr_cluster_points) < min_samples:\n",
    "                \n",
    "                point_df.loc[curr_point, 'border'] = True\n",
    "\n",
    "            # If point has sufficient neighborhood:\n",
    "            else:\n",
    "                \n",
    "                point_df.loc[curr_point, 'core'] = True\n",
    "                \n",
    "                # Add point to the current cluster\n",
    "                # Get all of the point neighbors within eps distance\n",
    "                add_points = {point for point in curr_cluster_points if point_df.loc[point, 'unvisited']}\n",
    "                \n",
    "                # Add neighbors to the current cluster candidates\n",
    "                cluster_points.update(add_points)\n",
    "                \n",
    "            # If no cluster candidates remain, then\n",
    "            # break the loop and proceed to the next\n",
    "            # cluster\n",
    "            if len(cluster_points) == 0:\n",
    "                break\n",
    "        \n",
    "        # Incremen cluster ID\n",
    "        current_cluster+=1\n",
    "        \n",
    "    else:\n",
    "        \n",
    "        # If selected point does not have sufficient\n",
    "        # neighborhood then mark it as visited and continue\n",
    "        point_df.loc[curr_point, 'unvisited'] = False"
   ]
  },
  {
   "cell_type": "code",
   "execution_count": null,
   "id": "8a05c2ff",
   "metadata": {},
   "outputs": [],
   "source": [
    "# Find all points without assigned cluster\n",
    "remaining_points = point_df[point_df['cluster'].isna()].index.to_list()\n",
    "core_points = point_df[point_df['core'] == True].index.to_list()\n",
    "\n",
    "# Iterate through all the points\n",
    "for curr_point in remaining_points:\n",
    "    \n",
    "    # Find all neighbors within eps radius\n",
    "    neighbours = nearest_neigh.radius_neighbors(\n",
    "        np.expand_dims(X[curr_point], axis=0), \n",
    "        radius=eps, \n",
    "        return_distance=False\n",
    "    )[0]\n",
    "    \n",
    "    # If data point has no neighbors, declare it as noise.\n",
    "    if neighbours.shape[0] == 1:\n",
    "        point_df.loc[curr_point, 'cluster'] = -1\n",
    "        \n",
    "    # Otherwise, check if there are core data points\n",
    "    # in the current data point neighbourhood\n",
    "    else:\n",
    "        for neighbour in neighbours:\n",
    "            \n",
    "            if neighbour in core_points:\n",
    "                point_df.loc[curr_point, 'cluster'] = point_df.loc[neighbour, 'cluster']\n",
    "                point_df.loc[curr_point, 'border'] = True\n",
    "\n",
    "                break\n",
    "            \n",
    "        if point_df.loc[curr_point, 'cluster'] is None:\n",
    "            \n",
    "            point_df.loc[curr_point, 'cluster'] = -1\n",
    "        "
   ]
  },
  {
   "cell_type": "code",
   "execution_count": null,
   "id": "9b428729",
   "metadata": {},
   "outputs": [],
   "source": [
    "# Plot clustering\n",
    "sns.scatterplot(X_df, x='dim1', y='dim2', hue=point_df['cluster'].to_numpy())"
   ]
  }
 ],
 "metadata": {
  "kernelspec": {
   "display_name": "Python 3 (ipykernel)",
   "language": "python",
   "name": "python3"
  },
  "language_info": {
   "codemirror_mode": {
    "name": "ipython",
    "version": 3
   },
   "file_extension": ".py",
   "mimetype": "text/x-python",
   "name": "python",
   "nbconvert_exporter": "python",
   "pygments_lexer": "ipython3",
   "version": "3.11.3"
  }
 },
 "nbformat": 4,
 "nbformat_minor": 5
}
