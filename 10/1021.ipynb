{
 "cells": [
  {
   "cell_type": "markdown",
   "id": "0e4221c7",
   "metadata": {},
   "source": [
    "## HDBSCAN custom implementation"
   ]
  },
  {
   "cell_type": "code",
   "execution_count": null,
   "id": "ebb04ae9",
   "metadata": {},
   "outputs": [],
   "source": [
    "# !{sys.executable} -m pip install hdbscan\n",
    "import pandas as pd\n",
    "import numpy as np\n",
    "\n",
    "import matplotlib.pyplot as plt\n",
    "import seaborn as sns\n",
    "\n",
    "import hdbscan\n",
    "\n",
    "from sklearn.neighbors import NearestNeighbors\n",
    "\n",
    "from sklearn.datasets import make_blobs\n",
    "from scipy.spatial.distance import pdist, squareform\n",
    "\n",
    "from scipy.cluster.hierarchy import dendrogram\n",
    "import igraph as ig\n",
    "\n",
    "sns.set_theme()"
   ]
  },
  {
   "cell_type": "markdown",
   "id": "281d11a4",
   "metadata": {},
   "source": [
    "HDBSCAN main steps:\n",
    "\n",
    "1. **Calculate core and reachability distances**\n",
    "\n",
    "2. **Build the minimum spanning tree**\n",
    "\n",
    "3. **Build dendrogram from MST**\n",
    "\n",
    "4. **Condense the dendrogram based on minimum cluster size**\n",
    "\n",
    "5. **Extract the stable clusters from the condensed tree**\n"
   ]
  },
  {
   "cell_type": "markdown",
   "id": "af92843c",
   "metadata": {},
   "source": [
    "Steps 1-3 are implemented from scratch. HDBSCAN python library is used to carry out steps 4 & 5."
   ]
  },
  {
   "cell_type": "markdown",
   "id": "f8d4375d",
   "metadata": {},
   "source": [
    "### Create the dataset"
   ]
  },
  {
   "cell_type": "code",
   "execution_count": null,
   "id": "97103d9a",
   "metadata": {},
   "outputs": [],
   "source": [
    "plt.rcParams[\"figure.figsize\"] = (8,8)\n",
    "\n",
    "\n",
    "# Create test data\n",
    "X, y = make_blobs(\n",
    "    n_samples=100, \n",
    "    centers=[(-1,2), (0, 0), (2,2.9), [1,0]],\n",
    "    cluster_std=0.15,\n",
    "    random_state=2\n",
    ")\n",
    "\n",
    "# Add two outliers\n",
    "X = np.vstack([X, np.array([[2,6],[3,6]])])\n",
    "y = np.concatenate([y, np.array([-1,-1])])\n",
    "\n",
    "plt.scatter(X[:,0], X[:,1])\n"
   ]
  },
  {
   "cell_type": "markdown",
   "id": "797e10f1",
   "metadata": {},
   "source": [
    "### Set hdbscan parameters"
   ]
  },
  {
   "cell_type": "code",
   "execution_count": null,
   "id": "66e5c906",
   "metadata": {},
   "outputs": [],
   "source": [
    "### HDBSCAN parameters\n",
    "MIN_SAMPLES = 5"
   ]
  },
  {
   "cell_type": "markdown",
   "id": "a417e9b5",
   "metadata": {},
   "source": [
    "### Step 1 - compute mutual reachability"
   ]
  },
  {
   "cell_type": "code",
   "execution_count": null,
   "id": "a91ce5ed",
   "metadata": {},
   "outputs": [],
   "source": [
    "# Calculate distances between points\n",
    "dists = pdist(X, metric='euclidean')\n",
    "dists = squareform(dists)\n",
    "\n",
    "# Fit the nn object\n",
    "nn_obj = NearestNeighbors(metric='precomputed')\n",
    "nn_obj = nn_obj.fit(dists)"
   ]
  },
  {
   "cell_type": "code",
   "execution_count": null,
   "id": "e10b84ae",
   "metadata": {},
   "outputs": [],
   "source": [
    "# Find core distance as distance to nth neighbor\n",
    "distances, neigh_ids = nn_obj.kneighbors(dists, n_neighbors=MIN_SAMPLES+1)\n",
    "core_dists = distances[:, -1]\n",
    "\n",
    "# Find mutual reachability distance\n",
    "reach_dists = np.max(\n",
    "    [dists, *np.meshgrid(core_dists, core_dists)], \n",
    "    axis=0\n",
    ")"
   ]
  },
  {
   "cell_type": "markdown",
   "id": "b8a05317",
   "metadata": {},
   "source": [
    "### Step 2 - minimum spanning tree"
   ]
  },
  {
   "cell_type": "code",
   "execution_count": null,
   "id": "ab6be453",
   "metadata": {},
   "outputs": [],
   "source": [
    "g = ig.Graph.Weighted_Adjacency(reach_dists, mode='undirected')\n",
    "\n",
    "# Find the minimum spanning tree\n",
    "mst = g.spanning_tree(weights=g.es[\"weight\"])\n",
    "mst_adj = mst.get_adjacency(attribute='weight')\n",
    "MST = np.array(mst_adj.data)"
   ]
  },
  {
   "cell_type": "code",
   "execution_count": null,
   "id": "56b20796",
   "metadata": {},
   "outputs": [],
   "source": [
    "# Original MST contains distances, in order to create graph\n",
    "# we need ajdacency matrix where high values mean high connectivity\n",
    "# which is oposite from distance\n",
    "plot_MST = MST.copy()\n",
    "plot_MST[plot_MST == 0] = np.inf\n",
    "plot_MST = 1/plot_MST"
   ]
  },
  {
   "cell_type": "code",
   "execution_count": null,
   "id": "77f2e491",
   "metadata": {},
   "outputs": [],
   "source": [
    "# Use igraph to plot MST\n",
    "# This is similar to the second phase of UMAP\n",
    "property_dict = {0: 'blue', 1: 'red', 2: 'green', 3: 'yellow', -1: 'purple'}\n",
    "node_colors = [property_dict[curr_y] for curr_y in y]\n",
    "\n",
    "plot_g = ig.Graph.Weighted_Adjacency(plot_MST, mode='undirected')\n",
    "plot_g.vs['color'] = node_colors\n",
    "\n",
    "layout = plot_g.layout(\"auto\", weights='weight')\n",
    "ig.plot(plot_g, layout=layout)"
   ]
  },
  {
   "cell_type": "markdown",
   "id": "e1cb50df",
   "metadata": {},
   "source": [
    "### Step 3 - Building cluster hierarchy"
   ]
  },
  {
   "cell_type": "code",
   "execution_count": null,
   "id": "8a0f8983",
   "metadata": {},
   "outputs": [],
   "source": [
    "# Convert adjacency matrix of MST to a list of edges with distances\n",
    "edges = []\n",
    "for i in range(MST.shape[0]):\n",
    "    for j in range(i+1, MST.shape[1]):\n",
    "        if MST[i, j] != 0:\n",
    "            edges.append((i, j, MST[i, j]))\n",
    "            \n",
    "edges[:4]"
   ]
  },
  {
   "cell_type": "code",
   "execution_count": null,
   "id": "8d1fb123",
   "metadata": {},
   "outputs": [],
   "source": [
    "# Sort edges by distance from lowest to highest\n",
    "edges.sort(key=lambda x: x[2], reverse=False)\n",
    "\n",
    "edges[:4]"
   ]
  },
  {
   "cell_type": "code",
   "execution_count": null,
   "id": "23e21a29",
   "metadata": {},
   "outputs": [],
   "source": [
    "# Create dataframe from edges\n",
    "edges_df = pd.DataFrame(edges, columns=['p1', 'p2', 'dist'])\n",
    "edges_df"
   ]
  },
  {
   "cell_type": "code",
   "execution_count": null,
   "id": "48de766b",
   "metadata": {},
   "outputs": [],
   "source": [
    "# Initialize groups_dict (each point gets a cluster)\n",
    "groups = {i:[i] for i in range(MST.shape[0])}\n",
    "\n",
    "groups"
   ]
  },
  {
   "cell_type": "code",
   "execution_count": null,
   "id": "fab751d0",
   "metadata": {},
   "outputs": [],
   "source": [
    "# Initialize linkage matrix\n",
    "linkage_matrix = []\n",
    "\n",
    "# Next id for newly formed groups (merges)\n",
    "next_id = MST.shape[0]\n",
    "\n",
    "# Iterate through the edges\n",
    "for idx in edges_df.index:\n",
    "\n",
    "    # Iterate through all of the existing groups\n",
    "    for k in groups:\n",
    "\n",
    "        # Find cluster containing p1\n",
    "        if edges_df.loc[idx, 'p1'] in groups[k]:\n",
    "            cluster_i = k\n",
    "        # Find cluster containing p2\n",
    "        if edges_df.loc[idx, 'p2'] in groups[k]:\n",
    "            cluster_j = k\n",
    "\n",
    "    # If points do not belong to same cluster then\n",
    "    # merge groups containing this points\n",
    "    if cluster_i != cluster_j:\n",
    "\n",
    "        # Add cluster merge to linkage matrix (this if  statement controls\n",
    "        # order of p1 and p2 in linkage the matrix)\n",
    "        # This is done to make dendrogram look better\n",
    "        # (clustering would work even without this step)\n",
    "        if len(groups[cluster_i])> len(groups[cluster_j]):\n",
    "            linkage_matrix.append(\n",
    "                [cluster_j, cluster_i, edges_df.loc[idx, 'dist'], \n",
    "                len(groups[cluster_i]) + len(groups[cluster_j])]\n",
    "            )\n",
    "        else:\n",
    "            linkage_matrix.append(\n",
    "                [cluster_i, cluster_j, edges_df.loc[idx, 'dist'], \n",
    "                len(groups[cluster_i]) + len(groups[cluster_j])]\n",
    "            )\n",
    "        \n",
    "        # Create merged cluster\n",
    "        groups[next_id] = groups[cluster_i] + groups[cluster_j]\n",
    "        \n",
    "        # Delete processed groups\n",
    "        del groups[cluster_i], groups[cluster_j] \n",
    "        \n",
    "        # Increment cluster id\n",
    "        next_id +=1\n",
    "\n",
    "\n",
    "linkage_matrix[:10]        \n"
   ]
  },
  {
   "cell_type": "code",
   "execution_count": null,
   "id": "31647c7f",
   "metadata": {},
   "outputs": [],
   "source": [
    "# Convert linkage_matrix to the format required by scipy dendrogram\n",
    "linkage_matrix = np.array(linkage_matrix)\n",
    "\n",
    "# Set figure size for dendrogram\n",
    "plt.rcParams[\"figure.figsize\"] = (16,8)\n",
    "\n",
    "# Plot the dendrogram\n",
    "plt.figure(figsize=(14,8))\n",
    "dendrogram(linkage_matrix,color_threshold=0.5)\n",
    "plt.title('MST dendrogram')\n",
    "plt.show()"
   ]
  },
  {
   "cell_type": "markdown",
   "id": "15df3f66",
   "metadata": {},
   "source": [
    "## Part 2 - HDBSCAN package"
   ]
  },
  {
   "cell_type": "code",
   "execution_count": null,
   "id": "9a622f58",
   "metadata": {},
   "outputs": [],
   "source": [
    "clusterer = hdbscan.HDBSCAN(\n",
    "    min_cluster_size=10, \n",
    "    min_samples=5,\n",
    "    gen_min_span_tree=True, \n",
    "    metric='euclidean',\n",
    "    approx_min_span_tree=False\n",
    ")\n",
    "clusterer = clusterer.fit(X)"
   ]
  },
  {
   "cell_type": "code",
   "execution_count": null,
   "id": "609f25d6",
   "metadata": {},
   "outputs": [],
   "source": [
    "# Plot minimum spanning tree\n",
    "clusterer.minimum_spanning_tree_.plot(\n",
    "    edge_cmap='viridis',\n",
    "    edge_alpha=0.6,\n",
    "    node_size=80,\n",
    "    edge_linewidth=2\n",
    ")"
   ]
  },
  {
   "cell_type": "code",
   "execution_count": null,
   "id": "4f6b837e",
   "metadata": {},
   "outputs": [],
   "source": [
    "# Plot dendrogram\n",
    "plt.figure(figsize=(14,8))\n",
    "clusterer.single_linkage_tree_.plot(cmap='viridis', colorbar=True)"
   ]
  },
  {
   "cell_type": "code",
   "execution_count": null,
   "id": "3548c4bd",
   "metadata": {},
   "outputs": [],
   "source": [
    "# Condensed tree plot\n",
    "clusterer.condensed_tree_.plot()\n",
    "plt.title('min_cluster_size = 4')"
   ]
  },
  {
   "cell_type": "code",
   "execution_count": null,
   "id": "bf01deec",
   "metadata": {},
   "outputs": [],
   "source": [
    "# Selected clusters\n",
    "clusterer.condensed_tree_.plot(select_clusters=True, selection_palette=sns.color_palette())\n",
    "plt.title('Same setup witn min_cluster_size=2')"
   ]
  },
  {
   "cell_type": "code",
   "execution_count": null,
   "id": "d5d0653b",
   "metadata": {},
   "outputs": [],
   "source": [
    "clusterer.labels_"
   ]
  },
  {
   "cell_type": "code",
   "execution_count": null,
   "id": "bbf2f3f1",
   "metadata": {},
   "outputs": [],
   "source": [
    "# Final clustering results\n",
    "plt.figure(figsize=(6,7))\n",
    "sns.scatterplot(x=X[:,0], y=X[:,1], hue=clusterer.labels_, palette='tab10')"
   ]
  },
  {
   "cell_type": "code",
   "execution_count": null,
   "id": "00e4b3c4",
   "metadata": {},
   "outputs": [],
   "source": [
    "plt.rcParams[\"figure.figsize\"] = (8,8)\n",
    "\n",
    "plt.scatter(X[:,0], X[:,1], alpha=clusterer.probabilities_)"
   ]
  },
  {
   "cell_type": "code",
   "execution_count": null,
   "id": "3dc07653",
   "metadata": {},
   "outputs": [],
   "source": [
    "plt.rcParams[\"figure.figsize\"] = (8,8)\n",
    "\n",
    "plt.scatter(X[:,0], X[:,1], alpha=clusterer.outlier_scores_)"
   ]
  },
  {
   "cell_type": "markdown",
   "id": "f0847e87",
   "metadata": {},
   "source": [
    "### Using cluster_selection_epsilon"
   ]
  },
  {
   "cell_type": "code",
   "execution_count": null,
   "id": "3ec6b823",
   "metadata": {},
   "outputs": [],
   "source": [
    "# Before cluster_selection_epsilon\n",
    "plt.figure(figsize=(6,7))\n",
    "sns.scatterplot(x=X[:,0], y=X[:,1], hue=clusterer.labels_, palette='tab10')"
   ]
  },
  {
   "cell_type": "code",
   "execution_count": null,
   "id": "06062ac7",
   "metadata": {},
   "outputs": [],
   "source": [
    "clusterer = hdbscan.HDBSCAN(\n",
    "    min_cluster_size=10, \n",
    "    min_samples=5,\n",
    "    gen_min_span_tree=True, \n",
    "    metric='euclidean',\n",
    "    approx_min_span_tree=False,\n",
    "    cluster_selection_epsilon=1.5\n",
    ")\n",
    "clusterer = clusterer.fit(X)"
   ]
  },
  {
   "cell_type": "code",
   "execution_count": null,
   "id": "1073df44",
   "metadata": {},
   "outputs": [],
   "source": [
    "# After cluster_selection_epsilon\n",
    "plt.figure(figsize=(6,7))\n",
    "sns.scatterplot(x=X[:,0], y=X[:,1], hue=clusterer.labels_, palette='tab10')"
   ]
  },
  {
   "cell_type": "markdown",
   "id": "c039ef8c",
   "metadata": {},
   "source": [
    "### Leaf clustering"
   ]
  },
  {
   "cell_type": "code",
   "execution_count": null,
   "id": "c8840f56",
   "metadata": {},
   "outputs": [],
   "source": [
    "clusterer = hdbscan.HDBSCAN(\n",
    "    min_cluster_size=5, \n",
    "    min_samples=3,\n",
    "    gen_min_span_tree=True, \n",
    "    metric='euclidean',\n",
    "    approx_min_span_tree=False,\n",
    "    cluster_selection_method='leaf'\n",
    ")\n",
    "clusterer = clusterer.fit(X)\n",
    "\n",
    "clusterer.condensed_tree_.plot(select_clusters=True, selection_palette=sns.color_palette())\n",
    "plt.title('Same setup witn min_cluster_size=2')"
   ]
  },
  {
   "cell_type": "code",
   "execution_count": null,
   "id": "3159710a",
   "metadata": {},
   "outputs": [],
   "source": [
    "plt.figure(figsize=(6,7))\n",
    "sns.scatterplot(x=X[:,0], y=X[:,1], hue=clusterer.labels_, palette='tab10')"
   ]
  },
  {
   "cell_type": "code",
   "execution_count": null,
   "id": "5e4bc311",
   "metadata": {},
   "outputs": [],
   "source": [
    "clusterer = hdbscan.HDBSCAN(\n",
    "    min_cluster_size=5, \n",
    "    min_samples=3,\n",
    "    gen_min_span_tree=True, \n",
    "    metric='euclidean',\n",
    "    approx_min_span_tree=False,\n",
    "    cluster_selection_method='leaf',\n",
    "    cluster_selection_epsilon=0.5\n",
    ")\n",
    "clusterer = clusterer.fit(X)\n",
    "\n",
    "plt.figure(figsize=(6,7))\n",
    "sns.scatterplot(x=X[:,0], y=X[:,1], hue=clusterer.labels_, palette='tab10')"
   ]
  }
 ],
 "metadata": {
  "kernelspec": {
   "display_name": "Python 3 (ipykernel)",
   "language": "python",
   "name": "python3"
  },
  "language_info": {
   "codemirror_mode": {
    "name": "ipython",
    "version": 3
   },
   "file_extension": ".py",
   "mimetype": "text/x-python",
   "name": "python",
   "nbconvert_exporter": "python",
   "pygments_lexer": "ipython3",
   "version": "3.11.3"
  }
 },
 "nbformat": 4,
 "nbformat_minor": 5
}
