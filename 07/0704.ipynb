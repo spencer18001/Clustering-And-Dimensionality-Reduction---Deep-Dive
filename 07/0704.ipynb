{
 "cells": [
  {
   "cell_type": "markdown",
   "metadata": {},
   "source": [
    "## K-means on wine dataset & yellowbrick & cluster characterization"
   ]
  },
  {
   "cell_type": "code",
   "execution_count": null,
   "metadata": {},
   "outputs": [],
   "source": [
    "# sklearn imports\n",
    "from sklearn.datasets import load_wine\n",
    "from sklearn.cluster import KMeans\n",
    "from sklearn.preprocessing import StandardScaler\n",
    "from sklearn.decomposition import PCA\n",
    "\n",
    "# pandas and numpy imports\n",
    "import pandas as pd\n",
    "import numpy as np\n",
    "\n",
    "# plotting imports\n",
    "import matplotlib\n",
    "import matplotlib.pyplot as plt\n",
    "import matplotlib.cm as cm\n",
    "import seaborn as sns\n",
    "\n",
    "# yellowbrick libs\n",
    "from yellowbrick.cluster import KElbowVisualizer\n",
    "from yellowbrick.cluster import SilhouetteVisualizer\n",
    "\n",
    "from ch_7_consts import WINE_FEATURES\n",
    "\n",
    "# set sns theme and set pandas to display all rows and columns\n",
    "sns.set_theme()"
   ]
  },
  {
   "cell_type": "markdown",
   "metadata": {},
   "source": [
    "### Load wine dataset\n",
    "\n",
    "The Wine dataset is a classic multivariate dataset used for classification tasks in machine learning. \n",
    "- It consists of 178 samples of wine from three different cultivars (classes) in the same region in Italy. \n",
    "- Each sample has 11 continuous attributes (features) that are the result of a chemical analysis of the wines. \n",
    "- The goal of using this dataset is usually to build a classifier that can predict the cultivar of a wine based on its chemical composition.\n",
    "\n",
    "The dataset contains following features:\n",
    "\n",
    "- **Alcohol**: The alcohol content in the wine, measured in percentage.\n",
    "- **Malic Acid**: The amount of malic acid in the wine.\n",
    "- **Ash**: The measure of the non-aqueous residue remaining after heating.\n",
    "- **Alcalinity of Ash**: A measure of the alkalinity of the ash formed post-combustion.\n",
    "- **Magnesium**: The amount of magnesium in the wine.\n",
    "- **Total Phenols**: The total amount of phenolic compounds.\n",
    "- **Flavanoids**: Indicates the flavanoid phenolic content.\n",
    "- **Nonflavanoid Phenols**: Measures the non-flavanoid phenolic content.\n",
    "- **Proanthocyanins**: Indicates the proanthocyanin content.\n",
    "- **Color Intensity**: The intensity of the wine's color, measured optically.\n",
    "- **Hue**: The color attribute that describes a pure color, usually measured via spectrophotometry.\n",
    "- **OD280/OD315 of diluted wines**: Measures the antioxidant content using absorbance ratio.\n",
    "- **Proline**: The amount of the amino acid proline.\n",
    "\n",
    "Citation : Aeberhard,Stefan and Forina,M.. (1991). Wine. UCI Machine Learning Repository. https://doi.org/10.24432/C5PC7J."
   ]
  },
  {
   "cell_type": "code",
   "execution_count": null,
   "metadata": {},
   "outputs": [],
   "source": [
    "# Load the wine dataset\n",
    "wine_data = load_wine()\n",
    "\n",
    "wine_df_numeric = pd.DataFrame(wine_data.data, columns=wine_data.feature_names)\n",
    "\n",
    "wine_df = wine_df_numeric.copy()\n",
    "wine_df['label'] = wine_data.target\n",
    "\n",
    "\n",
    "# Scale the data\n",
    "standard_scaler = StandardScaler()\n",
    "standard_scaler.fit(wine_df_numeric)\n",
    "wine_df_numeric_scaled = standard_scaler.transform(wine_df_numeric)\n",
    "\n",
    "# Create data df\n",
    "wine_df_numeric = pd.DataFrame(\n",
    "    wine_df_numeric_scaled, \n",
    "    columns = wine_df_numeric.columns\n",
    ")\n",
    "\n",
    "g = sns.boxplot(wine_df_numeric)\n",
    "_ = g.set_xticklabels(g.get_xticklabels(), rotation=90)"
   ]
  },
  {
   "cell_type": "markdown",
   "metadata": {},
   "source": [
    "### Run k-means with yellowbrick"
   ]
  },
  {
   "cell_type": "code",
   "execution_count": null,
   "metadata": {},
   "outputs": [],
   "source": [
    "model = KMeans(n_init='auto', random_state=42)\n",
    "visualizer = KElbowVisualizer(model, k=(2,3,4,5,6,7))\n",
    "\n",
    "visualizer=visualizer.fit(wine_df_numeric)\n",
    "visualizer.show()"
   ]
  },
  {
   "cell_type": "code",
   "execution_count": null,
   "metadata": {},
   "outputs": [],
   "source": [
    "model = KMeans(n_init='auto', random_state=42)\n",
    "\n",
    "visualizer = KElbowVisualizer(model, k=(2,3,4,5,6,7), metric='silhouette', locate_elbow=False)\n",
    "\n",
    "visualizer=visualizer.fit(wine_df_numeric)   # Fit the data to the visualizer\n",
    "visualizer.show()"
   ]
  },
  {
   "cell_type": "code",
   "execution_count": null,
   "metadata": {},
   "outputs": [],
   "source": [
    "# Perform PCA\n",
    "pca = PCA()\n",
    "pca.fit(wine_df_numeric)\n",
    "pca_transformed_data = pca.transform(wine_df_numeric)\n",
    "\n",
    "print('Number of PCA components {}'.format(pca_transformed_data.shape[1]))\n",
    "\n",
    "cumulative_explained_variance = np.cumsum(pca.explained_variance_ratio_)*100\n",
    "\n",
    "plt.plot(range(len(cumulative_explained_variance)), cumulative_explained_variance)\n",
    "plt.scatter(range(len(cumulative_explained_variance)),cumulative_explained_variance)\n",
    "plt.xlabel('Number of Components')\n",
    "plt.ylabel('Cumulative Explained Variance')\n",
    "plt.show()"
   ]
  },
  {
   "cell_type": "code",
   "execution_count": null,
   "metadata": {},
   "outputs": [],
   "source": [
    "candidate_k = [2,3,4,5]"
   ]
  },
  {
   "cell_type": "code",
   "execution_count": null,
   "metadata": {},
   "outputs": [],
   "source": [
    "tab10 = list(matplotlib.colormaps['tab10'].colors)"
   ]
  },
  {
   "cell_type": "code",
   "execution_count": null,
   "metadata": {},
   "outputs": [],
   "source": [
    "# Perform clustering for multiple resolutons\n",
    "fig, axs = plt.subplots(\n",
    "    len(candidate_k), 2, \n",
    "    figsize=(12, 24)\n",
    ")\n",
    "\n",
    "cluster_label_dict = {}\n",
    "\n",
    "for i, num_clust in enumerate(candidate_k):\n",
    "    \n",
    "    \n",
    "    # Perform clustering for current number of clusters\n",
    "    kmeans = KMeans(n_clusters=num_clust, n_init='auto', random_state=2)\n",
    "    kmeans.fit(wine_df_numeric.to_numpy())\n",
    "    \n",
    "    sns.scatterplot(\n",
    "        x=pca_transformed_data[:,0], \n",
    "        y=pca_transformed_data[:,1], \n",
    "        hue=kmeans.labels_, \n",
    "        ax=axs[i, 0], \n",
    "        s=14, palette='tab10'\n",
    "    )\n",
    "        \n",
    "    visualizer = SilhouetteVisualizer(\n",
    "        kmeans, \n",
    "        is_fitted=True,\n",
    "        colors=tab10,\n",
    "        ax=axs[i, 1]\n",
    "    )\n",
    "    \n",
    "    visualizer = visualizer.fit(wine_df_numeric.to_numpy())\n",
    "    \n",
    "    cluster_label_dict[num_clust] = kmeans.labels_\n"
   ]
  },
  {
   "cell_type": "markdown",
   "metadata": {},
   "source": [
    "### Cluster characterization"
   ]
  },
  {
   "cell_type": "code",
   "execution_count": null,
   "metadata": {},
   "outputs": [],
   "source": [
    "from IPython.display import display, Markdown"
   ]
  },
  {
   "cell_type": "code",
   "execution_count": null,
   "metadata": {},
   "outputs": [],
   "source": [
    "# Plot numerical features\n",
    "wine_df['cluster'] = cluster_label_dict[3]\n",
    "wine_df['malic_acid'] = wine_df['malic_acid']/10\n",
    "wine_df['total_phenols'] = wine_df['total_phenols']*100\n",
    "wine_df['flavanoids'] = wine_df['flavanoids']*100\n",
    "wine_df['nonflavanoid_phenols'] = wine_df['nonflavanoid_phenols']*100\n",
    "wine_df['proanthocyanins'] = wine_df['proanthocyanins']*100\n",
    "\n",
    "for col in wine_df:\n",
    "    \n",
    "    if col not in ['label', 'cluster']:\n",
    "        \n",
    "        display(Markdown(col + ' - ' + WINE_FEATURES[col]))\n",
    "        \n",
    "        \n",
    "        plt.figure()\n",
    "        sns.boxplot(wine_df, x='cluster', y=col)\n",
    "        plt.title(col)\n",
    "        plt.show()\n",
    "        "
   ]
  },
  {
   "cell_type": "code",
   "execution_count": null,
   "metadata": {},
   "outputs": [],
   "source": []
  }
 ],
 "metadata": {
  "kernelspec": {
   "display_name": "test_env_2",
   "language": "python",
   "name": "python3"
  },
  "language_info": {
   "codemirror_mode": {
    "name": "ipython",
    "version": 3
   },
   "file_extension": ".py",
   "mimetype": "text/x-python",
   "name": "python",
   "nbconvert_exporter": "python",
   "pygments_lexer": "ipython3",
   "version": "3.11.3"
  },
  "orig_nbformat": 4
 },
 "nbformat": 4,
 "nbformat_minor": 2
}
