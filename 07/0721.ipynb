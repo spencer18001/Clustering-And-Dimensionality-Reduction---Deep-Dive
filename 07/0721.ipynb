{
 "cells": [
  {
   "cell_type": "markdown",
   "id": "6fbba6e7",
   "metadata": {},
   "source": [
    "## K-means limitations"
   ]
  },
  {
   "cell_type": "code",
   "execution_count": null,
   "id": "24022672",
   "metadata": {},
   "outputs": [],
   "source": [
    "import random\n",
    "\n",
    "import numpy as np\n",
    "import pandas as pd\n",
    "\n",
    "import seaborn as sns\n",
    "import matplotlib.pyplot as plt\n",
    "import matplotlib\n",
    "\n",
    "from sklearn.cluster import KMeans\n",
    "\n",
    "from sklearn.datasets import fetch_openml\n",
    "from sklearn.datasets import make_blobs\n",
    "\n",
    "from scipy.stats import multivariate_normal\n",
    "\n",
    "import umap\n",
    "\n",
    "from yellowbrick.cluster import SilhouetteVisualizer\n",
    "\n",
    "sns.set_theme()\n",
    "random.seed(3)"
   ]
  },
  {
   "cell_type": "markdown",
   "id": "c11d0132",
   "metadata": {},
   "source": [
    "### Sensitivity to outliers\n",
    "\n"
   ]
  },
  {
   "cell_type": "code",
   "execution_count": null,
   "id": "465b92df",
   "metadata": {},
   "outputs": [],
   "source": [
    "# Create synthetical dataset with 3 clusters\n",
    "X, y = make_blobs(n_samples=1000, centers=3, cluster_std=0.60, random_state=0)\n",
    "\n",
    "# Plot the clustering\n",
    "plt.figure()\n",
    "plt.scatter(X[:, 0], X[:, 1])\n",
    "plt.title('Dataset')\n",
    "plt.show()"
   ]
  },
  {
   "cell_type": "code",
   "execution_count": null,
   "id": "fb872d85",
   "metadata": {},
   "outputs": [],
   "source": [
    "# Cluster synthetic dataset\n",
    "kmeans = KMeans(n_clusters=3, random_state=0, n_init='auto')\n",
    "kmeans.fit(X)\n",
    "\n",
    "# Plot the clustering\n",
    "plt.figure()\n",
    "plt.scatter(X[:, 0], X[:, 1], c=kmeans.labels_)\n",
    "plt.scatter(kmeans.cluster_centers_[:, 0], kmeans.cluster_centers_[:, 1], s=20, c='red')\n",
    "plt.title('Clustered dataset')\n",
    "plt.show()"
   ]
  },
  {
   "cell_type": "code",
   "execution_count": null,
   "id": "bfe165ed",
   "metadata": {},
   "outputs": [],
   "source": [
    "# Add outliers\n",
    "X_outliers = np.random.uniform(low=-50, high=50, size=(20, 2))\n",
    "X = np.vstack([X, X_outliers])\n",
    "\n",
    "# Plot the clustering\n",
    "plt.figure()\n",
    "plt.scatter(X[:, 0], X[:, 1])\n",
    "plt.title('Dataset with 20 added outliers')\n",
    "plt.show()"
   ]
  },
  {
   "cell_type": "code",
   "execution_count": null,
   "id": "054ddf36",
   "metadata": {},
   "outputs": [],
   "source": [
    "# Cluster again\n",
    "kmeans = KMeans(n_clusters=3, random_state=0, n_init='auto')\n",
    "kmeans.fit(X)\n",
    "\n",
    "plt.figure()\n",
    "plt.scatter(X[:, 0], X[:, 1], c=kmeans.labels_,cmap='tab10')\n",
    "plt.scatter(kmeans.cluster_centers_[:, 0], kmeans.cluster_centers_[:, 1], s=20, c='red')\n",
    "plt.title('Clustered dataset with 20 added outliers')\n",
    "plt.show()"
   ]
  },
  {
   "cell_type": "markdown",
   "id": "60d9e34d",
   "metadata": {},
   "source": [
    "### Sensitivity to non regular cluster shapes\n"
   ]
  },
  {
   "cell_type": "markdown",
   "id": "2df6af5d",
   "metadata": {},
   "source": [
    "#### Example 1 - elongated clusters"
   ]
  },
  {
   "cell_type": "code",
   "execution_count": null,
   "id": "820f2177",
   "metadata": {},
   "outputs": [],
   "source": [
    "multivar = multivariate_normal(cov = [[1, 0.95],[0.95,1]], mean = [1,1])\n",
    "X1 = multivar.rvs(size = 600)\n",
    "\n",
    "multivar = multivariate_normal(cov = [[1, 0.95],[0.95,1]], mean = [0.5,3.5])\n",
    "X2 = multivar.rvs(size = 600)\n",
    "\n",
    "X = np.vstack([X1, X2])\n",
    "\n",
    "plt.figure()\n",
    "plt.scatter(X[:, 0], X[:, 1])\n",
    "plt.title('Dataset')\n",
    "plt.show()"
   ]
  },
  {
   "cell_type": "code",
   "execution_count": null,
   "id": "6e32fa8f",
   "metadata": {},
   "outputs": [],
   "source": [
    "# Perform clustering\n",
    "kmeans = KMeans(n_clusters=2, random_state=0, n_init='auto')\n",
    "kmeans.fit(X)\n",
    "\n",
    "plt.figure()\n",
    "plt.scatter(X[:, 0], X[:, 1], c=kmeans.labels_)\n",
    "plt.scatter(kmeans.cluster_centers_[:, 0], kmeans.cluster_centers_[:, 1], s=20, c='red')\n",
    "plt.title('Clustered dataset')\n",
    "plt.show()"
   ]
  },
  {
   "cell_type": "markdown",
   "id": "2dd6ca1f",
   "metadata": {},
   "source": [
    "#### Example 2 - Different cluster shape and size"
   ]
  },
  {
   "cell_type": "code",
   "execution_count": null,
   "id": "e4dcc01d",
   "metadata": {},
   "outputs": [],
   "source": [
    "X, y = make_blobs(\n",
    "    n_samples=50000, \n",
    "    centers=[[2,5],[6,-10],[0,-5]],\n",
    "    cluster_std=[1.0, 1.7, 0.2],\n",
    "    random_state=10\n",
    ")\n",
    "\n",
    "plt.figure()\n",
    "plt.scatter(X[:, 0], X[:, 1])\n",
    "plt.title('Dataset')\n",
    "plt.show()"
   ]
  },
  {
   "cell_type": "code",
   "execution_count": null,
   "id": "38a9764f",
   "metadata": {},
   "outputs": [],
   "source": [
    "# Perform clustering\n",
    "kmeans = KMeans(n_clusters=3, random_state=0, n_init='auto')\n",
    "kmeans.fit(X)\n",
    "\n",
    "plt.figure()\n",
    "plt.scatter(X[:, 0], X[:, 1], c=kmeans.labels_)\n",
    "plt.scatter(kmeans.cluster_centers_[:, 0], kmeans.cluster_centers_[:, 1], s=20, c='red')\n",
    "plt.title('Clustered dataset')\n",
    "plt.show()"
   ]
  },
  {
   "cell_type": "markdown",
   "id": "a046a96a",
   "metadata": {},
   "source": [
    "### Example - k-means clustering on digits dataset"
   ]
  },
  {
   "cell_type": "code",
   "execution_count": null,
   "id": "808bd373",
   "metadata": {},
   "outputs": [],
   "source": [
    "# Load the digits data\n",
    "mnist = fetch_openml('mnist_784', parser='auto')\n",
    "\n",
    "# Normalize digits data\n",
    "digits_data = mnist.data/255\n",
    "digit_labels = mnist.target.astype(object)\n",
    "\n",
    "# Subset the dataset\n",
    "digit_labels_df = pd.DataFrame(digit_labels)\n",
    "\n",
    "label_subset_df = digit_labels_df.groupby('class').head(2000)\n",
    "\n",
    "digits_data = digits_data.loc[label_subset_df.index, :].reset_index(drop=True)\n",
    "digit_labels = label_subset_df['class'].to_numpy()"
   ]
  },
  {
   "cell_type": "code",
   "execution_count": null,
   "id": "7e5577ec",
   "metadata": {},
   "outputs": [],
   "source": [
    "# Perfrom UMAP dimensionality reduction\n",
    "umap_obj = umap.UMAP()\n",
    "embedding = umap_obj.fit_transform(digits_data)\n",
    "\n",
    "# Plot embeddings\n",
    "embedding_df = pd.DataFrame(embedding, columns=['UMAP1', 'UMAP2'])\n",
    "embedding_df['label'] = digit_labels\n",
    "\n",
    "sns.scatterplot(embedding_df, x='UMAP1', y='UMAP2', hue='label', alpha=0.6, s=3)\n",
    "plt.title('UMAP - digits dataset')\n",
    "plt.show()"
   ]
  },
  {
   "cell_type": "code",
   "execution_count": null,
   "id": "6b8de308",
   "metadata": {},
   "outputs": [],
   "source": [
    "# Plot clusters and silhouettes for several\n",
    "# values of \"k\"\n",
    "num_clust=10\n",
    "tab10 = list(matplotlib.colormaps['tab10'].colors)\n",
    "\n",
    "# Perform clustering for multiple resolutons\n",
    "fig, axs = plt.subplots(\n",
    "    1, 2, \n",
    "    figsize=(14, 7)\n",
    ")\n",
    "\n",
    "cluster_label_dict = {}\n",
    "    \n",
    "    \n",
    "# Perform clustering for current number of clusters\n",
    "kmeans = KMeans(n_clusters=num_clust, n_init='auto')\n",
    "kmeans.fit(digits_data)\n",
    "\n",
    "sns.scatterplot(\n",
    "    x=embedding[:,0], \n",
    "    y=embedding[:,1], \n",
    "    hue=kmeans.labels_, \n",
    "    ax=axs[0], \n",
    "    s=14, palette='tab10'\n",
    ")\n",
    "    \n",
    "visualizer = SilhouetteVisualizer(\n",
    "    kmeans, \n",
    "    is_fitted=True,\n",
    "    colors=tab10,\n",
    "    ax=axs[1]\n",
    ")\n",
    "\n",
    "visualizer = visualizer.fit(digits_data.to_numpy())"
   ]
  }
 ],
 "metadata": {
  "kernelspec": {
   "display_name": "Python 3 (ipykernel)",
   "language": "python",
   "name": "python3"
  },
  "language_info": {
   "codemirror_mode": {
    "name": "ipython",
    "version": 3
   },
   "file_extension": ".py",
   "mimetype": "text/x-python",
   "name": "python",
   "nbconvert_exporter": "python",
   "pygments_lexer": "ipython3",
   "version": "3.11.3"
  }
 },
 "nbformat": 4,
 "nbformat_minor": 5
}
