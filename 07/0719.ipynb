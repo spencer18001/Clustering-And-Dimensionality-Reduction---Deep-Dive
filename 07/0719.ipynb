{
 "cells": [
  {
   "cell_type": "markdown",
   "id": "a780d4f8",
   "metadata": {},
   "source": [
    "## K-prototypes demo"
   ]
  },
  {
   "cell_type": "code",
   "execution_count": null,
   "id": "27a37718",
   "metadata": {},
   "outputs": [],
   "source": [
    "# data source: https://www.kaggle.com/datasets/blastchar/telco-customer-churn\n",
    "# data licence: https://github.com/IBM/telco-customer-churn-on-icp4d\n",
    "#import sys\n",
    "#!{sys.executable} -m pip install kmodes\n",
    "\n",
    "import random\n",
    "import math\n",
    "\n",
    "import numpy as np\n",
    "import pandas as pd\n",
    "\n",
    "import umap\n",
    "import umap.plot as uplot\n",
    "\n",
    "import matplotlib\n",
    "import matplotlib.pyplot as plt\n",
    "from matplotlib import cm\n",
    "import seaborn as sns\n",
    "\n",
    "from sklearn.preprocessing import OrdinalEncoder, MinMaxScaler\n",
    "from sklearn.metrics import pairwise_distances, silhouette_score, silhouette_samples\n",
    "\n",
    "from kneed import KneeLocator\n",
    "\n",
    "from kmodes.kprototypes import KPrototypes\n",
    "import gower\n",
    "\n",
    "from numba import njit\n",
    "\n",
    "random.seed(42)\n",
    "sns.set_theme()"
   ]
  },
  {
   "cell_type": "markdown",
   "id": "152d3fd8",
   "metadata": {},
   "source": [
    "## Dataset description\n",
    "\n",
    "The Telco Churn Dataset is a customer behavior dataset that includes information about a telecommunications company's customers and whether or not they discontinued their services within the last month (churned). The dataset is typically used to create predictive models to identify customers who are likely to churn in the future.\n",
    "\n",
    "- **customerID**: This is a unique identifier for each customer in the dataset.\n",
    "\n",
    "- **gender**: This indicates the gender of the customer, typically \"Male\" or \"Female\".\n",
    "- **SeniorCitizen**: This is a binary indicator of whether the customer is a senior citizen or not.\n",
    "- **Partner**: This is a binary indicator of whether the customer has a partner or not.\n",
    "- **Dependents**: This is a binary indicator of whether the customer has any dependents or not.\n",
    "- **tenure**: This represents the number of months the customer has been with the company.\n",
    "- **PhoneService**: This is a binary indicator of whether the customer has a phone service or not.\n",
    "- **MultipleLines**: This indicates whether the customer has multiple telephone lines.\n",
    "- **InternetService**: This describes the type of internet service the customer has, typically DSL, Fiber optic, or None.\n",
    "- **OnlineSecurity**: This is a binary indicator of whether the customer has online security services or not.\n",
    "- **OnlineBackup**: This is a binary indicator of whether the customer has online backup services or not.\n",
    "- **DeviceProtection**: This is a binary indicator of whether the customer has device protection services or not.\n",
    "- **TechSupport**: This is a binary indicator of whether the customer has technical support services or not.\n",
    "- **StreamingTV**: This is a binary indicator of whether the customer has streaming TV services or not.\n",
    "- **StreamingMovies**: This is a binary indicator of whether the customer has streaming movie services or not.\n",
    "- **Contract**: This describes the type of contract the customer has with the company, typically Month-to-month, One year, or Two year.\n",
    "- **PaperlessBilling**: This is a binary indicator of whether the customer has opted for paperless billing or not.\n",
    "- **PaymentMethod**: This describes the payment method that the customer uses, such as Electronic check, Mailed check, Bank transfer (automatic), or Credit card (automatic).\n",
    "- **MonthlyCharges**: This represents the amount charged to the customer monthly.\n",
    "- **TotalCharges**: This represents the total amount charged to the customer.\n",
    "- **Churn**: This is a binary indicator of whether the customer churned (discontinued their services) in the last month or not.\n",
    "\n",
    "Citation : IBM Sample Data Sets - Telco customer churn"
   ]
  },
  {
   "cell_type": "markdown",
   "id": "cd3ae76f",
   "metadata": {},
   "source": [
    "## Data loading and preprocessing"
   ]
  },
  {
   "cell_type": "code",
   "execution_count": null,
   "id": "c7d03bfa",
   "metadata": {},
   "outputs": [],
   "source": [
    "# Load the data\n",
    "telco_path = '/Users/dalibor/PycharmProjects/clust/data/k_protos_dsts/WA_Fn-UseC_-Telco-Customer-Churn.csv'\n",
    "telco_df = pd.read_csv(telco_path)\n",
    "telco_df = telco_df.drop_duplicates().reset_index(drop=True)"
   ]
  },
  {
   "cell_type": "code",
   "execution_count": null,
   "id": "d51a1665",
   "metadata": {},
   "outputs": [],
   "source": [
    "# Dataset shape\n",
    "telco_df.shape"
   ]
  },
  {
   "cell_type": "code",
   "execution_count": null,
   "id": "4599f5bc",
   "metadata": {},
   "outputs": [],
   "source": [
    "# Check for missing values\n",
    "telco_df.isnull().sum(axis=0)"
   ]
  },
  {
   "cell_type": "code",
   "execution_count": null,
   "id": "22fbc6b0",
   "metadata": {},
   "outputs": [],
   "source": [
    "telco_df.info()"
   ]
  },
  {
   "cell_type": "code",
   "execution_count": null,
   "id": "aeaf879b",
   "metadata": {},
   "outputs": [],
   "source": [
    "telco_df['SeniorCitizen'] = telco_df['SeniorCitizen'].astype(int).astype('object')"
   ]
  },
  {
   "cell_type": "code",
   "execution_count": null,
   "id": "0de9de07",
   "metadata": {},
   "outputs": [],
   "source": [
    "# Remove rows with non existing TotalCharges\n",
    "telco_df = telco_df[telco_df['TotalCharges']!=' ']\n",
    "telco_df['TotalCharges'] = telco_df['TotalCharges'].astype(float)"
   ]
  },
  {
   "cell_type": "code",
   "execution_count": null,
   "id": "11d9c3bb",
   "metadata": {},
   "outputs": [],
   "source": [
    "telco_df.shape"
   ]
  },
  {
   "cell_type": "code",
   "execution_count": null,
   "id": "97f9adaa",
   "metadata": {},
   "outputs": [],
   "source": [
    "telco_df.head()"
   ]
  },
  {
   "cell_type": "code",
   "execution_count": null,
   "id": "331cad1b",
   "metadata": {},
   "outputs": [],
   "source": [
    "# Get copy of dataframe in order to preserve original values for cluster analysis\n",
    "original_df = telco_df.copy()"
   ]
  },
  {
   "cell_type": "code",
   "execution_count": null,
   "id": "8a068353",
   "metadata": {},
   "outputs": [],
   "source": [
    "# Remove columns that will not be used for clustering\n",
    "other_cols = ['customerID', 'Churn', 'gender', 'SeniorCitizen', 'Partner', 'Dependents']\n",
    "other_df = telco_df.loc[:, other_cols]\n",
    "telco_df = telco_df.dropna().drop(columns=other_cols)"
   ]
  },
  {
   "cell_type": "code",
   "execution_count": null,
   "id": "99bcef14",
   "metadata": {},
   "outputs": [],
   "source": [
    "# Describe numerical attributes of the data\n",
    "telco_df.describe().T"
   ]
  },
  {
   "cell_type": "code",
   "execution_count": null,
   "id": "c9a5949d",
   "metadata": {},
   "outputs": [],
   "source": [
    "# Plot numerical variables\n",
    "_ = telco_df.hist(bins=50, figsize=(14,10))\n",
    "\n",
    "# This ensures the subplots do not overlap\n",
    "plt.tight_layout()  \n",
    "plt.show()"
   ]
  },
  {
   "cell_type": "code",
   "execution_count": null,
   "id": "fd13030f",
   "metadata": {},
   "outputs": [],
   "source": [
    "telco_df['TotalCharges'].skew()"
   ]
  },
  {
   "cell_type": "code",
   "execution_count": null,
   "id": "c37ba79e",
   "metadata": {},
   "outputs": [],
   "source": [
    "# Plot categorical columns\n",
    "categ_cols = telco_df.select_dtypes(include=['object']).columns\n",
    "num_plots = len(categ_cols)\n",
    "\n",
    "# Determine number of rows needed for the grid\n",
    "num_rows = math.ceil(num_plots / 3.0)\n",
    "\n",
    "# Create subplots\n",
    "fig, axs = plt.subplots(num_rows, 3, figsize=(15, num_rows*5))\n",
    "\n",
    "# Flatten the axes array if there's more than one row\n",
    "axs = axs.flatten()\n",
    "\n",
    "# Plot data\n",
    "for i, column in enumerate(categ_cols):\n",
    "    ax = axs[i] \n",
    "    telco_df[column].value_counts().plot(\n",
    "        kind='bar', \n",
    "        ax=ax, \n",
    "        title=column, \n",
    "        xlabel=''\n",
    "    )\n",
    "\n",
    "plt.tight_layout()"
   ]
  },
  {
   "cell_type": "code",
   "execution_count": null,
   "id": "aca42bec",
   "metadata": {},
   "outputs": [],
   "source": [
    "# Get numerical and categorical columns\n",
    "num_cols = list(set(telco_df.columns)-set(categ_cols))\n",
    "\n",
    "# Scale numerical columns\n",
    "telco_df['TotalCharges'] = np.sqrt(telco_df['TotalCharges'])"
   ]
  },
  {
   "cell_type": "code",
   "execution_count": null,
   "id": "5db61def",
   "metadata": {},
   "outputs": [],
   "source": [
    "# Plot numerical variables\n",
    "_ = telco_df.hist(bins=50, figsize=(14,10))\n",
    "\n",
    "# This line ensures the subplots do not overlap\n",
    "plt.tight_layout()  \n",
    "plt.show()"
   ]
  },
  {
   "cell_type": "code",
   "execution_count": null,
   "id": "4d8b6490",
   "metadata": {},
   "outputs": [],
   "source": [
    "# Scale numerical columns\n",
    "standard_scaler = MinMaxScaler()\n",
    "telco_df[num_cols] = standard_scaler.fit_transform(telco_df[num_cols])\n",
    "\n",
    "# Encode categorical columns\n",
    "ord_encoder = OrdinalEncoder(dtype=np.int32)\n",
    "telco_df[categ_cols] = ord_encoder.fit_transform(telco_df[categ_cols])"
   ]
  },
  {
   "cell_type": "code",
   "execution_count": null,
   "id": "5fd0b9cd",
   "metadata": {},
   "outputs": [],
   "source": [
    "# Get positions of categorical and numerical columns\n",
    "df_cols = list(telco_df.columns)\n",
    "\n",
    "numerical_idx = np.array(\n",
    "    [idx for idx, element in enumerate(df_cols) if element in num_cols]\n",
    ")\n",
    "\n",
    "categ_idx = np.array(\n",
    "    [idx for idx, element in enumerate(df_cols) if element in categ_cols]\n",
    ")\n",
    "\n",
    "categ_bool = [True if element in categ_cols else False for element in df_cols]"
   ]
  },
  {
   "cell_type": "markdown",
   "id": "f4d031bb",
   "metadata": {},
   "source": [
    "### UMAP"
   ]
  },
  {
   "cell_type": "code",
   "execution_count": null,
   "id": "cbf6a2ef",
   "metadata": {},
   "outputs": [],
   "source": [
    "pairwise_gower = gower.gower_matrix(telco_df, cat_features=categ_bool)"
   ]
  },
  {
   "cell_type": "code",
   "execution_count": null,
   "id": "74e8eac4",
   "metadata": {},
   "outputs": [],
   "source": [
    "# Embed with umap\n",
    "umap_model = umap.UMAP(\n",
    "    n_neighbors=20, \n",
    "    n_components=2, \n",
    "    random_state=42, \n",
    "    metric='precomputed', \n",
    "    min_dist=0.3\n",
    ")\n",
    "umap_emb_data = umap_model.fit_transform(pairwise_gower)\n",
    "\n",
    "uplot.points(umap_model)"
   ]
  },
  {
   "cell_type": "code",
   "execution_count": null,
   "id": "0a5b359b",
   "metadata": {},
   "outputs": [],
   "source": [
    "umap.plot.connectivity(umap_model, show_points=True)"
   ]
  },
  {
   "cell_type": "code",
   "execution_count": null,
   "id": "0a52f50c",
   "metadata": {},
   "outputs": [],
   "source": [
    "umap.plot.diagnostic(umap_model, diagnostic_type='pca')"
   ]
  },
  {
   "cell_type": "code",
   "execution_count": null,
   "id": "ca6d3bfa",
   "metadata": {},
   "outputs": [],
   "source": [
    "# Embed with umap\n",
    "umap_model = umap.UMAP(\n",
    "    n_neighbors=300, \n",
    "    n_components=2, \n",
    "    random_state=42, \n",
    "    metric='precomputed', \n",
    "    min_dist=0.3\n",
    ")\n",
    "umap_emb_data = umap_model.fit_transform(pairwise_gower)\n",
    "\n",
    "uplot.points(umap_model)"
   ]
  },
  {
   "cell_type": "code",
   "execution_count": null,
   "id": "bd9262df",
   "metadata": {},
   "outputs": [],
   "source": [
    "umap.plot.connectivity(umap_model, show_points=True)"
   ]
  },
  {
   "cell_type": "code",
   "execution_count": null,
   "id": "6a78f366",
   "metadata": {},
   "outputs": [],
   "source": [
    "umap.plot.diagnostic(umap_model, diagnostic_type='pca')"
   ]
  },
  {
   "cell_type": "markdown",
   "id": "c4d98dda",
   "metadata": {},
   "source": [
    "### Mixed distance and k-prototypes"
   ]
  },
  {
   "cell_type": "code",
   "execution_count": null,
   "id": "b25b05fe",
   "metadata": {},
   "outputs": [],
   "source": [
    "gamma = 1/2 * telco_df[num_cols].std().mean()\n",
    "gamma"
   ]
  },
  {
   "cell_type": "code",
   "execution_count": null,
   "id": "20c5357d",
   "metadata": {},
   "outputs": [],
   "source": [
    "def kproto_dist(x, y, num_idx, categ_idx, gamma):\n",
    "    \n",
    "    euclidean_part = np.sum(np.square(x[num_idx] - y[num_idx]))\n",
    "    hamming_part = np.sum(x[categ_idx] == y[categ_idx])\n",
    "    \n",
    "    return euclidean_part + gamma*hamming_part"
   ]
  },
  {
   "cell_type": "code",
   "execution_count": null,
   "id": "0a516df7",
   "metadata": {},
   "outputs": [],
   "source": [
    "@njit\n",
    "def kproto_dist_nmb(x, y, num_idx, categ_idx, gamma):\n",
    "    \n",
    "    euclidean_part = 0\n",
    "    for i in num_idx:\n",
    "        euclidean_part += (x[i] - y[i]) ** 2\n",
    "\n",
    "    hamming_part = 0\n",
    "    for i in categ_idx:\n",
    "        if x[i] != y[i]:\n",
    "            hamming_part += 1\n",
    "\n",
    "    return euclidean_part + gamma * hamming_part"
   ]
  },
  {
   "cell_type": "code",
   "execution_count": null,
   "id": "2209fa5a",
   "metadata": {},
   "outputs": [],
   "source": [
    "xx = telco_df.loc[0].to_numpy()\n",
    "yy = telco_df.loc[1].to_numpy()"
   ]
  },
  {
   "cell_type": "code",
   "execution_count": null,
   "id": "560062a4",
   "metadata": {},
   "outputs": [],
   "source": [
    "%%timeit\n",
    "kproto_dist_nmb(xx,yy,num_idx=numerical_idx, categ_idx=categ_idx, gamma=gamma)"
   ]
  },
  {
   "cell_type": "code",
   "execution_count": null,
   "id": "ada9ed68",
   "metadata": {},
   "outputs": [],
   "source": [
    "%%timeit\n",
    "kproto_dist(xx,yy,num_idx=numerical_idx, categ_idx=categ_idx, gamma=gamma)"
   ]
  },
  {
   "cell_type": "code",
   "execution_count": null,
   "id": "93567147",
   "metadata": {},
   "outputs": [],
   "source": [
    "kproto_pairwise = pairwise_distances(\n",
    "    telco_df.to_numpy(), metric=kproto_dist_nmb, \n",
    "    num_idx=numerical_idx, categ_idx=categ_idx, \n",
    "    gamma=gamma\n",
    ")"
   ]
  },
  {
   "cell_type": "code",
   "execution_count": null,
   "id": "6adbacc5",
   "metadata": {},
   "outputs": [],
   "source": [
    "def plot_silouethes_score(\n",
    "    data, clusters, ax, colormap=None, \n",
    "    distance_measure='euclidean'\n",
    "):\n",
    "    \n",
    "    y_lower = 10\n",
    "\n",
    "    # Calculate average silhouette score\n",
    "    silhouette_scr = silhouette_score(data, clusters, metric=distance_measure)\n",
    "    \n",
    "    # Calculate silhouette score for each data point\n",
    "    sample_silhouette_values = silhouette_samples(data, clusters, metric=distance_measure)\n",
    "\n",
    "    # Number of clusters\n",
    "    num_clust = np.unique(clusters).shape[0]\n",
    "\n",
    "\n",
    "    # Plot siluethe scores for points belonging to each cluster\n",
    "    for clust_i in range(num_clust):\n",
    "        \n",
    "        # Get points bellogning to the current cluster\n",
    "        ith_cluster_silhouette_values = sample_silhouette_values[\n",
    "            clusters == clust_i\n",
    "        ]\n",
    "        \n",
    "        # Sort points by silhouette value\n",
    "        ith_cluster_silhouette_values.sort()\n",
    "        \n",
    "        # Get size of current cluster\n",
    "        size_cluster_i = ith_cluster_silhouette_values.shape[0]\n",
    "        \n",
    "        # Get upper value of y cooridnate for current cluster\n",
    "        y_upper = y_lower + size_cluster_i\n",
    "        \n",
    "        # Fill values between y_lower and y_upper with silhouette score values\n",
    "        # for data points\n",
    "\n",
    "        if colormap:\n",
    "            color = colormap[clust_i]\n",
    "        else:\n",
    "            color = cm.nipy_spectral(float(clust_i) / num_clust)\n",
    "\n",
    "        ax.fill_betweenx(\n",
    "            np.arange(y_lower, y_upper),\n",
    "            0,\n",
    "            ith_cluster_silhouette_values,\n",
    "            facecolor=color,\n",
    "            edgecolor=color,\n",
    "            alpha=0.7\n",
    "        )\n",
    "        \n",
    "        # Label the silhouette plots with their cluster numbers at the middle\n",
    "        ax.text(-0.05, y_lower + 0.5 * size_cluster_i, str(clust_i))\n",
    "\n",
    "        # Compute the new y_lower for next plot\n",
    "        y_lower = y_upper + 10\n",
    "        \n",
    "    ax.axvline(x=silhouette_scr, color='r', linestyle='--')\n",
    "\n",
    "    # Set title and labels for the silhouette subplot\n",
    "    ax.set_yticklabels([])\n",
    "    ax.set_title(\"The silhouette plot for the various clusters.\")\n",
    "    ax.set_xlabel(\"The silhouette coefficient values\")\n",
    "    ax.set_ylabel(\"Cluster label\")\n",
    "    \n",
    "    return silhouette_scr"
   ]
  },
  {
   "cell_type": "code",
   "execution_count": null,
   "id": "f04f0804",
   "metadata": {},
   "outputs": [],
   "source": [
    "# Perform clustering for multiple values of k\n",
    "candidate_k = [2,3,4,5,6,7]\n",
    "tab10 = list(matplotlib.colormaps['tab10'].colors)\n",
    "\n",
    "cost_list = []\n",
    "silhouette_list = []\n",
    "\n",
    "fig, axs = plt.subplots(\n",
    "    len(candidate_k), 2, \n",
    "    figsize=(12, len(candidate_k)*5)\n",
    ")\n",
    "\n",
    "cluster_label_dict = {}\n",
    "\n",
    "for i, num_clust in enumerate(candidate_k):\n",
    "    \n",
    "    print('Performing clustering for k = {}'.format(num_clust))\n",
    "    \n",
    "    # Perform clustering for current number of clusters\n",
    "    kproto = KPrototypes(n_clusters=num_clust, init='Cao', n_jobs=8)\n",
    "\n",
    "    kproto.fit(telco_df.to_numpy(), categorical=list(categ_idx))\n",
    "    \n",
    "    sns.scatterplot(\n",
    "        x=umap_emb_data[:,0], \n",
    "        y=umap_emb_data[:,1], \n",
    "        hue=kproto.labels_, \n",
    "        s=3, palette='tab10',\n",
    "        ax=axs[i, 0]\n",
    "    )\n",
    "        \n",
    "    plt.xlabel('UMAP1')\n",
    "    plt.ylabel('UMAP2')\n",
    "    \n",
    "    curr_silhouette = plot_silouethes_score(\n",
    "        data=kproto_pairwise,\n",
    "        clusters=kproto.labels_,\n",
    "        ax=axs[i, 1],\n",
    "        distance_measure='precomputed',\n",
    "        colormap=tab10\n",
    "    )\n",
    "    \n",
    "    cluster_label_dict[num_clust] = kproto.labels_\n",
    "    cost_list.append(kproto.cost_)\n",
    "    silhouette_list.append(curr_silhouette)\n",
    "\n",
    "plt.show()"
   ]
  },
  {
   "cell_type": "code",
   "execution_count": null,
   "id": "1bfb1386",
   "metadata": {},
   "outputs": [],
   "source": [
    "plt.figure()\n",
    "plt.plot(candidate_k, silhouette_list)\n",
    "plt.title('Silhouette scores')\n",
    "plt.xlabel('Number of clusters')\n",
    "plt.ylabel('Score values')\n",
    "plt.show()"
   ]
  },
  {
   "cell_type": "code",
   "execution_count": null,
   "id": "8a4358ae",
   "metadata": {},
   "outputs": [],
   "source": [
    "# Use knee locator to find best number of clusters\n",
    "kneedle = KneeLocator(\n",
    "    candidate_k, \n",
    "    cost_list, \n",
    "    S=1.0, \n",
    "    curve=\"convex\", \n",
    "    direction=\"decreasing\"\n",
    ")\n",
    "kneedle.plot_knee()"
   ]
  },
  {
   "cell_type": "code",
   "execution_count": null,
   "id": "9955cf23",
   "metadata": {},
   "outputs": [],
   "source": [
    "uplot.points(umap_model, labels=original_df['Churn'].to_numpy())"
   ]
  },
  {
   "cell_type": "code",
   "execution_count": null,
   "id": "12c8821e",
   "metadata": {},
   "outputs": [],
   "source": [
    "uplot.points(umap_model, labels=cluster_label_dict[5])"
   ]
  },
  {
   "cell_type": "code",
   "execution_count": null,
   "id": "c973cdba",
   "metadata": {},
   "outputs": [],
   "source": [
    "# Add cluster info to df\n",
    "original_df['cluster'] = cluster_label_dict[5]"
   ]
  },
  {
   "cell_type": "markdown",
   "id": "c0fb3b76",
   "metadata": {},
   "source": [
    "## Cluster analysis"
   ]
  },
  {
   "cell_type": "code",
   "execution_count": null,
   "id": "7320bb0a",
   "metadata": {},
   "outputs": [],
   "source": [
    "original_df['cluster'].value_counts()"
   ]
  },
  {
   "cell_type": "code",
   "execution_count": null,
   "id": "8e296b22",
   "metadata": {},
   "outputs": [],
   "source": [
    "# Plot other categorical data [not used during clustering]\n",
    "for col in ['Churn', 'gender', 'SeniorCitizen', 'Partner', 'Dependents']:\n",
    "    \n",
    "    if col != 'cluster':\n",
    "        \n",
    "        # Calculate proportions\n",
    "        proportions = original_df.groupby(\n",
    "            'cluster'\n",
    "        )[col].value_counts(\n",
    "            normalize=True\n",
    "        ).unstack()\n",
    "                \n",
    "        # Create stacked bar plot\n",
    "        ax = proportions.plot(kind='bar', stacked=True, figsize=(10, 6))\n",
    "        plt.title(f'Cluster distribution for {col}')\n",
    "        plt.ylabel('Proportion')\n",
    "\n",
    "        # Add legend\n",
    "        plt.legend(title=col, bbox_to_anchor=(1.05, 1), loc='upper left')\n",
    "\n",
    "        # Get category labels\n",
    "        category_labels = proportions.columns.tolist()[::-1]\n",
    "\n",
    "        # Add percentages and category labels on the stacks\n",
    "        for i, patch in enumerate(ax.patches):\n",
    "            width, height = patch.get_width(), patch.get_height()\n",
    "            if height > 0:  # Skip patches with height 0\n",
    "                x, y = patch.get_xy() \n",
    "\n",
    "                ax.text(x+width/2, \n",
    "                        y+height/2, \n",
    "                        '\\n{:.0f} %'.format(height*100), \n",
    "                        horizontalalignment='center', \n",
    "                        verticalalignment='center')\n",
    "\n",
    "        plt.show()"
   ]
  },
  {
   "cell_type": "code",
   "execution_count": null,
   "id": "77bfe633",
   "metadata": {
    "scrolled": false
   },
   "outputs": [],
   "source": [
    "# Categorical plots\n",
    "\n",
    "for col in categ_cols:\n",
    "    if col != 'cluster':\n",
    "        \n",
    "        # Calculate proportions\n",
    "        proportions = original_df.groupby(\n",
    "            'cluster'\n",
    "        )[col].value_counts(\n",
    "            normalize=True\n",
    "        ).unstack()\n",
    "                \n",
    "        # Create stacked bar plot\n",
    "        ax = proportions.plot(kind='bar', stacked=True, figsize=(10, 6))\n",
    "        plt.title(f'Cluster distribution for {col}')\n",
    "        plt.ylabel('Proportion')\n",
    "\n",
    "        # Add legend\n",
    "        plt.legend(title=col, bbox_to_anchor=(1.05, 1), loc='upper left')\n",
    "\n",
    "        # Get category labels\n",
    "        category_labels = proportions.columns.tolist()[::-1]\n",
    "\n",
    "        # Add percentages and category labels on the stacks\n",
    "        for i, patch in enumerate(ax.patches):\n",
    "            width, height = patch.get_width(), patch.get_height()\n",
    "            if height > 0:  # Skip patches with height 0\n",
    "                x, y = patch.get_xy() \n",
    "\n",
    "                ax.text(x+width/2, \n",
    "                        y+height/2, \n",
    "                        '\\n{:.0f} %'.format(height*100), \n",
    "                        horizontalalignment='center', \n",
    "                        verticalalignment='center')\n",
    "\n",
    "        plt.show()"
   ]
  },
  {
   "cell_type": "code",
   "execution_count": null,
   "id": "da6a70d3",
   "metadata": {},
   "outputs": [],
   "source": [
    "# Plot numerical \n",
    "for col in num_cols:\n",
    "    \n",
    "    plt.figure()\n",
    "    sns.boxplot(original_df, x='cluster', y=col)\n",
    "    plt.title(col)"
   ]
  }
 ],
 "metadata": {
  "kernelspec": {
   "display_name": "Python 3 (ipykernel)",
   "language": "python",
   "name": "python3"
  },
  "language_info": {
   "codemirror_mode": {
    "name": "ipython",
    "version": 3
   },
   "file_extension": ".py",
   "mimetype": "text/x-python",
   "name": "python",
   "nbconvert_exporter": "python",
   "pygments_lexer": "ipython3",
   "version": "3.11.3"
  }
 },
 "nbformat": 4,
 "nbformat_minor": 5
}
