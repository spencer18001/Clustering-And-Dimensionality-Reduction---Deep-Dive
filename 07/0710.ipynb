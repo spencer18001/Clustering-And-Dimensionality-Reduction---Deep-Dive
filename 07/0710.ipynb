{
 "cells": [
  {
   "cell_type": "markdown",
   "metadata": {},
   "source": [
    "## Categorical features - encoding and distances"
   ]
  },
  {
   "cell_type": "code",
   "execution_count": null,
   "metadata": {},
   "outputs": [],
   "source": [
    "import numpy as np\n",
    "import pandas as pd\n",
    "\n",
    "from sklearn.preprocessing import OrdinalEncoder, OneHotEncoder \n",
    "from sklearn.metrics import pairwise_distances\n",
    "\n",
    "from scipy.spatial.distance import hamming, euclidean, pdist, squareform"
   ]
  },
  {
   "cell_type": "markdown",
   "metadata": {},
   "source": [
    "## Soyabeen small dataset\n",
    "\n",
    "A dataset of soybean plant observations, including information on plants infested by one of four diseases.\n",
    "\n",
    "- Dataset contains 47 instances.\n",
    "- Each instance represents a single plant.\n",
    "- Characterized by 35 attributes.\n",
    "- Attributes are categorical.\n",
    "- Attributes mostly capture various symptoms like leaf spots, root rot, mold growth, seed damage, etc.\n",
    "\n",
    "Citation:\n",
    "\n",
    "- Michalski,R.. (1987). Soybean (Small). UCI Machine Learning Repository. https://doi.org/10.24432/C5DS3P.\n",
    "\n",
    "First 2 features:\n",
    "\n",
    "1. **Date**: The time when the soybean sample was collected. May be represented as a date or as the day of the year.\n",
    "  \n",
    "2. **Hail**: Indicates whether the plants have been affected by hail, generally a binary \"yes\" or \"no.\"\n",
    "\n",
    "3. **Germination**: Describes the rate of germination."
   ]
  },
  {
   "cell_type": "code",
   "execution_count": null,
   "metadata": {},
   "outputs": [],
   "source": [
    "soybean_path = 'data/soybean/soybean_data_use.csv'\n",
    "\n",
    "soy_df = pd.read_csv(soybean_path)\n",
    "\n",
    "soy_df = soy_df.loc[:10, ['date', 'hail', 'germination']]\n",
    "\n",
    "soy_df"
   ]
  },
  {
   "cell_type": "code",
   "execution_count": null,
   "metadata": {},
   "outputs": [],
   "source": [
    "soy_df['date'].unique()"
   ]
  },
  {
   "cell_type": "code",
   "execution_count": null,
   "metadata": {},
   "outputs": [],
   "source": [
    "soy_df['hail'].unique()"
   ]
  },
  {
   "cell_type": "code",
   "execution_count": null,
   "metadata": {},
   "outputs": [],
   "source": [
    "soy_df['germination'].unique()"
   ]
  },
  {
   "cell_type": "markdown",
   "metadata": {},
   "source": [
    "### Hamming distance"
   ]
  },
  {
   "cell_type": "code",
   "execution_count": null,
   "metadata": {},
   "outputs": [],
   "source": [
    "soy_df.loc[:1, :]"
   ]
  },
  {
   "cell_type": "code",
   "execution_count": null,
   "metadata": {},
   "outputs": [],
   "source": [
    "hamming(soy_df.loc[0].to_numpy(), soy_df.loc[1].to_numpy())"
   ]
  },
  {
   "cell_type": "code",
   "execution_count": null,
   "metadata": {},
   "outputs": [],
   "source": [
    "dst = pdist(soy_df.to_numpy(), metric='hamming')\n",
    "dst_matrix = squareform(dst)\n",
    "pd.DataFrame(dst_matrix)"
   ]
  },
  {
   "cell_type": "code",
   "execution_count": null,
   "metadata": {},
   "outputs": [],
   "source": [
    "soy_df"
   ]
  },
  {
   "cell_type": "code",
   "execution_count": null,
   "metadata": {},
   "outputs": [],
   "source": [
    "or_encoder = OrdinalEncoder() \n",
    "soy_df_enc = or_encoder.fit_transform(soy_df)\n",
    "soy_df_enc"
   ]
  },
  {
   "cell_type": "code",
   "execution_count": null,
   "metadata": {},
   "outputs": [],
   "source": [
    "dst = pdist(soy_df_enc, metric='hamming')\n",
    "dst"
   ]
  },
  {
   "cell_type": "code",
   "execution_count": null,
   "metadata": {},
   "outputs": [],
   "source": [
    "dst_matrix = squareform(dst)\n",
    "pd.DataFrame(dst_matrix)"
   ]
  },
  {
   "cell_type": "code",
   "execution_count": null,
   "metadata": {},
   "outputs": [],
   "source": [
    "dst_matrix1 = pairwise_distances(soy_df_enc, metric='hamming')\n",
    "pd.DataFrame(dst_matrix)"
   ]
  },
  {
   "cell_type": "code",
   "execution_count": null,
   "metadata": {},
   "outputs": [],
   "source": [
    "np.array_equal(dst_matrix, dst_matrix1)"
   ]
  },
  {
   "cell_type": "markdown",
   "metadata": {},
   "source": [
    "### Euclidean distance"
   ]
  },
  {
   "cell_type": "code",
   "execution_count": null,
   "metadata": {},
   "outputs": [],
   "source": [
    "oh_encoder = OneHotEncoder(sparse_output=False) \n",
    "soy_df_oh_enc = oh_encoder.fit_transform(soy_df)"
   ]
  },
  {
   "cell_type": "code",
   "execution_count": null,
   "metadata": {},
   "outputs": [],
   "source": [
    "soy_df.nunique()"
   ]
  },
  {
   "cell_type": "code",
   "execution_count": null,
   "metadata": {},
   "outputs": [],
   "source": [
    "soy_df_oh_enc"
   ]
  },
  {
   "cell_type": "code",
   "execution_count": null,
   "metadata": {},
   "outputs": [],
   "source": [
    "soy_df_oh_enc.shape"
   ]
  },
  {
   "cell_type": "code",
   "execution_count": null,
   "metadata": {},
   "outputs": [],
   "source": [
    "euclidean(soy_df_oh_enc[0,:], soy_df_oh_enc[1,:])"
   ]
  },
  {
   "cell_type": "code",
   "execution_count": null,
   "metadata": {},
   "outputs": [],
   "source": [
    "dst = pdist(soy_df_oh_enc, metric='euclidean')\n",
    "dst_matrix = squareform(dst)\n",
    "pd.DataFrame(dst_matrix)"
   ]
  },
  {
   "cell_type": "code",
   "execution_count": null,
   "metadata": {},
   "outputs": [],
   "source": [
    "dst_matrix1 = pairwise_distances(soy_df_oh_enc, metric='euclidean')\n",
    "pd.DataFrame(dst_matrix)"
   ]
  }
 ],
 "metadata": {
  "kernelspec": {
   "display_name": "test_env_2",
   "language": "python",
   "name": "python3"
  },
  "language_info": {
   "codemirror_mode": {
    "name": "ipython",
    "version": 3
   },
   "file_extension": ".py",
   "mimetype": "text/x-python",
   "name": "python",
   "nbconvert_exporter": "python",
   "pygments_lexer": "ipython3",
   "version": "3.11.3"
  },
  "orig_nbformat": 4
 },
 "nbformat": 4,
 "nbformat_minor": 2
}
