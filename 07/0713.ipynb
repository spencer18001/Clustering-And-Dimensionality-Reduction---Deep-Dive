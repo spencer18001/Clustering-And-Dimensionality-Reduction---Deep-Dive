{
 "cells": [
  {
   "cell_type": "markdown",
   "id": "2600d69f",
   "metadata": {},
   "source": [
    "## Clustering categorical data with K-means and one hot encoding"
   ]
  },
  {
   "cell_type": "code",
   "execution_count": null,
   "id": "eed47a82",
   "metadata": {},
   "outputs": [],
   "source": [
    "#import sys\n",
    "#!{sys.executable} -m pip install kmodes\n",
    "\n",
    "import pandas as pd\n",
    "\n",
    "import matplotlib\n",
    "import matplotlib.pyplot as plt\n",
    "import seaborn as sns\n",
    "\n",
    "from sklearn.preprocessing import OneHotEncoder\n",
    "from sklearn.metrics import adjusted_rand_score\n",
    "\n",
    "from sklearn.cluster import KMeans\n",
    "\n",
    "# yellowbrick libs\n",
    "from yellowbrick.cluster import KElbowVisualizer\n",
    "from yellowbrick.cluster import SilhouetteVisualizer\n",
    "\n",
    "import umap\n",
    "import umap.plot as uplot\n",
    "\n",
    "plt.rcParams[\"figure.figsize\"] = (11,7)\n",
    "sns.set_theme()"
   ]
  },
  {
   "cell_type": "markdown",
   "id": "eba01cf6",
   "metadata": {},
   "source": [
    "### Soyabeen small dataset\n",
    "\n",
    "A dataset of soybean plant observations, including information on plants infested by one of four diseases.\n",
    "\n",
    "- Dataset contains 47 instances.\n",
    "- Each instance represents a single plant.\n",
    "- Characterized by 35 attributes.\n",
    "- Attributes are categorical.\n",
    "- Attributes mostly capture various symptoms like leaf spots, root rot, mold growth, seed damage, etc.\n",
    "\n",
    "Citation:\n",
    "\n",
    "- Michalski,R.. (1987). Soybean (Small). UCI Machine Learning Repository. https://doi.org/10.24432/C5DS3P.\n",
    "\n",
    "The goal of the dataset is to diagnose four different types of diseases: \n",
    "- D1 (diaporthe stem canker)\n",
    "- D2 (charcoal rot)\n",
    "- D3 (rhizoctonia root rot)\n",
    "- D4 (phytophthora root rot)\n",
    "\n",
    "### Features:\n",
    "\n",
    "\n",
    "1. **Date**: Represents the specific time of soybean sample collection, crucial for understanding seasonal impacts on plant health.\n",
    "  \n",
    "2. **Plant Stand**: Qualitatively assesses the uniformity and health of the plant population, informing about possible early-stage diseases or growth issues.\n",
    "\n",
    "3. **Precipitation**: Captures the water level conditions around the sampling time, providing insights into potential water-related stress factors.\n",
    "  \n",
    "4. **Temperature**: Reflects the average climatic temperature at the time of observation, crucial for assessing environmental stress conditions.\n",
    "\n",
    "5. **Hail**: A binary indicator that identifies whether the plant has undergone hail damage, which could affect overall plant health.\n",
    "\n",
    "6. **Crop Hist**: Denotes the type of crop previously grown in the same field, essential for understanding soil quality and disease carryover risks.\n",
    "\n",
    "7. **Area Damaged**: Quantifies the spatial extent of observable damage, useful for gauging the disease's progression.\n",
    "\n",
    "8. **Severity**: Categorizes the observable symptoms into different severity levels, aiding in diagnostic precision.\n",
    "\n",
    "9. **Seed Tmt**: Indicates whether the seeds underwent any treatment before planting, offering clues to possible resistance against diseases.\n",
    "\n",
    "10. **Germination**: Measures the proportion of seeds that successfully sprouted, a potential early indicator of crop health.\n",
    "\n",
    "11. **Plant Growth**: Describes the overall plant morphology, allowing for assessments of nutritional status or genetic factors.\n",
    "\n",
    "12. **Leaves**: Evaluates leaf condition, which is often the first site of symptom expression in many plant diseases.\n",
    "\n",
    "13. **Leafspots Halo**: Details the characteristics of leaf spots, such as color and shape, aiding in disease identification.\n",
    "\n",
    "14. **Leafspots Margins**: Describes the edge characteristics of any leaf spots, essential for distinguishing between multiple diseases.\n",
    "\n",
    "15. **Leafspot Size**: Categorizes the dimensions of leaf spots, crucial for severity assessment.\n",
    "\n",
    "16. **Leaf Shread**: A binary flag for the presence of leaf shredding, often indicative of mechanical damage or specific diseases.\n",
    "\n",
    "17. **Leaf Malf**: A binary indicator for the presence of deformities in the leaves, which may suggest genetic or environmental stresses.\n",
    "\n",
    "18. **Leaf Mild**: Indicates the presence or absence of mildew on the leaves, a common symptom for various fungal diseases.\n",
    "\n",
    "19. **Stem**: Assesses the stem's physical condition, another critical site for symptom manifestation.\n",
    "\n",
    "20. **Lodging**: A binary flag that notes whether the plant is upright or has fallen, often indicative of structural weakness or disease.\n",
    "\n",
    "21. **Stem Cankers**: Details the characteristics of stem cankers if present, essential for identifying specific stem diseases.\n",
    "\n",
    "22. **Canker Lesion**: Documents the type and appearance of canker lesions on the stem, crucial for diagnostic accuracy.\n",
    "\n",
    "23. **Fruiting Bodies**: A binary indicator of the presence of fruiting bodies, suggesting advanced stages of certain fungal diseases.\n",
    "\n",
    "24. **External Decay**: Flags the presence of decay on the plant's exterior, indicative of severe fungal or bacterial infection.\n",
    "\n",
    "25. **Mycelium**: A binary indicator for the presence of fungal mycelium, a sign of fungal diseases.\n",
    "\n",
    "26. **Int Discolor**: Flags internal discoloration, often indicative of systemic infections.\n",
    "\n",
    "27. **Sclerotia**: Indicates the presence of sclerotial bodies, commonly associated with advanced fungal diseases.\n",
    "\n",
    "28. **Fruit Pods**: Evaluates the overall health of the fruit pods, crucial for assessing the final yield quality.\n",
    "\n",
    "29. **Fruit Spots**: Documents any spotting conditions on the fruit, useful for identifying fruit-specific diseases.\n",
    "\n",
    "30. **Seed**: Examines seed health, important for both yield quality and disease diagnostics.\n",
    "\n",
    "31. **Mold Growth**: A binary flag for the presence of mold, often indicative of storage conditions or late-stage diseases.\n",
    "\n",
    "32. **Seed Discolor**: Flags any discoloration in the seeds, a symptom of specific seed-borne diseases.\n",
    "\n",
    "33. **Seed Size**: Categorizes seed dimensions, providing insights into nutritional conditions and disease impacts.\n",
    "\n",
    "34. **Shriveling**: Flags the presence of seed shriveling, indicative of dehydration or specific diseases.\n",
    "\n",
    "35. **Roots**: Assesses root health, providing insights into soil-borne diseases and nutritional deficiencies."
   ]
  },
  {
   "cell_type": "code",
   "execution_count": null,
   "id": "0ddc700a",
   "metadata": {},
   "outputs": [],
   "source": [
    "soybean_path = 'data/soybean/soybean_data_use.csv'\n",
    "\n",
    "soy_df = pd.read_csv(soybean_path)"
   ]
  },
  {
   "cell_type": "code",
   "execution_count": null,
   "id": "d660a28e",
   "metadata": {},
   "outputs": [],
   "source": [
    "soy_df.head()"
   ]
  },
  {
   "cell_type": "code",
   "execution_count": null,
   "id": "67ddd23a",
   "metadata": {},
   "outputs": [],
   "source": [
    "soy_df.isna().sum().sum()"
   ]
  },
  {
   "cell_type": "code",
   "execution_count": null,
   "id": "a7377edd",
   "metadata": {},
   "outputs": [],
   "source": [
    "unique_vals_series = soy_df.nunique()\n",
    "unique_vals_series"
   ]
  },
  {
   "cell_type": "code",
   "execution_count": null,
   "id": "a462502f",
   "metadata": {},
   "outputs": [],
   "source": [
    "remove_cols = list(unique_vals_series[unique_vals_series==1].index)\n",
    "remove_cols"
   ]
  },
  {
   "cell_type": "code",
   "execution_count": null,
   "id": "b067ba4b",
   "metadata": {},
   "outputs": [],
   "source": [
    "# Extract disease column into new label variable\n",
    "label = soy_df['class']\n",
    "\n",
    "# Remove class column and columns having only single unique value\n",
    "soy_df = soy_df.drop(columns=['class']+remove_cols)"
   ]
  },
  {
   "cell_type": "code",
   "execution_count": null,
   "id": "db28e9a4",
   "metadata": {},
   "outputs": [],
   "source": [
    "# Print unique value of each label\n",
    "label.value_counts()"
   ]
  },
  {
   "cell_type": "markdown",
   "id": "c3cae83a",
   "metadata": {},
   "source": [
    "### K-means clustering"
   ]
  },
  {
   "cell_type": "code",
   "execution_count": null,
   "id": "a13f0802",
   "metadata": {},
   "outputs": [],
   "source": [
    "# Convert categorical features into numerical features using ordinal encoding\n",
    "encoder = OneHotEncoder(sparse_output=False)\n",
    "encoded_features = encoder.fit_transform(soy_df)"
   ]
  },
  {
   "cell_type": "code",
   "execution_count": null,
   "id": "72d085ba",
   "metadata": {},
   "outputs": [],
   "source": [
    "model = KMeans(n_init='auto', random_state=42)\n",
    "\n",
    "visualizer = KElbowVisualizer(model, k=(2,3,4,5,6,7))\n",
    "\n",
    "visualizer.fit(encoded_features)       \n",
    "visualizer.show()"
   ]
  },
  {
   "cell_type": "code",
   "execution_count": null,
   "id": "7318d0ba",
   "metadata": {},
   "outputs": [],
   "source": [
    "model = KMeans(n_init='auto', random_state=42)\n",
    "\n",
    "visualizer = KElbowVisualizer(model, k=(2,3,4,5,6,7), metric='silhouette', locate_elbow=False)\n",
    "\n",
    "visualizer=visualizer.fit(encoded_features)       \n",
    "visualizer.show()"
   ]
  },
  {
   "cell_type": "code",
   "execution_count": null,
   "id": "b06792c5",
   "metadata": {},
   "outputs": [],
   "source": [
    "# Embed with umap\n",
    "umap_model = umap.UMAP(n_neighbors=20, n_components=2, random_state=42, metric='euclidean')\n",
    "umap_emb_data = umap_model.fit_transform(encoded_features)\n",
    "\n",
    "uplot.points(umap_model)"
   ]
  },
  {
   "cell_type": "code",
   "execution_count": null,
   "id": "8235c17f",
   "metadata": {},
   "outputs": [],
   "source": [
    "umap.plot.connectivity(umap_model, show_points=True)"
   ]
  },
  {
   "cell_type": "code",
   "execution_count": null,
   "id": "9bfc77ce",
   "metadata": {},
   "outputs": [],
   "source": [
    "# Perform clustering for multiple k\n",
    "candidate_k = [3,4,5]\n",
    "tab10 = list(matplotlib.colormaps['tab10'].colors)\n",
    "\n",
    "fig, axs = plt.subplots(\n",
    "    len(candidate_k), 2, \n",
    "    figsize=(12, 24)\n",
    ")\n",
    "\n",
    "cluster_label_dict = {}\n",
    "for i, num_clust in enumerate(candidate_k):\n",
    "    \n",
    "    \n",
    "    # Perform clustering for current number of clusters\n",
    "    kmeans = KMeans(n_clusters=num_clust, n_init='auto', random_state=42)\n",
    "    kmeans.fit(encoded_features)\n",
    "    \n",
    "    sns.scatterplot(\n",
    "        x=umap_emb_data[:,0], \n",
    "        y=umap_emb_data[:,1], \n",
    "        hue=kmeans.labels_, \n",
    "        ax=axs[i, 0], \n",
    "        s=14, palette='tab10'\n",
    "    )\n",
    "    \n",
    "    axs[i,0].set_xlabel('UMAP1')\n",
    "    axs[i,0].set_ylabel('UMAP2')\n",
    "\n",
    "        \n",
    "    visualizer = SilhouetteVisualizer(\n",
    "        kmeans, \n",
    "        is_fitted=True,\n",
    "        colors=tab10,\n",
    "        ax=axs[i, 1]\n",
    "    )\n",
    "    \n",
    "    visualizer = visualizer.fit(encoded_features)\n",
    "    \n",
    "    cluster_label_dict[num_clust] = kmeans.labels_\n"
   ]
  },
  {
   "cell_type": "code",
   "execution_count": null,
   "id": "0814b7f1",
   "metadata": {},
   "outputs": [],
   "source": [
    "kmeans = KMeans(n_clusters=4, n_init='auto', random_state=42)\n",
    "cluster_labels = kmeans.fit_predict(encoded_features)\n",
    "\n",
    "\n",
    "adjusted_rand_score(label, cluster_labels)"
   ]
  }
 ],
 "metadata": {
  "kernelspec": {
   "display_name": "Python 3 (ipykernel)",
   "language": "python",
   "name": "python3"
  },
  "language_info": {
   "codemirror_mode": {
    "name": "ipython",
    "version": 3
   },
   "file_extension": ".py",
   "mimetype": "text/x-python",
   "name": "python",
   "nbconvert_exporter": "python",
   "pygments_lexer": "ipython3",
   "version": "3.11.3"
  }
 },
 "nbformat": 4,
 "nbformat_minor": 5
}
