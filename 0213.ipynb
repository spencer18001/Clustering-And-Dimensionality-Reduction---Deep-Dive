{
 "cells": [
  {
   "attachments": {},
   "cell_type": "markdown",
   "metadata": {},
   "source": [
    "## Unpacking iterable data types\n",
    "\n",
    "### Lecture agenda\n",
    "\n",
    "- Basic unpacking\n",
    "- Unpacking with *\n",
    "- Unpacking with **\n",
    "\n",
    "### Definitions\n",
    "\n",
    "- Unpacking is a way to assign values from a list (or other iterable) to multiple variables at once. It's called \"unpacking\" because you can think of the list as a packed suitcase, and you're taking out (or \"unpacking\") the items and assigning them to variables."
   ]
  },
  {
   "attachments": {},
   "cell_type": "markdown",
   "metadata": {},
   "source": [
    "#### Basic unpacking"
   ]
  },
  {
   "cell_type": "code",
   "execution_count": null,
   "metadata": {},
   "outputs": [],
   "source": [
    "# Unpack list\n",
    "l1 = [1, 2, 3]\n",
    "\n",
    "a, b, c = l1\n",
    "\n",
    "print('a : {}'.format(a))\n",
    "print('b : {}'.format(b))\n",
    "print('c : {}'.format(c))"
   ]
  },
  {
   "cell_type": "code",
   "execution_count": null,
   "metadata": {},
   "outputs": [],
   "source": [
    "# Unpack tuple\n",
    "t1 = (4, 5, 6)\n",
    "a, b, c = t1\n",
    "print('a : {}'.format(a)) \n",
    "print('b : {}'.format(b))\n",
    "print('c : {}'.format(c)) "
   ]
  },
  {
   "cell_type": "code",
   "execution_count": null,
   "metadata": {},
   "outputs": [],
   "source": [
    "# Unpack set\n",
    "s1 = {9, 7, 8}\n",
    "a, b, c = s1\n",
    "print('a : {}'.format(a))\n",
    "print('b : {}'.format(b))\n",
    "print('c : {}'.format(c))"
   ]
  },
  {
   "cell_type": "code",
   "execution_count": null,
   "metadata": {},
   "outputs": [],
   "source": [
    "# Cant unpack dict the same way\n",
    "d1 = {'k1': 1, 'k2': 2, 'k3': 3}\n",
    "a, b, c = d1\n",
    "print('a : {}'.format(a))\n",
    "print('b : {}'.format(b))\n",
    "print('c : {}'.format(c))"
   ]
  },
  {
   "cell_type": "code",
   "execution_count": null,
   "metadata": {},
   "outputs": [],
   "source": [
    "# Unpack list\n",
    "l1 = [1, 2, 3, 4]\n",
    "\n",
    "a, b, c = l1\n",
    "\n",
    "print('a : {}'.format(a))\n",
    "print('b : {}'.format(b))\n",
    "print('c : {}'.format(c))"
   ]
  },
  {
   "attachments": {},
   "cell_type": "markdown",
   "metadata": {},
   "source": [
    "##### Single star operator"
   ]
  },
  {
   "cell_type": "code",
   "execution_count": null,
   "metadata": {},
   "outputs": [],
   "source": [
    "# Using star to pick up remaining elements\n",
    "l1 = [1, 2, 3, 4, 5, 6, 7]\n",
    "\n",
    "a, b, *c = l1\n",
    "\n",
    "print('a : {}'.format(a))\n",
    "print('b : {}'.format(b))\n",
    "print('c : {}'.format(c)) "
   ]
  },
  {
   "cell_type": "code",
   "execution_count": null,
   "metadata": {},
   "outputs": [],
   "source": [
    "# Using star to pick up middle elements\n",
    "l1 = [1, 2, 3, 4, 5, 6, 7]\n",
    "\n",
    "a, *b, c = l1\n",
    "\n",
    "print('a : {}'.format(a))\n",
    "print('b : {}'.format(b))\n",
    "print('c : {}'.format(c)) "
   ]
  },
  {
   "cell_type": "code",
   "execution_count": null,
   "metadata": {},
   "outputs": [],
   "source": [
    "# Two stars cant be used\n",
    "l1 = [1, 2, 3, 4, 5, 6, 7]\n",
    "\n",
    "a, *b, *c = l1\n",
    "\n",
    "print('a : {}'.format(a))\n",
    "print('b : {}'.format(b))\n",
    "print('c : {}'.format(c)) "
   ]
  },
  {
   "cell_type": "code",
   "execution_count": null,
   "metadata": {},
   "outputs": [],
   "source": [
    "# Unpacking lists on the righthand side\n",
    "l2 = ['blue', 'orange']\n",
    "l3 = [*l1, *l2]\n",
    "l3"
   ]
  },
  {
   "attachments": {},
   "cell_type": "markdown",
   "metadata": {},
   "source": [
    "##### Double star operator"
   ]
  },
  {
   "cell_type": "code",
   "execution_count": null,
   "metadata": {},
   "outputs": [],
   "source": [
    "# Unpacking dicts with double star\n",
    "\n",
    "d1 = {\n",
    "    'a': 1,\n",
    "    'x': 2,\n",
    "}\n",
    "\n",
    "d2 = {\n",
    "    'b': 4,\n",
    "    'c': 10\n",
    "}\n",
    "\n",
    "d3 = {**d1, **d2}\n",
    "d3"
   ]
  },
  {
   "cell_type": "code",
   "execution_count": null,
   "metadata": {},
   "outputs": [],
   "source": [
    "# Unpacking dicts with double star\n",
    "\n",
    "d1 = {\n",
    "    'a': 1,\n",
    "    'b': 2,\n",
    "}\n",
    "\n",
    "d2 = {\n",
    "    'b': 4,\n",
    "    'c': 10\n",
    "}\n",
    "\n",
    "d3 = {**d1, **d2}\n",
    "d3"
   ]
  },
  {
   "cell_type": "markdown",
   "metadata": {},
   "source": [
    "<br/><br/><br/>\n",
    "\n",
    "### Summary\n",
    "\n",
    "- Iterable datatypes\n",
    "\n",
    "- Basic unpacking\n",
    "  \n",
    "- Unpacking with *\n",
    "\n",
    "- Unpacking with **"
   ]
  }
 ],
 "metadata": {
  "kernelspec": {
   "display_name": "test_env_2",
   "language": "python",
   "name": "python3"
  },
  "language_info": {
   "codemirror_mode": {
    "name": "ipython",
    "version": 3
   },
   "file_extension": ".py",
   "mimetype": "text/x-python",
   "name": "python",
   "nbconvert_exporter": "python",
   "pygments_lexer": "ipython3",
   "version": "3.11.3"
  },
  "orig_nbformat": 4
 },
 "nbformat": 4,
 "nbformat_minor": 2
}
