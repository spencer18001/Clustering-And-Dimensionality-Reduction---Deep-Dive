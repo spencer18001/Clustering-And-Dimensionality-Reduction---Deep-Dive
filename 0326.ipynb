{
 "cells": [
  {
   "attachments": {},
   "cell_type": "markdown",
   "metadata": {},
   "source": [
    "### Matplotlib\n",
    "\n",
    "#### Lecture agenda\n",
    "\n",
    "- Single plots\n",
    "- Plotting in a grid"
   ]
  },
  {
   "cell_type": "code",
   "execution_count": null,
   "metadata": {},
   "outputs": [],
   "source": [
    "import numpy as np\n",
    "\n",
    "import matplotlib.pyplot as plt\n",
    "import seaborn as sns\n",
    "\n",
    "sns.set_theme()"
   ]
  },
  {
   "attachments": {},
   "cell_type": "markdown",
   "metadata": {},
   "source": [
    "#### Plotting a single plot"
   ]
  },
  {
   "cell_type": "code",
   "execution_count": null,
   "metadata": {},
   "outputs": [],
   "source": [
    "# Basic Plot\n",
    "plt.figure()\n",
    "\n",
    "plt.plot([1, 2, 3, 4], [1, 4, 2, 3])\n",
    "\n",
    "plt.show()"
   ]
  },
  {
   "cell_type": "code",
   "execution_count": null,
   "metadata": {},
   "outputs": [],
   "source": [
    "plt.plot([1, 2, 3, 4], [1, 4, 2, 3])"
   ]
  },
  {
   "cell_type": "code",
   "execution_count": null,
   "metadata": {},
   "outputs": [],
   "source": [
    "# Customizing Plot\n",
    "plt.figure()\n",
    "plt.plot(\n",
    "    [1, 2, 3, 4], \n",
    "    [1, 4, 2, 3], \n",
    "    color='green', \n",
    "    linestyle='--',\n",
    "    marker='o',\n",
    "    markerfacecolor='blue',\n",
    "    markeredgecolor = 'red',\n",
    "    label='Line 1'\n",
    ")\n",
    "plt.title('My First Plot')\n",
    "plt.xlabel('X-axis')\n",
    "plt.ylabel('Y-axis')\n",
    "plt.legend()\n",
    "plt.show()\n"
   ]
  },
  {
   "cell_type": "code",
   "execution_count": null,
   "metadata": {},
   "outputs": [],
   "source": [
    "# Scatter Plot\n",
    "plt.figure()\n",
    "plt.scatter(x = [1, 2, 3, 4], y = [1, 4, 2, 3])\n",
    "plt.show()"
   ]
  },
  {
   "cell_type": "code",
   "execution_count": null,
   "metadata": {},
   "outputs": [],
   "source": [
    "# Scatter Plot\n",
    "plt.figure()\n",
    "plt.scatter(x = [1, 2, 3, 4], y = [1, 4, 2, 3], color='red')\n",
    "plt.plot([1, 2, 3, 4], [1, 4, 2, 3], color='blue')\n",
    "plt.show()"
   ]
  },
  {
   "cell_type": "code",
   "execution_count": null,
   "metadata": {},
   "outputs": [],
   "source": [
    "# Scatter Plot\n",
    "plt.figure()\n",
    "plt.scatter(\n",
    "    x = [1, 2, 3, 4], \n",
    "    y = [1, 4, 2, 3], \n",
    "    c=['red', 'red', 'blue', 'blue']\n",
    ")\n",
    "plt.show()"
   ]
  },
  {
   "cell_type": "code",
   "execution_count": null,
   "metadata": {},
   "outputs": [],
   "source": [
    "# Scatter Plot\n",
    "plt.figure()\n",
    "\n",
    "plt.scatter(\n",
    "    x = [1, 2], \n",
    "    y = [1, 4], \n",
    "    color='red',\n",
    "    label='red dots'\n",
    ")\n",
    "\n",
    "plt.scatter(\n",
    "    x = [3, 4], \n",
    "    y = [2, 3], \n",
    "    color='blue',\n",
    "    label='blue dots'\n",
    ")\n",
    "plt.legend()\n",
    "plt.show()"
   ]
  },
  {
   "cell_type": "code",
   "execution_count": null,
   "metadata": {},
   "outputs": [],
   "source": [
    "from matplotlib.lines import Line2D\n",
    "\n",
    "custom_lines = [\n",
    "        Line2D([], [], color='red', lw=4),\n",
    "        Line2D([], [], color='blue', lw=4)\n",
    "    ]\n",
    "\n",
    "# Scatter Plot\n",
    "plt.figure()\n",
    "plt.scatter(\n",
    "    x = [1, 2, 3, 4], \n",
    "    y = [1, 4, 2, 3], \n",
    "    c=['red', 'red', 'blue', 'blue']\n",
    ")\n",
    "\n",
    "plt.legend(custom_lines, ['red dots', 'blue dots'])\n",
    "plt.show()"
   ]
  },
  {
   "cell_type": "code",
   "execution_count": null,
   "metadata": {},
   "outputs": [],
   "source": [
    "# Bar Chart\n",
    "plt.figure()\n",
    "plt.bar(\n",
    "    x=['first', 'second', 'third', 'fourth'], \n",
    "    height=[1, 4, 2, 3]\n",
    ")\n",
    "plt.show()"
   ]
  },
  {
   "cell_type": "code",
   "execution_count": null,
   "metadata": {},
   "outputs": [],
   "source": [
    "x = [1, 2, 2, 3, 3, 3, 4, 4, 4, 4, 5, 5 ,5, 5, 6, 6, 6, 6, 7, 7, 7]"
   ]
  },
  {
   "cell_type": "code",
   "execution_count": null,
   "metadata": {},
   "outputs": [],
   "source": [
    "# Histogram\n",
    "plt.figure()\n",
    "plt.hist(x=x, bins=3)\n",
    "plt.show()"
   ]
  },
  {
   "cell_type": "code",
   "execution_count": null,
   "metadata": {},
   "outputs": [],
   "source": [
    "data = np.random.normal(100, 20, 10000)\n",
    "\n",
    "# Histogram\n",
    "plt.figure()\n",
    "plt.hist(x = data, bins=50)\n",
    "plt.show()"
   ]
  },
  {
   "cell_type": "code",
   "execution_count": null,
   "metadata": {},
   "outputs": [],
   "source": [
    "# Boxplot\n",
    "data = np.random.normal(100, 20, 10000)\n",
    "\n",
    "fig = plt.figure(figsize =(7, 7))\n",
    "\n",
    "_ = plt.boxplot(data)"
   ]
  },
  {
   "cell_type": "code",
   "execution_count": null,
   "metadata": {},
   "outputs": [],
   "source": [
    "# Multiple boxplots\n",
    "data_1 = np.random.normal(90, 12, 300) \n",
    "data_2 = np.random.normal(80, 15, 300) \n",
    "data_3 = np.random.normal(110, 20, 300) \n",
    "data_4 = np.random.normal(95, 16, 300) \n",
    "data_5 = np.random.normal(65, 5, 300)\n",
    "data = [data_1, data_2, data_3, data_4, data_5]\n",
    "\n",
    "fig = plt.figure(figsize =(8, 8))\n",
    "\n",
    "_ = plt.boxplot(\n",
    "    x=data,\n",
    "    labels=['Group1','Group2','Group3','Group4','Group5']\n",
    ")\n",
    "plt.xlabel('Dog species')\n",
    "plt.ylabel('Height [cm]')\n",
    "plt.title('Heights in dog species')\n",
    "plt.show()"
   ]
  },
  {
   "attachments": {},
   "cell_type": "markdown",
   "metadata": {},
   "source": [
    "#### Plotting multiple plots"
   ]
  },
  {
   "cell_type": "code",
   "execution_count": null,
   "metadata": {},
   "outputs": [],
   "source": [
    "# Create an array of x values from 0 to 2π to use in our plot\n",
    "x = np.linspace(0, 2 * np.pi, 400)\n",
    "\n",
    "# Create two subplots\n",
    "fig, axs = plt.subplots(2)\n",
    "\n",
    "# Create a plot of sin(x) on the first subplot\n",
    "axs[0].plot(x, np.sin(x))\n",
    "axs[0].set_title('sin(x)')\n",
    "\n",
    "# Create a plot of cos(x) on the second subplot\n",
    "axs[1].plot(x, np.cos(x))\n",
    "axs[1].set_title('cos(x)')\n",
    "\n",
    "# Display the figure with its subplots\n",
    "plt.suptitle('Subplots') \n",
    "plt.tight_layout()\n",
    "plt.show()"
   ]
  },
  {
   "cell_type": "code",
   "execution_count": null,
   "metadata": {},
   "outputs": [],
   "source": [
    "# Create a simple array of x values\n",
    "x = np.linspace(0, 2 * np.pi, 100)\n",
    "\n",
    "# Create a 2x2 grid of subplots\n",
    "fig, axs = plt.subplots(2, 2)\n",
    "\n",
    "# Create an array of functions and their titles\n",
    "functions = [[np.sin, np.cos], [np.tan, np.exp]]\n",
    "titles = [['sin', 'cos'], ['tan', 'exp']]\n",
    "\n",
    "# Use a for loop over i (rows) and j (columns)\n",
    "for i in range(2):\n",
    "    for j in range(2):\n",
    "        # The function and title for this subplot\n",
    "        f = functions[i][j]\n",
    "        title = titles[i][j]\n",
    "\n",
    "        # Calculate the y values for this function\n",
    "        y = f(x)\n",
    "\n",
    "        # Create the plot for this subplot\n",
    "        axs[i, j].plot(x, y)\n",
    "        axs[i, j].set_title(title)\n",
    "\n",
    "# Make sure everything fits nicely\n",
    "plt.tight_layout()\n",
    "plt.show()\n"
   ]
  },
  {
   "cell_type": "code",
   "execution_count": null,
   "metadata": {},
   "outputs": [],
   "source": [
    "import matplotlib.pyplot as plt\n",
    "import numpy as np\n",
    "\n",
    "# Create a simple array of x values\n",
    "x = np.linspace(0, 2 * np.pi, 100)\n",
    "\n",
    "# Create a 2x2 grid of subplots\n",
    "fig, axs = plt.subplots(2, 2)\n",
    "\n",
    "# Flatten the array of axes\n",
    "axs = axs.flatten()\n",
    "\n",
    "# Create an array of functions and their titles\n",
    "functions = [np.sin, np.cos, np.tan, np.exp]\n",
    "titles = ['sin', 'cos', 'tan', 'exp']\n",
    "\n",
    "# Use a single loop over the axes\n",
    "for i in range(4):\n",
    "    # The function and title for this subplot\n",
    "    f = functions[i]\n",
    "    title = titles[i]\n",
    "\n",
    "    # Calculate the y values for this function\n",
    "    y = f(x)\n",
    "\n",
    "    # Create the plot for this subplot\n",
    "    axs[i].plot(x, y)\n",
    "    axs[i].set_title(title)\n",
    "\n",
    "# Make sure everything fits nicely\n",
    "plt.tight_layout()\n",
    "plt.show()\n"
   ]
  }
 ],
 "metadata": {
  "kernelspec": {
   "display_name": "test_env_2",
   "language": "python",
   "name": "python3"
  },
  "language_info": {
   "codemirror_mode": {
    "name": "ipython",
    "version": 3
   },
   "file_extension": ".py",
   "mimetype": "text/x-python",
   "name": "python",
   "nbconvert_exporter": "python",
   "pygments_lexer": "ipython3",
   "version": "3.11.3"
  },
  "orig_nbformat": 4
 },
 "nbformat": 4,
 "nbformat_minor": 2
}
