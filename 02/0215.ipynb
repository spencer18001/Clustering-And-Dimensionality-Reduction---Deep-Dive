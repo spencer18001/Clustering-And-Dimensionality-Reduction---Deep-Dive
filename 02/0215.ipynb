{
  "cells": [
    {
      "cell_type": "markdown",
      "metadata": {
        "colab_type": "text",
        "id": "view-in-github"
      },
      "source": [
        "<a href=\"https://colab.research.google.com/github/spencer18001/Clustering-And-Dimensionality-Reduction---Deep-Dive/blob/main/02/0215.ipynb\" target=\"_parent\"><img src=\"https://colab.research.google.com/assets/colab-badge.svg\" alt=\"Open In Colab\"/></a>"
      ]
    },
    {
      "cell_type": "markdown",
      "metadata": {
        "id": "ubSCNi0A52UK"
      },
      "source": [
        "## Python functions\n",
        "\n",
        "#### Agenda:\n",
        "\n",
        "- Function definition\n",
        "  \n",
        "- Positional and keyword arguments\n",
        "- Argument default values\n",
        "- Using \"*\" with function arguments\n",
        "- Using \"**\" with function arguments"
      ]
    },
    {
      "cell_type": "markdown",
      "metadata": {
        "id": "tgRbe0WX52UN"
      },
      "source": [
        "#### Creating simple function"
      ]
    },
    {
      "cell_type": "code",
      "execution_count": 1,
      "metadata": {
        "colab": {
          "base_uri": "https://localhost:8080/"
        },
        "id": "stRSQ5hx52UO",
        "outputId": "cea30ecd-8d14-46d8-f0bb-c77fe59c6b89"
      },
      "outputs": [
        {
          "name": "stdout",
          "output_type": "stream",
          "text": [
            "['cat', 'car']\n"
          ]
        }
      ],
      "source": [
        "word_list = [\"cat\", \"window\", \"bridges\", \"car\"]\n",
        "character = 'c'\n",
        "\n",
        "target_word_list = []\n",
        "for word in word_list:\n",
        "    if character in word:\n",
        "        target_word_list.append(word)\n",
        "print(target_word_list)"
      ]
    },
    {
      "cell_type": "code",
      "execution_count": 2,
      "metadata": {
        "id": "Z1ixNoiq52UP"
      },
      "outputs": [],
      "source": [
        "# Define function\n",
        "\n",
        "def find_words_containing_character(word_list, character):\n",
        "    target_word_list = []\n",
        "    for word in word_list:\n",
        "        if character in word:\n",
        "            target_word_list.append(word)\n",
        "    return target_word_list"
      ]
    },
    {
      "cell_type": "code",
      "execution_count": 3,
      "metadata": {
        "colab": {
          "base_uri": "https://localhost:8080/"
        },
        "id": "GNP8PY5D52UQ",
        "outputId": "ceb143b0-d2ae-4e93-a1d8-7fe4a6cdcbe1"
      },
      "outputs": [
        {
          "data": {
            "text/plain": [
              "function"
            ]
          },
          "execution_count": 3,
          "metadata": {},
          "output_type": "execute_result"
        }
      ],
      "source": [
        "# Check type of \"find_words_containing_character\"\n",
        "type(find_words_containing_character)"
      ]
    },
    {
      "cell_type": "code",
      "execution_count": 4,
      "metadata": {
        "colab": {
          "base_uri": "https://localhost:8080/"
        },
        "id": "tTgp7t_y52UQ",
        "outputId": "def2c19f-f124-420d-d8a7-b1385a528a08"
      },
      "outputs": [
        {
          "data": {
            "text/plain": [
              "136514587206432"
            ]
          },
          "execution_count": 4,
          "metadata": {},
          "output_type": "execute_result"
        }
      ],
      "source": [
        "id(find_words_containing_character)"
      ]
    },
    {
      "cell_type": "code",
      "execution_count": 5,
      "metadata": {
        "colab": {
          "base_uri": "https://localhost:8080/"
        },
        "id": "BphJ5Oem52UQ",
        "outputId": "6b44ad93-2a17-4bf2-e63c-1cf232e118de"
      },
      "outputs": [
        {
          "name": "stdout",
          "output_type": "stream",
          "text": [
            "['cat', 'car']\n"
          ]
        }
      ],
      "source": [
        "# Call by using keyword argument\n",
        "\n",
        "words = [\"cat\", \"window\", \"bridges\", \"car\"]\n",
        "\n",
        "out_list = find_words_containing_character(\n",
        "    word_list=words,\n",
        "    character='c'\n",
        ")\n",
        "print(out_list)"
      ]
    },
    {
      "cell_type": "markdown",
      "metadata": {
        "id": "PpRyBwbq52UR"
      },
      "source": [
        "#### Function arguments"
      ]
    },
    {
      "cell_type": "code",
      "execution_count": 6,
      "metadata": {
        "colab": {
          "base_uri": "https://localhost:8080/"
        },
        "id": "YU7a7F9o52UR",
        "outputId": "abd323ff-3bb4-4f9c-960f-a0f2187b74d8"
      },
      "outputs": [
        {
          "name": "stdout",
          "output_type": "stream",
          "text": [
            "['cat', 'car']\n"
          ]
        }
      ],
      "source": [
        "# Call by using keyword argument\n",
        "\n",
        "words = [\"cat\", \"window\", \"bridges\", \"car\"]\n",
        "out_list = find_words_containing_character(\n",
        "    word_list=words,\n",
        "    character='c'\n",
        ")\n",
        "print(out_list)"
      ]
    },
    {
      "cell_type": "code",
      "execution_count": 7,
      "metadata": {
        "colab": {
          "base_uri": "https://localhost:8080/"
        },
        "id": "l4oI7o9_52US",
        "outputId": "7956f376-7737-4cc1-aa58-fe99b17993e1"
      },
      "outputs": [
        {
          "name": "stdout",
          "output_type": "stream",
          "text": [
            "['cat', 'car']\n"
          ]
        }
      ],
      "source": [
        "# Call by using positional argument\n",
        "\n",
        "words = [\"cat\", \"window\", \"bridges\", \"car\"]\n",
        "out_list = find_words_containing_character(words, 'c')\n",
        "print(out_list)"
      ]
    },
    {
      "cell_type": "code",
      "execution_count": 8,
      "metadata": {
        "colab": {
          "base_uri": "https://localhost:8080/"
        },
        "id": "U-Z30XEj52US",
        "outputId": "b3c4bbe1-8807-4bbe-ba0e-19daeab73d5d"
      },
      "outputs": [
        {
          "name": "stdout",
          "output_type": "stream",
          "text": [
            "['cat', 'car']\n"
          ]
        }
      ],
      "source": [
        "# Call by using mix of arguments\n",
        "\n",
        "words = [\"cat\", \"window\", \"bridges\", \"car\"]\n",
        "out_list = find_words_containing_character(words, character='c')\n",
        "print(out_list)"
      ]
    },
    {
      "cell_type": "code",
      "execution_count": 9,
      "metadata": {
        "colab": {
          "base_uri": "https://localhost:8080/",
          "height": 106
        },
        "id": "ItBPaVvd52UT",
        "outputId": "72d27b72-0f8d-4a3e-d29c-8acd04b4aa27"
      },
      "outputs": [
        {
          "ename": "SyntaxError",
          "evalue": "positional argument follows keyword argument (<ipython-input-9-921e3e97eec2>, line 4)",
          "output_type": "error",
          "traceback": [
            "\u001b[0;36m  File \u001b[0;32m\"<ipython-input-9-921e3e97eec2>\"\u001b[0;36m, line \u001b[0;32m4\u001b[0m\n\u001b[0;31m    out_list = find_words_containing_character(word_list=words, 'h')\u001b[0m\n\u001b[0m                                                                   ^\u001b[0m\n\u001b[0;31mSyntaxError\u001b[0m\u001b[0;31m:\u001b[0m positional argument follows keyword argument\n"
          ]
        }
      ],
      "source": [
        "# Call by using mix of arguments\n",
        "\n",
        "words = [\"cat\", \"window\", \"bridges\", \"car\"]\n",
        "out_list = find_words_containing_character(word_list=words, 'h')\n",
        "print(out_list)"
      ]
    },
    {
      "cell_type": "code",
      "execution_count": 10,
      "metadata": {
        "colab": {
          "base_uri": "https://localhost:8080/",
          "height": 193
        },
        "id": "leVL1XUK52UT",
        "outputId": "dc4e9fa7-95dc-4932-c3ea-dfa114ebbabb"
      },
      "outputs": [
        {
          "ename": "TypeError",
          "evalue": "find_words_containing_character() missing 1 required positional argument: 'character'",
          "output_type": "error",
          "traceback": [
            "\u001b[0;31m---------------------------------------------------------------------------\u001b[0m",
            "\u001b[0;31mTypeError\u001b[0m                                 Traceback (most recent call last)",
            "\u001b[0;32m<ipython-input-10-ddecfe5538df>\u001b[0m in \u001b[0;36m<cell line: 4>\u001b[0;34m()\u001b[0m\n\u001b[1;32m      2\u001b[0m \u001b[0;34m\u001b[0m\u001b[0m\n\u001b[1;32m      3\u001b[0m \u001b[0mwords\u001b[0m \u001b[0;34m=\u001b[0m \u001b[0;34m[\u001b[0m\u001b[0;34m\"cat\"\u001b[0m\u001b[0;34m,\u001b[0m \u001b[0;34m\"window\"\u001b[0m\u001b[0;34m,\u001b[0m \u001b[0;34m\"bridges\"\u001b[0m\u001b[0;34m,\u001b[0m \u001b[0;34m\"car\"\u001b[0m\u001b[0;34m]\u001b[0m\u001b[0;34m\u001b[0m\u001b[0;34m\u001b[0m\u001b[0m\n\u001b[0;32m----> 4\u001b[0;31m \u001b[0mout_list\u001b[0m \u001b[0;34m=\u001b[0m \u001b[0mfind_words_containing_character\u001b[0m\u001b[0;34m(\u001b[0m\u001b[0mwords\u001b[0m\u001b[0;34m)\u001b[0m\u001b[0;34m\u001b[0m\u001b[0;34m\u001b[0m\u001b[0m\n\u001b[0m\u001b[1;32m      5\u001b[0m \u001b[0mprint\u001b[0m\u001b[0;34m(\u001b[0m\u001b[0mout_list\u001b[0m\u001b[0;34m)\u001b[0m\u001b[0;34m\u001b[0m\u001b[0;34m\u001b[0m\u001b[0m\n",
            "\u001b[0;31mTypeError\u001b[0m: find_words_containing_character() missing 1 required positional argument: 'character'"
          ]
        }
      ],
      "source": [
        "# All arguments must be passed to the function\n",
        "\n",
        "words = [\"cat\", \"window\", \"bridges\", \"car\"]\n",
        "out_list = find_words_containing_character(words)\n",
        "print(out_list)"
      ]
    },
    {
      "cell_type": "code",
      "execution_count": 11,
      "metadata": {
        "colab": {
          "base_uri": "https://localhost:8080/",
          "height": 193
        },
        "id": "I44qHYQe52UT",
        "outputId": "9712491a-276d-446e-d18b-dc538ad8d72e"
      },
      "outputs": [
        {
          "ename": "TypeError",
          "evalue": "find_words_containing_character() missing 1 required positional argument: 'character'",
          "output_type": "error",
          "traceback": [
            "\u001b[0;31m---------------------------------------------------------------------------\u001b[0m",
            "\u001b[0;31mTypeError\u001b[0m                                 Traceback (most recent call last)",
            "\u001b[0;32m<ipython-input-11-20a9036ce031>\u001b[0m in \u001b[0;36m<cell line: 4>\u001b[0;34m()\u001b[0m\n\u001b[1;32m      2\u001b[0m \u001b[0;34m\u001b[0m\u001b[0m\n\u001b[1;32m      3\u001b[0m \u001b[0mwords\u001b[0m \u001b[0;34m=\u001b[0m \u001b[0;34m[\u001b[0m\u001b[0;34m\"cat\"\u001b[0m\u001b[0;34m,\u001b[0m \u001b[0;34m\"window\"\u001b[0m\u001b[0;34m,\u001b[0m \u001b[0;34m\"bridges\"\u001b[0m\u001b[0;34m,\u001b[0m \u001b[0;34m\"car\"\u001b[0m\u001b[0;34m]\u001b[0m\u001b[0;34m\u001b[0m\u001b[0;34m\u001b[0m\u001b[0m\n\u001b[0;32m----> 4\u001b[0;31m \u001b[0mout_list\u001b[0m \u001b[0;34m=\u001b[0m \u001b[0mfind_words_containing_character\u001b[0m\u001b[0;34m(\u001b[0m\u001b[0mword_list\u001b[0m\u001b[0;34m=\u001b[0m\u001b[0mwords\u001b[0m\u001b[0;34m)\u001b[0m\u001b[0;34m\u001b[0m\u001b[0;34m\u001b[0m\u001b[0m\n\u001b[0m\u001b[1;32m      5\u001b[0m \u001b[0mprint\u001b[0m\u001b[0;34m(\u001b[0m\u001b[0mout_list\u001b[0m\u001b[0;34m)\u001b[0m\u001b[0;34m\u001b[0m\u001b[0;34m\u001b[0m\u001b[0m\n",
            "\u001b[0;31mTypeError\u001b[0m: find_words_containing_character() missing 1 required positional argument: 'character'"
          ]
        }
      ],
      "source": [
        "# All arguments must be passed to the function\n",
        "\n",
        "words = [\"cat\", \"window\", \"bridges\", \"car\"]\n",
        "out_list = find_words_containing_character(word_list=words)\n",
        "print(out_list)"
      ]
    },
    {
      "cell_type": "code",
      "execution_count": 12,
      "metadata": {
        "colab": {
          "base_uri": "https://localhost:8080/",
          "height": 193
        },
        "id": "943ZffOX52UU",
        "outputId": "7c8c8b10-14cf-4dee-f122-0787b6585a3a"
      },
      "outputs": [
        {
          "ename": "TypeError",
          "evalue": "find_words_containing_character() takes 2 positional arguments but 3 were given",
          "output_type": "error",
          "traceback": [
            "\u001b[0;31m---------------------------------------------------------------------------\u001b[0m",
            "\u001b[0;31mTypeError\u001b[0m                                 Traceback (most recent call last)",
            "\u001b[0;32m<ipython-input-12-77dafa1da388>\u001b[0m in \u001b[0;36m<cell line: 4>\u001b[0;34m()\u001b[0m\n\u001b[1;32m      2\u001b[0m \u001b[0;34m\u001b[0m\u001b[0m\n\u001b[1;32m      3\u001b[0m \u001b[0mwords\u001b[0m \u001b[0;34m=\u001b[0m \u001b[0;34m[\u001b[0m\u001b[0;34m\"cat\"\u001b[0m\u001b[0;34m,\u001b[0m \u001b[0;34m\"window\"\u001b[0m\u001b[0;34m,\u001b[0m \u001b[0;34m\"bridges\"\u001b[0m\u001b[0;34m,\u001b[0m \u001b[0;34m\"car\"\u001b[0m\u001b[0;34m]\u001b[0m\u001b[0;34m\u001b[0m\u001b[0;34m\u001b[0m\u001b[0m\n\u001b[0;32m----> 4\u001b[0;31m \u001b[0mout_list\u001b[0m \u001b[0;34m=\u001b[0m \u001b[0mfind_words_containing_character\u001b[0m\u001b[0;34m(\u001b[0m\u001b[0mwords\u001b[0m\u001b[0;34m,\u001b[0m\u001b[0;34m'h'\u001b[0m\u001b[0;34m,\u001b[0m \u001b[0;32mTrue\u001b[0m\u001b[0;34m)\u001b[0m\u001b[0;34m\u001b[0m\u001b[0;34m\u001b[0m\u001b[0m\n\u001b[0m\u001b[1;32m      5\u001b[0m \u001b[0mprint\u001b[0m\u001b[0;34m(\u001b[0m\u001b[0mout_list\u001b[0m\u001b[0;34m)\u001b[0m\u001b[0;34m\u001b[0m\u001b[0;34m\u001b[0m\u001b[0m\n",
            "\u001b[0;31mTypeError\u001b[0m: find_words_containing_character() takes 2 positional arguments but 3 were given"
          ]
        }
      ],
      "source": [
        "# You cant provide values for unexisting arguments\n",
        "\n",
        "words = [\"cat\", \"window\", \"bridges\", \"car\"]\n",
        "out_list = find_words_containing_character(words,'h', True)\n",
        "print(out_list)"
      ]
    },
    {
      "cell_type": "code",
      "execution_count": 13,
      "metadata": {
        "colab": {
          "base_uri": "https://localhost:8080/",
          "height": 193
        },
        "id": "jfp6zuSW52UU",
        "outputId": "7390ff47-d8ca-4a8f-a90d-b86f0a3ccc15"
      },
      "outputs": [
        {
          "ename": "TypeError",
          "evalue": "find_words_containing_character() got an unexpected keyword argument 'new_arg'",
          "output_type": "error",
          "traceback": [
            "\u001b[0;31m---------------------------------------------------------------------------\u001b[0m",
            "\u001b[0;31mTypeError\u001b[0m                                 Traceback (most recent call last)",
            "\u001b[0;32m<ipython-input-13-a5e41ff9d490>\u001b[0m in \u001b[0;36m<cell line: 4>\u001b[0;34m()\u001b[0m\n\u001b[1;32m      2\u001b[0m \u001b[0;34m\u001b[0m\u001b[0m\n\u001b[1;32m      3\u001b[0m \u001b[0mwords\u001b[0m \u001b[0;34m=\u001b[0m \u001b[0;34m[\u001b[0m\u001b[0;34m\"cat\"\u001b[0m\u001b[0;34m,\u001b[0m \u001b[0;34m\"window\"\u001b[0m\u001b[0;34m,\u001b[0m \u001b[0;34m\"bridges\"\u001b[0m\u001b[0;34m,\u001b[0m \u001b[0;34m\"car\"\u001b[0m\u001b[0;34m]\u001b[0m\u001b[0;34m\u001b[0m\u001b[0;34m\u001b[0m\u001b[0m\n\u001b[0;32m----> 4\u001b[0;31m \u001b[0mout_list\u001b[0m \u001b[0;34m=\u001b[0m \u001b[0mfind_words_containing_character\u001b[0m\u001b[0;34m(\u001b[0m\u001b[0mwords\u001b[0m\u001b[0;34m,\u001b[0m\u001b[0;34m'h'\u001b[0m\u001b[0;34m,\u001b[0m \u001b[0mnew_arg\u001b[0m \u001b[0;34m=\u001b[0m \u001b[0;32mTrue\u001b[0m\u001b[0;34m)\u001b[0m\u001b[0;34m\u001b[0m\u001b[0;34m\u001b[0m\u001b[0m\n\u001b[0m\u001b[1;32m      5\u001b[0m \u001b[0mprint\u001b[0m\u001b[0;34m(\u001b[0m\u001b[0mout_list\u001b[0m\u001b[0;34m)\u001b[0m\u001b[0;34m\u001b[0m\u001b[0;34m\u001b[0m\u001b[0m\n",
            "\u001b[0;31mTypeError\u001b[0m: find_words_containing_character() got an unexpected keyword argument 'new_arg'"
          ]
        }
      ],
      "source": [
        "# You cant provide values for unexisting arguments\n",
        "\n",
        "words = [\"cat\", \"window\", \"bridges\", \"car\"]\n",
        "out_list = find_words_containing_character(words,'h', new_arg = True)\n",
        "print(out_list)"
      ]
    },
    {
      "cell_type": "markdown",
      "metadata": {
        "id": "bEVItyD452UU"
      },
      "source": [
        "##### Argument default values"
      ]
    },
    {
      "cell_type": "code",
      "execution_count": 14,
      "metadata": {
        "id": "X6Ow-lN652UU"
      },
      "outputs": [],
      "source": [
        "words = [\"cat\", \"window\", \"bridges\", \"car\"]\n",
        "\n",
        "def find_words_containing_character(word_list, character='c'):\n",
        "    target_word_list = []\n",
        "    for word in word_list:\n",
        "        if character in word:\n",
        "            target_word_list.append(word)\n",
        "    # Return the longest word\n",
        "    return target_word_list"
      ]
    },
    {
      "cell_type": "code",
      "execution_count": 15,
      "metadata": {
        "colab": {
          "base_uri": "https://localhost:8080/"
        },
        "id": "l34Q76p152UV",
        "outputId": "c91cef12-4596-4512-a1bb-3e7bd352964f"
      },
      "outputs": [
        {
          "data": {
            "text/plain": [
              "['cat', 'car']"
            ]
          },
          "execution_count": 15,
          "metadata": {},
          "output_type": "execute_result"
        }
      ],
      "source": [
        "find_words_containing_character(word_list)"
      ]
    },
    {
      "cell_type": "code",
      "execution_count": 16,
      "metadata": {
        "colab": {
          "base_uri": "https://localhost:8080/"
        },
        "id": "r6lA5i3V52UV",
        "outputId": "bea2fbd8-19dc-4a5f-eafb-d2b62af7e4a8"
      },
      "outputs": [
        {
          "data": {
            "text/plain": [
              "['cat', 'car']"
            ]
          },
          "execution_count": 16,
          "metadata": {},
          "output_type": "execute_result"
        }
      ],
      "source": [
        "find_words_containing_character(word_list=word_list)"
      ]
    },
    {
      "cell_type": "markdown",
      "metadata": {
        "id": "V5l_HI4X52UV"
      },
      "source": [
        "##### Unpacking positional arguments with *"
      ]
    },
    {
      "cell_type": "code",
      "execution_count": 17,
      "metadata": {
        "id": "zCqilHXw52UV"
      },
      "outputs": [],
      "source": [
        "def sum_numbers(a, b, c):\n",
        "    return a + b + c"
      ]
    },
    {
      "cell_type": "code",
      "execution_count": 18,
      "metadata": {
        "colab": {
          "base_uri": "https://localhost:8080/"
        },
        "id": "5_ttIkuK52UV",
        "outputId": "379a0458-acfa-4948-cc69-eaa12f8f99aa"
      },
      "outputs": [
        {
          "data": {
            "text/plain": [
              "6"
            ]
          },
          "execution_count": 18,
          "metadata": {},
          "output_type": "execute_result"
        }
      ],
      "source": [
        "# Call with positional arguments\n",
        "sum_numbers(1,2,3)"
      ]
    },
    {
      "cell_type": "code",
      "execution_count": 19,
      "metadata": {
        "colab": {
          "base_uri": "https://localhost:8080/"
        },
        "id": "leJUVUAf52UW",
        "outputId": "d763b566-245f-4b30-e0de-810f30219fcf"
      },
      "outputs": [
        {
          "data": {
            "text/plain": [
              "6"
            ]
          },
          "execution_count": 19,
          "metadata": {},
          "output_type": "execute_result"
        }
      ],
      "source": [
        "# List can be unpacked as arguments\n",
        "num_list = [1,2,3]\n",
        "sum_numbers(*num_list) # !!!!!"
      ]
    },
    {
      "cell_type": "code",
      "execution_count": 20,
      "metadata": {
        "id": "ps4KZH0A52UW"
      },
      "outputs": [],
      "source": [
        "# Star can be used inside function definition\n",
        "def sum_numbers_and_print_rest(a, b, *c): # !!!!!\n",
        "    print(a)\n",
        "    print(b)\n",
        "    print(c)"
      ]
    },
    {
      "cell_type": "code",
      "execution_count": 21,
      "metadata": {
        "colab": {
          "base_uri": "https://localhost:8080/"
        },
        "id": "kYikUVcy52UW",
        "outputId": "7a7df36d-e59f-4f45-f7f2-b959ae224b65"
      },
      "outputs": [
        {
          "name": "stdout",
          "output_type": "stream",
          "text": [
            "1\n",
            "2\n",
            "(True, 'Italy')\n"
          ]
        }
      ],
      "source": [
        "sum_numbers_and_print_rest(1, 2, True, 'Italy')"
      ]
    },
    {
      "cell_type": "code",
      "execution_count": 22,
      "metadata": {
        "colab": {
          "base_uri": "https://localhost:8080/"
        },
        "id": "eHb8oM0O52UW",
        "outputId": "013bcf41-5338-4138-9f4e-6488146a61f0"
      },
      "outputs": [
        {
          "name": "stdout",
          "output_type": "stream",
          "text": [
            "1\n",
            "2\n",
            "(3, 4, 5)\n"
          ]
        }
      ],
      "source": [
        "def fun_1(arg1, arg2, *args):\n",
        "    print(arg1)\n",
        "    print(arg2)\n",
        "    print(args)\n",
        "\n",
        "fun_1(1,2,3,4,5)"
      ]
    },
    {
      "cell_type": "code",
      "execution_count": 23,
      "metadata": {
        "colab": {
          "base_uri": "https://localhost:8080/",
          "height": 176
        },
        "id": "ZUQb2XkM52UW",
        "outputId": "573ccbf7-93da-45e6-f0b5-183f17014af4"
      },
      "outputs": [
        {
          "ename": "TypeError",
          "evalue": "fun_1() missing 1 required keyword-only argument: 'arg3'",
          "output_type": "error",
          "traceback": [
            "\u001b[0;31m---------------------------------------------------------------------------\u001b[0m",
            "\u001b[0;31mTypeError\u001b[0m                                 Traceback (most recent call last)",
            "\u001b[0;32m<ipython-input-23-d11d3339909a>\u001b[0m in \u001b[0;36m<cell line: 10>\u001b[0;34m()\u001b[0m\n\u001b[1;32m      8\u001b[0m     \u001b[0mprint\u001b[0m\u001b[0;34m(\u001b[0m\u001b[0marg3\u001b[0m\u001b[0;34m)\u001b[0m\u001b[0;34m\u001b[0m\u001b[0;34m\u001b[0m\u001b[0m\n\u001b[1;32m      9\u001b[0m \u001b[0;34m\u001b[0m\u001b[0m\n\u001b[0;32m---> 10\u001b[0;31m \u001b[0mfun_1\u001b[0m\u001b[0;34m(\u001b[0m\u001b[0;36m1\u001b[0m\u001b[0;34m,\u001b[0m\u001b[0;36m2\u001b[0m\u001b[0;34m,\u001b[0m\u001b[0;36m3\u001b[0m\u001b[0;34m,\u001b[0m\u001b[0;36m4\u001b[0m\u001b[0;34m,\u001b[0m\u001b[0;36m5\u001b[0m\u001b[0;34m)\u001b[0m\u001b[0;34m\u001b[0m\u001b[0;34m\u001b[0m\u001b[0m\n\u001b[0m",
            "\u001b[0;31mTypeError\u001b[0m: fun_1() missing 1 required keyword-only argument: 'arg3'"
          ]
        }
      ],
      "source": [
        "# You can define arguments after *\n",
        "# but this arguments must be called\n",
        "# as keyword arguments\n",
        "def fun_1(arg1, arg2, *args, arg3): # !!!!!\n",
        "    print(arg1)\n",
        "    print(arg2)\n",
        "    print(args)\n",
        "    print(arg3)\n",
        "\n",
        "fun_1(1,2,3,4,5)"
      ]
    },
    {
      "cell_type": "code",
      "execution_count": 24,
      "metadata": {
        "colab": {
          "base_uri": "https://localhost:8080/"
        },
        "id": "YZEQffzN52UW",
        "outputId": "4f78ade7-6afd-4bbb-82a3-751c4b774d22"
      },
      "outputs": [
        {
          "name": "stdout",
          "output_type": "stream",
          "text": [
            "1\n",
            "2\n",
            "(3, 4, 5)\n",
            "ARG3\n"
          ]
        }
      ],
      "source": [
        "fun_1(1,2,3,4,5, arg3='ARG3')"
      ]
    },
    {
      "cell_type": "markdown",
      "metadata": {
        "id": "q4WSnVZ152UX"
      },
      "source": [
        "##### Unpacking arguments with **"
      ]
    },
    {
      "cell_type": "code",
      "execution_count": 25,
      "metadata": {
        "colab": {
          "base_uri": "https://localhost:8080/"
        },
        "id": "JIM4Y4dK52UX",
        "outputId": "2261e4af-01e8-4864-9f48-108030ddaeb1"
      },
      "outputs": [
        {
          "data": {
            "text/plain": [
              "6"
            ]
          },
          "execution_count": 25,
          "metadata": {},
          "output_type": "execute_result"
        }
      ],
      "source": [
        "# Unpack dict\n",
        "\n",
        "def sum_vals(a, b, c):\n",
        "    return a + b + c\n",
        "\n",
        "val_dict = {\n",
        "    'a': 1,\n",
        "    'b': 2,\n",
        "    'c': 3\n",
        "}\n",
        "\n",
        "sum_vals(**val_dict) # !!!!!"
      ]
    },
    {
      "cell_type": "code",
      "execution_count": 26,
      "metadata": {
        "colab": {
          "base_uri": "https://localhost:8080/",
          "height": 176
        },
        "id": "4BDZLSE_52UX",
        "outputId": "186f9229-7c78-4495-baa0-2911dc52cbef"
      },
      "outputs": [
        {
          "ename": "TypeError",
          "evalue": "sum_vals() got an unexpected keyword argument 'm'",
          "output_type": "error",
          "traceback": [
            "\u001b[0;31m---------------------------------------------------------------------------\u001b[0m",
            "\u001b[0;31mTypeError\u001b[0m                                 Traceback (most recent call last)",
            "\u001b[0;32m<ipython-input-26-f5ca7afb0870>\u001b[0m in \u001b[0;36m<cell line: 12>\u001b[0;34m()\u001b[0m\n\u001b[1;32m     10\u001b[0m }\n\u001b[1;32m     11\u001b[0m \u001b[0;34m\u001b[0m\u001b[0m\n\u001b[0;32m---> 12\u001b[0;31m \u001b[0msum_vals\u001b[0m\u001b[0;34m(\u001b[0m\u001b[0;34m**\u001b[0m\u001b[0mval_dict\u001b[0m\u001b[0;34m)\u001b[0m\u001b[0;34m\u001b[0m\u001b[0;34m\u001b[0m\u001b[0m\n\u001b[0m",
            "\u001b[0;31mTypeError\u001b[0m: sum_vals() got an unexpected keyword argument 'm'"
          ]
        }
      ],
      "source": [
        "# Unpack dict\n",
        "\n",
        "def sum_vals(a, b, c):\n",
        "    return a + b + c\n",
        "\n",
        "val_dict = {\n",
        "    'm': 1,\n",
        "    'b': 2,\n",
        "    'c': 3\n",
        "}\n",
        "\n",
        "sum_vals(**val_dict)"
      ]
    },
    {
      "cell_type": "code",
      "execution_count": 27,
      "metadata": {
        "colab": {
          "base_uri": "https://localhost:8080/"
        },
        "id": "5yfis8FM52UX",
        "outputId": "8f52e59e-dde5-4e4c-d73b-3456c9572e43"
      },
      "outputs": [
        {
          "name": "stdout",
          "output_type": "stream",
          "text": [
            "1\n",
            "2\n",
            "GO\n",
            "{'m1': 5, 'm2': 10}\n"
          ]
        }
      ],
      "source": [
        "# Unpack keyword arguments\n",
        "# when positional arguments are\n",
        "# also present\n",
        "\n",
        "def fun_1(arg1, arg2, arg3, **kwargs): # !!!!!\n",
        "    print(arg1)\n",
        "    print(arg2)\n",
        "    print(arg3)\n",
        "    print(kwargs)\n",
        "\n",
        "\n",
        "fun_1(1, 2, arg3='GO', m1=5, m2=10)"
      ]
    },
    {
      "cell_type": "markdown",
      "metadata": {
        "id": "mMxEgQBR52UX"
      },
      "source": [
        "##### Using * and **"
      ]
    },
    {
      "cell_type": "code",
      "execution_count": 28,
      "metadata": {
        "colab": {
          "base_uri": "https://localhost:8080/"
        },
        "id": "xH5JnMWa52UX",
        "outputId": "c25377a4-bcdd-4dbc-f899-fcc15e1151c5"
      },
      "outputs": [
        {
          "name": "stdout",
          "output_type": "stream",
          "text": [
            "p1 : 1\n",
            "p2 : 2\n",
            "k1 : 4\n",
            "k2 : 5\n"
          ]
        }
      ],
      "source": [
        "def example_fun(p1, p2, k1, k2):\n",
        "    print('p1 : {}'.format(p1))\n",
        "    print('p2 : {}'.format(p2))\n",
        "    print('k1 : {}'.format(k1))\n",
        "    print('k2 : {}'.format(k2))\n",
        "\n",
        "l1 = [1, 2]\n",
        "dict1 = {\n",
        "    'k1':4,\n",
        "    'k2':5\n",
        "}\n",
        "\n",
        "example_fun(*l1, **dict1) # !!!!!"
      ]
    },
    {
      "cell_type": "code",
      "execution_count": 29,
      "metadata": {
        "id": "ifKZ0s4x52UX"
      },
      "outputs": [],
      "source": [
        "# Unpack mix of positional and\n",
        "# keyword arguments\n",
        "\n",
        "def example_fun(p1, p2, *args, k1, k2, **kwargs): # !!!!!\n",
        "    print('p1 : {}'.format(p1))\n",
        "    print('p2 : {}'.format(p2))\n",
        "    print('args : {}'.format(args))\n",
        "    print('k1 : {}'.format(k1))\n",
        "    print('k2 : {}'.format(k2))\n",
        "    print('kwargs : {}'.format(kwargs))"
      ]
    },
    {
      "cell_type": "code",
      "execution_count": 30,
      "metadata": {
        "colab": {
          "base_uri": "https://localhost:8080/"
        },
        "id": "ns1_5Fpk52UY",
        "outputId": "08cc5c53-7bfa-4c0c-984b-7d4a755372e0"
      },
      "outputs": [
        {
          "name": "stdout",
          "output_type": "stream",
          "text": [
            "p1 : 1\n",
            "p2 : 2\n",
            "args : (3, 4, 5, 6)\n",
            "k1 : 10\n",
            "k2 : house\n",
            "kwargs : {'k3': 30, 'k4': [], 'k5': {'a': 1}}\n"
          ]
        }
      ],
      "source": [
        "example_fun(1,2,3,4,5,6, k1=10, k2='house', k3=30, k4=[], k5={'a': 1})"
      ]
    },
    {
      "cell_type": "code",
      "execution_count": 31,
      "metadata": {
        "id": "LH8F3EUQ52UY"
      },
      "outputs": [],
      "source": [
        "# Use star to denote where  positional arguments end\n",
        "def example_fun_1(p1, p2, *, k1, k2, **kwargs): # !!!!!\n",
        "    print('p1 : {}'.format(p1))\n",
        "    print('p2 : {}'.format(p2))\n",
        "    print('k1 : {}'.format(k1))\n",
        "    print('k2 : {}'.format(k2))\n",
        "    print('kwargs : {}'.format(kwargs))"
      ]
    },
    {
      "cell_type": "code",
      "execution_count": 32,
      "metadata": {
        "colab": {
          "base_uri": "https://localhost:8080/"
        },
        "id": "WE3KkasI52UY",
        "outputId": "2da30a45-8212-4443-b264-87a1649b6c81"
      },
      "outputs": [
        {
          "name": "stdout",
          "output_type": "stream",
          "text": [
            "p1 : 1\n",
            "p2 : 2\n",
            "k1 : 10\n",
            "k2 : house\n",
            "kwargs : {'k3': 30, 'k4': [], 'k5': {'a': 1}}\n"
          ]
        }
      ],
      "source": [
        "example_fun_1(1,2, k1=10, k2='house', k3=30, k4=[], k5={'a': 1})"
      ]
    },
    {
      "cell_type": "code",
      "execution_count": 33,
      "metadata": {
        "colab": {
          "base_uri": "https://localhost:8080/",
          "height": 141
        },
        "id": "BWmsAyzK52Uc",
        "outputId": "ff841c26-cb94-4fd8-8cee-60a1d551f47d"
      },
      "outputs": [
        {
          "ename": "TypeError",
          "evalue": "example_fun_1() takes 2 positional arguments but 3 positional arguments (and 1 keyword-only argument) were given",
          "output_type": "error",
          "traceback": [
            "\u001b[0;31m---------------------------------------------------------------------------\u001b[0m",
            "\u001b[0;31mTypeError\u001b[0m                                 Traceback (most recent call last)",
            "\u001b[0;32m<ipython-input-33-c27eace2dcc2>\u001b[0m in \u001b[0;36m<cell line: 1>\u001b[0;34m()\u001b[0m\n\u001b[0;32m----> 1\u001b[0;31m \u001b[0mexample_fun_1\u001b[0m\u001b[0;34m(\u001b[0m\u001b[0;36m1\u001b[0m\u001b[0;34m,\u001b[0m\u001b[0;36m2\u001b[0m\u001b[0;34m,\u001b[0m \u001b[0;36m10\u001b[0m\u001b[0;34m,\u001b[0m \u001b[0mk2\u001b[0m\u001b[0;34m=\u001b[0m\u001b[0;34m'house'\u001b[0m\u001b[0;34m,\u001b[0m \u001b[0mk3\u001b[0m\u001b[0;34m=\u001b[0m\u001b[0;36m30\u001b[0m\u001b[0;34m,\u001b[0m \u001b[0mk4\u001b[0m\u001b[0;34m=\u001b[0m\u001b[0;34m[\u001b[0m\u001b[0;34m]\u001b[0m\u001b[0;34m,\u001b[0m \u001b[0mk5\u001b[0m\u001b[0;34m=\u001b[0m\u001b[0;34m{\u001b[0m\u001b[0;34m'a'\u001b[0m\u001b[0;34m:\u001b[0m \u001b[0;36m1\u001b[0m\u001b[0;34m}\u001b[0m\u001b[0;34m)\u001b[0m\u001b[0;34m\u001b[0m\u001b[0;34m\u001b[0m\u001b[0m\n\u001b[0m",
            "\u001b[0;31mTypeError\u001b[0m: example_fun_1() takes 2 positional arguments but 3 positional arguments (and 1 keyword-only argument) were given"
          ]
        }
      ],
      "source": [
        "example_fun_1(1,2, 10, k2='house', k3=30, k4=[], k5={'a': 1})"
      ]
    },
    {
      "cell_type": "code",
      "execution_count": 34,
      "metadata": {
        "colab": {
          "base_uri": "https://localhost:8080/"
        },
        "id": "B0LxNGfd52Uc",
        "outputId": "83fac675-840f-4e69-d44d-3d7dedb72ce3"
      },
      "outputs": [
        {
          "name": "stdout",
          "output_type": "stream",
          "text": [
            "args : ('a', 1, 2, ['pro'])\n",
            "kwargs : {'a': 1, 'b': 2, 'c': True}\n"
          ]
        }
      ],
      "source": [
        "# Call function only with args and kwargs\n",
        "def example_fun_2(*args, **kwargs):\n",
        "    print('args : {}'.format(args))\n",
        "    print('kwargs : {}'.format(kwargs))\n",
        "\n",
        "\n",
        "example_fun_2('a', 1, 2, ['pro'], a=1, b=2, c=True)"
      ]
    },
    {
      "cell_type": "markdown",
      "metadata": {
        "id": "sUVVHjR_52Uc"
      },
      "source": [
        "#### Summary:\n",
        "\n",
        "We have learned:\n",
        "\n",
        "- What is function\n",
        "\n",
        "- Function arguments\n",
        "\n",
        "- Default function argumets\n",
        "\n",
        "- Using \"*\" with function arguments\n",
        "  \n",
        "- Using \"**\" with function arguments\n",
        "\n",
        "\n",
        "\n"
      ]
    }
  ],
  "metadata": {
    "colab": {
      "include_colab_link": true,
      "provenance": []
    },
    "kernelspec": {
      "display_name": "test_env_2",
      "language": "python",
      "name": "python3"
    },
    "language_info": {
      "codemirror_mode": {
        "name": "ipython",
        "version": 3
      },
      "file_extension": ".py",
      "mimetype": "text/x-python",
      "name": "python",
      "nbconvert_exporter": "python",
      "pygments_lexer": "ipython3",
      "version": "3.11.3"
    },
    "orig_nbformat": 4
  },
  "nbformat": 4,
  "nbformat_minor": 0
}
