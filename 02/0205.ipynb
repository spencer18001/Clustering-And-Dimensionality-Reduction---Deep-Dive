{
  "cells": [
    {
      "cell_type": "markdown",
      "metadata": {
        "id": "view-in-github",
        "colab_type": "text"
      },
      "source": [
        "<a href=\"https://colab.research.google.com/github/spencer18001/Clustering-And-Dimensionality-Reduction---Deep-Dive/blob/main/0205.ipynb\" target=\"_parent\"><img src=\"https://colab.research.google.com/assets/colab-badge.svg\" alt=\"Open In Colab\"/></a>"
      ]
    },
    {
      "cell_type": "markdown",
      "metadata": {
        "id": "wukNwU2_sCZ7"
      },
      "source": [
        "## String datatype"
      ]
    },
    {
      "cell_type": "code",
      "execution_count": 1,
      "metadata": {
        "id": "w1dg1la8sCZ-",
        "outputId": "4344ad5e-e495-42d4-89e0-ebb5781369a7",
        "colab": {
          "base_uri": "https://localhost:8080/"
        }
      },
      "outputs": [
        {
          "output_type": "stream",
          "name": "stdout",
          "text": [
            "<class 'str'>\n",
            "<class 'str'>\n"
          ]
        }
      ],
      "source": [
        "# Define two string variables\n",
        "str1 = 'Hello, World!'\n",
        "str2 = \"Good morning!\"\n",
        "\n",
        "print(type(str1))\n",
        "print(type(str2))"
      ]
    },
    {
      "cell_type": "markdown",
      "metadata": {
        "id": "CxSaXMdmsCaA"
      },
      "source": [
        "### Operations on strings"
      ]
    },
    {
      "cell_type": "code",
      "execution_count": 2,
      "metadata": {
        "id": "jXgC-i9QsCaA",
        "outputId": "6cf42f76-9c73-4da8-e46f-9af283618ab0",
        "colab": {
          "base_uri": "https://localhost:8080/"
        }
      },
      "outputs": [
        {
          "output_type": "stream",
          "name": "stdout",
          "text": [
            "Hello, World!\n"
          ]
        }
      ],
      "source": [
        "# String concatenation\n",
        "str1 = 'Hello,'\n",
        "str2 = ' World!'\n",
        "print(str1 + str2)"
      ]
    },
    {
      "cell_type": "code",
      "execution_count": 3,
      "metadata": {
        "id": "c8mqJ1NdsCaB",
        "outputId": "528f57c5-4dcf-4da8-ff25-e794b99093b7",
        "colab": {
          "base_uri": "https://localhost:8080/"
        }
      },
      "outputs": [
        {
          "output_type": "stream",
          "name": "stdout",
          "text": [
            "Hello, World! Hello, World! Hello, World! \n"
          ]
        }
      ],
      "source": [
        "# String multiplication\n",
        "str1 = 'Hello, World! '\n",
        "print(str1 * 3)"
      ]
    },
    {
      "cell_type": "code",
      "execution_count": 4,
      "metadata": {
        "id": "gWlj8w4ysCaB",
        "outputId": "a1fcec26-1e9b-4048-a0b7-3082b8e08941",
        "colab": {
          "base_uri": "https://localhost:8080/"
        }
      },
      "outputs": [
        {
          "output_type": "stream",
          "name": "stdout",
          "text": [
            "13\n"
          ]
        }
      ],
      "source": [
        "# String length\n",
        "str1 = 'Hello, World!'\n",
        "print(len(str1))"
      ]
    },
    {
      "cell_type": "code",
      "execution_count": 5,
      "metadata": {
        "id": "7ct-fpPOsCaB",
        "outputId": "094e8da3-9ef4-4de0-a543-2208fdf2778f",
        "colab": {
          "base_uri": "https://localhost:8080/"
        }
      },
      "outputs": [
        {
          "output_type": "stream",
          "name": "stdout",
          "text": [
            "Hello,\n",
            "World!\n"
          ]
        }
      ],
      "source": [
        "print(\"Hello,\\nWorld!\")"
      ]
    },
    {
      "cell_type": "code",
      "execution_count": 6,
      "metadata": {
        "id": "tOlhz_OpsCaC",
        "outputId": "5d662877-a7db-4027-89c9-d40729802e84",
        "colab": {
          "base_uri": "https://localhost:8080/"
        }
      },
      "outputs": [
        {
          "output_type": "stream",
          "name": "stdout",
          "text": [
            "HELLO, WORLD!\n"
          ]
        }
      ],
      "source": [
        "# Casting to upper\n",
        "str1 = 'Hello, World!'\n",
        "print(str1.upper())"
      ]
    },
    {
      "cell_type": "markdown",
      "metadata": {
        "id": "Ayq2Iqz2sCaC"
      },
      "source": [
        "### String templates"
      ]
    },
    {
      "cell_type": "code",
      "execution_count": 7,
      "metadata": {
        "id": "io7Z025ssCaD",
        "outputId": "f94e4897-5880-4eff-90c8-b9850b87f37c",
        "colab": {
          "base_uri": "https://localhost:8080/"
        }
      },
      "outputs": [
        {
          "output_type": "stream",
          "name": "stdout",
          "text": [
            "Analysis has finished successfully!\n"
          ]
        }
      ],
      "source": [
        "status = 'successfully'\n",
        "\n",
        "print('Analysis has finished ' + status + '!')"
      ]
    },
    {
      "cell_type": "code",
      "execution_count": 8,
      "metadata": {
        "id": "g8jM-KLMsCaD",
        "outputId": "ae584fb4-72ce-41c1-9815-59442f177cfa",
        "colab": {
          "base_uri": "https://localhost:8080/"
        }
      },
      "outputs": [
        {
          "output_type": "stream",
          "name": "stdout",
          "text": [
            "Analysis has finished successfully !\n"
          ]
        }
      ],
      "source": [
        "# Formating\n",
        "\n",
        "status = 'successfully'\n",
        "\n",
        "print('Analysis has finished {} !'.format(status))"
      ]
    },
    {
      "cell_type": "code",
      "execution_count": 9,
      "metadata": {
        "id": "okXwoykusCaE",
        "outputId": "c760d4dd-a2f7-4de7-f9c7-14f199771792",
        "colab": {
          "base_uri": "https://localhost:8080/"
        }
      },
      "outputs": [
        {
          "output_type": "stream",
          "name": "stdout",
          "text": [
            "Analysis has failed failed due to code bug !\n"
          ]
        }
      ],
      "source": [
        "# Formating\n",
        "status = 'failed'\n",
        "reason = 'code bug'\n",
        "\n",
        "print('Analysis has failed {} due to {} !'.format(status, reason))"
      ]
    },
    {
      "cell_type": "code",
      "execution_count": 10,
      "metadata": {
        "id": "H9D3xxHIsCaE",
        "outputId": "29686777-2dc9-461c-a726-203138259727",
        "colab": {
          "base_uri": "https://localhost:8080/"
        }
      },
      "outputs": [
        {
          "output_type": "stream",
          "name": "stdout",
          "text": [
            "Analysis result equals 4!\n"
          ]
        }
      ],
      "source": [
        "# Formating\n",
        "name = 4\n",
        "print('Analysis result equals {}!'.format(name))"
      ]
    },
    {
      "cell_type": "markdown",
      "metadata": {
        "id": "jRwOTVGrsCaF"
      },
      "source": [
        "### Splits and joins"
      ]
    },
    {
      "cell_type": "code",
      "execution_count": 11,
      "metadata": {
        "id": "PQgL9ca9sCaF",
        "outputId": "ddb33465-9deb-4a8a-f76f-bf0ce7e5b8b0",
        "colab": {
          "base_uri": "https://localhost:8080/"
        }
      },
      "outputs": [
        {
          "output_type": "stream",
          "name": "stdout",
          "text": [
            "['Hello,', 'I', 'am', 'learning', 'Python.']\n"
          ]
        }
      ],
      "source": [
        "# String spliting\n",
        "sentence = \"Hello, I am learning Python.\"\n",
        "\n",
        "# Split by space\n",
        "sentence_split_by_comma = sentence.split(' ')\n",
        "print(sentence_split_by_comma)"
      ]
    },
    {
      "cell_type": "code",
      "execution_count": 12,
      "metadata": {
        "id": "LmGUFFQesCaF",
        "outputId": "0d354623-aead-4ad3-dde9-11ab3df6a4e0",
        "colab": {
          "base_uri": "https://localhost:8080/"
        }
      },
      "outputs": [
        {
          "output_type": "stream",
          "name": "stdout",
          "text": [
            "Hello,_I_am_learning_Python.\n"
          ]
        }
      ],
      "source": [
        "merged_on_space = '_'.join(sentence_split_by_comma)\n",
        "print(merged_on_space)"
      ]
    }
  ],
  "metadata": {
    "kernelspec": {
      "display_name": "test_env_2",
      "language": "python",
      "name": "python3"
    },
    "language_info": {
      "codemirror_mode": {
        "name": "ipython",
        "version": 3
      },
      "file_extension": ".py",
      "mimetype": "text/x-python",
      "name": "python",
      "nbconvert_exporter": "python",
      "pygments_lexer": "ipython3",
      "version": "3.11.3"
    },
    "orig_nbformat": 4,
    "colab": {
      "provenance": [],
      "include_colab_link": true
    }
  },
  "nbformat": 4,
  "nbformat_minor": 0
}