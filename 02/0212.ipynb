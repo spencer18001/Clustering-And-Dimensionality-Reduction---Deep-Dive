{
  "cells": [
    {
      "cell_type": "markdown",
      "metadata": {
        "colab_type": "text",
        "id": "view-in-github"
      },
      "source": [
        "<a href=\"https://colab.research.google.com/github/spencer18001/Clustering-And-Dimensionality-Reduction---Deep-Dive/blob/main/02/0212.ipynb\" target=\"_parent\"><img src=\"https://colab.research.google.com/assets/colab-badge.svg\" alt=\"Open In Colab\"/></a>"
      ]
    },
    {
      "cell_type": "markdown",
      "metadata": {
        "id": "WW7XFIsqzYb6"
      },
      "source": [
        "## Python variables and copying\n",
        "\n",
        "### Lecture agenda\n",
        "\n",
        "- References\n",
        "- Mutability\n",
        "- Shallow copies\n",
        "- Deep copies"
      ]
    },
    {
      "cell_type": "markdown",
      "metadata": {
        "id": "E4siZKmnzYb9"
      },
      "source": [
        "### References\n",
        "\n",
        "- In Python, when you create an object and assign it to a variable, the variable only refers to the object and does not represent the object itself. This is known as a reference."
      ]
    },
    {
      "cell_type": "code",
      "execution_count": 1,
      "metadata": {
        "id": "H6KCLpXYzYb-"
      },
      "outputs": [],
      "source": [
        "# [1,2,3] is a list while\n",
        "# l2 is reference to a list\n",
        "l2 = [1, 2, 3]"
      ]
    },
    {
      "cell_type": "code",
      "execution_count": 2,
      "metadata": {
        "colab": {
          "base_uri": "https://localhost:8080/"
        },
        "id": "LJd5m8I0zYb_",
        "outputId": "67bd471a-a7a6-43e4-8fbf-f9e3cc37a396"
      },
      "outputs": [
        {
          "data": {
            "text/plain": [
              "133674644617344"
            ]
          },
          "execution_count": 2,
          "metadata": {},
          "output_type": "execute_result"
        }
      ],
      "source": [
        "# This returns unique identifier\n",
        "# of object l2 is pointing to\n",
        "id(l2)"
      ]
    },
    {
      "cell_type": "code",
      "execution_count": 3,
      "metadata": {
        "id": "Rl6Rz2cXzYcA"
      },
      "outputs": [],
      "source": [
        "l1 = l2"
      ]
    },
    {
      "cell_type": "code",
      "execution_count": 4,
      "metadata": {
        "colab": {
          "base_uri": "https://localhost:8080/"
        },
        "id": "otyno6lyzYcA",
        "outputId": "67835cfc-192d-4694-cae9-057506588c1c"
      },
      "outputs": [
        {
          "data": {
            "text/plain": [
              "133674644617344"
            ]
          },
          "execution_count": 4,
          "metadata": {},
          "output_type": "execute_result"
        }
      ],
      "source": [
        "id(l1)"
      ]
    },
    {
      "cell_type": "code",
      "execution_count": 5,
      "metadata": {
        "colab": {
          "base_uri": "https://localhost:8080/"
        },
        "id": "nDxmFb34zYcB",
        "outputId": "28dc8fc7-bc01-42e8-df4c-57508eb56b11"
      },
      "outputs": [
        {
          "data": {
            "text/plain": [
              "True"
            ]
          },
          "execution_count": 5,
          "metadata": {},
          "output_type": "execute_result"
        }
      ],
      "source": [
        "id(l2) == id(l1)"
      ]
    },
    {
      "cell_type": "code",
      "execution_count": 6,
      "metadata": {
        "colab": {
          "base_uri": "https://localhost:8080/"
        },
        "id": "KxgK9Nt0zYcB",
        "outputId": "6c15c255-c2eb-4a44-f946-c009f8b86b44"
      },
      "outputs": [
        {
          "data": {
            "text/plain": [
              "[1, 2, 3]"
            ]
          },
          "execution_count": 6,
          "metadata": {},
          "output_type": "execute_result"
        }
      ],
      "source": [
        "l2"
      ]
    },
    {
      "cell_type": "code",
      "execution_count": 7,
      "metadata": {
        "colab": {
          "base_uri": "https://localhost:8080/"
        },
        "id": "wjjcYiLNzYcC",
        "outputId": "0059935f-ffcc-4940-cc40-10b7cadbfc10"
      },
      "outputs": [
        {
          "data": {
            "text/plain": [
              "['something new', 2, 3]"
            ]
          },
          "execution_count": 7,
          "metadata": {},
          "output_type": "execute_result"
        }
      ],
      "source": [
        "l2[0] = 'something new'\n",
        "l2"
      ]
    },
    {
      "cell_type": "code",
      "execution_count": 8,
      "metadata": {
        "colab": {
          "base_uri": "https://localhost:8080/"
        },
        "id": "US8XIE0szYcC",
        "outputId": "8e2c7f18-3d6d-498c-b745-182937481bdd"
      },
      "outputs": [
        {
          "data": {
            "text/plain": [
              "['something new', 2, 3]"
            ]
          },
          "execution_count": 8,
          "metadata": {},
          "output_type": "execute_result"
        }
      ],
      "source": [
        "l1"
      ]
    },
    {
      "cell_type": "markdown",
      "metadata": {
        "id": "cmiAiKfOzYcD"
      },
      "source": [
        "### Mutability\n",
        "\n",
        "Mutability refers to the ability of an object to change its state or content after it's been created."
      ]
    },
    {
      "cell_type": "code",
      "execution_count": 9,
      "metadata": {
        "id": "yHi1TYdizYcD"
      },
      "outputs": [],
      "source": [
        "str1 = 'house'"
      ]
    },
    {
      "cell_type": "code",
      "execution_count": 10,
      "metadata": {
        "colab": {
          "base_uri": "https://localhost:8080/",
          "height": 141
        },
        "id": "P0HVwpKQzYcD",
        "outputId": "30910445-621d-4dfe-a8a9-f4a55a1b5c2f"
      },
      "outputs": [
        {
          "ename": "TypeError",
          "evalue": "'str' object does not support item assignment",
          "output_type": "error",
          "traceback": [
            "\u001b[0;31m---------------------------------------------------------------------------\u001b[0m",
            "\u001b[0;31mTypeError\u001b[0m                                 Traceback (most recent call last)",
            "\u001b[0;32m<ipython-input-10-3f678d995160>\u001b[0m in \u001b[0;36m<cell line: 1>\u001b[0;34m()\u001b[0m\n\u001b[0;32m----> 1\u001b[0;31m \u001b[0mstr1\u001b[0m\u001b[0;34m[\u001b[0m\u001b[0;36m0\u001b[0m\u001b[0;34m]\u001b[0m \u001b[0;34m=\u001b[0m \u001b[0;34m'l'\u001b[0m\u001b[0;34m\u001b[0m\u001b[0;34m\u001b[0m\u001b[0m\n\u001b[0m",
            "\u001b[0;31mTypeError\u001b[0m: 'str' object does not support item assignment"
          ]
        }
      ],
      "source": [
        "str1[0] = 'l'"
      ]
    },
    {
      "cell_type": "code",
      "execution_count": 11,
      "metadata": {
        "colab": {
          "base_uri": "https://localhost:8080/"
        },
        "id": "rb9g8menzYcE",
        "outputId": "b18de114-b228-4f38-cc33-db065ae6bb07"
      },
      "outputs": [
        {
          "data": {
            "text/plain": [
              "133674644680832"
            ]
          },
          "execution_count": 11,
          "metadata": {},
          "output_type": "execute_result"
        }
      ],
      "source": [
        "l1 = [1,2,3]\n",
        "id(l1)"
      ]
    },
    {
      "cell_type": "code",
      "execution_count": 12,
      "metadata": {
        "colab": {
          "base_uri": "https://localhost:8080/"
        },
        "id": "V_EC27x3zYcE",
        "outputId": "b49926b3-fe3e-402d-dbda-31f0fd50d0b7"
      },
      "outputs": [
        {
          "data": {
            "text/plain": [
              "133674644680832"
            ]
          },
          "execution_count": 12,
          "metadata": {},
          "output_type": "execute_result"
        }
      ],
      "source": [
        "l1[0] = 10\n",
        "id(l1)"
      ]
    },
    {
      "cell_type": "code",
      "execution_count": 13,
      "metadata": {
        "colab": {
          "base_uri": "https://localhost:8080/"
        },
        "id": "I27z0xIMzYcE",
        "outputId": "8bacfe37-ae35-4dbb-d581-d3254ee62b6b"
      },
      "outputs": [
        {
          "data": {
            "text/plain": [
              "[10, 2, 3]"
            ]
          },
          "execution_count": 13,
          "metadata": {},
          "output_type": "execute_result"
        }
      ],
      "source": [
        "l1"
      ]
    },
    {
      "cell_type": "markdown",
      "metadata": {
        "id": "_GY2Du1EzYcE"
      },
      "source": [
        "##### Shallow copying\n",
        "\n",
        "In Python, a shallow copy refers to the process of creating a new collection object and then populating it with references to the child objects found in the original.\n",
        "\n",
        "In other words, the copy is shallow because it does not create copies of the nested objects themselves, but instead just copies the references to them.\n"
      ]
    },
    {
      "cell_type": "code",
      "execution_count": 14,
      "metadata": {
        "colab": {
          "base_uri": "https://localhost:8080/"
        },
        "id": "H9oLPLn0zYcF",
        "outputId": "5cbf23bd-2715-4d3d-b6fc-71402599f918"
      },
      "outputs": [
        {
          "name": "stdout",
          "output_type": "stream",
          "text": [
            "133674644407744\n",
            "133674644618496\n"
          ]
        }
      ],
      "source": [
        "# Perform shallow copy\n",
        "# List contains only unmutable elements\n",
        "l1 = [1, 2, 3, 4]\n",
        "print(id(l1))\n",
        "\n",
        "l2 = l1.copy()\n",
        "print(id(l2))"
      ]
    },
    {
      "cell_type": "code",
      "execution_count": 15,
      "metadata": {
        "colab": {
          "base_uri": "https://localhost:8080/"
        },
        "id": "QAkTFi_2zYcF",
        "outputId": "8bcb8a4a-6fd0-4602-9e8a-e447f89b3cbc"
      },
      "outputs": [
        {
          "data": {
            "text/plain": [
              "['house', 2, 3, 4]"
            ]
          },
          "execution_count": 15,
          "metadata": {},
          "output_type": "execute_result"
        }
      ],
      "source": [
        "# Modify copied object\n",
        "l2[0] = 'house'\n",
        "l2"
      ]
    },
    {
      "cell_type": "code",
      "execution_count": 16,
      "metadata": {
        "colab": {
          "base_uri": "https://localhost:8080/"
        },
        "id": "pirRllHdzYcF",
        "outputId": "a6b9004f-30bd-4950-8307-61bbc184ea7f"
      },
      "outputs": [
        {
          "data": {
            "text/plain": [
              "[1, 2, 3, 4]"
            ]
          },
          "execution_count": 16,
          "metadata": {},
          "output_type": "execute_result"
        }
      ],
      "source": [
        "l1"
      ]
    },
    {
      "cell_type": "code",
      "execution_count": 17,
      "metadata": {
        "colab": {
          "base_uri": "https://localhost:8080/"
        },
        "id": "Wg70N0cazYcF",
        "outputId": "cfc3ae0c-dc5d-4eb8-95ad-c0fb55e1ebf1"
      },
      "outputs": [
        {
          "name": "stdout",
          "output_type": "stream",
          "text": [
            "133674644616896\n",
            "133674644694144\n"
          ]
        }
      ],
      "source": [
        "# Shallow copy list containing mutable elements\n",
        "l3 = [[1,2], [5,6]]\n",
        "print(id(l3))\n",
        "\n",
        "l4 = l3.copy()\n",
        "print(id(l4))"
      ]
    },
    {
      "cell_type": "code",
      "execution_count": 18,
      "metadata": {
        "colab": {
          "base_uri": "https://localhost:8080/"
        },
        "id": "wXmrEWNizYcG",
        "outputId": "80359735-4157-4193-c0f5-7ebb21f0d6f5"
      },
      "outputs": [
        {
          "data": {
            "text/plain": [
              "[['house', 2], [5, 6]]"
            ]
          },
          "execution_count": 18,
          "metadata": {},
          "output_type": "execute_result"
        }
      ],
      "source": [
        "# Modify first element of a copied list\n",
        "l4[0][0] = 'house'\n",
        "l4"
      ]
    },
    {
      "cell_type": "code",
      "execution_count": 19,
      "metadata": {
        "colab": {
          "base_uri": "https://localhost:8080/"
        },
        "id": "43zdtY_hzYcG",
        "outputId": "64b92727-aefe-4e32-9315-0a68a9c5498b"
      },
      "outputs": [
        {
          "data": {
            "text/plain": [
              "[['house', 2], [5, 6]]"
            ]
          },
          "execution_count": 19,
          "metadata": {},
          "output_type": "execute_result"
        }
      ],
      "source": [
        "l3"
      ]
    },
    {
      "cell_type": "code",
      "execution_count": 20,
      "metadata": {
        "colab": {
          "base_uri": "https://localhost:8080/"
        },
        "id": "wFnPnU7fzYcG",
        "outputId": "32ca8cda-d810-4183-e4e2-dcbfcd8b5de1"
      },
      "outputs": [
        {
          "data": {
            "text/plain": [
              "True"
            ]
          },
          "execution_count": 20,
          "metadata": {},
          "output_type": "execute_result"
        }
      ],
      "source": [
        "id(l3[0]) == id(l4[0])"
      ]
    },
    {
      "cell_type": "markdown",
      "metadata": {
        "id": "25ykks2nzYcG"
      },
      "source": [
        "### Deep Copying\n",
        "\n",
        " Deep copying creates a new collection object and then, recursively, inserts copies of the objects found in the original. Changes to the copy will not affect the original and vice versa."
      ]
    },
    {
      "cell_type": "code",
      "execution_count": 21,
      "metadata": {
        "id": "6LG4XI2rzYcG"
      },
      "outputs": [],
      "source": [
        "import copy"
      ]
    },
    {
      "cell_type": "code",
      "execution_count": 22,
      "metadata": {
        "colab": {
          "base_uri": "https://localhost:8080/"
        },
        "id": "GyXD5CmIzYcG",
        "outputId": "07eadce9-fbc1-4f83-a31e-5d6c540decde"
      },
      "outputs": [
        {
          "name": "stdout",
          "output_type": "stream",
          "text": [
            "133674644618304\n",
            "133674644617280\n"
          ]
        }
      ],
      "source": [
        "l5 = [[1,2,3], [5,6,7], [8,9,10]]\n",
        "print(id(l5))\n",
        "\n",
        "l6 = copy.deepcopy(l5) # !!!!!\n",
        "print(id(l6))"
      ]
    },
    {
      "cell_type": "code",
      "execution_count": 23,
      "metadata": {
        "colab": {
          "base_uri": "https://localhost:8080/"
        },
        "id": "EjMT81nuzYcH",
        "outputId": "9862f357-2109-4904-d641-cf650a03f7d5"
      },
      "outputs": [
        {
          "data": {
            "text/plain": [
              "[['house', 2, 3], [5, 6, 7], [8, 9, 10]]"
            ]
          },
          "execution_count": 23,
          "metadata": {},
          "output_type": "execute_result"
        }
      ],
      "source": [
        "l6[0][0] = 'house'\n",
        "l6"
      ]
    },
    {
      "cell_type": "code",
      "execution_count": 24,
      "metadata": {
        "colab": {
          "base_uri": "https://localhost:8080/"
        },
        "id": "MXdk8AjyzYcH",
        "outputId": "c6a30017-6a79-4bd7-f483-4c427920577c"
      },
      "outputs": [
        {
          "data": {
            "text/plain": [
              "[[1, 2, 3], [5, 6, 7], [8, 9, 10]]"
            ]
          },
          "execution_count": 24,
          "metadata": {},
          "output_type": "execute_result"
        }
      ],
      "source": [
        "l5"
      ]
    },
    {
      "cell_type": "markdown",
      "metadata": {
        "id": "b_qfwO3mzYcH"
      },
      "source": [
        "#### Summary\n",
        "\n",
        "We have learned:\n",
        "\n",
        "- References\n",
        "\n",
        "- Shallow copies\n",
        "\n",
        "- Deep copies"
      ]
    }
  ],
  "metadata": {
    "colab": {
      "include_colab_link": true,
      "provenance": []
    },
    "kernelspec": {
      "display_name": "test_env_2",
      "language": "python",
      "name": "python3"
    },
    "language_info": {
      "codemirror_mode": {
        "name": "ipython",
        "version": 3
      },
      "file_extension": ".py",
      "mimetype": "text/x-python",
      "name": "python",
      "nbconvert_exporter": "python",
      "pygments_lexer": "ipython3",
      "version": "3.11.3"
    },
    "orig_nbformat": 4
  },
  "nbformat": 4,
  "nbformat_minor": 0
}
