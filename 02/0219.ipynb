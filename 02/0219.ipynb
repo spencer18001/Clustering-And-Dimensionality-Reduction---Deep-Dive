{
  "cells": [
    {
      "cell_type": "markdown",
      "metadata": {
        "colab_type": "text",
        "id": "view-in-github"
      },
      "source": [
        "<a href=\"https://colab.research.google.com/github/spencer18001/Clustering-And-Dimensionality-Reduction---Deep-Dive/blob/main/02/0219.ipynb\" target=\"_parent\"><img src=\"https://colab.research.google.com/assets/colab-badge.svg\" alt=\"Open In Colab\"/></a>"
      ]
    },
    {
      "cell_type": "markdown",
      "metadata": {
        "id": "87_va8kZ-lkB"
      },
      "source": [
        "## Python loops\n",
        "\n",
        "Agenda:\n",
        "\n",
        "- For loop\n",
        "- While loop\n",
        "- Loop control statements"
      ]
    },
    {
      "cell_type": "markdown",
      "metadata": {
        "id": "PYqa8LIc-lkF"
      },
      "source": [
        "### For loop"
      ]
    },
    {
      "cell_type": "code",
      "execution_count": 1,
      "metadata": {
        "id": "jyEX2jsB-lkF"
      },
      "outputs": [],
      "source": [
        "l1 = [1, 2, 3, 4]"
      ]
    },
    {
      "cell_type": "code",
      "execution_count": 2,
      "metadata": {
        "colab": {
          "base_uri": "https://localhost:8080/"
        },
        "id": "Y504-eVb-lkG",
        "outputId": "63c86a2c-a4e3-46d6-8e94-3bd10a5644f0"
      },
      "outputs": [
        {
          "name": "stdout",
          "output_type": "stream",
          "text": [
            "1\n",
            "2\n",
            "3\n",
            "4\n"
          ]
        }
      ],
      "source": [
        "for el in l1:\n",
        "    print(el)"
      ]
    },
    {
      "cell_type": "markdown",
      "metadata": {
        "id": "lKY30fRq-lkH"
      },
      "source": [
        "### While loop\n"
      ]
    },
    {
      "cell_type": "code",
      "execution_count": 3,
      "metadata": {
        "colab": {
          "base_uri": "https://localhost:8080/"
        },
        "id": "W67KXlU7-lkH",
        "outputId": "350397bd-96ee-4014-d70c-6bc792bc8879"
      },
      "outputs": [
        {
          "name": "stdout",
          "output_type": "stream",
          "text": [
            "0\n",
            "1\n",
            "2\n",
            "3\n",
            "4\n",
            "5\n",
            "6\n",
            "7\n",
            "8\n",
            "9\n"
          ]
        }
      ],
      "source": [
        "counter = 0\n",
        "while counter < 10:\n",
        "    print(counter)\n",
        "    counter += 1"
      ]
    },
    {
      "cell_type": "markdown",
      "metadata": {
        "id": "kpQkZV3k-lkI"
      },
      "source": [
        "### Loop control statements"
      ]
    },
    {
      "cell_type": "code",
      "execution_count": 4,
      "metadata": {
        "id": "Gn53oxHN-lkI"
      },
      "outputs": [],
      "source": [
        "document_list = ['document 1', 'document 2', 'invalid document', 'document 3']"
      ]
    },
    {
      "cell_type": "code",
      "execution_count": 5,
      "metadata": {
        "colab": {
          "base_uri": "https://localhost:8080/"
        },
        "id": "edskzeV5-lkI",
        "outputId": "2161ad1a-59ad-4b24-eadc-273ddda4976f"
      },
      "outputs": [
        {
          "name": "stdout",
          "output_type": "stream",
          "text": [
            "document 1\n",
            "document 2\n"
          ]
        }
      ],
      "source": [
        "# Break stops the loop\n",
        "for el in document_list:\n",
        "    if el == 'invalid document':\n",
        "        break\n",
        "    print(el)"
      ]
    },
    {
      "cell_type": "code",
      "execution_count": 6,
      "metadata": {
        "colab": {
          "base_uri": "https://localhost:8080/"
        },
        "id": "nRR60Zix-lkJ",
        "outputId": "008261d8-78b4-4e06-ee9f-6b9ce6169c11"
      },
      "outputs": [
        {
          "name": "stdout",
          "output_type": "stream",
          "text": [
            "document 1\n",
            "document 2\n",
            "document 3\n"
          ]
        }
      ],
      "source": [
        "# Continue proceeds to the next itteration\n",
        "for el in document_list:\n",
        "    if el == 'invalid document':\n",
        "        continue\n",
        "    print(el)"
      ]
    },
    {
      "cell_type": "code",
      "execution_count": 7,
      "metadata": {
        "colab": {
          "base_uri": "https://localhost:8080/"
        },
        "id": "vSUGlsnI-lkJ",
        "outputId": "9d28c84c-6708-4829-97b5-dcfdf1f3a733"
      },
      "outputs": [
        {
          "data": {
            "text/plain": [
              "[1, 2, 3, 4]"
            ]
          },
          "execution_count": 7,
          "metadata": {},
          "output_type": "execute_result"
        }
      ],
      "source": [
        "l1"
      ]
    },
    {
      "cell_type": "code",
      "execution_count": 8,
      "metadata": {
        "colab": {
          "base_uri": "https://localhost:8080/"
        },
        "id": "gUiQR2La-lkK",
        "outputId": "d6a8c960-9f05-4b40-f513-67a26e385b6c"
      },
      "outputs": [
        {
          "name": "stdout",
          "output_type": "stream",
          "text": [
            "1 and a\n",
            "2 and a\n",
            "1 and b\n",
            "2 and b\n",
            "1 and c\n",
            "2 and c\n",
            "1 and d\n",
            "2 and d\n"
          ]
        }
      ],
      "source": [
        "# Break can only interrupt a single loop\n",
        "l2 = ['a', 'b', 'c', 'd']\n",
        "\n",
        "for el2 in l2:\n",
        "    for el1 in l1:\n",
        "        if el1 == 3:\n",
        "            break\n",
        "        print('{} and {}'.format(el1, el2))"
      ]
    },
    {
      "cell_type": "code",
      "execution_count": 9,
      "metadata": {
        "colab": {
          "base_uri": "https://localhost:8080/"
        },
        "id": "O88N0FVg-lkK",
        "outputId": "0b1a2309-8c77-4ecc-e946-fcd5ea50a41f"
      },
      "outputs": [
        {
          "name": "stdout",
          "output_type": "stream",
          "text": [
            "1 and a\n",
            "2 and a\n",
            "4 and a\n",
            "1 and b\n",
            "2 and b\n",
            "4 and b\n",
            "1 and c\n",
            "2 and c\n",
            "4 and c\n",
            "1 and d\n",
            "2 and d\n",
            "4 and d\n"
          ]
        }
      ],
      "source": [
        "# Same goes for continue\n",
        "l2 = ['a', 'b', 'c', 'd']\n",
        "\n",
        "for el2 in l2:\n",
        "    for el1 in l1:\n",
        "        if el1 == 3:\n",
        "            continue\n",
        "        print('{} and {}'.format(el1, el2))"
      ]
    },
    {
      "cell_type": "markdown",
      "metadata": {
        "id": "1pIIt3lV-lkL"
      },
      "source": [
        "### Conclusion\n",
        "\n",
        "We have learned about :\n",
        "- Foor loop\n",
        "- While loop\n",
        "- Break statement\n",
        "- Continue statement"
      ]
    }
  ],
  "metadata": {
    "colab": {
      "include_colab_link": true,
      "provenance": []
    },
    "kernelspec": {
      "display_name": "test_env_2",
      "language": "python",
      "name": "python3"
    },
    "language_info": {
      "codemirror_mode": {
        "name": "ipython",
        "version": 3
      },
      "file_extension": ".py",
      "mimetype": "text/x-python",
      "name": "python",
      "nbconvert_exporter": "python",
      "pygments_lexer": "ipython3",
      "version": "3.11.3"
    },
    "orig_nbformat": 4
  },
  "nbformat": 4,
  "nbformat_minor": 0
}
