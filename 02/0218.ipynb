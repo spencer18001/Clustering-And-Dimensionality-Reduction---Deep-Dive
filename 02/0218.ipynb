{
  "cells": [
    {
      "cell_type": "markdown",
      "metadata": {
        "colab_type": "text",
        "id": "view-in-github"
      },
      "source": [
        "<a href=\"https://colab.research.google.com/github/spencer18001/Clustering-And-Dimensionality-Reduction---Deep-Dive/blob/main/02/0218.ipynb\" target=\"_parent\"><img src=\"https://colab.research.google.com/assets/colab-badge.svg\" alt=\"Open In Colab\"/></a>"
      ]
    },
    {
      "cell_type": "markdown",
      "metadata": {
        "id": "5d-BVl119b_1"
      },
      "source": [
        "### Classes\n",
        "\n",
        "\n",
        "#### Agenda\n",
        "\n",
        "- Class basics\n",
        "- Inheritance\n",
        "- Everything in python is a class\n",
        "- More on methods\n",
        "\n",
        "\n"
      ]
    },
    {
      "cell_type": "markdown",
      "metadata": {
        "id": "6UJ6SfUn9b_5"
      },
      "source": [
        "#### Class basics"
      ]
    },
    {
      "cell_type": "code",
      "execution_count": 1,
      "metadata": {
        "id": "TJ9lQ_sO9b_5"
      },
      "outputs": [],
      "source": [
        "class Vehicle:\n",
        "    def __init__(self, name, weight, mileage):\n",
        "        self._name = name\n",
        "        self._weight = weight\n",
        "        self._mileage = mileage\n",
        "\n",
        "    def display_vehicle(self):\n",
        "        print(\n",
        "            \"Vehicle Name: {}, Weight: {} kg, Mileage: {} km\".format(\n",
        "                self._name, self._weight, self._mileage\n",
        "            )\n",
        "        )\n",
        "\n",
        "    def add_mileage(self, miles):\n",
        "        self._mileage += miles"
      ]
    },
    {
      "cell_type": "code",
      "execution_count": 2,
      "metadata": {
        "id": "AHfEK5xo9b_7"
      },
      "outputs": [],
      "source": [
        "# Create two objects\n",
        "\n",
        "vehicle1 = Vehicle(\n",
        "    name=\"Ferrari\",\n",
        "    weight=2000,\n",
        "    mileage=15\n",
        ")\n",
        "\n",
        "vehicle2 = Vehicle(\n",
        "    name=\"Volvo\",\n",
        "    weight=3000,\n",
        "    mileage=25\n",
        ")"
      ]
    },
    {
      "cell_type": "code",
      "execution_count": 3,
      "metadata": {
        "colab": {
          "base_uri": "https://localhost:8080/",
          "height": 104
        },
        "id": "aJVbAFHM9b_7",
        "outputId": "c72afd87-1677-4556-c8f2-a9b1238c0f2e"
      },
      "outputs": [
        {
          "data": {
            "text/html": [
              "<div style=\"max-width:800px; border: 1px solid var(--colab-border-color);\"><style>\n",
              "      pre.function-repr-contents {\n",
              "        overflow-x: auto;\n",
              "        padding: 8px 12px;\n",
              "        max-height: 500px;\n",
              "      }\n",
              "\n",
              "      pre.function-repr-contents.function-repr-contents-collapsed {\n",
              "        cursor: pointer;\n",
              "        max-height: 100px;\n",
              "      }\n",
              "    </style>\n",
              "    <pre style=\"white-space: initial; background:\n",
              "         var(--colab-secondary-surface-color); padding: 8px 12px;\n",
              "         border-bottom: 1px solid var(--colab-border-color);\"><b>Vehicle</b><br/>def __init__(name, weight, mileage)</pre><pre class=\"function-repr-contents function-repr-contents-collapsed\" style=\"\"><a class=\"filepath\" style=\"display:none\" href=\"#\"></a>&lt;no docstring&gt;</pre></div>"
            ],
            "text/plain": [
              "__main__.Vehicle"
            ]
          },
          "execution_count": 3,
          "metadata": {},
          "output_type": "execute_result"
        }
      ],
      "source": [
        "type(vehicle1)"
      ]
    },
    {
      "cell_type": "code",
      "execution_count": 4,
      "metadata": {
        "colab": {
          "base_uri": "https://localhost:8080/"
        },
        "id": "Pmq-kULv9b_8",
        "outputId": "667054e2-b919-43c0-deb7-8c9cb71f8485"
      },
      "outputs": [
        {
          "name": "stdout",
          "output_type": "stream",
          "text": [
            "Vehicle Name: Ferrari, Weight: 2000 kg, Mileage: 15 km\n"
          ]
        }
      ],
      "source": [
        "vehicle1.display_vehicle()"
      ]
    },
    {
      "cell_type": "code",
      "execution_count": 5,
      "metadata": {
        "id": "7WV064_a9b_8"
      },
      "outputs": [],
      "source": [
        "vehicle1.add_mileage(10)"
      ]
    },
    {
      "cell_type": "code",
      "execution_count": 6,
      "metadata": {
        "colab": {
          "base_uri": "https://localhost:8080/"
        },
        "id": "yKZQBHGb9b_9",
        "outputId": "2788cc4c-b3bd-4cb2-b43b-2a676a85672c"
      },
      "outputs": [
        {
          "name": "stdout",
          "output_type": "stream",
          "text": [
            "Vehicle Name: Ferrari, Weight: 2000 kg, Mileage: 25 km\n"
          ]
        }
      ],
      "source": [
        "vehicle1.display_vehicle()"
      ]
    },
    {
      "cell_type": "code",
      "execution_count": 7,
      "metadata": {
        "colab": {
          "base_uri": "https://localhost:8080/"
        },
        "id": "ejshVkuQ9b_9",
        "outputId": "efdb31d3-35c3-4b5b-9c13-9464568581ef"
      },
      "outputs": [
        {
          "data": {
            "text/plain": [
              "25"
            ]
          },
          "execution_count": 7,
          "metadata": {},
          "output_type": "execute_result"
        }
      ],
      "source": [
        "vehicle1._mileage"
      ]
    },
    {
      "cell_type": "code",
      "execution_count": 8,
      "metadata": {
        "colab": {
          "base_uri": "https://localhost:8080/"
        },
        "id": "a10AX2kL9b_-",
        "outputId": "5e258481-4afc-4a8c-a74e-fdd91be507be"
      },
      "outputs": [
        {
          "data": {
            "text/plain": [
              "2000"
            ]
          },
          "execution_count": 8,
          "metadata": {},
          "output_type": "execute_result"
        }
      ],
      "source": [
        "vehicle1._weight"
      ]
    },
    {
      "cell_type": "code",
      "execution_count": 9,
      "metadata": {
        "id": "TMfMtBXk9b_-"
      },
      "outputs": [],
      "source": [
        "vehicle1._mileage = 10000"
      ]
    },
    {
      "cell_type": "code",
      "execution_count": 10,
      "metadata": {
        "colab": {
          "base_uri": "https://localhost:8080/"
        },
        "id": "URF0xLlI9b_-",
        "outputId": "d28effc2-1dd2-4e62-e36c-03644981640d"
      },
      "outputs": [
        {
          "name": "stdout",
          "output_type": "stream",
          "text": [
            "Vehicle Name: Ferrari, Weight: 2000 kg, Mileage: 10000 km\n"
          ]
        }
      ],
      "source": [
        "vehicle1.display_vehicle()"
      ]
    },
    {
      "cell_type": "markdown",
      "metadata": {
        "id": "yQ4cW_io9b__"
      },
      "source": [
        "### Class inheritance"
      ]
    },
    {
      "cell_type": "code",
      "execution_count": 11,
      "metadata": {
        "id": "Vcy0C0VP9b__"
      },
      "outputs": [],
      "source": [
        "# Inheritance\n",
        "class Truck(Vehicle): # !!!!!\n",
        "    def __init__(self, name, weight, mileage, load_capacity):\n",
        "        super().__init__(name, weight, mileage) # !!!!!\n",
        "        self.load_capacity = load_capacity\n",
        "\n",
        "    def display_truck(self):\n",
        "        self.display_vehicle()\n",
        "        print(\"Load Capacity: {} kg\".format(self.load_capacity))"
      ]
    },
    {
      "cell_type": "code",
      "execution_count": 12,
      "metadata": {
        "colab": {
          "base_uri": "https://localhost:8080/"
        },
        "id": "mUekOJgW9b__",
        "outputId": "f7420962-fb15-4d2e-f741-86230f396f2f"
      },
      "outputs": [
        {
          "name": "stdout",
          "output_type": "stream",
          "text": [
            "Vehicle Name: Volvo, Weight: 80 kg, Mileage: 8 km\n",
            "Load Capacity: 15000 kg\n"
          ]
        }
      ],
      "source": [
        "# Create a truck\n",
        "truck1 = Truck(\"Volvo\", 80, 8, 15000)\n",
        "truck1.display_truck()"
      ]
    },
    {
      "cell_type": "code",
      "execution_count": 13,
      "metadata": {
        "colab": {
          "base_uri": "https://localhost:8080/"
        },
        "id": "79H2nu7E9b__",
        "outputId": "db50cfd1-2785-4b0d-a6ff-4661f49d2893"
      },
      "outputs": [
        {
          "data": {
            "text/plain": [
              "80"
            ]
          },
          "execution_count": 13,
          "metadata": {},
          "output_type": "execute_result"
        }
      ],
      "source": [
        "truck1._weight"
      ]
    },
    {
      "cell_type": "code",
      "execution_count": 14,
      "metadata": {
        "id": "dqol7ohZ9cAA"
      },
      "outputs": [],
      "source": [
        "# Use method from the parent class\n",
        "truck1.add_mileage(10)"
      ]
    },
    {
      "cell_type": "code",
      "execution_count": 15,
      "metadata": {
        "colab": {
          "base_uri": "https://localhost:8080/"
        },
        "id": "vLDRcS1B9cAA",
        "outputId": "18c8ddf7-fbcb-4362-ddbc-0d6bf1cb0d7a"
      },
      "outputs": [
        {
          "name": "stdout",
          "output_type": "stream",
          "text": [
            "Vehicle Name: Volvo, Weight: 80 kg, Mileage: 18 km\n"
          ]
        }
      ],
      "source": [
        "truck1.display_vehicle()"
      ]
    },
    {
      "cell_type": "markdown",
      "metadata": {
        "id": "0YTzMTc99cAA"
      },
      "source": [
        "### Classes are used everywhere in python !"
      ]
    },
    {
      "cell_type": "code",
      "execution_count": 16,
      "metadata": {
        "colab": {
          "base_uri": "https://localhost:8080/",
          "height": 36
        },
        "id": "WH-BYrQl9cAA",
        "outputId": "c6af482a-4424-40b8-a3da-a83307995ff0"
      },
      "outputs": [
        {
          "data": {
            "application/vnd.google.colaboratory.intrinsic+json": {
              "type": "string"
            },
            "text/plain": [
              "'123'"
            ]
          },
          "execution_count": 16,
          "metadata": {},
          "output_type": "execute_result"
        }
      ],
      "source": [
        "s1 = str(123)\n",
        "s1"
      ]
    },
    {
      "cell_type": "code",
      "execution_count": 17,
      "metadata": {
        "colab": {
          "base_uri": "https://localhost:8080/",
          "height": 36
        },
        "id": "tdpkeEDM9cAB",
        "outputId": "6a12d75b-4380-4ea2-a31b-bf1e0164bc21"
      },
      "outputs": [
        {
          "data": {
            "application/vnd.google.colaboratory.intrinsic+json": {
              "type": "string"
            },
            "text/plain": [
              "'A23'"
            ]
          },
          "execution_count": 17,
          "metadata": {},
          "output_type": "execute_result"
        }
      ],
      "source": [
        "s1.replace('1', 'A')"
      ]
    },
    {
      "cell_type": "code",
      "execution_count": 18,
      "metadata": {
        "colab": {
          "base_uri": "https://localhost:8080/"
        },
        "id": "t9IFMqZy9cAB",
        "outputId": "35ea23bb-4622-4016-ee07-58b0a329387e"
      },
      "outputs": [
        {
          "data": {
            "text/plain": [
              "3"
            ]
          },
          "execution_count": 18,
          "metadata": {},
          "output_type": "execute_result"
        }
      ],
      "source": [
        "len(s1)"
      ]
    },
    {
      "cell_type": "code",
      "execution_count": 19,
      "metadata": {
        "colab": {
          "base_uri": "https://localhost:8080/"
        },
        "id": "_Tz997MW9cAB",
        "outputId": "1bb59c08-4365-492d-d38b-a295c4ff5796"
      },
      "outputs": [
        {
          "data": {
            "text/plain": [
              "10.0"
            ]
          },
          "execution_count": 19,
          "metadata": {},
          "output_type": "execute_result"
        }
      ],
      "source": [
        "int1 = 10\n",
        "f1 = float(int1)\n",
        "f1"
      ]
    },
    {
      "cell_type": "markdown",
      "metadata": {
        "id": "CJvo9dDi9cAB"
      },
      "source": [
        "### Method return values"
      ]
    },
    {
      "cell_type": "code",
      "execution_count": 20,
      "metadata": {
        "id": "Sq5yJVJM9cAB"
      },
      "outputs": [],
      "source": [
        "# New classs\n",
        "class Car:\n",
        "    def __init__(self, color, mileage):\n",
        "        self.color = color\n",
        "        self.mileage = mileage\n",
        "\n",
        "    def drive(self, miles):\n",
        "        self.mileage += miles\n",
        "\n",
        "    def return_mileage_in_miles(self):\n",
        "        return self.mileage*0.621371\n",
        "\n",
        "    def paint(self, new_color):\n",
        "        return Car(new_color, self.mileage)\n",
        "\n",
        "    def paint2(self, new_color):\n",
        "        self.color = new_color\n",
        "        return self\n"
      ]
    },
    {
      "cell_type": "code",
      "execution_count": 21,
      "metadata": {
        "colab": {
          "base_uri": "https://localhost:8080/"
        },
        "id": "KE7KOnfB9cAB",
        "outputId": "b4c7a4c2-1b8a-4bc3-c552-2c8b4ebd950a"
      },
      "outputs": [
        {
          "data": {
            "text/plain": [
              "137297313136944"
            ]
          },
          "execution_count": 21,
          "metadata": {},
          "output_type": "execute_result"
        }
      ],
      "source": [
        "c1 = Car('blue', 200)\n",
        "id(c1)"
      ]
    },
    {
      "cell_type": "code",
      "execution_count": 22,
      "metadata": {
        "colab": {
          "base_uri": "https://localhost:8080/"
        },
        "id": "bG914OR29cAC",
        "outputId": "d5f2dfe0-f06c-4971-ca30-a0bf916b61fc"
      },
      "outputs": [
        {
          "data": {
            "text/plain": [
              "250"
            ]
          },
          "execution_count": 22,
          "metadata": {},
          "output_type": "execute_result"
        }
      ],
      "source": [
        "c1.drive(50)\n",
        "c1.mileage"
      ]
    },
    {
      "cell_type": "code",
      "execution_count": 23,
      "metadata": {
        "colab": {
          "base_uri": "https://localhost:8080/"
        },
        "id": "zx5a0XKc9cAC",
        "outputId": "8aa8e8d3-3d9c-4822-f1e9-aa394e4438eb"
      },
      "outputs": [
        {
          "data": {
            "text/plain": [
              "137297313136944"
            ]
          },
          "execution_count": 23,
          "metadata": {},
          "output_type": "execute_result"
        }
      ],
      "source": [
        "id(c1)"
      ]
    },
    {
      "cell_type": "code",
      "execution_count": 24,
      "metadata": {
        "id": "in_KJHue9cAC"
      },
      "outputs": [],
      "source": [
        "c1 = c1.drive(50)"
      ]
    },
    {
      "cell_type": "code",
      "execution_count": 25,
      "metadata": {
        "colab": {
          "base_uri": "https://localhost:8080/"
        },
        "id": "86iT3t769cAC",
        "outputId": "4cfcdeaf-75db-400f-88d9-6226f6501bb7"
      },
      "outputs": [
        {
          "name": "stdout",
          "output_type": "stream",
          "text": [
            "None\n"
          ]
        },
        {
          "data": {
            "text/plain": [
              "98670882378720"
            ]
          },
          "execution_count": 25,
          "metadata": {},
          "output_type": "execute_result"
        }
      ],
      "source": [
        "print(c1)\n",
        "id(c1)"
      ]
    },
    {
      "cell_type": "code",
      "execution_count": 26,
      "metadata": {
        "colab": {
          "base_uri": "https://localhost:8080/"
        },
        "id": "oqZ8yDSu9cAC",
        "outputId": "e6929ab1-a1c7-41c8-f965-ac4b1377b71c"
      },
      "outputs": [
        {
          "data": {
            "text/plain": [
              "137297313149520"
            ]
          },
          "execution_count": 26,
          "metadata": {},
          "output_type": "execute_result"
        }
      ],
      "source": [
        "c1 = Car('blue', 200)\n",
        "id(c1)"
      ]
    },
    {
      "cell_type": "code",
      "execution_count": 27,
      "metadata": {
        "colab": {
          "base_uri": "https://localhost:8080/"
        },
        "id": "RGDeNbYK9cAC",
        "outputId": "dca25176-7331-44b3-e6c2-9f9af43d0fb2"
      },
      "outputs": [
        {
          "data": {
            "text/plain": [
              "124.27420000000001"
            ]
          },
          "execution_count": 27,
          "metadata": {},
          "output_type": "execute_result"
        }
      ],
      "source": [
        "c1.return_mileage_in_miles()"
      ]
    },
    {
      "cell_type": "code",
      "execution_count": 28,
      "metadata": {
        "colab": {
          "base_uri": "https://localhost:8080/"
        },
        "id": "lEpRnwUf9cAC",
        "outputId": "da8253f7-1381-4f41-d8d8-82fae51d18d3"
      },
      "outputs": [
        {
          "name": "stdout",
          "output_type": "stream",
          "text": [
            "Black\n",
            "137297313142992\n"
          ]
        }
      ],
      "source": [
        "c1 = c1.paint('Black')\n",
        "print(c1.color)\n",
        "print(id(c1))"
      ]
    },
    {
      "cell_type": "code",
      "execution_count": 29,
      "metadata": {
        "colab": {
          "base_uri": "https://localhost:8080/"
        },
        "id": "WwW3LYEd9cAD",
        "outputId": "8d37093b-78ad-4bd7-968c-e3a9bae8de05"
      },
      "outputs": [
        {
          "name": "stdout",
          "output_type": "stream",
          "text": [
            "red\n"
          ]
        },
        {
          "data": {
            "text/plain": [
              "137297313142992"
            ]
          },
          "execution_count": 29,
          "metadata": {},
          "output_type": "execute_result"
        }
      ],
      "source": [
        "c1 = c1.paint2('red')\n",
        "print(c1.color)\n",
        "id(c1)"
      ]
    },
    {
      "cell_type": "markdown",
      "metadata": {
        "id": "GGsLqMYL9cAD"
      },
      "source": [
        "#### List and string examples"
      ]
    },
    {
      "cell_type": "code",
      "execution_count": 30,
      "metadata": {
        "colab": {
          "base_uri": "https://localhost:8080/"
        },
        "id": "olhPUnPi9cAD",
        "outputId": "37b6a90e-cd94-46f3-f496-c3cc719e2653"
      },
      "outputs": [
        {
          "name": "stdout",
          "output_type": "stream",
          "text": [
            "137296924997040\n",
            "137297313255536\n"
          ]
        }
      ],
      "source": [
        "s1 = 'red house'\n",
        "print(id(s1))\n",
        "\n",
        "s1 = s1.replace('red', 'blue')\n",
        "print(id(s1))"
      ]
    },
    {
      "cell_type": "code",
      "execution_count": 31,
      "metadata": {
        "colab": {
          "base_uri": "https://localhost:8080/"
        },
        "id": "CY8CAttr9cAD",
        "outputId": "9174b596-5a15-4e7f-e355-f300f1d05847"
      },
      "outputs": [
        {
          "name": "stdout",
          "output_type": "stream",
          "text": [
            "137297313255872\n"
          ]
        }
      ],
      "source": [
        "l1 = [5,3,6,1]\n",
        "print(id(l1))"
      ]
    },
    {
      "cell_type": "code",
      "execution_count": 32,
      "metadata": {
        "colab": {
          "base_uri": "https://localhost:8080/"
        },
        "id": "87rK-Sif9cAD",
        "outputId": "398c8108-dfdf-4bcc-f0e8-1ae127f18998"
      },
      "outputs": [
        {
          "name": "stdout",
          "output_type": "stream",
          "text": [
            "None\n"
          ]
        }
      ],
      "source": [
        "l2 = l1.sort() # in-place sort # !!!!!\n",
        "print(l2)"
      ]
    },
    {
      "cell_type": "code",
      "execution_count": 33,
      "metadata": {
        "colab": {
          "base_uri": "https://localhost:8080/"
        },
        "id": "UH3I7DWd9cAD",
        "outputId": "8485aea1-3c03-42fc-9c0f-36f33fdd0b1d"
      },
      "outputs": [
        {
          "data": {
            "text/plain": [
              "[1, 3, 5, 6]"
            ]
          },
          "execution_count": 33,
          "metadata": {},
          "output_type": "execute_result"
        }
      ],
      "source": [
        "l1"
      ]
    },
    {
      "cell_type": "code",
      "execution_count": 34,
      "metadata": {
        "colab": {
          "base_uri": "https://localhost:8080/"
        },
        "id": "pTUPdl7x9cAH",
        "outputId": "47078d62-ca38-4f6a-cea0-ed4165f644bb"
      },
      "outputs": [
        {
          "data": {
            "text/plain": [
              "137297313255872"
            ]
          },
          "execution_count": 34,
          "metadata": {},
          "output_type": "execute_result"
        }
      ],
      "source": [
        "id(l1)"
      ]
    },
    {
      "cell_type": "markdown",
      "metadata": {
        "id": "PaoXEIxX9cAI"
      },
      "source": [
        "#### Conclusion\n",
        "\n",
        "We have learned :\n",
        "\n",
        "- Class creation\n",
        "- Inheritance\n",
        "- Everything in python is a class\n",
        "- More on methods"
      ]
    }
  ],
  "metadata": {
    "colab": {
      "include_colab_link": true,
      "provenance": []
    },
    "kernelspec": {
      "display_name": "test_env_2",
      "language": "python",
      "name": "python3"
    },
    "language_info": {
      "codemirror_mode": {
        "name": "ipython",
        "version": 3
      },
      "file_extension": ".py",
      "mimetype": "text/x-python",
      "name": "python",
      "nbconvert_exporter": "python",
      "pygments_lexer": "ipython3",
      "version": "3.11.3"
    },
    "orig_nbformat": 4
  },
  "nbformat": 4,
  "nbformat_minor": 0
}
