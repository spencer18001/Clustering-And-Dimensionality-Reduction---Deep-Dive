{
  "cells": [
    {
      "cell_type": "markdown",
      "metadata": {
        "colab_type": "text",
        "id": "view-in-github"
      },
      "source": [
        "<a href=\"https://colab.research.google.com/github/spencer18001/Clustering-And-Dimensionality-Reduction---Deep-Dive/blob/main/02/0213.ipynb\" target=\"_parent\"><img src=\"https://colab.research.google.com/assets/colab-badge.svg\" alt=\"Open In Colab\"/></a>"
      ]
    },
    {
      "cell_type": "markdown",
      "metadata": {
        "id": "vUy6iBLg0Xef"
      },
      "source": [
        "## Unpacking iterable data types\n",
        "\n",
        "### Lecture agenda\n",
        "\n",
        "- Basic unpacking\n",
        "- Unpacking with *\n",
        "- Unpacking with **\n",
        "\n",
        "### Definitions\n",
        "\n",
        "- Unpacking is a way to assign values from a list (or other iterable) to multiple variables at once. It's called \"unpacking\" because you can think of the list as a packed suitcase, and you're taking out (or \"unpacking\") the items and assigning them to variables."
      ]
    },
    {
      "cell_type": "markdown",
      "metadata": {
        "id": "5YtoG9380Xei"
      },
      "source": [
        "#### Basic unpacking"
      ]
    },
    {
      "cell_type": "code",
      "execution_count": 1,
      "metadata": {
        "colab": {
          "base_uri": "https://localhost:8080/"
        },
        "id": "6Q1VldGu0Xej",
        "outputId": "9b5ff9b3-a1a4-4a35-9b30-676974f5345b"
      },
      "outputs": [
        {
          "name": "stdout",
          "output_type": "stream",
          "text": [
            "a : 1\n",
            "b : 2\n",
            "c : 3\n"
          ]
        }
      ],
      "source": [
        "# Unpack list\n",
        "l1 = [1, 2, 3]\n",
        "\n",
        "a, b, c = l1\n",
        "\n",
        "print('a : {}'.format(a))\n",
        "print('b : {}'.format(b))\n",
        "print('c : {}'.format(c))"
      ]
    },
    {
      "cell_type": "code",
      "execution_count": 2,
      "metadata": {
        "colab": {
          "base_uri": "https://localhost:8080/"
        },
        "id": "87W2eyA90Xek",
        "outputId": "3310b4bb-c96c-450e-a6a0-dbd39de75bf2"
      },
      "outputs": [
        {
          "name": "stdout",
          "output_type": "stream",
          "text": [
            "a : 4\n",
            "b : 5\n",
            "c : 6\n"
          ]
        }
      ],
      "source": [
        "# Unpack tuple\n",
        "t1 = (4, 5, 6)\n",
        "a, b, c = t1\n",
        "print('a : {}'.format(a))\n",
        "print('b : {}'.format(b))\n",
        "print('c : {}'.format(c))"
      ]
    },
    {
      "cell_type": "code",
      "execution_count": 3,
      "metadata": {
        "colab": {
          "base_uri": "https://localhost:8080/"
        },
        "id": "xY9P0nll0Xek",
        "outputId": "2ae2b9ca-830c-41af-f06e-c4d395678d2f"
      },
      "outputs": [
        {
          "name": "stdout",
          "output_type": "stream",
          "text": [
            "a : 8\n",
            "b : 9\n",
            "c : 7\n"
          ]
        }
      ],
      "source": [
        "# Unpack set\n",
        "s1 = {9, 7, 8}\n",
        "a, b, c = s1 # !!!!!\n",
        "print('a : {}'.format(a))\n",
        "print('b : {}'.format(b))\n",
        "print('c : {}'.format(c))"
      ]
    },
    {
      "cell_type": "code",
      "execution_count": 4,
      "metadata": {
        "colab": {
          "base_uri": "https://localhost:8080/"
        },
        "id": "CNvHxtI40Xek",
        "outputId": "696e20b7-4aea-4ac4-d058-a0c6e422984a"
      },
      "outputs": [
        {
          "name": "stdout",
          "output_type": "stream",
          "text": [
            "a : k1\n",
            "b : k2\n",
            "c : k3\n"
          ]
        }
      ],
      "source": [
        "# Cant unpack dict the same way\n",
        "d1 = {'k1': 1, 'k2': 2, 'k3': 3}\n",
        "a, b, c = d1 # !!!!!\n",
        "print('a : {}'.format(a))\n",
        "print('b : {}'.format(b))\n",
        "print('c : {}'.format(c))"
      ]
    },
    {
      "cell_type": "code",
      "execution_count": 5,
      "metadata": {
        "colab": {
          "base_uri": "https://localhost:8080/",
          "height": 211
        },
        "id": "6GEnmhxd0Xel",
        "outputId": "3ae10930-0299-4b93-9595-2bb97fce9cd9"
      },
      "outputs": [
        {
          "ename": "ValueError",
          "evalue": "too many values to unpack (expected 3)",
          "output_type": "error",
          "traceback": [
            "\u001b[0;31m---------------------------------------------------------------------------\u001b[0m",
            "\u001b[0;31mValueError\u001b[0m                                Traceback (most recent call last)",
            "\u001b[0;32m<ipython-input-5-eecff96af9f6>\u001b[0m in \u001b[0;36m<cell line: 4>\u001b[0;34m()\u001b[0m\n\u001b[1;32m      2\u001b[0m \u001b[0ml1\u001b[0m \u001b[0;34m=\u001b[0m \u001b[0;34m[\u001b[0m\u001b[0;36m1\u001b[0m\u001b[0;34m,\u001b[0m \u001b[0;36m2\u001b[0m\u001b[0;34m,\u001b[0m \u001b[0;36m3\u001b[0m\u001b[0;34m,\u001b[0m \u001b[0;36m4\u001b[0m\u001b[0;34m]\u001b[0m\u001b[0;34m\u001b[0m\u001b[0;34m\u001b[0m\u001b[0m\n\u001b[1;32m      3\u001b[0m \u001b[0;34m\u001b[0m\u001b[0m\n\u001b[0;32m----> 4\u001b[0;31m \u001b[0ma\u001b[0m\u001b[0;34m,\u001b[0m \u001b[0mb\u001b[0m\u001b[0;34m,\u001b[0m \u001b[0mc\u001b[0m \u001b[0;34m=\u001b[0m \u001b[0ml1\u001b[0m\u001b[0;34m\u001b[0m\u001b[0;34m\u001b[0m\u001b[0m\n\u001b[0m\u001b[1;32m      5\u001b[0m \u001b[0;34m\u001b[0m\u001b[0m\n\u001b[1;32m      6\u001b[0m \u001b[0mprint\u001b[0m\u001b[0;34m(\u001b[0m\u001b[0;34m'a : {}'\u001b[0m\u001b[0;34m.\u001b[0m\u001b[0mformat\u001b[0m\u001b[0;34m(\u001b[0m\u001b[0ma\u001b[0m\u001b[0;34m)\u001b[0m\u001b[0;34m)\u001b[0m\u001b[0;34m\u001b[0m\u001b[0;34m\u001b[0m\u001b[0m\n",
            "\u001b[0;31mValueError\u001b[0m: too many values to unpack (expected 3)"
          ]
        }
      ],
      "source": [
        "# Unpack list\n",
        "l1 = [1, 2, 3, 4]\n",
        "\n",
        "a, b, c = l1\n",
        "\n",
        "print('a : {}'.format(a))\n",
        "print('b : {}'.format(b))\n",
        "print('c : {}'.format(c))"
      ]
    },
    {
      "cell_type": "markdown",
      "metadata": {
        "id": "bEQ6ftpy0Xem"
      },
      "source": [
        "##### Single star operator"
      ]
    },
    {
      "cell_type": "code",
      "execution_count": 6,
      "metadata": {
        "colab": {
          "base_uri": "https://localhost:8080/"
        },
        "id": "wnLD3MAH0Xem",
        "outputId": "303bc2a1-8ccd-4536-88a2-1455ea673da7"
      },
      "outputs": [
        {
          "name": "stdout",
          "output_type": "stream",
          "text": [
            "a : 1\n",
            "b : 2\n",
            "c : [3, 4, 5, 6, 7]\n"
          ]
        }
      ],
      "source": [
        "# Using star to pick up remaining elements\n",
        "l1 = [1, 2, 3, 4, 5, 6, 7]\n",
        "\n",
        "a, b, *c = l1\n",
        "\n",
        "print('a : {}'.format(a))\n",
        "print('b : {}'.format(b))\n",
        "print('c : {}'.format(c))"
      ]
    },
    {
      "cell_type": "code",
      "execution_count": 7,
      "metadata": {
        "colab": {
          "base_uri": "https://localhost:8080/"
        },
        "id": "sNGPWwIN0Xen",
        "outputId": "4864b8b5-da97-49cd-ea1a-0c0970c9dd2e"
      },
      "outputs": [
        {
          "name": "stdout",
          "output_type": "stream",
          "text": [
            "a : 1\n",
            "b : [2, 3, 4, 5, 6]\n",
            "c : 7\n"
          ]
        }
      ],
      "source": [
        "# Using star to pick up middle elements\n",
        "l1 = [1, 2, 3, 4, 5, 6, 7]\n",
        "\n",
        "a, *b, c = l1 # !!!!!\n",
        "\n",
        "print('a : {}'.format(a))\n",
        "print('b : {}'.format(b))\n",
        "print('c : {}'.format(c))"
      ]
    },
    {
      "cell_type": "code",
      "execution_count": 11,
      "metadata": {
        "colab": {
          "base_uri": "https://localhost:8080/"
        },
        "id": "FbkZnErD1K5b",
        "outputId": "ce23f034-e60e-4198-ea6f-7d02d5aa4678"
      },
      "outputs": [
        {
          "name": "stdout",
          "output_type": "stream",
          "text": [
            "a : 1\n",
            "b : 7\n"
          ]
        }
      ],
      "source": [
        "l1 = [1, 2, 3, 4, 5, 6, 7]\n",
        "\n",
        "a, *_, b = l1 # !!!!!\n",
        "\n",
        "print('a : {}'.format(a))\n",
        "print('b : {}'.format(b))"
      ]
    },
    {
      "cell_type": "code",
      "execution_count": 8,
      "metadata": {
        "colab": {
          "base_uri": "https://localhost:8080/",
          "height": 106
        },
        "id": "NSiEZfeT0Xen",
        "outputId": "04c2a065-6e06-4e19-e0b5-091e7a3a3ec0"
      },
      "outputs": [
        {
          "ename": "SyntaxError",
          "evalue": "multiple starred expressions in assignment (<ipython-input-8-b906350c1efc>, line 4)",
          "output_type": "error",
          "traceback": [
            "\u001b[0;36m  File \u001b[0;32m\"<ipython-input-8-b906350c1efc>\"\u001b[0;36m, line \u001b[0;32m4\u001b[0m\n\u001b[0;31m    a, *b, *c = l1\u001b[0m\n\u001b[0m    ^\u001b[0m\n\u001b[0;31mSyntaxError\u001b[0m\u001b[0;31m:\u001b[0m multiple starred expressions in assignment\n"
          ]
        }
      ],
      "source": [
        "# Two stars cant be used\n",
        "l1 = [1, 2, 3, 4, 5, 6, 7]\n",
        "\n",
        "a, *b, *c = l1\n",
        "\n",
        "print('a : {}'.format(a))\n",
        "print('b : {}'.format(b))\n",
        "print('c : {}'.format(c))"
      ]
    },
    {
      "cell_type": "code",
      "execution_count": 12,
      "metadata": {
        "colab": {
          "base_uri": "https://localhost:8080/"
        },
        "id": "vyuOSTWi0Xeo",
        "outputId": "c5c616ad-db16-4d4c-ac61-17e5ae0c904c"
      },
      "outputs": [
        {
          "data": {
            "text/plain": [
              "[1, 2, 3, 4, 5, 6, 7, 'blue', 'orange']"
            ]
          },
          "execution_count": 12,
          "metadata": {},
          "output_type": "execute_result"
        }
      ],
      "source": [
        "# Unpacking lists on the righthand side\n",
        "l2 = ['blue', 'orange']\n",
        "l3 = [*l1, *l2] # !!!!!\n",
        "l3"
      ]
    },
    {
      "cell_type": "markdown",
      "metadata": {
        "id": "07RTRUs30Xeo"
      },
      "source": [
        "##### Double star operator"
      ]
    },
    {
      "cell_type": "code",
      "execution_count": 13,
      "metadata": {
        "colab": {
          "base_uri": "https://localhost:8080/"
        },
        "id": "BA0rLS1p0Xeo",
        "outputId": "ae6ea57c-fc62-4662-b103-5f4863e3d164"
      },
      "outputs": [
        {
          "data": {
            "text/plain": [
              "{'a': 1, 'x': 2, 'b': 4, 'c': 10}"
            ]
          },
          "execution_count": 13,
          "metadata": {},
          "output_type": "execute_result"
        }
      ],
      "source": [
        "# Unpacking dicts with double star\n",
        "\n",
        "d1 = {\n",
        "    'a': 1,\n",
        "    'x': 2,\n",
        "}\n",
        "d2 = {\n",
        "    'b': 4,\n",
        "    'c': 10\n",
        "}\n",
        "\n",
        "d3 = {**d1, **d2} # !!!!!\n",
        "d3"
      ]
    },
    {
      "cell_type": "code",
      "execution_count": 14,
      "metadata": {
        "colab": {
          "base_uri": "https://localhost:8080/"
        },
        "id": "LjtcRA6N0Xep",
        "outputId": "4179033e-30fa-43ec-d52b-ce5660ba9a6a"
      },
      "outputs": [
        {
          "data": {
            "text/plain": [
              "{'a': 1, 'b': 4, 'c': 10}"
            ]
          },
          "execution_count": 14,
          "metadata": {},
          "output_type": "execute_result"
        }
      ],
      "source": [
        "# Unpacking dicts with double star\n",
        "\n",
        "d1 = {\n",
        "    'a': 1,\n",
        "    'b': 2,\n",
        "}\n",
        "d2 = {\n",
        "    'b': 4,\n",
        "    'c': 10\n",
        "}\n",
        "\n",
        "d3 = {**d1, **d2}\n",
        "d3"
      ]
    },
    {
      "cell_type": "markdown",
      "metadata": {
        "id": "-l7MQA1G0Xep"
      },
      "source": [
        "<br/><br/><br/>\n",
        "\n",
        "### Summary\n",
        "\n",
        "- Iterable datatypes\n",
        "\n",
        "- Basic unpacking\n",
        "  \n",
        "- Unpacking with *\n",
        "\n",
        "- Unpacking with **"
      ]
    }
  ],
  "metadata": {
    "colab": {
      "include_colab_link": true,
      "provenance": []
    },
    "kernelspec": {
      "display_name": "test_env_2",
      "language": "python",
      "name": "python3"
    },
    "language_info": {
      "codemirror_mode": {
        "name": "ipython",
        "version": 3
      },
      "file_extension": ".py",
      "mimetype": "text/x-python",
      "name": "python",
      "nbconvert_exporter": "python",
      "pygments_lexer": "ipython3",
      "version": "3.11.3"
    },
    "orig_nbformat": 4
  },
  "nbformat": 4,
  "nbformat_minor": 0
}
