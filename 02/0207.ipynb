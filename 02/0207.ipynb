{
  "cells": [
    {
      "cell_type": "markdown",
      "metadata": {
        "id": "view-in-github",
        "colab_type": "text"
      },
      "source": [
        "<a href=\"https://colab.research.google.com/github/spencer18001/Clustering-And-Dimensionality-Reduction---Deep-Dive/blob/main/0207.ipynb\" target=\"_parent\"><img src=\"https://colab.research.google.com/assets/colab-badge.svg\" alt=\"Open In Colab\"/></a>"
      ]
    },
    {
      "cell_type": "markdown",
      "metadata": {
        "id": "_YK-8Lc9pbMx"
      },
      "source": [
        "## Lists\n",
        "\n",
        "Agenda:\n",
        "\n",
        "- Creating a list\n",
        "  \n",
        "- Getting list elements\n",
        "- Adding / modifying list elements\n",
        "- Removing list elements\n",
        "- Checking if list contains element\n",
        "- Operations on lists\n",
        "- List summarization functions\n",
        "- Iterating through list"
      ]
    },
    {
      "cell_type": "code",
      "execution_count": null,
      "metadata": {
        "colab": {
          "base_uri": "https://localhost:8080/"
        },
        "id": "ZabFwPLZpbMz",
        "outputId": "0334c543-54c6-403b-d3f4-dc84080fe450"
      },
      "outputs": [
        {
          "name": "stdout",
          "output_type": "stream",
          "text": [
            "[1, 'apple', 2.4, 'apple', True, [2]]\n",
            "<class 'list'>\n"
          ]
        }
      ],
      "source": [
        "# Create a simple list\n",
        "list1 = [1, 'apple', 2.4, 'apple',  True, [2]]\n",
        "print(list1)\n",
        "print(type(list1))"
      ]
    },
    {
      "cell_type": "code",
      "execution_count": null,
      "metadata": {
        "colab": {
          "base_uri": "https://localhost:8080/"
        },
        "id": "vhd4MX-DpbM0",
        "outputId": "56a6bb77-2787-445e-ca99-ca24a2fe80ea"
      },
      "outputs": [
        {
          "name": "stdout",
          "output_type": "stream",
          "text": [
            "[1, 'apple', 2.4, True, [2]]\n",
            "<class 'list'>\n"
          ]
        }
      ],
      "source": [
        "# Create a simple list\n",
        "list2 = list((1, 'apple', 2.4, True, [2])) # !!!!!\n",
        "print(list2)\n",
        "print(type(list2))"
      ]
    },
    {
      "cell_type": "code",
      "execution_count": null,
      "metadata": {
        "colab": {
          "base_uri": "https://localhost:8080/"
        },
        "id": "5ucBQeYQpbM0",
        "outputId": "168df706-590c-4cd1-9afd-29e71555d4f3"
      },
      "outputs": [
        {
          "name": "stdout",
          "output_type": "stream",
          "text": [
            "1\n"
          ]
        }
      ],
      "source": [
        "# List is ordered\n",
        "print(list1[0])"
      ]
    },
    {
      "cell_type": "code",
      "execution_count": null,
      "metadata": {
        "colab": {
          "base_uri": "https://localhost:8080/"
        },
        "id": "4e5EiK-YpbM0",
        "outputId": "c043d589-b5e0-439b-acf4-791c55f4ea03"
      },
      "outputs": [
        {
          "data": {
            "text/plain": [
              "['TOWER', 'apple', 2.4, 'apple', True, [2]]"
            ]
          },
          "execution_count": 4,
          "metadata": {},
          "output_type": "execute_result"
        }
      ],
      "source": [
        "# List is mutable\n",
        "list1[0] = 'TOWER'\n",
        "list1"
      ]
    },
    {
      "cell_type": "markdown",
      "metadata": {
        "id": "DHgP2ObopbM0"
      },
      "source": [
        "#### Getting list elements"
      ]
    },
    {
      "cell_type": "code",
      "execution_count": null,
      "metadata": {
        "colab": {
          "base_uri": "https://localhost:8080/"
        },
        "id": "Xf2cMVTupbM1",
        "outputId": "b99de8a6-e918-4ff6-970c-b75a8cfbfa36"
      },
      "outputs": [
        {
          "data": {
            "text/plain": [
              "[2]"
            ]
          },
          "execution_count": 5,
          "metadata": {},
          "output_type": "execute_result"
        }
      ],
      "source": [
        "# Getting last element of a list\n",
        "list1[-1]"
      ]
    },
    {
      "cell_type": "code",
      "execution_count": null,
      "metadata": {
        "colab": {
          "base_uri": "https://localhost:8080/"
        },
        "id": "k3wgf5d7pbM1",
        "outputId": "1b800d85-2750-4ced-b3fd-ec2411e92ae4"
      },
      "outputs": [
        {
          "data": {
            "text/plain": [
              "['apple', 2.4]"
            ]
          },
          "execution_count": 6,
          "metadata": {},
          "output_type": "execute_result"
        }
      ],
      "source": [
        "# Slicing a list\n",
        "list1[1:3]"
      ]
    },
    {
      "cell_type": "code",
      "execution_count": null,
      "metadata": {
        "colab": {
          "base_uri": "https://localhost:8080/",
          "height": 158
        },
        "id": "u_2vgOI0pbM1",
        "outputId": "57e6c671-32c4-45f5-d23b-1209ceba2cdc"
      },
      "outputs": [
        {
          "ename": "IndexError",
          "evalue": "list index out of range",
          "output_type": "error",
          "traceback": [
            "\u001b[0;31m---------------------------------------------------------------------------\u001b[0m",
            "\u001b[0;31mIndexError\u001b[0m                                Traceback (most recent call last)",
            "\u001b[0;32m<ipython-input-7-38a0f858b01f>\u001b[0m in \u001b[0;36m<cell line: 2>\u001b[0;34m()\u001b[0m\n\u001b[1;32m      1\u001b[0m \u001b[0;31m# Getting non existant list element\u001b[0m\u001b[0;34m\u001b[0m\u001b[0;34m\u001b[0m\u001b[0m\n\u001b[0;32m----> 2\u001b[0;31m \u001b[0mlist1\u001b[0m\u001b[0;34m[\u001b[0m\u001b[0;36m20\u001b[0m\u001b[0;34m]\u001b[0m\u001b[0;34m\u001b[0m\u001b[0;34m\u001b[0m\u001b[0m\n\u001b[0m",
            "\u001b[0;31mIndexError\u001b[0m: list index out of range"
          ]
        }
      ],
      "source": [
        "# Getting non existant list element\n",
        "list1[20]"
      ]
    },
    {
      "cell_type": "code",
      "execution_count": null,
      "metadata": {
        "colab": {
          "base_uri": "https://localhost:8080/"
        },
        "id": "fhaknsQvpbM1",
        "outputId": "8fc51575-f32f-44b5-b328-b433bf2611e7"
      },
      "outputs": [
        {
          "data": {
            "text/plain": [
              "1"
            ]
          },
          "execution_count": 8,
          "metadata": {},
          "output_type": "execute_result"
        }
      ],
      "source": [
        "# Find element index\n",
        "list1.index('apple') # !!!!!"
      ]
    },
    {
      "cell_type": "code",
      "execution_count": null,
      "metadata": {
        "colab": {
          "base_uri": "https://localhost:8080/"
        },
        "id": "mTRbp-v_pbM1",
        "outputId": "2d0c740b-6013-4b83-88fd-7e1d58e2d7cc"
      },
      "outputs": [
        {
          "data": {
            "text/plain": [
              "6"
            ]
          },
          "execution_count": 9,
          "metadata": {},
          "output_type": "execute_result"
        }
      ],
      "source": [
        "# List length\n",
        "len(list1)"
      ]
    },
    {
      "cell_type": "markdown",
      "metadata": {
        "id": "_7_k4I9CpbM2"
      },
      "source": [
        "#### Adding / modifying list elements"
      ]
    },
    {
      "cell_type": "code",
      "execution_count": null,
      "metadata": {
        "colab": {
          "base_uri": "https://localhost:8080/"
        },
        "id": "SgRDGgF-pbM2",
        "outputId": "14f80262-c659-41b1-fc6f-38d3d0e27e3f"
      },
      "outputs": [
        {
          "data": {
            "text/plain": [
              "['TOWER', 'apple', 2.4, 'apple', True, [2]]"
            ]
          },
          "execution_count": 10,
          "metadata": {},
          "output_type": "execute_result"
        }
      ],
      "source": [
        "list1"
      ]
    },
    {
      "cell_type": "code",
      "execution_count": null,
      "metadata": {
        "colab": {
          "base_uri": "https://localhost:8080/"
        },
        "id": "FyixulU3pbM2",
        "outputId": "3528d44a-913d-4b3b-98b0-4295ced069ea"
      },
      "outputs": [
        {
          "data": {
            "text/plain": [
              "['TOWER', 'apple', 2.4, 'TOWER', True, [2]]"
            ]
          },
          "execution_count": 11,
          "metadata": {},
          "output_type": "execute_result"
        }
      ],
      "source": [
        "# Setting element by index\n",
        "list1[3] = 'TOWER'\n",
        "list1"
      ]
    },
    {
      "cell_type": "code",
      "execution_count": null,
      "metadata": {
        "colab": {
          "base_uri": "https://localhost:8080/"
        },
        "id": "cBjdkEe-pbM2",
        "outputId": "1d2c8d16-6374-4aef-c3ac-4745fcbb0db0"
      },
      "outputs": [
        {
          "data": {
            "text/plain": [
              "[False, False, 2.4, 'TOWER', True, [2]]"
            ]
          },
          "execution_count": 12,
          "metadata": {},
          "output_type": "execute_result"
        }
      ],
      "source": [
        "list1[0:2] = [False, False]\n",
        "list1"
      ]
    },
    {
      "cell_type": "code",
      "execution_count": null,
      "metadata": {
        "colab": {
          "base_uri": "https://localhost:8080/"
        },
        "id": "s-f5fFeEpbM2",
        "outputId": "4dd79280-cda9-4175-d8c5-af9d3b899c1a"
      },
      "outputs": [
        {
          "data": {
            "text/plain": [
              "[False, False, 2.4, 'TOWER', True, [2], 'dragonfruit']"
            ]
          },
          "execution_count": 13,
          "metadata": {},
          "output_type": "execute_result"
        }
      ],
      "source": [
        "# Add element to the end of the list\n",
        "list1.append(\"dragonfruit\")\n",
        "list1"
      ]
    },
    {
      "cell_type": "code",
      "execution_count": null,
      "metadata": {
        "colab": {
          "base_uri": "https://localhost:8080/"
        },
        "id": "VK745-_IpbM2",
        "outputId": "8d009a99-6269-4045-d1c6-d8d7abc78eca"
      },
      "outputs": [
        {
          "data": {
            "text/plain": [
              "[False, 'mango', False, 2.4, 'TOWER', True, [2], 'dragonfruit']"
            ]
          },
          "execution_count": 14,
          "metadata": {},
          "output_type": "execute_result"
        }
      ],
      "source": [
        "# Add element to the index position 1\n",
        "list1.insert(1, \"mango\") # !!!!!\n",
        "list1"
      ]
    },
    {
      "cell_type": "code",
      "execution_count": null,
      "metadata": {
        "colab": {
          "base_uri": "https://localhost:8080/"
        },
        "id": "cyvkyh9ppbM3",
        "outputId": "c53e7fad-9db1-400f-d7c7-df76dd27ab66"
      },
      "outputs": [
        {
          "data": {
            "text/plain": [
              "[False, 'mango', False, 2.4, 'TOWER', True, [2, 'new!'], 'dragonfruit']"
            ]
          },
          "execution_count": 15,
          "metadata": {},
          "output_type": "execute_result"
        }
      ],
      "source": [
        "# Modify list elements\n",
        "list1[-2].append('new!')\n",
        "list1"
      ]
    },
    {
      "cell_type": "markdown",
      "metadata": {
        "id": "Bkzr_2DwpbM3"
      },
      "source": [
        "#### Removing list elements"
      ]
    },
    {
      "cell_type": "code",
      "execution_count": null,
      "metadata": {
        "colab": {
          "base_uri": "https://localhost:8080/"
        },
        "id": "jmi6mh9vpbM3",
        "outputId": "05301194-d26f-42d5-e168-96d643975e9c"
      },
      "outputs": [
        {
          "data": {
            "text/plain": [
              "[False, False, 2.4, 'TOWER', True, [2, 'new!'], 'dragonfruit']"
            ]
          },
          "execution_count": 16,
          "metadata": {},
          "output_type": "execute_result"
        }
      ],
      "source": [
        "# Remove certain element\n",
        "list1.remove(\"mango\") # !!!!!\n",
        "list1"
      ]
    },
    {
      "cell_type": "code",
      "execution_count": null,
      "metadata": {
        "colab": {
          "base_uri": "https://localhost:8080/"
        },
        "id": "sqG_WlJtpbM3",
        "outputId": "628b28f1-f420-4b74-8cc1-dc4610050a51"
      },
      "outputs": [
        {
          "name": "stdout",
          "output_type": "stream",
          "text": [
            "[False, False, 2.4, 'TOWER', True, [2, 'new!']]\n",
            "Poped : dragonfruit\n"
          ]
        }
      ],
      "source": [
        "# Remove last element\n",
        "pop_el = list1.pop() # !!!!!\n",
        "print(list1)\n",
        "print('Poped : {}'.format(pop_el))"
      ]
    },
    {
      "cell_type": "code",
      "execution_count": null,
      "metadata": {
        "colab": {
          "base_uri": "https://localhost:8080/"
        },
        "id": "7sLwWqf3pbM3",
        "outputId": "f0149d45-2785-4eae-de93-653ed339d5a9"
      },
      "outputs": [
        {
          "name": "stdout",
          "output_type": "stream",
          "text": [
            "[False, False, 'TOWER', True, [2, 'new!']]\n",
            "Poped el 2.4\n"
          ]
        }
      ],
      "source": [
        "# Pop element with index 2\n",
        "pop_el = list1.pop(2) # !!!!!\n",
        "print(list1)\n",
        "print('Poped el {}'.format(pop_el))"
      ]
    },
    {
      "cell_type": "code",
      "execution_count": null,
      "metadata": {
        "colab": {
          "base_uri": "https://localhost:8080/",
          "height": 176
        },
        "id": "OxIRgVakpbM3",
        "outputId": "17540e26-ad47-41d8-e97b-6540728a8b3e"
      },
      "outputs": [
        {
          "ename": "ValueError",
          "evalue": "list.remove(x): x not in list",
          "output_type": "error",
          "traceback": [
            "\u001b[0;31m---------------------------------------------------------------------------\u001b[0m",
            "\u001b[0;31mValueError\u001b[0m                                Traceback (most recent call last)",
            "\u001b[0;32m<ipython-input-19-e2166d1af546>\u001b[0m in \u001b[0;36m<cell line: 2>\u001b[0;34m()\u001b[0m\n\u001b[1;32m      1\u001b[0m \u001b[0;31m# Attempt removing non-existant element\u001b[0m\u001b[0;34m\u001b[0m\u001b[0;34m\u001b[0m\u001b[0m\n\u001b[0;32m----> 2\u001b[0;31m \u001b[0mlist1\u001b[0m\u001b[0;34m.\u001b[0m\u001b[0mremove\u001b[0m\u001b[0;34m(\u001b[0m\u001b[0;34m\"mango\"\u001b[0m\u001b[0;34m)\u001b[0m\u001b[0;34m\u001b[0m\u001b[0;34m\u001b[0m\u001b[0m\n\u001b[0m\u001b[1;32m      3\u001b[0m \u001b[0mlist1\u001b[0m\u001b[0;34m\u001b[0m\u001b[0;34m\u001b[0m\u001b[0m\n",
            "\u001b[0;31mValueError\u001b[0m: list.remove(x): x not in list"
          ]
        }
      ],
      "source": [
        "# Attempt removing non-existant element\n",
        "list1.remove(\"mango\")\n",
        "list1"
      ]
    },
    {
      "cell_type": "code",
      "execution_count": null,
      "metadata": {
        "colab": {
          "base_uri": "https://localhost:8080/"
        },
        "id": "3OPBxREjpbM3",
        "outputId": "e397eb62-a027-4ef1-94e8-6b0ef428d722"
      },
      "outputs": [
        {
          "data": {
            "text/plain": [
              "[False, 'TOWER', True, [2, 'new!']]"
            ]
          },
          "execution_count": 20,
          "metadata": {},
          "output_type": "execute_result"
        }
      ],
      "source": [
        "del list1[1] # !!!!!\n",
        "list1"
      ]
    },
    {
      "cell_type": "markdown",
      "metadata": {
        "id": "Y6MJph--pbM3"
      },
      "source": [
        "#### Checking if list contains element"
      ]
    },
    {
      "cell_type": "code",
      "execution_count": null,
      "metadata": {
        "id": "1AcYG0grpbM4"
      },
      "outputs": [],
      "source": [
        "# Checking if element is in the list\n",
        "if \"car\" in list1: # !!!!!\n",
        "    print(\"Car is in the list.\")"
      ]
    },
    {
      "cell_type": "markdown",
      "metadata": {
        "id": "D7epxpxapbM4"
      },
      "source": [
        "#### Operations on lists"
      ]
    },
    {
      "cell_type": "code",
      "execution_count": null,
      "metadata": {
        "colab": {
          "base_uri": "https://localhost:8080/"
        },
        "id": "OqNsz8KxpbM4",
        "outputId": "06de7706-031a-4334-b000-3f49ea4d03f5"
      },
      "outputs": [
        {
          "data": {
            "text/plain": [
              "[1, 2, 'a', True, False]"
            ]
          },
          "execution_count": 22,
          "metadata": {},
          "output_type": "execute_result"
        }
      ],
      "source": [
        "# Concatenating lists\n",
        "l1 = [1,2,'a']\n",
        "l2 = [True, False]\n",
        "\n",
        "l3 = l1 + l2\n",
        "l3"
      ]
    },
    {
      "cell_type": "code",
      "execution_count": null,
      "metadata": {
        "colab": {
          "base_uri": "https://localhost:8080/"
        },
        "id": "CrQg0fqEpbM4",
        "outputId": "eef5b35b-2603-4800-bfa5-2d31490c2f2b"
      },
      "outputs": [
        {
          "data": {
            "text/plain": [
              "[1, 2, 'a', 1, 2, 'a', 1, 2, 'a']"
            ]
          },
          "execution_count": 23,
          "metadata": {},
          "output_type": "execute_result"
        }
      ],
      "source": [
        "# \"Repeating lists\"\n",
        "l1 = [1,2,'a']\n",
        "l1*3"
      ]
    },
    {
      "cell_type": "code",
      "execution_count": null,
      "metadata": {
        "colab": {
          "base_uri": "https://localhost:8080/"
        },
        "id": "dJf_rH99pbM4",
        "outputId": "007f1f7f-d105-40fa-dd43-e43ef53e715f"
      },
      "outputs": [
        {
          "data": {
            "text/plain": [
              "True"
            ]
          },
          "execution_count": 24,
          "metadata": {},
          "output_type": "execute_result"
        }
      ],
      "source": [
        "# Comparing lists\n",
        "l1 = [1,2,3]\n",
        "l2 = [1,2,3]\n",
        "\n",
        "l1 == l2"
      ]
    },
    {
      "cell_type": "code",
      "execution_count": null,
      "metadata": {
        "colab": {
          "base_uri": "https://localhost:8080/"
        },
        "id": "MOwDYVKTpbM4",
        "outputId": "264b6658-2a47-426e-bc8e-930f79c9f305"
      },
      "outputs": [
        {
          "data": {
            "text/plain": [
              "False"
            ]
          },
          "execution_count": 25,
          "metadata": {},
          "output_type": "execute_result"
        }
      ],
      "source": [
        "# Comparing lists\n",
        "l1 = [1,2,3]\n",
        "l2 = [1,3,2]\n",
        "\n",
        "l1 == l2"
      ]
    },
    {
      "cell_type": "markdown",
      "metadata": {
        "id": "6XJgiy6DpbM4"
      },
      "source": [
        "##### List summarization functions"
      ]
    },
    {
      "cell_type": "code",
      "execution_count": null,
      "metadata": {
        "colab": {
          "base_uri": "https://localhost:8080/"
        },
        "id": "B-Tj6FJFpbM5",
        "outputId": "dd342793-bef1-45ea-ce65-6bfd633454a5"
      },
      "outputs": [
        {
          "name": "stdout",
          "output_type": "stream",
          "text": [
            "Sum : 45\n",
            "Maximum : 9\n",
            "Minimum : 0\n"
          ]
        }
      ],
      "source": [
        "# Specialized operations for numbers\n",
        "numbers = [0, 1, 2, 3, 4, 5, 6, 7, 8, 9]\n",
        "\n",
        "print('Sum : {}'.format(sum(numbers))) # !!!!!\n",
        "print('Maximum : {}'.format(max(numbers))) # !!!!!\n",
        "print('Minimum : {}'.format(min(numbers))) # !!!!!"
      ]
    },
    {
      "cell_type": "code",
      "execution_count": null,
      "metadata": {
        "colab": {
          "base_uri": "https://localhost:8080/"
        },
        "id": "Yjwgu1cCpbM5",
        "outputId": "dc759e96-2218-484d-bdf7-66e9bd8b57dd"
      },
      "outputs": [
        {
          "name": "stdout",
          "output_type": "stream",
          "text": [
            "All operator : False\n",
            "Any operator : True\n"
          ]
        }
      ],
      "source": [
        "# Specialied operations for boolean lists\n",
        "bool_list = [True, True, False]\n",
        "\n",
        "print('All operator : {}'.format(all(bool_list))) # !!!!!\n",
        "print('Any operator : {}'.format(any(bool_list))) # !!!!!"
      ]
    },
    {
      "cell_type": "code",
      "source": [
        "list(filter(lambda e: e%2==0, list(range(1,11)))) # !!!!!"
      ],
      "metadata": {
        "id": "5l03NyScBTzj",
        "outputId": "fbf84b4f-44bd-4810-8bed-a4efe05664d0",
        "colab": {
          "base_uri": "https://localhost:8080/"
        }
      },
      "execution_count": 2,
      "outputs": [
        {
          "output_type": "execute_result",
          "data": {
            "text/plain": [
              "[2, 4, 6, 8, 10]"
            ]
          },
          "metadata": {},
          "execution_count": 2
        }
      ]
    },
    {
      "cell_type": "markdown",
      "metadata": {
        "id": "6ZRgQEIWpbM5"
      },
      "source": [
        "##### Iterating through list"
      ]
    },
    {
      "cell_type": "code",
      "execution_count": null,
      "metadata": {
        "colab": {
          "base_uri": "https://localhost:8080/"
        },
        "id": "f3MTZDwSpbM5",
        "outputId": "7111f3f8-d5fb-4157-aeda-92ec4e9761c0"
      },
      "outputs": [
        {
          "name": "stdout",
          "output_type": "stream",
          "text": [
            "bird\n",
            "True\n",
            "4\n",
            "5\n",
            "submarine\n"
          ]
        }
      ],
      "source": [
        "# Simple iteration\n",
        "list2 = ['bird', True, 4, 5, 'submarine']\n",
        "\n",
        "for el in list2: # !!!!!\n",
        "    print(el)"
      ]
    },
    {
      "cell_type": "code",
      "execution_count": null,
      "metadata": {
        "colab": {
          "base_uri": "https://localhost:8080/"
        },
        "id": "i0V6haR_pbM5",
        "outputId": "70438ad8-cd72-4ac6-d1bf-12810718dc68"
      },
      "outputs": [
        {
          "data": {
            "text/plain": [
              "['bird', 'submarine']"
            ]
          },
          "execution_count": 29,
          "metadata": {},
          "output_type": "execute_result"
        }
      ],
      "source": [
        "# Creating new list based on existing list and if statement\n",
        "str_list = []\n",
        "\n",
        "for el in list2:\n",
        "    if isinstance(el, str): # !!!!!\n",
        "        str_list.append(el)\n",
        "str_list"
      ]
    },
    {
      "cell_type": "code",
      "execution_count": null,
      "metadata": {
        "colab": {
          "base_uri": "https://localhost:8080/"
        },
        "id": "wZR-Vq2OpbM5",
        "outputId": "f7c06c88-8784-4b81-b566-c01edcb66fef"
      },
      "outputs": [
        {
          "name": "stdout",
          "output_type": "stream",
          "text": [
            "1\n",
            "a\n",
            "---------\n",
            "2\n",
            "b\n",
            "---------\n",
            "3\n",
            "c\n",
            "---------\n"
          ]
        }
      ],
      "source": [
        "# Iterating through two lists at the same time\n",
        "l1 = [1,2,3]\n",
        "l2 = ['a', 'b', 'c']\n",
        "\n",
        "for el1, el2 in zip(l1,l2): # !!!!!\n",
        "    print(el1)\n",
        "    print(el2)\n",
        "    print('---------')"
      ]
    },
    {
      "cell_type": "code",
      "execution_count": null,
      "metadata": {
        "colab": {
          "base_uri": "https://localhost:8080/"
        },
        "id": "jJ_V9GOIpbNC",
        "outputId": "ac5c5d3e-ee80-4a1c-d31d-d1be0240a191"
      },
      "outputs": [
        {
          "name": "stdout",
          "output_type": "stream",
          "text": [
            "0\n",
            "house\n",
            "---------\n",
            "1\n",
            "frog\n",
            "---------\n",
            "2\n",
            "rabbit\n",
            "---------\n"
          ]
        }
      ],
      "source": [
        "# List enumeration\n",
        "l1 = ['house', 'frog', 'rabbit']\n",
        "\n",
        "for list_i, el in enumerate(l1): # !!!!!\n",
        "    print(list_i)\n",
        "    print(el)\n",
        "    print('---------')"
      ]
    },
    {
      "cell_type": "code",
      "execution_count": null,
      "metadata": {
        "colab": {
          "base_uri": "https://localhost:8080/"
        },
        "id": "zhK9xrEPpbNC",
        "outputId": "7e6d73f1-be69-4762-fca4-f68962a8fff0"
      },
      "outputs": [
        {
          "data": {
            "text/plain": [
              "range(0, 10)"
            ]
          },
          "execution_count": 32,
          "metadata": {},
          "output_type": "execute_result"
        }
      ],
      "source": [
        "rng = range(10)\n",
        "rng"
      ]
    },
    {
      "cell_type": "code",
      "execution_count": null,
      "metadata": {
        "colab": {
          "base_uri": "https://localhost:8080/"
        },
        "id": "7cZm5ZSVpbNC",
        "outputId": "6d613232-3e6a-4060-c9c1-9f2db915f079"
      },
      "outputs": [
        {
          "name": "stdout",
          "output_type": "stream",
          "text": [
            "0\n",
            "house\n",
            "---------\n",
            "1\n",
            "frog\n",
            "---------\n",
            "2\n",
            "rabbit\n",
            "---------\n"
          ]
        }
      ],
      "source": [
        "# Iterating with range\n",
        "\n",
        "l1 = ['house', 'frog', 'rabbit']\n",
        "\n",
        "for i in range(len(l1)):\n",
        "    print(i)\n",
        "    print(l1[i])\n",
        "    print('---------')"
      ]
    },
    {
      "cell_type": "markdown",
      "metadata": {
        "id": "p-HIGl8epbNC"
      },
      "source": [
        "### Summary:\n",
        "\n",
        "We have learned about:\n",
        "\n",
        "- Creating a list\n",
        "  \n",
        "- Getting list elements\n",
        "- Adding / modifying list elements\n",
        "- Removing list elements\n",
        "- Checking if list contains element\n",
        "- Operations on lists\n",
        "- List summarization functions\n",
        "- Iterating through list"
      ]
    }
  ],
  "metadata": {
    "colab": {
      "provenance": [],
      "include_colab_link": true
    },
    "kernelspec": {
      "display_name": "Python 3.7.0 64-bit",
      "language": "python",
      "name": "python3"
    },
    "language_info": {
      "codemirror_mode": {
        "name": "ipython",
        "version": 3
      },
      "file_extension": ".py",
      "mimetype": "text/x-python",
      "name": "python",
      "nbconvert_exporter": "python",
      "pygments_lexer": "ipython3",
      "version": "3.7.0"
    },
    "orig_nbformat": 4,
    "vscode": {
      "interpreter": {
        "hash": "e774977668b7c0ae8309835a5187aa7fbf7669e7d0bb59755bc63e573643edcd"
      }
    }
  },
  "nbformat": 4,
  "nbformat_minor": 0
}