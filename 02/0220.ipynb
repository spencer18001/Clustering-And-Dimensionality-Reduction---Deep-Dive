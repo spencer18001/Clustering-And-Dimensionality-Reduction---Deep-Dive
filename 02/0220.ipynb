{
  "cells": [
    {
      "cell_type": "markdown",
      "metadata": {
        "colab_type": "text",
        "id": "view-in-github"
      },
      "source": [
        "<a href=\"https://colab.research.google.com/github/spencer18001/Clustering-And-Dimensionality-Reduction---Deep-Dive/blob/main/02/0220.ipynb\" target=\"_parent\"><img src=\"https://colab.research.google.com/assets/colab-badge.svg\" alt=\"Open In Colab\"/></a>"
      ]
    },
    {
      "cell_type": "markdown",
      "metadata": {
        "id": "MW5_hOBf_Krd"
      },
      "source": [
        "### Comprehensions\n",
        "\n",
        "Comprehensions in Python are a way of creating new sequences like lists or dictionaries from existing ones in a concise and efficient manner.\n",
        "\n",
        "#### Lecture contents\n",
        "\n",
        "- Problem statement\n",
        "- List comprehensions\n",
        "- Dictionary comprehension"
      ]
    },
    {
      "cell_type": "markdown",
      "metadata": {
        "id": "r4ejYCnK_Krh"
      },
      "source": [
        "#### Problem statement\n",
        "\n",
        "Compute the square of each element in the list."
      ]
    },
    {
      "cell_type": "code",
      "execution_count": 1,
      "metadata": {
        "id": "jcmHIlEi_Kri"
      },
      "outputs": [],
      "source": [
        "l1 = [1, 2, 3, 4, 5]"
      ]
    },
    {
      "cell_type": "code",
      "execution_count": 2,
      "metadata": {
        "colab": {
          "base_uri": "https://localhost:8080/"
        },
        "id": "8tUdsoCC_Krj",
        "outputId": "d36ab2ba-034e-4443-e97e-1b68e9b759c0"
      },
      "outputs": [
        {
          "data": {
            "text/plain": [
              "[1, 4, 9, 16, 25]"
            ]
          },
          "execution_count": 2,
          "metadata": {},
          "output_type": "execute_result"
        }
      ],
      "source": [
        "square_list = []\n",
        "for el in l1:\n",
        "    square_list.append(el**2)\n",
        "square_list"
      ]
    },
    {
      "cell_type": "markdown",
      "metadata": {
        "id": "m0UkGEzn_Krk"
      },
      "source": [
        "Square all elements in the list that are not equal to 3."
      ]
    },
    {
      "cell_type": "code",
      "execution_count": 3,
      "metadata": {
        "colab": {
          "base_uri": "https://localhost:8080/"
        },
        "id": "gaCcEZeS_Krk",
        "outputId": "a2f9f104-7637-496c-912f-a2f73880a660"
      },
      "outputs": [
        {
          "data": {
            "text/plain": [
              "[1, 4, 16, 25]"
            ]
          },
          "execution_count": 3,
          "metadata": {},
          "output_type": "execute_result"
        }
      ],
      "source": [
        "square_list = []\n",
        "for el in l1:\n",
        "    if el != 3:\n",
        "        square_list.append(el**2)\n",
        "square_list"
      ]
    },
    {
      "cell_type": "markdown",
      "metadata": {
        "id": "Y7djH7xc_Krl"
      },
      "source": [
        "##### List comprehension"
      ]
    },
    {
      "cell_type": "code",
      "execution_count": 4,
      "metadata": {
        "colab": {
          "base_uri": "https://localhost:8080/"
        },
        "id": "JixqezKo_Krl",
        "outputId": "2dfd9be1-c08f-49c5-a922-e83a3aa50c92"
      },
      "outputs": [
        {
          "data": {
            "text/plain": [
              "[1, 4, 9, 16, 25]"
            ]
          },
          "execution_count": 4,
          "metadata": {},
          "output_type": "execute_result"
        }
      ],
      "source": [
        "l1 = [1, 2, 3, 4, 5]\n",
        "\n",
        "l2 = [el**2 for el in l1]\n",
        "l2"
      ]
    },
    {
      "cell_type": "code",
      "execution_count": 5,
      "metadata": {
        "colab": {
          "base_uri": "https://localhost:8080/"
        },
        "id": "zwT6C-Hs_Krm",
        "outputId": "330445c4-a521-4dfe-b3e5-954b50b00323"
      },
      "outputs": [
        {
          "data": {
            "text/plain": [
              "[1, 4, 16, 25]"
            ]
          },
          "execution_count": 5,
          "metadata": {},
          "output_type": "execute_result"
        }
      ],
      "source": [
        "l3 = [el**2 for el in l1 if el != 3] # filter # !!!!!\n",
        "l3"
      ]
    },
    {
      "cell_type": "code",
      "execution_count": 7,
      "metadata": {
        "colab": {
          "base_uri": "https://localhost:8080/"
        },
        "id": "fZL4uhEv_Krn",
        "outputId": "4d8ad516-31df-4ce7-fdba-8bc84ceb7c4e"
      },
      "outputs": [
        {
          "data": {
            "text/plain": [
              "[1, 4, 27, 16, 25]"
            ]
          },
          "execution_count": 7,
          "metadata": {},
          "output_type": "execute_result"
        }
      ],
      "source": [
        "l4 = [el**2 if el != 3 else el**3 for el in l1] # ternary operator # !!!!!\n",
        "l4"
      ]
    },
    {
      "cell_type": "code",
      "execution_count": 8,
      "metadata": {
        "colab": {
          "base_uri": "https://localhost:8080/"
        },
        "id": "J59droLE_Krn",
        "outputId": "b6414ed9-f4af-4544-91af-61cc9dadb89c"
      },
      "outputs": [
        {
          "data": {
            "text/plain": [
              "[1, 4, 27, 25]"
            ]
          },
          "execution_count": 8,
          "metadata": {},
          "output_type": "execute_result"
        }
      ],
      "source": [
        "l5 = [el**2 if el != 3 else el**3 for el in l1 if el != 4] # !!!!!\n",
        "l5"
      ]
    },
    {
      "cell_type": "code",
      "execution_count": 9,
      "metadata": {
        "colab": {
          "base_uri": "https://localhost:8080/"
        },
        "id": "QUcdXt5h_Kro",
        "outputId": "413df8fa-664f-4902-ef8d-054b32225dac"
      },
      "outputs": [
        {
          "data": {
            "text/plain": [
              "['a', 'b', 'c']"
            ]
          },
          "execution_count": 9,
          "metadata": {},
          "output_type": "execute_result"
        }
      ],
      "source": [
        "d1 = {\n",
        "    'a': 1,\n",
        "    'b': 2,\n",
        "    'c': 3\n",
        "}\n",
        "\n",
        "l6 = [el for el in d1] # !!!!!\n",
        "l6"
      ]
    },
    {
      "cell_type": "code",
      "execution_count": 10,
      "metadata": {
        "colab": {
          "base_uri": "https://localhost:8080/"
        },
        "id": "8NRgWbg7_Kro",
        "outputId": "07d4c8b1-4b1a-4571-bf41-72198cf34342"
      },
      "outputs": [
        {
          "data": {
            "text/plain": [
              "[1, 2, 3]"
            ]
          },
          "execution_count": 10,
          "metadata": {},
          "output_type": "execute_result"
        }
      ],
      "source": [
        "l6 = [d1[el] for el in d1]\n",
        "l6"
      ]
    },
    {
      "cell_type": "markdown",
      "metadata": {
        "id": "P-l-iw02_Krp"
      },
      "source": [
        "##### Dict comprehension"
      ]
    },
    {
      "cell_type": "code",
      "execution_count": 11,
      "metadata": {
        "colab": {
          "base_uri": "https://localhost:8080/"
        },
        "id": "BBUGqPbR_Krp",
        "outputId": "ee81a1c8-d6f9-42c3-86e9-b22179449020"
      },
      "outputs": [
        {
          "data": {
            "text/plain": [
              "{'apple': 5, 'banana': 6, 'cherry': 6, 'date': 4}"
            ]
          },
          "execution_count": 11,
          "metadata": {},
          "output_type": "execute_result"
        }
      ],
      "source": [
        "words = ['apple', 'banana', 'cherry', 'date']\n",
        "word_lengths = {word: len(word) for word in words} # !!!!!\n",
        "word_lengths"
      ]
    },
    {
      "cell_type": "code",
      "execution_count": 12,
      "metadata": {
        "colab": {
          "base_uri": "https://localhost:8080/"
        },
        "id": "UIGy4zbk_Krq",
        "outputId": "3710ea43-eeaf-4266-d05c-79c1f126046e"
      },
      "outputs": [
        {
          "data": {
            "text/plain": [
              "{'apple': 5, 'banana': 6, 'cherry': 6, 'date': 4}"
            ]
          },
          "execution_count": 12,
          "metadata": {},
          "output_type": "execute_result"
        }
      ],
      "source": [
        "words = ['apple', 'banana', 3, 4, 'cherry', 'date']\n",
        "word_lengths = {word: len(word) for word in words if isinstance(word, str)}\n",
        "word_lengths"
      ]
    },
    {
      "cell_type": "code",
      "execution_count": 13,
      "metadata": {
        "colab": {
          "base_uri": "https://localhost:8080/"
        },
        "id": "uSINASaK_Krq",
        "outputId": "fca20029-7d44-4f7c-a3d6-d1f9daa1a326"
      },
      "outputs": [
        {
          "data": {
            "text/plain": [
              "{'apple': 5, 'banana': 6, 3: None, 4: None, 'cherry': 6, 'date': 4}"
            ]
          },
          "execution_count": 13,
          "metadata": {},
          "output_type": "execute_result"
        }
      ],
      "source": [
        "words = ['apple', 'banana', 3, 4, 'cherry', 'date']\n",
        "word_lengths = {word: len(word) if isinstance(word, str) else None for word in words } # !!!!!\n",
        "word_lengths"
      ]
    },
    {
      "cell_type": "code",
      "execution_count": 14,
      "metadata": {
        "colab": {
          "base_uri": "https://localhost:8080/"
        },
        "id": "dw-0F3Ac_Krq",
        "outputId": "b0edf7f0-8c74-4eac-88bb-2baade132b95"
      },
      "outputs": [
        {
          "data": {
            "text/plain": [
              "{'a': 1, 'b': 4, 'c': 9}"
            ]
          },
          "execution_count": 14,
          "metadata": {},
          "output_type": "execute_result"
        }
      ],
      "source": [
        "d1 = {\n",
        "    'a': 1,\n",
        "    'b': 2,\n",
        "    'c': 3\n",
        "}\n",
        "\n",
        "d2 = {key: d1[key]**2 for key in d1}\n",
        "d2"
      ]
    },
    {
      "cell_type": "code",
      "execution_count": 15,
      "metadata": {
        "colab": {
          "base_uri": "https://localhost:8080/"
        },
        "id": "agKQ52q2_Krr",
        "outputId": "59092ed3-87ee-4cc6-c2ea-7304847a4682"
      },
      "outputs": [
        {
          "data": {
            "text/plain": [
              "{'a': 1, 'b': 4, 'c': 9}"
            ]
          },
          "execution_count": 15,
          "metadata": {},
          "output_type": "execute_result"
        }
      ],
      "source": [
        "d2 = {key: value**2 for key, value in d1.items()} # !!!!!\n",
        "d2"
      ]
    },
    {
      "cell_type": "markdown",
      "metadata": {
        "id": "tIo6FCbb_Krr"
      },
      "source": [
        "</br></br></br></br>\n",
        "\n",
        "### Summary\n",
        "\n",
        "#### We have learned:\n",
        "\n",
        "- What are comprehensions\n",
        "\n",
        "- List comprehensions\n",
        "\n",
        "- Dict comprehensions"
      ]
    }
  ],
  "metadata": {
    "colab": {
      "include_colab_link": true,
      "provenance": []
    },
    "kernelspec": {
      "display_name": "test_env_2",
      "language": "python",
      "name": "python3"
    },
    "language_info": {
      "codemirror_mode": {
        "name": "ipython",
        "version": 3
      },
      "file_extension": ".py",
      "mimetype": "text/x-python",
      "name": "python",
      "nbconvert_exporter": "python",
      "pygments_lexer": "ipython3",
      "version": "3.11.3"
    },
    "orig_nbformat": 4
  },
  "nbformat": 4,
  "nbformat_minor": 0
}
