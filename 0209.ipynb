{
  "cells": [
    {
      "cell_type": "markdown",
      "metadata": {
        "id": "view-in-github",
        "colab_type": "text"
      },
      "source": [
        "<a href=\"https://colab.research.google.com/github/spencer18001/Clustering-And-Dimensionality-Reduction---Deep-Dive/blob/main/0209.ipynb\" target=\"_parent\"><img src=\"https://colab.research.google.com/assets/colab-badge.svg\" alt=\"Open In Colab\"/></a>"
      ]
    },
    {
      "cell_type": "markdown",
      "metadata": {
        "id": "aDMwe38ctpAx"
      },
      "source": [
        "## Dictionaries and None\n",
        "\n",
        "### Dictionaries\n",
        "\n",
        "A dictionary is python datatype that stores data in key-value pairs.\n",
        "- Values can have any datatype.\n",
        "  \n",
        "- Only unumutable datatypes can be used as a keys.\n",
        "- Dictionary keys are unique."
      ]
    },
    {
      "cell_type": "code",
      "execution_count": 1,
      "metadata": {
        "id": "tzOC5FmOtpA0",
        "outputId": "f48cfeca-de4c-40c2-a77e-03249ab24885",
        "colab": {
          "base_uri": "https://localhost:8080/"
        }
      },
      "outputs": [
        {
          "output_type": "stream",
          "name": "stdout",
          "text": [
            "{'a': 1, 'b': 2}\n",
            "<class 'dict'>\n"
          ]
        }
      ],
      "source": [
        "# Create simple dict\n",
        "d1 = {\n",
        "    'a' : 1,\n",
        "    'b' : 2\n",
        "}\n",
        "print(d1)\n",
        "print(type(d1))"
      ]
    },
    {
      "cell_type": "code",
      "execution_count": 2,
      "metadata": {
        "id": "r1sP5Fe2tpA2",
        "outputId": "4ea18ce7-9585-434a-b124-6944a97dcd1b",
        "colab": {
          "base_uri": "https://localhost:8080/"
        }
      },
      "outputs": [
        {
          "output_type": "stream",
          "name": "stdout",
          "text": [
            "{'a': 1, 'b': 2}\n",
            "<class 'dict'>\n"
          ]
        }
      ],
      "source": [
        "# !!!!!\n",
        "# Create simple dict\n",
        "d1 = dict(\n",
        "    a = 1,\n",
        "    b = 2\n",
        ")\n",
        "print(d1)\n",
        "print(type(d1))"
      ]
    },
    {
      "cell_type": "code",
      "execution_count": 3,
      "metadata": {
        "id": "u_HS1-1ptpA2",
        "outputId": "c204d774-63af-417b-89ab-dceed42d3afe",
        "colab": {
          "base_uri": "https://localhost:8080/"
        }
      },
      "outputs": [
        {
          "output_type": "execute_result",
          "data": {
            "text/plain": [
              "1"
            ]
          },
          "metadata": {},
          "execution_count": 3
        }
      ],
      "source": [
        "# Get value\n",
        "d1['a']"
      ]
    },
    {
      "cell_type": "code",
      "execution_count": 4,
      "metadata": {
        "id": "3zIEsB1utpA2",
        "outputId": "e03798d6-f70e-452f-8a44-76d00c3e166a",
        "colab": {
          "base_uri": "https://localhost:8080/",
          "height": 158
        }
      },
      "outputs": [
        {
          "output_type": "error",
          "ename": "KeyError",
          "evalue": "'m'",
          "traceback": [
            "\u001b[0;31m---------------------------------------------------------------------------\u001b[0m",
            "\u001b[0;31mKeyError\u001b[0m                                  Traceback (most recent call last)",
            "\u001b[0;32m<ipython-input-4-a8a45092e118>\u001b[0m in \u001b[0;36m<cell line: 2>\u001b[0;34m()\u001b[0m\n\u001b[1;32m      1\u001b[0m \u001b[0;31m# Non existing key\u001b[0m\u001b[0;34m\u001b[0m\u001b[0;34m\u001b[0m\u001b[0m\n\u001b[0;32m----> 2\u001b[0;31m \u001b[0md1\u001b[0m\u001b[0;34m[\u001b[0m\u001b[0;34m'm'\u001b[0m\u001b[0;34m]\u001b[0m\u001b[0;34m\u001b[0m\u001b[0;34m\u001b[0m\u001b[0m\n\u001b[0m",
            "\u001b[0;31mKeyError\u001b[0m: 'm'"
          ]
        }
      ],
      "source": [
        "# Non existing key\n",
        "d1['m']"
      ]
    },
    {
      "cell_type": "code",
      "execution_count": 5,
      "metadata": {
        "id": "z6PSRk1ltpA3",
        "outputId": "ce2adc17-79fb-4a28-f08d-90b90c4eb81c",
        "colab": {
          "base_uri": "https://localhost:8080/"
        }
      },
      "outputs": [
        {
          "output_type": "execute_result",
          "data": {
            "text/plain": [
              "1"
            ]
          },
          "metadata": {},
          "execution_count": 5
        }
      ],
      "source": [
        "# !!!!!\n",
        "# Get element through get\n",
        "d1.get('a')"
      ]
    },
    {
      "cell_type": "code",
      "execution_count": 6,
      "metadata": {
        "id": "tJE-Oe6utpA3"
      },
      "outputs": [],
      "source": [
        "# !!!!!\n",
        "# Try getting unexisting key\n",
        "d1.get('m')"
      ]
    },
    {
      "cell_type": "code",
      "execution_count": 7,
      "metadata": {
        "id": "RnC28E0ptpA4",
        "outputId": "7373d78c-376b-4f91-bf08-913c1468430f",
        "colab": {
          "base_uri": "https://localhost:8080/",
          "height": 36
        }
      },
      "outputs": [
        {
          "output_type": "execute_result",
          "data": {
            "text/plain": [
              "'Default'"
            ],
            "application/vnd.google.colaboratory.intrinsic+json": {
              "type": "string"
            }
          },
          "metadata": {},
          "execution_count": 7
        }
      ],
      "source": [
        "# !!!!!\n",
        "# Try getting unexisting key with default\n",
        "d1.get('m', 'Default')"
      ]
    },
    {
      "cell_type": "code",
      "execution_count": 8,
      "metadata": {
        "id": "hiB8NwiYtpA5",
        "outputId": "7b3385f7-786d-42a1-9429-9ce51e4fe244",
        "colab": {
          "base_uri": "https://localhost:8080/"
        }
      },
      "outputs": [
        {
          "output_type": "execute_result",
          "data": {
            "text/plain": [
              "{'a': 1, 'b': 2, 'm': True}"
            ]
          },
          "metadata": {},
          "execution_count": 8
        }
      ],
      "source": [
        "# Adding new element\n",
        "d1['m'] = True\n",
        "d1"
      ]
    },
    {
      "cell_type": "code",
      "execution_count": 9,
      "metadata": {
        "id": "Sz4Uk75mtpA5",
        "outputId": "800a49fa-29ef-44de-9741-c1ee58a966e3",
        "colab": {
          "base_uri": "https://localhost:8080/"
        }
      },
      "outputs": [
        {
          "output_type": "execute_result",
          "data": {
            "text/plain": [
              "True"
            ]
          },
          "metadata": {},
          "execution_count": 9
        }
      ],
      "source": [
        "# !!!!!\n",
        "# Removing element with pop\n",
        "d1.pop('m')"
      ]
    },
    {
      "cell_type": "code",
      "execution_count": 10,
      "metadata": {
        "id": "uO4VXNtJtpA5",
        "outputId": "cd4c9012-896f-4c5a-9c1d-46d9a38cec94",
        "colab": {
          "base_uri": "https://localhost:8080/"
        }
      },
      "outputs": [
        {
          "output_type": "execute_result",
          "data": {
            "text/plain": [
              "{'a': 1, 'b': 2}"
            ]
          },
          "metadata": {},
          "execution_count": 10
        }
      ],
      "source": [
        "d1"
      ]
    },
    {
      "cell_type": "code",
      "execution_count": 11,
      "metadata": {
        "id": "X4sh1VowtpA6",
        "outputId": "29c4db1b-b473-4f23-fb02-331dfc330310",
        "colab": {
          "base_uri": "https://localhost:8080/"
        }
      },
      "outputs": [
        {
          "output_type": "execute_result",
          "data": {
            "text/plain": [
              "{'b': 2}"
            ]
          },
          "metadata": {},
          "execution_count": 11
        }
      ],
      "source": [
        "# !!!!!\n",
        "# Removing element with del\n",
        "del d1['a']\n",
        "d1"
      ]
    },
    {
      "cell_type": "markdown",
      "metadata": {
        "id": "py7scY5ptpA6"
      },
      "source": [
        "##### Dict methods"
      ]
    },
    {
      "cell_type": "code",
      "execution_count": 12,
      "metadata": {
        "id": "mKlU1JsEtpA6",
        "outputId": "69917124-e3c3-4f4a-ab09-e2b791afff0e",
        "colab": {
          "base_uri": "https://localhost:8080/"
        }
      },
      "outputs": [
        {
          "output_type": "execute_result",
          "data": {
            "text/plain": [
              "{'b': 2, 'x': [], 'l': 3.2}"
            ]
          },
          "metadata": {},
          "execution_count": 12
        }
      ],
      "source": [
        "# Add new elements to the dict\n",
        "d1['x'] = []\n",
        "d1['l'] = 3.2\n",
        "d1"
      ]
    },
    {
      "cell_type": "code",
      "execution_count": 13,
      "metadata": {
        "id": "kDwA5toEtpA7",
        "outputId": "0de86748-4c41-4a74-e5ae-df7bcb3c32f2",
        "colab": {
          "base_uri": "https://localhost:8080/"
        }
      },
      "outputs": [
        {
          "output_type": "execute_result",
          "data": {
            "text/plain": [
              "dict_keys(['b', 'x', 'l'])"
            ]
          },
          "metadata": {},
          "execution_count": 13
        }
      ],
      "source": [
        "# !!!!!\n",
        "# Get dict keys\n",
        "d1.keys()"
      ]
    },
    {
      "cell_type": "code",
      "execution_count": 14,
      "metadata": {
        "id": "aZZb0cMItpA7",
        "outputId": "ba28f0fc-c538-4869-dd8f-f1f35f54f110",
        "colab": {
          "base_uri": "https://localhost:8080/"
        }
      },
      "outputs": [
        {
          "output_type": "execute_result",
          "data": {
            "text/plain": [
              "['b', 'x', 'l']"
            ]
          },
          "metadata": {},
          "execution_count": 14
        }
      ],
      "source": [
        "# !!!!!\n",
        "# Transform dict keys to the list\n",
        "list(d1.keys())"
      ]
    },
    {
      "cell_type": "code",
      "execution_count": 15,
      "metadata": {
        "id": "_hfV0XO9tpA7",
        "outputId": "5eb68fc1-a80e-4cce-ee20-0c82172d2a9c",
        "colab": {
          "base_uri": "https://localhost:8080/"
        }
      },
      "outputs": [
        {
          "output_type": "execute_result",
          "data": {
            "text/plain": [
              "dict_values([2, [], 3.2])"
            ]
          },
          "metadata": {},
          "execution_count": 15
        }
      ],
      "source": [
        "# !!!!!\n",
        "# Get values\n",
        "d1.values()"
      ]
    },
    {
      "cell_type": "code",
      "execution_count": 16,
      "metadata": {
        "id": "La5fhtrXtpA7",
        "outputId": "98df62ca-701c-4516-b070-793ca0c144b8",
        "colab": {
          "base_uri": "https://localhost:8080/"
        }
      },
      "outputs": [
        {
          "output_type": "execute_result",
          "data": {
            "text/plain": [
              "dict_items([('b', 2), ('x', []), ('l', 3.2)])"
            ]
          },
          "metadata": {},
          "execution_count": 16
        }
      ],
      "source": [
        "# !!!!!\n",
        "# Get key value pairs\n",
        "d1.items()"
      ]
    },
    {
      "cell_type": "code",
      "execution_count": 17,
      "metadata": {
        "id": "9yhr18OhtpA8",
        "outputId": "7020bd13-da6d-4794-dc6a-dfe0044b04dc",
        "colab": {
          "base_uri": "https://localhost:8080/"
        }
      },
      "outputs": [
        {
          "output_type": "execute_result",
          "data": {
            "text/plain": [
              "{'a': 1, 'b': 3, 'c': True}"
            ]
          },
          "metadata": {},
          "execution_count": 17
        }
      ],
      "source": [
        "# Merge dicts\n",
        "\n",
        "d1 = {\n",
        "    'a': 1,\n",
        "    'b': 2\n",
        "}\n",
        "\n",
        "d2 = {\n",
        "    'b':3,\n",
        "    'c':True\n",
        "}\n",
        "\n",
        "d1.update(d2) # !!!!!\n",
        "d1"
      ]
    },
    {
      "cell_type": "code",
      "execution_count": 18,
      "metadata": {
        "id": "WTAe_3_NtpA8",
        "outputId": "08bf4ee5-b597-4c6f-9fb7-8ea56a5bb429",
        "colab": {
          "base_uri": "https://localhost:8080/"
        }
      },
      "outputs": [
        {
          "output_type": "stream",
          "name": "stdout",
          "text": [
            "a\n",
            "1\n",
            "---------\n",
            "b\n",
            "3\n",
            "---------\n",
            "c\n",
            "True\n",
            "---------\n"
          ]
        }
      ],
      "source": [
        "# !!!!!\n",
        "# Iterate dict\n",
        "for key in d1:\n",
        "    print(key)\n",
        "    print(d1[key])\n",
        "    print('---------')"
      ]
    },
    {
      "cell_type": "code",
      "execution_count": 19,
      "metadata": {
        "id": "OyVB_3yDtpA8",
        "outputId": "4567609f-729c-4d0c-8b45-e1fe7d789fd0",
        "colab": {
          "base_uri": "https://localhost:8080/"
        }
      },
      "outputs": [
        {
          "output_type": "execute_result",
          "data": {
            "text/plain": [
              "{'a': {'c': 1, 'd': 2}, 'c': [1, 2, 3], 'd': [[], [], []]}"
            ]
          },
          "metadata": {},
          "execution_count": 19
        }
      ],
      "source": [
        "# Dicts can be nested\n",
        "big_dict = {\n",
        "    'a' : {\n",
        "        'c': 1,\n",
        "        'd': 2\n",
        "    },\n",
        "    'c': [1,2,3],\n",
        "    'd': [[], [], []]\n",
        "}\n",
        "big_dict"
      ]
    },
    {
      "cell_type": "markdown",
      "metadata": {
        "id": "ixaURIxJtpA8"
      },
      "source": [
        "### The \"None\""
      ]
    },
    {
      "cell_type": "code",
      "execution_count": 20,
      "metadata": {
        "id": "vklJcsjZtpA8",
        "outputId": "366c50e4-98c0-4c1e-f1bf-08a6dee46699",
        "colab": {
          "base_uri": "https://localhost:8080/"
        }
      },
      "outputs": [
        {
          "output_type": "stream",
          "name": "stdout",
          "text": [
            "<class 'NoneType'>\n"
          ]
        }
      ],
      "source": [
        "a = None\n",
        "print(type(a))"
      ]
    },
    {
      "cell_type": "code",
      "execution_count": 21,
      "metadata": {
        "id": "MazCcchqtpA9"
      },
      "outputs": [],
      "source": [
        "a"
      ]
    },
    {
      "cell_type": "code",
      "execution_count": 22,
      "metadata": {
        "id": "lJ7l0KQ-tpA9",
        "outputId": "82cfbda2-c555-4045-8f4c-cc3d92c39f6c",
        "colab": {
          "base_uri": "https://localhost:8080/"
        }
      },
      "outputs": [
        {
          "output_type": "stream",
          "name": "stdout",
          "text": [
            "None\n"
          ]
        }
      ],
      "source": [
        "print(a)"
      ]
    },
    {
      "cell_type": "code",
      "execution_count": 23,
      "metadata": {
        "id": "qkRhj2MotpA9",
        "outputId": "b6041ae2-c8ea-4dea-84c8-6fbd5433d142",
        "colab": {
          "base_uri": "https://localhost:8080/"
        }
      },
      "outputs": [
        {
          "output_type": "execute_result",
          "data": {
            "text/plain": [
              "True"
            ]
          },
          "metadata": {},
          "execution_count": 23
        }
      ],
      "source": [
        "a is None"
      ]
    },
    {
      "cell_type": "code",
      "source": [],
      "metadata": {
        "id": "gNWIm7AnuaSr"
      },
      "execution_count": null,
      "outputs": []
    }
  ],
  "metadata": {
    "kernelspec": {
      "display_name": "test_env_2",
      "language": "python",
      "name": "python3"
    },
    "language_info": {
      "codemirror_mode": {
        "name": "ipython",
        "version": 3
      },
      "file_extension": ".py",
      "mimetype": "text/x-python",
      "name": "python",
      "nbconvert_exporter": "python",
      "pygments_lexer": "ipython3",
      "version": "3.11.3"
    },
    "orig_nbformat": 4,
    "colab": {
      "provenance": [],
      "include_colab_link": true
    }
  },
  "nbformat": 4,
  "nbformat_minor": 0
}