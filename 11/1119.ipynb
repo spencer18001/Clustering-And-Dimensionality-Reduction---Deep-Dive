{
 "cells": [
  {
   "cell_type": "markdown",
   "metadata": {},
   "source": [
    "### Louvain clustering on categorical data"
   ]
  },
  {
   "cell_type": "code",
   "execution_count": null,
   "metadata": {},
   "outputs": [],
   "source": [
    "import random\n",
    "\n",
    "import pandas as pd\n",
    "import numpy as np\n",
    "\n",
    "import matplotlib.pyplot as plt\n",
    "from matplotlib.lines import Line2D\n",
    "import seaborn as sns\n",
    "\n",
    "from sklearn.metrics.cluster import adjusted_rand_score\n",
    "from sklearn.neighbors import kneighbors_graph\n",
    "\n",
    "import igraph as ig\n",
    "\n",
    "from ch_11_funcs import (\n",
    "    print_clustering_stats, \n",
    "    display_network_clusters_labels,\n",
    "    plot_clust_stats\n",
    ")\n",
    "\n",
    "sns.set_theme()\n",
    "plt.rcParams[\"figure.figsize\"] = (10,10)\n",
    "random.seed(2)"
   ]
  },
  {
   "cell_type": "markdown",
   "metadata": {},
   "source": [
    "### Load and preprocess the zoo dataset"
   ]
  },
  {
   "cell_type": "markdown",
   "metadata": {},
   "source": [
    "The Zoo Dataset is a comprehensive collection of data about various animals found in zoos worldwide. The dataset is composed of several attributes related to these animals, such as:\n",
    "\n",
    "- `animal_name`: The name of the animal.\n",
    "\n",
    "- `hair`: Indicates if the animal has hair (1 for yes, 0 for no).\n",
    "- `feathers`: Indicates if the animal has feathers (1 for yes, 0 for no).\n",
    "- `eggs`: Indicates if the animal lays eggs (1 for yes, 0 for no).\n",
    "- `milk`: Indicates if the animal produces milk (1 for yes, 0 for no).\n",
    "- `airborne`: Indicates if the animal can fly (1 for yes, 0 for no).\n",
    "- `aquatic`: Indicates if the animal lives in water (1 for yes, 0 for no).\n",
    "- `predator`: Indicates if the animal is a predator (1 for yes, 0 for no).\n",
    "- `toothed`: Indicates if the animal has teeth (1 for yes, 0 for no).\n",
    "- `backbone`: Indicates if the animal has a backbone (1 for yes, 0 for no).\n",
    "- `breathes`: Indicates if the animal breathes air (1 for yes, 0 for no).\n",
    "- `venomous`: Indicates if the animal is venomous (1 for yes, 0 for no).\n",
    "- `fins`: Indicates if the animal has fins (1 for yes, 0 for no).\n",
    "- `legs`: Number of legs the animal has (integer value).\n",
    "- `tail`: Indicates if the animal has a tail (1 for yes, 0 for no).\n",
    "- `domestic`: Indicates if the animal is domesticated (1 for yes, 0 for no).\n",
    "- `catsize`: Indicates if the animal is cat-sized or larger (1 for yes, 0 for no).\n",
    "- `class_type`: Numerical code indicating the animal's taxonomic class.\n",
    "\n",
    "\n",
    "Citation : Forsyth,Richard. (1990). Zoo. UCI Machine Learning Repository. https://doi.org/10.24432/C5R59V."
   ]
  },
  {
   "cell_type": "code",
   "execution_count": null,
   "metadata": {},
   "outputs": [],
   "source": [
    "# Load the data\n",
    "zoo_path = 'data/hierarchical/zoo/zoo.csv'\n",
    "zoo_df = pd.read_csv(zoo_path)\n",
    "\n",
    "# Load class mapping\n",
    "class_mappings = 'data/hierarchical/zoo/class.csv'\n",
    "class_mapper = pd.read_csv(class_mappings)"
   ]
  },
  {
   "cell_type": "code",
   "execution_count": null,
   "metadata": {},
   "outputs": [],
   "source": [
    "zoo_df.head()"
   ]
  },
  {
   "cell_type": "code",
   "execution_count": null,
   "metadata": {},
   "outputs": [],
   "source": [
    "class_mapper"
   ]
  },
  {
   "cell_type": "code",
   "execution_count": null,
   "metadata": {},
   "outputs": [],
   "source": [
    "zoo_df.shape"
   ]
  },
  {
   "cell_type": "code",
   "execution_count": null,
   "metadata": {},
   "outputs": [],
   "source": [
    "zoo_df.isna().sum(axis=0)"
   ]
  },
  {
   "cell_type": "code",
   "execution_count": null,
   "metadata": {},
   "outputs": [],
   "source": [
    "# Check number of unique animals \n",
    "zoo_df['animal_name'].nunique()"
   ]
  },
  {
   "cell_type": "code",
   "execution_count": null,
   "metadata": {},
   "outputs": [],
   "source": [
    "# Drop duplicates since there should be one species per row\n",
    "zoo_df = zoo_df.drop_duplicates('animal_name')\n",
    "zoo_df.shape"
   ]
  },
  {
   "cell_type": "code",
   "execution_count": null,
   "metadata": {},
   "outputs": [],
   "source": [
    "# Map class id to class name\n",
    "class_map_dict = class_mapper.set_index('Class_Number')['Class_Type'].to_dict()\n",
    "zoo_df['class_type'] = zoo_df['class_type'].map(class_map_dict)\n",
    "\n",
    "# Extract class as separate object and drop class from zoo_df\n",
    "animal_class = zoo_df['class_type'] \n",
    "zoo_df = zoo_df.drop(columns=['class_type'])"
   ]
  },
  {
   "cell_type": "code",
   "execution_count": null,
   "metadata": {},
   "outputs": [],
   "source": [
    "# Set animal name as index\n",
    "zoo_df = zoo_df.set_index('animal_name', drop=True)"
   ]
  },
  {
   "cell_type": "code",
   "execution_count": null,
   "metadata": {},
   "outputs": [],
   "source": [
    "_ = zoo_df.hist(figsize=(7,7))\n",
    "plt.tight_layout()"
   ]
  },
  {
   "cell_type": "markdown",
   "metadata": {},
   "source": [
    "### Encode and cluster the data"
   ]
  },
  {
   "cell_type": "code",
   "execution_count": null,
   "metadata": {},
   "outputs": [],
   "source": [
    "N_NEIGHBORS = 10"
   ]
  },
  {
   "cell_type": "code",
   "execution_count": null,
   "metadata": {},
   "outputs": [],
   "source": [
    "# Create KNN graph\n",
    "distance_matrix = kneighbors_graph(zoo_df, n_neighbors=N_NEIGHBORS, mode='distance', metric='hamming')\n",
    "\n",
    "# Eliminate zeros\n",
    "distance_matrix.eliminate_zeros()\n",
    "\n",
    "# Transform distance matrix into adjacency matrix\n",
    "distance_matrix.data = 1.0 - distance_matrix.data\n",
    "adj_matrix = distance_matrix\n",
    "\n",
    "# Create graph from adjacency matrix\n",
    "g = ig.Graph.Weighted_Adjacency(adj_matrix, mode=\"undirected\")"
   ]
  },
  {
   "cell_type": "code",
   "execution_count": null,
   "metadata": {},
   "outputs": [],
   "source": [
    "map_dict = {species_name:species_id for species_id, species_name in enumerate(set(animal_class))}\n",
    "map_dict"
   ]
  },
  {
   "cell_type": "code",
   "execution_count": null,
   "metadata": {},
   "outputs": [],
   "source": [
    "# Colour the nodes\n",
    "collor_palette = ig.ClusterColoringPalette(n=len(map_dict))\n",
    "node_colors = [collor_palette[map_dict[species]] for species in animal_class]\n",
    "g.vs['color'] = node_colors\n",
    "\n",
    "legend_colors = []\n",
    "legend_text = []\n",
    "for species_name, species_id in map_dict.items():\n",
    "    \n",
    "    legend_colors.append(\n",
    "        Line2D([0], [0], color=collor_palette[species_id], lw=4)\n",
    "    )\n",
    "    legend_text.append(str(species_name))"
   ]
  },
  {
   "cell_type": "code",
   "execution_count": null,
   "metadata": {},
   "outputs": [],
   "source": [
    "# Use auto layout\n",
    "lf_layout = g.layout_fruchterman_reingold(weights='weight')\n",
    "\n",
    "_, ax = plt.subplots(figsize=(10,10))\n",
    "ig.plot(\n",
    "    g,\n",
    "    vertex_size=0.2, \n",
    "    edge_width=0.1,\n",
    "    layout=lf_layout,\n",
    "    target=ax\n",
    ")\n",
    "\n",
    "ax.legend(legend_colors, legend_text)\n",
    "\n",
    "plt.show()"
   ]
  },
  {
   "cell_type": "code",
   "execution_count": null,
   "metadata": {},
   "outputs": [],
   "source": [
    "ig_clusters = ig.Graph.community_multilevel(\n",
    "    g, resolution=1,\n",
    "    weights='weight'\n",
    ")\n",
    "\n",
    "print_clustering_stats(\n",
    "    ig_clusters=ig_clusters,\n",
    "    min_cluster_size=0\n",
    ")"
   ]
  },
  {
   "cell_type": "code",
   "execution_count": null,
   "metadata": {},
   "outputs": [],
   "source": [
    "display_network_clusters_labels(\n",
    "    ig_clusters,\n",
    "    vertex_size=0.25, \n",
    "    edge_width=0.05,\n",
    "    layout=lf_layout,\n",
    "    color_edges=True,\n",
    "    min_size=0\n",
    ")"
   ]
  },
  {
   "cell_type": "code",
   "execution_count": null,
   "metadata": {},
   "outputs": [],
   "source": [
    "print('ARI : {}'.format(adjusted_rand_score(ig_clusters.membership, animal_class)))"
   ]
  },
  {
   "cell_type": "code",
   "execution_count": null,
   "metadata": {},
   "outputs": [],
   "source": [
    "plot_clust_stats(\n",
    "    start_res=0.1,\n",
    "    end_res=1.5,\n",
    "    step=0.1,\n",
    "    graph=g,\n",
    "    original_data=zoo_df.to_numpy(),\n",
    "    original_labels=animal_class,\n",
    "    metric='hamming'\n",
    ")"
   ]
  },
  {
   "cell_type": "code",
   "execution_count": null,
   "metadata": {},
   "outputs": [],
   "source": [
    "ig_clusters = ig.Graph.community_multilevel(\n",
    "    g, resolution=0.6,\n",
    "    weights='weight'\n",
    ")\n",
    "\n",
    "display_network_clusters_labels(\n",
    "    ig_clusters,\n",
    "    vertex_size=0.25, \n",
    "    edge_width=0.05,\n",
    "    layout=lf_layout,\n",
    "    color_edges=True,\n",
    "    min_size=0\n",
    ")"
   ]
  },
  {
   "cell_type": "code",
   "execution_count": null,
   "metadata": {},
   "outputs": [],
   "source": [
    "_, ax = plt.subplots(figsize=(10,10))\n",
    "ig.plot(\n",
    "    g,\n",
    "    vertex_size=0.2, \n",
    "    edge_width=0.1,\n",
    "    layout=lf_layout,\n",
    "    target=ax\n",
    ")\n",
    "\n",
    "ax.legend(legend_colors, legend_text)\n",
    "\n",
    "plt.show()"
   ]
  },
  {
   "cell_type": "code",
   "execution_count": null,
   "metadata": {},
   "outputs": [],
   "source": []
  }
 ],
 "metadata": {
  "kernelspec": {
   "display_name": "test_env_2",
   "language": "python",
   "name": "python3"
  },
  "language_info": {
   "codemirror_mode": {
    "name": "ipython",
    "version": 3
   },
   "file_extension": ".py",
   "mimetype": "text/x-python",
   "name": "python",
   "nbconvert_exporter": "python",
   "pygments_lexer": "ipython3",
   "version": "3.11.3"
  },
  "orig_nbformat": 4
 },
 "nbformat": 4,
 "nbformat_minor": 2
}
