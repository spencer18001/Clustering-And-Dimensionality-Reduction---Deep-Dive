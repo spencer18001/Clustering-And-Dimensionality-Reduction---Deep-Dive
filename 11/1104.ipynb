{
 "cells": [
  {
   "cell_type": "code",
   "execution_count": 1,
   "metadata": {},
   "outputs": [],
   "source": [
    "# install cairo : https://www.cairographics.org/download/\n",
    "# pip install pycairo\n",
    "# pip install igraph\n",
    "\n",
    "import pandas as pd\n",
    "import numpy as np\n",
    "\n",
    "import igraph as ig\n",
    "\n",
    "import matplotlib.pyplot as plt"
   ]
  },
  {
   "attachments": {},
   "cell_type": "markdown",
   "metadata": {},
   "source": [
    "## Igraph \n",
    "\n",
    "\n",
    "\n",
    "### Basic concepts"
   ]
  },
  {
   "cell_type": "code",
   "execution_count": 2,
   "metadata": {},
   "outputs": [],
   "source": [
    "# Create graph\n",
    "g = ig.Graph(n=6, edges=[(0, 1), (0, 2), (2,3), (2,4), (3,4), (1,5)])"
   ]
  },
  {
   "cell_type": "code",
   "execution_count": 3,
   "metadata": {},
   "outputs": [
    {
     "name": "stdout",
     "output_type": "stream",
     "text": [
      "IGRAPH U--- 6 6 --\n",
      "+ edges:\n",
      "0--1 0--2 2--3 2--4 3--4 1--5\n"
     ]
    }
   ],
   "source": [
    "# Pring number of nodes and all edges\n",
    "print(g)"
   ]
  },
  {
   "cell_type": "code",
   "execution_count": 4,
   "metadata": {},
   "outputs": [
    {
     "name": "stdout",
     "output_type": "stream",
     "text": [
      "IGRAPH U--- 6 6 -- \n"
     ]
    }
   ],
   "source": [
    "# Print only number of nodes and number od edges\n",
    "ig.summary(g)"
   ]
  },
  {
   "cell_type": "code",
   "execution_count": 5,
   "metadata": {},
   "outputs": [
    {
     "name": "stdout",
     "output_type": "stream",
     "text": [
      "IGRAPH U--- 7 6 --\n",
      "+ edges:\n",
      "0--1 0--2 2--3 2--4 3--4 1--5\n"
     ]
    }
   ],
   "source": [
    "# Add new vertice\n",
    "g.add_vertices(1)\n",
    "print(g)"
   ]
  },
  {
   "cell_type": "code",
   "execution_count": 6,
   "metadata": {},
   "outputs": [
    {
     "name": "stdout",
     "output_type": "stream",
     "text": [
      "IGRAPH U--- 7 10 --\n",
      "+ edges:\n",
      "0 -- 1 2 5 6   2 -- 0 3 4     4 -- 2 3       6 -- 0 1 5\n",
      "1 -- 0 5 6     3 -- 2 4       5 -- 0 1 6\n"
     ]
    }
   ],
   "source": [
    "# Add edges\n",
    "g.add_edges([(0, 6), (0,5), (5,6), (1,6)])\n",
    "print(g)"
   ]
  },
  {
   "cell_type": "code",
   "execution_count": 7,
   "metadata": {},
   "outputs": [
    {
     "data": {
      "text/plain": [
       "False"
      ]
     },
     "execution_count": 7,
     "metadata": {},
     "output_type": "execute_result"
    }
   ],
   "source": [
    "# Check if graph is weighted (if different edges carry different weights)\n",
    "g.is_weighted()"
   ]
  },
  {
   "cell_type": "code",
   "execution_count": 8,
   "metadata": {},
   "outputs": [
    {
     "data": {
      "text/plain": [
       "False"
      ]
     },
     "execution_count": 8,
     "metadata": {},
     "output_type": "execute_result"
    }
   ],
   "source": [
    "# Check if graph is directed\n",
    "g.is_directed()"
   ]
  },
  {
   "cell_type": "code",
   "execution_count": null,
   "metadata": {},
   "outputs": [],
   "source": [
    "g.es"
   ]
  },
  {
   "cell_type": "code",
   "execution_count": null,
   "metadata": {},
   "outputs": [],
   "source": [
    "g.vs"
   ]
  },
  {
   "cell_type": "code",
   "execution_count": 9,
   "metadata": {},
   "outputs": [],
   "source": [
    "# Add names to the graph\n",
    "g.vs[\"name\"] = [\"Harold\", \"Iris\", \"Jack\", \"Karen\", \"Leo\", \"Molly\", \"Mike\"]"
   ]
  },
  {
   "cell_type": "code",
   "execution_count": 10,
   "metadata": {},
   "outputs": [],
   "source": [
    "# g.vs can be used for adding random metadata to vertices\n",
    "g.vs['height'] = [170, 175, 180, 165, 178, 160, 182]\n",
    "g.vs['color'] = [\"red\", \"green\", \"blue\", \"yellow\", \"purple\", \"orange\", \"pink\"]"
   ]
  },
  {
   "cell_type": "code",
   "execution_count": 11,
   "metadata": {},
   "outputs": [
    {
     "data": {
      "image/svg+xml": [
       "<?xml version=\"1.0\" encoding=\"UTF-8\"?>\n",
       "<svg xmlns=\"http://www.w3.org/2000/svg\" xmlns:xlink=\"http://www.w3.org/1999/xlink\" width=\"400pt\" height=\"500pt\" viewBox=\"0 0 400 500\" version=\"1.1\">\n",
       "<defs>\n",
       "<g>\n",
       "<symbol overflow=\"visible\" id=\"glyph0-0\">\n",
       "<path style=\"stroke:none;\" d=\"M 0.453125 0 L 0.453125 -10.042969 L 8.421875 -10.042969 L 8.421875 0 Z M 7.164062 -1.257812 L 7.164062 -8.785156 L 1.710938 -8.785156 L 1.710938 -1.257812 Z M 7.164062 -1.257812 \"/>\n",
       "</symbol>\n",
       "<symbol overflow=\"visible\" id=\"glyph0-1\">\n",
       "<path style=\"stroke:none;\" d=\"M 1.101562 -10.042969 L 2.476562 -10.042969 L 2.476562 -5.890625 L 7.695312 -5.890625 L 7.695312 -10.042969 L 9.070312 -10.042969 L 9.070312 0 L 7.695312 0 L 7.695312 -4.695312 L 2.476562 -4.695312 L 2.476562 0 L 1.101562 0 Z M 1.101562 -10.042969 \"/>\n",
       "</symbol>\n",
       "<symbol overflow=\"visible\" id=\"glyph0-2\">\n",
       "<path style=\"stroke:none;\" d=\"M 1.84375 -1.949219 C 1.84375 -1.59375 1.976562 -1.3125 2.234375 -1.109375 C 2.496094 -0.902344 2.804688 -0.800781 3.15625 -0.800781 C 3.589844 -0.800781 4.011719 -0.898438 4.414062 -1.101562 C 5.097656 -1.433594 5.441406 -1.976562 5.441406 -2.734375 L 5.441406 -3.726562 C 5.289062 -3.628906 5.097656 -3.550781 4.859375 -3.484375 C 4.625 -3.421875 4.390625 -3.375 4.164062 -3.351562 L 3.417969 -3.253906 C 2.972656 -3.195312 2.636719 -3.101562 2.414062 -2.972656 C 2.035156 -2.757812 1.84375 -2.417969 1.84375 -1.949219 Z M 4.828125 -4.4375 C 5.109375 -4.472656 5.296875 -4.589844 5.394531 -4.792969 C 5.449219 -4.902344 5.476562 -5.058594 5.476562 -5.265625 C 5.476562 -5.683594 5.328125 -5.988281 5.027344 -6.175781 C 4.730469 -6.367188 4.300781 -6.460938 3.746094 -6.460938 C 3.101562 -6.460938 2.648438 -6.285156 2.378906 -5.941406 C 2.226562 -5.75 2.128906 -5.464844 2.085938 -5.085938 L 0.9375 -5.085938 C 0.960938 -5.988281 1.253906 -6.617188 1.816406 -6.96875 C 2.378906 -7.320312 3.03125 -7.5 3.773438 -7.5 C 4.632812 -7.5 5.335938 -7.335938 5.871094 -7.007812 C 6.40625 -6.679688 6.671875 -6.167969 6.671875 -5.476562 L 6.671875 -1.257812 C 6.671875 -1.128906 6.699219 -1.027344 6.75 -0.949219 C 6.804688 -0.871094 6.914062 -0.835938 7.082031 -0.835938 C 7.136719 -0.835938 7.199219 -0.835938 7.265625 -0.84375 C 7.335938 -0.851562 7.40625 -0.859375 7.484375 -0.875 L 7.484375 0.0351562 C 7.292969 0.0898438 7.148438 0.125 7.046875 0.136719 C 6.945312 0.148438 6.8125 0.15625 6.636719 0.15625 C 6.214844 0.15625 5.90625 0.0078125 5.714844 -0.292969 C 5.613281 -0.453125 5.542969 -0.679688 5.503906 -0.96875 C 5.253906 -0.640625 4.890625 -0.359375 4.421875 -0.117188 C 3.953125 0.125 3.4375 0.246094 2.871094 0.246094 C 2.191406 0.246094 1.636719 0.0390625 1.207031 -0.371094 C 0.777344 -0.785156 0.5625 -1.300781 0.5625 -1.921875 C 0.5625 -2.601562 0.773438 -3.125 1.195312 -3.5 C 1.621094 -3.875 2.175781 -4.105469 2.863281 -4.191406 Z M 4.828125 -4.4375 \"/>\n",
       "</symbol>\n",
       "<symbol overflow=\"visible\" id=\"glyph0-3\">\n",
       "<path style=\"stroke:none;\" d=\"M 0.9375 -7.320312 L 2.105469 -7.320312 L 2.105469 -6.054688 C 2.203125 -6.300781 2.4375 -6.601562 2.808594 -6.957031 C 3.183594 -7.308594 3.613281 -7.484375 4.101562 -7.484375 C 4.125 -7.484375 4.164062 -7.484375 4.21875 -7.476562 C 4.273438 -7.472656 4.367188 -7.464844 4.5 -7.453125 L 4.5 -6.152344 C 4.425781 -6.164062 4.359375 -6.175781 4.296875 -6.179688 C 4.234375 -6.183594 4.167969 -6.1875 4.09375 -6.1875 C 3.476562 -6.1875 3 -5.988281 2.664062 -5.589844 C 2.332031 -5.191406 2.167969 -4.730469 2.167969 -4.210938 L 2.167969 0 L 0.9375 0 Z M 0.9375 -7.320312 \"/>\n",
       "</symbol>\n",
       "<symbol overflow=\"visible\" id=\"glyph0-4\">\n",
       "<path style=\"stroke:none;\" d=\"M 3.808594 -0.792969 C 4.625 -0.792969 5.183594 -1.101562 5.484375 -1.71875 C 5.789062 -2.335938 5.941406 -3.023438 5.941406 -3.78125 C 5.941406 -4.464844 5.832031 -5.019531 5.613281 -5.449219 C 5.265625 -6.125 4.667969 -6.460938 3.820312 -6.460938 C 3.070312 -6.460938 2.523438 -6.171875 2.179688 -5.597656 C 1.839844 -5.023438 1.667969 -4.332031 1.667969 -3.519531 C 1.667969 -2.742188 1.839844 -2.09375 2.179688 -1.570312 C 2.523438 -1.050781 3.066406 -0.792969 3.808594 -0.792969 Z M 3.855469 -7.53125 C 4.796875 -7.53125 5.597656 -7.21875 6.25 -6.589844 C 6.898438 -5.960938 7.226562 -5.035156 7.226562 -3.8125 C 7.226562 -2.632812 6.9375 -1.660156 6.363281 -0.890625 C 5.789062 -0.117188 4.898438 0.265625 3.691406 0.265625 C 2.683594 0.265625 1.882812 -0.0742188 1.292969 -0.753906 C 0.699219 -1.4375 0.402344 -2.351562 0.402344 -3.5 C 0.402344 -4.730469 0.714844 -5.710938 1.339844 -6.4375 C 1.964844 -7.167969 2.804688 -7.53125 3.855469 -7.53125 Z M 3.855469 -7.53125 \"/>\n",
       "</symbol>\n",
       "<symbol overflow=\"visible\" id=\"glyph0-5\">\n",
       "<path style=\"stroke:none;\" d=\"M 0.9375 -10.042969 L 2.167969 -10.042969 L 2.167969 0 L 0.9375 0 Z M 0.9375 -10.042969 \"/>\n",
       "</symbol>\n",
       "<symbol overflow=\"visible\" id=\"glyph0-6\">\n",
       "<path style=\"stroke:none;\" d=\"M 1.679688 -3.574219 C 1.679688 -2.789062 1.847656 -2.136719 2.179688 -1.605469 C 2.511719 -1.078125 3.046875 -0.8125 3.78125 -0.8125 C 4.351562 -0.8125 4.816406 -1.058594 5.183594 -1.546875 C 5.550781 -2.039062 5.734375 -2.742188 5.734375 -3.65625 C 5.734375 -4.582031 5.546875 -5.265625 5.167969 -5.710938 C 4.789062 -6.15625 4.324219 -6.378906 3.765625 -6.378906 C 3.148438 -6.378906 2.644531 -6.140625 2.257812 -5.667969 C 1.875 -5.195312 1.679688 -4.496094 1.679688 -3.574219 Z M 3.535156 -7.453125 C 4.09375 -7.453125 4.5625 -7.332031 4.941406 -7.09375 C 5.160156 -6.957031 5.410156 -6.71875 5.6875 -6.378906 L 5.6875 -10.078125 L 6.871094 -10.078125 L 6.871094 0 L 5.761719 0 L 5.761719 -1.019531 C 5.476562 -0.566406 5.136719 -0.242188 4.742188 -0.0390625 C 4.351562 0.160156 3.902344 0.257812 3.398438 0.257812 C 2.582031 0.257812 1.875 -0.0820312 1.277344 -0.769531 C 0.679688 -1.453125 0.382812 -2.367188 0.382812 -3.507812 C 0.382812 -4.574219 0.65625 -5.496094 1.199219 -6.277344 C 1.742188 -7.058594 2.523438 -7.453125 3.535156 -7.453125 Z M 3.535156 -7.453125 \"/>\n",
       "</symbol>\n",
       "<symbol overflow=\"visible\" id=\"glyph0-7\">\n",
       "<path style=\"stroke:none;\" d=\"M 1.375 -10.042969 L 2.75 -10.042969 L 2.75 0 L 1.375 0 Z M 1.375 -10.042969 \"/>\n",
       "</symbol>\n",
       "<symbol overflow=\"visible\" id=\"glyph0-8\">\n",
       "<path style=\"stroke:none;\" d=\"M 0.902344 -7.289062 L 2.152344 -7.289062 L 2.152344 0 L 0.902344 0 Z M 0.902344 -10.042969 L 2.152344 -10.042969 L 2.152344 -8.648438 L 0.902344 -8.648438 Z M 0.902344 -10.042969 \"/>\n",
       "</symbol>\n",
       "<symbol overflow=\"visible\" id=\"glyph0-9\">\n",
       "<path style=\"stroke:none;\" d=\"M 1.632812 -2.296875 C 1.671875 -1.886719 1.773438 -1.570312 1.941406 -1.351562 C 2.25 -0.957031 2.789062 -0.757812 3.554688 -0.757812 C 4.011719 -0.757812 4.410156 -0.859375 4.757812 -1.054688 C 5.105469 -1.253906 5.277344 -1.5625 5.277344 -1.976562 C 5.277344 -2.289062 5.136719 -2.53125 4.859375 -2.695312 C 4.683594 -2.792969 4.332031 -2.910156 3.808594 -3.042969 L 2.828125 -3.289062 C 2.203125 -3.445312 1.746094 -3.617188 1.449219 -3.808594 C 0.921875 -4.140625 0.65625 -4.601562 0.65625 -5.1875 C 0.65625 -5.882812 0.90625 -6.441406 1.40625 -6.871094 C 1.90625 -7.296875 2.574219 -7.511719 3.417969 -7.511719 C 4.519531 -7.511719 5.316406 -7.1875 5.804688 -6.542969 C 6.109375 -6.132812 6.257812 -5.691406 6.25 -5.214844 L 5.085938 -5.214844 C 5.0625 -5.492188 4.964844 -5.746094 4.792969 -5.976562 C 4.507812 -6.296875 4.019531 -6.460938 3.320312 -6.460938 C 2.855469 -6.460938 2.503906 -6.371094 2.265625 -6.195312 C 2.027344 -6.015625 1.90625 -5.78125 1.90625 -5.488281 C 1.90625 -5.171875 2.0625 -4.914062 2.378906 -4.722656 C 2.5625 -4.609375 2.828125 -4.507812 3.1875 -4.421875 L 4 -4.226562 C 4.882812 -4.011719 5.476562 -3.804688 5.777344 -3.601562 C 6.253906 -3.289062 6.492188 -2.792969 6.492188 -2.117188 C 6.492188 -1.46875 6.246094 -0.90625 5.753906 -0.429688 C 5.257812 0.0429688 4.503906 0.28125 3.492188 0.28125 C 2.402344 0.28125 1.632812 0.03125 1.179688 -0.460938 C 0.726562 -0.957031 0.484375 -1.566406 0.453125 -2.296875 Z M 1.632812 -2.296875 \"/>\n",
       "</symbol>\n",
       "<symbol overflow=\"visible\" id=\"glyph0-10\">\n",
       "<path style=\"stroke:none;\" d=\"M 5.996094 -2.992188 C 5.996094 -2.144531 5.871094 -1.488281 5.617188 -1.019531 C 5.152344 -0.164062 4.269531 0.265625 2.96875 0.265625 C 2.214844 0.265625 1.570312 0.0625 1.039062 -0.34375 C 0.507812 -0.753906 0.238281 -1.480469 0.238281 -2.523438 L 0.238281 -3.242188 L 1.515625 -3.242188 L 1.515625 -2.523438 C 1.515625 -1.976562 1.640625 -1.5625 1.882812 -1.289062 C 2.125 -1.011719 2.507812 -0.875 3.023438 -0.875 C 3.746094 -0.875 4.21875 -1.125 4.445312 -1.621094 C 4.582031 -1.925781 4.648438 -2.5 4.648438 -3.351562 L 4.648438 -10.042969 L 5.996094 -10.042969 Z M 5.996094 -2.992188 \"/>\n",
       "</symbol>\n",
       "<symbol overflow=\"visible\" id=\"glyph0-11\">\n",
       "<path style=\"stroke:none;\" d=\"M 3.726562 -7.53125 C 4.550781 -7.53125 5.222656 -7.332031 5.738281 -6.929688 C 6.257812 -6.53125 6.566406 -5.839844 6.671875 -4.859375 L 5.476562 -4.859375 C 5.402344 -5.3125 5.234375 -5.6875 4.976562 -5.984375 C 4.71875 -6.28125 4.300781 -6.433594 3.726562 -6.433594 C 2.941406 -6.433594 2.382812 -6.050781 2.042969 -5.285156 C 1.824219 -4.789062 1.714844 -4.175781 1.714844 -3.445312 C 1.714844 -2.710938 1.871094 -2.09375 2.179688 -1.59375 C 2.492188 -1.09375 2.976562 -0.839844 3.644531 -0.839844 C 4.15625 -0.839844 4.558594 -0.996094 4.855469 -1.308594 C 5.15625 -1.621094 5.363281 -2.046875 5.476562 -2.589844 L 6.671875 -2.589844 C 6.535156 -1.621094 6.195312 -0.910156 5.648438 -0.460938 C 5.101562 -0.0117188 4.398438 0.210938 3.546875 0.210938 C 2.589844 0.210938 1.828125 -0.136719 1.257812 -0.835938 C 0.6875 -1.535156 0.402344 -2.410156 0.402344 -3.460938 C 0.402344 -4.746094 0.714844 -5.746094 1.339844 -6.460938 C 1.964844 -7.175781 2.757812 -7.53125 3.726562 -7.53125 Z M 3.726562 -7.53125 \"/>\n",
       "</symbol>\n",
       "<symbol overflow=\"visible\" id=\"glyph0-12\">\n",
       "<path style=\"stroke:none;\" d=\"M 0.875 -10.042969 L 2.058594 -10.042969 L 2.058594 -4.210938 L 5.214844 -7.320312 L 6.789062 -7.320312 L 3.984375 -4.578125 L 6.945312 0 L 5.375 0 L 3.089844 -3.691406 L 2.058594 -2.75 L 2.058594 0 L 0.875 0 Z M 0.875 -10.042969 \"/>\n",
       "</symbol>\n",
       "<symbol overflow=\"visible\" id=\"glyph0-13\">\n",
       "<path style=\"stroke:none;\" d=\"M 1.066406 -10.042969 L 2.390625 -10.042969 L 2.390625 -5.148438 L 7.289062 -10.042969 L 9.167969 -10.042969 L 4.992188 -5.996094 L 9.28125 0 L 7.511719 0 L 4 -5.039062 L 2.390625 -3.5 L 2.390625 0 L 1.066406 0 Z M 1.066406 -10.042969 \"/>\n",
       "</symbol>\n",
       "<symbol overflow=\"visible\" id=\"glyph0-14\">\n",
       "<path style=\"stroke:none;\" d=\"M 3.953125 -7.484375 C 4.472656 -7.484375 4.972656 -7.363281 5.460938 -7.121094 C 5.949219 -6.875 6.320312 -6.558594 6.578125 -6.171875 C 6.824219 -5.804688 6.984375 -5.375 7.070312 -4.882812 C 7.140625 -4.542969 7.179688 -4.007812 7.179688 -3.265625 L 1.8125 -3.265625 C 1.835938 -2.523438 2.007812 -1.929688 2.335938 -1.480469 C 2.664062 -1.03125 3.175781 -0.804688 3.863281 -0.804688 C 4.503906 -0.804688 5.015625 -1.019531 5.398438 -1.441406 C 5.617188 -1.6875 5.773438 -1.972656 5.867188 -2.296875 L 7.074219 -2.296875 C 7.042969 -2.027344 6.9375 -1.726562 6.757812 -1.398438 C 6.578125 -1.066406 6.375 -0.796875 6.152344 -0.585938 C 5.777344 -0.222656 5.316406 0.0234375 4.765625 0.148438 C 4.46875 0.222656 4.132812 0.257812 3.757812 0.257812 C 2.847656 0.257812 2.074219 -0.0703125 1.441406 -0.734375 C 0.808594 -1.398438 0.492188 -2.328125 0.492188 -3.519531 C 0.492188 -4.695312 0.8125 -5.652344 1.449219 -6.382812 C 2.085938 -7.117188 2.921875 -7.484375 3.953125 -7.484375 Z M 5.914062 -4.246094 C 5.863281 -4.777344 5.746094 -5.203125 5.5625 -5.523438 C 5.226562 -6.117188 4.664062 -6.414062 3.875 -6.414062 C 3.3125 -6.414062 2.835938 -6.207031 2.453125 -5.800781 C 2.070312 -5.390625 1.867188 -4.875 1.84375 -4.246094 Z M 5.914062 -4.246094 \"/>\n",
       "</symbol>\n",
       "<symbol overflow=\"visible\" id=\"glyph0-15\">\n",
       "<path style=\"stroke:none;\" d=\"M 0.902344 -7.320312 L 2.070312 -7.320312 L 2.070312 -6.28125 C 2.417969 -6.710938 2.785156 -7.019531 3.171875 -7.203125 C 3.558594 -7.390625 3.988281 -7.484375 4.464844 -7.484375 C 5.503906 -7.484375 6.203125 -7.125 6.570312 -6.398438 C 6.769531 -6 6.871094 -5.433594 6.871094 -4.695312 L 6.871094 0 L 5.617188 0 L 5.617188 -4.613281 C 5.617188 -5.0625 5.554688 -5.421875 5.421875 -5.695312 C 5.203125 -6.148438 4.804688 -6.378906 4.230469 -6.378906 C 3.9375 -6.378906 3.699219 -6.347656 3.515625 -6.289062 C 3.175781 -6.1875 2.878906 -5.988281 2.625 -5.6875 C 2.421875 -5.445312 2.285156 -5.195312 2.226562 -4.9375 C 2.164062 -4.679688 2.132812 -4.3125 2.132812 -3.835938 L 2.132812 0 L 0.902344 0 Z M 0.902344 -7.320312 \"/>\n",
       "</symbol>\n",
       "<symbol overflow=\"visible\" id=\"glyph0-16\">\n",
       "<path style=\"stroke:none;\" d=\"M 1.066406 -10.042969 L 2.425781 -10.042969 L 2.425781 -1.195312 L 7.511719 -1.195312 L 7.511719 0 L 1.066406 0 Z M 1.066406 -10.042969 \"/>\n",
       "</symbol>\n",
       "<symbol overflow=\"visible\" id=\"glyph0-17\">\n",
       "<path style=\"stroke:none;\" d=\"M 1.03125 -10.042969 L 2.980469 -10.042969 L 5.867188 -1.550781 L 8.730469 -10.042969 L 10.65625 -10.042969 L 10.65625 0 L 9.367188 0 L 9.367188 -5.925781 C 9.367188 -6.132812 9.371094 -6.472656 9.378906 -6.945312 C 9.386719 -7.417969 9.390625 -7.925781 9.390625 -8.46875 L 6.527344 0 L 5.179688 0 L 2.296875 -8.46875 L 2.296875 -8.164062 C 2.296875 -7.917969 2.300781 -7.542969 2.3125 -7.039062 C 2.324219 -6.535156 2.332031 -6.164062 2.332031 -5.925781 L 2.332031 0 L 1.03125 0 Z M 1.03125 -10.042969 \"/>\n",
       "</symbol>\n",
       "<symbol overflow=\"visible\" id=\"glyph0-18\">\n",
       "<path style=\"stroke:none;\" d=\"M 5.476562 -7.320312 L 6.835938 -7.320312 C 6.664062 -6.851562 6.277344 -5.78125 5.679688 -4.109375 C 5.234375 -2.851562 4.859375 -1.824219 4.558594 -1.03125 C 3.847656 0.835938 3.347656 1.976562 3.054688 2.386719 C 2.765625 2.796875 2.261719 3 1.550781 3 C 1.378906 3 1.246094 2.992188 1.152344 2.980469 C 1.058594 2.96875 0.945312 2.941406 0.804688 2.90625 L 0.804688 1.785156 C 1.019531 1.84375 1.175781 1.878906 1.273438 1.894531 C 1.367188 1.90625 1.453125 1.914062 1.523438 1.914062 C 1.75 1.914062 1.917969 1.875 2.027344 1.800781 C 2.132812 1.726562 2.222656 1.632812 2.296875 1.523438 C 2.320312 1.488281 2.402344 1.300781 2.542969 0.964844 C 2.683594 0.625 2.785156 0.375 2.851562 0.210938 L 0.144531 -7.320312 L 1.539062 -7.320312 L 3.5 -1.359375 Z M 5.476562 -7.320312 \"/>\n",
       "</symbol>\n",
       "</g>\n",
       "</defs>\n",
       "<g id=\"surface2\">\n",
       "<rect x=\"0\" y=\"0\" width=\"400\" height=\"500\" style=\"fill:rgb(100%,100%,100%);fill-opacity:1;stroke:none;\"/>\n",
       "<path style=\"fill:none;stroke-width:1;stroke-linecap:butt;stroke-linejoin:miter;stroke:rgb(26.666667%,26.666667%,26.666667%);stroke-opacity:1;stroke-miterlimit:10;\" d=\"M 265.515625 299.433594 L 350.828125 230.964844 \"/>\n",
       "<path style=\"fill:none;stroke-width:1;stroke-linecap:butt;stroke-linejoin:miter;stroke:rgb(26.666667%,26.666667%,26.666667%);stroke-opacity:1;stroke-miterlimit:10;\" d=\"M 265.515625 299.433594 L 124.4375 192.699219 \"/>\n",
       "<path style=\"fill:none;stroke-width:1;stroke-linecap:butt;stroke-linejoin:miter;stroke:rgb(26.666667%,26.666667%,26.666667%);stroke-opacity:1;stroke-miterlimit:10;\" d=\"M 124.4375 192.699219 L 38.136719 20 \"/>\n",
       "<path style=\"fill:none;stroke-width:1;stroke-linecap:butt;stroke-linejoin:miter;stroke:rgb(26.666667%,26.666667%,26.666667%);stroke-opacity:1;stroke-miterlimit:10;\" d=\"M 124.4375 192.699219 L 20 221.082031 \"/>\n",
       "<path style=\"fill:none;stroke-width:1;stroke-linecap:butt;stroke-linejoin:miter;stroke:rgb(26.666667%,26.666667%,26.666667%);stroke-opacity:1;stroke-miterlimit:10;\" d=\"M 38.136719 20 L 20 221.082031 \"/>\n",
       "<path style=\"fill:none;stroke-width:1;stroke-linecap:butt;stroke-linejoin:miter;stroke:rgb(26.666667%,26.666667%,26.666667%);stroke-opacity:1;stroke-miterlimit:10;\" d=\"M 350.828125 230.964844 L 328.367188 480 \"/>\n",
       "<path style=\"fill:none;stroke-width:1;stroke-linecap:butt;stroke-linejoin:miter;stroke:rgb(26.666667%,26.666667%,26.666667%);stroke-opacity:1;stroke-miterlimit:10;\" d=\"M 265.515625 299.433594 L 380 386.050781 \"/>\n",
       "<path style=\"fill:none;stroke-width:1;stroke-linecap:butt;stroke-linejoin:miter;stroke:rgb(26.666667%,26.666667%,26.666667%);stroke-opacity:1;stroke-miterlimit:10;\" d=\"M 265.515625 299.433594 L 328.367188 480 \"/>\n",
       "<path style=\"fill:none;stroke-width:1;stroke-linecap:butt;stroke-linejoin:miter;stroke:rgb(26.666667%,26.666667%,26.666667%);stroke-opacity:1;stroke-miterlimit:10;\" d=\"M 328.367188 480 L 380 386.050781 \"/>\n",
       "<path style=\"fill:none;stroke-width:1;stroke-linecap:butt;stroke-linejoin:miter;stroke:rgb(26.666667%,26.666667%,26.666667%);stroke-opacity:1;stroke-miterlimit:10;\" d=\"M 350.828125 230.964844 L 380 386.050781 \"/>\n",
       "<path style=\"fill-rule:nonzero;fill:rgb(100%,0%,0%);fill-opacity:1;stroke-width:1;stroke-linecap:butt;stroke-linejoin:miter;stroke:rgb(0%,0%,0%);stroke-opacity:1;stroke-miterlimit:10;\" d=\"M 275.515625 299.433594 C 275.515625 304.957031 271.039062 309.433594 265.515625 309.433594 C 259.996094 309.433594 255.515625 304.957031 255.515625 299.433594 C 255.515625 293.910156 259.996094 289.433594 265.515625 289.433594 C 271.039062 289.433594 275.515625 293.910156 275.515625 299.433594 \"/>\n",
       "<path style=\"fill-rule:nonzero;fill:rgb(0%,100%,0%);fill-opacity:1;stroke-width:1;stroke-linecap:butt;stroke-linejoin:miter;stroke:rgb(0%,0%,0%);stroke-opacity:1;stroke-miterlimit:10;\" d=\"M 360.828125 230.964844 C 360.828125 236.488281 356.351562 240.964844 350.828125 240.964844 C 345.304688 240.964844 340.828125 236.488281 340.828125 230.964844 C 340.828125 225.441406 345.304688 220.964844 350.828125 220.964844 C 356.351562 220.964844 360.828125 225.441406 360.828125 230.964844 \"/>\n",
       "<path style=\"fill-rule:nonzero;fill:rgb(0%,0%,100%);fill-opacity:1;stroke-width:1;stroke-linecap:butt;stroke-linejoin:miter;stroke:rgb(0%,0%,0%);stroke-opacity:1;stroke-miterlimit:10;\" d=\"M 134.4375 192.699219 C 134.4375 198.21875 129.960938 202.699219 124.4375 202.699219 C 118.917969 202.699219 114.4375 198.21875 114.4375 192.699219 C 114.4375 187.175781 118.917969 182.699219 124.4375 182.699219 C 129.960938 182.699219 134.4375 187.175781 134.4375 192.699219 \"/>\n",
       "<path style=\"fill-rule:nonzero;fill:rgb(100%,100%,0%);fill-opacity:1;stroke-width:1;stroke-linecap:butt;stroke-linejoin:miter;stroke:rgb(0%,0%,0%);stroke-opacity:1;stroke-miterlimit:10;\" d=\"M 48.136719 20 C 48.136719 25.523438 43.660156 30 38.136719 30 C 32.613281 30 28.136719 25.523438 28.136719 20 C 28.136719 14.476562 32.613281 10 38.136719 10 C 43.660156 10 48.136719 14.476562 48.136719 20 \"/>\n",
       "<path style=\"fill-rule:nonzero;fill:rgb(62.745098%,12.54902%,94.117647%);fill-opacity:1;stroke-width:1;stroke-linecap:butt;stroke-linejoin:miter;stroke:rgb(0%,0%,0%);stroke-opacity:1;stroke-miterlimit:10;\" d=\"M 30 221.082031 C 30 226.605469 25.523438 231.082031 20 231.082031 C 14.476562 231.082031 10 226.605469 10 221.082031 C 10 215.558594 14.476562 211.082031 20 211.082031 C 25.523438 211.082031 30 215.558594 30 221.082031 \"/>\n",
       "<path style=\"fill-rule:nonzero;fill:rgb(100%,64.705882%,0%);fill-opacity:1;stroke-width:1;stroke-linecap:butt;stroke-linejoin:miter;stroke:rgb(0%,0%,0%);stroke-opacity:1;stroke-miterlimit:10;\" d=\"M 338.367188 480 C 338.367188 485.523438 333.890625 490 328.367188 490 C 322.847656 490 318.367188 485.523438 318.367188 480 C 318.367188 474.476562 322.847656 470 328.367188 470 C 333.890625 470 338.367188 474.476562 338.367188 480 \"/>\n",
       "<path style=\"fill-rule:nonzero;fill:rgb(100%,75.294118%,79.607843%);fill-opacity:1;stroke-width:1;stroke-linecap:butt;stroke-linejoin:miter;stroke:rgb(0%,0%,0%);stroke-opacity:1;stroke-miterlimit:10;\" d=\"M 390 386.050781 C 390 391.570312 385.523438 396.050781 380 396.050781 C 374.476562 396.050781 370 391.570312 370 386.050781 C 370 380.527344 374.476562 376.050781 380 376.050781 C 385.523438 376.050781 390 380.527344 390 386.050781 \"/>\n",
       "<g style=\"fill:rgb(0%,0%,0%);fill-opacity:1;\">\n",
       "  <use xlink:href=\"#glyph0-1\" x=\"244.804688\" y=\"306.082031\"/>\n",
       "  <use xlink:href=\"#glyph0-2\" x=\"254.915039\" y=\"306.082031\"/>\n",
       "  <use xlink:href=\"#glyph0-3\" x=\"262.701172\" y=\"306.082031\"/>\n",
       "  <use xlink:href=\"#glyph0-4\" x=\"267.363281\" y=\"306.082031\"/>\n",
       "  <use xlink:href=\"#glyph0-5\" x=\"275.149414\" y=\"306.082031\"/>\n",
       "  <use xlink:href=\"#glyph0-6\" x=\"278.259766\" y=\"306.082031\"/>\n",
       "</g>\n",
       "<g style=\"fill:rgb(0%,0%,0%);fill-opacity:1;\">\n",
       "  <use xlink:href=\"#glyph0-7\" x=\"341.0625\" y=\"237.597656\"/>\n",
       "  <use xlink:href=\"#glyph0-3\" x=\"344.952148\" y=\"237.597656\"/>\n",
       "  <use xlink:href=\"#glyph0-8\" x=\"349.614258\" y=\"237.597656\"/>\n",
       "  <use xlink:href=\"#glyph0-9\" x=\"352.724609\" y=\"237.597656\"/>\n",
       "</g>\n",
       "<g style=\"fill:rgb(0%,0%,0%);fill-opacity:1;\">\n",
       "  <use xlink:href=\"#glyph0-10\" x=\"109.953125\" y=\"199.328125\"/>\n",
       "  <use xlink:href=\"#glyph0-2\" x=\"116.953125\" y=\"199.328125\"/>\n",
       "  <use xlink:href=\"#glyph0-11\" x=\"124.739258\" y=\"199.328125\"/>\n",
       "  <use xlink:href=\"#glyph0-12\" x=\"131.739258\" y=\"199.328125\"/>\n",
       "</g>\n",
       "<g style=\"fill:rgb(0%,0%,0%);fill-opacity:1;\">\n",
       "  <use xlink:href=\"#glyph0-13\" x=\"19.382812\" y=\"26.632812\"/>\n",
       "  <use xlink:href=\"#glyph0-2\" x=\"28.720703\" y=\"26.632812\"/>\n",
       "  <use xlink:href=\"#glyph0-3\" x=\"36.506836\" y=\"26.632812\"/>\n",
       "  <use xlink:href=\"#glyph0-14\" x=\"41.168945\" y=\"26.632812\"/>\n",
       "  <use xlink:href=\"#glyph0-15\" x=\"48.955078\" y=\"26.632812\"/>\n",
       "</g>\n",
       "<g style=\"fill:rgb(0%,0%,0%);fill-opacity:1;\">\n",
       "  <use xlink:href=\"#glyph0-16\" x=\"8.066406\" y=\"227.714844\"/>\n",
       "  <use xlink:href=\"#glyph0-14\" x=\"15.852539\" y=\"227.714844\"/>\n",
       "  <use xlink:href=\"#glyph0-4\" x=\"23.638672\" y=\"227.714844\"/>\n",
       "</g>\n",
       "<g style=\"fill:rgb(0%,0%,0%);fill-opacity:1;\">\n",
       "  <use xlink:href=\"#glyph0-17\" x=\"311.601562\" y=\"486.632812\"/>\n",
       "  <use xlink:href=\"#glyph0-4\" x=\"323.263672\" y=\"486.632812\"/>\n",
       "  <use xlink:href=\"#glyph0-5\" x=\"331.049805\" y=\"486.632812\"/>\n",
       "  <use xlink:href=\"#glyph0-5\" x=\"334.160156\" y=\"486.632812\"/>\n",
       "  <use xlink:href=\"#glyph0-18\" x=\"337.270508\" y=\"486.632812\"/>\n",
       "</g>\n",
       "<g style=\"fill:rgb(0%,0%,0%);fill-opacity:1;\">\n",
       "  <use xlink:href=\"#glyph0-17\" x=\"365.007812\" y=\"392.679688\"/>\n",
       "  <use xlink:href=\"#glyph0-8\" x=\"376.669922\" y=\"392.679688\"/>\n",
       "  <use xlink:href=\"#glyph0-12\" x=\"379.780273\" y=\"392.679688\"/>\n",
       "  <use xlink:href=\"#glyph0-14\" x=\"386.780273\" y=\"392.679688\"/>\n",
       "</g>\n",
       "</g>\n",
       "</svg>\n"
      ],
      "text/plain": [
       "<igraph.drawing.cairo.plot.CairoPlot at 0x1205e5fd0>"
      ]
     },
     "execution_count": 11,
     "metadata": {
      "image/svg+xml": {
       "isolated": true
      }
     },
     "output_type": "execute_result"
    }
   ],
   "source": [
    "layout = g.layout(\"fruchterman_reingold\")\n",
    "ig.plot(g, layout=layout, vertex_label=g.vs[\"name\"], bbox=(0, 0, 400, 500))"
   ]
  },
  {
   "cell_type": "code",
   "execution_count": 12,
   "metadata": {},
   "outputs": [
    {
     "data": {
      "text/plain": [
       "Matrix([[0, 1, 1, 0, 0, 1, 1], [1, 0, 0, 0, 0, 1, 1], [1, 0, 0, 1, 1, 0, 0], [0, 0, 1, 0, 1, 0, 0], [0, 0, 1, 1, 0, 0, 0], [1, 1, 0, 0, 0, 0, 1], [1, 1, 0, 0, 0, 1, 0]])"
      ]
     },
     "execution_count": 12,
     "metadata": {},
     "output_type": "execute_result"
    }
   ],
   "source": [
    "g.get_adjacency()"
   ]
  },
  {
   "cell_type": "code",
   "execution_count": 13,
   "metadata": {},
   "outputs": [
    {
     "data": {
      "text/html": [
       "<div>\n",
       "<style scoped>\n",
       "    .dataframe tbody tr th:only-of-type {\n",
       "        vertical-align: middle;\n",
       "    }\n",
       "\n",
       "    .dataframe tbody tr th {\n",
       "        vertical-align: top;\n",
       "    }\n",
       "\n",
       "    .dataframe thead th {\n",
       "        text-align: right;\n",
       "    }\n",
       "</style>\n",
       "<table border=\"1\" class=\"dataframe\">\n",
       "  <thead>\n",
       "    <tr style=\"text-align: right;\">\n",
       "      <th></th>\n",
       "      <th>Harold</th>\n",
       "      <th>Iris</th>\n",
       "      <th>Jack</th>\n",
       "      <th>Karen</th>\n",
       "      <th>Leo</th>\n",
       "      <th>Molly</th>\n",
       "      <th>Mike</th>\n",
       "    </tr>\n",
       "  </thead>\n",
       "  <tbody>\n",
       "    <tr>\n",
       "      <th>Harold</th>\n",
       "      <td>0</td>\n",
       "      <td>1</td>\n",
       "      <td>1</td>\n",
       "      <td>0</td>\n",
       "      <td>0</td>\n",
       "      <td>1</td>\n",
       "      <td>1</td>\n",
       "    </tr>\n",
       "    <tr>\n",
       "      <th>Iris</th>\n",
       "      <td>1</td>\n",
       "      <td>0</td>\n",
       "      <td>0</td>\n",
       "      <td>0</td>\n",
       "      <td>0</td>\n",
       "      <td>1</td>\n",
       "      <td>1</td>\n",
       "    </tr>\n",
       "    <tr>\n",
       "      <th>Jack</th>\n",
       "      <td>1</td>\n",
       "      <td>0</td>\n",
       "      <td>0</td>\n",
       "      <td>1</td>\n",
       "      <td>1</td>\n",
       "      <td>0</td>\n",
       "      <td>0</td>\n",
       "    </tr>\n",
       "    <tr>\n",
       "      <th>Karen</th>\n",
       "      <td>0</td>\n",
       "      <td>0</td>\n",
       "      <td>1</td>\n",
       "      <td>0</td>\n",
       "      <td>1</td>\n",
       "      <td>0</td>\n",
       "      <td>0</td>\n",
       "    </tr>\n",
       "    <tr>\n",
       "      <th>Leo</th>\n",
       "      <td>0</td>\n",
       "      <td>0</td>\n",
       "      <td>1</td>\n",
       "      <td>1</td>\n",
       "      <td>0</td>\n",
       "      <td>0</td>\n",
       "      <td>0</td>\n",
       "    </tr>\n",
       "    <tr>\n",
       "      <th>Molly</th>\n",
       "      <td>1</td>\n",
       "      <td>1</td>\n",
       "      <td>0</td>\n",
       "      <td>0</td>\n",
       "      <td>0</td>\n",
       "      <td>0</td>\n",
       "      <td>1</td>\n",
       "    </tr>\n",
       "    <tr>\n",
       "      <th>Mike</th>\n",
       "      <td>1</td>\n",
       "      <td>1</td>\n",
       "      <td>0</td>\n",
       "      <td>0</td>\n",
       "      <td>0</td>\n",
       "      <td>1</td>\n",
       "      <td>0</td>\n",
       "    </tr>\n",
       "  </tbody>\n",
       "</table>\n",
       "</div>"
      ],
      "text/plain": [
       "        Harold  Iris  Jack  Karen  Leo  Molly  Mike\n",
       "Harold       0     1     1      0    0      1     1\n",
       "Iris         1     0     0      0    0      1     1\n",
       "Jack         1     0     0      1    1      0     0\n",
       "Karen        0     0     1      0    1      0     0\n",
       "Leo          0     0     1      1    0      0     0\n",
       "Molly        1     1     0      0    0      0     1\n",
       "Mike         1     1     0      0    0      1     0"
      ]
     },
     "execution_count": 13,
     "metadata": {},
     "output_type": "execute_result"
    }
   ],
   "source": [
    "# Adjacency matrix as data frame\n",
    "adj_mtx = pd.DataFrame(g.get_adjacency(),columns=g.vs[\"name\"], index=g.vs[\"name\"])\n",
    "adj_mtx"
   ]
  },
  {
   "cell_type": "code",
   "execution_count": 14,
   "metadata": {},
   "outputs": [
    {
     "data": {
      "text/plain": [
       "[(0, 1),\n",
       " (0, 2),\n",
       " (2, 3),\n",
       " (2, 4),\n",
       " (3, 4),\n",
       " (1, 5),\n",
       " (0, 6),\n",
       " (0, 5),\n",
       " (5, 6),\n",
       " (1, 6)]"
      ]
     },
     "execution_count": 14,
     "metadata": {},
     "output_type": "execute_result"
    }
   ],
   "source": [
    "g.get_edgelist()"
   ]
  },
  {
   "cell_type": "code",
   "execution_count": 15,
   "metadata": {},
   "outputs": [
    {
     "data": {
      "text/html": [
       "<div>\n",
       "<style scoped>\n",
       "    .dataframe tbody tr th:only-of-type {\n",
       "        vertical-align: middle;\n",
       "    }\n",
       "\n",
       "    .dataframe tbody tr th {\n",
       "        vertical-align: top;\n",
       "    }\n",
       "\n",
       "    .dataframe thead th {\n",
       "        text-align: right;\n",
       "    }\n",
       "</style>\n",
       "<table border=\"1\" class=\"dataframe\">\n",
       "  <thead>\n",
       "    <tr style=\"text-align: right;\">\n",
       "      <th></th>\n",
       "      <th>Node 1</th>\n",
       "      <th>Node 2</th>\n",
       "      <th>weight</th>\n",
       "    </tr>\n",
       "  </thead>\n",
       "  <tbody>\n",
       "    <tr>\n",
       "      <th>0</th>\n",
       "      <td>Harold</td>\n",
       "      <td>Iris</td>\n",
       "      <td>1</td>\n",
       "    </tr>\n",
       "    <tr>\n",
       "      <th>1</th>\n",
       "      <td>Harold</td>\n",
       "      <td>Jack</td>\n",
       "      <td>1</td>\n",
       "    </tr>\n",
       "    <tr>\n",
       "      <th>2</th>\n",
       "      <td>Jack</td>\n",
       "      <td>Karen</td>\n",
       "      <td>1</td>\n",
       "    </tr>\n",
       "    <tr>\n",
       "      <th>3</th>\n",
       "      <td>Jack</td>\n",
       "      <td>Leo</td>\n",
       "      <td>1</td>\n",
       "    </tr>\n",
       "    <tr>\n",
       "      <th>4</th>\n",
       "      <td>Karen</td>\n",
       "      <td>Leo</td>\n",
       "      <td>1</td>\n",
       "    </tr>\n",
       "    <tr>\n",
       "      <th>5</th>\n",
       "      <td>Iris</td>\n",
       "      <td>Molly</td>\n",
       "      <td>1</td>\n",
       "    </tr>\n",
       "    <tr>\n",
       "      <th>6</th>\n",
       "      <td>Harold</td>\n",
       "      <td>Mike</td>\n",
       "      <td>1</td>\n",
       "    </tr>\n",
       "    <tr>\n",
       "      <th>7</th>\n",
       "      <td>Harold</td>\n",
       "      <td>Molly</td>\n",
       "      <td>1</td>\n",
       "    </tr>\n",
       "    <tr>\n",
       "      <th>8</th>\n",
       "      <td>Molly</td>\n",
       "      <td>Mike</td>\n",
       "      <td>1</td>\n",
       "    </tr>\n",
       "    <tr>\n",
       "      <th>9</th>\n",
       "      <td>Iris</td>\n",
       "      <td>Mike</td>\n",
       "      <td>1</td>\n",
       "    </tr>\n",
       "  </tbody>\n",
       "</table>\n",
       "</div>"
      ],
      "text/plain": [
       "   Node 1 Node 2  weight\n",
       "0  Harold   Iris       1\n",
       "1  Harold   Jack       1\n",
       "2    Jack  Karen       1\n",
       "3    Jack    Leo       1\n",
       "4   Karen    Leo       1\n",
       "5    Iris  Molly       1\n",
       "6  Harold   Mike       1\n",
       "7  Harold  Molly       1\n",
       "8   Molly   Mike       1\n",
       "9    Iris   Mike       1"
      ]
     },
     "execution_count": 15,
     "metadata": {},
     "output_type": "execute_result"
    }
   ],
   "source": [
    "# Edge pairs as dataframe + name mapping\n",
    "name_map = pd.Series(g.vs['name'])\n",
    "edge_df = pd.DataFrame(g.get_edgelist(), columns=['Node 1', 'Node 2'])\n",
    "edge_df['Node 1'] = edge_df['Node 1'].map(name_map)\n",
    "edge_df['Node 2'] = edge_df['Node 2'].map(name_map)\n",
    "\n",
    "edge_df['weight'] = 1\n",
    "edge_df"
   ]
  },
  {
   "cell_type": "code",
   "execution_count": 16,
   "metadata": {},
   "outputs": [
    {
     "data": {
      "text/plain": [
       "Harold    4\n",
       "Iris      3\n",
       "Jack      3\n",
       "Karen     2\n",
       "Leo       2\n",
       "Molly     3\n",
       "Mike      3\n",
       "dtype: int64"
      ]
     },
     "execution_count": 16,
     "metadata": {},
     "output_type": "execute_result"
    }
   ],
   "source": [
    "# Node degrees\n",
    "degrees = g.degree()\n",
    "degrees_series = pd.Series(degrees, index=g.vs[\"name\"])\n",
    "degrees_series"
   ]
  },
  {
   "cell_type": "code",
   "execution_count": 17,
   "metadata": {},
   "outputs": [],
   "source": [
    "g.es['weight'] = [1, 0.5, 1, 0.5, 0.8, 0.3, 0.6, 0.7, 0.8]"
   ]
  },
  {
   "cell_type": "code",
   "execution_count": 18,
   "metadata": {},
   "outputs": [
    {
     "data": {
      "text/html": [
       "<div>\n",
       "<style scoped>\n",
       "    .dataframe tbody tr th:only-of-type {\n",
       "        vertical-align: middle;\n",
       "    }\n",
       "\n",
       "    .dataframe tbody tr th {\n",
       "        vertical-align: top;\n",
       "    }\n",
       "\n",
       "    .dataframe thead th {\n",
       "        text-align: right;\n",
       "    }\n",
       "</style>\n",
       "<table border=\"1\" class=\"dataframe\">\n",
       "  <thead>\n",
       "    <tr style=\"text-align: right;\">\n",
       "      <th></th>\n",
       "      <th>Harold</th>\n",
       "      <th>Iris</th>\n",
       "      <th>Jack</th>\n",
       "      <th>Karen</th>\n",
       "      <th>Leo</th>\n",
       "      <th>Molly</th>\n",
       "      <th>Mike</th>\n",
       "    </tr>\n",
       "  </thead>\n",
       "  <tbody>\n",
       "    <tr>\n",
       "      <th>Harold</th>\n",
       "      <td>0.0</td>\n",
       "      <td>1.0</td>\n",
       "      <td>0.5</td>\n",
       "      <td>0.0</td>\n",
       "      <td>0.0</td>\n",
       "      <td>0.7</td>\n",
       "      <td>0.6</td>\n",
       "    </tr>\n",
       "    <tr>\n",
       "      <th>Iris</th>\n",
       "      <td>1.0</td>\n",
       "      <td>0.0</td>\n",
       "      <td>0.0</td>\n",
       "      <td>0.0</td>\n",
       "      <td>0.0</td>\n",
       "      <td>0.3</td>\n",
       "      <td>1.0</td>\n",
       "    </tr>\n",
       "    <tr>\n",
       "      <th>Jack</th>\n",
       "      <td>0.5</td>\n",
       "      <td>0.0</td>\n",
       "      <td>0.0</td>\n",
       "      <td>1.0</td>\n",
       "      <td>0.5</td>\n",
       "      <td>0.0</td>\n",
       "      <td>0.0</td>\n",
       "    </tr>\n",
       "    <tr>\n",
       "      <th>Karen</th>\n",
       "      <td>0.0</td>\n",
       "      <td>0.0</td>\n",
       "      <td>1.0</td>\n",
       "      <td>0.0</td>\n",
       "      <td>0.8</td>\n",
       "      <td>0.0</td>\n",
       "      <td>0.0</td>\n",
       "    </tr>\n",
       "    <tr>\n",
       "      <th>Leo</th>\n",
       "      <td>0.0</td>\n",
       "      <td>0.0</td>\n",
       "      <td>0.5</td>\n",
       "      <td>0.8</td>\n",
       "      <td>0.0</td>\n",
       "      <td>0.0</td>\n",
       "      <td>0.0</td>\n",
       "    </tr>\n",
       "    <tr>\n",
       "      <th>Molly</th>\n",
       "      <td>0.7</td>\n",
       "      <td>0.3</td>\n",
       "      <td>0.0</td>\n",
       "      <td>0.0</td>\n",
       "      <td>0.0</td>\n",
       "      <td>0.0</td>\n",
       "      <td>0.8</td>\n",
       "    </tr>\n",
       "    <tr>\n",
       "      <th>Mike</th>\n",
       "      <td>0.6</td>\n",
       "      <td>1.0</td>\n",
       "      <td>0.0</td>\n",
       "      <td>0.0</td>\n",
       "      <td>0.0</td>\n",
       "      <td>0.8</td>\n",
       "      <td>0.0</td>\n",
       "    </tr>\n",
       "  </tbody>\n",
       "</table>\n",
       "</div>"
      ],
      "text/plain": [
       "        Harold  Iris  Jack  Karen  Leo  Molly  Mike\n",
       "Harold     0.0   1.0   0.5    0.0  0.0    0.7   0.6\n",
       "Iris       1.0   0.0   0.0    0.0  0.0    0.3   1.0\n",
       "Jack       0.5   0.0   0.0    1.0  0.5    0.0   0.0\n",
       "Karen      0.0   0.0   1.0    0.0  0.8    0.0   0.0\n",
       "Leo        0.0   0.0   0.5    0.8  0.0    0.0   0.0\n",
       "Molly      0.7   0.3   0.0    0.0  0.0    0.0   0.8\n",
       "Mike       0.6   1.0   0.0    0.0  0.0    0.8   0.0"
      ]
     },
     "execution_count": 18,
     "metadata": {},
     "output_type": "execute_result"
    }
   ],
   "source": [
    "# Weighted adjacency matrix\n",
    "weight_adj = pd.DataFrame(g.get_adjacency('weight'), columns=g.vs[\"name\"], index=g.vs[\"name\"] )\n",
    "weight_adj"
   ]
  },
  {
   "cell_type": "code",
   "execution_count": 19,
   "metadata": {},
   "outputs": [
    {
     "data": {
      "text/html": [
       "<div>\n",
       "<style scoped>\n",
       "    .dataframe tbody tr th:only-of-type {\n",
       "        vertical-align: middle;\n",
       "    }\n",
       "\n",
       "    .dataframe tbody tr th {\n",
       "        vertical-align: top;\n",
       "    }\n",
       "\n",
       "    .dataframe thead th {\n",
       "        text-align: right;\n",
       "    }\n",
       "</style>\n",
       "<table border=\"1\" class=\"dataframe\">\n",
       "  <thead>\n",
       "    <tr style=\"text-align: right;\">\n",
       "      <th></th>\n",
       "      <th>Node 1</th>\n",
       "      <th>Node 2</th>\n",
       "      <th>weight</th>\n",
       "    </tr>\n",
       "  </thead>\n",
       "  <tbody>\n",
       "    <tr>\n",
       "      <th>0</th>\n",
       "      <td>Harold</td>\n",
       "      <td>Iris</td>\n",
       "      <td>1.0</td>\n",
       "    </tr>\n",
       "    <tr>\n",
       "      <th>1</th>\n",
       "      <td>Harold</td>\n",
       "      <td>Jack</td>\n",
       "      <td>0.5</td>\n",
       "    </tr>\n",
       "    <tr>\n",
       "      <th>2</th>\n",
       "      <td>Jack</td>\n",
       "      <td>Karen</td>\n",
       "      <td>1.0</td>\n",
       "    </tr>\n",
       "    <tr>\n",
       "      <th>3</th>\n",
       "      <td>Jack</td>\n",
       "      <td>Leo</td>\n",
       "      <td>0.5</td>\n",
       "    </tr>\n",
       "    <tr>\n",
       "      <th>4</th>\n",
       "      <td>Karen</td>\n",
       "      <td>Leo</td>\n",
       "      <td>0.8</td>\n",
       "    </tr>\n",
       "    <tr>\n",
       "      <th>5</th>\n",
       "      <td>Iris</td>\n",
       "      <td>Molly</td>\n",
       "      <td>0.3</td>\n",
       "    </tr>\n",
       "    <tr>\n",
       "      <th>6</th>\n",
       "      <td>Harold</td>\n",
       "      <td>Mike</td>\n",
       "      <td>0.6</td>\n",
       "    </tr>\n",
       "    <tr>\n",
       "      <th>7</th>\n",
       "      <td>Harold</td>\n",
       "      <td>Molly</td>\n",
       "      <td>0.7</td>\n",
       "    </tr>\n",
       "    <tr>\n",
       "      <th>8</th>\n",
       "      <td>Molly</td>\n",
       "      <td>Mike</td>\n",
       "      <td>0.8</td>\n",
       "    </tr>\n",
       "    <tr>\n",
       "      <th>9</th>\n",
       "      <td>Iris</td>\n",
       "      <td>Mike</td>\n",
       "      <td>1.0</td>\n",
       "    </tr>\n",
       "  </tbody>\n",
       "</table>\n",
       "</div>"
      ],
      "text/plain": [
       "   Node 1 Node 2  weight\n",
       "0  Harold   Iris     1.0\n",
       "1  Harold   Jack     0.5\n",
       "2    Jack  Karen     1.0\n",
       "3    Jack    Leo     0.5\n",
       "4   Karen    Leo     0.8\n",
       "5    Iris  Molly     0.3\n",
       "6  Harold   Mike     0.6\n",
       "7  Harold  Molly     0.7\n",
       "8   Molly   Mike     0.8\n",
       "9    Iris   Mike     1.0"
      ]
     },
     "execution_count": 19,
     "metadata": {},
     "output_type": "execute_result"
    }
   ],
   "source": [
    "# Edge pairs as dataframe + name mapping\n",
    "edge_df_weight = pd.DataFrame(g.get_edgelist(), columns=['Node 1', 'Node 2'])\n",
    "edge_df_weight['Node 1'] = edge_df_weight['Node 1'].map(name_map)\n",
    "edge_df_weight['Node 2'] = edge_df_weight['Node 2'].map(name_map)\n",
    "\n",
    "edge_df_weight['weight'] = g.es['weight']\n",
    "edge_df_weight"
   ]
  },
  {
   "cell_type": "code",
   "execution_count": 20,
   "metadata": {},
   "outputs": [
    {
     "data": {
      "text/plain": [
       "Harold    4\n",
       "Iris      3\n",
       "Jack      3\n",
       "Karen     2\n",
       "Leo       2\n",
       "Molly     3\n",
       "Mike      3\n",
       "dtype: int64"
      ]
     },
     "execution_count": 20,
     "metadata": {},
     "output_type": "execute_result"
    }
   ],
   "source": [
    "# Node degrees\n",
    "degrees = g.degree()\n",
    "degrees_series = pd.Series(degrees, index=g.vs[\"name\"])\n",
    "degrees_series"
   ]
  },
  {
   "cell_type": "code",
   "execution_count": 21,
   "metadata": {},
   "outputs": [
    {
     "data": {
      "text/plain": [
       "Harold    2.8\n",
       "Iris      2.3\n",
       "Jack      2.0\n",
       "Karen     1.8\n",
       "Leo       1.3\n",
       "Molly     1.8\n",
       "Mike      2.4\n",
       "dtype: float64"
      ]
     },
     "execution_count": 21,
     "metadata": {},
     "output_type": "execute_result"
    }
   ],
   "source": [
    "degrees_weighted = g.strength(weights='weight')\n",
    "\n",
    "degrees_series = pd.Series(degrees_weighted, index=g.vs[\"name\"])\n",
    "degrees_series"
   ]
  },
  {
   "cell_type": "code",
   "execution_count": 22,
   "metadata": {},
   "outputs": [],
   "source": [
    "g.es[\"label_size\"] = [18]*g.ecount()"
   ]
  },
  {
   "cell_type": "code",
   "execution_count": 23,
   "metadata": {},
   "outputs": [
    {
     "data": {
      "image/svg+xml": [
       "<?xml version=\"1.0\" encoding=\"UTF-8\"?>\n",
       "<svg xmlns=\"http://www.w3.org/2000/svg\" xmlns:xlink=\"http://www.w3.org/1999/xlink\" width=\"500pt\" height=\"500pt\" viewBox=\"0 0 500 500\" version=\"1.1\">\n",
       "<defs>\n",
       "<g>\n",
       "<symbol overflow=\"visible\" id=\"glyph0-0\">\n",
       "<path style=\"stroke:none;\" d=\"M 0.453125 0 L 0.453125 -10.042969 L 8.421875 -10.042969 L 8.421875 0 Z M 7.164062 -1.257812 L 7.164062 -8.785156 L 1.710938 -8.785156 L 1.710938 -1.257812 Z M 7.164062 -1.257812 \"/>\n",
       "</symbol>\n",
       "<symbol overflow=\"visible\" id=\"glyph0-1\">\n",
       "<path style=\"stroke:none;\" d=\"M 1.101562 -10.042969 L 2.476562 -10.042969 L 2.476562 -5.890625 L 7.695312 -5.890625 L 7.695312 -10.042969 L 9.070312 -10.042969 L 9.070312 0 L 7.695312 0 L 7.695312 -4.695312 L 2.476562 -4.695312 L 2.476562 0 L 1.101562 0 Z M 1.101562 -10.042969 \"/>\n",
       "</symbol>\n",
       "<symbol overflow=\"visible\" id=\"glyph0-2\">\n",
       "<path style=\"stroke:none;\" d=\"M 1.84375 -1.949219 C 1.84375 -1.59375 1.976562 -1.3125 2.234375 -1.109375 C 2.496094 -0.902344 2.804688 -0.800781 3.15625 -0.800781 C 3.589844 -0.800781 4.011719 -0.898438 4.414062 -1.101562 C 5.097656 -1.433594 5.441406 -1.976562 5.441406 -2.734375 L 5.441406 -3.726562 C 5.289062 -3.628906 5.097656 -3.550781 4.859375 -3.484375 C 4.625 -3.421875 4.390625 -3.375 4.164062 -3.351562 L 3.417969 -3.253906 C 2.972656 -3.195312 2.636719 -3.101562 2.414062 -2.972656 C 2.035156 -2.757812 1.84375 -2.417969 1.84375 -1.949219 Z M 4.828125 -4.4375 C 5.109375 -4.472656 5.296875 -4.589844 5.394531 -4.792969 C 5.449219 -4.902344 5.476562 -5.058594 5.476562 -5.265625 C 5.476562 -5.683594 5.328125 -5.988281 5.027344 -6.175781 C 4.730469 -6.367188 4.300781 -6.460938 3.746094 -6.460938 C 3.101562 -6.460938 2.648438 -6.285156 2.378906 -5.941406 C 2.226562 -5.75 2.128906 -5.464844 2.085938 -5.085938 L 0.9375 -5.085938 C 0.960938 -5.988281 1.253906 -6.617188 1.816406 -6.96875 C 2.378906 -7.320312 3.03125 -7.5 3.773438 -7.5 C 4.632812 -7.5 5.335938 -7.335938 5.871094 -7.007812 C 6.40625 -6.679688 6.671875 -6.167969 6.671875 -5.476562 L 6.671875 -1.257812 C 6.671875 -1.128906 6.699219 -1.027344 6.75 -0.949219 C 6.804688 -0.871094 6.914062 -0.835938 7.082031 -0.835938 C 7.136719 -0.835938 7.199219 -0.835938 7.265625 -0.84375 C 7.335938 -0.851562 7.40625 -0.859375 7.484375 -0.875 L 7.484375 0.0351562 C 7.292969 0.0898438 7.148438 0.125 7.046875 0.136719 C 6.945312 0.148438 6.8125 0.15625 6.636719 0.15625 C 6.214844 0.15625 5.90625 0.0078125 5.714844 -0.292969 C 5.613281 -0.453125 5.542969 -0.679688 5.503906 -0.96875 C 5.253906 -0.640625 4.890625 -0.359375 4.421875 -0.117188 C 3.953125 0.125 3.4375 0.246094 2.871094 0.246094 C 2.191406 0.246094 1.636719 0.0390625 1.207031 -0.371094 C 0.777344 -0.785156 0.5625 -1.300781 0.5625 -1.921875 C 0.5625 -2.601562 0.773438 -3.125 1.195312 -3.5 C 1.621094 -3.875 2.175781 -4.105469 2.863281 -4.191406 Z M 4.828125 -4.4375 \"/>\n",
       "</symbol>\n",
       "<symbol overflow=\"visible\" id=\"glyph0-3\">\n",
       "<path style=\"stroke:none;\" d=\"M 0.9375 -7.320312 L 2.105469 -7.320312 L 2.105469 -6.054688 C 2.203125 -6.300781 2.4375 -6.601562 2.808594 -6.957031 C 3.183594 -7.308594 3.613281 -7.484375 4.101562 -7.484375 C 4.125 -7.484375 4.164062 -7.484375 4.21875 -7.476562 C 4.273438 -7.472656 4.367188 -7.464844 4.5 -7.453125 L 4.5 -6.152344 C 4.425781 -6.164062 4.359375 -6.175781 4.296875 -6.179688 C 4.234375 -6.183594 4.167969 -6.1875 4.09375 -6.1875 C 3.476562 -6.1875 3 -5.988281 2.664062 -5.589844 C 2.332031 -5.191406 2.167969 -4.730469 2.167969 -4.210938 L 2.167969 0 L 0.9375 0 Z M 0.9375 -7.320312 \"/>\n",
       "</symbol>\n",
       "<symbol overflow=\"visible\" id=\"glyph0-4\">\n",
       "<path style=\"stroke:none;\" d=\"M 3.808594 -0.792969 C 4.625 -0.792969 5.183594 -1.101562 5.484375 -1.71875 C 5.789062 -2.335938 5.941406 -3.023438 5.941406 -3.78125 C 5.941406 -4.464844 5.832031 -5.019531 5.613281 -5.449219 C 5.265625 -6.125 4.667969 -6.460938 3.820312 -6.460938 C 3.070312 -6.460938 2.523438 -6.171875 2.179688 -5.597656 C 1.839844 -5.023438 1.667969 -4.332031 1.667969 -3.519531 C 1.667969 -2.742188 1.839844 -2.09375 2.179688 -1.570312 C 2.523438 -1.050781 3.066406 -0.792969 3.808594 -0.792969 Z M 3.855469 -7.53125 C 4.796875 -7.53125 5.597656 -7.21875 6.25 -6.589844 C 6.898438 -5.960938 7.226562 -5.035156 7.226562 -3.8125 C 7.226562 -2.632812 6.9375 -1.660156 6.363281 -0.890625 C 5.789062 -0.117188 4.898438 0.265625 3.691406 0.265625 C 2.683594 0.265625 1.882812 -0.0742188 1.292969 -0.753906 C 0.699219 -1.4375 0.402344 -2.351562 0.402344 -3.5 C 0.402344 -4.730469 0.714844 -5.710938 1.339844 -6.4375 C 1.964844 -7.167969 2.804688 -7.53125 3.855469 -7.53125 Z M 3.855469 -7.53125 \"/>\n",
       "</symbol>\n",
       "<symbol overflow=\"visible\" id=\"glyph0-5\">\n",
       "<path style=\"stroke:none;\" d=\"M 0.9375 -10.042969 L 2.167969 -10.042969 L 2.167969 0 L 0.9375 0 Z M 0.9375 -10.042969 \"/>\n",
       "</symbol>\n",
       "<symbol overflow=\"visible\" id=\"glyph0-6\">\n",
       "<path style=\"stroke:none;\" d=\"M 1.679688 -3.574219 C 1.679688 -2.789062 1.847656 -2.136719 2.179688 -1.605469 C 2.511719 -1.078125 3.046875 -0.8125 3.78125 -0.8125 C 4.351562 -0.8125 4.816406 -1.058594 5.183594 -1.546875 C 5.550781 -2.039062 5.734375 -2.742188 5.734375 -3.65625 C 5.734375 -4.582031 5.546875 -5.265625 5.167969 -5.710938 C 4.789062 -6.15625 4.324219 -6.378906 3.765625 -6.378906 C 3.148438 -6.378906 2.644531 -6.140625 2.257812 -5.667969 C 1.875 -5.195312 1.679688 -4.496094 1.679688 -3.574219 Z M 3.535156 -7.453125 C 4.09375 -7.453125 4.5625 -7.332031 4.941406 -7.09375 C 5.160156 -6.957031 5.410156 -6.71875 5.6875 -6.378906 L 5.6875 -10.078125 L 6.871094 -10.078125 L 6.871094 0 L 5.761719 0 L 5.761719 -1.019531 C 5.476562 -0.566406 5.136719 -0.242188 4.742188 -0.0390625 C 4.351562 0.160156 3.902344 0.257812 3.398438 0.257812 C 2.582031 0.257812 1.875 -0.0820312 1.277344 -0.769531 C 0.679688 -1.453125 0.382812 -2.367188 0.382812 -3.507812 C 0.382812 -4.574219 0.65625 -5.496094 1.199219 -6.277344 C 1.742188 -7.058594 2.523438 -7.453125 3.535156 -7.453125 Z M 3.535156 -7.453125 \"/>\n",
       "</symbol>\n",
       "<symbol overflow=\"visible\" id=\"glyph0-7\">\n",
       "<path style=\"stroke:none;\" d=\"M 1.375 -10.042969 L 2.75 -10.042969 L 2.75 0 L 1.375 0 Z M 1.375 -10.042969 \"/>\n",
       "</symbol>\n",
       "<symbol overflow=\"visible\" id=\"glyph0-8\">\n",
       "<path style=\"stroke:none;\" d=\"M 0.902344 -7.289062 L 2.152344 -7.289062 L 2.152344 0 L 0.902344 0 Z M 0.902344 -10.042969 L 2.152344 -10.042969 L 2.152344 -8.648438 L 0.902344 -8.648438 Z M 0.902344 -10.042969 \"/>\n",
       "</symbol>\n",
       "<symbol overflow=\"visible\" id=\"glyph0-9\">\n",
       "<path style=\"stroke:none;\" d=\"M 1.632812 -2.296875 C 1.671875 -1.886719 1.773438 -1.570312 1.941406 -1.351562 C 2.25 -0.957031 2.789062 -0.757812 3.554688 -0.757812 C 4.011719 -0.757812 4.410156 -0.859375 4.757812 -1.054688 C 5.105469 -1.253906 5.277344 -1.5625 5.277344 -1.976562 C 5.277344 -2.289062 5.136719 -2.53125 4.859375 -2.695312 C 4.683594 -2.792969 4.332031 -2.910156 3.808594 -3.042969 L 2.828125 -3.289062 C 2.203125 -3.445312 1.746094 -3.617188 1.449219 -3.808594 C 0.921875 -4.140625 0.65625 -4.601562 0.65625 -5.1875 C 0.65625 -5.882812 0.90625 -6.441406 1.40625 -6.871094 C 1.90625 -7.296875 2.574219 -7.511719 3.417969 -7.511719 C 4.519531 -7.511719 5.316406 -7.1875 5.804688 -6.542969 C 6.109375 -6.132812 6.257812 -5.691406 6.25 -5.214844 L 5.085938 -5.214844 C 5.0625 -5.492188 4.964844 -5.746094 4.792969 -5.976562 C 4.507812 -6.296875 4.019531 -6.460938 3.320312 -6.460938 C 2.855469 -6.460938 2.503906 -6.371094 2.265625 -6.195312 C 2.027344 -6.015625 1.90625 -5.78125 1.90625 -5.488281 C 1.90625 -5.171875 2.0625 -4.914062 2.378906 -4.722656 C 2.5625 -4.609375 2.828125 -4.507812 3.1875 -4.421875 L 4 -4.226562 C 4.882812 -4.011719 5.476562 -3.804688 5.777344 -3.601562 C 6.253906 -3.289062 6.492188 -2.792969 6.492188 -2.117188 C 6.492188 -1.46875 6.246094 -0.90625 5.753906 -0.429688 C 5.257812 0.0429688 4.503906 0.28125 3.492188 0.28125 C 2.402344 0.28125 1.632812 0.03125 1.179688 -0.460938 C 0.726562 -0.957031 0.484375 -1.566406 0.453125 -2.296875 Z M 1.632812 -2.296875 \"/>\n",
       "</symbol>\n",
       "<symbol overflow=\"visible\" id=\"glyph0-10\">\n",
       "<path style=\"stroke:none;\" d=\"M 5.996094 -2.992188 C 5.996094 -2.144531 5.871094 -1.488281 5.617188 -1.019531 C 5.152344 -0.164062 4.269531 0.265625 2.96875 0.265625 C 2.214844 0.265625 1.570312 0.0625 1.039062 -0.34375 C 0.507812 -0.753906 0.238281 -1.480469 0.238281 -2.523438 L 0.238281 -3.242188 L 1.515625 -3.242188 L 1.515625 -2.523438 C 1.515625 -1.976562 1.640625 -1.5625 1.882812 -1.289062 C 2.125 -1.011719 2.507812 -0.875 3.023438 -0.875 C 3.746094 -0.875 4.21875 -1.125 4.445312 -1.621094 C 4.582031 -1.925781 4.648438 -2.5 4.648438 -3.351562 L 4.648438 -10.042969 L 5.996094 -10.042969 Z M 5.996094 -2.992188 \"/>\n",
       "</symbol>\n",
       "<symbol overflow=\"visible\" id=\"glyph0-11\">\n",
       "<path style=\"stroke:none;\" d=\"M 3.726562 -7.53125 C 4.550781 -7.53125 5.222656 -7.332031 5.738281 -6.929688 C 6.257812 -6.53125 6.566406 -5.839844 6.671875 -4.859375 L 5.476562 -4.859375 C 5.402344 -5.3125 5.234375 -5.6875 4.976562 -5.984375 C 4.71875 -6.28125 4.300781 -6.433594 3.726562 -6.433594 C 2.941406 -6.433594 2.382812 -6.050781 2.042969 -5.285156 C 1.824219 -4.789062 1.714844 -4.175781 1.714844 -3.445312 C 1.714844 -2.710938 1.871094 -2.09375 2.179688 -1.59375 C 2.492188 -1.09375 2.976562 -0.839844 3.644531 -0.839844 C 4.15625 -0.839844 4.558594 -0.996094 4.855469 -1.308594 C 5.15625 -1.621094 5.363281 -2.046875 5.476562 -2.589844 L 6.671875 -2.589844 C 6.535156 -1.621094 6.195312 -0.910156 5.648438 -0.460938 C 5.101562 -0.0117188 4.398438 0.210938 3.546875 0.210938 C 2.589844 0.210938 1.828125 -0.136719 1.257812 -0.835938 C 0.6875 -1.535156 0.402344 -2.410156 0.402344 -3.460938 C 0.402344 -4.746094 0.714844 -5.746094 1.339844 -6.460938 C 1.964844 -7.175781 2.757812 -7.53125 3.726562 -7.53125 Z M 3.726562 -7.53125 \"/>\n",
       "</symbol>\n",
       "<symbol overflow=\"visible\" id=\"glyph0-12\">\n",
       "<path style=\"stroke:none;\" d=\"M 0.875 -10.042969 L 2.058594 -10.042969 L 2.058594 -4.210938 L 5.214844 -7.320312 L 6.789062 -7.320312 L 3.984375 -4.578125 L 6.945312 0 L 5.375 0 L 3.089844 -3.691406 L 2.058594 -2.75 L 2.058594 0 L 0.875 0 Z M 0.875 -10.042969 \"/>\n",
       "</symbol>\n",
       "<symbol overflow=\"visible\" id=\"glyph0-13\">\n",
       "<path style=\"stroke:none;\" d=\"M 1.066406 -10.042969 L 2.390625 -10.042969 L 2.390625 -5.148438 L 7.289062 -10.042969 L 9.167969 -10.042969 L 4.992188 -5.996094 L 9.28125 0 L 7.511719 0 L 4 -5.039062 L 2.390625 -3.5 L 2.390625 0 L 1.066406 0 Z M 1.066406 -10.042969 \"/>\n",
       "</symbol>\n",
       "<symbol overflow=\"visible\" id=\"glyph0-14\">\n",
       "<path style=\"stroke:none;\" d=\"M 3.953125 -7.484375 C 4.472656 -7.484375 4.972656 -7.363281 5.460938 -7.121094 C 5.949219 -6.875 6.320312 -6.558594 6.578125 -6.171875 C 6.824219 -5.804688 6.984375 -5.375 7.070312 -4.882812 C 7.140625 -4.542969 7.179688 -4.007812 7.179688 -3.265625 L 1.8125 -3.265625 C 1.835938 -2.523438 2.007812 -1.929688 2.335938 -1.480469 C 2.664062 -1.03125 3.175781 -0.804688 3.863281 -0.804688 C 4.503906 -0.804688 5.015625 -1.019531 5.398438 -1.441406 C 5.617188 -1.6875 5.773438 -1.972656 5.867188 -2.296875 L 7.074219 -2.296875 C 7.042969 -2.027344 6.9375 -1.726562 6.757812 -1.398438 C 6.578125 -1.066406 6.375 -0.796875 6.152344 -0.585938 C 5.777344 -0.222656 5.316406 0.0234375 4.765625 0.148438 C 4.46875 0.222656 4.132812 0.257812 3.757812 0.257812 C 2.847656 0.257812 2.074219 -0.0703125 1.441406 -0.734375 C 0.808594 -1.398438 0.492188 -2.328125 0.492188 -3.519531 C 0.492188 -4.695312 0.8125 -5.652344 1.449219 -6.382812 C 2.085938 -7.117188 2.921875 -7.484375 3.953125 -7.484375 Z M 5.914062 -4.246094 C 5.863281 -4.777344 5.746094 -5.203125 5.5625 -5.523438 C 5.226562 -6.117188 4.664062 -6.414062 3.875 -6.414062 C 3.3125 -6.414062 2.835938 -6.207031 2.453125 -5.800781 C 2.070312 -5.390625 1.867188 -4.875 1.84375 -4.246094 Z M 5.914062 -4.246094 \"/>\n",
       "</symbol>\n",
       "<symbol overflow=\"visible\" id=\"glyph0-15\">\n",
       "<path style=\"stroke:none;\" d=\"M 0.902344 -7.320312 L 2.070312 -7.320312 L 2.070312 -6.28125 C 2.417969 -6.710938 2.785156 -7.019531 3.171875 -7.203125 C 3.558594 -7.390625 3.988281 -7.484375 4.464844 -7.484375 C 5.503906 -7.484375 6.203125 -7.125 6.570312 -6.398438 C 6.769531 -6 6.871094 -5.433594 6.871094 -4.695312 L 6.871094 0 L 5.617188 0 L 5.617188 -4.613281 C 5.617188 -5.0625 5.554688 -5.421875 5.421875 -5.695312 C 5.203125 -6.148438 4.804688 -6.378906 4.230469 -6.378906 C 3.9375 -6.378906 3.699219 -6.347656 3.515625 -6.289062 C 3.175781 -6.1875 2.878906 -5.988281 2.625 -5.6875 C 2.421875 -5.445312 2.285156 -5.195312 2.226562 -4.9375 C 2.164062 -4.679688 2.132812 -4.3125 2.132812 -3.835938 L 2.132812 0 L 0.902344 0 Z M 0.902344 -7.320312 \"/>\n",
       "</symbol>\n",
       "<symbol overflow=\"visible\" id=\"glyph0-16\">\n",
       "<path style=\"stroke:none;\" d=\"M 1.066406 -10.042969 L 2.425781 -10.042969 L 2.425781 -1.195312 L 7.511719 -1.195312 L 7.511719 0 L 1.066406 0 Z M 1.066406 -10.042969 \"/>\n",
       "</symbol>\n",
       "<symbol overflow=\"visible\" id=\"glyph0-17\">\n",
       "<path style=\"stroke:none;\" d=\"M 1.03125 -10.042969 L 2.980469 -10.042969 L 5.867188 -1.550781 L 8.730469 -10.042969 L 10.65625 -10.042969 L 10.65625 0 L 9.367188 0 L 9.367188 -5.925781 C 9.367188 -6.132812 9.371094 -6.472656 9.378906 -6.945312 C 9.386719 -7.417969 9.390625 -7.925781 9.390625 -8.46875 L 6.527344 0 L 5.179688 0 L 2.296875 -8.46875 L 2.296875 -8.164062 C 2.296875 -7.917969 2.300781 -7.542969 2.3125 -7.039062 C 2.324219 -6.535156 2.332031 -6.164062 2.332031 -5.925781 L 2.332031 0 L 1.03125 0 Z M 1.03125 -10.042969 \"/>\n",
       "</symbol>\n",
       "<symbol overflow=\"visible\" id=\"glyph0-18\">\n",
       "<path style=\"stroke:none;\" d=\"M 5.476562 -7.320312 L 6.835938 -7.320312 C 6.664062 -6.851562 6.277344 -5.78125 5.679688 -4.109375 C 5.234375 -2.851562 4.859375 -1.824219 4.558594 -1.03125 C 3.847656 0.835938 3.347656 1.976562 3.054688 2.386719 C 2.765625 2.796875 2.261719 3 1.550781 3 C 1.378906 3 1.246094 2.992188 1.152344 2.980469 C 1.058594 2.96875 0.945312 2.941406 0.804688 2.90625 L 0.804688 1.785156 C 1.019531 1.84375 1.175781 1.878906 1.273438 1.894531 C 1.367188 1.90625 1.453125 1.914062 1.523438 1.914062 C 1.75 1.914062 1.917969 1.875 2.027344 1.800781 C 2.132812 1.726562 2.222656 1.632812 2.296875 1.523438 C 2.320312 1.488281 2.402344 1.300781 2.542969 0.964844 C 2.683594 0.625 2.785156 0.375 2.851562 0.210938 L 0.144531 -7.320312 L 1.539062 -7.320312 L 3.5 -1.359375 Z M 5.476562 -7.320312 \"/>\n",
       "</symbol>\n",
       "<symbol overflow=\"visible\" id=\"glyph1-0\">\n",
       "<path style=\"stroke:none;\" d=\"M 0.578125 0 L 0.578125 -12.910156 L 10.828125 -12.910156 L 10.828125 0 Z M 9.210938 -1.617188 L 9.210938 -11.292969 L 2.195312 -11.292969 L 2.195312 -1.617188 Z M 9.210938 -1.617188 \"/>\n",
       "</symbol>\n",
       "<symbol overflow=\"visible\" id=\"glyph1-1\">\n",
       "<path style=\"stroke:none;\" d=\"M 1.722656 -8.914062 L 1.722656 -10.125 C 2.867188 -10.234375 3.664062 -10.421875 4.113281 -10.683594 C 4.5625 -10.945312 4.902344 -11.5625 5.125 -12.53125 L 6.371094 -12.53125 L 6.371094 0 L 4.683594 0 L 4.683594 -8.914062 Z M 1.722656 -8.914062 \"/>\n",
       "</symbol>\n",
       "<symbol overflow=\"visible\" id=\"glyph1-2\">\n",
       "<path style=\"stroke:none;\" d=\"M 4.867188 -12.585938 C 6.496094 -12.585938 7.675781 -11.914062 8.402344 -10.574219 C 8.964844 -9.535156 9.246094 -8.117188 9.246094 -6.3125 C 9.246094 -4.601562 8.992188 -3.183594 8.480469 -2.066406 C 7.742188 -0.460938 6.535156 0.34375 4.859375 0.34375 C 3.347656 0.34375 2.222656 -0.3125 1.484375 -1.625 C 0.871094 -2.722656 0.5625 -4.191406 0.5625 -6.039062 C 0.5625 -7.46875 0.746094 -8.695312 1.117188 -9.71875 C 1.808594 -11.628906 3.058594 -12.585938 4.867188 -12.585938 Z M 4.851562 -1.097656 C 5.671875 -1.097656 6.324219 -1.460938 6.8125 -2.1875 C 7.296875 -2.914062 7.539062 -4.269531 7.539062 -6.25 C 7.539062 -7.679688 7.367188 -8.855469 7.015625 -9.777344 C 6.664062 -10.699219 5.980469 -11.164062 4.964844 -11.164062 C 4.035156 -11.164062 3.351562 -10.722656 2.921875 -9.847656 C 2.492188 -8.972656 2.277344 -7.679688 2.277344 -5.976562 C 2.277344 -4.695312 2.414062 -3.664062 2.6875 -2.882812 C 3.109375 -1.695312 3.832031 -1.097656 4.851562 -1.097656 Z M 4.851562 -1.097656 \"/>\n",
       "</symbol>\n",
       "<symbol overflow=\"visible\" id=\"glyph1-3\">\n",
       "<path style=\"stroke:none;\" d=\"M 1.539062 -1.914062 L 3.375 -1.914062 L 3.375 0 L 1.539062 0 Z M 1.539062 -1.914062 \"/>\n",
       "</symbol>\n",
       "<symbol overflow=\"visible\" id=\"glyph1-4\">\n",
       "<path style=\"stroke:none;\" d=\"M 2.222656 -3.207031 C 2.328125 -2.304688 2.75 -1.679688 3.480469 -1.335938 C 3.855469 -1.160156 4.289062 -1.070312 4.78125 -1.070312 C 5.71875 -1.070312 6.414062 -1.371094 6.863281 -1.96875 C 7.316406 -2.566406 7.539062 -3.226562 7.539062 -3.953125 C 7.539062 -4.832031 7.273438 -5.515625 6.738281 -5.992188 C 6.203125 -6.472656 5.558594 -6.714844 4.808594 -6.714844 C 4.261719 -6.714844 3.796875 -6.609375 3.40625 -6.398438 C 3.015625 -6.1875 2.683594 -5.894531 2.40625 -5.519531 L 1.039062 -5.597656 L 1.996094 -12.375 L 8.535156 -12.375 L 8.535156 -10.84375 L 3.179688 -10.84375 L 2.644531 -7.347656 C 2.9375 -7.570312 3.21875 -7.738281 3.480469 -7.847656 C 3.949219 -8.042969 4.492188 -8.140625 5.105469 -8.140625 C 6.261719 -8.140625 7.238281 -7.765625 8.042969 -7.023438 C 8.84375 -6.277344 9.246094 -5.335938 9.246094 -4.191406 C 9.246094 -3.003906 8.878906 -1.953125 8.144531 -1.046875 C 7.40625 -0.136719 6.234375 0.316406 4.625 0.316406 C 3.597656 0.316406 2.691406 0.0273438 1.902344 -0.550781 C 1.113281 -1.125 0.671875 -2.011719 0.578125 -3.207031 Z M 2.222656 -3.207031 \"/>\n",
       "</symbol>\n",
       "<symbol overflow=\"visible\" id=\"glyph1-5\">\n",
       "<path style=\"stroke:none;\" d=\"M 4.894531 -7.3125 C 5.59375 -7.3125 6.136719 -7.507812 6.53125 -7.898438 C 6.921875 -8.289062 7.117188 -8.75 7.117188 -9.289062 C 7.117188 -9.757812 6.929688 -10.1875 6.554688 -10.582031 C 6.179688 -10.976562 5.609375 -11.171875 4.84375 -11.171875 C 4.082031 -11.171875 3.53125 -10.976562 3.191406 -10.582031 C 2.851562 -10.1875 2.679688 -9.730469 2.679688 -9.203125 C 2.679688 -8.609375 2.898438 -8.148438 3.339844 -7.8125 C 3.78125 -7.480469 4.296875 -7.3125 4.894531 -7.3125 Z M 4.992188 -1.082031 C 5.726562 -1.082031 6.332031 -1.277344 6.816406 -1.675781 C 7.300781 -2.070312 7.539062 -2.660156 7.539062 -3.445312 C 7.539062 -4.257812 7.292969 -4.878906 6.792969 -5.300781 C 6.296875 -5.722656 5.65625 -5.933594 4.878906 -5.933594 C 4.121094 -5.933594 3.503906 -5.71875 3.027344 -5.285156 C 2.550781 -4.855469 2.3125 -4.257812 2.3125 -3.5 C 2.3125 -2.84375 2.53125 -2.273438 2.964844 -1.796875 C 3.402344 -1.320312 4.078125 -1.082031 4.992188 -1.082031 Z M 2.742188 -6.707031 C 2.304688 -6.894531 1.960938 -7.113281 1.714844 -7.367188 C 1.25 -7.835938 1.019531 -8.445312 1.019531 -9.195312 C 1.019531 -10.132812 1.359375 -10.9375 2.039062 -11.609375 C 2.71875 -12.285156 3.683594 -12.621094 4.929688 -12.621094 C 6.136719 -12.621094 7.085938 -12.304688 7.769531 -11.667969 C 8.453125 -11.03125 8.796875 -10.289062 8.796875 -9.4375 C 8.796875 -8.652344 8.597656 -8.019531 8.199219 -7.53125 C 7.976562 -7.257812 7.632812 -6.988281 7.164062 -6.722656 C 7.683594 -6.484375 8.09375 -6.207031 8.394531 -5.898438 C 8.949219 -5.3125 9.226562 -4.550781 9.226562 -3.613281 C 9.226562 -2.503906 8.855469 -1.566406 8.113281 -0.796875 C 7.367188 -0.0234375 6.316406 0.359375 4.957031 0.359375 C 3.734375 0.359375 2.695312 0.0273438 1.851562 -0.636719 C 1.003906 -1.300781 0.578125 -2.265625 0.578125 -3.53125 C 0.578125 -4.277344 0.761719 -4.921875 1.125 -5.460938 C 1.488281 -6.003906 2.027344 -6.417969 2.742188 -6.707031 Z M 2.742188 -6.707031 \"/>\n",
       "</symbol>\n",
       "<symbol overflow=\"visible\" id=\"glyph1-6\">\n",
       "<path style=\"stroke:none;\" d=\"M 4.675781 0.34375 C 3.1875 0.34375 2.109375 -0.0664062 1.4375 -0.882812 C 0.765625 -1.699219 0.429688 -2.695312 0.429688 -3.867188 L 2.082031 -3.867188 C 2.152344 -3.054688 2.304688 -2.460938 2.539062 -2.09375 C 2.949219 -1.429688 3.691406 -1.097656 4.765625 -1.097656 C 5.597656 -1.097656 6.265625 -1.320312 6.765625 -1.765625 C 7.269531 -2.210938 7.523438 -2.785156 7.523438 -3.488281 C 7.523438 -4.355469 7.257812 -4.960938 6.726562 -5.308594 C 6.195312 -5.65625 5.460938 -5.828125 4.515625 -5.828125 C 4.410156 -5.828125 4.304688 -5.824219 4.195312 -5.824219 C 4.085938 -5.820312 3.976562 -5.816406 3.867188 -5.808594 L 3.867188 -7.207031 C 4.03125 -7.1875 4.167969 -7.179688 4.28125 -7.171875 C 4.390625 -7.164062 4.511719 -7.164062 4.640625 -7.164062 C 5.234375 -7.164062 5.71875 -7.257812 6.101562 -7.445312 C 6.769531 -7.773438 7.101562 -8.359375 7.101562 -9.203125 C 7.101562 -9.828125 6.878906 -10.3125 6.433594 -10.652344 C 5.988281 -10.992188 5.46875 -11.164062 4.878906 -11.164062 C 3.824219 -11.164062 3.09375 -10.8125 2.6875 -10.109375 C 2.464844 -9.722656 2.339844 -9.171875 2.3125 -8.453125 L 0.746094 -8.453125 C 0.746094 -9.390625 0.933594 -10.1875 1.308594 -10.84375 C 1.953125 -12.015625 3.085938 -12.601562 4.710938 -12.601562 C 5.992188 -12.601562 6.988281 -12.316406 7.691406 -11.746094 C 8.394531 -11.175781 8.746094 -10.347656 8.746094 -9.265625 C 8.746094 -8.492188 8.539062 -7.863281 8.121094 -7.382812 C 7.863281 -7.085938 7.53125 -6.851562 7.117188 -6.679688 C 7.78125 -6.5 8.296875 -6.148438 8.671875 -5.628906 C 9.042969 -5.109375 9.226562 -4.476562 9.226562 -3.726562 C 9.226562 -2.523438 8.832031 -1.546875 8.042969 -0.789062 C 7.25 -0.0351562 6.128906 0.34375 4.675781 0.34375 Z M 4.675781 0.34375 \"/>\n",
       "</symbol>\n",
       "<symbol overflow=\"visible\" id=\"glyph1-7\">\n",
       "<path style=\"stroke:none;\" d=\"M 5.265625 -12.640625 C 6.671875 -12.640625 7.652344 -12.273438 8.203125 -11.542969 C 8.757812 -10.8125 9.035156 -10.0625 9.035156 -9.289062 L 7.46875 -9.289062 C 7.375 -9.789062 7.226562 -10.179688 7.023438 -10.460938 C 6.640625 -10.988281 6.0625 -11.25 5.289062 -11.25 C 4.40625 -11.25 3.703125 -10.839844 3.179688 -10.023438 C 2.660156 -9.207031 2.371094 -8.035156 2.3125 -6.511719 C 2.675781 -7.046875 3.132812 -7.445312 3.683594 -7.707031 C 4.1875 -7.941406 4.75 -8.058594 5.371094 -8.058594 C 6.425781 -8.058594 7.34375 -7.722656 8.128906 -7.046875 C 8.914062 -6.375 9.308594 -5.371094 9.308594 -4.035156 C 9.308594 -2.890625 8.9375 -1.878906 8.191406 -0.996094 C 7.445312 -0.117188 6.386719 0.324219 5.007812 0.324219 C 3.832031 0.324219 2.816406 -0.121094 1.960938 -1.015625 C 1.105469 -1.910156 0.675781 -3.414062 0.675781 -5.527344 C 0.675781 -7.09375 0.867188 -8.421875 1.25 -9.507812 C 1.980469 -11.59375 3.320312 -12.640625 5.265625 -12.640625 Z M 5.148438 -1.082031 C 5.980469 -1.082031 6.605469 -1.359375 7.019531 -1.921875 C 7.429688 -2.480469 7.636719 -3.140625 7.636719 -3.902344 C 7.636719 -4.546875 7.453125 -5.160156 7.085938 -5.742188 C 6.714844 -6.328125 6.042969 -6.617188 5.070312 -6.617188 C 4.390625 -6.617188 3.796875 -6.390625 3.28125 -5.941406 C 2.769531 -5.492188 2.515625 -4.8125 2.515625 -3.902344 C 2.515625 -3.105469 2.746094 -2.4375 3.210938 -1.894531 C 3.679688 -1.351562 4.324219 -1.082031 5.148438 -1.082031 Z M 5.148438 -1.082031 \"/>\n",
       "</symbol>\n",
       "<symbol overflow=\"visible\" id=\"glyph1-8\">\n",
       "<path style=\"stroke:none;\" d=\"M 9.414062 -12.375 L 9.414062 -10.996094 C 9.007812 -10.601562 8.472656 -9.921875 7.800781 -8.945312 C 7.128906 -7.972656 6.535156 -6.925781 6.019531 -5.800781 C 5.511719 -4.703125 5.125 -3.707031 4.859375 -2.804688 C 4.691406 -2.222656 4.46875 -1.289062 4.203125 0 L 2.453125 0 C 2.851562 -2.402344 3.730469 -4.792969 5.089844 -7.171875 C 5.890625 -8.566406 6.734375 -9.769531 7.621094 -10.785156 L 0.660156 -10.785156 L 0.660156 -12.375 Z M 9.414062 -12.375 \"/>\n",
       "</symbol>\n",
       "</g>\n",
       "</defs>\n",
       "<g id=\"surface51\">\n",
       "<rect x=\"0\" y=\"0\" width=\"500\" height=\"500\" style=\"fill:rgb(100%,100%,100%);fill-opacity:1;stroke:none;\"/>\n",
       "<path style=\"fill:none;stroke-width:1;stroke-linecap:butt;stroke-linejoin:miter;stroke:rgb(26.666667%,26.666667%,26.666667%);stroke-opacity:1;stroke-miterlimit:10;\" d=\"M 333.714844 299.433594 L 442.726562 230.964844 \"/>\n",
       "<path style=\"fill:none;stroke-width:1;stroke-linecap:butt;stroke-linejoin:miter;stroke:rgb(26.666667%,26.666667%,26.666667%);stroke-opacity:1;stroke-miterlimit:10;\" d=\"M 333.714844 299.433594 L 153.449219 192.699219 \"/>\n",
       "<path style=\"fill:none;stroke-width:1;stroke-linecap:butt;stroke-linejoin:miter;stroke:rgb(26.666667%,26.666667%,26.666667%);stroke-opacity:1;stroke-miterlimit:10;\" d=\"M 153.449219 192.699219 L 43.171875 20 \"/>\n",
       "<path style=\"fill:none;stroke-width:1;stroke-linecap:butt;stroke-linejoin:miter;stroke:rgb(26.666667%,26.666667%,26.666667%);stroke-opacity:1;stroke-miterlimit:10;\" d=\"M 153.449219 192.699219 L 20 221.082031 \"/>\n",
       "<path style=\"fill:none;stroke-width:1;stroke-linecap:butt;stroke-linejoin:miter;stroke:rgb(26.666667%,26.666667%,26.666667%);stroke-opacity:1;stroke-miterlimit:10;\" d=\"M 43.171875 20 L 20 221.082031 \"/>\n",
       "<path style=\"fill:none;stroke-width:1;stroke-linecap:butt;stroke-linejoin:miter;stroke:rgb(26.666667%,26.666667%,26.666667%);stroke-opacity:1;stroke-miterlimit:10;\" d=\"M 442.726562 230.964844 L 414.027344 480 \"/>\n",
       "<path style=\"fill:none;stroke-width:1;stroke-linecap:butt;stroke-linejoin:miter;stroke:rgb(26.666667%,26.666667%,26.666667%);stroke-opacity:1;stroke-miterlimit:10;\" d=\"M 333.714844 299.433594 L 480 386.050781 \"/>\n",
       "<path style=\"fill:none;stroke-width:1;stroke-linecap:butt;stroke-linejoin:miter;stroke:rgb(26.666667%,26.666667%,26.666667%);stroke-opacity:1;stroke-miterlimit:10;\" d=\"M 333.714844 299.433594 L 414.027344 480 \"/>\n",
       "<path style=\"fill:none;stroke-width:1;stroke-linecap:butt;stroke-linejoin:miter;stroke:rgb(26.666667%,26.666667%,26.666667%);stroke-opacity:1;stroke-miterlimit:10;\" d=\"M 414.027344 480 L 480 386.050781 \"/>\n",
       "<path style=\"fill:none;stroke-width:1;stroke-linecap:butt;stroke-linejoin:miter;stroke:rgb(26.666667%,26.666667%,26.666667%);stroke-opacity:1;stroke-miterlimit:10;\" d=\"M 442.726562 230.964844 L 480 386.050781 \"/>\n",
       "<path style=\"fill-rule:nonzero;fill:rgb(100%,0%,0%);fill-opacity:1;stroke-width:1;stroke-linecap:butt;stroke-linejoin:miter;stroke:rgb(0%,0%,0%);stroke-opacity:1;stroke-miterlimit:10;\" d=\"M 343.714844 299.433594 C 343.714844 304.957031 339.238281 309.433594 333.714844 309.433594 C 328.195312 309.433594 323.714844 304.957031 323.714844 299.433594 C 323.714844 293.910156 328.195312 289.433594 333.714844 289.433594 C 339.238281 289.433594 343.714844 293.910156 343.714844 299.433594 \"/>\n",
       "<path style=\"fill-rule:nonzero;fill:rgb(0%,100%,0%);fill-opacity:1;stroke-width:1;stroke-linecap:butt;stroke-linejoin:miter;stroke:rgb(0%,0%,0%);stroke-opacity:1;stroke-miterlimit:10;\" d=\"M 452.726562 230.964844 C 452.726562 236.488281 448.25 240.964844 442.726562 240.964844 C 437.203125 240.964844 432.726562 236.488281 432.726562 230.964844 C 432.726562 225.441406 437.203125 220.964844 442.726562 220.964844 C 448.25 220.964844 452.726562 225.441406 452.726562 230.964844 \"/>\n",
       "<path style=\"fill-rule:nonzero;fill:rgb(0%,0%,100%);fill-opacity:1;stroke-width:1;stroke-linecap:butt;stroke-linejoin:miter;stroke:rgb(0%,0%,0%);stroke-opacity:1;stroke-miterlimit:10;\" d=\"M 163.449219 192.699219 C 163.449219 198.21875 158.972656 202.699219 153.449219 202.699219 C 147.925781 202.699219 143.449219 198.21875 143.449219 192.699219 C 143.449219 187.175781 147.925781 182.699219 153.449219 182.699219 C 158.972656 182.699219 163.449219 187.175781 163.449219 192.699219 \"/>\n",
       "<path style=\"fill-rule:nonzero;fill:rgb(100%,100%,0%);fill-opacity:1;stroke-width:1;stroke-linecap:butt;stroke-linejoin:miter;stroke:rgb(0%,0%,0%);stroke-opacity:1;stroke-miterlimit:10;\" d=\"M 53.171875 20 C 53.171875 25.523438 48.695312 30 43.171875 30 C 37.652344 30 33.171875 25.523438 33.171875 20 C 33.171875 14.476562 37.652344 10 43.171875 10 C 48.695312 10 53.171875 14.476562 53.171875 20 \"/>\n",
       "<path style=\"fill-rule:nonzero;fill:rgb(62.745098%,12.54902%,94.117647%);fill-opacity:1;stroke-width:1;stroke-linecap:butt;stroke-linejoin:miter;stroke:rgb(0%,0%,0%);stroke-opacity:1;stroke-miterlimit:10;\" d=\"M 30 221.082031 C 30 226.605469 25.523438 231.082031 20 231.082031 C 14.476562 231.082031 10 226.605469 10 221.082031 C 10 215.558594 14.476562 211.082031 20 211.082031 C 25.523438 211.082031 30 215.558594 30 221.082031 \"/>\n",
       "<path style=\"fill-rule:nonzero;fill:rgb(100%,64.705882%,0%);fill-opacity:1;stroke-width:1;stroke-linecap:butt;stroke-linejoin:miter;stroke:rgb(0%,0%,0%);stroke-opacity:1;stroke-miterlimit:10;\" d=\"M 424.027344 480 C 424.027344 485.523438 419.550781 490 414.027344 490 C 408.503906 490 404.027344 485.523438 404.027344 480 C 404.027344 474.476562 408.503906 470 414.027344 470 C 419.550781 470 424.027344 474.476562 424.027344 480 \"/>\n",
       "<path style=\"fill-rule:nonzero;fill:rgb(100%,75.294118%,79.607843%);fill-opacity:1;stroke-width:1;stroke-linecap:butt;stroke-linejoin:miter;stroke:rgb(0%,0%,0%);stroke-opacity:1;stroke-miterlimit:10;\" d=\"M 490 386.050781 C 490 391.570312 485.523438 396.050781 480 396.050781 C 474.476562 396.050781 470 391.570312 470 386.050781 C 470 380.527344 474.476562 376.050781 480 376.050781 C 485.523438 376.050781 490 380.527344 490 386.050781 \"/>\n",
       "<g style=\"fill:rgb(0%,0%,0%);fill-opacity:1;\">\n",
       "  <use xlink:href=\"#glyph0-1\" x=\"313.003906\" y=\"306.082031\"/>\n",
       "  <use xlink:href=\"#glyph0-2\" x=\"323.114258\" y=\"306.082031\"/>\n",
       "  <use xlink:href=\"#glyph0-3\" x=\"330.900391\" y=\"306.082031\"/>\n",
       "  <use xlink:href=\"#glyph0-4\" x=\"335.5625\" y=\"306.082031\"/>\n",
       "  <use xlink:href=\"#glyph0-5\" x=\"343.348633\" y=\"306.082031\"/>\n",
       "  <use xlink:href=\"#glyph0-6\" x=\"346.458984\" y=\"306.082031\"/>\n",
       "</g>\n",
       "<g style=\"fill:rgb(0%,0%,0%);fill-opacity:1;\">\n",
       "  <use xlink:href=\"#glyph0-7\" x=\"432.960938\" y=\"237.597656\"/>\n",
       "  <use xlink:href=\"#glyph0-3\" x=\"436.850586\" y=\"237.597656\"/>\n",
       "  <use xlink:href=\"#glyph0-8\" x=\"441.512695\" y=\"237.597656\"/>\n",
       "  <use xlink:href=\"#glyph0-9\" x=\"444.623047\" y=\"237.597656\"/>\n",
       "</g>\n",
       "<g style=\"fill:rgb(0%,0%,0%);fill-opacity:1;\">\n",
       "  <use xlink:href=\"#glyph0-10\" x=\"138.964844\" y=\"199.328125\"/>\n",
       "  <use xlink:href=\"#glyph0-2\" x=\"145.964844\" y=\"199.328125\"/>\n",
       "  <use xlink:href=\"#glyph0-11\" x=\"153.750977\" y=\"199.328125\"/>\n",
       "  <use xlink:href=\"#glyph0-12\" x=\"160.750977\" y=\"199.328125\"/>\n",
       "</g>\n",
       "<g style=\"fill:rgb(0%,0%,0%);fill-opacity:1;\">\n",
       "  <use xlink:href=\"#glyph0-13\" x=\"24.417969\" y=\"26.632812\"/>\n",
       "  <use xlink:href=\"#glyph0-2\" x=\"33.755859\" y=\"26.632812\"/>\n",
       "  <use xlink:href=\"#glyph0-3\" x=\"41.541992\" y=\"26.632812\"/>\n",
       "  <use xlink:href=\"#glyph0-14\" x=\"46.204102\" y=\"26.632812\"/>\n",
       "  <use xlink:href=\"#glyph0-15\" x=\"53.990234\" y=\"26.632812\"/>\n",
       "</g>\n",
       "<g style=\"fill:rgb(0%,0%,0%);fill-opacity:1;\">\n",
       "  <use xlink:href=\"#glyph0-16\" x=\"8.066406\" y=\"227.714844\"/>\n",
       "  <use xlink:href=\"#glyph0-14\" x=\"15.852539\" y=\"227.714844\"/>\n",
       "  <use xlink:href=\"#glyph0-4\" x=\"23.638672\" y=\"227.714844\"/>\n",
       "</g>\n",
       "<g style=\"fill:rgb(0%,0%,0%);fill-opacity:1;\">\n",
       "  <use xlink:href=\"#glyph0-17\" x=\"397.257812\" y=\"486.632812\"/>\n",
       "  <use xlink:href=\"#glyph0-4\" x=\"408.919922\" y=\"486.632812\"/>\n",
       "  <use xlink:href=\"#glyph0-5\" x=\"416.706055\" y=\"486.632812\"/>\n",
       "  <use xlink:href=\"#glyph0-5\" x=\"419.816406\" y=\"486.632812\"/>\n",
       "  <use xlink:href=\"#glyph0-18\" x=\"422.926758\" y=\"486.632812\"/>\n",
       "</g>\n",
       "<g style=\"fill:rgb(0%,0%,0%);fill-opacity:1;\">\n",
       "  <use xlink:href=\"#glyph0-17\" x=\"465.007812\" y=\"392.679688\"/>\n",
       "  <use xlink:href=\"#glyph0-8\" x=\"476.669922\" y=\"392.679688\"/>\n",
       "  <use xlink:href=\"#glyph0-12\" x=\"479.780273\" y=\"392.679688\"/>\n",
       "  <use xlink:href=\"#glyph0-14\" x=\"486.780273\" y=\"392.679688\"/>\n",
       "</g>\n",
       "<g style=\"fill:rgb(0%,0%,0%);fill-opacity:1;\">\n",
       "  <use xlink:href=\"#glyph1-1\" x=\"381.847656\" y=\"264.398438\"/>\n",
       "</g>\n",
       "<g style=\"fill:rgb(0%,0%,0%);fill-opacity:1;\">\n",
       "  <use xlink:href=\"#glyph1-2\" x=\"219.324219\" y=\"264.066406\"/>\n",
       "  <use xlink:href=\"#glyph1-3\" x=\"229.334961\" y=\"264.066406\"/>\n",
       "  <use xlink:href=\"#glyph1-4\" x=\"234.335938\" y=\"264.066406\"/>\n",
       "</g>\n",
       "<g style=\"fill:rgb(0%,0%,0%);fill-opacity:1;\">\n",
       "  <use xlink:href=\"#glyph1-1\" x=\"91.941406\" y=\"118.082031\"/>\n",
       "</g>\n",
       "<g style=\"fill:rgb(0%,0%,0%);fill-opacity:1;\">\n",
       "  <use xlink:href=\"#glyph1-2\" x=\"86.164062\" y=\"224.890625\"/>\n",
       "  <use xlink:href=\"#glyph1-3\" x=\"96.174805\" y=\"224.890625\"/>\n",
       "  <use xlink:href=\"#glyph1-4\" x=\"101.175781\" y=\"224.890625\"/>\n",
       "</g>\n",
       "<g style=\"fill:rgb(0%,0%,0%);fill-opacity:1;\">\n",
       "  <use xlink:href=\"#glyph1-2\" x=\"31.023438\" y=\"132.050781\"/>\n",
       "  <use xlink:href=\"#glyph1-3\" x=\"41.03418\" y=\"132.050781\"/>\n",
       "  <use xlink:href=\"#glyph1-5\" x=\"46.035156\" y=\"132.050781\"/>\n",
       "</g>\n",
       "<g style=\"fill:rgb(0%,0%,0%);fill-opacity:1;\">\n",
       "  <use xlink:href=\"#glyph1-2\" x=\"427.8125\" y=\"367.007812\"/>\n",
       "  <use xlink:href=\"#glyph1-3\" x=\"437.823242\" y=\"367.007812\"/>\n",
       "  <use xlink:href=\"#glyph1-6\" x=\"442.824219\" y=\"367.007812\"/>\n",
       "</g>\n",
       "<g style=\"fill:rgb(0%,0%,0%);fill-opacity:1;\">\n",
       "  <use xlink:href=\"#glyph1-2\" x=\"406.296875\" y=\"341.441406\"/>\n",
       "  <use xlink:href=\"#glyph1-3\" x=\"416.307617\" y=\"341.441406\"/>\n",
       "  <use xlink:href=\"#glyph1-7\" x=\"421.308594\" y=\"341.441406\"/>\n",
       "</g>\n",
       "<g style=\"fill:rgb(0%,0%,0%);fill-opacity:1;\">\n",
       "  <use xlink:href=\"#glyph1-2\" x=\"373.308594\" y=\"401.253906\"/>\n",
       "  <use xlink:href=\"#glyph1-3\" x=\"383.319336\" y=\"401.253906\"/>\n",
       "  <use xlink:href=\"#glyph1-8\" x=\"388.320312\" y=\"401.253906\"/>\n",
       "</g>\n",
       "<g style=\"fill:rgb(0%,0%,0%);fill-opacity:1;\">\n",
       "  <use xlink:href=\"#glyph1-2\" x=\"422.773438\" y=\"444.535156\"/>\n",
       "  <use xlink:href=\"#glyph1-3\" x=\"432.78418\" y=\"444.535156\"/>\n",
       "  <use xlink:href=\"#glyph1-5\" x=\"437.785156\" y=\"444.535156\"/>\n",
       "</g>\n",
       "<g style=\"fill:rgb(0%,0%,0%);fill-opacity:1;\">\n",
       "  <use xlink:href=\"#glyph1-1\" x=\"459.640625\" y=\"320.242188\"/>\n",
       "</g>\n",
       "</g>\n",
       "</svg>\n"
      ],
      "text/plain": [
       "<igraph.drawing.cairo.plot.CairoPlot at 0x1205a2ed0>"
      ]
     },
     "execution_count": 23,
     "metadata": {
      "image/svg+xml": {
       "isolated": true
      }
     },
     "output_type": "execute_result"
    }
   ],
   "source": [
    "ig.plot(\n",
    "    g, \"output.png\", \n",
    "    layout=layout, \n",
    "    vertex_label=g.vs[\"name\"], \n",
    "    edge_label=g.es[\"weight\"], \n",
    "    bbox=(500,500)\n",
    ")"
   ]
  },
  {
   "cell_type": "code",
   "execution_count": 24,
   "metadata": {},
   "outputs": [
    {
     "data": {
      "image/svg+xml": [
       "<?xml version=\"1.0\" encoding=\"UTF-8\"?>\n",
       "<svg xmlns=\"http://www.w3.org/2000/svg\" xmlns:xlink=\"http://www.w3.org/1999/xlink\" width=\"600pt\" height=\"600pt\" viewBox=\"0 0 600 600\" version=\"1.1\">\n",
       "<g id=\"surface57\">\n",
       "<rect x=\"0\" y=\"0\" width=\"600\" height=\"600\" style=\"fill:rgb(100%,100%,100%);fill-opacity:1;stroke:none;\"/>\n",
       "<path style=\"fill:none;stroke-width:1;stroke-linecap:butt;stroke-linejoin:miter;stroke:rgb(26.666667%,26.666667%,26.666667%);stroke-opacity:1;stroke-miterlimit:10;\" d=\"M 209.101562 416.570312 L 20 488.394531 \"/>\n",
       "<path style=\"fill:none;stroke-width:1;stroke-linecap:butt;stroke-linejoin:miter;stroke:rgb(26.666667%,26.666667%,26.666667%);stroke-opacity:1;stroke-miterlimit:10;\" d=\"M 209.101562 416.570312 L 377.59375 170.574219 \"/>\n",
       "<path style=\"fill:none;stroke-width:1;stroke-linecap:butt;stroke-linejoin:miter;stroke:rgb(26.666667%,26.666667%,26.666667%);stroke-opacity:1;stroke-miterlimit:10;\" d=\"M 209.101562 416.570312 L 268.660156 566.074219 \"/>\n",
       "<path style=\"fill:none;stroke-width:1;stroke-linecap:butt;stroke-linejoin:miter;stroke:rgb(26.666667%,26.666667%,26.666667%);stroke-opacity:1;stroke-miterlimit:10;\" d=\"M 209.101562 416.570312 L 85.535156 580 \"/>\n",
       "<path style=\"fill:none;stroke-width:1;stroke-linecap:butt;stroke-linejoin:miter;stroke:rgb(26.666667%,26.666667%,26.666667%);stroke-opacity:1;stroke-miterlimit:10;\" d=\"M 20 488.394531 L 268.660156 566.074219 \"/>\n",
       "<path style=\"fill:none;stroke-width:1;stroke-linecap:butt;stroke-linejoin:miter;stroke:rgb(26.666667%,26.666667%,26.666667%);stroke-opacity:1;stroke-miterlimit:10;\" d=\"M 20 488.394531 L 85.535156 580 \"/>\n",
       "<path style=\"fill:none;stroke-width:1;stroke-linecap:butt;stroke-linejoin:miter;stroke:rgb(26.666667%,26.666667%,26.666667%);stroke-opacity:1;stroke-miterlimit:10;\" d=\"M 377.59375 170.574219 L 391.339844 30.863281 \"/>\n",
       "<path style=\"fill:none;stroke-width:1;stroke-linecap:butt;stroke-linejoin:miter;stroke:rgb(26.666667%,26.666667%,26.666667%);stroke-opacity:1;stroke-miterlimit:10;\" d=\"M 377.59375 170.574219 L 580 20 \"/>\n",
       "<path style=\"fill:none;stroke-width:1;stroke-linecap:butt;stroke-linejoin:miter;stroke:rgb(26.666667%,26.666667%,26.666667%);stroke-opacity:1;stroke-miterlimit:10;\" d=\"M 391.339844 30.863281 L 580 20 \"/>\n",
       "<path style=\"fill:none;stroke-width:1;stroke-linecap:butt;stroke-linejoin:miter;stroke:rgb(26.666667%,26.666667%,26.666667%);stroke-opacity:1;stroke-miterlimit:10;\" d=\"M 268.660156 566.074219 L 85.535156 580 \"/>\n",
       "<path style=\"fill-rule:nonzero;fill:rgb(100%,0%,0%);fill-opacity:1;stroke-width:1;stroke-linecap:butt;stroke-linejoin:miter;stroke:rgb(0%,0%,0%);stroke-opacity:1;stroke-miterlimit:10;\" d=\"M 219.101562 416.570312 C 219.101562 422.09375 214.625 426.570312 209.101562 426.570312 C 203.578125 426.570312 199.101562 422.09375 199.101562 416.570312 C 199.101562 411.046875 203.578125 406.570312 209.101562 406.570312 C 214.625 406.570312 219.101562 411.046875 219.101562 416.570312 \"/>\n",
       "<path style=\"fill-rule:nonzero;fill:rgb(100%,0%,0%);fill-opacity:1;stroke-width:1;stroke-linecap:butt;stroke-linejoin:miter;stroke:rgb(0%,0%,0%);stroke-opacity:1;stroke-miterlimit:10;\" d=\"M 30 488.394531 C 30 493.917969 25.523438 498.394531 20 498.394531 C 14.476562 498.394531 10 493.917969 10 488.394531 C 10 482.871094 14.476562 478.394531 20 478.394531 C 25.523438 478.394531 30 482.871094 30 488.394531 \"/>\n",
       "<path style=\"fill-rule:nonzero;fill:rgb(100%,0%,0%);fill-opacity:1;stroke-width:1;stroke-linecap:butt;stroke-linejoin:miter;stroke:rgb(0%,0%,0%);stroke-opacity:1;stroke-miterlimit:10;\" d=\"M 387.59375 170.574219 C 387.59375 176.097656 383.113281 180.574219 377.59375 180.574219 C 372.070312 180.574219 367.59375 176.097656 367.59375 170.574219 C 367.59375 165.050781 372.070312 160.574219 377.59375 160.574219 C 383.113281 160.574219 387.59375 165.050781 387.59375 170.574219 \"/>\n",
       "<path style=\"fill-rule:nonzero;fill:rgb(100%,0%,0%);fill-opacity:1;stroke-width:1;stroke-linecap:butt;stroke-linejoin:miter;stroke:rgb(0%,0%,0%);stroke-opacity:1;stroke-miterlimit:10;\" d=\"M 401.339844 30.863281 C 401.339844 36.382812 396.863281 40.863281 391.339844 40.863281 C 385.816406 40.863281 381.339844 36.382812 381.339844 30.863281 C 381.339844 25.339844 385.816406 20.863281 391.339844 20.863281 C 396.863281 20.863281 401.339844 25.339844 401.339844 30.863281 \"/>\n",
       "<path style=\"fill-rule:nonzero;fill:rgb(100%,0%,0%);fill-opacity:1;stroke-width:1;stroke-linecap:butt;stroke-linejoin:miter;stroke:rgb(0%,0%,0%);stroke-opacity:1;stroke-miterlimit:10;\" d=\"M 590 20 C 590 25.523438 585.523438 30 580 30 C 574.476562 30 570 25.523438 570 20 C 570 14.476562 574.476562 10 580 10 C 585.523438 10 590 14.476562 590 20 \"/>\n",
       "<path style=\"fill-rule:nonzero;fill:rgb(100%,0%,0%);fill-opacity:1;stroke-width:1;stroke-linecap:butt;stroke-linejoin:miter;stroke:rgb(0%,0%,0%);stroke-opacity:1;stroke-miterlimit:10;\" d=\"M 278.660156 566.074219 C 278.660156 571.597656 274.183594 576.074219 268.660156 576.074219 C 263.136719 576.074219 258.660156 571.597656 258.660156 566.074219 C 258.660156 560.550781 263.136719 556.074219 268.660156 556.074219 C 274.183594 556.074219 278.660156 560.550781 278.660156 566.074219 \"/>\n",
       "<path style=\"fill-rule:nonzero;fill:rgb(100%,0%,0%);fill-opacity:1;stroke-width:1;stroke-linecap:butt;stroke-linejoin:miter;stroke:rgb(0%,0%,0%);stroke-opacity:1;stroke-miterlimit:10;\" d=\"M 95.535156 580 C 95.535156 585.523438 91.058594 590 85.535156 590 C 80.011719 590 75.535156 585.523438 75.535156 580 C 75.535156 574.476562 80.011719 570 85.535156 570 C 91.058594 570 95.535156 574.476562 95.535156 580 \"/>\n",
       "</g>\n",
       "</svg>\n"
      ],
      "text/plain": [
       "<igraph.drawing.cairo.plot.CairoPlot at 0x1210eefd0>"
      ]
     },
     "execution_count": 24,
     "metadata": {
      "image/svg+xml": {
       "isolated": true
      }
     },
     "output_type": "execute_result"
    }
   ],
   "source": [
    "# We can create graph from adjacency matrix ! \n",
    "graph_1 = ig.Graph.Weighted_Adjacency(weight_adj.to_numpy(), mode='undirected')\n",
    "\n",
    "layout = graph_1.layout(\"fruchterman_reingold\", weights='weight')\n",
    "ig.plot(graph_1, layout=layout)"
   ]
  },
  {
   "attachments": {},
   "cell_type": "markdown",
   "metadata": {},
   "source": [
    "### Graph layouts"
   ]
  },
  {
   "cell_type": "code",
   "execution_count": 26,
   "metadata": {},
   "outputs": [
    {
     "data": {
      "image/svg+xml": [
       "<?xml version=\"1.0\" encoding=\"UTF-8\"?>\n",
       "<svg xmlns=\"http://www.w3.org/2000/svg\" xmlns:xlink=\"http://www.w3.org/1999/xlink\" width=\"600pt\" height=\"600pt\" viewBox=\"0 0 600 600\" version=\"1.1\">\n",
       "<g id=\"surface69\">\n",
       "<rect x=\"0\" y=\"0\" width=\"600\" height=\"600\" style=\"fill:rgb(100%,100%,100%);fill-opacity:1;stroke:none;\"/>\n",
       "<path style=\"fill:none;stroke-width:1;stroke-linecap:butt;stroke-linejoin:miter;stroke:rgb(26.666667%,26.666667%,26.666667%);stroke-opacity:1;stroke-miterlimit:10;\" d=\"M 222.335938 404.074219 L 20 492.046875 \"/>\n",
       "<path style=\"fill:none;stroke-width:1;stroke-linecap:butt;stroke-linejoin:miter;stroke:rgb(26.666667%,26.666667%,26.666667%);stroke-opacity:1;stroke-miterlimit:10;\" d=\"M 222.335938 404.074219 L 377.660156 187.203125 \"/>\n",
       "<path style=\"fill:none;stroke-width:1;stroke-linecap:butt;stroke-linejoin:miter;stroke:rgb(26.666667%,26.666667%,26.666667%);stroke-opacity:1;stroke-miterlimit:10;\" d=\"M 377.660156 187.203125 L 580 61.695312 \"/>\n",
       "<path style=\"fill:none;stroke-width:1;stroke-linecap:butt;stroke-linejoin:miter;stroke:rgb(26.666667%,26.666667%,26.666667%);stroke-opacity:1;stroke-miterlimit:10;\" d=\"M 377.660156 187.203125 L 384.960938 20 \"/>\n",
       "<path style=\"fill:none;stroke-width:1;stroke-linecap:butt;stroke-linejoin:miter;stroke:rgb(26.666667%,26.666667%,26.666667%);stroke-opacity:1;stroke-miterlimit:10;\" d=\"M 580 61.695312 L 384.960938 20 \"/>\n",
       "<path style=\"fill:none;stroke-width:1;stroke-linecap:butt;stroke-linejoin:miter;stroke:rgb(26.666667%,26.666667%,26.666667%);stroke-opacity:1;stroke-miterlimit:10;\" d=\"M 20 492.046875 L 261.652344 543.707031 \"/>\n",
       "<path style=\"fill:none;stroke-width:1;stroke-linecap:butt;stroke-linejoin:miter;stroke:rgb(26.666667%,26.666667%,26.666667%);stroke-opacity:1;stroke-miterlimit:10;\" d=\"M 222.335938 404.074219 L 96.335938 580 \"/>\n",
       "<path style=\"fill:none;stroke-width:1;stroke-linecap:butt;stroke-linejoin:miter;stroke:rgb(26.666667%,26.666667%,26.666667%);stroke-opacity:1;stroke-miterlimit:10;\" d=\"M 222.335938 404.074219 L 261.652344 543.707031 \"/>\n",
       "<path style=\"fill:none;stroke-width:1;stroke-linecap:butt;stroke-linejoin:miter;stroke:rgb(26.666667%,26.666667%,26.666667%);stroke-opacity:1;stroke-miterlimit:10;\" d=\"M 261.652344 543.707031 L 96.335938 580 \"/>\n",
       "<path style=\"fill:none;stroke-width:1;stroke-linecap:butt;stroke-linejoin:miter;stroke:rgb(26.666667%,26.666667%,26.666667%);stroke-opacity:1;stroke-miterlimit:10;\" d=\"M 20 492.046875 L 96.335938 580 \"/>\n",
       "<path style=\"fill-rule:nonzero;fill:rgb(100%,0%,0%);fill-opacity:1;stroke-width:1;stroke-linecap:butt;stroke-linejoin:miter;stroke:rgb(0%,0%,0%);stroke-opacity:1;stroke-miterlimit:10;\" d=\"M 232.335938 404.074219 C 232.335938 409.597656 227.855469 414.074219 222.335938 414.074219 C 216.8125 414.074219 212.335938 409.597656 212.335938 404.074219 C 212.335938 398.550781 216.8125 394.074219 222.335938 394.074219 C 227.855469 394.074219 232.335938 398.550781 232.335938 404.074219 \"/>\n",
       "<path style=\"fill-rule:nonzero;fill:rgb(0%,100%,0%);fill-opacity:1;stroke-width:1;stroke-linecap:butt;stroke-linejoin:miter;stroke:rgb(0%,0%,0%);stroke-opacity:1;stroke-miterlimit:10;\" d=\"M 30 492.046875 C 30 497.570312 25.523438 502.046875 20 502.046875 C 14.476562 502.046875 10 497.570312 10 492.046875 C 10 486.527344 14.476562 482.046875 20 482.046875 C 25.523438 482.046875 30 486.527344 30 492.046875 \"/>\n",
       "<path style=\"fill-rule:nonzero;fill:rgb(0%,0%,100%);fill-opacity:1;stroke-width:1;stroke-linecap:butt;stroke-linejoin:miter;stroke:rgb(0%,0%,0%);stroke-opacity:1;stroke-miterlimit:10;\" d=\"M 387.660156 187.203125 C 387.660156 192.726562 383.183594 197.203125 377.660156 197.203125 C 372.136719 197.203125 367.660156 192.726562 367.660156 187.203125 C 367.660156 181.679688 372.136719 177.203125 377.660156 177.203125 C 383.183594 177.203125 387.660156 181.679688 387.660156 187.203125 \"/>\n",
       "<path style=\"fill-rule:nonzero;fill:rgb(100%,100%,0%);fill-opacity:1;stroke-width:1;stroke-linecap:butt;stroke-linejoin:miter;stroke:rgb(0%,0%,0%);stroke-opacity:1;stroke-miterlimit:10;\" d=\"M 590 61.695312 C 590 67.21875 585.523438 71.695312 580 71.695312 C 574.476562 71.695312 570 67.21875 570 61.695312 C 570 56.171875 574.476562 51.695312 580 51.695312 C 585.523438 51.695312 590 56.171875 590 61.695312 \"/>\n",
       "<path style=\"fill-rule:nonzero;fill:rgb(62.745098%,12.54902%,94.117647%);fill-opacity:1;stroke-width:1;stroke-linecap:butt;stroke-linejoin:miter;stroke:rgb(0%,0%,0%);stroke-opacity:1;stroke-miterlimit:10;\" d=\"M 394.960938 20 C 394.960938 25.523438 390.480469 30 384.960938 30 C 379.4375 30 374.960938 25.523438 374.960938 20 C 374.960938 14.476562 379.4375 10 384.960938 10 C 390.480469 10 394.960938 14.476562 394.960938 20 \"/>\n",
       "<path style=\"fill-rule:nonzero;fill:rgb(100%,64.705882%,0%);fill-opacity:1;stroke-width:1;stroke-linecap:butt;stroke-linejoin:miter;stroke:rgb(0%,0%,0%);stroke-opacity:1;stroke-miterlimit:10;\" d=\"M 271.652344 543.707031 C 271.652344 549.230469 267.175781 553.707031 261.652344 553.707031 C 256.128906 553.707031 251.652344 549.230469 251.652344 543.707031 C 251.652344 538.183594 256.128906 533.707031 261.652344 533.707031 C 267.175781 533.707031 271.652344 538.183594 271.652344 543.707031 \"/>\n",
       "<path style=\"fill-rule:nonzero;fill:rgb(100%,75.294118%,79.607843%);fill-opacity:1;stroke-width:1;stroke-linecap:butt;stroke-linejoin:miter;stroke:rgb(0%,0%,0%);stroke-opacity:1;stroke-miterlimit:10;\" d=\"M 106.335938 580 C 106.335938 585.523438 101.855469 590 96.335938 590 C 90.8125 590 86.335938 585.523438 86.335938 580 C 86.335938 574.476562 90.8125 570 96.335938 570 C 101.855469 570 106.335938 574.476562 106.335938 580 \"/>\n",
       "</g>\n",
       "</svg>\n"
      ],
      "text/plain": [
       "<igraph.drawing.cairo.plot.CairoPlot at 0x121c6d610>"
      ]
     },
     "execution_count": 26,
     "metadata": {
      "image/svg+xml": {
       "isolated": true
      }
     },
     "output_type": "execute_result"
    }
   ],
   "source": [
    "layout = g.layout(\"fruchterman_reingold\")\n",
    "ig.plot(g, layout=layout)"
   ]
  },
  {
   "cell_type": "code",
   "execution_count": 27,
   "metadata": {},
   "outputs": [
    {
     "data": {
      "image/svg+xml": [
       "<?xml version=\"1.0\" encoding=\"UTF-8\"?>\n",
       "<svg xmlns=\"http://www.w3.org/2000/svg\" xmlns:xlink=\"http://www.w3.org/1999/xlink\" width=\"600pt\" height=\"600pt\" viewBox=\"0 0 600 600\" version=\"1.1\">\n",
       "<g id=\"surface75\">\n",
       "<rect x=\"0\" y=\"0\" width=\"600\" height=\"600\" style=\"fill:rgb(100%,100%,100%);fill-opacity:1;stroke:none;\"/>\n",
       "<path style=\"fill:none;stroke-width:1;stroke-linecap:butt;stroke-linejoin:miter;stroke:rgb(26.666667%,26.666667%,26.666667%);stroke-opacity:1;stroke-miterlimit:10;\" d=\"M 469.269531 251.792969 L 481.988281 580 \"/>\n",
       "<path style=\"fill:none;stroke-width:1;stroke-linecap:butt;stroke-linejoin:miter;stroke:rgb(26.666667%,26.666667%,26.666667%);stroke-opacity:1;stroke-miterlimit:10;\" d=\"M 469.269531 251.792969 L 189.902344 242.753906 \"/>\n",
       "<path style=\"fill:none;stroke-width:1;stroke-linecap:butt;stroke-linejoin:miter;stroke:rgb(26.666667%,26.666667%,26.666667%);stroke-opacity:1;stroke-miterlimit:10;\" d=\"M 189.902344 242.753906 L 20 150.785156 \"/>\n",
       "<path style=\"fill:none;stroke-width:1;stroke-linecap:butt;stroke-linejoin:miter;stroke:rgb(26.666667%,26.666667%,26.666667%);stroke-opacity:1;stroke-miterlimit:10;\" d=\"M 189.902344 242.753906 L 160.429688 20 \"/>\n",
       "<path style=\"fill:none;stroke-width:1;stroke-linecap:butt;stroke-linejoin:miter;stroke:rgb(26.666667%,26.666667%,26.666667%);stroke-opacity:1;stroke-miterlimit:10;\" d=\"M 20 150.785156 L 160.429688 20 \"/>\n",
       "<path style=\"fill:none;stroke-width:1;stroke-linecap:butt;stroke-linejoin:miter;stroke:rgb(26.666667%,26.666667%,26.666667%);stroke-opacity:1;stroke-miterlimit:10;\" d=\"M 481.988281 580 L 386.636719 437.660156 \"/>\n",
       "<path style=\"fill:none;stroke-width:1;stroke-linecap:butt;stroke-linejoin:miter;stroke:rgb(26.666667%,26.666667%,26.666667%);stroke-opacity:1;stroke-miterlimit:10;\" d=\"M 469.269531 251.792969 L 580 428.859375 \"/>\n",
       "<path style=\"fill:none;stroke-width:1;stroke-linecap:butt;stroke-linejoin:miter;stroke:rgb(26.666667%,26.666667%,26.666667%);stroke-opacity:1;stroke-miterlimit:10;\" d=\"M 469.269531 251.792969 L 386.636719 437.660156 \"/>\n",
       "<path style=\"fill:none;stroke-width:1;stroke-linecap:butt;stroke-linejoin:miter;stroke:rgb(26.666667%,26.666667%,26.666667%);stroke-opacity:1;stroke-miterlimit:10;\" d=\"M 386.636719 437.660156 L 580 428.859375 \"/>\n",
       "<path style=\"fill:none;stroke-width:1;stroke-linecap:butt;stroke-linejoin:miter;stroke:rgb(26.666667%,26.666667%,26.666667%);stroke-opacity:1;stroke-miterlimit:10;\" d=\"M 481.988281 580 L 580 428.859375 \"/>\n",
       "<path style=\"fill-rule:nonzero;fill:rgb(100%,0%,0%);fill-opacity:1;stroke-width:1;stroke-linecap:butt;stroke-linejoin:miter;stroke:rgb(0%,0%,0%);stroke-opacity:1;stroke-miterlimit:10;\" d=\"M 479.269531 251.792969 C 479.269531 257.316406 474.792969 261.792969 469.269531 261.792969 C 463.746094 261.792969 459.269531 257.316406 459.269531 251.792969 C 459.269531 246.269531 463.746094 241.792969 469.269531 241.792969 C 474.792969 241.792969 479.269531 246.269531 479.269531 251.792969 \"/>\n",
       "<path style=\"fill-rule:nonzero;fill:rgb(0%,100%,0%);fill-opacity:1;stroke-width:1;stroke-linecap:butt;stroke-linejoin:miter;stroke:rgb(0%,0%,0%);stroke-opacity:1;stroke-miterlimit:10;\" d=\"M 491.988281 580 C 491.988281 585.523438 487.507812 590 481.988281 590 C 476.464844 590 471.988281 585.523438 471.988281 580 C 471.988281 574.476562 476.464844 570 481.988281 570 C 487.507812 570 491.988281 574.476562 491.988281 580 \"/>\n",
       "<path style=\"fill-rule:nonzero;fill:rgb(0%,0%,100%);fill-opacity:1;stroke-width:1;stroke-linecap:butt;stroke-linejoin:miter;stroke:rgb(0%,0%,0%);stroke-opacity:1;stroke-miterlimit:10;\" d=\"M 199.902344 242.753906 C 199.902344 248.277344 195.421875 252.753906 189.902344 252.753906 C 184.378906 252.753906 179.902344 248.277344 179.902344 242.753906 C 179.902344 237.230469 184.378906 232.753906 189.902344 232.753906 C 195.421875 232.753906 199.902344 237.230469 199.902344 242.753906 \"/>\n",
       "<path style=\"fill-rule:nonzero;fill:rgb(100%,100%,0%);fill-opacity:1;stroke-width:1;stroke-linecap:butt;stroke-linejoin:miter;stroke:rgb(0%,0%,0%);stroke-opacity:1;stroke-miterlimit:10;\" d=\"M 30 150.785156 C 30 156.308594 25.523438 160.785156 20 160.785156 C 14.476562 160.785156 10 156.308594 10 150.785156 C 10 145.261719 14.476562 140.785156 20 140.785156 C 25.523438 140.785156 30 145.261719 30 150.785156 \"/>\n",
       "<path style=\"fill-rule:nonzero;fill:rgb(62.745098%,12.54902%,94.117647%);fill-opacity:1;stroke-width:1;stroke-linecap:butt;stroke-linejoin:miter;stroke:rgb(0%,0%,0%);stroke-opacity:1;stroke-miterlimit:10;\" d=\"M 170.429688 20 C 170.429688 25.523438 165.953125 30 160.429688 30 C 154.90625 30 150.429688 25.523438 150.429688 20 C 150.429688 14.476562 154.90625 10 160.429688 10 C 165.953125 10 170.429688 14.476562 170.429688 20 \"/>\n",
       "<path style=\"fill-rule:nonzero;fill:rgb(100%,64.705882%,0%);fill-opacity:1;stroke-width:1;stroke-linecap:butt;stroke-linejoin:miter;stroke:rgb(0%,0%,0%);stroke-opacity:1;stroke-miterlimit:10;\" d=\"M 396.636719 437.660156 C 396.636719 443.179688 392.160156 447.660156 386.636719 447.660156 C 381.117188 447.660156 376.636719 443.179688 376.636719 437.660156 C 376.636719 432.136719 381.117188 427.660156 386.636719 427.660156 C 392.160156 427.660156 396.636719 432.136719 396.636719 437.660156 \"/>\n",
       "<path style=\"fill-rule:nonzero;fill:rgb(100%,75.294118%,79.607843%);fill-opacity:1;stroke-width:1;stroke-linecap:butt;stroke-linejoin:miter;stroke:rgb(0%,0%,0%);stroke-opacity:1;stroke-miterlimit:10;\" d=\"M 590 428.859375 C 590 434.382812 585.523438 438.859375 580 438.859375 C 574.476562 438.859375 570 434.382812 570 428.859375 C 570 423.335938 574.476562 418.859375 580 418.859375 C 585.523438 418.859375 590 423.335938 590 428.859375 \"/>\n",
       "</g>\n",
       "</svg>\n"
      ],
      "text/plain": [
       "<igraph.drawing.cairo.plot.CairoPlot at 0x12143e250>"
      ]
     },
     "execution_count": 27,
     "metadata": {
      "image/svg+xml": {
       "isolated": true
      }
     },
     "output_type": "execute_result"
    }
   ],
   "source": [
    "layout = g.layout(\"drl\")\n",
    "ig.plot(g, layout=layout)"
   ]
  },
  {
   "cell_type": "code",
   "execution_count": 28,
   "metadata": {},
   "outputs": [
    {
     "data": {
      "image/svg+xml": [
       "<?xml version=\"1.0\" encoding=\"UTF-8\"?>\n",
       "<svg xmlns=\"http://www.w3.org/2000/svg\" xmlns:xlink=\"http://www.w3.org/1999/xlink\" width=\"600pt\" height=\"600pt\" viewBox=\"0 0 600 600\" version=\"1.1\">\n",
       "<g id=\"surface81\">\n",
       "<rect x=\"0\" y=\"0\" width=\"600\" height=\"600\" style=\"fill:rgb(100%,100%,100%);fill-opacity:1;stroke:none;\"/>\n",
       "<path style=\"fill:none;stroke-width:1;stroke-linecap:butt;stroke-linejoin:miter;stroke:rgb(26.666667%,26.666667%,26.666667%);stroke-opacity:1;stroke-miterlimit:10;\" d=\"M 20.480469 20.3125 L 20 20 \"/>\n",
       "<path style=\"fill:none;stroke-width:1;stroke-linecap:butt;stroke-linejoin:miter;stroke:rgb(26.666667%,26.666667%,26.666667%);stroke-opacity:1;stroke-miterlimit:10;\" d=\"M 20.480469 20.3125 L 472.953125 579.847656 \"/>\n",
       "<path style=\"fill:none;stroke-width:1;stroke-linecap:butt;stroke-linejoin:miter;stroke:rgb(26.666667%,26.666667%,26.666667%);stroke-opacity:1;stroke-miterlimit:10;\" d=\"M 472.953125 579.847656 L 473.027344 580 \"/>\n",
       "<path style=\"fill:none;stroke-width:1;stroke-linecap:butt;stroke-linejoin:miter;stroke:rgb(26.666667%,26.666667%,26.666667%);stroke-opacity:1;stroke-miterlimit:10;\" d=\"M 472.953125 579.847656 L 573.140625 224.855469 \"/>\n",
       "<path style=\"fill:none;stroke-width:1;stroke-linecap:butt;stroke-linejoin:miter;stroke:rgb(26.666667%,26.666667%,26.666667%);stroke-opacity:1;stroke-miterlimit:10;\" d=\"M 473.027344 580 L 573.140625 224.855469 \"/>\n",
       "<path style=\"fill:none;stroke-width:1;stroke-linecap:butt;stroke-linejoin:miter;stroke:rgb(26.666667%,26.666667%,26.666667%);stroke-opacity:1;stroke-miterlimit:10;\" d=\"M 20 20 L 580 226.597656 \"/>\n",
       "<path style=\"fill:none;stroke-width:1;stroke-linecap:butt;stroke-linejoin:miter;stroke:rgb(26.666667%,26.666667%,26.666667%);stroke-opacity:1;stroke-miterlimit:10;\" d=\"M 20.480469 20.3125 L 20.441406 20.195312 \"/>\n",
       "<path style=\"fill:none;stroke-width:1;stroke-linecap:butt;stroke-linejoin:miter;stroke:rgb(26.666667%,26.666667%,26.666667%);stroke-opacity:1;stroke-miterlimit:10;\" d=\"M 20.480469 20.3125 L 580 226.597656 \"/>\n",
       "<path style=\"fill:none;stroke-width:1;stroke-linecap:butt;stroke-linejoin:miter;stroke:rgb(26.666667%,26.666667%,26.666667%);stroke-opacity:1;stroke-miterlimit:10;\" d=\"M 580 226.597656 L 20.441406 20.195312 \"/>\n",
       "<path style=\"fill:none;stroke-width:1;stroke-linecap:butt;stroke-linejoin:miter;stroke:rgb(26.666667%,26.666667%,26.666667%);stroke-opacity:1;stroke-miterlimit:10;\" d=\"M 20 20 L 20.441406 20.195312 \"/>\n",
       "<path style=\"fill-rule:nonzero;fill:rgb(100%,0%,0%);fill-opacity:1;stroke-width:1;stroke-linecap:butt;stroke-linejoin:miter;stroke:rgb(0%,0%,0%);stroke-opacity:1;stroke-miterlimit:10;\" d=\"M 30.480469 20.3125 C 30.480469 25.835938 26.003906 30.3125 20.480469 30.3125 C 14.957031 30.3125 10.480469 25.835938 10.480469 20.3125 C 10.480469 14.789062 14.957031 10.3125 20.480469 10.3125 C 26.003906 10.3125 30.480469 14.789062 30.480469 20.3125 \"/>\n",
       "<path style=\"fill-rule:nonzero;fill:rgb(0%,100%,0%);fill-opacity:1;stroke-width:1;stroke-linecap:butt;stroke-linejoin:miter;stroke:rgb(0%,0%,0%);stroke-opacity:1;stroke-miterlimit:10;\" d=\"M 30 20 C 30 25.523438 25.523438 30 20 30 C 14.476562 30 10 25.523438 10 20 C 10 14.476562 14.476562 10 20 10 C 25.523438 10 30 14.476562 30 20 \"/>\n",
       "<path style=\"fill-rule:nonzero;fill:rgb(0%,0%,100%);fill-opacity:1;stroke-width:1;stroke-linecap:butt;stroke-linejoin:miter;stroke:rgb(0%,0%,0%);stroke-opacity:1;stroke-miterlimit:10;\" d=\"M 482.953125 579.847656 C 482.953125 585.371094 478.472656 589.847656 472.953125 589.847656 C 467.429688 589.847656 462.953125 585.371094 462.953125 579.847656 C 462.953125 574.324219 467.429688 569.847656 472.953125 569.847656 C 478.472656 569.847656 482.953125 574.324219 482.953125 579.847656 \"/>\n",
       "<path style=\"fill-rule:nonzero;fill:rgb(100%,100%,0%);fill-opacity:1;stroke-width:1;stroke-linecap:butt;stroke-linejoin:miter;stroke:rgb(0%,0%,0%);stroke-opacity:1;stroke-miterlimit:10;\" d=\"M 483.027344 580 C 483.027344 585.523438 478.550781 590 473.027344 590 C 467.503906 590 463.027344 585.523438 463.027344 580 C 463.027344 574.476562 467.503906 570 473.027344 570 C 478.550781 570 483.027344 574.476562 483.027344 580 \"/>\n",
       "<path style=\"fill-rule:nonzero;fill:rgb(62.745098%,12.54902%,94.117647%);fill-opacity:1;stroke-width:1;stroke-linecap:butt;stroke-linejoin:miter;stroke:rgb(0%,0%,0%);stroke-opacity:1;stroke-miterlimit:10;\" d=\"M 583.140625 224.855469 C 583.140625 230.375 578.664062 234.855469 573.140625 234.855469 C 567.621094 234.855469 563.140625 230.375 563.140625 224.855469 C 563.140625 219.332031 567.621094 214.855469 573.140625 214.855469 C 578.664062 214.855469 583.140625 219.332031 583.140625 224.855469 \"/>\n",
       "<path style=\"fill-rule:nonzero;fill:rgb(100%,64.705882%,0%);fill-opacity:1;stroke-width:1;stroke-linecap:butt;stroke-linejoin:miter;stroke:rgb(0%,0%,0%);stroke-opacity:1;stroke-miterlimit:10;\" d=\"M 590 226.597656 C 590 232.121094 585.523438 236.597656 580 236.597656 C 574.476562 236.597656 570 232.121094 570 226.597656 C 570 221.074219 574.476562 216.597656 580 216.597656 C 585.523438 216.597656 590 221.074219 590 226.597656 \"/>\n",
       "<path style=\"fill-rule:nonzero;fill:rgb(100%,75.294118%,79.607843%);fill-opacity:1;stroke-width:1;stroke-linecap:butt;stroke-linejoin:miter;stroke:rgb(0%,0%,0%);stroke-opacity:1;stroke-miterlimit:10;\" d=\"M 30.441406 20.195312 C 30.441406 25.71875 25.964844 30.195312 20.441406 30.195312 C 14.917969 30.195312 10.441406 25.71875 10.441406 20.195312 C 10.441406 14.671875 14.917969 10.195312 20.441406 10.195312 C 25.964844 10.195312 30.441406 14.671875 30.441406 20.195312 \"/>\n",
       "</g>\n",
       "</svg>\n"
      ],
      "text/plain": [
       "<igraph.drawing.cairo.plot.CairoPlot at 0x12002cbd0>"
      ]
     },
     "execution_count": 28,
     "metadata": {
      "image/svg+xml": {
       "isolated": true
      }
     },
     "output_type": "execute_result"
    }
   ],
   "source": [
    "layout = g.layout_umap(weights=g.es['weight'], min_dist=0.4)\n",
    "ig.plot(g, layout=layout)"
   ]
  },
  {
   "cell_type": "code",
   "execution_count": 29,
   "metadata": {},
   "outputs": [
    {
     "data": {
      "image/svg+xml": [
       "<?xml version=\"1.0\" encoding=\"UTF-8\"?>\n",
       "<svg xmlns=\"http://www.w3.org/2000/svg\" xmlns:xlink=\"http://www.w3.org/1999/xlink\" width=\"600pt\" height=\"600pt\" viewBox=\"0 0 600 600\" version=\"1.1\">\n",
       "<g id=\"surface87\">\n",
       "<rect x=\"0\" y=\"0\" width=\"600\" height=\"600\" style=\"fill:rgb(100%,100%,100%);fill-opacity:1;stroke:none;\"/>\n",
       "<path style=\"fill:none;stroke-width:1;stroke-linecap:butt;stroke-linejoin:miter;stroke:rgb(26.666667%,26.666667%,26.666667%);stroke-opacity:1;stroke-miterlimit:10;\" d=\"M 384.925781 244.625 L 549.027344 314.335938 \"/>\n",
       "<path style=\"fill:none;stroke-width:1;stroke-linecap:butt;stroke-linejoin:miter;stroke:rgb(26.666667%,26.666667%,26.666667%);stroke-opacity:1;stroke-miterlimit:10;\" d=\"M 384.925781 244.625 L 208.714844 362.394531 \"/>\n",
       "<path style=\"fill:none;stroke-width:1;stroke-linecap:butt;stroke-linejoin:miter;stroke:rgb(26.666667%,26.666667%,26.666667%);stroke-opacity:1;stroke-miterlimit:10;\" d=\"M 208.714844 362.394531 L 96.71875 580 \"/>\n",
       "<path style=\"fill:none;stroke-width:1;stroke-linecap:butt;stroke-linejoin:miter;stroke:rgb(26.666667%,26.666667%,26.666667%);stroke-opacity:1;stroke-miterlimit:10;\" d=\"M 208.714844 362.394531 L 20 345.757812 \"/>\n",
       "<path style=\"fill:none;stroke-width:1;stroke-linecap:butt;stroke-linejoin:miter;stroke:rgb(26.666667%,26.666667%,26.666667%);stroke-opacity:1;stroke-miterlimit:10;\" d=\"M 96.71875 580 L 20 345.757812 \"/>\n",
       "<path style=\"fill:none;stroke-width:1;stroke-linecap:butt;stroke-linejoin:miter;stroke:rgb(26.666667%,26.666667%,26.666667%);stroke-opacity:1;stroke-miterlimit:10;\" d=\"M 549.027344 314.335938 L 452.628906 20 \"/>\n",
       "<path style=\"fill:none;stroke-width:1;stroke-linecap:butt;stroke-linejoin:miter;stroke:rgb(26.666667%,26.666667%,26.666667%);stroke-opacity:1;stroke-miterlimit:10;\" d=\"M 384.925781 244.625 L 580 114.257812 \"/>\n",
       "<path style=\"fill:none;stroke-width:1;stroke-linecap:butt;stroke-linejoin:miter;stroke:rgb(26.666667%,26.666667%,26.666667%);stroke-opacity:1;stroke-miterlimit:10;\" d=\"M 384.925781 244.625 L 452.628906 20 \"/>\n",
       "<path style=\"fill:none;stroke-width:1;stroke-linecap:butt;stroke-linejoin:miter;stroke:rgb(26.666667%,26.666667%,26.666667%);stroke-opacity:1;stroke-miterlimit:10;\" d=\"M 452.628906 20 L 580 114.257812 \"/>\n",
       "<path style=\"fill:none;stroke-width:1;stroke-linecap:butt;stroke-linejoin:miter;stroke:rgb(26.666667%,26.666667%,26.666667%);stroke-opacity:1;stroke-miterlimit:10;\" d=\"M 549.027344 314.335938 L 580 114.257812 \"/>\n",
       "<path style=\"fill-rule:nonzero;fill:rgb(100%,0%,0%);fill-opacity:1;stroke-width:1;stroke-linecap:butt;stroke-linejoin:miter;stroke:rgb(0%,0%,0%);stroke-opacity:1;stroke-miterlimit:10;\" d=\"M 394.925781 244.625 C 394.925781 250.148438 390.449219 254.625 384.925781 254.625 C 379.40625 254.625 374.925781 250.148438 374.925781 244.625 C 374.925781 239.105469 379.40625 234.625 384.925781 234.625 C 390.449219 234.625 394.925781 239.105469 394.925781 244.625 \"/>\n",
       "<path style=\"fill-rule:nonzero;fill:rgb(0%,100%,0%);fill-opacity:1;stroke-width:1;stroke-linecap:butt;stroke-linejoin:miter;stroke:rgb(0%,0%,0%);stroke-opacity:1;stroke-miterlimit:10;\" d=\"M 559.027344 314.335938 C 559.027344 319.859375 554.550781 324.335938 549.027344 324.335938 C 543.503906 324.335938 539.027344 319.859375 539.027344 314.335938 C 539.027344 308.816406 543.503906 304.335938 549.027344 304.335938 C 554.550781 304.335938 559.027344 308.816406 559.027344 314.335938 \"/>\n",
       "<path style=\"fill-rule:nonzero;fill:rgb(0%,0%,100%);fill-opacity:1;stroke-width:1;stroke-linecap:butt;stroke-linejoin:miter;stroke:rgb(0%,0%,0%);stroke-opacity:1;stroke-miterlimit:10;\" d=\"M 218.714844 362.394531 C 218.714844 367.917969 214.238281 372.394531 208.714844 372.394531 C 203.191406 372.394531 198.714844 367.917969 198.714844 362.394531 C 198.714844 356.871094 203.191406 352.394531 208.714844 352.394531 C 214.238281 352.394531 218.714844 356.871094 218.714844 362.394531 \"/>\n",
       "<path style=\"fill-rule:nonzero;fill:rgb(100%,100%,0%);fill-opacity:1;stroke-width:1;stroke-linecap:butt;stroke-linejoin:miter;stroke:rgb(0%,0%,0%);stroke-opacity:1;stroke-miterlimit:10;\" d=\"M 106.71875 580 C 106.71875 585.523438 102.238281 590 96.71875 590 C 91.195312 590 86.71875 585.523438 86.71875 580 C 86.71875 574.476562 91.195312 570 96.71875 570 C 102.238281 570 106.71875 574.476562 106.71875 580 \"/>\n",
       "<path style=\"fill-rule:nonzero;fill:rgb(62.745098%,12.54902%,94.117647%);fill-opacity:1;stroke-width:1;stroke-linecap:butt;stroke-linejoin:miter;stroke:rgb(0%,0%,0%);stroke-opacity:1;stroke-miterlimit:10;\" d=\"M 30 345.757812 C 30 351.28125 25.523438 355.757812 20 355.757812 C 14.476562 355.757812 10 351.28125 10 345.757812 C 10 340.234375 14.476562 335.757812 20 335.757812 C 25.523438 335.757812 30 340.234375 30 345.757812 \"/>\n",
       "<path style=\"fill-rule:nonzero;fill:rgb(100%,64.705882%,0%);fill-opacity:1;stroke-width:1;stroke-linecap:butt;stroke-linejoin:miter;stroke:rgb(0%,0%,0%);stroke-opacity:1;stroke-miterlimit:10;\" d=\"M 462.628906 20 C 462.628906 25.523438 458.152344 30 452.628906 30 C 447.105469 30 442.628906 25.523438 442.628906 20 C 442.628906 14.476562 447.105469 10 452.628906 10 C 458.152344 10 462.628906 14.476562 462.628906 20 \"/>\n",
       "<path style=\"fill-rule:nonzero;fill:rgb(100%,75.294118%,79.607843%);fill-opacity:1;stroke-width:1;stroke-linecap:butt;stroke-linejoin:miter;stroke:rgb(0%,0%,0%);stroke-opacity:1;stroke-miterlimit:10;\" d=\"M 590 114.257812 C 590 119.777344 585.523438 124.257812 580 124.257812 C 574.476562 124.257812 570 119.777344 570 114.257812 C 570 108.734375 574.476562 104.257812 580 104.257812 C 585.523438 104.257812 590 108.734375 590 114.257812 \"/>\n",
       "</g>\n",
       "</svg>\n"
      ],
      "text/plain": [
       "<igraph.drawing.cairo.plot.CairoPlot at 0x121434490>"
      ]
     },
     "execution_count": 29,
     "metadata": {
      "image/svg+xml": {
       "isolated": true
      }
     },
     "output_type": "execute_result"
    }
   ],
   "source": [
    "layout = g.layout(\"auto\")\n",
    "ig.plot(g, layout=layout)"
   ]
  }
 ],
 "metadata": {
  "kernelspec": {
   "display_name": "test_env_2",
   "language": "python",
   "name": "python3"
  },
  "language_info": {
   "codemirror_mode": {
    "name": "ipython",
    "version": 3
   },
   "file_extension": ".py",
   "mimetype": "text/x-python",
   "name": "python",
   "nbconvert_exporter": "python",
   "pygments_lexer": "ipython3",
   "version": "3.11.3"
  },
  "orig_nbformat": 4
 },
 "nbformat": 4,
 "nbformat_minor": 2
}
