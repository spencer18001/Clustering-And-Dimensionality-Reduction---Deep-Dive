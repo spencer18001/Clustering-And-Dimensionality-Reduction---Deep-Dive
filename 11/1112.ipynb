{
 "cells": [
  {
   "cell_type": "markdown",
   "metadata": {},
   "source": [
    "## Clustering actors"
   ]
  },
  {
   "cell_type": "code",
   "execution_count": null,
   "metadata": {},
   "outputs": [],
   "source": [
    "import random \n",
    "from itertools import combinations\n",
    "\n",
    "import pandas as pd\n",
    "import numpy as np\n",
    "\n",
    "import matplotlib.pyplot as plt\n",
    "import seaborn as sns\n",
    "\n",
    "import igraph as ig\n",
    "\n",
    "from ch_11_funcs import (conductance, \n",
    "        average_internal_node_degree, print_clustering_stats,\n",
    "        display_network_clusters_labels\n",
    ")\n",
    "\n",
    "ig.config['plotting.backend']='matplotlib'\n",
    "plt.rcParams[\"figure.figsize\"] = (10,10)\n",
    "sns.set_theme()\n",
    "random.seed(2)"
   ]
  },
  {
   "cell_type": "markdown",
   "metadata": {},
   "source": [
    "### Netflix movie dataset\n",
    "\n",
    "Netflix TV Shows and Movies dataset.\n",
    "\n",
    "This data was acquired in July 2022 containing data available in the United States.\n",
    "\n",
    "Source : https://www.kaggle.com/datasets/victorsoeiro/netflix-tv-shows-and-movies?select=titles.csv\n",
    "\n",
    "####  Analysis goal\n",
    "\n",
    "Find groups of actors that frequently appear together."
   ]
  },
  {
   "cell_type": "code",
   "execution_count": null,
   "metadata": {},
   "outputs": [],
   "source": [
    "actor_info_path = '/Users/dalibor/VsCodeProjects/clust/data/netflix_movies/credits.csv'\n",
    "credits_df = pd.read_csv(actor_info_path)"
   ]
  },
  {
   "cell_type": "code",
   "execution_count": null,
   "metadata": {},
   "outputs": [],
   "source": [
    "credits_df.head(10)"
   ]
  },
  {
   "cell_type": "code",
   "execution_count": null,
   "metadata": {},
   "outputs": [],
   "source": [
    "movie_info_path = '/Users/dalibor/VsCodeProjects/clust/data/netflix_movies/titles.csv'\n",
    "movie_info_df = pd.read_csv(movie_info_path)\n",
    "movie_info_df.head()"
   ]
  },
  {
   "cell_type": "code",
   "execution_count": null,
   "metadata": {},
   "outputs": [],
   "source": [
    "credits_df['role'].unique()"
   ]
  },
  {
   "cell_type": "code",
   "execution_count": null,
   "metadata": {},
   "outputs": [],
   "source": [
    "# Keep only actors\n",
    "credits_df = credits_df[credits_df['role']=='ACTOR']"
   ]
  },
  {
   "cell_type": "code",
   "execution_count": null,
   "metadata": {},
   "outputs": [],
   "source": [
    "# Keep actors appearing in more than 5 shows/movies\n",
    "show_counts = credits_df['name'].value_counts().sort_values(ascending=False)\n",
    "selected_actors = show_counts[show_counts > 5].index.to_list()"
   ]
  },
  {
   "cell_type": "code",
   "execution_count": null,
   "metadata": {},
   "outputs": [],
   "source": [
    "len(selected_actors)"
   ]
  },
  {
   "cell_type": "code",
   "execution_count": null,
   "metadata": {},
   "outputs": [],
   "source": [
    "# Remove movies with single remaining actor\n",
    "credits_df = credits_df[credits_df['name'].isin(selected_actors)]\n",
    "credits_df = credits_df.groupby('id').filter(lambda x: len(x) > 1)"
   ]
  },
  {
   "cell_type": "code",
   "execution_count": null,
   "metadata": {},
   "outputs": [],
   "source": [
    "# Map actors to integers\n",
    "unique_actors = credits_df['name'].unique()\n",
    "actor_mapping = {unique_actors[i]: i for i in range(unique_actors.shape[0])}\n",
    "credits_df['actor_id'] = credits_df['name'].map(actor_mapping)"
   ]
  },
  {
   "cell_type": "code",
   "execution_count": null,
   "metadata": {},
   "outputs": [],
   "source": [
    "credits_df"
   ]
  },
  {
   "cell_type": "code",
   "execution_count": null,
   "metadata": {},
   "outputs": [],
   "source": [
    "# Extract actors from each movie\n",
    "movie_groups = credits_df.groupby('id')['actor_id'].apply(set)\n",
    "movie_groups"
   ]
  },
  {
   "cell_type": "code",
   "execution_count": null,
   "metadata": {},
   "outputs": [],
   "source": [
    "actor_combinations_count = {}"
   ]
  },
  {
   "cell_type": "code",
   "execution_count": null,
   "metadata": {},
   "outputs": [],
   "source": [
    "# Make edge for each pair of actors acting in the same\n",
    "# movie\n",
    "# Edge weight is equal to the number of co-occurrences\n",
    "for actors in movie_groups:\n",
    "    \n",
    "    if len(actors) > 1:\n",
    "        for actor1, actor2 in combinations(actors, 2):\n",
    "            \n",
    "            actor_pair = tuple(sorted((actor1, actor2)))\n",
    "            \n",
    "            # Update count\n",
    "            if actor_pair in actor_combinations_count:\n",
    "                actor_combinations_count[actor_pair] += 1\n",
    "            else:\n",
    "                actor_combinations_count[actor_pair] = 1"
   ]
  },
  {
   "cell_type": "code",
   "execution_count": null,
   "metadata": {},
   "outputs": [],
   "source": [
    "actor_combinations_count"
   ]
  },
  {
   "cell_type": "code",
   "execution_count": null,
   "metadata": {},
   "outputs": [],
   "source": [
    "len(actor_combinations_count)"
   ]
  },
  {
   "cell_type": "code",
   "execution_count": null,
   "metadata": {},
   "outputs": [],
   "source": [
    "# Create graph and assign nodes\n",
    "g = ig.Graph(n=len(unique_actors), edges=actor_combinations_count.keys())\n",
    "g.es['weight'] = list(actor_combinations_count.values())"
   ]
  },
  {
   "cell_type": "code",
   "execution_count": null,
   "metadata": {},
   "outputs": [],
   "source": [
    "# Create graph layout\n",
    "layout = g.layout(\"auto\", weights='weight')"
   ]
  },
  {
   "cell_type": "code",
   "execution_count": null,
   "metadata": {},
   "outputs": [],
   "source": [
    "# Plot the graph\n",
    "ig.plot(g, layout=layout, edge_width=0.2)"
   ]
  },
  {
   "cell_type": "code",
   "execution_count": null,
   "metadata": {},
   "outputs": [],
   "source": [
    "ig_clust = g.community_multilevel(resolution=1)"
   ]
  },
  {
   "cell_type": "code",
   "execution_count": null,
   "metadata": {},
   "outputs": [],
   "source": [
    "print_clustering_stats(\n",
    "    ig_clusters=ig_clust, \n",
    "    min_cluster_size=10\n",
    ")"
   ]
  },
  {
   "cell_type": "code",
   "execution_count": null,
   "metadata": {},
   "outputs": [],
   "source": [
    "g.modularity(ig_clust.membership)"
   ]
  },
  {
   "cell_type": "code",
   "execution_count": null,
   "metadata": {},
   "outputs": [],
   "source": [
    "conductance(ig_clust)"
   ]
  },
  {
   "cell_type": "code",
   "execution_count": null,
   "metadata": {},
   "outputs": [],
   "source": [
    "average_internal_node_degree(ig_clust)"
   ]
  },
  {
   "cell_type": "code",
   "execution_count": null,
   "metadata": {},
   "outputs": [],
   "source": [
    "_ = display_network_clusters_labels(\n",
    "    g_clust=ig_clust,\n",
    "    layout=layout,\n",
    "    edge_width=0.2,\n",
    "    min_size=10\n",
    ")"
   ]
  },
  {
   "cell_type": "markdown",
   "metadata": {},
   "source": [
    "### Cluster characterization"
   ]
  },
  {
   "cell_type": "code",
   "execution_count": null,
   "metadata": {},
   "outputs": [],
   "source": [
    "movie_info_df.head()"
   ]
  },
  {
   "cell_type": "code",
   "execution_count": null,
   "metadata": {},
   "outputs": [],
   "source": [
    "movie_info_df.info()"
   ]
  },
  {
   "cell_type": "code",
   "execution_count": null,
   "metadata": {},
   "outputs": [],
   "source": [
    "movie_info_df.loc[0, 'genres']"
   ]
  },
  {
   "cell_type": "code",
   "execution_count": null,
   "metadata": {},
   "outputs": [],
   "source": [
    "from ast import literal_eval\n",
    "literal_eval(movie_info_df.loc[0, 'genres'])"
   ]
  },
  {
   "cell_type": "code",
   "execution_count": null,
   "metadata": {},
   "outputs": [],
   "source": [
    "movie_info_df['genres'] = movie_info_df['genres'].apply(literal_eval).astype(object)\n",
    "movie_info_df['production_countries'] = movie_info_df['production_countries'].apply(literal_eval).astype(object)"
   ]
  },
  {
   "cell_type": "code",
   "execution_count": null,
   "metadata": {},
   "outputs": [],
   "source": [
    "movie_info_df.head()"
   ]
  },
  {
   "cell_type": "code",
   "execution_count": null,
   "metadata": {},
   "outputs": [],
   "source": [
    "# Plot movie/show characteristics for all the clusters\n",
    "for clust_id, clust_nodes in enumerate(ig_clust):\n",
    "    \n",
    "    # Avoid noise clusters\n",
    "    if len(clust_nodes) > 10:\n",
    "    \n",
    "        fig, axs = plt.subplots(2,3, figsize=(14,10))\n",
    "        \n",
    "        axs = axs.flatten()\n",
    "        \n",
    "        # Get all movie ids corresponding to actors from current clusters\n",
    "        movie_ids = credits_df.loc[credits_df['actor_id'].isin(clust_nodes), 'id'].to_list()\n",
    "        movide_df_subset = movie_info_df[movie_info_df['id'].isin(movie_ids)]\n",
    "        \n",
    "        # Get genres and production countries\n",
    "        clust_genres = [\n",
    "            genre for genre_sublist in movide_df_subset['genres'].to_list() \n",
    "            for genre in genre_sublist\n",
    "        ]\n",
    "        clust_prod_country = [\n",
    "            prod_country for prod_country_sublist in movide_df_subset['production_countries'].to_list() \n",
    "            for prod_country in prod_country_sublist\n",
    "        ]\n",
    "        \n",
    "        pd_genres = pd.Series(clust_genres)\n",
    "        pd_genres.value_counts().plot.bar(ax=axs[0])\n",
    "        axs[0].set_title('Genres')\n",
    "        \n",
    "        pd_clust_prod_country = pd.Series(clust_prod_country)\n",
    "        pd_clust_prod_country.value_counts().plot.bar(ax=axs[1])\n",
    "        axs[1].set_title('Prod countries')\n",
    "\n",
    "        # Display the type\n",
    "        movide_df_subset['type'].value_counts().plot.bar(ax=axs[2])\n",
    "        axs[2].set_title('Type')\n",
    "        \n",
    "        # Display age certification\n",
    "        movide_df_subset['age_certification'].value_counts().plot.bar(ax=axs[3])\n",
    "        axs[3].set_title('Age certification')\n",
    "        \n",
    "        # Display release year\n",
    "        movide_df_subset['release_year'].plot.box(ax=axs[4])\n",
    "        axs[4].set_title('Release year')\n",
    "        \n",
    "        # Display runtime\n",
    "        movide_df_subset['runtime'].plot.box(ax=axs[5])\n",
    "        axs[5].set_title('Runtime')\n",
    "        \n",
    "        plt.suptitle('Cluster id : {}, cluster size : {}'.format(clust_id, len(clust_nodes)))\n",
    "        plt.tight_layout()\n",
    "\n",
    "        plt.show()\n",
    "    \n",
    "    "
   ]
  },
  {
   "cell_type": "code",
   "execution_count": null,
   "metadata": {},
   "outputs": [],
   "source": []
  }
 ],
 "metadata": {
  "kernelspec": {
   "display_name": "test_env_3",
   "language": "python",
   "name": "python3"
  },
  "language_info": {
   "codemirror_mode": {
    "name": "ipython",
    "version": 3
   },
   "file_extension": ".py",
   "mimetype": "text/x-python",
   "name": "python",
   "nbconvert_exporter": "python",
   "pygments_lexer": "ipython3",
   "version": "3.11.3"
  },
  "orig_nbformat": 4
 },
 "nbformat": 4,
 "nbformat_minor": 2
}
