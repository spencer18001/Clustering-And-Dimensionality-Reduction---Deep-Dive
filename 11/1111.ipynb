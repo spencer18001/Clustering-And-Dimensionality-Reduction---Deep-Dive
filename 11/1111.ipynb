{
 "cells": [
  {
   "cell_type": "markdown",
   "metadata": {},
   "source": [
    "## Evaluating communities & utility functions"
   ]
  },
  {
   "cell_type": "code",
   "execution_count": null,
   "metadata": {},
   "outputs": [],
   "source": [
    "import copy\n",
    "\n",
    "import random\n",
    "\n",
    "import pandas as pd\n",
    "import numpy as np\n",
    "\n",
    "import matplotlib.pyplot as plt\n",
    "from matplotlib.lines import Line2D\n",
    "\n",
    "import igraph as ig\n",
    "\n",
    "ig.config['plotting.backend']='matplotlib'\n",
    "plt.rcParams[\"figure.figsize\"] = (10,10)\n",
    "random.seed(2)"
   ]
  },
  {
   "attachments": {},
   "cell_type": "markdown",
   "metadata": {},
   "source": [
    "### Load the dataset and find communities"
   ]
  },
  {
   "cell_type": "code",
   "execution_count": null,
   "metadata": {},
   "outputs": [],
   "source": [
    "# Load the karakte club dataset\n",
    "g = ig.Graph.Famous('Zachary')"
   ]
  },
  {
   "cell_type": "code",
   "execution_count": null,
   "metadata": {},
   "outputs": [],
   "source": [
    "# Get number of nodes\n",
    "num_nodes = g.vcount()\n",
    "num_edges = g.ecount()\n",
    "\n",
    "\n",
    "g.vs['member_id'] = range(num_nodes)\n",
    "g.es['weight'] = [1]*num_edges\n"
   ]
  },
  {
   "cell_type": "code",
   "execution_count": null,
   "metadata": {},
   "outputs": [],
   "source": [
    "layout = g.layout(\"auto\")\n",
    "ig.plot(\n",
    "    g, \n",
    "    layout=layout, \n",
    "    vertex_label=g.vs[\"member_id\"],\n",
    "    vertex_size=0.3, vertex_label_size=15\n",
    ")"
   ]
  },
  {
   "cell_type": "code",
   "execution_count": null,
   "metadata": {},
   "outputs": [],
   "source": [
    "ig_clusters = g.community_multilevel(\n",
    "    resolution=0.4,\n",
    "    weights='weight'\n",
    ")"
   ]
  },
  {
   "cell_type": "code",
   "execution_count": null,
   "metadata": {},
   "outputs": [],
   "source": [
    "ig.plot(ig_clusters)"
   ]
  },
  {
   "cell_type": "markdown",
   "metadata": {},
   "source": [
    "### Evaluate communities"
   ]
  },
  {
   "cell_type": "code",
   "execution_count": null,
   "metadata": {},
   "outputs": [],
   "source": [
    "ig_clusters.modularity"
   ]
  },
  {
   "cell_type": "code",
   "execution_count": null,
   "metadata": {},
   "outputs": [],
   "source": [
    "ig_cluster_ids = ig_clusters.membership"
   ]
  },
  {
   "cell_type": "code",
   "execution_count": null,
   "metadata": {},
   "outputs": [],
   "source": [
    "g.modularity(\n",
    "    membership=ig_clusters.membership, \n",
    "    directed=False,\n",
    "    weights='weight'\n",
    ")"
   ]
  },
  {
   "cell_type": "code",
   "execution_count": null,
   "metadata": {},
   "outputs": [],
   "source": [
    "def conductance(g_clust):\n",
    "    \n",
    "    \"\"\"\n",
    "    This function calculates clustering conductance as\n",
    "    average of conductance of each cluster. Conductance for each cluster is \n",
    "    calculated as sum of all edges goind outside cluster divided by minimum\n",
    "    between volume of cluster and volume of all other nodes.\n",
    "\n",
    "    :param g_clust: Graph clustering object.\n",
    "    :return: Clustering conductance.\n",
    "    \"\"\"    \n",
    "            \n",
    "    # Extract graph object from clustering\n",
    "    graph = g_clust.graph\n",
    "    conductance_list = []\n",
    "    all_node_ids = set(range(graph.vcount()))\n",
    "    \n",
    "    # Calculate conductance for each cluster\n",
    "    for clust_node_ids in g_clust:\n",
    "        \n",
    "        other_node_ids = list(all_node_ids - set(clust_node_ids))\n",
    "        \n",
    "        external_edges = graph.es.select(_between=(clust_node_ids, other_node_ids))\n",
    "        \n",
    "        conductance_list.append(\n",
    "            np.sum(external_edges['weight'])/np.min([\n",
    "                np.sum(graph.strength(clust_node_ids, weights='weight')),\n",
    "                np.sum(graph.strength(other_node_ids, weights='weight'))\n",
    "            ])\n",
    "        )\n",
    "        \n",
    "    return np.mean(conductance_list)"
   ]
  },
  {
   "cell_type": "code",
   "execution_count": null,
   "metadata": {},
   "outputs": [],
   "source": [
    "conductance(ig_clusters)"
   ]
  },
  {
   "cell_type": "code",
   "execution_count": null,
   "metadata": {},
   "outputs": [],
   "source": [
    "def average_internal_node_degree(g_clust):\n",
    "    \n",
    "    \"\"\"\n",
    "    Calculates internal node degree.\n",
    "\n",
    "    :param g_clust: Graph clustering object.\n",
    "    :return: Average internal node degree.\n",
    "    \"\"\"\n",
    "    \n",
    "    # Get graph from igraph clusters\n",
    "    internal_node_deg = []\n",
    "    \n",
    "    # Iterate throug clusters\n",
    "    for curr_subgraph in g_clust.subgraphs():\n",
    "    \n",
    "        node_degs = np.array(curr_subgraph.strength(weights='weight'))\n",
    "        internal_node_deg.append(np.mean(node_degs))\n",
    "            \n",
    "    # Return mean value for internal node degree\n",
    "    return np.mean(internal_node_deg)"
   ]
  },
  {
   "cell_type": "code",
   "execution_count": null,
   "metadata": {},
   "outputs": [],
   "source": [
    "average_internal_node_degree(ig_clusters)"
   ]
  },
  {
   "cell_type": "markdown",
   "metadata": {},
   "source": [
    "### Utility functions"
   ]
  },
  {
   "cell_type": "code",
   "execution_count": null,
   "metadata": {},
   "outputs": [],
   "source": [
    "def print_clustering_stats(ig_clusters, min_cluster_size=0):\n",
    "    \n",
    "    \"\"\"\n",
    "    Prints number of nodes across clusters.\n",
    "\n",
    "    :param ig_clusters: Graph clustering object.\n",
    "    :param min_cluster_size: Adds minimum cluster size\n",
    "    to prevent too many prints in case big number of \n",
    "    noise clusters is present.\n",
    "    \"\"\"\n",
    "\n",
    "    # Noise clusters are ones containing less fewer\n",
    "    # than min_cluster_size nodes\n",
    "    num_noise_clusters = 0\n",
    "    num_regular_clusters = 0\n",
    "    \n",
    "    # Noise nodes are nodes belonging to noise\n",
    "    # clusters\n",
    "    num_noise_nodes = 0\n",
    "        \n",
    "    # If cluster is not noise cluster then print cluster size\n",
    "    # For noise clusters only print total number of \n",
    "    # data points and total number of nodes\n",
    "    for clust_id, cluster_nodes in enumerate(ig_clusters):\n",
    "        if len(cluster_nodes)> min_cluster_size:\n",
    "            print('Cluster {} size : {}'.format(clust_id, len(cluster_nodes)))\n",
    "            num_regular_clusters += 1\n",
    "        else:\n",
    "            num_noise_clusters+=1\n",
    "            num_noise_nodes += len(cluster_nodes)\n",
    "            \n",
    "    # Print stats\n",
    "    print('Num regular clusters {}'.format(num_regular_clusters))\n",
    "    print('Num noise clusters {}'.format(num_noise_clusters))\n",
    "    print('Num noise cluster nodes {}'.format(num_noise_nodes))"
   ]
  },
  {
   "cell_type": "code",
   "execution_count": null,
   "metadata": {},
   "outputs": [],
   "source": [
    "print_clustering_stats(ig_clusters)"
   ]
  },
  {
   "cell_type": "code",
   "execution_count": null,
   "metadata": {},
   "outputs": [],
   "source": [
    "def display_network_clusters_labels(g_clust, layout, edge_width=None, vertex_size=None, min_size=0, color_edges=True, title=None, ax=None):\n",
    "    \n",
    "    \"\"\"\n",
    "    Plots clustering with legend. Nodes and internal edges of each community will be colored with same color.\n",
    "\n",
    "    :param g_clust: Cluster graph object.\n",
    "    :param layout: Graph layout.\n",
    "    :param edge_width: Edge width, defaults to None.\n",
    "    :param vertex_size: Vertex size, defaults to None.\n",
    "    :param min_size: Clusters bellow this size will be considered noise clusters.\n",
    "    :param color_edges: Whether to color edges in the graph, defaults to True.\n",
    "    :param title: Graph title, defaults to None.\n",
    "    :param ax: Matplotlib ax, defaults to None.\n",
    "    \n",
    "    :return: The graph object.\n",
    "    \"\"\"    \n",
    "    \n",
    "    \n",
    "    plt.rcParams[\"figure.figsize\"] = (10,10)\n",
    "    \n",
    "    # Initialize storage for regular clusters and noise clusters\n",
    "    # Noise clusters are clusters smaller than min_size\n",
    "    noise_cluster = []\n",
    "    regular_clusters = []\n",
    "    \n",
    "    noise_cluster_names = []\n",
    "    regular_cluster_names = []\n",
    "    \n",
    "    # Make deep copy of the graph in \n",
    "    # order not to mess up the original\n",
    "    # object\n",
    "    g_clust = copy.deepcopy(g_clust)\n",
    "    graph = g_clust.graph\n",
    "    \n",
    "    # Iterate through all the clusters and detect\n",
    "    # noise clusters\n",
    "    for clust_id, cluster_nodes in enumerate(g_clust):\n",
    "                \n",
    "        if len(cluster_nodes) > min_size:\n",
    "            regular_clusters.append(cluster_nodes)\n",
    "            regular_cluster_names.append(str(clust_id))\n",
    "        else:\n",
    "            noise_cluster += cluster_nodes\n",
    "            noise_cluster_names.append(clust_id)\n",
    "            \n",
    "            \n",
    "    # Get number of unique clusters\n",
    "    num_clusters = len(regular_clusters)\n",
    "\n",
    "    \n",
    "    # Create collor pallete\n",
    "    collor_palette = ig.ClusterColoringPalette(n=num_clusters)\n",
    "        \n",
    "    # Create legend\n",
    "    custom_lines = []\n",
    "    \n",
    "    # Iterate through all communities\n",
    "    \n",
    "    # For each community, color internal edges and nodes\n",
    "    # with same color\n",
    "    for clust_id, cluster_nodes in enumerate(regular_clusters):\n",
    "        \n",
    "        # Cluster nodes is a list of all node ids\n",
    "        # bellonging to the current community\n",
    "        \n",
    "        # Add node colors\n",
    "        graph.vs[cluster_nodes][\"color\"] = [collor_palette[clust_id]]*len(cluster_nodes)\n",
    "        \n",
    "        # Add edge colors\n",
    "        if color_edges:\n",
    "            cluster_edges = graph.es.select(_within=cluster_nodes)\n",
    "            cluster_edges['color'] = [collor_palette[clust_id]]*len(cluster_edges)\n",
    "        \n",
    "        # Create line object for legend\n",
    "        custom_lines.append(\n",
    "            Line2D([0], [0], color=collor_palette[clust_id], lw=4)\n",
    "        )\n",
    "        \n",
    "    # Handle noise cluster\n",
    "    if len(noise_cluster) > 0:\n",
    "        \n",
    "        clust_id += 1\n",
    "        \n",
    "        graph.vs[noise_cluster][\"color\"] = [(0,0,0,0.2)]*len(noise_cluster) \n",
    "        custom_lines.append(\n",
    "            Line2D([0], [0], color=[0,0,0,1], lw=4)\n",
    "        )\n",
    "        legend_clust_names = regular_cluster_names + ['Outlier cluster']\n",
    "        \n",
    "    else:\n",
    "    \n",
    "        legend_clust_names = regular_cluster_names\n",
    "        \n",
    "    \n",
    "    # Determine if matplotlib ax is provided\n",
    "    if ax is None:\n",
    "        _, ax = plt.subplots(figsize=(10, 10))\n",
    "    \n",
    "    # Draw network on the figure\n",
    "    ig.plot(\n",
    "        graph,\n",
    "        edge_width=edge_width,\n",
    "        vertex_size=vertex_size,\n",
    "        layout=layout,\n",
    "        target=ax\n",
    "    )\n",
    "    \n",
    "    # add legend\n",
    "    ax.legend(custom_lines, legend_clust_names)\n",
    "    \n",
    "    # add title\n",
    "    if title:\n",
    "        plt.title(title)\n",
    "        \n",
    "    return g_clust\n"
   ]
  },
  {
   "cell_type": "code",
   "execution_count": null,
   "metadata": {},
   "outputs": [],
   "source": [
    "display_network_clusters_labels(\n",
    "    g_clust=ig_clusters,\n",
    "    layout=layout\n",
    ")"
   ]
  }
 ],
 "metadata": {
  "kernelspec": {
   "display_name": "test_env_2",
   "language": "python",
   "name": "python3"
  },
  "language_info": {
   "codemirror_mode": {
    "name": "ipython",
    "version": 3
   },
   "file_extension": ".py",
   "mimetype": "text/x-python",
   "name": "python",
   "nbconvert_exporter": "python",
   "pygments_lexer": "ipython3",
   "version": "3.11.3"
  },
  "orig_nbformat": 4
 },
 "nbformat": 4,
 "nbformat_minor": 2
}
