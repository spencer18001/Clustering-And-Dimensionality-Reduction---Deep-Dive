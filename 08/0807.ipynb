{
 "cells": [
  {
   "cell_type": "markdown",
   "id": "070cd4f0",
   "metadata": {},
   "source": [
    "## Single-cell rna demo"
   ]
  },
  {
   "cell_type": "code",
   "execution_count": null,
   "id": "bfea2bc5",
   "metadata": {},
   "outputs": [],
   "source": [
    "import json\n",
    "\n",
    "import pandas as pd\n",
    "import numpy as np\n",
    "\n",
    "from scipy.io import mmread # load sparse matrix\n",
    "\n",
    "import seaborn as sns\n",
    "import matplotlib\n",
    "import matplotlib.pyplot as plt\n",
    "\n",
    "from sklearn.cluster import KMeans\n",
    "from sklearn.metrics import silhouette_score\n",
    "from sklearn.metrics import adjusted_rand_score\n",
    "from sklearn.decomposition import PCA\n",
    "from sklearn.metrics import adjusted_rand_score\n",
    "\n",
    "from yellowbrick.cluster import SilhouetteVisualizer\n",
    "\n",
    "import umap\n",
    "import umap.plot as uplot\n",
    "\n",
    "from kneed import KneeLocator\n",
    "import random\n",
    "\n",
    "random.seed(12)\n",
    "\n",
    "sns.set_theme()"
   ]
  },
  {
   "attachments": {},
   "cell_type": "markdown",
   "id": "c3d2093d",
   "metadata": {},
   "source": [
    "## Load the data\n",
    "\n",
    "Single-cell RNA sequencing (scRNA-seq) is a technique used to study the gene expression patterns of individual cells. \n"
   ]
  },
  {
   "cell_type": "code",
   "execution_count": null,
   "id": "eb259646",
   "metadata": {},
   "outputs": [],
   "source": [
    "# Load the dataset\n",
    "# tsv: \\t separated file\n",
    "cell_names_path = 'data/pbmc_3k/hg19/barcodes.tsv' # cell name\n",
    "gene_names_path = 'data/pbmc_3k/hg19/genes.tsv' # gene name\n",
    "data_path = 'data/pbmc_3k/hg19/matrix.mtx' # sparse matrix of count data\n",
    "\n",
    "cell_names = pd.read_csv(cell_names_path, sep='\\t', header=None)[0]\n",
    "gene_names = pd.read_csv(gene_names_path, sep='\\t', header=None)[1]"
   ]
  },
  {
   "cell_type": "code",
   "execution_count": null,
   "id": "1db86b65",
   "metadata": {},
   "outputs": [],
   "source": [
    "# Load cell annotations\n",
    "cell_annotations_path = 'data/pbmc_3k/pmbc_3k_cell_types.json' # ground truth cell type\n",
    "fle = open(cell_annotations_path, 'r')\n",
    "cell_type_dict = json.load(fle)\n",
    "fle.close()"
   ]
  },
  {
   "cell_type": "code",
   "execution_count": null,
   "id": "541dfc3e",
   "metadata": {},
   "outputs": [],
   "source": [
    "cell_type_dict"
   ]
  },
  {
   "cell_type": "code",
   "execution_count": null,
   "id": "c577a270",
   "metadata": {},
   "outputs": [],
   "source": [
    "# Show cell names\n",
    "cell_names.head()"
   ]
  },
  {
   "cell_type": "code",
   "execution_count": null,
   "id": "c5be3213",
   "metadata": {},
   "outputs": [],
   "source": [
    "# Show gene names\n",
    "gene_names.head()"
   ]
  },
  {
   "cell_type": "code",
   "execution_count": null,
   "id": "9c39ac3d",
   "metadata": {},
   "outputs": [],
   "source": [
    "# Load expression matrix\n",
    "expression_mtx = mmread(data_path)"
   ]
  },
  {
   "cell_type": "code",
   "execution_count": null,
   "id": "fb551ef9",
   "metadata": {},
   "outputs": [],
   "source": [
    "# Show shapes\n",
    "print('Expression shape : {}'.format(expression_mtx.shape))\n",
    "print('Num cells : {}'.format(cell_names.shape[0]))\n",
    "print('Num genes : {}'.format(gene_names.shape[0]))"
   ]
  },
  {
   "cell_type": "code",
   "execution_count": null,
   "id": "40c6e6d3",
   "metadata": {},
   "outputs": [],
   "source": [
    "# Create dataframe from sparse matrix\n",
    "expression_df = pd.DataFrame.sparse.from_spmatrix(\n",
    "    expression_mtx, \n",
    "    columns=cell_names.to_numpy(), \n",
    "    index=gene_names.to_numpy()\n",
    ")"
   ]
  },
  {
   "cell_type": "code",
   "execution_count": null,
   "id": "d2debf92",
   "metadata": {},
   "outputs": [],
   "source": [
    "expression_df.iloc[1300:1320, 1100:1120]"
   ]
  },
  {
   "attachments": {},
   "cell_type": "markdown",
   "id": "1b739d79",
   "metadata": {},
   "source": [
    "## Quality controll"
   ]
  },
  {
   "cell_type": "code",
   "execution_count": null,
   "id": "42beb176",
   "metadata": {},
   "outputs": [],
   "source": [
    "# Get count sum for all genes/cels\n",
    "gene_sum = expression_df.sum(axis=1)\n",
    "cell_sum = expression_df.sum(axis=0)\n",
    "\n",
    "# Remove all genes that are not expressed \n",
    "expression_df = expression_df.loc[\n",
    "    gene_sum[gene_sum>3].index,\n",
    "    cell_sum[cell_sum>10].index\n",
    "].sparse.to_dense().T"
   ]
  },
  {
   "cell_type": "code",
   "execution_count": null,
   "id": "f2d9f11a",
   "metadata": {},
   "outputs": [],
   "source": [
    "expression_df.shape"
   ]
  },
  {
   "cell_type": "code",
   "execution_count": null,
   "id": "d57e5cad",
   "metadata": {},
   "outputs": [],
   "source": [
    "# Detect mitohondrial genes\n",
    "mito_genes = [gene for gene in expression_df.columns if gene.startswith('MT-')]\n",
    "mito_df = expression_df.loc[:, mito_genes]\n",
    "\n",
    "# Calculate values that will be QC-ed\n",
    "mito_df_sum = mito_df.sum(axis=1)\n",
    "expression_df_sum = expression_df.sum(axis=1)\n",
    "expression_df_num_genes = (expression_df>0).sum(axis=1)\n",
    "\n",
    "percent_mt = mito_df_sum/expression_df_sum*100"
   ]
  },
  {
   "cell_type": "code",
   "execution_count": null,
   "id": "9d190298",
   "metadata": {},
   "outputs": [],
   "source": [
    "# Function for median deviation calculation\n",
    "def mad_qc(data, limit='upper'):\n",
    "\n",
    "    # Calculate the median of the data\n",
    "    median = np.median(data)\n",
    "\n",
    "    # Calculate the absolute deviations from the median\n",
    "    absolute_deviations = np.abs(data - median)\n",
    "\n",
    "    # Calculate the median absolute deviation\n",
    "    mad = np.median(absolute_deviations)\n",
    "        \n",
    "    if limit == 'upper':\n",
    "        \n",
    "        upper_limit = median + 3*mad\n",
    "        return data > upper_limit\n",
    "    \n",
    "    elif limit =='lower':\n",
    "        \n",
    "        lower_limit = median - 3*mad\n",
    "        return data < lower_limit\n",
    "\n",
    "    else:\n",
    "        raise Exception('Incorrect choice for limit')"
   ]
  },
  {
   "cell_type": "code",
   "execution_count": null,
   "id": "99a68e9e",
   "metadata": {},
   "outputs": [],
   "source": [
    "# Perform QC based on three criteria\n",
    "mito_qc = mad_qc(percent_mt, limit='upper')\n",
    "expression_sum_qc = mad_qc(expression_df_sum, limit='lower')\n",
    "num_genes_qc = mad_qc(expression_df_num_genes, limit='lower')\n",
    "\n",
    "final_qc = mito_qc | expression_sum_qc | num_genes_qc"
   ]
  },
  {
   "cell_type": "code",
   "execution_count": null,
   "id": "39907dbb",
   "metadata": {},
   "outputs": [],
   "source": [
    "final_qc"
   ]
  },
  {
   "cell_type": "code",
   "execution_count": null,
   "id": "b889b3c7",
   "metadata": {},
   "outputs": [],
   "source": [
    "# Concatenate all QC data and QC results into \n",
    "# a single dataframe\n",
    "qc_df = pd.concat(\n",
    "    [\n",
    "        percent_mt.to_frame(name='mito'),\n",
    "        expression_df_sum.to_frame(name='expr_sum'),\n",
    "        expression_df_num_genes.to_frame(name='num_genes'),\n",
    "        mito_qc.to_frame(name='mito_remove'),\n",
    "        expression_sum_qc.to_frame(name='expr_sum_remove'),\n",
    "        num_genes_qc.to_frame(name='num_genes_remove')\n",
    "    ],\n",
    "    axis=1\n",
    ")\n",
    "\n",
    "# Plot results\n",
    "sns.catplot(qc_df, y='mito',hue='mito_remove').set(title='Mito QC')\n",
    "sns.catplot(qc_df, y='expr_sum',hue='expr_sum_remove').set(title='Count sum QC')\n",
    "sns.catplot(qc_df, y='num_genes',hue='num_genes_remove').set(title='Num genes QC')"
   ]
  },
  {
   "cell_type": "code",
   "execution_count": null,
   "id": "724bfc36",
   "metadata": {},
   "outputs": [],
   "source": [
    "# Print number of eliminated and retained cells (data points)\n",
    "final_qc.value_counts()"
   ]
  },
  {
   "cell_type": "code",
   "execution_count": null,
   "id": "17196cb9",
   "metadata": {},
   "outputs": [],
   "source": [
    "# Drop low quality cells\n",
    "expression_df = expression_df.drop(\n",
    "    index=final_qc[final_qc==True].index, \n",
    "    errors='ignore'\n",
    ")"
   ]
  },
  {
   "cell_type": "code",
   "execution_count": null,
   "id": "f0407d1d",
   "metadata": {},
   "outputs": [],
   "source": [
    "# Remove cells without labels\n",
    "cells_with_no_label = set(expression_df.index) - set(cell_type_dict.keys())\n",
    "expression_df = expression_df.drop(index=cells_with_no_label)"
   ]
  },
  {
   "attachments": {},
   "cell_type": "markdown",
   "id": "98f28bcd",
   "metadata": {},
   "source": [
    "### Normalization\n"
   ]
  },
  {
   "cell_type": "code",
   "execution_count": null,
   "id": "5c3bbb1d",
   "metadata": {},
   "outputs": [],
   "source": [
    "# Normalize expression of all genes in each cell by using sum of gene expressions in\n",
    "# each cell\n",
    "expression_df = expression_df.div(\n",
    "    expression_df_sum[expression_df.index],\n",
    "    axis=0\n",
    ")*10000\n"
   ]
  },
  {
   "cell_type": "code",
   "execution_count": null,
   "id": "8a9ea6db",
   "metadata": {},
   "outputs": [],
   "source": [
    "gene_mean = expression_df.mean(axis=0)\n",
    "gene_var =  expression_df.var(axis=0)\n",
    "\n",
    "plt.scatter(gene_mean.to_numpy(), gene_var.to_numpy())\n",
    "plt.title('Mean vs variance')\n",
    "plt.xlabel('Mean')\n",
    "plt.ylabel('Variance')"
   ]
  },
  {
   "cell_type": "code",
   "execution_count": null,
   "id": "9de26faf",
   "metadata": {},
   "outputs": [],
   "source": [
    "expression_df['S100A4'].hist(bins=100)\n",
    "plt.ylim([0,250])\n",
    "plt.title('Gene S100A4 raw')\n",
    "plt.xlabel('Value')\n",
    "plt.ylabel('Count')"
   ]
  },
  {
   "cell_type": "code",
   "execution_count": null,
   "id": "094aad35",
   "metadata": {},
   "outputs": [],
   "source": [
    "# Log normalize the data\n",
    "expression_df = np.log(expression_df + 1)\n",
    "\n",
    "full_expression_df = expression_df.copy()"
   ]
  },
  {
   "cell_type": "code",
   "execution_count": null,
   "id": "9e305df1",
   "metadata": {},
   "outputs": [],
   "source": [
    "gene_mean = expression_df.mean(axis=0)\n",
    "gene_var =  expression_df.var(axis=0)\n",
    "\n",
    "\n",
    "plt.scatter(gene_mean.to_numpy(), gene_var.to_numpy())\n",
    "plt.title('Log - Mean vs variance')\n",
    "plt.xlabel('Log - Mean')\n",
    "plt.ylabel('Log - Variance')"
   ]
  },
  {
   "cell_type": "code",
   "execution_count": null,
   "id": "ca83ba64",
   "metadata": {},
   "outputs": [],
   "source": [
    "expression_df['S100A4'].hist(bins=100)\n",
    "plt.ylim([0,250])\n",
    "plt.title('Log - Gene S100A4 raw')\n",
    "plt.xlabel('Log - Value')\n",
    "plt.ylabel('Log - Count')"
   ]
  },
  {
   "cell_type": "markdown",
   "id": "dcdb6062",
   "metadata": {},
   "source": [
    "### Feature selection"
   ]
  },
  {
   "cell_type": "code",
   "execution_count": null,
   "id": "6f800e1f",
   "metadata": {},
   "outputs": [],
   "source": [
    "# Add everything to data frame\n",
    "gene_df = pd.concat([gene_mean, gene_var], axis=1)\n",
    "gene_df.columns = ['mean', 'var']\n",
    "\n",
    "# Bin the data\n",
    "num_bins = 20\n",
    "bin_labels = [i for i in range(num_bins)]\n",
    "gene_df['bin'] = pd.cut(gene_df['mean'], bins=num_bins, labels=bin_labels)"
   ]
  },
  {
   "cell_type": "code",
   "execution_count": null,
   "metadata": {},
   "outputs": [],
   "source": [
    "gene_df['bin'].value_counts()"
   ]
  },
  {
   "cell_type": "code",
   "execution_count": null,
   "id": "48cc9c2c",
   "metadata": {},
   "outputs": [],
   "source": [
    "sns.scatterplot(gene_df, x='mean', y='var', hue='bin', palette='flag')\n",
    "plt.title('Log - Mean vs variance')\n",
    "plt.xlabel('Log - Mean')\n",
    "plt.ylabel('Log - Variance')"
   ]
  },
  {
   "cell_type": "code",
   "execution_count": null,
   "id": "f98f38e0",
   "metadata": {},
   "outputs": [],
   "source": [
    "# Find variance to mean ratio\n",
    "gene_df['dispersion'] = gene_df['var'] / gene_df['mean']"
   ]
  },
  {
   "cell_type": "code",
   "execution_count": null,
   "id": "3b9f4c67",
   "metadata": {},
   "outputs": [],
   "source": [
    "# Find mean and standard deviatiin\n",
    "gene_df_grouped = gene_df.groupby('bin')['dispersion']\n",
    "bin_means = gene_df_grouped.mean()\n",
    "bin_stds = gene_df_grouped.std(ddof=1)"
   ]
  },
  {
   "cell_type": "code",
   "execution_count": null,
   "id": "c8fe8bc9",
   "metadata": {},
   "outputs": [],
   "source": [
    "# Normalize dispersion inside each bin\n",
    "gene_df['dispersions_norm'] = (\n",
    "    gene_df['dispersion'].to_numpy() - bin_means[gene_df['bin'].to_numpy()].to_numpy()\n",
    ") / bin_stds[gene_df['bin'].to_numpy()].to_numpy()"
   ]
  },
  {
   "cell_type": "code",
   "execution_count": null,
   "id": "cc39fc97",
   "metadata": {},
   "outputs": [],
   "source": [
    "sns.scatterplot(gene_df, x='mean', y='dispersions_norm')\n",
    "\n",
    "plt.title('Log - Mean vs custom dispersion')\n",
    "plt.xlabel('Log - Mean')\n",
    "plt.ylabel('Log - Custom dispersion')"
   ]
  },
  {
   "cell_type": "code",
   "execution_count": null,
   "id": "750eebe4",
   "metadata": {},
   "outputs": [],
   "source": [
    "# Sort genes by coefficient of variation\n",
    "gene_df = gene_df.sort_values('dispersions_norm', ascending=False)\n",
    "\n",
    "# Keep 2000 genes with highest coefficient of variation\n",
    "highly_variable_genes = gene_df.index[:2000]\n",
    "\n",
    "# Subset the expression matrix to highly variable genes\n",
    "expression_df = expression_df.loc[:, highly_variable_genes]"
   ]
  },
  {
   "attachments": {},
   "cell_type": "markdown",
   "id": "eca8a6c4",
   "metadata": {},
   "source": [
    "## Dimensionality reduction\n"
   ]
  },
  {
   "cell_type": "code",
   "execution_count": null,
   "id": "4bf7b77c",
   "metadata": {},
   "outputs": [],
   "source": [
    "# Run PCA\n",
    "pca = PCA()\n",
    "pca_transformed_data = pca.fit_transform(expression_df.to_numpy())"
   ]
  },
  {
   "cell_type": "code",
   "execution_count": null,
   "id": "8b1defe9",
   "metadata": {
    "scrolled": false
   },
   "outputs": [],
   "source": [
    "# Perform knee detection\n",
    "cumulative_explained_variance = np.cumsum(pca.explained_variance_ratio_)*100\n",
    "\n",
    "kneedle = KneeLocator(\n",
    "    range(len(cumulative_explained_variance)), \n",
    "    cumulative_explained_variance, \n",
    "    S=1.0, \n",
    "    curve=\"concave\", \n",
    "    direction=\"increasing\"\n",
    ")\n",
    "kneedle.plot_knee()"
   ]
  },
  {
   "attachments": {},
   "cell_type": "markdown",
   "id": "b461e854",
   "metadata": {},
   "source": [
    "Number of principal components is choosen to be 50. This is frequent choice for this analysis type."
   ]
  },
  {
   "cell_type": "code",
   "execution_count": null,
   "id": "f823d6f4",
   "metadata": {},
   "outputs": [],
   "source": [
    "# Extract subset of principal components\n",
    "elbow_point = kneedle.elbow\n",
    "pca_transformed_data = pca_transformed_data[:, :50]"
   ]
  },
  {
   "cell_type": "code",
   "execution_count": null,
   "id": "782ae7a6",
   "metadata": {},
   "outputs": [],
   "source": [
    "# Run umap \n",
    "umap_obj = umap.UMAP()\n",
    "embedding = umap_obj.fit_transform(pca_transformed_data)"
   ]
  },
  {
   "attachments": {},
   "cell_type": "markdown",
   "id": "ab8cc9ec",
   "metadata": {},
   "source": [
    "#### Following peripheral blood mononuclear cells (PBMCs) are present in this dataset.\n",
    "\n",
    "\n",
    "- **B Cells**\n",
    "  - **What They Do**: Make \"tags\" (antibodies) that stick to germs and mark them for destruction.\n",
    "  - **Main Role**: Help the immune system recognize and remember germs.\n",
    "  - **Why Different**: Only cells that make antibodies to tag specific germs.\n",
    "\n",
    "<!-- Empty Line After Main Bullet -->\n",
    "\n",
    "\n",
    "- **Dendritic Cells (DCs)**\n",
    "  - **What They Do**: Capture germs and show pieces to other immune cells.\n",
    "  - **Main Role**: Alert the immune system about invaders.\n",
    "  - **Why Different**: Messengers between the first-line and specialized immune defenses.\n",
    "\n",
    "<!-- Empty Line After Main Bullet -->\n",
    "\n",
    "\n",
    "- **CD14+ Monocytes**\n",
    "  - **What They Do**: Suck up germs, break them apart, and can change into macrophages.\n",
    "  - **Main Role**: Clean up and later transform into tissue-specific cells for ongoing defense.\n",
    "  - **Why Different**: Versatile; can transform and become part of tissue defenses.\n",
    "\n",
    "<!-- Empty Line After Main Bullet -->\n",
    "\n",
    "\n",
    "- **Natural Killer (NK) cells**\n",
    "  - **What They Do**: Patrol and kill infected or cancerous cells without needing specific tags.\n",
    "  - **Main Role**: Quick response to a wide range of problems.\n",
    "  - **Why Different**: Can act without needing to recognize specific germs.\n",
    "\n",
    "<!-- Empty Line After Main Bullet -->\n",
    "\n",
    "\n",
    "- **CD8 T cells**\n",
    "  - **What They Do**: Directly kill infected or cancerous cells.\n",
    "  - **Main Role**: Eliminate specifically tagged cells.\n",
    "  - **Why Different**: The \"assassins\" that directly kill target cells.\n",
    "\n",
    "<!-- Empty Line After Main Bullet -->\n",
    "\n",
    "\n",
    "- **Naive CD4 T cells**\n",
    "  - **What They Do**: Wait to be activated to fight specific germs.\n",
    "  - **Main Role**: Ready to be trained for fighting specific invaders.\n",
    "  - **Why Different**: Untrained soldiers waiting for their first mission.\n",
    "\n",
    "<!-- Empty Line After Main Bullet -->\n",
    "\n",
    "\n",
    "- **Memory CD4 T cells**\n",
    "  - **What They Do**: Remember past germs and react faster next time.\n",
    "  - **Main Role**: Quick response to known threats.\n",
    "  - **Why Different**: The immune system's \"record keepers.\"\n",
    "\n",
    "<!-- Empty Line After Main Bullet -->\n",
    "\n",
    "- **FCGR3A+ Monocytes**\n",
    "  - **What They Do**: Work with antibodies to make them more effective at tagging germs.\n",
    "  - **Main Role**: Boost the effectiveness of antibodies.\n",
    "  - **Why Different**: Have a special \"hook\" (FCGR3A) that enhances their cooperation with antibodies.\n",
    "\n",
    "<!-- Empty Line After Main Bullet -->\n",
    "\n",
    "\n",
    "- **Platelets**\n",
    "  - **What They Do**: Help blood to clot.\n",
    "  - **Main Role**: Stop bleeding.\n",
    "  - **Why Different**: Not directly involved in fighting germs but crucial for preventing blood loss.\n",
    "\n"
   ]
  },
  {
   "cell_type": "code",
   "execution_count": null,
   "id": "8c8ac80d",
   "metadata": {},
   "outputs": [],
   "source": [
    "# Plot umap embedding and display cell types\n",
    "labels = [cell_type_dict[cell_id] if cell_id in cell_type_dict else 'none' for cell_id in expression_df.index ]\n",
    "uplot.points(umap_obj, labels=np.array(labels))"
   ]
  },
  {
   "attachments": {},
   "cell_type": "markdown",
   "id": "3862a446",
   "metadata": {},
   "source": [
    "## Attempt to cluster the data with K-means"
   ]
  },
  {
   "cell_type": "code",
   "execution_count": null,
   "id": "0ca06b16",
   "metadata": {},
   "outputs": [],
   "source": [
    "inertia_list = []\n",
    "silhouette_score_list = []\n",
    "\n",
    "# List used to store clusterings\n",
    "clustering_result_dict = {}\n",
    "\n",
    "# List used to store k means objects\n",
    "k_means_list = []\n",
    "\n",
    "num_clusters = range(3,15)\n",
    "\n",
    "for num_clust in num_clusters:\n",
    "    \n",
    "    # Perform clustering for current number of clusters\n",
    "    kmeans = KMeans(n_clusters=num_clust, n_init='auto', random_state=42)\n",
    "    kmeans.fit(pca_transformed_data)\n",
    "    \n",
    "    k_means_list.append(kmeans)\n",
    "    \n",
    "    # Calculate inertia\n",
    "    inertia_list.append(kmeans.inertia_)\n",
    "    \n",
    "    # Add clustering result to list\n",
    "    silhouette_scr = silhouette_score(pca_transformed_data, kmeans.labels_)\n",
    "    silhouette_score_list.append(silhouette_scr)\n",
    "    \n",
    "    clustering_result_dict[num_clust] = np.array(kmeans.labels_)\n"
   ]
  },
  {
   "cell_type": "code",
   "execution_count": null,
   "id": "b02c2d4e",
   "metadata": {},
   "outputs": [],
   "source": [
    "# Siluethe plot\n",
    "plt.plot(num_clusters, silhouette_score_list)\n",
    "plt.title('Silhouette score')\n",
    "plt.xlabel('Number of clusters')\n",
    "plt.ylabel('Silhouette score value')"
   ]
  },
  {
   "cell_type": "code",
   "execution_count": null,
   "id": "ceae06dd",
   "metadata": {},
   "outputs": [],
   "source": [
    "# Plot inertia plot and curve\n",
    "kneedle = KneeLocator(\n",
    "    num_clusters, \n",
    "    inertia_list, \n",
    "    S=2, \n",
    "    curve=\"convex\", \n",
    "    direction=\"decreasing\"\n",
    ")\n",
    "kneedle.plot_knee()"
   ]
  },
  {
   "cell_type": "code",
   "execution_count": null,
   "id": "dcf8f2c7",
   "metadata": {},
   "outputs": [],
   "source": [
    "uplot.points(umap_obj, labels=np.array(labels))"
   ]
  },
  {
   "cell_type": "code",
   "execution_count": null,
   "id": "05bf3ebd",
   "metadata": {},
   "outputs": [],
   "source": [
    "umap.plot.connectivity(umap_obj, show_points=True,labels=np.array(labels))"
   ]
  },
  {
   "cell_type": "code",
   "execution_count": null,
   "id": "faa8c0dc",
   "metadata": {},
   "outputs": [],
   "source": [
    "umap.plot.diagnostic(umap_obj, diagnostic_type='pca')"
   ]
  },
  {
   "cell_type": "code",
   "execution_count": null,
   "id": "360cbaa6",
   "metadata": {},
   "outputs": [],
   "source": [
    "num_clust_list = [3,4,5,6,7,8,9]\n",
    "\n",
    "# Initialize the grid of plots\n",
    "fig, axs = plt.subplots(\n",
    "    len(num_clust_list), 3, \n",
    "    figsize=(16, 30)\n",
    ")\n",
    "\n",
    "tab10 = list(matplotlib.colormaps['tab10'].colors)\n",
    "\n",
    "# Loop to populate the grid with plots\n",
    "for i in range(len(num_clust_list)):\n",
    "\n",
    "    sns.scatterplot(\n",
    "        x=embedding[:,0], \n",
    "        y=embedding[:,1], \n",
    "        hue=clustering_result_dict[num_clust_list[i]], \n",
    "        ax=axs[i, 0], \n",
    "        s=3, palette='tab10'\n",
    "    )\n",
    "    \n",
    "    visualizer = SilhouetteVisualizer(\n",
    "        k_means_list[i], \n",
    "        is_fitted=True,\n",
    "        colors=tab10,\n",
    "        ax=axs[i, 1]\n",
    "    )\n",
    "    \n",
    "    visualizer = visualizer.fit(pca_transformed_data)\n",
    "        \n",
    "    sns.scatterplot(\n",
    "        x=embedding[:,0], \n",
    "        y=embedding[:,1], \n",
    "        hue=np.array(labels), \n",
    "        ax=axs[i, 2], \n",
    "        s=3, palette='tab10'\n",
    "    )\n",
    "    axs[i,0].set_title('K-means clusters, K={}'.format(num_clust_list[i]))\n",
    "    axs[i,1].set_title('True cell types')\n",
    "\n",
    "plt.show()\n"
   ]
  },
  {
   "cell_type": "code",
   "execution_count": null,
   "id": "03f9cc55",
   "metadata": {},
   "outputs": [],
   "source": [
    "adj_rand_score_list = []\n",
    "for clust_num in clustering_result_dict:\n",
    "    \n",
    "    adj_rand_score_list.append(adjusted_rand_score(clustering_result_dict[clust_num], labels))\n",
    "    \n",
    "plt.plot(clustering_result_dict.keys(), adj_rand_score_list)\n",
    "plt.title('Adjusted rand score')"
   ]
  },
  {
   "cell_type": "markdown",
   "id": "0389cc00",
   "metadata": {},
   "source": [
    "### Describing the clusters - K=7"
   ]
  },
  {
   "cell_type": "code",
   "execution_count": null,
   "metadata": {},
   "outputs": [],
   "source": [
    "# Get cells bellonging to cluster 6\n",
    "current_clust = clustering_result_dict[7]\n",
    "current_clust\n",
    "\n",
    "bcells_idx = np.where(current_clust==6)\n",
    "other_clust_idx = np.where(current_clust!=6)"
   ]
  },
  {
   "cell_type": "code",
   "execution_count": null,
   "id": "d6adad42",
   "metadata": {},
   "outputs": [],
   "source": [
    "from scipy.stats import mannwhitneyu\n",
    "\n",
    "result_df = pd.DataFrame(columns=['ratio', 'pvalue'])\n",
    "\n",
    "# Iterate through genes\n",
    "for gene in full_expression_df.columns:\n",
    "    \n",
    "    # Get expression values for current gene\n",
    "    curr_gene_exp = full_expression_df[gene].to_numpy()\n",
    "    \n",
    "    # Extract values belinging to cluster 2\n",
    "    bcells_exp = curr_gene_exp[bcells_idx]\n",
    "    # Extract values belonging to other clusters\n",
    "    other_exp = curr_gene_exp[other_clust_idx]\n",
    "    \n",
    "    # Find ration of mean values\n",
    "    mean_bcells = np.mean(bcells_exp) + 0.0001\n",
    "    mean_others = np.mean(other_exp) + 0.0001\n",
    "    \n",
    "    ratio = mean_bcells/mean_others\n",
    "    \n",
    "    # Perform statistical testing\n",
    "    ranksum_res = mannwhitneyu(bcells_exp, other_exp, alternative='greater')\n",
    "    \n",
    "    if ranksum_res.pvalue is not None:\n",
    "        result_df.loc[gene, 'ratio'] = ratio\n",
    "        result_df.loc[gene, 'pvalue'] = ranksum_res.pvalue"
   ]
  },
  {
   "cell_type": "code",
   "execution_count": null,
   "id": "06abf4b1",
   "metadata": {},
   "outputs": [],
   "source": [
    "result_df['pvalue'] = pd.to_numeric(result_df['pvalue'], errors='coerce')"
   ]
  },
  {
   "cell_type": "code",
   "execution_count": null,
   "id": "b8128802",
   "metadata": {},
   "outputs": [],
   "source": [
    "result_df.sort_values(['pvalue', 'ratio'], ascending=True).head(10)"
   ]
  },
  {
   "cell_type": "code",
   "execution_count": null,
   "id": "9e092219",
   "metadata": {},
   "outputs": [],
   "source": [
    "uplot.points(\n",
    "    umap_obj, \n",
    "    values=full_expression_df['MS4A1'].to_numpy(), \n",
    "    width=600, height=600\n",
    ")\n",
    "plt.title('MS4A1 gene expression - B-cell marker')"
   ]
  },
  {
   "cell_type": "code",
   "execution_count": null,
   "id": "e6ffa435",
   "metadata": {},
   "outputs": [],
   "source": [
    "uplot.points(\n",
    "    umap_obj, \n",
    "    values=full_expression_df['CD79A'].to_numpy(), \n",
    "    width=600, height=600\n",
    ")\n",
    "plt.title('CD79A gene expression - B-cell marker')"
   ]
  }
 ],
 "metadata": {
  "kernelspec": {
   "display_name": "Python 3.7.0 64-bit",
   "language": "python",
   "name": "python3"
  },
  "language_info": {
   "codemirror_mode": {
    "name": "ipython",
    "version": 3
   },
   "file_extension": ".py",
   "mimetype": "text/x-python",
   "name": "python",
   "nbconvert_exporter": "python",
   "pygments_lexer": "ipython3",
   "version": "3.7.0"
  },
  "vscode": {
   "interpreter": {
    "hash": "e774977668b7c0ae8309835a5187aa7fbf7669e7d0bb59755bc63e573643edcd"
   }
  }
 },
 "nbformat": 4,
 "nbformat_minor": 5
}
