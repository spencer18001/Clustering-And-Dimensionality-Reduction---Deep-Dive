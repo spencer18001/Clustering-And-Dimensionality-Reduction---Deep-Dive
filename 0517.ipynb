{
 "cells": [
  {
   "cell_type": "markdown",
   "id": "b2f4b64a",
   "metadata": {},
   "source": [
    "## Selecting number of PCs"
   ]
  },
  {
   "cell_type": "code",
   "execution_count": null,
   "id": "afa35899",
   "metadata": {},
   "outputs": [],
   "source": [
    "# pandas and numpy imports\n",
    "import pandas as pd\n",
    "import numpy as np\n",
    "\n",
    "# plotting imports\n",
    "import matplotlib.pyplot as plt\n",
    "import seaborn as sns\n",
    "\n",
    "# import PCA\n",
    "from sklearn.datasets import load_digits\n",
    "from sklearn.datasets import load_wine\n",
    "from sklearn.decomposition import PCA\n",
    "from sklearn.preprocessing import StandardScaler\n",
    "\n",
    "# import knee detection algorithm\n",
    "from kneed import KneeLocator\n",
    "\n",
    "# set sns theme and set pandas to display all rows and columns\n",
    "sns.set_theme()\n",
    "plt.rcParams['figure.figsize'] = [10, 6]"
   ]
  },
  {
   "cell_type": "markdown",
   "id": "e6dd9a6b",
   "metadata": {},
   "source": [
    "## Load the dataset"
   ]
  },
  {
   "cell_type": "code",
   "execution_count": null,
   "id": "ea374b18",
   "metadata": {},
   "outputs": [],
   "source": [
    "# Load the wine dataset\n",
    "wine_data = load_wine()\n",
    "\n",
    "wine_df_numeric = pd.DataFrame(wine_data.data, columns=wine_data.feature_names)\n",
    "\n",
    "wine_df = wine_df_numeric.copy()\n",
    "wine_df['label'] = wine_data.target\n",
    "\n",
    "# Normalize the data\n",
    "standard_scaler = StandardScaler()\n",
    "standard_scaler.fit(wine_df_numeric)\n",
    "wine_df_numeric_scaled = standard_scaler.transform(wine_df_numeric)\n",
    "\n",
    "# Create data df\n",
    "wine_df_numeric = pd.DataFrame(\n",
    "    wine_df_numeric_scaled, \n",
    "    columns = wine_df_numeric.columns\n",
    ")\n",
    "\n",
    "g = sns.boxplot(wine_df_numeric)\n",
    "_ = g.set_xticklabels(g.get_xticklabels(), rotation=90)"
   ]
  },
  {
   "cell_type": "markdown",
   "id": "a0d10815",
   "metadata": {},
   "source": [
    "## n_components parameter"
   ]
  },
  {
   "cell_type": "code",
   "execution_count": null,
   "id": "763b6097",
   "metadata": {},
   "outputs": [],
   "source": [
    "# Run full PCA\n",
    "pca = PCA()\n",
    "pca.fit(wine_df_numeric)\n",
    "pca_transformed_data = pca.transform(wine_df_numeric)\n",
    "\n",
    "print('Number of PCA components {}'.format(pca_transformed_data.shape[1]))\n",
    "print('\\nVariances explained by components:')\n",
    "\n",
    "[var_ration*100 for var_ration in pca.explained_variance_ratio_]"
   ]
  },
  {
   "cell_type": "code",
   "execution_count": null,
   "id": "054119ff",
   "metadata": {},
   "outputs": [],
   "source": [
    "# Perform PCA and choose two components\n",
    "pca = PCA(n_components=2)\n",
    "pca.fit(wine_df_numeric)\n",
    "pca_transformed_data = pca.transform(wine_df_numeric)\n",
    "\n",
    "print('Number of PCA components {}'.format(pca_transformed_data.shape[1]))\n",
    "print('\\nVariances explained by components:')\n",
    "\n",
    "[var_ration*100 for var_ration in pca.explained_variance_ratio_]"
   ]
  },
  {
   "cell_type": "code",
   "execution_count": null,
   "id": "0761d786",
   "metadata": {},
   "outputs": [],
   "source": [
    "# Perform PCA and choose number of components based on desired percent of explained variance\n",
    "pca = PCA(n_components=0.7)\n",
    "pca.fit(wine_df_numeric)\n",
    "pca_transformed_data = pca.transform(wine_df_numeric)\n",
    "\n",
    "print('Number of PCA components {}'.format(pca_transformed_data.shape[1]))\n",
    "\n",
    "print('\\nVariances explained by components:')\n",
    "print([var_ration*100 for var_ration in pca.explained_variance_ratio_])\n",
    "\n",
    "explained_sum = sum([var_ration*100 for var_ration in pca.explained_variance_ratio_])\n",
    "print('\\nTotal variance explained by returned components : {}'.format(explained_sum))\n"
   ]
  },
  {
   "cell_type": "markdown",
   "id": "91635286",
   "metadata": {},
   "source": [
    "## Selecting right number of principle components - cumulative variance"
   ]
  },
  {
   "cell_type": "code",
   "execution_count": null,
   "id": "6cb4bcaa",
   "metadata": {},
   "outputs": [],
   "source": [
    "pca = PCA()\n",
    "pca.fit(wine_df_numeric)\n",
    "pca_transformed_data = pca.transform(wine_df_numeric)\n",
    "\n",
    "print('Number of PCA components {}'.format(pca_transformed_data.shape[1]))\n",
    "\n",
    "cumulative_explained_variance = np.cumsum(pca.explained_variance_ratio_)*100\n",
    "\n",
    "plt.plot(range(len(cumulative_explained_variance)), cumulative_explained_variance)\n",
    "plt.scatter(range(len(cumulative_explained_variance)),cumulative_explained_variance)\n",
    "plt.xlabel('Number of Components')\n",
    "plt.ylabel('Cumulative Explained Variance')\n",
    "plt.show()"
   ]
  },
  {
   "cell_type": "markdown",
   "id": "3fb2fb64",
   "metadata": {},
   "source": [
    "## Selecting right number of principle components - elbow method\n",
    "\n"
   ]
  },
  {
   "cell_type": "code",
   "execution_count": null,
   "id": "a5c51574",
   "metadata": {},
   "outputs": [],
   "source": [
    "from sklearn.datasets import fetch_openml\n",
    "\n",
    "mnist = fetch_openml('mnist_784', parser='auto')\n",
    "\n",
    "mnist_data = mnist.data.values\n",
    "mnist_label = mnist.target"
   ]
  },
  {
   "cell_type": "code",
   "execution_count": null,
   "id": "f59748ab",
   "metadata": {},
   "outputs": [],
   "source": [
    "mnist_data.shape"
   ]
  },
  {
   "cell_type": "code",
   "execution_count": null,
   "id": "007a8cf1",
   "metadata": {},
   "outputs": [],
   "source": [
    "# Reshape image\n",
    "image = np.reshape(mnist_data[0,:], [28,28])\n",
    "\n",
    "# Display the image using matplotlib\n",
    "plt.imshow(image, cmap='gray')\n",
    "plt.title(f\"Label: {mnist_label[0]}\")\n",
    "plt.show()"
   ]
  },
  {
   "cell_type": "code",
   "execution_count": null,
   "id": "e83d9242",
   "metadata": {},
   "outputs": [],
   "source": [
    "# Custom normalization\n",
    "mnist_data = mnist_data/255"
   ]
  },
  {
   "cell_type": "code",
   "execution_count": null,
   "id": "18428bc6",
   "metadata": {},
   "outputs": [],
   "source": [
    "# Perform PCA\n",
    "pca = PCA()\n",
    "pca.fit(mnist_data)\n",
    "pca_transformed_data = pca.transform(mnist_data)\n",
    "\n",
    "print('Number of PCA components {}'.format(pca_transformed_data.shape[1]))\n",
    "\n",
    "cumulative_explained_variance = np.cumsum(pca.explained_variance_ratio_)*100\n",
    "\n",
    "kneedle = KneeLocator(\n",
    "    range(len(cumulative_explained_variance)), \n",
    "    cumulative_explained_variance, \n",
    "    curve=\"concave\", \n",
    "    direction=\"increasing\"\n",
    ")\n",
    "kneedle.plot_knee()"
   ]
  },
  {
   "cell_type": "code",
   "execution_count": null,
   "id": "05e794c0",
   "metadata": {},
   "outputs": [],
   "source": [
    "kneedle.elbow"
   ]
  },
  {
   "cell_type": "code",
   "execution_count": null,
   "id": "53f6b985",
   "metadata": {},
   "outputs": [],
   "source": [
    "# If we do not perform inverse transform : \n",
    "\n",
    "# pca.components_ = pca.components_[kneedle.elbow, :]"
   ]
  },
  {
   "cell_type": "code",
   "execution_count": null,
   "id": "ef161c13",
   "metadata": {
    "scrolled": true
   },
   "outputs": [],
   "source": [
    "# Perform PCA\n",
    "pca = PCA(n_components=kneedle.elbow)\n",
    "pca.fit(mnist_data)\n",
    "pca_transformed_data = pca.transform(mnist_data)"
   ]
  },
  {
   "cell_type": "code",
   "execution_count": null,
   "id": "64f163f9",
   "metadata": {},
   "outputs": [],
   "source": [
    "pca_transformed_data.shape"
   ]
  },
  {
   "cell_type": "code",
   "execution_count": null,
   "id": "be584706",
   "metadata": {},
   "outputs": [],
   "source": [
    "reverse_transformed_data = pca.inverse_transform(pca_transformed_data)\n",
    "unscaled_data = reverse_transformed_data * 255 "
   ]
  },
  {
   "cell_type": "code",
   "execution_count": null,
   "id": "f06dfe32",
   "metadata": {},
   "outputs": [],
   "source": [
    "image = np.reshape(unscaled_data[0,:], [28,28])\n",
    "\n",
    "# Display the image using matplotlib\n",
    "plt.imshow(image, cmap='gray')\n",
    "plt.title(f\"Label: {mnist_label[0]}\")\n",
    "plt.show()"
   ]
  },
  {
   "cell_type": "markdown",
   "id": "da19e37e",
   "metadata": {},
   "source": [
    "## Denoise with PCA"
   ]
  },
  {
   "cell_type": "code",
   "execution_count": null,
   "id": "d4296458",
   "metadata": {},
   "outputs": [],
   "source": [
    "mnist = fetch_openml('mnist_784', parser='auto')\n",
    "\n",
    "mnist_data = mnist.data.values\n",
    "mnist_label = mnist.target"
   ]
  },
  {
   "cell_type": "code",
   "execution_count": null,
   "id": "96e3af3b",
   "metadata": {},
   "outputs": [],
   "source": [
    "mnist_data = mnist_data/255"
   ]
  },
  {
   "cell_type": "code",
   "execution_count": null,
   "id": "7ab8e32d",
   "metadata": {},
   "outputs": [],
   "source": [
    "image = np.reshape(mnist_data[0,:], [28,28])\n",
    "\n",
    "plt.imshow(image, cmap='gray')\n",
    "plt.title(f\"Label: {mnist_label[0]}\")\n",
    "plt.show()"
   ]
  },
  {
   "cell_type": "code",
   "execution_count": null,
   "id": "9e30ad26",
   "metadata": {},
   "outputs": [],
   "source": [
    "noise = np.random.normal(0, 0.2, mnist_data.shape)\n",
    "mnist_data_noisy = mnist_data + noise"
   ]
  },
  {
   "cell_type": "code",
   "execution_count": null,
   "id": "4e0e3858",
   "metadata": {},
   "outputs": [],
   "source": [
    "image = np.reshape(mnist_data_noisy[0,:], [28,28])\n",
    "\n",
    "plt.imshow(image, cmap='gray')\n",
    "plt.title(f\"Label: {mnist_label[0]}\")\n",
    "plt.show()"
   ]
  },
  {
   "cell_type": "code",
   "execution_count": null,
   "id": "afca6e96",
   "metadata": {},
   "outputs": [],
   "source": [
    "# Denoise with PCA\n",
    "pca = PCA()\n",
    "pca.fit(mnist_data_noisy)\n",
    "pca_transformed_data = pca.transform(mnist_data_noisy)\n",
    "print('Number of PCA components {}'.format(pca_transformed_data.shape[1]))\n",
    "cumulative_explained_variance = np.cumsum(pca.explained_variance_ratio_)*100\n",
    "\n",
    "kneedle = KneeLocator(\n",
    "    range(len(cumulative_explained_variance)), \n",
    "    cumulative_explained_variance, \n",
    "    S=1.0, \n",
    "    curve=\"concave\", \n",
    "    direction=\"increasing\"\n",
    ")\n",
    "kneedle.plot_knee()"
   ]
  },
  {
   "cell_type": "code",
   "execution_count": null,
   "id": "bdc3ec33",
   "metadata": {},
   "outputs": [],
   "source": [
    "kneedle.elbow"
   ]
  },
  {
   "cell_type": "code",
   "execution_count": null,
   "id": "809619e6",
   "metadata": {},
   "outputs": [],
   "source": [
    "pca = PCA(n_components=kneedle.elbow)\n",
    "pca.fit(mnist_data_noisy)\n",
    "pca_transformed_data = pca.transform(mnist_data_noisy)"
   ]
  },
  {
   "cell_type": "code",
   "execution_count": null,
   "id": "40cea2d9",
   "metadata": {},
   "outputs": [],
   "source": [
    "pca_transformed_data.shape"
   ]
  },
  {
   "cell_type": "code",
   "execution_count": null,
   "id": "2e7b2fdd",
   "metadata": {},
   "outputs": [],
   "source": [
    "reverse_transformed_data = pca.inverse_transform(pca_transformed_data)\n",
    "unscaled_data = reverse_transformed_data * 255 "
   ]
  },
  {
   "cell_type": "code",
   "execution_count": null,
   "id": "02c81895",
   "metadata": {},
   "outputs": [],
   "source": [
    "image = np.reshape(unscaled_data[0,:], [28,28])\n",
    "\n",
    "plt.imshow(image, cmap='gray')\n",
    "plt.title(f\"Label: {mnist_label[0]}\")\n",
    "plt.show()"
   ]
  },
  {
   "cell_type": "markdown",
   "id": "fa9fc0b6",
   "metadata": {},
   "source": [
    "### Display digits dataset with PCA"
   ]
  },
  {
   "cell_type": "code",
   "execution_count": null,
   "id": "7a6a5d2a",
   "metadata": {},
   "outputs": [],
   "source": [
    "pca = PCA()\n",
    "pca.fit(mnist_data)\n",
    "pca.explained_variance_ratio_[:2]*100"
   ]
  },
  {
   "cell_type": "code",
   "execution_count": null,
   "id": "1bf2377c",
   "metadata": {},
   "outputs": [],
   "source": [
    "plt.figure(figsize=(8,8))\n",
    "sns.scatterplot(x=pca_transformed_data[:,0], y=pca_transformed_data[:,1], hue=mnist_label, alpha=0.5)\n",
    "\n",
    "plt.title('Digits - top 2 principal components')\n",
    "plt.xlabel('PC1 [9.7 % variance]')\n",
    "plt.ylabel('PC1 [7.1 % variance]')"
   ]
  }
 ],
 "metadata": {
  "kernelspec": {
   "display_name": "Python 3 (ipykernel)",
   "language": "python",
   "name": "python3"
  },
  "language_info": {
   "codemirror_mode": {
    "name": "ipython",
    "version": 3
   },
   "file_extension": ".py",
   "mimetype": "text/x-python",
   "name": "python",
   "nbconvert_exporter": "python",
   "pygments_lexer": "ipython3",
   "version": "3.11.3"
  }
 },
 "nbformat": 4,
 "nbformat_minor": 5
}
