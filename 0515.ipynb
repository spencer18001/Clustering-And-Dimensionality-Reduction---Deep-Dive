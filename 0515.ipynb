{
 "cells": [
  {
   "cell_type": "markdown",
   "id": "9ce40c2a",
   "metadata": {},
   "source": [
    "## PCA sklearn - real data"
   ]
  },
  {
   "cell_type": "code",
   "execution_count": null,
   "id": "0a71078f",
   "metadata": {},
   "outputs": [],
   "source": [
    "# pandas and numpy imports\n",
    "import pandas as pd\n",
    "import numpy as np\n",
    "\n",
    "# plotting imports\n",
    "import matplotlib.pyplot as plt\n",
    "import seaborn as sns\n",
    "\n",
    "# import PCA\n",
    "from sklearn.datasets import load_iris\n",
    "from sklearn.decomposition import PCA\n",
    "from sklearn.preprocessing import StandardScaler\n",
    "\n",
    "# set sns theme and set pandas to display all rows and columns\n",
    "sns.set_theme()\n"
   ]
  },
  {
   "cell_type": "markdown",
   "id": "aa5c4bb1",
   "metadata": {},
   "source": [
    "## Iris data demo"
   ]
  },
  {
   "cell_type": "code",
   "execution_count": null,
   "id": "de4257e1",
   "metadata": {},
   "outputs": [],
   "source": [
    "# Load iris dataset\n",
    "iris = load_iris()\n",
    "\n",
    "# Format iris dataset as dataframe\n",
    "numeric_iris_df = pd.DataFrame(\n",
    "    iris['data'],\n",
    "    columns=iris['feature_names']\n",
    ")\n",
    "\n",
    "iris_df = numeric_iris_df.copy()\n",
    "iris_df['label'] = iris['target_names'][iris['target']]\n"
   ]
  },
  {
   "cell_type": "code",
   "execution_count": null,
   "id": "e5eea1fe",
   "metadata": {},
   "outputs": [],
   "source": [
    "# Scale the data\n",
    "standard_scaler = StandardScaler()\n",
    "standard_scaler.fit(numeric_iris_df)\n",
    "numeric_iris_df = standard_scaler.transform(numeric_iris_df)"
   ]
  },
  {
   "cell_type": "code",
   "execution_count": null,
   "id": "809ff47c",
   "metadata": {},
   "outputs": [],
   "source": [
    "# Perform PCA\n",
    "pca = PCA()\n",
    "pca.fit(numeric_iris_df)\n",
    "pca_transformed_data = pca.transform(numeric_iris_df)"
   ]
  },
  {
   "cell_type": "code",
   "execution_count": null,
   "id": "eeea22a1",
   "metadata": {},
   "outputs": [],
   "source": [
    "pca_transformed_data.shape"
   ]
  },
  {
   "cell_type": "code",
   "execution_count": null,
   "id": "11a8b839",
   "metadata": {},
   "outputs": [],
   "source": [
    "# Determine variance explained by each component\n",
    "[var_ration*100 for var_ration in pca.explained_variance_ratio_]"
   ]
  },
  {
   "cell_type": "code",
   "execution_count": null,
   "id": "bd26c7a9",
   "metadata": {},
   "outputs": [],
   "source": [
    "# Plot first two principal components\n",
    "iris_df_pca = pd.DataFrame(pca_transformed_data[:,:2], columns=['PC1', 'PC2'])\n",
    "iris_df_pca['label'] = iris_df['label']"
   ]
  },
  {
   "cell_type": "code",
   "execution_count": null,
   "id": "b139dc36",
   "metadata": {},
   "outputs": [],
   "source": [
    "sns.scatterplot(iris_df_pca, x='PC1', y='PC2', hue='label')\n",
    "plt.xlabel('PC1 (72.9 % variance)')\n",
    "plt.ylabel('PC2 (22.9 % variance)')\n",
    "plt.title('Iris dataset')\n",
    "plt.gca().set_aspect('equal', adjustable='box')"
   ]
  },
  {
   "cell_type": "code",
   "execution_count": null,
   "id": "5be92ae9",
   "metadata": {},
   "outputs": [],
   "source": [
    "pca.components_"
   ]
  },
  {
   "cell_type": "code",
   "execution_count": null,
   "metadata": {},
   "outputs": [],
   "source": [
    "iris_df.head().T"
   ]
  },
  {
   "cell_type": "code",
   "execution_count": null,
   "id": "9a067551",
   "metadata": {},
   "outputs": [],
   "source": [
    "plt.figure(figsize=(8,8))\n",
    "sns.scatterplot(iris_df_pca, x='PC1', y='PC2', hue='label')\n",
    "\n",
    "feat_names = iris_df.columns\n",
    "colors = ['red', 'black', 'purple', 'brown']\n",
    "\n",
    "loadings = pca.components_\n",
    "\n",
    "for i, feat_name, color in zip(range(loadings.shape[1]), feat_names, colors):\n",
    "    \n",
    "    plt.quiver(\n",
    "        0, 0, \n",
    "        loadings[0, i],\n",
    "        loadings[1, i], \n",
    "        angles='xy', scale_units='xy', \n",
    "        scale=1, color=color, \n",
    "        label=feat_name, \n",
    "        width=0.002\n",
    "    )\n",
    "    \n",
    "plt.xlabel('PC1 (72.9 % variance)')\n",
    "plt.ylabel('PC2 (22.9 % variance)')\n",
    "plt.legend()\n",
    "plt.gca().set_aspect('equal', adjustable='box')\n",
    "plt.title('Iris dataset')\n"
   ]
  },
  {
   "cell_type": "markdown",
   "id": "ad96c937",
   "metadata": {},
   "source": [
    "### Iris - differences between solvers"
   ]
  },
  {
   "cell_type": "code",
   "execution_count": null,
   "id": "44c9233e",
   "metadata": {},
   "outputs": [],
   "source": [
    "pca_full = PCA(svd_solver='full').fit(numeric_iris_df)\n",
    "pca_arpack = PCA(svd_solver='arpack').fit(numeric_iris_df)\n",
    "pca_random = PCA(svd_solver='randomized').fit(numeric_iris_df)"
   ]
  },
  {
   "cell_type": "code",
   "execution_count": null,
   "id": "11f5f3da",
   "metadata": {},
   "outputs": [],
   "source": [
    "print(pca_full.explained_variance_ratio_)\n",
    "print(pca_arpack.explained_variance_ratio_)\n",
    "print(pca_random.explained_variance_ratio_)"
   ]
  },
  {
   "cell_type": "code",
   "execution_count": null,
   "id": "f57a116b",
   "metadata": {},
   "outputs": [],
   "source": [
    "print(pca_full.components_)\n",
    "print(pca_arpack.components_)\n",
    "print(pca_random.components_)"
   ]
  },
  {
   "cell_type": "markdown",
   "id": "92ad0d30",
   "metadata": {},
   "source": [
    "## Wine dataset\n",
    "\n",
    "The Wine dataset is a classic multivariate dataset used for classification tasks in machine learning. \n",
    "- It consists of 178 samples of wine from three different cultivars (classes) in the same region in Italy. \n",
    "- Each sample has 13 continuous attributes (features) that are the result of a chemical analysis of the wines. \n",
    "- The goal of using this dataset is usually to build a classifier that can predict the cultivar of a wine based on its chemical composition.\n",
    "\n",
    "The dataset contains following features:\n",
    "\n",
    "- **Alcohol**: The alcohol content in the wine, measured in percentage.\n",
    "- **Malic Acid**: The amount of malic acid in the wine, affecting its tartness.\n",
    "- **Ash**: The measure of the non-aqueous residue remaining after heating, affecting wine stability.\n",
    "- **Alcalinity of Ash**: A measure of the alkalinity of the ash formed post-combustion, impacting wine's acidity.\n",
    "- **Magnesium**: The amount of magnesium in the wine, a cofactor in enzyme reactions.\n",
    "- **Total Phenols**: The total amount of phenolic compounds, contributing to taste and mouthfeel.\n",
    "- **Flavanoids**: A subset of phenolic compounds known to have antioxidant properties.\n",
    "- **Nonflavanoid Phenols**: Phenolic compounds that are not flavanoids, contributing to color and flavor.\n",
    "- **Proanthocyanins**: A class of phenolic compounds affecting color and astringency.\n",
    "- **Color Intensity**: The intensity of the wine's color, measured optically.\n",
    "- **Hue**: The color attribute that describes a pure color, usually measured via spectrophotometry.\n",
    "- **OD280/OD315 of diluted wines**: The absorbance ratio at 280 and 315 nm, indicating protein content and wine stability.\n",
    "- **Proline**: The amount of the amino acid proline, often linked to wine quality."
   ]
  },
  {
   "cell_type": "code",
   "execution_count": null,
   "id": "96095615",
   "metadata": {},
   "outputs": [],
   "source": [
    "from sklearn.datasets import load_wine\n",
    "\n",
    "# Load the wine dataset\n",
    "wine_data = load_wine()\n",
    "\n",
    "wine_df_numeric = pd.DataFrame(wine_data.data, columns=wine_data.feature_names)\n",
    "\n",
    "wine_df = wine_df_numeric.copy()\n",
    "wine_df['label'] = wine_data.target"
   ]
  },
  {
   "cell_type": "code",
   "execution_count": null,
   "id": "120be75b",
   "metadata": {},
   "outputs": [],
   "source": [
    "wine_df.shape"
   ]
  },
  {
   "cell_type": "code",
   "execution_count": null,
   "id": "149e91f2",
   "metadata": {},
   "outputs": [],
   "source": [
    "# Label names\n",
    "target_names = wine_data.target_names\n",
    "target_names"
   ]
  },
  {
   "cell_type": "code",
   "execution_count": null,
   "id": "0c4e4721",
   "metadata": {},
   "outputs": [],
   "source": [
    "wine_df.head()"
   ]
  },
  {
   "cell_type": "code",
   "execution_count": null,
   "id": "78440461",
   "metadata": {},
   "outputs": [],
   "source": [
    "wine_df.isnull().sum().T"
   ]
  },
  {
   "cell_type": "code",
   "execution_count": null,
   "id": "4f2bce06",
   "metadata": {},
   "outputs": [],
   "source": [
    "wine_df.describe().T"
   ]
  },
  {
   "cell_type": "code",
   "execution_count": null,
   "id": "98452ab2",
   "metadata": {},
   "outputs": [],
   "source": [
    "# Plot all the feature pairs\n",
    "_ = wine_df_numeric.hist(figsize=(9,9))\n",
    "plt.tight_layout()\n"
   ]
  },
  {
   "cell_type": "code",
   "execution_count": null,
   "id": "2b2e971d",
   "metadata": {},
   "outputs": [],
   "source": [
    "# Plot each individual feature\n",
    "plt.figure(figsize=(9,7))\n",
    "g = sns.boxplot(wine_df_numeric)\n",
    "plt.title('Wine features')\n",
    "_ = g.set_xticklabels(g.get_xticklabels(), rotation=90)"
   ]
  },
  {
   "cell_type": "markdown",
   "id": "ccab6c37",
   "metadata": {},
   "source": [
    "### Run PCA without scaling"
   ]
  },
  {
   "cell_type": "code",
   "execution_count": null,
   "id": "68090100",
   "metadata": {},
   "outputs": [],
   "source": [
    "# Perform PCA without scaling the data\n",
    "pca = PCA() \n",
    "pca.fit(wine_df_numeric)\n",
    "pca_transformed_data = pca.transform(wine_df_numeric)\n",
    "\n",
    "# Determine variance explained by each component\n",
    "[var_ration*100 for var_ration in pca.explained_variance_ratio_]"
   ]
  },
  {
   "cell_type": "code",
   "execution_count": null,
   "id": "17549ffc",
   "metadata": {},
   "outputs": [],
   "source": [
    "[comp*100 for comp in pca.components_[0]]"
   ]
  },
  {
   "cell_type": "code",
   "execution_count": null,
   "id": "8c0091f9",
   "metadata": {},
   "outputs": [],
   "source": [
    "# Plot first two principal components\n",
    "plt.figure(figsize=(20,20))\n",
    "wine_df_pca = pd.DataFrame(pca_transformed_data[:,:2], columns=['PC1', 'PC2'])\n",
    "wine_df_pca['label'] = wine_df['label']\n",
    "\n",
    "sns.scatterplot(wine_df_pca, x='PC1', y='PC2', hue='label')\n",
    "plt.title('Top 2 PCs - unscaled data')\n",
    "plt.gca().set_aspect('equal', adjustable='box')"
   ]
  },
  {
   "cell_type": "code",
   "execution_count": null,
   "id": "fbf45505",
   "metadata": {},
   "outputs": [],
   "source": [
    "# Plot proline\n",
    "plt.figure(figsize=(20,2))\n",
    "\n",
    "sns.scatterplot(wine_df, x='proline', y='label', hue='label')\n",
    "plt.title('Proline feature vs vine types')"
   ]
  },
  {
   "cell_type": "markdown",
   "id": "731ec2a5",
   "metadata": {},
   "source": [
    "### Run PCA with scaling"
   ]
  },
  {
   "cell_type": "code",
   "execution_count": null,
   "id": "2dfac931",
   "metadata": {},
   "outputs": [],
   "source": [
    "# Scale the data\n",
    "standard_scaler = StandardScaler()\n",
    "standard_scaler.fit(wine_df_numeric)\n",
    "wine_df_numeric_scaled = standard_scaler.transform(wine_df_numeric)\n",
    "wine_df_numeric = pd.DataFrame(\n",
    "    wine_df_numeric_scaled, \n",
    "    columns = wine_df_numeric.columns\n",
    ")\n",
    "\n",
    "plt.figure(figsize=(9,7))\n",
    "g = sns.boxplot(wine_df_numeric)\n",
    "plt.title('Wine scaled features')\n",
    "_ = g.set_xticklabels(g.get_xticklabels(), rotation=90)"
   ]
  },
  {
   "cell_type": "code",
   "execution_count": null,
   "id": "e2e68131",
   "metadata": {},
   "outputs": [],
   "source": [
    "# Plot all the feature pairs\n",
    "_ = wine_df_numeric.hist(figsize=(9,9))\n",
    "plt.tight_layout()"
   ]
  },
  {
   "cell_type": "code",
   "execution_count": null,
   "id": "fe0c4bf3",
   "metadata": {},
   "outputs": [],
   "source": [
    "# Perform PCA\n",
    "pca = PCA()\n",
    "pca.fit(wine_df_numeric)\n",
    "pca_transformed_data = pca.transform(wine_df_numeric)"
   ]
  },
  {
   "cell_type": "code",
   "execution_count": null,
   "id": "c2b58e3c",
   "metadata": {},
   "outputs": [],
   "source": [
    "# Determine variance explained by each component\n",
    "[var_ration*100 for var_ration in pca.explained_variance_ratio_]"
   ]
  },
  {
   "cell_type": "code",
   "execution_count": null,
   "id": "26c1d843",
   "metadata": {},
   "outputs": [],
   "source": [
    "[comp*100 for comp in pca.components_[0]]"
   ]
  },
  {
   "cell_type": "code",
   "execution_count": null,
   "id": "c5fafdd5",
   "metadata": {},
   "outputs": [],
   "source": [
    "# Plot first two principal components\n",
    "wine_df_pca = pd.DataFrame(pca_transformed_data[:,:2], columns=['PC1', 'PC2'])\n",
    "wine_df_pca['label'] = wine_df['label']"
   ]
  },
  {
   "cell_type": "code",
   "execution_count": null,
   "id": "38a93d5d",
   "metadata": {},
   "outputs": [],
   "source": [
    "plt.figure(figsize=(7,7))\n",
    "sns.scatterplot(wine_df_pca, x='PC1', y='PC2', hue='label')\n",
    "\n",
    "\n",
    "plt.xlabel('PC1 [36 % variance]')\n",
    "plt.ylabel('PC1 [19 % variance]')\n"
   ]
  }
 ],
 "metadata": {
  "kernelspec": {
   "display_name": "Python 3 (ipykernel)",
   "language": "python",
   "name": "python3"
  },
  "language_info": {
   "codemirror_mode": {
    "name": "ipython",
    "version": 3
   },
   "file_extension": ".py",
   "mimetype": "text/x-python",
   "name": "python",
   "nbconvert_exporter": "python",
   "pygments_lexer": "ipython3",
   "version": "3.11.3"
  }
 },
 "nbformat": 4,
 "nbformat_minor": 5
}
