{
 "cells": [
  {
   "cell_type": "markdown",
   "metadata": {},
   "source": [
    "## PCA sklearn"
   ]
  },
  {
   "cell_type": "code",
   "execution_count": null,
   "metadata": {},
   "outputs": [],
   "source": [
    "import numpy as np\n",
    "import pandas as pd\n",
    "\n",
    "import matplotlib.pyplot as plt\n",
    "import seaborn as sns\n",
    "\n",
    "from sklearn.preprocessing import StandardScaler\n",
    "\n",
    "import random\n",
    "\n",
    "random.seed(10)\n",
    "sns.set_theme()"
   ]
  },
  {
   "cell_type": "markdown",
   "metadata": {},
   "source": [
    "### PCA and eigenvectors - recap"
   ]
  },
  {
   "cell_type": "code",
   "execution_count": null,
   "metadata": {},
   "outputs": [],
   "source": [
    "def plot_data_and_axis(data, eigenvectors=None, axis_min=None, \n",
    "                        axis_max=None, figsize=None):\n",
    "    \n",
    "    \"\"\"\n",
    "    This function plots data in a 3D coordinate system.\n",
    "    This functio also plots coordinate system axis or arbitrary\n",
    "    set of vectors.\n",
    "    \n",
    "    :param data: numpy dataset with 3 features\n",
    "    :param eigenvectors: transposed eigenvector matrix\n",
    "    :param axis_min: min value for each axis on the plot\n",
    "    :param axis_max: max value for each axis on the plot\n",
    "    :return: \n",
    "    \"\"\"\n",
    "    \n",
    "    # Create 3D figure\n",
    "    fig = plt.figure(figsize=figsize)\n",
    "    ax = fig.add_subplot(111, projection='3d')\n",
    "    \n",
    "    # Plot the data\n",
    "    ax.scatter(data[:, 0], data[:, 1], data[:, 2], alpha=0.2)\n",
    "    \n",
    "    # Set axis labels\n",
    "    ax.set_xlabel('X axis')\n",
    "    ax.set_ylabel('Y axis')\n",
    "    ax.set_zlabel('Z axis')\n",
    "    \n",
    "    # Set minimum and maximum value for axis\n",
    "    if axis_min and axis_max:\n",
    "        ax.set_xlim(axis_min, axis_max)\n",
    "        ax.set_ylim(axis_min, axis_max)\n",
    "        ax.set_zlim(axis_min, axis_max)\n",
    "\n",
    "    ax.view_init(elev=20, azim=-35, roll=0)\n",
    "    \n",
    "    # Choose which axis will be plotted (arrow tips)\n",
    "    if eigenvectors is not None:\n",
    "        plot_vectors = eigenvectors\n",
    "    else:\n",
    "        plot_vectors = [\n",
    "            [1, 0, 0],\n",
    "            [0, 1, 0],\n",
    "            [0, 0, 1]\n",
    "        ]\n",
    "    \n",
    "    # Always set the origin at [0,0,0] (arrow starting point)\n",
    "    origin = [0, 0, 0]\n",
    "    \n",
    "    # Iterate over coordinate system arrows (three of them)\n",
    "    for i, component in enumerate(plot_vectors):\n",
    "        \n",
    "        # Plot arrow\n",
    "        ax.quiver(\n",
    "            origin[0],\n",
    "            origin[1],\n",
    "            origin[2],\n",
    "            component[0],\n",
    "            component[1],\n",
    "            component[2],\n",
    "            color=['r', 'g', 'b'][i],\n",
    "            lw=2\n",
    "        )\n",
    "\n",
    "    plt.show()"
   ]
  },
  {
   "cell_type": "code",
   "execution_count": null,
   "metadata": {},
   "outputs": [],
   "source": [
    "# Create 2D normaly distributed data\n",
    "mean = np.array([0,0])\n",
    "cov = np.array([[1,0.5],[0.5,1]])\n",
    "\n",
    "# Create z feature\n",
    "x_y_data = np.random.multivariate_normal(mean, cov, 500)\n",
    "z_col = 1.5*x_y_data[:,1]\n",
    "\n",
    "# Merge z col with x and y\n",
    "np_data_3D = np.column_stack([x_y_data, z_col])\n",
    "\n",
    "# Create dataframe in order to display data\n",
    "df_3D = pd.DataFrame(np_data_3D, columns=['x', 'y', 'z'])\n",
    "df_3D.head()"
   ]
  },
  {
   "cell_type": "code",
   "execution_count": null,
   "metadata": {},
   "outputs": [],
   "source": [
    "sns.pairplot(df_3D)"
   ]
  },
  {
   "cell_type": "code",
   "execution_count": null,
   "metadata": {},
   "outputs": [],
   "source": [
    "# Plot the data in the original coordinate system\n",
    "plot_data_and_axis(\n",
    "    data=np_data_3D, \n",
    "    axis_min = -3, \n",
    "    axis_max=3,\n",
    "    figsize=(8,8)\n",
    ")"
   ]
  },
  {
   "cell_type": "code",
   "execution_count": null,
   "metadata": {},
   "outputs": [],
   "source": [
    "# Calculate the covariance matrixe\n",
    "cov_mtx = df_3D.cov().to_numpy()\n",
    "\n",
    "cov_mtx"
   ]
  },
  {
   "cell_type": "code",
   "execution_count": null,
   "metadata": {},
   "outputs": [],
   "source": [
    "# Calculate eigenvalues and eigenvectors of the covariance matrix\n",
    "eigenvalues, eigenvectors = np.linalg.eig(cov_mtx)"
   ]
  },
  {
   "cell_type": "code",
   "execution_count": null,
   "metadata": {},
   "outputs": [],
   "source": [
    "eigenvalues"
   ]
  },
  {
   "cell_type": "code",
   "execution_count": null,
   "metadata": {},
   "outputs": [],
   "source": [
    "np.set_printoptions(suppress=True)\n",
    "eigenvalues / np.sum(eigenvalues)*100"
   ]
  },
  {
   "cell_type": "code",
   "execution_count": null,
   "metadata": {},
   "outputs": [],
   "source": [
    "eigenvectors"
   ]
  },
  {
   "cell_type": "code",
   "execution_count": null,
   "metadata": {},
   "outputs": [],
   "source": [
    "sort_idx = np.flip(np.argsort(eigenvalues))\n",
    "\n",
    "eigenvalues = eigenvalues[sort_idx]\n",
    "eigenvectors = eigenvectors[:, sort_idx]"
   ]
  },
  {
   "cell_type": "code",
   "execution_count": null,
   "metadata": {},
   "outputs": [],
   "source": [
    "# Plot the data and prinicipal component vectors\n",
    "plot_data_and_axis(\n",
    "    data=np_data_3D, \n",
    "    eigenvectors=eigenvectors.T,\n",
    "    axis_min = -3, \n",
    "    axis_max=3,\n",
    "    figsize=(8,8)\n",
    ")"
   ]
  },
  {
   "cell_type": "code",
   "execution_count": null,
   "metadata": {},
   "outputs": [],
   "source": [
    "# Transform data to 2D\n",
    "transformation_matrix = eigenvectors[:, :-1].T\n",
    "\n",
    "transformed_data = transformation_matrix @ df_3D.to_numpy().T"
   ]
  },
  {
   "cell_type": "code",
   "execution_count": null,
   "metadata": {},
   "outputs": [],
   "source": [
    "transformed_df = pd.DataFrame(transformed_data.T, columns=['PC1', 'PC2'])"
   ]
  },
  {
   "cell_type": "code",
   "execution_count": null,
   "metadata": {},
   "outputs": [],
   "source": [
    "# Plot the reduced data\n",
    "plt.figure(figsize=(7,7))\n",
    "\n",
    "sns.scatterplot(transformed_df,x='PC1',y='PC2', alpha=0.5)\n",
    "\n",
    "plt.quiver(0, 0, 1, 0, angles='xy', scale_units='xy', scale=1, color='r', label=\"PC1 vector\")\n",
    "plt.quiver(0, 0,0, 1, angles='xy', scale_units='xy', scale=1, color='b', label=\"PC2 vector\")\n",
    "\n",
    "\n",
    "plt.xlim([-6, 6])\n",
    "plt.ylim([-4, 4])\n",
    "\n",
    "plt.gca().set_aspect('equal', adjustable='box')\n"
   ]
  },
  {
   "cell_type": "markdown",
   "metadata": {},
   "source": [
    "### PCA - sklearn"
   ]
  },
  {
   "cell_type": "code",
   "execution_count": null,
   "metadata": {},
   "outputs": [],
   "source": [
    "from sklearn.decomposition import PCA"
   ]
  },
  {
   "cell_type": "code",
   "execution_count": null,
   "metadata": {},
   "outputs": [],
   "source": [
    "pca = PCA(svd_solver='full')\n",
    "\n",
    "pca = pca.fit(df_3D)"
   ]
  },
  {
   "cell_type": "code",
   "execution_count": null,
   "metadata": {},
   "outputs": [],
   "source": [
    "print('sklearn pca {}'.format(pca.explained_variance_ratio_*100))\n",
    "print('our pca {}'.format(eigenvalues / np.sum(eigenvalues)*100))\n"
   ]
  },
  {
   "cell_type": "code",
   "execution_count": null,
   "metadata": {},
   "outputs": [],
   "source": [
    "pca.explained_variance_ratio_ == (eigenvalues / np.sum(eigenvalues))"
   ]
  },
  {
   "cell_type": "code",
   "execution_count": null,
   "metadata": {},
   "outputs": [],
   "source": [
    "print('sklearn transformation matrix \\n {}'.format(pca.components_))\n",
    "print('our transformation matrix \\n {}'.format(eigenvectors.T))"
   ]
  },
  {
   "cell_type": "code",
   "execution_count": null,
   "metadata": {},
   "outputs": [],
   "source": [
    "pca_transform_data = pca.transform(df_3D)\n",
    "\n",
    "pca_transformed_df = pd.DataFrame(pca_transform_data, columns=['PC1', 'PC2'])"
   ]
  },
  {
   "cell_type": "code",
   "execution_count": null,
   "metadata": {},
   "outputs": [],
   "source": [
    "# Plot the reduced data\n",
    "plt.figure(figsize=(7,7))\n",
    "\n",
    "sns.scatterplot(pca_transformed_df,x='PC1',y='PC2', alpha=0.5)\n",
    "\n",
    "plt.quiver(0, 0, 1, 0, angles='xy', scale_units='xy', scale=1, color='r', label=\"PC1 vector\")\n",
    "plt.quiver(0, 0,0, 1, angles='xy', scale_units='xy', scale=1, color='b', label=\"PC2 vector\")\n",
    "\n",
    "\n",
    "plt.xlim([-6, 6])\n",
    "plt.ylim([-4, 4])\n",
    "\n",
    "plt.gca().set_aspect('equal', adjustable='box')"
   ]
  }
 ],
 "metadata": {
  "kernelspec": {
   "display_name": "test_env_2",
   "language": "python",
   "name": "python3"
  },
  "language_info": {
   "codemirror_mode": {
    "name": "ipython",
    "version": 3
   },
   "file_extension": ".py",
   "mimetype": "text/x-python",
   "name": "python",
   "nbconvert_exporter": "python",
   "pygments_lexer": "ipython3",
   "version": "3.11.3"
  },
  "orig_nbformat": 4
 },
 "nbformat": 4,
 "nbformat_minor": 2
}
