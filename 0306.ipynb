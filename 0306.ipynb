{
 "cells": [
  {
   "cell_type": "markdown",
   "metadata": {},
   "source": [
    "### Operations on single numpy arrays\n",
    "\n",
    "#### Lecture agenda\n",
    "\n",
    "- Operations on 1-D and 2-D arrays\n",
    "\n",
    "- Array reshaping"
   ]
  },
  {
   "cell_type": "code",
   "execution_count": null,
   "metadata": {},
   "outputs": [],
   "source": [
    "import numpy as np"
   ]
  },
  {
   "attachments": {},
   "cell_type": "markdown",
   "metadata": {},
   "source": [
    "##### Handling 1-D arrays\n"
   ]
  },
  {
   "cell_type": "code",
   "execution_count": null,
   "metadata": {},
   "outputs": [],
   "source": [
    "arr1 = np.array([1, 2, 3, 4, 5, 6])\n",
    "arr1"
   ]
  },
  {
   "cell_type": "code",
   "execution_count": null,
   "metadata": {},
   "outputs": [],
   "source": [
    "# Mathematical operations\n",
    "\n",
    "# Square root of each element\n",
    "print(\"Square root:\", np.sqrt(arr1))\n",
    "\n",
    "# Exponential (base e) of each element\n",
    "print(\"Exponential:\", np.exp(arr1))\n",
    "\n",
    "# Log of each element\n",
    "print(\"Log:\", np.log(arr1))"
   ]
  },
  {
   "cell_type": "code",
   "execution_count": null,
   "metadata": {},
   "outputs": [],
   "source": [
    "# Operations with scalars\n",
    "\n",
    "# Adding a scalar to all elements in the array\n",
    "print(\"Addition:\", arr1 + 1)\n",
    "\n",
    "# Multiplying all elements in the array by a scalar\n",
    "print(\"Multiplication:\", arr1 * 2)\n",
    "\n",
    "# Comparison with a scalar\n",
    "print(\"Greather than 2:\", arr1 > 2)"
   ]
  },
  {
   "cell_type": "code",
   "execution_count": null,
   "metadata": {},
   "outputs": [],
   "source": [
    "# Aggregation functions\n",
    "\n",
    "# Sum of elements\n",
    "print(\"Sum:\", np.sum(arr1))\n",
    "\n",
    "# Average of elements\n",
    "print(\"Average:\", np.mean(arr1))\n",
    "\n",
    "# Maximum element\n",
    "print(\"Max:\", np.max(arr1))\n",
    "\n",
    "# Minimum element\n",
    "print(\"Min:\", np.min(arr1))"
   ]
  },
  {
   "cell_type": "code",
   "execution_count": null,
   "metadata": {},
   "outputs": [],
   "source": [
    "# Sorting\n",
    "\n",
    "arr3 = np.array([2,1,4,1,8])\n",
    "arr3.sort()\n",
    "\n",
    "print(\"Sorted:\", arr3)"
   ]
  },
  {
   "attachments": {},
   "cell_type": "markdown",
   "metadata": {},
   "source": [
    "##### 2-D arrays - basic operations"
   ]
  },
  {
   "cell_type": "code",
   "execution_count": null,
   "metadata": {},
   "outputs": [],
   "source": [
    "arr1 = np.array([[1, 2, 3], [4, 5, 6]])\n",
    "arr1"
   ]
  },
  {
   "cell_type": "code",
   "execution_count": null,
   "metadata": {},
   "outputs": [],
   "source": [
    "arr1.shape"
   ]
  },
  {
   "cell_type": "code",
   "execution_count": null,
   "metadata": {},
   "outputs": [],
   "source": [
    "# Mathematical operations\n",
    "\n",
    "# Square root of each element\n",
    "print(\"Square root: \\n\", np.sqrt(arr1))\n",
    "\n",
    "# Exponential (base e) of each element\n",
    "print(\"Exponential: '\\n\", np.exp(arr1))\n",
    "\n",
    "# Log of each element\n",
    "print(\"Log: \\n\", np.log(arr1))"
   ]
  },
  {
   "cell_type": "code",
   "execution_count": null,
   "metadata": {},
   "outputs": [],
   "source": [
    "# Working with scalars\n",
    "\n",
    "# Adding a scalar to all elements in the array\n",
    "print(\"Addition:\\n\", arr1 + 1)\n",
    "\n",
    "# Multiplying all elements in the array by a scalar\n",
    "print(\"Multiplication:\\n\", arr1 * 2)\n",
    "\n",
    "# Multiplying all elements in the array by a scalar\n",
    "print(\"Greather than 2:\\n\", arr1 > 2)"
   ]
  },
  {
   "cell_type": "code",
   "execution_count": null,
   "metadata": {},
   "outputs": [],
   "source": [
    "# Aggregation of the whole array\n",
    "\n",
    "# Sum of elements\n",
    "print(\"Sum:\", np.sum(arr1))\n",
    "\n",
    "# Average of elements\n",
    "print(\"Average:\", np.mean(arr1))\n",
    "\n",
    "# Maximum element\n",
    "print(\"Max:\", np.max(arr1))\n",
    "\n",
    "# Minimum element\n",
    "print(\"Min:\", np.min(arr1))"
   ]
  },
  {
   "cell_type": "code",
   "execution_count": null,
   "metadata": {},
   "outputs": [],
   "source": [
    "arr1"
   ]
  },
  {
   "cell_type": "code",
   "execution_count": null,
   "metadata": {},
   "outputs": [],
   "source": [
    "# Aggregating columns\n",
    "\n",
    "# Sum of elements\n",
    "print(\"Sum:\", np.sum(arr1, axis=0))\n",
    "\n",
    "# Average of elements\n",
    "print(\"Average:\", np.mean(arr1, axis=0))\n",
    "\n",
    "# Maximum element\n",
    "print(\"Max:\", np.max(arr1, axis=0))\n",
    "\n",
    "# Minimum element\n",
    "print(\"Min:\", np.min(arr1, axis=0))"
   ]
  },
  {
   "cell_type": "code",
   "execution_count": null,
   "metadata": {},
   "outputs": [],
   "source": [
    "# Aggregating rows\n",
    "\n",
    "# Sum of elements\n",
    "print(\"Sum:\", np.sum(arr1, axis=1))\n",
    "\n",
    "# Average of elements\n",
    "print(\"Average:\", np.mean(arr1, axis=1))\n",
    "\n",
    "# Maximum element\n",
    "print(\"Max:\", np.max(arr1, axis=1))\n",
    "\n",
    "# Minimum element\n",
    "print(\"Min:\", np.min(arr1, axis=1))"
   ]
  },
  {
   "attachments": {},
   "cell_type": "markdown",
   "metadata": {},
   "source": [
    "##### Array reshaping"
   ]
  },
  {
   "cell_type": "code",
   "execution_count": null,
   "metadata": {},
   "outputs": [],
   "source": [
    "arr1 = np.array([[1, 2, 3], [4, 5, 6]])\n",
    "print(arr1)\n",
    "print('Shape : {}'.format(arr1.shape))"
   ]
  },
  {
   "cell_type": "code",
   "execution_count": null,
   "metadata": {},
   "outputs": [],
   "source": [
    "# Transpose\n",
    "arr2 = arr1.T\n",
    "print(arr2)\n",
    "print('Shape : {}'.format(arr2.shape))"
   ]
  },
  {
   "cell_type": "code",
   "execution_count": null,
   "metadata": {},
   "outputs": [],
   "source": [
    "# Custom reshape\n",
    "arr3 = np.reshape(arr1, newshape=(3, 2))\n",
    "print(arr3)\n",
    "print('Shape : {}'.format(arr3.shape))"
   ]
  },
  {
   "cell_type": "code",
   "execution_count": null,
   "metadata": {},
   "outputs": [],
   "source": [
    "arr4 = np.array([1,2,3,4])\n",
    "print(arr4)\n",
    "print('Shape : {}'.format(arr4.shape))\n"
   ]
  },
  {
   "cell_type": "code",
   "execution_count": null,
   "metadata": {},
   "outputs": [],
   "source": [
    "# Add new dimension at the\n",
    "# beggining of the shape\n",
    "arr5 = np.expand_dims(arr4, axis=0) \n",
    "print(arr5)\n",
    "print('Shape : {}'.format(arr5.shape))"
   ]
  },
  {
   "cell_type": "code",
   "execution_count": null,
   "metadata": {},
   "outputs": [],
   "source": [
    "# Add new dimension at the\n",
    "# end of the shape\n",
    "arr6 = np.expand_dims(arr4, axis=1)\n",
    "print(arr6)\n",
    "print('Shape : {}'.format(arr6.shape))"
   ]
  },
  {
   "cell_type": "code",
   "execution_count": null,
   "metadata": {},
   "outputs": [],
   "source": [
    "arr7 = np.squeeze(arr6)\n",
    "print(arr7)\n",
    "print('Shape : {}'.format(arr7.shape))"
   ]
  },
  {
   "cell_type": "code",
   "execution_count": null,
   "metadata": {},
   "outputs": [],
   "source": [
    "arr8 = np.squeeze(arr5)\n",
    "print(arr8)\n",
    "print('Shape : {}'.format(arr8.shape))"
   ]
  },
  {
   "cell_type": "markdown",
   "metadata": {},
   "source": [
    "### Summary\n",
    "\n",
    "We have learned about:\n",
    "\n",
    "- Operations on 1-D and 2-D arrays\n",
    "\n",
    "- Array reshaping"
   ]
  }
 ],
 "metadata": {
  "kernelspec": {
   "display_name": "test_env_2",
   "language": "python",
   "name": "python3"
  },
  "language_info": {
   "codemirror_mode": {
    "name": "ipython",
    "version": 3
   },
   "file_extension": ".py",
   "mimetype": "text/x-python",
   "name": "python",
   "nbconvert_exporter": "python",
   "pygments_lexer": "ipython3",
   "version": "3.11.3"
  },
  "orig_nbformat": 4
 },
 "nbformat": 4,
 "nbformat_minor": 2
}
