{
 "cells": [
  {
   "cell_type": "markdown",
   "metadata": {},
   "source": [
    "## UMAP caveats"
   ]
  },
  {
   "cell_type": "code",
   "execution_count": null,
   "metadata": {},
   "outputs": [],
   "source": [
    "import sklearn.datasets\n",
    "from sklearn.datasets import fetch_openml\n",
    "import sklearn\n",
    "\n",
    "import umap\n",
    "import umap.plot as uplot\n",
    "\n",
    "import matplotlib.pyplot as plt\n",
    "import seaborn as sns\n",
    "\n",
    "sns.set_theme()"
   ]
  },
  {
   "cell_type": "markdown",
   "metadata": {},
   "source": [
    "### Case when distances between cluster have meaning"
   ]
  },
  {
   "cell_type": "code",
   "execution_count": null,
   "metadata": {},
   "outputs": [],
   "source": [
    "# Load the digits data\n",
    "mnist = fetch_openml('mnist_784', parser='auto')\n",
    "\n",
    "# Normalize the digits data\n",
    "mnist_data = mnist.data/255\n",
    "mnist_label = mnist.target"
   ]
  },
  {
   "cell_type": "code",
   "execution_count": null,
   "metadata": {},
   "outputs": [],
   "source": [
    "mnist_umap = umap.UMAP()\n",
    "embedding = mnist_umap.fit_transform(mnist_data)"
   ]
  },
  {
   "cell_type": "code",
   "execution_count": null,
   "metadata": {},
   "outputs": [],
   "source": [
    "uplot.points(mnist_umap, labels=mnist_label)"
   ]
  },
  {
   "cell_type": "code",
   "execution_count": null,
   "metadata": {},
   "outputs": [],
   "source": [
    "umap.plot.connectivity(mnist_umap, show_points=True,labels=mnist_label)"
   ]
  },
  {
   "cell_type": "code",
   "execution_count": null,
   "metadata": {},
   "outputs": [],
   "source": [
    "umap.plot.diagnostic(mnist_umap, diagnostic_type='pca')"
   ]
  },
  {
   "cell_type": "markdown",
   "metadata": {},
   "source": [
    "### Case when distance between clusters is missleading"
   ]
  },
  {
   "cell_type": "code",
   "execution_count": null,
   "metadata": {},
   "outputs": [],
   "source": [
    "# Generate the dataset\n",
    "blob_centers = [[1,1,1],[10,10,10], [100,100,100]]\n",
    "blob_data, blob_ids = sklearn.datasets.make_blobs(\n",
    "    n_samples=300, \n",
    "    n_features=3, \n",
    "    centers=blob_centers\n",
    ")\n",
    "\n",
    "sns.set_theme()\n",
    "sns.scatterplot(x=blob_data[:,0], y=blob_data[:,1], hue=blob_ids)\n",
    "plt.title('Original data')\n"
   ]
  },
  {
   "cell_type": "code",
   "execution_count": null,
   "metadata": {},
   "outputs": [],
   "source": [
    "umap_obj_blobs = umap.UMAP(n_neighbors=50)\n",
    "embedding_blobs = umap_obj_blobs.fit_transform(blob_data)\n",
    "\n",
    "# Plot with visible densities and labels\n",
    "uplot.points(umap_obj_blobs, labels=blob_ids)"
   ]
  },
  {
   "cell_type": "code",
   "execution_count": null,
   "metadata": {},
   "outputs": [],
   "source": [
    "umap.plot.connectivity(umap_obj_blobs, show_points=True, labels=blob_ids)"
   ]
  },
  {
   "cell_type": "code",
   "execution_count": null,
   "metadata": {},
   "outputs": [],
   "source": [
    "umap.plot.diagnostic(umap_obj_blobs, diagnostic_type='pca')"
   ]
  },
  {
   "cell_type": "markdown",
   "metadata": {},
   "source": [
    "### Case when cluster size is missleading"
   ]
  },
  {
   "cell_type": "code",
   "execution_count": null,
   "metadata": {},
   "outputs": [],
   "source": [
    "# Generate the dataset\n",
    "blob_centers = [[1,1],[10,10], [50,50]]\n",
    "blob_data, blob_ids = sklearn.datasets.make_blobs(\n",
    "    n_samples=600, \n",
    "    n_features=2, \n",
    "    centers=blob_centers,\n",
    "    cluster_std = [1,1,4]\n",
    ")\n",
    "\n",
    "sns.scatterplot(x=blob_data[:,0], y=blob_data[:,1], hue=blob_ids)\n",
    "plt.title('Original data')"
   ]
  },
  {
   "cell_type": "code",
   "execution_count": null,
   "metadata": {},
   "outputs": [],
   "source": [
    "umap_obj_blobs = umap.UMAP(n_neighbors=30)\n",
    "embedding_blobs = umap_obj_blobs.fit_transform(blob_data)\n",
    "\n",
    "uplot.points(umap_obj_blobs, labels=blob_ids)"
   ]
  },
  {
   "cell_type": "markdown",
   "metadata": {},
   "source": [
    "### Case when random noise does not look random"
   ]
  },
  {
   "cell_type": "code",
   "execution_count": null,
   "metadata": {},
   "outputs": [],
   "source": [
    "# Generate the dataset\n",
    "blob_centers = [[1,1]]\n",
    "blob_data, blob_ids = sklearn.datasets.make_blobs(\n",
    "    n_samples=600, \n",
    "    n_features=2, \n",
    "    centers=blob_centers,\n",
    "    cluster_std = [10]\n",
    ")"
   ]
  },
  {
   "cell_type": "code",
   "execution_count": null,
   "metadata": {},
   "outputs": [],
   "source": [
    "sns.set_theme()\n",
    "sns.scatterplot(x=blob_data[:,0], y=blob_data[:,1], hue=blob_ids)\n",
    "plt.title('Original data')"
   ]
  },
  {
   "cell_type": "code",
   "execution_count": null,
   "metadata": {},
   "outputs": [],
   "source": [
    "umap_obj_blobs = umap.UMAP(n_neighbors=4)\n",
    "embedding_blobs = umap_obj_blobs.fit_transform(blob_data)\n",
    "\n",
    "uplot.points(umap_obj_blobs, labels=blob_ids)"
   ]
  }
 ],
 "metadata": {
  "kernelspec": {
   "display_name": "test_env_2",
   "language": "python",
   "name": "python3"
  },
  "language_info": {
   "codemirror_mode": {
    "name": "ipython",
    "version": 3
   },
   "file_extension": ".py",
   "mimetype": "text/x-python",
   "name": "python",
   "nbconvert_exporter": "python",
   "pygments_lexer": "ipython3",
   "version": "3.11.3"
  },
  "orig_nbformat": 4
 },
 "nbformat": 4,
 "nbformat_minor": 2
}
