{
  "cells": [
    {
      "cell_type": "markdown",
      "metadata": {
        "id": "view-in-github",
        "colab_type": "text"
      },
      "source": [
        "<a href=\"https://colab.research.google.com/github/spencer18001/Clustering-And-Dimensionality-Reduction---Deep-Dive/blob/main/06/0606.ipynb\" target=\"_parent\"><img src=\"https://colab.research.google.com/assets/colab-badge.svg\" alt=\"Open In Colab\"/></a>"
      ]
    },
    {
      "cell_type": "markdown",
      "metadata": {
        "id": "HU_q60XENHUo"
      },
      "source": [
        "## Sparse matrices"
      ]
    },
    {
      "cell_type": "code",
      "execution_count": null,
      "metadata": {
        "id": "ZEqnBiTKNHUr"
      },
      "outputs": [],
      "source": [
        "import numpy as np\n",
        "from scipy.sparse import csr_matrix\n",
        "from scipy.sparse import coo_matrix\n",
        "from scipy.sparse import csc_matrix"
      ]
    },
    {
      "cell_type": "markdown",
      "metadata": {
        "id": "FYPw4sJbNHUt"
      },
      "source": [
        "### COO format"
      ]
    },
    {
      "cell_type": "code",
      "execution_count": null,
      "metadata": {
        "id": "FJ55fHSjNHUt",
        "outputId": "79494d8d-fdf1-41a3-c100-b3d421288a3d",
        "colab": {
          "base_uri": "https://localhost:8080/"
        }
      },
      "outputs": [
        {
          "output_type": "stream",
          "name": "stdout",
          "text": [
            "Data array: [1 2 3 4 1 2 5]\n",
            "Row Indices array: [0 1 1 2 3 3 3]\n",
            "Column Indices array: [3 0 3 1 0 1 2]\n"
          ]
        }
      ],
      "source": [
        "# Create a 2D NumPy array with lots of zeros\n",
        "dense_matrix = np.array([\n",
        "    [0, 0, 0, 1],\n",
        "    [2, 0, 0, 3],\n",
        "    [0, 4, 0, 0],\n",
        "    [1, 2, 5, 0]\n",
        "])\n",
        "\n",
        "# Convert the dense matrix to COO format\n",
        "sparse_matrix_coo = coo_matrix(dense_matrix)\n",
        "\n",
        "# Print out the internal data structure of the COO matrix\n",
        "print(\"Data array:\", sparse_matrix_coo.data)\n",
        "print(\"Row Indices array:\", sparse_matrix_coo.row)\n",
        "print(\"Column Indices array:\", sparse_matrix_coo.col)"
      ]
    },
    {
      "cell_type": "code",
      "execution_count": null,
      "metadata": {
        "id": "tLeMFqJwNHUu",
        "outputId": "2f526387-65bd-4410-901b-61b32c6c2bf5",
        "colab": {
          "base_uri": "https://localhost:8080/",
          "height": 158
        }
      },
      "outputs": [
        {
          "output_type": "error",
          "ename": "TypeError",
          "evalue": "'coo_matrix' object is not subscriptable",
          "traceback": [
            "\u001b[0;31m---------------------------------------------------------------------------\u001b[0m",
            "\u001b[0;31mTypeError\u001b[0m                                 Traceback (most recent call last)",
            "\u001b[0;32m<ipython-input-3-cad3361238c7>\u001b[0m in \u001b[0;36m<cell line: 2>\u001b[0;34m()\u001b[0m\n\u001b[1;32m      1\u001b[0m \u001b[0;31m# Perform row slicing\u001b[0m\u001b[0;34m\u001b[0m\u001b[0;34m\u001b[0m\u001b[0m\n\u001b[0;32m----> 2\u001b[0;31m \u001b[0msparse_matrix_coo\u001b[0m\u001b[0;34m[\u001b[0m\u001b[0;36m1\u001b[0m\u001b[0;34m:\u001b[0m\u001b[0;36m3\u001b[0m\u001b[0;34m,\u001b[0m \u001b[0;34m:\u001b[0m\u001b[0;34m]\u001b[0m\u001b[0;34m\u001b[0m\u001b[0;34m\u001b[0m\u001b[0m\n\u001b[0m",
            "\u001b[0;31mTypeError\u001b[0m: 'coo_matrix' object is not subscriptable"
          ]
        }
      ],
      "source": [
        "# Perform row slicing\n",
        "sparse_matrix_coo[1:3, :]"
      ]
    },
    {
      "cell_type": "markdown",
      "metadata": {
        "id": "HghkIIO1NHUu"
      },
      "source": [
        "### CSR format"
      ]
    },
    {
      "cell_type": "code",
      "execution_count": null,
      "metadata": {
        "id": "kYp6ndEwNHUu",
        "outputId": "42695853-0425-4ab3-f28a-179f19500f05",
        "colab": {
          "base_uri": "https://localhost:8080/"
        }
      },
      "outputs": [
        {
          "output_type": "stream",
          "name": "stdout",
          "text": [
            "[[0 0 0 1]\n",
            " [2 0 0 3]\n",
            " [0 4 0 0]\n",
            " [1 2 5 0]]\n",
            "Data array: [1 2 3 4 1 2 5]\n",
            "Indices array: [3 0 3 1 0 1 2]\n",
            "Indptr array: [0 1 3 4 7]\n"
          ]
        }
      ],
      "source": [
        "# Create a 2D NumPy array with lots of zeros\n",
        "dense_matrix = np.array([\n",
        "    [0, 0, 0, 1],\n",
        "    [2, 0, 0, 3],\n",
        "    [0, 4, 0, 0],\n",
        "    [1, 2, 5, 0]\n",
        "])\n",
        "\n",
        "# Convert the dense matrix to CSR format\n",
        "sparse_matrix_csr = csr_matrix(dense_matrix)\n",
        "\n",
        "# Print out the internal data structure of the CSR matrix\n",
        "print(dense_matrix)\n",
        "print(\"Data array:\", sparse_matrix_csr.data)\n",
        "print(\"Indices array:\", sparse_matrix_csr.indices)\n",
        "print(\"Indptr array:\", sparse_matrix_csr.indptr) # 0:1:3:4:7"
      ]
    },
    {
      "cell_type": "code",
      "execution_count": null,
      "metadata": {
        "id": "rooP92XFNHUv",
        "outputId": "b2a9aa81-7180-4476-c71a-b07b1bd2874a",
        "colab": {
          "base_uri": "https://localhost:8080/"
        }
      },
      "outputs": [
        {
          "output_type": "stream",
          "name": "stdout",
          "text": [
            "Row slice:\n",
            "[[2 0 0 3]\n",
            " [0 4 0 0]]\n"
          ]
        }
      ],
      "source": [
        "# Perform row slicing\n",
        "row_slice = sparse_matrix_csr[1:3, :]\n",
        "print(\"Row slice:\")\n",
        "print(row_slice.toarray())"
      ]
    },
    {
      "cell_type": "markdown",
      "metadata": {
        "id": "DD3JpGjPNHUw"
      },
      "source": [
        "### CSC format"
      ]
    },
    {
      "cell_type": "code",
      "execution_count": null,
      "metadata": {
        "id": "apJtnFQtNHUw",
        "outputId": "c0b170bd-6823-4391-ec7b-9addc41c0a1c",
        "colab": {
          "base_uri": "https://localhost:8080/"
        }
      },
      "outputs": [
        {
          "output_type": "stream",
          "name": "stdout",
          "text": [
            "Data array: [2 1 4 2 5 1 3]\n",
            "Indices array: [1 3 2 3 3 0 1]\n",
            "Indptr array: [0 2 4 5 7]\n"
          ]
        }
      ],
      "source": [
        "# Create a 2D NumPy array with lots of zeros\n",
        "dense_matrix = np.array([\n",
        "    [0, 0, 0, 1],\n",
        "    [2, 0, 0, 3],\n",
        "    [0, 4, 0, 0],\n",
        "    [1, 2, 5, 0]\n",
        "])\n",
        "\n",
        "# Convert the dense matrix to CSC format\n",
        "sparse_matrix_csc = csc_matrix(dense_matrix)\n",
        "\n",
        "# Print out the internal data structure of the CSC matrix\n",
        "print(\"Data array:\", sparse_matrix_csc.data)\n",
        "print(\"Indices array:\", sparse_matrix_csc.indices)\n",
        "print(\"Indptr array:\", sparse_matrix_csc.indptr)"
      ]
    },
    {
      "cell_type": "markdown",
      "metadata": {
        "id": "jDGmFZ1kNHUx"
      },
      "source": [
        "### Usefull methods"
      ]
    },
    {
      "cell_type": "code",
      "execution_count": null,
      "metadata": {
        "id": "sNghWXP0NHUx",
        "outputId": "a6dee1af-c2a7-4f49-d930-d62a9a56057c",
        "colab": {
          "base_uri": "https://localhost:8080/"
        }
      },
      "outputs": [
        {
          "output_type": "execute_result",
          "data": {
            "text/plain": [
              "array([[0, 0, 0, 1],\n",
              "       [2, 0, 0, 3],\n",
              "       [0, 4, 0, 0],\n",
              "       [1, 2, 5, 0]])"
            ]
          },
          "metadata": {},
          "execution_count": 7
        }
      ],
      "source": [
        "sparse_matrix_csc.toarray()"
      ]
    },
    {
      "cell_type": "code",
      "execution_count": null,
      "metadata": {
        "id": "wnW5PIIlNHUx",
        "outputId": "1ce6e0e9-0d25-4656-93d0-26b8681b29db",
        "colab": {
          "base_uri": "https://localhost:8080/"
        }
      },
      "outputs": [
        {
          "output_type": "execute_result",
          "data": {
            "text/plain": [
              "<4x4 sparse matrix of type '<class 'numpy.int64'>'\n",
              "\twith 7 stored elements in COOrdinate format>"
            ]
          },
          "metadata": {},
          "execution_count": 8
        }
      ],
      "source": [
        "sparse_matrix_csc.tocoo()"
      ]
    },
    {
      "cell_type": "code",
      "execution_count": null,
      "metadata": {
        "id": "HdfXtOsGNHUx",
        "outputId": "d43877c8-c9a5-4353-bd9a-b461417d8472",
        "colab": {
          "base_uri": "https://localhost:8080/"
        }
      },
      "outputs": [
        {
          "output_type": "execute_result",
          "data": {
            "text/plain": [
              "<4x4 sparse matrix of type '<class 'numpy.int64'>'\n",
              "\twith 7 stored elements in Compressed Sparse Column format>"
            ]
          },
          "metadata": {},
          "execution_count": 9
        }
      ],
      "source": [
        "sparse_matrix_csc.tocsc()"
      ]
    },
    {
      "cell_type": "code",
      "execution_count": null,
      "metadata": {
        "id": "S8RFI91tNHUy"
      },
      "outputs": [],
      "source": [
        "# sometimes when certain arithmetical operations are performed,\n",
        "# some of the zeros will get stored inside of your sparse matrix\n",
        "# and this method can help you remove these zeros and save some space\n",
        "sparse_matrix_coo.eliminate_zeros()"
      ]
    }
  ],
  "metadata": {
    "kernelspec": {
      "display_name": "test_env_2",
      "language": "python",
      "name": "python3"
    },
    "language_info": {
      "codemirror_mode": {
        "name": "ipython",
        "version": 3
      },
      "file_extension": ".py",
      "mimetype": "text/x-python",
      "name": "python",
      "nbconvert_exporter": "python",
      "pygments_lexer": "ipython3",
      "version": "3.11.3"
    },
    "orig_nbformat": 4,
    "colab": {
      "provenance": [],
      "include_colab_link": true
    }
  },
  "nbformat": 4,
  "nbformat_minor": 0
}