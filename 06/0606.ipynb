{
 "cells": [
  {
   "cell_type": "markdown",
   "metadata": {},
   "source": [
    "## Sparse matrices"
   ]
  },
  {
   "cell_type": "code",
   "execution_count": null,
   "metadata": {},
   "outputs": [],
   "source": [
    "import numpy as np\n",
    "from scipy.sparse import csr_matrix\n",
    "from scipy.sparse import coo_matrix\n",
    "from scipy.sparse import csc_matrix"
   ]
  },
  {
   "cell_type": "markdown",
   "metadata": {},
   "source": [
    "### COO format"
   ]
  },
  {
   "cell_type": "code",
   "execution_count": null,
   "metadata": {},
   "outputs": [],
   "source": [
    "# Create a 2D NumPy array with lots of zeros\n",
    "dense_matrix = np.array([\n",
    "    [0, 0, 0, 1],\n",
    "    [2, 0, 0, 3],\n",
    "    [0, 4, 0, 0],\n",
    "    [1, 2, 5, 0]\n",
    "])\n",
    "\n",
    "# Convert the dense matrix to COO format\n",
    "sparse_matrix_coo = coo_matrix(dense_matrix)\n",
    "\n",
    "# Print out the internal data structure of the COO matrix\n",
    "print(\"Data array:\", sparse_matrix_coo.data)\n",
    "print(\"Row Indices array:\", sparse_matrix_coo.row)\n",
    "print(\"Column Indices array:\", sparse_matrix_coo.col)"
   ]
  },
  {
   "cell_type": "code",
   "execution_count": null,
   "metadata": {},
   "outputs": [],
   "source": [
    "# Perform row slicing\n",
    "sparse_matrix_coo[1:3, :]"
   ]
  },
  {
   "cell_type": "markdown",
   "metadata": {},
   "source": [
    "### CSR format"
   ]
  },
  {
   "cell_type": "code",
   "execution_count": null,
   "metadata": {},
   "outputs": [],
   "source": [
    "# Create a 2D NumPy array with lots of zeros\n",
    "dense_matrix = np.array([\n",
    "    [0, 0, 0, 1],\n",
    "    [2, 0, 0, 3],\n",
    "    [0, 4, 0, 0],\n",
    "    [1, 2, 5, 0]\n",
    "])\n",
    "\n",
    "# Convert the dense matrix to CSR format\n",
    "sparse_matrix_csr = csr_matrix(dense_matrix)\n",
    "\n",
    "# Print out the internal data structure of the CSR matrix\n",
    "print(dense_matrix)\n",
    "print(\"Data array:\", sparse_matrix_csr.data)\n",
    "print(\"Indices array:\", sparse_matrix_csr.indices)\n",
    "print(\"Indptr array:\", sparse_matrix_csr.indptr)"
   ]
  },
  {
   "cell_type": "code",
   "execution_count": null,
   "metadata": {},
   "outputs": [],
   "source": [
    "# Perform row slicing\n",
    "row_slice = sparse_matrix_csr[1:3, :]\n",
    "print(\"Row slice:\")\n",
    "print(row_slice.toarray())  "
   ]
  },
  {
   "cell_type": "markdown",
   "metadata": {},
   "source": [
    "### CSC format"
   ]
  },
  {
   "cell_type": "code",
   "execution_count": null,
   "metadata": {},
   "outputs": [],
   "source": [
    "# Create a 2D NumPy array with lots of zeros\n",
    "dense_matrix = np.array([\n",
    "    [0, 0, 0, 1],\n",
    "    [2, 0, 0, 3],\n",
    "    [0, 4, 0, 0],\n",
    "    [1, 2, 5, 0]\n",
    "])\n",
    "\n",
    "# Convert the dense matrix to CSC format\n",
    "sparse_matrix_csc = csc_matrix(dense_matrix)\n",
    "\n",
    "# Print out the internal data structure of the CSC matrix\n",
    "print(\"Data array:\", sparse_matrix_csc.data)\n",
    "print(\"Indices array:\", sparse_matrix_csc.indices)\n",
    "print(\"Indptr array:\", sparse_matrix_csc.indptr)"
   ]
  },
  {
   "cell_type": "markdown",
   "metadata": {},
   "source": [
    "### Usefull methods"
   ]
  },
  {
   "cell_type": "code",
   "execution_count": null,
   "metadata": {},
   "outputs": [],
   "source": [
    "sparse_matrix_csc.toarray()"
   ]
  },
  {
   "cell_type": "code",
   "execution_count": null,
   "metadata": {},
   "outputs": [],
   "source": [
    "sparse_matrix_csc.tocoo()"
   ]
  },
  {
   "cell_type": "code",
   "execution_count": null,
   "metadata": {},
   "outputs": [],
   "source": [
    "sparse_matrix_csc.tocsc()"
   ]
  },
  {
   "cell_type": "code",
   "execution_count": null,
   "metadata": {},
   "outputs": [],
   "source": [
    "sparse_matrix_coo.eliminate_zeros()"
   ]
  }
 ],
 "metadata": {
  "kernelspec": {
   "display_name": "test_env_2",
   "language": "python",
   "name": "python3"
  },
  "language_info": {
   "codemirror_mode": {
    "name": "ipython",
    "version": 3
   },
   "file_extension": ".py",
   "mimetype": "text/x-python",
   "name": "python",
   "nbconvert_exporter": "python",
   "pygments_lexer": "ipython3",
   "version": "3.11.3"
  },
  "orig_nbformat": 4
 },
 "nbformat": 4,
 "nbformat_minor": 2
}
