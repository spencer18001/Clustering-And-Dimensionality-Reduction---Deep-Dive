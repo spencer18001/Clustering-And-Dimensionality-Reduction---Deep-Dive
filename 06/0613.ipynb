{
 "cells": [
  {
   "cell_type": "markdown",
   "id": "be8ac3c0",
   "metadata": {},
   "source": [
    "## Umap-learn python library"
   ]
  },
  {
   "cell_type": "code",
   "execution_count": null,
   "id": "6469fbbf",
   "metadata": {},
   "outputs": [],
   "source": [
    "import numpy as np\n",
    "import pandas as pd\n",
    "\n",
    "from sklearn.preprocessing import StandardScaler\n",
    "from sklearn.datasets import load_iris\n",
    "from sklearn.datasets import fetch_openml\n",
    "\n",
    "# figure size in inches\n",
    "import matplotlib.pyplot as plt\n",
    "from matplotlib import rcParams\n",
    "import seaborn as sns\n",
    "\n",
    "import umap\n",
    "\n",
    "sns.set_theme()\n",
    "plt.rcParams['figure.figsize'] = [10, 8]"
   ]
  },
  {
   "cell_type": "markdown",
   "id": "42cd3dfa",
   "metadata": {},
   "source": [
    "## UMAP embedding of iris data"
   ]
  },
  {
   "cell_type": "code",
   "execution_count": null,
   "id": "33f87ba9",
   "metadata": {},
   "outputs": [],
   "source": [
    "# Load the data\n",
    "iris = load_iris()\n",
    "\n",
    "iris_data = iris['data']\n",
    "iris_label = iris['target_names'][iris['target']]\n",
    "\n",
    "# Scale iris data\n",
    "scaled_iris_data = StandardScaler().fit_transform(iris_data)\n",
    "\n",
    "# Transform the data\n",
    "umap_obj = umap.UMAP(n_neighbors=20)\n",
    "umap_obj = umap_obj.fit(scaled_iris_data)\n",
    "embedding = umap_obj.transform(scaled_iris_data)\n",
    "\n",
    "# Plot embeded data\n",
    "embedding_df = pd.DataFrame(embedding, columns=['UMAP1', 'UMAP2'])\n",
    "embedding_df['label'] = iris_label\n",
    "\n",
    "sns.scatterplot(embedding_df, x='UMAP1', y='UMAP2', hue='label')"
   ]
  },
  {
   "cell_type": "code",
   "execution_count": null,
   "id": "e4cc9bc0",
   "metadata": {},
   "outputs": [],
   "source": [
    "umap_obj.embedding_"
   ]
  },
  {
   "cell_type": "code",
   "execution_count": null,
   "id": "113065e3",
   "metadata": {},
   "outputs": [],
   "source": [
    "umap_obj.graph_"
   ]
  },
  {
   "cell_type": "markdown",
   "id": "f4b93d58",
   "metadata": {},
   "source": [
    "## UMAP embedding of digits data"
   ]
  },
  {
   "cell_type": "code",
   "execution_count": null,
   "id": "244d0752",
   "metadata": {},
   "outputs": [],
   "source": [
    "# Load the digits data\n",
    "mnist = fetch_openml('mnist_784', parser='auto')\n",
    "\n",
    "# Normalize digits data\n",
    "mnist_data = mnist.data/255\n",
    "mnist_label = mnist.target\n",
    "\n",
    "n_row = 10\n",
    "n_col = 10\n",
    "fig, axes = plt.subplots(n_row, n_col, figsize=(10, 10))\n",
    "\n",
    "mnist_data_np = mnist_data.to_numpy()\n",
    "mnist_labels_np = mnist_label.to_numpy()\n",
    "\n",
    "# Loop through subplots to populate them with MNIST digits\n",
    "for i in range(n_row):\n",
    "    # Get indices of digits that match the current row number (i.e., '0' for the first row, '1' for the second, etc.)\n",
    "    indices = np.where(mnist_labels_np == str(i))[0][:n_col]  # Take first 'n_col' indices\n",
    "\n",
    "    for j in range(n_col):\n",
    "        \n",
    "        ax = axes[i, j]  # Get the subplot\n",
    "\n",
    "        # Reshape the 784-number array back to a 28x28 image and plot it\n",
    "        ax.imshow(mnist_data_np[indices[j]].reshape(28, 28), cmap='gray')\n",
    "\n",
    "        # Hide axis labels and ticks\n",
    "        ax.axis('off')\n",
    "\n",
    "# Show the grid of MNIST digits\n",
    "plt.show()"
   ]
  },
  {
   "cell_type": "code",
   "execution_count": null,
   "id": "ee2ab917",
   "metadata": {},
   "outputs": [],
   "source": [
    "# Perfrom UMAP dimensionality reduction\n",
    "umap_obj = umap.UMAP()\n",
    "embedding = umap_obj.fit_transform(mnist_data)\n",
    "\n",
    "# Plot embeddings\n",
    "embedding_df = pd.DataFrame(embedding, columns=['UMAP1', 'UMAP2'])\n",
    "embedding_df['label'] = mnist_label\n",
    "\n",
    "sns.scatterplot(embedding_df, x='UMAP1', y='UMAP2', hue='label', alpha=0.6, s=3)\n",
    "plt.title('UMAP - digits dataset')\n",
    "plt.show()"
   ]
  },
  {
   "cell_type": "markdown",
   "id": "2c3a0d7d",
   "metadata": {},
   "source": [
    "### UMAP plotting capabilities"
   ]
  },
  {
   "cell_type": "code",
   "execution_count": null,
   "id": "3fca5a8c",
   "metadata": {},
   "outputs": [],
   "source": [
    "import umap.plot as uplot"
   ]
  },
  {
   "cell_type": "code",
   "execution_count": null,
   "id": "fc4f66d2",
   "metadata": {},
   "outputs": [],
   "source": [
    "# Plot with visible densities and labels\n",
    "uplot.points(umap_obj, labels=mnist_label)"
   ]
  },
  {
   "cell_type": "code",
   "execution_count": null,
   "id": "25eeeecf",
   "metadata": {},
   "outputs": [],
   "source": [
    "uplot.connectivity(umap_obj, show_points=True, labels=mnist_label)"
   ]
  }
 ],
 "metadata": {
  "kernelspec": {
   "display_name": "Python 3 (ipykernel)",
   "language": "python",
   "name": "python3"
  },
  "language_info": {
   "codemirror_mode": {
    "name": "ipython",
    "version": 3
   },
   "file_extension": ".py",
   "mimetype": "text/x-python",
   "name": "python",
   "nbconvert_exporter": "python",
   "pygments_lexer": "ipython3",
   "version": "3.11.3"
  }
 },
 "nbformat": 4,
 "nbformat_minor": 5
}
