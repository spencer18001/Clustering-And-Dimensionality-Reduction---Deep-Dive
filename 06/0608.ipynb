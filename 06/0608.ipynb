{
  "cells": [
    {
      "cell_type": "markdown",
      "metadata": {
        "id": "view-in-github",
        "colab_type": "text"
      },
      "source": [
        "<a href=\"https://colab.research.google.com/github/spencer18001/Clustering-And-Dimensionality-Reduction---Deep-Dive/blob/main/06/0608.ipynb\" target=\"_parent\"><img src=\"https://colab.research.google.com/assets/colab-badge.svg\" alt=\"Open In Colab\"/></a>"
      ]
    },
    {
      "cell_type": "markdown",
      "id": "453565e6",
      "metadata": {
        "id": "453565e6"
      },
      "source": [
        "# Implementing UMAP from scratch\n"
      ]
    },
    {
      "cell_type": "code",
      "source": [
        "%%capture\n",
        "!pip install pynndescent"
      ],
      "metadata": {
        "id": "zBXDLTps6537"
      },
      "id": "zBXDLTps6537",
      "execution_count": 2,
      "outputs": []
    },
    {
      "cell_type": "code",
      "execution_count": 3,
      "id": "17c31a57",
      "metadata": {
        "id": "17c31a57"
      },
      "outputs": [],
      "source": [
        "import random\n",
        "\n",
        "import numpy as np\n",
        "import pandas as pd\n",
        "\n",
        "import seaborn as sns\n",
        "import matplotlib.pyplot as plt\n",
        "\n",
        "from sklearn.datasets import fetch_openml\n",
        "\n",
        "import scipy\n",
        "import scipy.sparse\n",
        "from scipy.optimize import curve_fit\n",
        "import numba\n",
        "\n",
        "from pynndescent import NNDescent\n",
        "\n",
        "sns.set_theme()\n",
        "random.seed(2)"
      ]
    },
    {
      "cell_type": "markdown",
      "id": "2edc269e",
      "metadata": {
        "id": "2edc269e"
      },
      "source": [
        "## Load the digits dataset"
      ]
    },
    {
      "cell_type": "code",
      "execution_count": 4,
      "id": "60cd247f",
      "metadata": {
        "id": "60cd247f"
      },
      "outputs": [],
      "source": [
        "# Load the digits data\n",
        "mnist = fetch_openml('mnist_784', parser='auto')\n",
        "\n",
        "# Normalize digits data\n",
        "mnist_data = mnist.data/255 # DataFrame\n",
        "mnist_label = mnist.target.astype(object) # Series\n",
        "\n",
        "# Downsample\n",
        "mnist_label = mnist_label[(mnist_label.isin(['0', '1', '2', '3', '4']))]\n",
        "\n",
        "mnist_data = mnist_data.loc[mnist_label.index, :].reset_index(drop=True)\n",
        "mnist_label = mnist_label.reset_index(drop=True)"
      ]
    },
    {
      "cell_type": "code",
      "execution_count": 5,
      "id": "bc4ea338",
      "metadata": {
        "id": "bc4ea338",
        "outputId": "d378de94-396b-46f4-80df-16d90927f905",
        "colab": {
          "base_uri": "https://localhost:8080/"
        }
      },
      "outputs": [
        {
          "output_type": "execute_result",
          "data": {
            "text/plain": [
              "(35735, 784)"
            ]
          },
          "metadata": {},
          "execution_count": 5
        }
      ],
      "source": [
        "mnist_data.shape"
      ]
    },
    {
      "cell_type": "code",
      "execution_count": 6,
      "id": "9593204b",
      "metadata": {
        "id": "9593204b",
        "outputId": "81677681-5d5b-4c35-a0d0-1263c9f300a4",
        "colab": {
          "base_uri": "https://localhost:8080/"
        }
      },
      "outputs": [
        {
          "output_type": "execute_result",
          "data": {
            "text/plain": [
              "array(['0', '4', '1', '2', '3'], dtype=object)"
            ]
          },
          "metadata": {},
          "execution_count": 6
        }
      ],
      "source": [
        "mnist_label.unique()"
      ]
    },
    {
      "cell_type": "code",
      "execution_count": 7,
      "id": "65206fca",
      "metadata": {
        "id": "65206fca",
        "outputId": "8730f49e-ceb3-4549-a138-98130994c79e",
        "colab": {
          "base_uri": "https://localhost:8080/",
          "height": 192
        }
      },
      "outputs": [
        {
          "output_type": "display_data",
          "data": {
            "text/plain": [
              "<Figure size 1000x200 with 5 Axes>"
            ],
            "image/png": "[encoded data removed]"
          },
          "metadata": {}
        }
      ],
      "source": [
        "# Initialize a dictionary to store the first instance of each number 0-4\n",
        "first_instance = {}\n",
        "\n",
        "# Loop through the dataset to find the first instance for numbers 0-4\n",
        "for i in range(len(mnist_label)):\n",
        "    label = mnist_label[i]\n",
        "\n",
        "    if label not in first_instance:\n",
        "        first_instance[label] = i\n",
        "\n",
        "# Plotting\n",
        "fig, axes = plt.subplots(1, 5, figsize=(10, 2))\n",
        "for label, index in first_instance.items():\n",
        "    ax = axes[int(label)]\n",
        "    ax.imshow(mnist_data.loc[index].values.reshape(28, 28), cmap='gray')\n",
        "    ax.set_title(f'Label: {label}')\n",
        "    ax.axis('off')\n",
        "\n",
        "plt.show()"
      ]
    },
    {
      "cell_type": "markdown",
      "id": "02dadccd",
      "metadata": {
        "id": "02dadccd"
      },
      "source": [
        "## Building a graph\n",
        "\n",
        "\n",
        "### Find nearest neighbours and distances for each point\n",
        "\n"
      ]
    },
    {
      "cell_type": "code",
      "execution_count": 8,
      "id": "b28146c7",
      "metadata": {
        "id": "b28146c7"
      },
      "outputs": [],
      "source": [
        "N_NEIGHBORS = 20\n",
        "index = NNDescent(mnist_data, n_neighbors=N_NEIGHBORS)\n",
        "neighbors, distances = index.query(mnist_data, k=N_NEIGHBORS)"
      ]
    },
    {
      "cell_type": "code",
      "execution_count": 11,
      "id": "4834686f",
      "metadata": {
        "id": "4834686f",
        "outputId": "3e2297ad-0313-4280-8bff-93635e7a51a6",
        "colab": {
          "base_uri": "https://localhost:8080/"
        }
      },
      "outputs": [
        {
          "output_type": "execute_result",
          "data": {
            "text/plain": [
              "(35735, 20)"
            ]
          },
          "metadata": {},
          "execution_count": 11
        }
      ],
      "source": [
        "neighbors.shape"
      ]
    },
    {
      "cell_type": "code",
      "execution_count": 12,
      "id": "d4e0b7d6",
      "metadata": {
        "id": "d4e0b7d6",
        "outputId": "66727808-d7b5-4a82-cbc2-2ff3a9bfe5e3",
        "colab": {
          "base_uri": "https://localhost:8080/"
        }
      },
      "outputs": [
        {
          "output_type": "execute_result",
          "data": {
            "text/plain": [
              "(35735, 20)"
            ]
          },
          "metadata": {},
          "execution_count": 12
        }
      ],
      "source": [
        "distances.shape"
      ]
    },
    {
      "cell_type": "code",
      "execution_count": 13,
      "id": "ccf5d914",
      "metadata": {
        "id": "ccf5d914",
        "outputId": "01014d7b-37dc-4884-a5e5-93866c83788c",
        "colab": {
          "base_uri": "https://localhost:8080/"
        }
      },
      "outputs": [
        {
          "output_type": "stream",
          "name": "stdout",
          "text": [
            "[[    0   333 26094 34500 30190]\n",
            " [    1 32887 27648 23528  2246]\n",
            " [    2    14  4468 18125 26177]\n",
            " [    3 23605 34195  5127 12406]\n",
            " [    4 34986 15088 10683  4925]\n",
            " [    5  6396 30100  2608 27532]\n",
            " [    6 26247 30826 26369 35421]\n",
            " [    7  2951  7085 35218 28009]\n",
            " [    8 21158 29828  1702 29818]\n",
            " [    9 10228 31283 32738 13478]\n",
            " [   10  9042 20964 20983 32500]\n",
            " [   11  1461 12827 28343  4706]\n",
            " [   12 11149  4707 26846  2450]\n",
            " [   13 19035 33819    68   333]\n",
            " [   14 28012 29724     2  7819]\n",
            " [   15 11266 21074 18932 14531]\n",
            " [   16 10298 30330 29308 33448]\n",
            " [   17 15922 22927  3841  8099]\n",
            " [   18 14299 21499 24794 19452]\n",
            " [   19 10277 12283 27306 20523]]\n"
          ]
        }
      ],
      "source": [
        "print(neighbors[:20,:5])"
      ]
    },
    {
      "cell_type": "code",
      "execution_count": 14,
      "id": "b21c54de",
      "metadata": {
        "id": "b21c54de",
        "outputId": "00e77147-4522-461b-b7b1-ae2a3c8e906b",
        "colab": {
          "base_uri": "https://localhost:8080/"
        }
      },
      "outputs": [
        {
          "output_type": "stream",
          "name": "stdout",
          "text": [
            "[[0.        4.0025387 4.3158016 4.3695583 4.413664 ]\n",
            " [0.        5.3273163 5.402473  6.0436363 6.093434 ]\n",
            " [0.        1.645424  1.6983155 1.7571472 1.7846886]\n",
            " [0.        5.7030854 5.7560773 5.8200917 5.8497186]\n",
            " [0.        2.0190747 2.169698  2.2051282 2.218336 ]\n",
            " [0.        4.404384  4.491249  4.575397  4.7650447]\n",
            " [0.        1.6835318 1.7950891 1.7965837 1.8011829]\n",
            " [0.        3.0204685 3.9795382 4.3531566 4.4182453]\n",
            " [0.        4.191122  4.6941586 4.716273  4.7353053]\n",
            " [0.        4.841057  5.006231  5.0831156 5.104592 ]\n",
            " [0.        1.193633  1.3076652 1.5288687 1.6061063]\n",
            " [0.        5.536782  5.856629  5.882511  5.9822845]\n",
            " [0.        4.8734417 5.5431523 5.77564   5.804689 ]\n",
            " [0.        4.478986  4.9372363 5.116263  5.144714 ]\n",
            " [0.        1.5201428 1.538135  1.645424  1.664215 ]\n",
            " [0.        5.50225   5.6558933 5.839876  5.8611617]\n",
            " [0.        4.7328944 5.3089194 5.4965177 5.8032618]\n",
            " [0.        2.9286034 3.9086022 3.961219  4.0143704]\n",
            " [0.        4.7694273 5.038561  5.521318  5.548061 ]\n",
            " [0.        6.892563  7.265509  7.302884  7.3051133]]\n"
          ]
        }
      ],
      "source": [
        "print(distances[:20,:5])"
      ]
    },
    {
      "cell_type": "code",
      "execution_count": 15,
      "id": "5c2acb70",
      "metadata": {
        "id": "5c2acb70"
      },
      "outputs": [],
      "source": [
        "neighbors = neighbors[:, 1:]\n",
        "distances = distances[:, 1:]"
      ]
    },
    {
      "cell_type": "code",
      "execution_count": 16,
      "id": "99ef1031",
      "metadata": {
        "id": "99ef1031",
        "outputId": "8d0e1811-be50-4c67-ed1f-85f47c217c6a",
        "colab": {
          "base_uri": "https://localhost:8080/",
          "height": 497
        }
      },
      "outputs": [
        {
          "output_type": "execute_result",
          "data": {
            "text/plain": [
              "Text(0.5, 1.0, 'Neighbor distance from \"data point 0\"')"
            ]
          },
          "metadata": {},
          "execution_count": 16
        },
        {
          "output_type": "display_data",
          "data": {
            "text/plain": [
              "<Figure size 640x480 with 1 Axes>"
            ],
            "image/png": "[encoded data removed]"
          },
          "metadata": {}
        }
      ],
      "source": [
        "plt.figure()\n",
        "plt.plot(np.arange(distances.shape[1], dtype=np.int32)+1, distances[0,:])\n",
        "plt.xlabel('Nth nearest neighbor')\n",
        "plt.xticks(np.arange(distances.shape[1], dtype=np.int32)+1)\n",
        "plt.ylabel('Distance')\n",
        "plt.title('Neighbor distance from \"data point 0\"')"
      ]
    },
    {
      "cell_type": "markdown",
      "id": "d58a9b97",
      "metadata": {
        "id": "d58a9b97"
      },
      "source": [
        "### Calculate rho for each data point"
      ]
    },
    {
      "cell_type": "markdown",
      "id": "7660e2f9",
      "metadata": {
        "id": "7660e2f9"
      },
      "source": [
        "$$\n",
        "\\rho_i = \\min_{j \\in S} d(i, j)\n",
        "$$\n",
        "\n"
      ]
    },
    {
      "cell_type": "code",
      "execution_count": 17,
      "id": "f5c1088e",
      "metadata": {
        "id": "f5c1088e",
        "outputId": "4c35afa7-e6a3-4f14-ee45-6380f164adcd",
        "colab": {
          "base_uri": "https://localhost:8080/"
        }
      },
      "outputs": [
        {
          "output_type": "stream",
          "name": "stdout",
          "text": [
            "[4.0025387 5.3273163 1.645424  5.7030854 2.0190747]\n"
          ]
        }
      ],
      "source": [
        "rhos = distances[:, 0]\n",
        "print(rhos[:5])"
      ]
    },
    {
      "cell_type": "markdown",
      "id": "44821ccb",
      "metadata": {
        "id": "44821ccb"
      },
      "source": [
        "### Calculate sigmas\n",
        "\n",
        "\n",
        "$$\n",
        "sim_{ij} = \\exp \\left(- \\frac{\\max(0, d(x_i, x_{ij}) - \\rho_i)}{\\sigma_i} \\right)\n",
        "$$ (${\\sigma_i}$ 跟 $sim_{ij}$ 成正比)\n",
        "\n",
        "$$\n",
        "\\sigma_i = \\text{the value such that } \\sum_{j=1}^{k} \\exp \\left(- \\frac{\\max(0, d(x_i, x_{ij}) - \\rho_i)}{\\sigma_i} \\right) = \\log_2(k)\n",
        "$$\n"
      ]
    },
    {
      "cell_type": "code",
      "execution_count": 18,
      "id": "e365a61c",
      "metadata": {
        "id": "e365a61c"
      },
      "outputs": [],
      "source": [
        "# Set parameter values for binary search\n",
        "BINARY_ITER = 64\n",
        "GAMMA_TOLERANCE = 1e-5\n",
        "\n",
        "# Log target is same everywhere\n",
        "log_target = np.log2(N_NEIGHBORS)"
      ]
    },
    {
      "cell_type": "code",
      "execution_count": 23,
      "id": "7dc929fc",
      "metadata": {
        "id": "7dc929fc",
        "outputId": "583d8b1f-386f-465c-c682-fbfd9a9569e9",
        "colab": {
          "base_uri": "https://localhost:8080/"
        }
      },
      "outputs": [
        {
          "output_type": "stream",
          "name": "stdout",
          "text": [
            "Obtained sigma sum is : 4.321928024291992\n",
            "Target sigma sum is : 4.321928094887363\n",
            "Value of sigma is : 0.34084129333496094\n"
          ]
        }
      ],
      "source": [
        "# Example - binary search for a single row\n",
        "curr_dist = distances[0,:]\n",
        "\n",
        "# Set up binary search for sigma\n",
        "sigma_high = np.inf\n",
        "sigma_low = 0\n",
        "sigma_mid = 1\n",
        "\n",
        "# Perform N itterations\n",
        "for iter_i in range(BINARY_ITER):\n",
        "    # Substract distances and rho\n",
        "    dist_diff = curr_dist - rhos[0] # (19,) - ()\n",
        "\n",
        "    # Divide by sigma, negate, perform exponent, sum\n",
        "    sigma_sum = np.sum(np.exp(-dist_diff/sigma_mid))\n",
        "\n",
        "    # Break the loop if sum is equal to the target\n",
        "    if np.abs(sigma_sum-log_target) < GAMMA_TOLERANCE:\n",
        "        break\n",
        "\n",
        "    # If obtained sum is greater than the target then make sigma smaller\n",
        "    if sigma_sum > log_target:\n",
        "        sigma_high = sigma_mid\n",
        "        sigma_mid = (sigma_high + sigma_low)/2\n",
        "    # If obtained sum is lower than the target then make sigma higher\n",
        "    else:\n",
        "        sigma_low = sigma_mid\n",
        "        if sigma_high == np.inf:\n",
        "            sigma_mid = sigma_mid*2\n",
        "        else:\n",
        "            sigma_mid = (sigma_high + sigma_low)/2\n",
        "\n",
        "print('Obtained sigma sum is : {}'.format(sigma_sum))\n",
        "print('Target sigma sum is : {}'.format(log_target))\n",
        "print('Value of sigma is : {}'.format(sigma_mid))"
      ]
    },
    {
      "cell_type": "code",
      "execution_count": 25,
      "id": "d8510695",
      "metadata": {
        "id": "d8510695",
        "outputId": "ab5e08d5-e5c2-4c8a-c4a5-8d2e3edc34de",
        "colab": {
          "base_uri": "https://localhost:8080/",
          "height": 497
        }
      },
      "outputs": [
        {
          "output_type": "execute_result",
          "data": {
            "text/plain": [
              "Text(0.5, 1.0, 'Neighbor similarity to \"data point 0\"')"
            ]
          },
          "metadata": {},
          "execution_count": 25
        },
        {
          "output_type": "display_data",
          "data": {
            "text/plain": [
              "<Figure size 640x480 with 1 Axes>"
            ],
            "image/png": "[encoded data removed]"
          },
          "metadata": {}
        }
      ],
      "source": [
        "sims_1 = np.exp(-((curr_dist - rhos[0]) / (sigma_mid)))\n",
        "\n",
        "plt.figure()\n",
        "plt.plot(np.arange(distances.shape[1], dtype=np.int32)+1, sims_1)\n",
        "plt.xlabel('Nth nearest neighbor')\n",
        "plt.xticks(np.arange(distances.shape[1], dtype=np.int32)+1)\n",
        "plt.ylabel('Similarity')\n",
        "plt.title('Neighbor similarity to \"data point 0\"')"
      ]
    },
    {
      "cell_type": "code",
      "execution_count": 26,
      "id": "a2f7e384",
      "metadata": {
        "id": "a2f7e384"
      },
      "outputs": [],
      "source": [
        "# Wrap binary search into function\n",
        "def binary_search_for_sigma(curr_dist, curr_rho, log_target, binary_iter, smooth_k_tolerance):\n",
        "    # Set up binary search for sigma\n",
        "    sigma_high = np.inf\n",
        "    sigma_low = 0\n",
        "    sigma_mid = 1\n",
        "\n",
        "    # Perform N itterations\n",
        "    for _ in range(binary_iter):\n",
        "        # Substract distances and rho\n",
        "        dist_diff = curr_dist - curr_rho\n",
        "\n",
        "        # Divide by sigma, negate, perform exponent, sum\n",
        "        sigma_sum = np.sum(np.exp(-dist_diff/sigma_mid))\n",
        "\n",
        "        # Break the loop if sum is equal to the target\n",
        "        if np.abs(sigma_sum-log_target) < smooth_k_tolerance:\n",
        "            return sigma_mid\n",
        "\n",
        "        # If obtained sum is greater than the target then make sigma smaller\n",
        "        if sigma_sum > log_target:\n",
        "            sigma_high = sigma_mid\n",
        "            sigma_mid = (sigma_high + sigma_low)/2\n",
        "        # If obtained sum is lower than the target then make sigma higher\n",
        "        else:\n",
        "            sigma_low = sigma_mid\n",
        "            if sigma_high == np.inf:\n",
        "                sigma_mid = sigma_mid*2\n",
        "            else:\n",
        "                sigma_mid = (sigma_high + sigma_low)/2\n",
        "    return sigma_mid"
      ]
    },
    {
      "cell_type": "code",
      "execution_count": 27,
      "id": "22113aa0",
      "metadata": {
        "id": "22113aa0"
      },
      "outputs": [],
      "source": [
        "# Calculate sigma value for each sample\n",
        "sigma_values = np.zeros(distances.shape[0])\n",
        "\n",
        "for sample_i in range(distances.shape[0]):\n",
        "    sigma_values[sample_i] = binary_search_for_sigma(\n",
        "        curr_dist=distances[sample_i,:],\n",
        "        curr_rho=rhos[sample_i],\n",
        "        log_target=log_target,\n",
        "        binary_iter=BINARY_ITER,\n",
        "        smooth_k_tolerance=GAMMA_TOLERANCE\n",
        "    )"
      ]
    },
    {
      "cell_type": "markdown",
      "id": "0a93d534",
      "metadata": {
        "id": "0a93d534"
      },
      "source": [
        "### Calculate similarities between points\n",
        "\n",
        "Similarities to neighbours are calculated as:\n",
        "\n",
        "$$\n",
        "sim_{ij} = \\exp \\left(- \\frac{\\max(0, d(x_i, x_{ij}) - \\rho_i)}{\\sigma_i} \\right)\n",
        "$$\n",
        "\n",
        "This similarities are \"simetrized\" after calculation.\n",
        "\n",
        "Formula for all the samples:\n",
        "$$\n",
        "S = P + P^T - P * P^T\n",
        "$$\n",
        "\n",
        "Example formula for two samples:\n",
        "$$\n",
        "S = P_(ij) + P_(ji) - P_(ij) * P_(ji)\n",
        "$$"
      ]
    },
    {
      "cell_type": "code",
      "execution_count": 28,
      "id": "b595c883",
      "metadata": {
        "id": "b595c883"
      },
      "outputs": [],
      "source": [
        "# Get number of samples and choosen number of neighbours\n",
        "n_samples = neighbors.shape[0]\n",
        "n_neighbors = neighbors.shape[1]\n",
        "\n",
        "# Initialize row, col and val arrays, this will later\n",
        "# be used to construct sparse matrix in order to symetrize\n",
        "# smoothed distance matrix.\n",
        "row_idx = np.zeros(neighbors.size, dtype=np.int32) # will be used to store index of the\n",
        "col_idx = np.zeros(neighbors.size, dtype=np.int32) # will be used to store index of the neighbours\n",
        "mtx_vals = np.zeros(neighbors.size, dtype=np.float32) # will be used to store similarity between sample and neighboor\n",
        "\n",
        "# Loop goint through samples\n",
        "for i in range(n_samples):\n",
        "    # Inner loop going through the neighbours\n",
        "    for j in range(n_neighbors):\n",
        "        # Calculate similarities in high dimensional space\n",
        "        val = np.exp(-((distances[i, j] - rhos[i]) / (sigma_values[i])))\n",
        "\n",
        "        # store sample indexes e.g. [1,1,1,1,2,2,2,2]\n",
        "        row_idx[i * n_neighbors + j] = i\n",
        "        # store neighbour indexes e.g. [2,3,4,5,2,3,4,5]\n",
        "        col_idx[i * n_neighbors + j] = neighbors[i, j]\n",
        "        # store similarities e.g [0.1, 0.3, 0.2, 0.5, 0.8,0.12, 0.19, 0.97]\n",
        "        mtx_vals[i * n_neighbors + j] = val"
      ]
    },
    {
      "cell_type": "code",
      "execution_count": 29,
      "id": "50b35489",
      "metadata": {
        "id": "50b35489"
      },
      "outputs": [],
      "source": [
        "# Create sparse matrix of smoothed distances\n",
        "# Distances in this matrix are not yet symetric\n",
        "non_sym_sim_mtx = scipy.sparse.coo_matrix(\n",
        "    (mtx_vals, (row_idx, col_idx)), shape=(neighbors.shape[0], neighbors.shape[0])\n",
        ")\n",
        "non_sym_sim_mtx.eliminate_zeros()"
      ]
    },
    {
      "cell_type": "code",
      "execution_count": 30,
      "id": "063de39b",
      "metadata": {
        "id": "063de39b",
        "outputId": "24d5cfa0-98e6-4432-f3e3-22b769415d70",
        "colab": {
          "base_uri": "https://localhost:8080/"
        }
      },
      "outputs": [
        {
          "output_type": "execute_result",
          "data": {
            "text/plain": [
              "(35735, 35735)"
            ]
          },
          "metadata": {},
          "execution_count": 30
        }
      ],
      "source": [
        "non_sym_sim_mtx.shape"
      ]
    },
    {
      "cell_type": "code",
      "source": [
        "type(non_sym_sim_mtx)"
      ],
      "metadata": {
        "id": "nktJxa0lIOca",
        "outputId": "3a1f1fe0-0732-4c41-8327-50d1d49338c5",
        "colab": {
          "base_uri": "https://localhost:8080/",
          "height": 187
        }
      },
      "id": "nktJxa0lIOca",
      "execution_count": 31,
      "outputs": [
        {
          "output_type": "execute_result",
          "data": {
            "text/plain": [
              "scipy.sparse._coo.coo_matrix"
            ],
            "text/html": [
              "<div style=\"max-width:800px; border: 1px solid var(--colab-border-color);\"><style>\n",
              "      pre.function-repr-contents {\n",
              "        overflow-x: auto;\n",
              "        padding: 8px 12px;\n",
              "        max-height: 500px;\n",
              "      }\n",
              "\n",
              "      pre.function-repr-contents.function-repr-contents-collapsed {\n",
              "        cursor: pointer;\n",
              "        max-height: 100px;\n",
              "      }\n",
              "    </style>\n",
              "    <pre style=\"white-space: initial; background:\n",
              "         var(--colab-secondary-surface-color); padding: 8px 12px;\n",
              "         border-bottom: 1px solid var(--colab-border-color);\"><b>scipy.sparse._coo.coo_matrix</b><br/>def __init__(arg1, shape=None, dtype=None, copy=False)</pre><pre class=\"function-repr-contents function-repr-contents-collapsed\" style=\"\"><a class=\"filepath\" style=\"display:none\" href=\"#\">/usr/local/lib/python3.10/dist-packages/scipy/sparse/_coo.py</a>A sparse matrix in COOrdinate format.\n",
              "\n",
              "Also known as the &#x27;ijv&#x27; or &#x27;triplet&#x27; format.\n",
              "\n",
              "This can be instantiated in several ways:\n",
              "    coo_matrix(D)\n",
              "        where D is a 2-D ndarray\n",
              "\n",
              "    coo_matrix(S)\n",
              "        with another sparse array or matrix S (equivalent to S.tocoo())\n",
              "\n",
              "    coo_matrix((M, N), [dtype])\n",
              "        to construct an empty matrix with shape (M, N)\n",
              "        dtype is optional, defaulting to dtype=&#x27;d&#x27;.\n",
              "\n",
              "    coo_matrix((data, (i, j)), [shape=(M, N)])\n",
              "        to construct from three arrays:\n",
              "            1. data[:]   the entries of the matrix, in any order\n",
              "            2. i[:]      the row indices of the matrix entries\n",
              "            3. j[:]      the column indices of the matrix entries\n",
              "\n",
              "        Where ``A[i[k], j[k]] = data[k]``.  When shape is not\n",
              "        specified, it is inferred from the index arrays\n",
              "\n",
              "Attributes\n",
              "----------\n",
              "dtype : dtype\n",
              "    Data type of the matrix\n",
              "shape : 2-tuple\n",
              "    Shape of the matrix\n",
              "ndim : int\n",
              "    Number of dimensions (this is always 2)\n",
              "nnz\n",
              "size\n",
              "data\n",
              "    COO format data array of the matrix\n",
              "row\n",
              "    COO format row index array of the matrix\n",
              "col\n",
              "    COO format column index array of the matrix\n",
              "has_canonical_format : bool\n",
              "    Whether the matrix has sorted indices and no duplicates\n",
              "format\n",
              "T\n",
              "\n",
              "Notes\n",
              "-----\n",
              "\n",
              "Sparse matrices can be used in arithmetic operations: they support\n",
              "addition, subtraction, multiplication, division, and matrix power.\n",
              "\n",
              "Advantages of the COO format\n",
              "    - facilitates fast conversion among sparse formats\n",
              "    - permits duplicate entries (see example)\n",
              "    - very fast conversion to and from CSR/CSC formats\n",
              "\n",
              "Disadvantages of the COO format\n",
              "    - does not directly support:\n",
              "        + arithmetic operations\n",
              "        + slicing\n",
              "\n",
              "Intended Usage\n",
              "    - COO is a fast format for constructing sparse matrices\n",
              "    - Once a COO matrix has been constructed, convert to CSR or\n",
              "      CSC format for fast arithmetic and matrix vector operations\n",
              "    - By default when converting to CSR or CSC format, duplicate (i,j)\n",
              "      entries will be summed together.  This facilitates efficient\n",
              "      construction of finite element matrices and the like. (see example)\n",
              "\n",
              "Canonical format\n",
              "    - Entries and coordinates sorted by row, then column.\n",
              "    - There are no duplicate entries (i.e. duplicate (i,j) locations)\n",
              "    - Data arrays MAY have explicit zeros.\n",
              "\n",
              "Examples\n",
              "--------\n",
              "\n",
              "&gt;&gt;&gt; # Constructing an empty matrix\n",
              "&gt;&gt;&gt; import numpy as np\n",
              "&gt;&gt;&gt; from scipy.sparse import coo_matrix\n",
              "&gt;&gt;&gt; coo_matrix((3, 4), dtype=np.int8).toarray()\n",
              "array([[0, 0, 0, 0],\n",
              "       [0, 0, 0, 0],\n",
              "       [0, 0, 0, 0]], dtype=int8)\n",
              "\n",
              "&gt;&gt;&gt; # Constructing a matrix using ijv format\n",
              "&gt;&gt;&gt; row  = np.array([0, 3, 1, 0])\n",
              "&gt;&gt;&gt; col  = np.array([0, 3, 1, 2])\n",
              "&gt;&gt;&gt; data = np.array([4, 5, 7, 9])\n",
              "&gt;&gt;&gt; coo_matrix((data, (row, col)), shape=(4, 4)).toarray()\n",
              "array([[4, 0, 9, 0],\n",
              "       [0, 7, 0, 0],\n",
              "       [0, 0, 0, 0],\n",
              "       [0, 0, 0, 5]])\n",
              "\n",
              "&gt;&gt;&gt; # Constructing a matrix with duplicate coordinates\n",
              "&gt;&gt;&gt; row  = np.array([0, 0, 1, 3, 1, 0, 0])\n",
              "&gt;&gt;&gt; col  = np.array([0, 2, 1, 3, 1, 0, 0])\n",
              "&gt;&gt;&gt; data = np.array([1, 1, 1, 1, 1, 1, 1])\n",
              "&gt;&gt;&gt; coo = coo_matrix((data, (row, col)), shape=(4, 4))\n",
              "&gt;&gt;&gt; # Duplicate coordinates are maintained until implicitly or explicitly summed\n",
              "&gt;&gt;&gt; np.max(coo.data)\n",
              "1\n",
              "&gt;&gt;&gt; coo.toarray()\n",
              "array([[3, 0, 1, 0],\n",
              "       [0, 2, 0, 0],\n",
              "       [0, 0, 0, 0],\n",
              "       [0, 0, 0, 1]])</pre>\n",
              "      <script>\n",
              "      if (google.colab.kernel.accessAllowed && google.colab.files && google.colab.files.view) {\n",
              "        for (const element of document.querySelectorAll('.filepath')) {\n",
              "          element.style.display = 'block'\n",
              "          element.onclick = (event) => {\n",
              "            event.preventDefault();\n",
              "            event.stopPropagation();\n",
              "            google.colab.files.view(element.textContent, 740);\n",
              "          };\n",
              "        }\n",
              "      }\n",
              "      for (const element of document.querySelectorAll('.function-repr-contents')) {\n",
              "        element.onclick = (event) => {\n",
              "          event.preventDefault();\n",
              "          event.stopPropagation();\n",
              "          element.classList.toggle('function-repr-contents-collapsed');\n",
              "        };\n",
              "      }\n",
              "      </script>\n",
              "      </div>"
            ]
          },
          "metadata": {},
          "execution_count": 31
        }
      ]
    },
    {
      "cell_type": "code",
      "source": [
        "# Transpose smooth distance matrix\n",
        "non_sym_sim_mtx_t = non_sym_sim_mtx.transpose()\n",
        "\n",
        "# Multiply smooth distance matrix with its transponse element-wise\n",
        "prod_matrix = non_sym_sim_mtx.multiply(non_sym_sim_mtx_t)\n",
        "\n",
        "type(prod_matrix) # 有做運算 scipy 會轉為 csr 或 csc"
      ],
      "metadata": {
        "id": "rKdFnc4jIV3d",
        "outputId": "3b71298f-5b79-463c-b035-b82cf12d2014",
        "colab": {
          "base_uri": "https://localhost:8080/",
          "height": 187
        }
      },
      "id": "rKdFnc4jIV3d",
      "execution_count": 33,
      "outputs": [
        {
          "output_type": "execute_result",
          "data": {
            "text/plain": [
              "scipy.sparse._csr.csr_matrix"
            ],
            "text/html": [
              "<div style=\"max-width:800px; border: 1px solid var(--colab-border-color);\"><style>\n",
              "      pre.function-repr-contents {\n",
              "        overflow-x: auto;\n",
              "        padding: 8px 12px;\n",
              "        max-height: 500px;\n",
              "      }\n",
              "\n",
              "      pre.function-repr-contents.function-repr-contents-collapsed {\n",
              "        cursor: pointer;\n",
              "        max-height: 100px;\n",
              "      }\n",
              "    </style>\n",
              "    <pre style=\"white-space: initial; background:\n",
              "         var(--colab-secondary-surface-color); padding: 8px 12px;\n",
              "         border-bottom: 1px solid var(--colab-border-color);\"><b>scipy.sparse._csr.csr_matrix</b><br/>def __init__(arg1, shape=None, dtype=None, copy=False)</pre><pre class=\"function-repr-contents function-repr-contents-collapsed\" style=\"\"><a class=\"filepath\" style=\"display:none\" href=\"#\">/usr/local/lib/python3.10/dist-packages/scipy/sparse/_csr.py</a>Compressed Sparse Row matrix.\n",
              "\n",
              "This can be instantiated in several ways:\n",
              "    csr_matrix(D)\n",
              "        where D is a 2-D ndarray\n",
              "\n",
              "    csr_matrix(S)\n",
              "        with another sparse array or matrix S (equivalent to S.tocsr())\n",
              "\n",
              "    csr_matrix((M, N), [dtype])\n",
              "        to construct an empty matrix with shape (M, N)\n",
              "        dtype is optional, defaulting to dtype=&#x27;d&#x27;.\n",
              "\n",
              "    csr_matrix((data, (row_ind, col_ind)), [shape=(M, N)])\n",
              "        where ``data``, ``row_ind`` and ``col_ind`` satisfy the\n",
              "        relationship ``a[row_ind[k], col_ind[k]] = data[k]``.\n",
              "\n",
              "    csr_matrix((data, indices, indptr), [shape=(M, N)])\n",
              "        is the standard CSR representation where the column indices for\n",
              "        row i are stored in ``indices[indptr[i]:indptr[i+1]]`` and their\n",
              "        corresponding values are stored in ``data[indptr[i]:indptr[i+1]]``.\n",
              "        If the shape parameter is not supplied, the matrix dimensions\n",
              "        are inferred from the index arrays.\n",
              "\n",
              "Attributes\n",
              "----------\n",
              "dtype : dtype\n",
              "    Data type of the matrix\n",
              "shape : 2-tuple\n",
              "    Shape of the matrix\n",
              "ndim : int\n",
              "    Number of dimensions (this is always 2)\n",
              "nnz\n",
              "size\n",
              "data\n",
              "    CSR format data array of the matrix\n",
              "indices\n",
              "    CSR format index array of the matrix\n",
              "indptr\n",
              "    CSR format index pointer array of the matrix\n",
              "has_sorted_indices\n",
              "has_canonical_format\n",
              "T\n",
              "\n",
              "Notes\n",
              "-----\n",
              "\n",
              "Sparse matrices can be used in arithmetic operations: they support\n",
              "addition, subtraction, multiplication, division, and matrix power.\n",
              "\n",
              "Advantages of the CSR format\n",
              "  - efficient arithmetic operations CSR + CSR, CSR * CSR, etc.\n",
              "  - efficient row slicing\n",
              "  - fast matrix vector products\n",
              "\n",
              "Disadvantages of the CSR format\n",
              "  - slow column slicing operations (consider CSC)\n",
              "  - changes to the sparsity structure are expensive (consider LIL or DOK)\n",
              "\n",
              "Canonical Format\n",
              "    - Within each row, indices are sorted by column.\n",
              "    - There are no duplicate entries.\n",
              "\n",
              "Examples\n",
              "--------\n",
              "\n",
              "&gt;&gt;&gt; import numpy as np\n",
              "&gt;&gt;&gt; from scipy.sparse import csr_matrix\n",
              "&gt;&gt;&gt; csr_matrix((3, 4), dtype=np.int8).toarray()\n",
              "array([[0, 0, 0, 0],\n",
              "       [0, 0, 0, 0],\n",
              "       [0, 0, 0, 0]], dtype=int8)\n",
              "\n",
              "&gt;&gt;&gt; row = np.array([0, 0, 1, 2, 2, 2])\n",
              "&gt;&gt;&gt; col = np.array([0, 2, 2, 0, 1, 2])\n",
              "&gt;&gt;&gt; data = np.array([1, 2, 3, 4, 5, 6])\n",
              "&gt;&gt;&gt; csr_matrix((data, (row, col)), shape=(3, 3)).toarray()\n",
              "array([[1, 0, 2],\n",
              "       [0, 0, 3],\n",
              "       [4, 5, 6]])\n",
              "\n",
              "&gt;&gt;&gt; indptr = np.array([0, 2, 3, 6])\n",
              "&gt;&gt;&gt; indices = np.array([0, 2, 2, 0, 1, 2])\n",
              "&gt;&gt;&gt; data = np.array([1, 2, 3, 4, 5, 6])\n",
              "&gt;&gt;&gt; csr_matrix((data, indices, indptr), shape=(3, 3)).toarray()\n",
              "array([[1, 0, 2],\n",
              "       [0, 0, 3],\n",
              "       [4, 5, 6]])\n",
              "\n",
              "Duplicate entries are summed together:\n",
              "\n",
              "&gt;&gt;&gt; row = np.array([0, 1, 2, 0])\n",
              "&gt;&gt;&gt; col = np.array([0, 1, 1, 0])\n",
              "&gt;&gt;&gt; data = np.array([1, 2, 4, 8])\n",
              "&gt;&gt;&gt; csr_matrix((data, (row, col)), shape=(3, 3)).toarray()\n",
              "array([[9, 0, 0],\n",
              "       [0, 2, 0],\n",
              "       [0, 4, 0]])\n",
              "\n",
              "As an example of how to construct a CSR matrix incrementally,\n",
              "the following snippet builds a term-document matrix from texts:\n",
              "\n",
              "&gt;&gt;&gt; docs = [[&quot;hello&quot;, &quot;world&quot;, &quot;hello&quot;], [&quot;goodbye&quot;, &quot;cruel&quot;, &quot;world&quot;]]\n",
              "&gt;&gt;&gt; indptr = [0]\n",
              "&gt;&gt;&gt; indices = []\n",
              "&gt;&gt;&gt; data = []\n",
              "&gt;&gt;&gt; vocabulary = {}\n",
              "&gt;&gt;&gt; for d in docs:\n",
              "...     for term in d:\n",
              "...         index = vocabulary.setdefault(term, len(vocabulary))\n",
              "...         indices.append(index)\n",
              "...         data.append(1)\n",
              "...     indptr.append(len(indices))\n",
              "...\n",
              "&gt;&gt;&gt; csr_matrix((data, indices, indptr), dtype=int).toarray()\n",
              "array([[2, 1, 0, 0],\n",
              "       [0, 1, 1, 1]])</pre>\n",
              "      <script>\n",
              "      if (google.colab.kernel.accessAllowed && google.colab.files && google.colab.files.view) {\n",
              "        for (const element of document.querySelectorAll('.filepath')) {\n",
              "          element.style.display = 'block'\n",
              "          element.onclick = (event) => {\n",
              "            event.preventDefault();\n",
              "            event.stopPropagation();\n",
              "            google.colab.files.view(element.textContent, 370);\n",
              "          };\n",
              "        }\n",
              "      }\n",
              "      for (const element of document.querySelectorAll('.function-repr-contents')) {\n",
              "        element.onclick = (event) => {\n",
              "          event.preventDefault();\n",
              "          event.stopPropagation();\n",
              "          element.classList.toggle('function-repr-contents-collapsed');\n",
              "        };\n",
              "      }\n",
              "      </script>\n",
              "      </div>"
            ]
          },
          "metadata": {},
          "execution_count": 33
        }
      ]
    },
    {
      "cell_type": "code",
      "execution_count": 34,
      "id": "9a5a29d1",
      "metadata": {
        "id": "9a5a29d1"
      },
      "outputs": [],
      "source": [
        "# Create symetrical smooth distance matrix by using fuzzy set union operation\n",
        "sim_mtx = non_sym_sim_mtx + non_sym_sim_mtx_t - prod_matrix\n",
        "\n",
        "# Eliminate all zeroes from the result\n",
        "sim_mtx.eliminate_zeros()"
      ]
    },
    {
      "cell_type": "code",
      "execution_count": 36,
      "id": "5a114a72",
      "metadata": {
        "id": "5a114a72"
      },
      "outputs": [],
      "source": [
        "# Transform sparse matrix to coordinate format\n",
        "sim_mtx = sim_mtx.tocoo() # adjacency matrix"
      ]
    },
    {
      "cell_type": "code",
      "execution_count": 37,
      "id": "21a4568a",
      "metadata": {
        "id": "21a4568a"
      },
      "outputs": [],
      "source": [
        "# Return to the old format\n",
        "sim_mtx_row_ids = sim_mtx.row\n",
        "sim_mtx_col_ids = sim_mtx.col\n",
        "sim_mtx_vals = sim_mtx.data"
      ]
    },
    {
      "cell_type": "code",
      "execution_count": 38,
      "id": "681b2dd2",
      "metadata": {
        "id": "681b2dd2",
        "outputId": "d62c3324-7aae-48b0-b320-b1bec5133aae",
        "colab": {
          "base_uri": "https://localhost:8080/",
          "height": 206
        }
      },
      "outputs": [
        {
          "output_type": "execute_result",
          "data": {
            "text/plain": [
              "   row     col  similarities\n",
              "0  0.0    13.0      0.164273\n",
              "1  0.0   333.0      1.000000\n",
              "2  0.0   814.0      0.227533\n",
              "3  0.0  1320.0      0.270415\n",
              "4  0.0  2120.0      0.110248"
            ],
            "text/html": [
              "\n",
              "  <div id=\"df-7623f145-653e-4dbf-89a9-49b7d3ff3cfe\" class=\"colab-df-container\">\n",
              "    <div>\n",
              "<style scoped>\n",
              "    .dataframe tbody tr th:only-of-type {\n",
              "        vertical-align: middle;\n",
              "    }\n",
              "\n",
              "    .dataframe tbody tr th {\n",
              "        vertical-align: top;\n",
              "    }\n",
              "\n",
              "    .dataframe thead th {\n",
              "        text-align: right;\n",
              "    }\n",
              "</style>\n",
              "<table border=\"1\" class=\"dataframe\">\n",
              "  <thead>\n",
              "    <tr style=\"text-align: right;\">\n",
              "      <th></th>\n",
              "      <th>row</th>\n",
              "      <th>col</th>\n",
              "      <th>similarities</th>\n",
              "    </tr>\n",
              "  </thead>\n",
              "  <tbody>\n",
              "    <tr>\n",
              "      <th>0</th>\n",
              "      <td>0.0</td>\n",
              "      <td>13.0</td>\n",
              "      <td>0.164273</td>\n",
              "    </tr>\n",
              "    <tr>\n",
              "      <th>1</th>\n",
              "      <td>0.0</td>\n",
              "      <td>333.0</td>\n",
              "      <td>1.000000</td>\n",
              "    </tr>\n",
              "    <tr>\n",
              "      <th>2</th>\n",
              "      <td>0.0</td>\n",
              "      <td>814.0</td>\n",
              "      <td>0.227533</td>\n",
              "    </tr>\n",
              "    <tr>\n",
              "      <th>3</th>\n",
              "      <td>0.0</td>\n",
              "      <td>1320.0</td>\n",
              "      <td>0.270415</td>\n",
              "    </tr>\n",
              "    <tr>\n",
              "      <th>4</th>\n",
              "      <td>0.0</td>\n",
              "      <td>2120.0</td>\n",
              "      <td>0.110248</td>\n",
              "    </tr>\n",
              "  </tbody>\n",
              "</table>\n",
              "</div>\n",
              "    <div class=\"colab-df-buttons\">\n",
              "\n",
              "  <div class=\"colab-df-container\">\n",
              "    <button class=\"colab-df-convert\" onclick=\"convertToInteractive('df-7623f145-653e-4dbf-89a9-49b7d3ff3cfe')\"\n",
              "            title=\"Convert this dataframe to an interactive table.\"\n",
              "            style=\"display:none;\">\n",
              "\n",
              "  <svg xmlns=\"http://www.w3.org/2000/svg\" height=\"24px\" viewBox=\"0 -960 960 960\">\n",
              "    <path d=\"M120-120v-720h720v720H120Zm60-500h600v-160H180v160Zm220 220h160v-160H400v160Zm0 220h160v-160H400v160ZM180-400h160v-160H180v160Zm440 0h160v-160H620v160ZM180-180h160v-160H180v160Zm440 0h160v-160H620v160Z\"/>\n",
              "  </svg>\n",
              "    </button>\n",
              "\n",
              "  <style>\n",
              "    .colab-df-container {\n",
              "      display:flex;\n",
              "      gap: 12px;\n",
              "    }\n",
              "\n",
              "    .colab-df-convert {\n",
              "      background-color: #E8F0FE;\n",
              "      border: none;\n",
              "      border-radius: 50%;\n",
              "      cursor: pointer;\n",
              "      display: none;\n",
              "      fill: #1967D2;\n",
              "      height: 32px;\n",
              "      padding: 0 0 0 0;\n",
              "      width: 32px;\n",
              "    }\n",
              "\n",
              "    .colab-df-convert:hover {\n",
              "      background-color: #E2EBFA;\n",
              "      box-shadow: 0px 1px 2px rgba(60, 64, 67, 0.3), 0px 1px 3px 1px rgba(60, 64, 67, 0.15);\n",
              "      fill: #174EA6;\n",
              "    }\n",
              "\n",
              "    .colab-df-buttons div {\n",
              "      margin-bottom: 4px;\n",
              "    }\n",
              "\n",
              "    [theme=dark] .colab-df-convert {\n",
              "      background-color: #3B4455;\n",
              "      fill: #D2E3FC;\n",
              "    }\n",
              "\n",
              "    [theme=dark] .colab-df-convert:hover {\n",
              "      background-color: #434B5C;\n",
              "      box-shadow: 0px 1px 3px 1px rgba(0, 0, 0, 0.15);\n",
              "      filter: drop-shadow(0px 1px 2px rgba(0, 0, 0, 0.3));\n",
              "      fill: #FFFFFF;\n",
              "    }\n",
              "  </style>\n",
              "\n",
              "    <script>\n",
              "      const buttonEl =\n",
              "        document.querySelector('#df-7623f145-653e-4dbf-89a9-49b7d3ff3cfe button.colab-df-convert');\n",
              "      buttonEl.style.display =\n",
              "        google.colab.kernel.accessAllowed ? 'block' : 'none';\n",
              "\n",
              "      async function convertToInteractive(key) {\n",
              "        const element = document.querySelector('#df-7623f145-653e-4dbf-89a9-49b7d3ff3cfe');\n",
              "        const dataTable =\n",
              "          await google.colab.kernel.invokeFunction('convertToInteractive',\n",
              "                                                    [key], {});\n",
              "        if (!dataTable) return;\n",
              "\n",
              "        const docLinkHtml = 'Like what you see? Visit the ' +\n",
              "          '<a target=\"_blank\" href=https://colab.research.google.com/notebooks/data_table.ipynb>data table notebook</a>'\n",
              "          + ' to learn more about interactive tables.';\n",
              "        element.innerHTML = '';\n",
              "        dataTable['output_type'] = 'display_data';\n",
              "        await google.colab.output.renderOutput(dataTable, element);\n",
              "        const docLink = document.createElement('div');\n",
              "        docLink.innerHTML = docLinkHtml;\n",
              "        element.appendChild(docLink);\n",
              "      }\n",
              "    </script>\n",
              "  </div>\n",
              "\n",
              "\n",
              "<div id=\"df-de27c593-b6b9-40fb-9a9c-c11cc9eeffd5\">\n",
              "  <button class=\"colab-df-quickchart\" onclick=\"quickchart('df-de27c593-b6b9-40fb-9a9c-c11cc9eeffd5')\"\n",
              "            title=\"Suggest charts\"\n",
              "            style=\"display:none;\">\n",
              "\n",
              "<svg xmlns=\"http://www.w3.org/2000/svg\" height=\"24px\"viewBox=\"0 0 24 24\"\n",
              "     width=\"24px\">\n",
              "    <g>\n",
              "        <path d=\"M19 3H5c-1.1 0-2 .9-2 2v14c0 1.1.9 2 2 2h14c1.1 0 2-.9 2-2V5c0-1.1-.9-2-2-2zM9 17H7v-7h2v7zm4 0h-2V7h2v10zm4 0h-2v-4h2v4z\"/>\n",
              "    </g>\n",
              "</svg>\n",
              "  </button>\n",
              "\n",
              "<style>\n",
              "  .colab-df-quickchart {\n",
              "      --bg-color: #E8F0FE;\n",
              "      --fill-color: #1967D2;\n",
              "      --hover-bg-color: #E2EBFA;\n",
              "      --hover-fill-color: #174EA6;\n",
              "      --disabled-fill-color: #AAA;\n",
              "      --disabled-bg-color: #DDD;\n",
              "  }\n",
              "\n",
              "  [theme=dark] .colab-df-quickchart {\n",
              "      --bg-color: #3B4455;\n",
              "      --fill-color: #D2E3FC;\n",
              "      --hover-bg-color: #434B5C;\n",
              "      --hover-fill-color: #FFFFFF;\n",
              "      --disabled-bg-color: #3B4455;\n",
              "      --disabled-fill-color: #666;\n",
              "  }\n",
              "\n",
              "  .colab-df-quickchart {\n",
              "    background-color: var(--bg-color);\n",
              "    border: none;\n",
              "    border-radius: 50%;\n",
              "    cursor: pointer;\n",
              "    display: none;\n",
              "    fill: var(--fill-color);\n",
              "    height: 32px;\n",
              "    padding: 0;\n",
              "    width: 32px;\n",
              "  }\n",
              "\n",
              "  .colab-df-quickchart:hover {\n",
              "    background-color: var(--hover-bg-color);\n",
              "    box-shadow: 0 1px 2px rgba(60, 64, 67, 0.3), 0 1px 3px 1px rgba(60, 64, 67, 0.15);\n",
              "    fill: var(--button-hover-fill-color);\n",
              "  }\n",
              "\n",
              "  .colab-df-quickchart-complete:disabled,\n",
              "  .colab-df-quickchart-complete:disabled:hover {\n",
              "    background-color: var(--disabled-bg-color);\n",
              "    fill: var(--disabled-fill-color);\n",
              "    box-shadow: none;\n",
              "  }\n",
              "\n",
              "  .colab-df-spinner {\n",
              "    border: 2px solid var(--fill-color);\n",
              "    border-color: transparent;\n",
              "    border-bottom-color: var(--fill-color);\n",
              "    animation:\n",
              "      spin 1s steps(1) infinite;\n",
              "  }\n",
              "\n",
              "  @keyframes spin {\n",
              "    0% {\n",
              "      border-color: transparent;\n",
              "      border-bottom-color: var(--fill-color);\n",
              "      border-left-color: var(--fill-color);\n",
              "    }\n",
              "    20% {\n",
              "      border-color: transparent;\n",
              "      border-left-color: var(--fill-color);\n",
              "      border-top-color: var(--fill-color);\n",
              "    }\n",
              "    30% {\n",
              "      border-color: transparent;\n",
              "      border-left-color: var(--fill-color);\n",
              "      border-top-color: var(--fill-color);\n",
              "      border-right-color: var(--fill-color);\n",
              "    }\n",
              "    40% {\n",
              "      border-color: transparent;\n",
              "      border-right-color: var(--fill-color);\n",
              "      border-top-color: var(--fill-color);\n",
              "    }\n",
              "    60% {\n",
              "      border-color: transparent;\n",
              "      border-right-color: var(--fill-color);\n",
              "    }\n",
              "    80% {\n",
              "      border-color: transparent;\n",
              "      border-right-color: var(--fill-color);\n",
              "      border-bottom-color: var(--fill-color);\n",
              "    }\n",
              "    90% {\n",
              "      border-color: transparent;\n",
              "      border-bottom-color: var(--fill-color);\n",
              "    }\n",
              "  }\n",
              "</style>\n",
              "\n",
              "  <script>\n",
              "    async function quickchart(key) {\n",
              "      const quickchartButtonEl =\n",
              "        document.querySelector('#' + key + ' button');\n",
              "      quickchartButtonEl.disabled = true;  // To prevent multiple clicks.\n",
              "      quickchartButtonEl.classList.add('colab-df-spinner');\n",
              "      try {\n",
              "        const charts = await google.colab.kernel.invokeFunction(\n",
              "            'suggestCharts', [key], {});\n",
              "      } catch (error) {\n",
              "        console.error('Error during call to suggestCharts:', error);\n",
              "      }\n",
              "      quickchartButtonEl.classList.remove('colab-df-spinner');\n",
              "      quickchartButtonEl.classList.add('colab-df-quickchart-complete');\n",
              "    }\n",
              "    (() => {\n",
              "      let quickchartButtonEl =\n",
              "        document.querySelector('#df-de27c593-b6b9-40fb-9a9c-c11cc9eeffd5 button');\n",
              "      quickchartButtonEl.style.display =\n",
              "        google.colab.kernel.accessAllowed ? 'block' : 'none';\n",
              "    })();\n",
              "  </script>\n",
              "</div>\n",
              "\n",
              "    </div>\n",
              "  </div>\n"
            ],
            "application/vnd.google.colaboratory.intrinsic+json": {
              "type": "dataframe",
              "variable_name": "test"
            }
          },
          "metadata": {},
          "execution_count": 38
        }
      ],
      "source": [
        "# Show how indexes and coordinates look like\n",
        "# Also show identity of each index (for both samples and neighbours)\n",
        "test = pd.DataFrame(\n",
        "    np.column_stack([sim_mtx_row_ids, sim_mtx_col_ids, sim_mtx_vals]),\n",
        "    columns = ['row', 'col', 'similarities']\n",
        ")\n",
        "\n",
        "ri_labels = mnist_label.reset_index(drop=True)\n",
        "row_labels = ri_labels[sim_mtx_row_ids]\n",
        "col_labels = ri_labels[sim_mtx_col_ids]\n",
        "\n",
        "test.head()"
      ]
    },
    {
      "cell_type": "markdown",
      "id": "97407989",
      "metadata": {
        "id": "97407989"
      },
      "source": [
        "## Embedding the graph into 2D space"
      ]
    },
    {
      "cell_type": "markdown",
      "id": "b79a0033",
      "metadata": {
        "id": "b79a0033"
      },
      "source": [
        "### Calculate parameters a and b\n",
        "\n",
        "In low dimensional space, similarity scores are calculated based on following formula:\n",
        "\n",
        "$$\n",
        "Sim(x, y) = \\frac{1}{1 + a \\cdot d^{(2 \\cdot b)}}\n",
        "$$\n",
        "\n",
        "\n",
        "Parameters a and b are optimized so Sim(x, y) approximates following values:\n",
        "\n",
        "$$\n",
        "Target vals(x, y) =\n",
        "\\begin{cases}\n",
        "1, & \\text{if } d \\le \\text{min-dist} \\\\\n",
        "\\exp\\left(-\\left(d - \\text{min-dist}\\right)\\right), & \\text{otherwise}\n",
        "\\end{cases}\n",
        "$$"
      ]
    },
    {
      "cell_type": "code",
      "execution_count": null,
      "id": "18145d99",
      "metadata": {
        "id": "18145d99"
      },
      "outputs": [],
      "source": [
        "# Set up hyper parameters\n",
        "MIN_DIST = 0.1\n",
        "N_COMPONENTS = 2\n",
        "N_EPOCHS = 2000\n",
        "N_NEGATIVE = 8\n",
        "LEARNING_RATE = 4"
      ]
    },
    {
      "cell_type": "code",
      "execution_count": null,
      "id": "e31b44e1",
      "metadata": {
        "id": "e31b44e1"
      },
      "outputs": [],
      "source": [
        "def optim_curve(x, a, b):\n",
        "    return 1.0 / (1.0 + a * x ** (2 * b))\n",
        "\n",
        "# 300 simulated points between 0 and 3\n",
        "# this axis simulates distances between\n",
        "# points in low dimensional space\n",
        "sim_dist = np.linspace(0, 3, 300)\n",
        "# placehodler for target valyes\n",
        "target_vals = np.zeros(sim_dist.shape)\n",
        "# set distances smaller than min_dist to 1\n",
        "target_vals[sim_dist < MIN_DIST] = 1.0\n",
        "# set distances greater than min_dist\n",
        "target_vals[sim_dist >= MIN_DIST] = np.exp(-(sim_dist[sim_dist >= MIN_DIST] - MIN_DIST)\n",
        ")\n",
        "# optimize a and b parameters of function defined by \"optim_curve\"\n",
        "# in order to produce target_vals when sim_dist is inputed\n",
        "params, _ = curve_fit(optim_curve, sim_dist, target_vals)\n",
        "\n",
        "a,b = params[0], params[1]"
      ]
    },
    {
      "cell_type": "code",
      "execution_count": null,
      "id": "5394630e",
      "metadata": {
        "id": "5394630e"
      },
      "outputs": [],
      "source": [
        "print('Value of a is {}'.format(a))\n",
        "print('Value of b is {}'.format(b))"
      ]
    },
    {
      "cell_type": "code",
      "execution_count": null,
      "id": "3d7aec20",
      "metadata": {
        "id": "3d7aec20"
      },
      "outputs": [],
      "source": [
        "plt.plot(sim_dist, target_vals)\n",
        "plt.xlabel('Distance')\n",
        "plt.ylabel('Similarity')\n",
        "plt.title('Target similarity')"
      ]
    },
    {
      "cell_type": "code",
      "execution_count": null,
      "id": "5cc937d7",
      "metadata": {
        "id": "5cc937d7"
      },
      "outputs": [],
      "source": [
        "sim_dist = np.linspace(0, 3, 300)\n",
        "similarities = optim_curve(sim_dist, a, b)\n",
        "plt.plot(sim_dist, similarities)\n",
        "plt.xlabel('Distance')\n",
        "plt.ylabel('Similarity')\n",
        "plt.title('Fitted curve')"
      ]
    },
    {
      "cell_type": "markdown",
      "id": "e9a4c0fe",
      "metadata": {
        "id": "e9a4c0fe"
      },
      "source": [
        "### Low dimensional embedding optimization\n"
      ]
    },
    {
      "cell_type": "code",
      "execution_count": null,
      "id": "8864b9c6",
      "metadata": {
        "id": "8864b9c6"
      },
      "outputs": [],
      "source": [
        "# Initialize embedding with random values\n",
        "embedding = np.random.uniform(\n",
        "    low=-3.0, high=3.0, size=(sim_mtx.shape[0], N_COMPONENTS)\n",
        ")"
      ]
    },
    {
      "cell_type": "code",
      "execution_count": null,
      "id": "384a174c",
      "metadata": {
        "id": "384a174c"
      },
      "outputs": [],
      "source": [
        "def euclidean_optim_one_epoch(sim_mtx_row_ids, sim_mtx_col_ids, a, b, embedding, weights, learning_rate, n_negative):\n",
        "\n",
        "    # Iterate through pairs of samples and neighboirs\n",
        "    # i represents sample index\n",
        "    # j represents neighbour index\n",
        "    for i,j in zip(sim_mtx_row_ids, sim_mtx_col_ids):\n",
        "\n",
        "        # Get embeddings for sample and index\n",
        "        p1 = embedding[i, :]\n",
        "        p2 = embedding[j, :]\n",
        "\n",
        "        # Find euclidean distance in low dimensional space\n",
        "        dist_squared = np.sum(np.square(p1-p2))\n",
        "\n",
        "        # Do full gradient calculation for neighbours if distance is greater than zero\n",
        "        if dist_squared > 0:\n",
        "            curr_grad = (\n",
        "                weights[i]*2*a*b*dist_squared**(b-1) / (a*dist_squared**b + 1.)\n",
        "                - (1-weights[i])*(2*b / ((0.001 + dist_squared)*(1+a*dist_squared**b)))\n",
        "            )\n",
        "        else:\n",
        "            curr_grad = 0.\n",
        "\n",
        "        curr_grad = curr_grad*(p1-p2)\n",
        "\n",
        "        # Clip the gradients\n",
        "        curr_grad = np.clip(curr_grad, -4., 4.)\n",
        "\n",
        "        # Apply gradient to both, sample an neighbour\n",
        "        embedding[i, :] -= curr_grad*learning_rate\n",
        "        embedding[j, :] += curr_grad*learning_rate\n",
        "\n",
        "        # Sample N random points and use them as \"negative sample\"\n",
        "        # Negative sample is the sample that is not connected to the current sample\n",
        "        for _ in range(n_negative):\n",
        "\n",
        "            # Get randomly sample index\n",
        "            neg_j = np.random.randint(embedding.shape[0])\n",
        "\n",
        "            # Get embedding of negative sample\n",
        "            p_neg = embedding[neg_j, : ]\n",
        "\n",
        "            # Find euclidean distance between current sample and\n",
        "            # negative sample\n",
        "            dist_squared = np.sum(np.square(p1-p_neg))\n",
        "\n",
        "            # Calculate gradient (formula is shorter because we assume weights[i]==0)\n",
        "            # for thus case\n",
        "            if dist_squared > 0.:\n",
        "                curr_grad = -2.*b / ((0.001 + dist_squared)*(1+a*dist_squared**b))\n",
        "            else:\n",
        "                curr_grad = 0.\n",
        "\n",
        "            curr_grad = curr_grad*(p1-p_neg)\n",
        "\n",
        "            # Clip the gradient\n",
        "            curr_grad = np.clip(curr_grad, -4., 4.)\n",
        "\n",
        "            # Apply gradient to the both, sample and the neighbour\n",
        "            embedding[i, :] -=  curr_grad*learning_rate\n",
        "            embedding[neg_j, :] +=  curr_grad*learning_rate\n",
        "\n",
        "\n",
        "# Optimize the function by using numba\n",
        "optimize_fn = numba.njit(\n",
        "    euclidean_optim_one_epoch, fastmath=True, parallel=False\n",
        ")"
      ]
    },
    {
      "cell_type": "code",
      "execution_count": null,
      "id": "189db8b0",
      "metadata": {
        "id": "189db8b0"
      },
      "outputs": [],
      "source": [
        "euclidean_optim_one_epoch(\n",
        "    sim_mtx_row_ids=sim_mtx_row_ids,\n",
        "    sim_mtx_col_ids=sim_mtx_col_ids,\n",
        "    a=a,\n",
        "    b=b,\n",
        "    embedding=embedding,\n",
        "    weights=sim_mtx_vals,\n",
        "    learning_rate=LEARNING_RATE,\n",
        "    n_negative=N_NEGATIVE\n",
        ")"
      ]
    },
    {
      "cell_type": "code",
      "execution_count": null,
      "id": "b52ab708",
      "metadata": {
        "id": "b52ab708"
      },
      "outputs": [],
      "source": [
        "optimize_fn(\n",
        "    sim_mtx_row_ids=sim_mtx_row_ids,\n",
        "    sim_mtx_col_ids=sim_mtx_col_ids,\n",
        "    a=a,\n",
        "    b=b,\n",
        "    embedding=embedding,\n",
        "    weights=sim_mtx_vals,\n",
        "    learning_rate=LEARNING_RATE,\n",
        "    n_negative=N_NEGATIVE\n",
        ")"
      ]
    },
    {
      "cell_type": "code",
      "execution_count": null,
      "id": "9b9221f5",
      "metadata": {
        "id": "9b9221f5"
      },
      "outputs": [],
      "source": [
        "# Optimize in a loop\n",
        "for epoch_i in range(200):\n",
        "    optimize_fn(\n",
        "        sim_mtx_row_ids=sim_mtx_row_ids,\n",
        "        sim_mtx_col_ids=sim_mtx_col_ids,\n",
        "        a=a,\n",
        "        b=b,\n",
        "        embedding=embedding,\n",
        "        weights=sim_mtx_vals,\n",
        "        learning_rate=LEARNING_RATE,\n",
        "        n_negative=N_NEGATIVE\n",
        "    )\n",
        "\n",
        "    if epoch_i%20 == 0:\n",
        "        print(epoch_i)\n",
        "        test_df = pd.DataFrame(embedding, columns=['UMAP1', 'UMAP2'])\n",
        "        test_df['label'] = mnist_label.values\n",
        "        sns.scatterplot(test_df,x='UMAP1', y='UMAP2', hue='label')\n",
        "        plt.show()"
      ]
    },
    {
      "cell_type": "markdown",
      "id": "7694edcc",
      "metadata": {
        "id": "7694edcc"
      },
      "source": [
        "### Alternative function implementation with numba parallel"
      ]
    },
    {
      "cell_type": "code",
      "execution_count": null,
      "id": "c9df268d",
      "metadata": {
        "id": "c9df268d"
      },
      "outputs": [],
      "source": [
        "def euclidean_optim_one_epoch(sim_mtx_row_ids, sim_mtx_col_ids, a, b, embedding, weights, learning_rate, n_negative):\n",
        "\n",
        "    # In order to uze numpa parallel, loop must be performed with numba.prange\n",
        "    for iter_i in numba.prange(sim_mtx_row_ids.shape[0]):\n",
        "\n",
        "        # Extract index for sample and neighbour\n",
        "        i = sim_mtx_row_ids[iter_i]\n",
        "        j = sim_mtx_col_ids[iter_i]\n",
        "\n",
        "        # Get embeddings for sample and neighbour\n",
        "        p1 = embedding[i, :]\n",
        "        p2 = embedding[j, :]\n",
        "\n",
        "        # Find euclidean distance in low dimensional space\n",
        "        dist_squared = np.sum(np.square(p1-p2))\n",
        "\n",
        "        # Do full gradient calculation for neighbours if distance is greater than zero\n",
        "        if dist_squared > 0:\n",
        "            curr_grad = (\n",
        "                weights[i]*2*a*b*dist_squared**(b-1) / (a*dist_squared**b + 1.)\n",
        "                - (1-weights[i])*(2*b / ((0.001 + dist_squared)*(1+a*dist_squared**b)))\n",
        "            )\n",
        "        else:\n",
        "            curr_grad = 0.\n",
        "\n",
        "        curr_grad = curr_grad*(p1-p2)\n",
        "\n",
        "        # Clip the gradients\n",
        "        curr_grad = np.clip(curr_grad, -4., 4.)\n",
        "\n",
        "        # Apply gradient to both, sample an neighbour\n",
        "        embedding[i, :] -= curr_grad*learning_rate\n",
        "        embedding[j, :] += curr_grad*learning_rate\n",
        "\n",
        "        # Sample N random points and use them as \"negative sample\"\n",
        "        # Negative sample is the sample that is not connected to the current sample\n",
        "        for _ in range(n_negative):\n",
        "\n",
        "            # Get randomly sample index\n",
        "            neg_j = np.random.randint(embedding.shape[0])\n",
        "\n",
        "            # Get embedding of negative sample\n",
        "            p_neg = embedding[neg_j, : ]\n",
        "\n",
        "            # Find euclidean distance between current sample and\n",
        "            # negative sample\n",
        "            dist_squared = np.sum(np.square(p1-p_neg))\n",
        "\n",
        "            # Calculate gradient (formula is shorter because we assume weights[i]==0)\n",
        "            # for thus case\n",
        "            if dist_squared > 0.:\n",
        "                curr_grad = -2.*b / ((0.001 + dist_squared)*(1+a*dist_squared**b))\n",
        "            else:\n",
        "                curr_grad = 0.\n",
        "\n",
        "            curr_grad = curr_grad*(p1-p_neg)\n",
        "\n",
        "            # Clip the gradient\n",
        "            curr_grad = np.clip(curr_grad, -4., 4.)\n",
        "\n",
        "            # Apply gradient to the both, sample and the neighbour\n",
        "            embedding[i, :] -=  curr_grad*learning_rate\n",
        "            embedding[neg_j, :] +=  curr_grad*learning_rate\n",
        "\n",
        "# Optimize the function\n",
        "optimize_fn = numba.njit(\n",
        "    euclidean_optim_one_epoch, fastmath=True, parallel=True\n",
        ")"
      ]
    },
    {
      "cell_type": "code",
      "execution_count": null,
      "id": "ddd302a5",
      "metadata": {
        "id": "ddd302a5"
      },
      "outputs": [],
      "source": [
        "# Initialize embedding with random values\n",
        "embedding = np.random.uniform(\n",
        "    low=-3.0, high=3.0, size=(sim_mtx.shape[0], N_COMPONENTS)\n",
        ")"
      ]
    },
    {
      "cell_type": "code",
      "execution_count": null,
      "id": "42b37ba3",
      "metadata": {
        "id": "42b37ba3"
      },
      "outputs": [],
      "source": [
        "# Optimize in a loop\n",
        "for epoch_i in range(N_EPOCHS):\n",
        "    optimize_fn(\n",
        "        sim_mtx_row_ids=sim_mtx_row_ids,\n",
        "        sim_mtx_col_ids=sim_mtx_col_ids,\n",
        "        a=a,\n",
        "        b=b,\n",
        "        embedding=embedding,\n",
        "        weights=sim_mtx_vals,\n",
        "        learning_rate=LEARNING_RATE,\n",
        "        n_negative=N_NEGATIVE\n",
        "    )\n",
        "\n",
        "    if epoch_i%100 == 0:\n",
        "        print(epoch_i)\n",
        "        test_df = pd.DataFrame(embedding, columns=['UMAP1', 'UMAP2'])\n",
        "        test_df['label'] = mnist_label.values\n",
        "        sns.scatterplot(test_df,x='UMAP1', y='UMAP2', hue='label', alpha=0.8, s=8)\n",
        "        plt.title('Epoch ' + str(epoch_i))\n",
        "        plt.show()"
      ]
    },
    {
      "cell_type": "code",
      "execution_count": null,
      "id": "aca0bf36",
      "metadata": {
        "id": "aca0bf36"
      },
      "outputs": [],
      "source": []
    }
  ],
  "metadata": {
    "kernelspec": {
      "display_name": "Python 3 (ipykernel)",
      "language": "python",
      "name": "python3"
    },
    "language_info": {
      "codemirror_mode": {
        "name": "ipython",
        "version": 3
      },
      "file_extension": ".py",
      "mimetype": "text/x-python",
      "name": "python",
      "nbconvert_exporter": "python",
      "pygments_lexer": "ipython3",
      "version": "3.11.3"
    },
    "colab": {
      "provenance": [],
      "include_colab_link": true
    }
  },
  "nbformat": 4,
  "nbformat_minor": 5
}