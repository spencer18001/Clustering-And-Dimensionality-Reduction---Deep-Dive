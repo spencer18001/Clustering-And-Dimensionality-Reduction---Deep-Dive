{
 "cells": [
  {
   "cell_type": "markdown",
   "metadata": {},
   "source": [
    "## Tunning UMAP parameters"
   ]
  },
  {
   "cell_type": "code",
   "execution_count": null,
   "metadata": {},
   "outputs": [],
   "source": [
    "import random\n",
    "\n",
    "import numpy as np\n",
    "import pandas as pd\n",
    "\n",
    "import umap\n",
    "import umap.plot as uplot\n",
    "\n",
    "import seaborn as sns\n",
    "import matplotlib.pyplot as plt\n",
    "\n",
    "sns.set_theme()\n",
    "random.seed(2)"
   ]
  },
  {
   "cell_type": "code",
   "execution_count": null,
   "metadata": {},
   "outputs": [],
   "source": [
    "df = pd.read_json('data/mammoth_3d.json')\n",
    "df.columns = ['x', 'y', 'z']"
   ]
  },
  {
   "cell_type": "code",
   "execution_count": null,
   "metadata": {},
   "outputs": [],
   "source": [
    "df.head()"
   ]
  },
  {
   "cell_type": "code",
   "execution_count": null,
   "metadata": {},
   "outputs": [],
   "source": [
    "# Create values for colormap\n",
    "max_value = df[['x', 'y', 'z']].to_numpy().max()\n",
    "min_value = df[['x', 'y', 'z']].to_numpy().min()\n",
    "df_normalized = (df - min_value) / (max_value - min_value)\n",
    "\n",
    "norm = np.sqrt(df['x'].to_numpy()**2 + df['y'].to_numpy()**2 + df['z'].to_numpy()**2)\n",
    "norm = (norm - np.min(norm)) / (np.max(norm) - np.min(norm))\n",
    "colormap = plt.cm.hsv\n",
    "\n",
    "\n",
    "# Plot the data\n",
    "fig = plt.figure(figsize=(8,8))\n",
    "ax = fig.add_subplot(111, projection='3d')\n",
    "\n",
    "ax.scatter(df['x'], df['y'], df['z'], s=1, alpha=0.8, c=colormap(norm))\n",
    "\n",
    "\n",
    "# Labels and title\n",
    "ax.set_xlabel('X')\n",
    "ax.set_ylabel('Y')\n",
    "ax.set_zlabel('Z')\n",
    "ax.set_title('3D mammoth')\n",
    "\n",
    "ax.view_init(elev=60, azim=-180, roll=-90)\n",
    "\n",
    "\n",
    "# Show the plot\n",
    "plt.show()"
   ]
  },
  {
   "cell_type": "code",
   "execution_count": null,
   "metadata": {},
   "outputs": [],
   "source": [
    "for n_neighbors in [4, 15, 50, 100]:\n",
    "\n",
    "    for min_dist in [0, 0.1, 0.3, 0.5, 0.95]:\n",
    "\n",
    "        mnist_umap = umap.UMAP(n_neighbors=n_neighbors, min_dist=min_dist)\n",
    "        embedding = mnist_umap.fit_transform(df)\n",
    "\n",
    "        mm_embedded = pd.DataFrame(embedding, columns=['umap 1', 'umap 2'])\n",
    "\n",
    "        plt.figure(figsize=(7,7))\n",
    "\n",
    "        sns.scatterplot(mm_embedded, x='umap 1', y='umap 2', color=colormap(norm), s=2) \n",
    "        \n",
    "        plt.title('Num neigh {} min dist {}'.format(n_neighbors, min_dist))\n",
    "        \n",
    "        plt.show()"
   ]
  }
 ],
 "metadata": {
  "kernelspec": {
   "display_name": "test_env_2",
   "language": "python",
   "name": "python3"
  },
  "language_info": {
   "codemirror_mode": {
    "name": "ipython",
    "version": 3
   },
   "file_extension": ".py",
   "mimetype": "text/x-python",
   "name": "python",
   "nbconvert_exporter": "python",
   "pygments_lexer": "ipython3",
   "version": "3.11.3"
  },
  "orig_nbformat": 4
 },
 "nbformat": 4,
 "nbformat_minor": 2
}
