{
  "cells": [
    {
      "cell_type": "markdown",
      "metadata": {
        "id": "view-in-github",
        "colab_type": "text"
      },
      "source": [
        "<a href=\"https://colab.research.google.com/github/spencer18001/Clustering-And-Dimensionality-Reduction---Deep-Dive/blob/main/0216.ipynb\" target=\"_parent\"><img src=\"https://colab.research.google.com/assets/colab-badge.svg\" alt=\"Open In Colab\"/></a>"
      ]
    },
    {
      "cell_type": "markdown",
      "metadata": {
        "id": "0T1pqwWT72NK"
      },
      "source": [
        "## Functions - lambda functions and decorators\n",
        "\n",
        "#### Agenda\n",
        "\n",
        "- Lambda functions\n",
        "- Function scope\n",
        "- Decorator basics"
      ]
    },
    {
      "cell_type": "markdown",
      "metadata": {
        "id": "wmpYDXo572NO"
      },
      "source": [
        "##### Lambda functions\n"
      ]
    },
    {
      "cell_type": "code",
      "execution_count": 1,
      "metadata": {
        "id": "a6JlXAMx72NP"
      },
      "outputs": [],
      "source": [
        "def sum_numbers_1(a,b,c):\n",
        "    return a + b + c"
      ]
    },
    {
      "cell_type": "code",
      "execution_count": 2,
      "metadata": {
        "id": "qjLGmh4W72NQ"
      },
      "outputs": [],
      "source": [
        "sum_numbers_2 = lambda a,b,c:  a+b+c"
      ]
    },
    {
      "cell_type": "code",
      "execution_count": 3,
      "metadata": {
        "id": "iNppd_3A72NR",
        "outputId": "40da9b6e-d3ac-4810-f2c6-d143ecf642a7",
        "colab": {
          "base_uri": "https://localhost:8080/"
        }
      },
      "outputs": [
        {
          "output_type": "execute_result",
          "data": {
            "text/plain": [
              "6"
            ]
          },
          "metadata": {},
          "execution_count": 3
        }
      ],
      "source": [
        "sum_numbers_1(1,2,3)"
      ]
    },
    {
      "cell_type": "code",
      "execution_count": 4,
      "metadata": {
        "id": "gNc7_r2C72NR",
        "outputId": "04e6998f-084b-4df2-c74b-ab90f87a0d99",
        "colab": {
          "base_uri": "https://localhost:8080/"
        }
      },
      "outputs": [
        {
          "output_type": "execute_result",
          "data": {
            "text/plain": [
              "6"
            ]
          },
          "metadata": {},
          "execution_count": 4
        }
      ],
      "source": [
        "sum_numbers_2(1,2,3)"
      ]
    },
    {
      "cell_type": "code",
      "execution_count": 5,
      "metadata": {
        "id": "TykYUXij72NR",
        "outputId": "aad3b9c6-f587-42b7-8a63-8480cb4330a0",
        "colab": {
          "base_uri": "https://localhost:8080/"
        }
      },
      "outputs": [
        {
          "output_type": "execute_result",
          "data": {
            "text/plain": [
              "function"
            ]
          },
          "metadata": {},
          "execution_count": 5
        }
      ],
      "source": [
        "type(sum_numbers_1)"
      ]
    },
    {
      "cell_type": "code",
      "execution_count": 6,
      "metadata": {
        "id": "LxjhvPQk72NS",
        "outputId": "97ce54a8-e36d-460c-aa86-ab48ebabf673",
        "colab": {
          "base_uri": "https://localhost:8080/"
        }
      },
      "outputs": [
        {
          "output_type": "execute_result",
          "data": {
            "text/plain": [
              "function"
            ]
          },
          "metadata": {},
          "execution_count": 6
        }
      ],
      "source": [
        "type(sum_numbers_2)"
      ]
    },
    {
      "cell_type": "markdown",
      "metadata": {
        "id": "xg4daLX872NS"
      },
      "source": [
        "##### Function scope"
      ]
    },
    {
      "cell_type": "code",
      "execution_count": 7,
      "metadata": {
        "id": "xDtvNCDU72NT",
        "outputId": "e42fa173-aab0-46db-cd73-357d258c4f64",
        "colab": {
          "base_uri": "https://localhost:8080/"
        }
      },
      "outputs": [
        {
          "output_type": "execute_result",
          "data": {
            "text/plain": [
              "15"
            ]
          },
          "metadata": {},
          "execution_count": 7
        }
      ],
      "source": [
        "# Function can see outside variables\n",
        "out_var = 10\n",
        "\n",
        "def f1(p1):\n",
        "    in_var = 19\n",
        "    return p1 + out_var\n",
        "\n",
        "f1(5)"
      ]
    },
    {
      "cell_type": "code",
      "execution_count": 8,
      "metadata": {
        "id": "Cp3M2rQH72NT",
        "outputId": "aa96b16e-fc71-4e8d-f519-d21b4aa1926e",
        "colab": {
          "base_uri": "https://localhost:8080/",
          "height": 141
        }
      },
      "outputs": [
        {
          "output_type": "error",
          "ename": "NameError",
          "evalue": "name 'in_var' is not defined",
          "traceback": [
            "\u001b[0;31m---------------------------------------------------------------------------\u001b[0m",
            "\u001b[0;31mNameError\u001b[0m                                 Traceback (most recent call last)",
            "\u001b[0;32m<ipython-input-8-196788d9fecd>\u001b[0m in \u001b[0;36m<cell line: 1>\u001b[0;34m()\u001b[0m\n\u001b[0;32m----> 1\u001b[0;31m \u001b[0min_var\u001b[0m\u001b[0;34m\u001b[0m\u001b[0;34m\u001b[0m\u001b[0m\n\u001b[0m",
            "\u001b[0;31mNameError\u001b[0m: name 'in_var' is not defined"
          ]
        }
      ],
      "source": [
        "in_var"
      ]
    },
    {
      "cell_type": "code",
      "execution_count": 9,
      "metadata": {
        "id": "p2R6Udtl72NU",
        "outputId": "00af0df0-801f-47b4-cc0c-124bda2a96c9",
        "colab": {
          "base_uri": "https://localhost:8080/"
        }
      },
      "outputs": [
        {
          "output_type": "execute_result",
          "data": {
            "text/plain": [
              "205"
            ]
          },
          "metadata": {},
          "execution_count": 9
        }
      ],
      "source": [
        "# Arguments have advantage over outter variables\n",
        "\n",
        "def f1(p1, out_var):\n",
        "    return p1 + out_var\n",
        "\n",
        "f1(5, 200)"
      ]
    },
    {
      "cell_type": "code",
      "execution_count": 10,
      "metadata": {
        "id": "62RRC0c-72NU",
        "outputId": "769590f5-b573-4a0b-b579-b598eea88dae",
        "colab": {
          "base_uri": "https://localhost:8080/"
        }
      },
      "outputs": [
        {
          "output_type": "execute_result",
          "data": {
            "text/plain": [
              "105"
            ]
          },
          "metadata": {},
          "execution_count": 10
        }
      ],
      "source": [
        "# Internal variables have advantage over outside variables\n",
        "\n",
        "def f1(p1):\n",
        "    out_var = 100\n",
        "    return p1 + out_var\n",
        "\n",
        "f1(5)"
      ]
    },
    {
      "cell_type": "code",
      "execution_count": 11,
      "metadata": {
        "id": "mJPgkTjd72NU",
        "outputId": "6b1d4ed7-9942-4d60-9760-a79664ffdc96",
        "colab": {
          "base_uri": "https://localhost:8080/"
        }
      },
      "outputs": [
        {
          "output_type": "execute_result",
          "data": {
            "text/plain": [
              "19"
            ]
          },
          "metadata": {},
          "execution_count": 11
        }
      ],
      "source": [
        "# Functions can be defined inside other functions\n",
        "\n",
        "def f1(p1, p2, p3):\n",
        "    def f2(i1):\n",
        "        return i1 + out_var + p3\n",
        "    return p1 + f2(i1=p2)\n",
        "\n",
        "f1(2, 3, 4)"
      ]
    },
    {
      "cell_type": "code",
      "execution_count": 12,
      "metadata": {
        "id": "5Fe1X2Nj72NV",
        "outputId": "a047797a-2c21-40f1-905e-1530f561080b",
        "colab": {
          "base_uri": "https://localhost:8080/"
        }
      },
      "outputs": [
        {
          "output_type": "execute_result",
          "data": {
            "text/plain": [
              "105"
            ]
          },
          "metadata": {},
          "execution_count": 12
        }
      ],
      "source": [
        "# out_var in f1 scope has advantage in f2\n",
        "# over out_var from general scope\n",
        "def f1(p1, p2):\n",
        "    out_var = 100\n",
        "    def f2(i1):\n",
        "        return i1 + out_var\n",
        "    return p1 + f2(i1=p2)\n",
        "\n",
        "f1(2, 3)"
      ]
    },
    {
      "cell_type": "code",
      "execution_count": 13,
      "metadata": {
        "id": "h4k37SP-72NV",
        "outputId": "f612c2f7-5a61-4622-f6fc-68e4af612dc3",
        "colab": {
          "base_uri": "https://localhost:8080/"
        }
      },
      "outputs": [
        {
          "output_type": "execute_result",
          "data": {
            "text/plain": [
              "10"
            ]
          },
          "metadata": {},
          "execution_count": 13
        }
      ],
      "source": [
        "out_var"
      ]
    },
    {
      "cell_type": "markdown",
      "metadata": {
        "id": "0n2in8po72NV"
      },
      "source": [
        "##### Decorator basics\n",
        "\n",
        "A decorator in Python is a special type of function that allows us to add extra functionality to an existing function or method, without modifying its source code.\n",
        "\n"
      ]
    },
    {
      "cell_type": "code",
      "execution_count": 14,
      "metadata": {
        "id": "ObKZenN872NW"
      },
      "outputs": [],
      "source": [
        "# Our example function\n",
        "def f1(s1, s2):\n",
        "    return('I was provided {} and {} to print'.format(s1, s2))"
      ]
    },
    {
      "cell_type": "code",
      "execution_count": 15,
      "metadata": {
        "id": "zf3yLU2M72NW"
      },
      "outputs": [],
      "source": [
        "# Function that takes another function as argument and returns function\n",
        "def f2(func):\n",
        "    print('I have received input {}'.format(func))\n",
        "    return func"
      ]
    },
    {
      "cell_type": "code",
      "execution_count": 16,
      "metadata": {
        "id": "SuMKb7Vw72NW",
        "outputId": "0024e1bd-e29f-4a39-89c9-0332d938ded8",
        "colab": {
          "base_uri": "https://localhost:8080/"
        }
      },
      "outputs": [
        {
          "output_type": "stream",
          "name": "stdout",
          "text": [
            "I have received input <function f1 at 0x790a9827b5b0>\n"
          ]
        }
      ],
      "source": [
        "f_ret = f2(func=f1)"
      ]
    },
    {
      "cell_type": "code",
      "execution_count": 17,
      "metadata": {
        "id": "z5eyy9We72NW",
        "outputId": "ecfee8df-3d1b-4039-f505-7f910d996846",
        "colab": {
          "base_uri": "https://localhost:8080/",
          "height": 36
        }
      },
      "outputs": [
        {
          "output_type": "execute_result",
          "data": {
            "text/plain": [
              "'I was provided str 1 and str 2 to print'"
            ],
            "application/vnd.google.colaboratory.intrinsic+json": {
              "type": "string"
            }
          },
          "metadata": {},
          "execution_count": 17
        }
      ],
      "source": [
        "f_ret('str 1' , 'str 2')"
      ]
    },
    {
      "cell_type": "code",
      "execution_count": 18,
      "metadata": {
        "id": "MdVQ0eku72NW",
        "outputId": "e4d65015-66e4-43c8-f24d-da587b5efbe6",
        "colab": {
          "base_uri": "https://localhost:8080/"
        }
      },
      "outputs": [
        {
          "output_type": "execute_result",
          "data": {
            "text/plain": [
              "True"
            ]
          },
          "metadata": {},
          "execution_count": 18
        }
      ],
      "source": [
        "f_ret == f1"
      ]
    },
    {
      "cell_type": "code",
      "execution_count": 19,
      "metadata": {
        "id": "2ee3CTGy72NX"
      },
      "outputs": [],
      "source": [
        "import time"
      ]
    },
    {
      "cell_type": "code",
      "execution_count": 20,
      "metadata": {
        "id": "x90TMDPf72NX"
      },
      "outputs": [],
      "source": [
        "# This function enchances other functions\n",
        "# with time profiling functionality\n",
        "def time_profiler(func):\n",
        "    def wrapper(*args, **kwargs): # !!!!!\n",
        "        start_time = time.time()\n",
        "        result = func(*args, **kwargs)\n",
        "        print(\"--- %s seconds ---\" % (time.time() - start_time))\n",
        "        return result\n",
        "    return wrapper"
      ]
    },
    {
      "cell_type": "code",
      "execution_count": 21,
      "metadata": {
        "id": "t9XiT43X72NX"
      },
      "outputs": [],
      "source": [
        "# Simple function that will be time proffiled\n",
        "def test_f(a,b):\n",
        "    return a+b"
      ]
    },
    {
      "cell_type": "code",
      "execution_count": 22,
      "metadata": {
        "id": "b6wF0Lqt72NX",
        "outputId": "949f174c-a6c6-4520-ca54-807da9eeab56",
        "colab": {
          "base_uri": "https://localhost:8080/"
        }
      },
      "outputs": [
        {
          "output_type": "execute_result",
          "data": {
            "text/plain": [
              "30"
            ]
          },
          "metadata": {},
          "execution_count": 22
        }
      ],
      "source": [
        "test_f(10, 20)"
      ]
    },
    {
      "cell_type": "code",
      "execution_count": 23,
      "metadata": {
        "id": "Uh2mIWyD72NX"
      },
      "outputs": [],
      "source": [
        "test_f = time_profiler(test_f)"
      ]
    },
    {
      "cell_type": "code",
      "execution_count": 24,
      "metadata": {
        "id": "OEpBbwIG72NY",
        "outputId": "817e3618-ffdd-4502-d4cf-c24b07bd3d0d",
        "colab": {
          "base_uri": "https://localhost:8080/"
        }
      },
      "outputs": [
        {
          "output_type": "stream",
          "name": "stdout",
          "text": [
            "--- 1.6689300537109375e-06 seconds ---\n"
          ]
        },
        {
          "output_type": "execute_result",
          "data": {
            "text/plain": [
              "30"
            ]
          },
          "metadata": {},
          "execution_count": 24
        }
      ],
      "source": [
        "test_f(10,20)"
      ]
    },
    {
      "cell_type": "code",
      "execution_count": 25,
      "metadata": {
        "id": "CPZNy5tl72NY"
      },
      "outputs": [],
      "source": [
        "@time_profiler # !!!!!\n",
        "def test_f(a,b):\n",
        "    return a+b"
      ]
    },
    {
      "cell_type": "code",
      "execution_count": 26,
      "metadata": {
        "id": "PYCbn2of72NY",
        "outputId": "778fd4f2-e68f-44bb-d025-cf975d770699",
        "colab": {
          "base_uri": "https://localhost:8080/"
        }
      },
      "outputs": [
        {
          "output_type": "stream",
          "name": "stdout",
          "text": [
            "--- 1.9073486328125e-06 seconds ---\n"
          ]
        },
        {
          "output_type": "execute_result",
          "data": {
            "text/plain": [
              "110"
            ]
          },
          "metadata": {},
          "execution_count": 26
        }
      ],
      "source": [
        "test_f(10, 100)"
      ]
    },
    {
      "cell_type": "markdown",
      "metadata": {
        "id": "OJN-EhMw72NY"
      },
      "source": [
        "#### Summary\n",
        "\n",
        "We have learned:\n",
        "\n",
        "- Lambda functions\n",
        "  \n",
        "- Function scope\n",
        "  \n",
        "- Decorator basics"
      ]
    }
  ],
  "metadata": {
    "kernelspec": {
      "display_name": "test_env_2",
      "language": "python",
      "name": "python3"
    },
    "language_info": {
      "codemirror_mode": {
        "name": "ipython",
        "version": 3
      },
      "file_extension": ".py",
      "mimetype": "text/x-python",
      "name": "python",
      "nbconvert_exporter": "python",
      "pygments_lexer": "ipython3",
      "version": "3.11.3"
    },
    "orig_nbformat": 4,
    "colab": {
      "provenance": [],
      "include_colab_link": true
    }
  },
  "nbformat": 4,
  "nbformat_minor": 0
}