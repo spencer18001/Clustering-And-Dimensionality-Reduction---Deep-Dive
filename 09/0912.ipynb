{
 "cells": [
  {
   "cell_type": "markdown",
   "id": "43ae9385",
   "metadata": {},
   "source": [
    "## Car dataset clustering"
   ]
  },
  {
   "cell_type": "code",
   "execution_count": null,
   "id": "6c32e9d7",
   "metadata": {},
   "outputs": [],
   "source": [
    "#  kaggle : https://www.kaggle.com/datasets/uciml/autompg-dataset?datasetId=1489\n",
    "#  original link : https://archive.ics.uci.edu/dataset/9/auto+mpg\n",
    "\n",
    "import warnings\n",
    "warnings.simplefilter(action='ignore', category=FutureWarning)\n",
    "\n",
    "import pandas as pd\n",
    "import numpy as np\n",
    "\n",
    "import seaborn as sns\n",
    "from matplotlib import pyplot as plt\n",
    "\n",
    "from scipy.cluster.hierarchy import dendrogram, linkage, fcluster, inconsistent\n",
    "\n",
    "from sklearn.preprocessing import StandardScaler\n",
    "\n",
    "import umap\n",
    "import umap.plot as uplot\n",
    "\n",
    "from ch_9_funcs import plot_cluster_dendrogram, plot_silouethes_agglomer, cophenetic_corr\n",
    "\n",
    "sns.set_theme()"
   ]
  },
  {
   "cell_type": "markdown",
   "id": "e03446b6",
   "metadata": {},
   "source": [
    "### Load and preprocess the data\n",
    "\n",
    "The car MPG (Miles Per Gallon) dataset, often known as the Auto MPG dataset, is a popular collection of data that was sourced from the 1970s and 1980s. It provides a detailed insight into various attributes of cars that were in the market during that period. \n",
    "\n",
    "Dataset contains following columns:\n",
    "\n",
    "1. `mpg`: Stands for Miles Per Gallon. This measures the distance in miles that a car can travel per gallon of fuel.\n",
    "\n",
    "2. `cylinders`: Indicates the number of cylinders in the car's engine. This can be related to the power output of the engine.\n",
    "\n",
    "3. `displacement`: A measure of the total volume of all the cylinders in an engine, typically measured in cubic inches or cubic centimeters.\n",
    "\n",
    "4. `horsepower`: The power output of the car's engine, typically measured in horsepower.\n",
    "\n",
    "5. `weight`: The total weight of the car, typically measured in pounds.\n",
    "\n",
    "6. `acceleration`: A measure of how quickly the car can increase its speed, typically represented in seconds to go from 0 to 60 miles per hour.\n",
    "\n",
    "7. `model year`: The year when the car model was released, typically represented as a two-digit number from 70 to 82 (for 1970 to 1982).\n",
    "\n",
    "8. `origin`: A categorical variable representing the region where the car was manufactured. This is usually represented as a number: 1 for America, 2 for Europe, and 3 for Asia.\n",
    "\n",
    "9. `car name`: The full name of the car model, typically in the format of \"Manufacturer Model\" (e.g., \"ford torino\").\n",
    "\n",
    "Citation :  Quinlan,R.. (1993). Auto MPG. UCI Machine Learning Repository. https://doi.org/10.24432/C5859H.\n",
    "\n"
   ]
  },
  {
   "cell_type": "code",
   "execution_count": null,
   "id": "fa6e65c4",
   "metadata": {},
   "outputs": [],
   "source": [
    "# Load car mpg dataset\n",
    "car_df_path = 'data/hierarchical/car_mpg/auto-mpg.csv'\n",
    "car_df = pd.read_csv(car_df_path)\n",
    "car_df.shape"
   ]
  },
  {
   "cell_type": "code",
   "execution_count": null,
   "id": "bc5cf76d",
   "metadata": {},
   "outputs": [],
   "source": [
    "# Preview\n",
    "car_df.head()"
   ]
  },
  {
   "cell_type": "code",
   "execution_count": null,
   "id": "0cb344d9",
   "metadata": {},
   "outputs": [],
   "source": [
    "# Check for missing values\n",
    "car_df.isna().sum(axis=0)"
   ]
  },
  {
   "cell_type": "code",
   "execution_count": null,
   "id": "ae20941a",
   "metadata": {},
   "outputs": [],
   "source": [
    "# Preview column datatypes\n",
    "car_df.info()"
   ]
  },
  {
   "cell_type": "code",
   "execution_count": null,
   "id": "b6cee0b1",
   "metadata": {},
   "outputs": [],
   "source": [
    "car_df['horsepower'].unique()"
   ]
  },
  {
   "cell_type": "code",
   "execution_count": null,
   "id": "2de3d3a2",
   "metadata": {},
   "outputs": [],
   "source": [
    "# Remove missing values\n",
    "car_df = car_df[car_df['horsepower'] != '?'].reset_index(drop=True)\n",
    "car_df.shape"
   ]
  },
  {
   "cell_type": "code",
   "execution_count": null,
   "id": "10de3ae6",
   "metadata": {},
   "outputs": [],
   "source": [
    "# Get number of unique car names\n",
    "car_df['car name'].nunique()"
   ]
  },
  {
   "cell_type": "code",
   "execution_count": null,
   "id": "ae663b1a",
   "metadata": {},
   "outputs": [],
   "source": [
    "# Give unique name to each car by adding prefix (nth_occurence_car-name)\n",
    "diversifier = car_df.groupby('car name').cumcount().to_numpy()\n",
    "diversifier = ['' if val==0 else '_' + str(val) for val in diversifier]\n",
    "diversifier = pd.Series(diversifier)\n",
    "car_df['car name'] = car_df['car name'] + diversifier + '_' + car_df['model year'].astype(str)\n",
    "\n",
    "# Set car name as index\n",
    "car_df = car_df.set_index('car name', drop=True)"
   ]
  },
  {
   "cell_type": "code",
   "execution_count": null,
   "id": "50eaa39a",
   "metadata": {},
   "outputs": [],
   "source": [
    "# Cast other columns to float\n",
    "car_df = car_df.astype(np.float32)"
   ]
  },
  {
   "cell_type": "code",
   "execution_count": null,
   "id": "bfa911df",
   "metadata": {},
   "outputs": [],
   "source": [
    "# Plot variable value distribution\n",
    "_ = car_df.hist(figsize=(12,12))"
   ]
  },
  {
   "cell_type": "code",
   "execution_count": null,
   "id": "7bc11299",
   "metadata": {},
   "outputs": [],
   "source": [
    "# Remove origin column and save it as separate variable\n",
    "origin = car_df['origin']\n",
    "\n",
    "origin_mapping = {1: 'USA', 2: 'Europe', 3: 'Asia'}\n",
    "origin = origin.map(origin_mapping)"
   ]
  },
  {
   "cell_type": "code",
   "execution_count": null,
   "id": "72ae1c7c",
   "metadata": {},
   "outputs": [],
   "source": [
    "# Make a copy of the dataframe for latter use\n",
    "car_df_copy = car_df.copy()\n",
    "car_df_copy['origin'] = origin\n",
    "\n",
    "car_df = car_df.drop(columns=['origin'])\n"
   ]
  },
  {
   "cell_type": "code",
   "execution_count": null,
   "id": "29e5ea66",
   "metadata": {},
   "outputs": [],
   "source": [
    "# Scale the data\n",
    "scaler = StandardScaler()\n",
    "car_df[:] = scaler.fit_transform(car_df)"
   ]
  },
  {
   "cell_type": "markdown",
   "id": "4fe120a1",
   "metadata": {},
   "source": [
    "## Agglomerative clustering"
   ]
  },
  {
   "cell_type": "code",
   "execution_count": null,
   "id": "87e7a246",
   "metadata": {},
   "outputs": [],
   "source": [
    "linkage_matrix = linkage(car_df.to_numpy(), method='ward')"
   ]
  },
  {
   "cell_type": "code",
   "execution_count": null,
   "id": "9c30ac72",
   "metadata": {},
   "outputs": [],
   "source": [
    "cophenetic_corr(\n",
    "    linkage_matrix=linkage_matrix,\n",
    "    data_mtx = car_df.to_numpy()\n",
    ")"
   ]
  },
  {
   "cell_type": "code",
   "execution_count": null,
   "id": "df3fb680",
   "metadata": {
    "scrolled": false
   },
   "outputs": [],
   "source": [
    "# Plot dendrogram and label it by car type\n",
    "plt.rcParams['figure.figsize'] = [12, 50]\n",
    "_ = dendrogram(\n",
    "    linkage_matrix, \n",
    "    labels=car_df.index,\n",
    "    orientation='left', \n",
    "    leaf_font_size=7\n",
    ")"
   ]
  },
  {
   "cell_type": "code",
   "execution_count": null,
   "id": "36eb964f",
   "metadata": {
    "scrolled": false
   },
   "outputs": [],
   "source": [
    "# Plot dendrogram and add country of origin\n",
    "plt.rcParams['figure.figsize'] = [12, 50]\n",
    "_ = dendrogram(\n",
    "    linkage_matrix, \n",
    "    labels=origin.values,\n",
    "    orientation='left',\n",
    "    leaf_font_size=7\n",
    ")"
   ]
  },
  {
   "cell_type": "markdown",
   "id": "3abea75c",
   "metadata": {},
   "source": [
    "### Clustering using the height method"
   ]
  },
  {
   "cell_type": "code",
   "execution_count": null,
   "id": "7094550b",
   "metadata": {},
   "outputs": [],
   "source": [
    "# Perfrom UMAP dimensionality reduction\n",
    "umap_obj = umap.UMAP(n_neighbors=15)\n",
    "embedding_mtx = umap_obj.fit_transform(car_df)\n",
    "\n",
    "uplot.points(umap_obj)"
   ]
  },
  {
   "cell_type": "code",
   "execution_count": null,
   "id": "3ece8e38",
   "metadata": {},
   "outputs": [],
   "source": [
    "umap.plot.connectivity(umap_obj, show_points=True)"
   ]
  },
  {
   "cell_type": "code",
   "execution_count": null,
   "id": "cf1a66f5",
   "metadata": {},
   "outputs": [],
   "source": [
    "fig, ax = plt.subplots(1,1, figsize=(8,8))\n",
    "umap.plot.diagnostic(umap_obj, diagnostic_type='pca',ax=ax)"
   ]
  },
  {
   "cell_type": "code",
   "execution_count": null,
   "id": "bb6803da",
   "metadata": {},
   "outputs": [],
   "source": [
    "# Perform clustering based on height\n",
    "clusters = fcluster(\n",
    "    Z=linkage_matrix,\n",
    "    t=18, \n",
    "    criterion='distance',\n",
    ")\n",
    "\n",
    "dendr_colors = plot_cluster_dendrogram(\n",
    "    linkage_matrix=linkage_matrix,\n",
    "    dataset_df=car_df,\n",
    "    clusters=clusters,\n",
    "    leaf_font_size=7\n",
    ")"
   ]
  },
  {
   "cell_type": "code",
   "execution_count": null,
   "id": "4a319226",
   "metadata": {},
   "outputs": [],
   "source": [
    "_ = plot_silouethes_agglomer(\n",
    "    data_df=car_df,\n",
    "    clusters=clusters,\n",
    "    dendr_colors=dendr_colors,\n",
    "    embedding_mtx=embedding_mtx\n",
    ")"
   ]
  },
  {
   "cell_type": "code",
   "execution_count": null,
   "id": "3816bf44",
   "metadata": {},
   "outputs": [],
   "source": [
    "car_df_copy['cluster'] = clusters\n",
    "numeric_col_names = car_df_copy.select_dtypes(include=[np.number]).columns.tolist()\n",
    "\n",
    "# Plot features\n",
    "for feature in car_df_copy.columns:\n",
    "    \n",
    "    if feature != 'cluster':\n",
    "    \n",
    "        if feature in numeric_col_names:\n",
    "            \n",
    "            plt.figure(figsize=(14,5))\n",
    "            sns.boxplot(car_df_copy, x='cluster', y=feature)\n",
    "            plt.title(feature)\n",
    "            \n",
    "        else:\n",
    "            \n",
    "            proportions = car_df_copy.groupby(\n",
    "                'cluster'\n",
    "            )[feature].value_counts(\n",
    "                normalize=True\n",
    "            ).unstack()\n",
    "            \n",
    "            \n",
    "                    \n",
    "            # Create stacked bar plot\n",
    "            ax = proportions.plot(kind='bar', stacked=True, figsize=(14, 6))\n",
    "            plt.title(f'Cluster distribution for {feature}')\n",
    "            plt.ylabel('Proportion')\n",
    "\n",
    "            # Add legend\n",
    "            plt.legend(title=feature, bbox_to_anchor=(1.05, 1), loc='upper left')\n",
    "\n",
    "            # Get category labels\n",
    "            category_labels = proportions.columns.tolist()[::-1]\n",
    "            plt.show()"
   ]
  },
  {
   "cell_type": "markdown",
   "id": "9fa553e6",
   "metadata": {},
   "source": [
    "### Clustering using inconsistency method"
   ]
  },
  {
   "cell_type": "code",
   "execution_count": null,
   "id": "e26b54b6",
   "metadata": {},
   "outputs": [],
   "source": [
    "# Calculate inconsistence matrix\n",
    "depth=4\n",
    "incosistent_mtx = inconsistent(linkage_matrix,depth)\n",
    "\n",
    "# Plot inconsistency scores for given depth\n",
    "plt.figure(figsize=(10, 7))\n",
    "plt.plot(incosistent_mtx[:,-1])\n",
    "plt.scatter(range(incosistent_mtx.shape[0]),incosistent_mtx[:,-1])\n",
    "plt.title('Inconsistency values at depth = {}'.format(depth))\n",
    "plt.xlabel('Index')\n",
    "plt.ylabel('Inconsistency coefficient')\n",
    "plt.show()"
   ]
  },
  {
   "cell_type": "code",
   "execution_count": null,
   "id": "feb67dbc",
   "metadata": {},
   "outputs": [],
   "source": [
    "# Perform clustering based on inconsistency\n",
    "# and print clusters\n",
    "clusters = fcluster(Z=linkage_matrix, t=2.7, criterion='inconsistent', R=incosistent_mtx)\n",
    "clusters"
   ]
  },
  {
   "cell_type": "code",
   "execution_count": null,
   "id": "dacced7e",
   "metadata": {},
   "outputs": [],
   "source": [
    "label_list = ['clust {} - {}'.format(clust, name) + name for name, clust in zip(car_df.index, clusters)]\n",
    "\n",
    "dendr_colors = plot_cluster_dendrogram(\n",
    "    linkage_matrix=linkage_matrix,\n",
    "    dataset_df=car_df,\n",
    "    clusters=clusters,\n",
    "    leaf_font_size=8,\n",
    "    labels=label_list\n",
    ")"
   ]
  },
  {
   "cell_type": "code",
   "execution_count": null,
   "id": "e20119f4",
   "metadata": {},
   "outputs": [],
   "source": [
    "_ = plot_silouethes_agglomer(\n",
    "    data_df=car_df,\n",
    "    clusters=clusters,\n",
    "    dendr_colors=dendr_colors,\n",
    "    embedding_mtx=embedding_mtx\n",
    ")"
   ]
  },
  {
   "cell_type": "markdown",
   "id": "582f44ce",
   "metadata": {},
   "source": [
    "### Cluster characterization"
   ]
  },
  {
   "cell_type": "code",
   "execution_count": null,
   "id": "9b04ead1",
   "metadata": {},
   "outputs": [],
   "source": [
    "car_df_copy['cluster'] = clusters\n",
    "car_df_copy['cylinders'] = car_df_copy['cylinders'].astype(object)\n",
    "numeric_col_names = car_df_copy.select_dtypes(include=[np.number]).columns.tolist()\n",
    "\n",
    "# Plot features\n",
    "for feature in car_df_copy.columns:\n",
    "    \n",
    "    if feature != 'cluster':\n",
    "    \n",
    "        if feature in numeric_col_names:\n",
    "            \n",
    "            plt.figure(figsize=(14,5))\n",
    "            sns.boxplot(car_df_copy, x='cluster', y=feature)\n",
    "            plt.title(feature)\n",
    "            \n",
    "        else:\n",
    "            \n",
    "            proportions = car_df_copy.groupby(\n",
    "                'cluster'\n",
    "            )[feature].value_counts(\n",
    "                normalize=True\n",
    "            ).unstack()\n",
    "            \n",
    "            \n",
    "                    \n",
    "            # Create stacked bar plot\n",
    "            ax = proportions.plot(kind='bar', stacked=True, figsize=(14, 6))\n",
    "            plt.title(f'Cluster distribution for {feature}')\n",
    "            plt.ylabel('Proportion')\n",
    "\n",
    "            # Add legend\n",
    "            plt.legend(title=feature, bbox_to_anchor=(1.05, 1), loc='upper left')\n",
    "\n",
    "            # Get category labels\n",
    "            category_labels = proportions.columns.tolist()[::-1]\n",
    "            plt.show()"
   ]
  },
  {
   "cell_type": "code",
   "execution_count": null,
   "id": "1deb79f6",
   "metadata": {},
   "outputs": [],
   "source": [
    "car_df_copy[car_df_copy['cluster']==23]"
   ]
  },
  {
   "cell_type": "code",
   "execution_count": null,
   "id": "c0780f29",
   "metadata": {},
   "outputs": [],
   "source": [
    "car_df_copy[car_df_copy['cluster']==2]"
   ]
  }
 ],
 "metadata": {
  "kernelspec": {
   "display_name": "Python 3 (ipykernel)",
   "language": "python",
   "name": "python3"
  },
  "language_info": {
   "codemirror_mode": {
    "name": "ipython",
    "version": 3
   },
   "file_extension": ".py",
   "mimetype": "text/x-python",
   "name": "python",
   "nbconvert_exporter": "python",
   "pygments_lexer": "ipython3",
   "version": "3.11.3"
  }
 },
 "nbformat": 4,
 "nbformat_minor": 5
}
