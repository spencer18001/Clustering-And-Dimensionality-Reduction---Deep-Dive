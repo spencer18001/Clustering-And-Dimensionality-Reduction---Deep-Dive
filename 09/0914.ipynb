{
 "cells": [
  {
   "cell_type": "markdown",
   "id": "5cab36b4",
   "metadata": {},
   "source": [
    "## Agglomerative clustering - mixed data"
   ]
  },
  {
   "cell_type": "code",
   "execution_count": null,
   "id": "4724f886",
   "metadata": {},
   "outputs": [],
   "source": [
    "import math\n",
    "import random\n",
    "import warnings\n",
    "warnings.simplefilter(action='ignore', category=FutureWarning)\n",
    "\n",
    "import pandas as pd\n",
    "import numpy as np\n",
    "\n",
    "import seaborn as sns\n",
    "from matplotlib import pyplot as plt\n",
    "\n",
    "from scipy.cluster.hierarchy import dendrogram, linkage, fcluster, inconsistent\n",
    "from scipy.spatial.distance import squareform\n",
    "\n",
    "from sklearn.preprocessing import StandardScaler, OrdinalEncoder\n",
    "\n",
    "from ch_9_funcs import plot_cluster_dendrogram, plot_silouethes_agglomer, cophenetic_corr\n",
    "from ch_9_consts import CAR_85_COLUMN_DESCRIPTION\n",
    "\n",
    "import umap \n",
    "import umap.plot as uplot\n",
    "\n",
    "import gower\n",
    "\n",
    "random.seed(1)\n",
    "sns.set_theme()"
   ]
  },
  {
   "attachments": {},
   "cell_type": "markdown",
   "id": "2267a5e4",
   "metadata": {},
   "source": [
    "### Load and preprocess\n",
    "\n",
    "The 1985 Automobile Dataset is a comprehensive collection of data that captures various specifications and details about automobiles from that year. It typically includes various characteristics of the cars. Dataset contains following columns:\n",
    "\n",
    "- `symboling`: Insurance risk rating, ranges from -3 to 3.\n",
    "\n",
    "- `normalized-losses`: Average loss payment per insured vehicle, continuous from 65 to 256.\n",
    "- `make`: Car manufacturer, e.g., BMW, Audi.\n",
    "- `fuel-type`: Type of fuel used, diesel or gas.\n",
    "- `aspiration`: Type of aspiration, standard (std) or turbo.\n",
    "- `num-of-doors`: Number of doors, either four or two.\n",
    "- `body-style`: Car body style, e.g., sedan, hatchback.\n",
    "- `drive-wheels`: Type of drive wheels, 4WD, FWD, RWD.\n",
    "- `engine-location`: Location of the engine, front or rear.\n",
    "- `wheel-base`: Distance between front and rear wheels, continuous from 86.6 to 120.9.\n",
    "- `length`: Length of the car, continuous from 141.1 to 208.1.\n",
    "- `width`: Width of the car, continuous from 60.3 to 72.3.\n",
    "- `height`: Height of the car, continuous from 47.8 to 59.8.\n",
    "- `curb-weight`: Weight of the car without occupants, continuous from 1488 to 4066.\n",
    "- `engine-type`: Type of engine, e.g., DOHC, OHCV.\n",
    "- `num-of-cylinders`: Number of cylinders, e.g., four, six.\n",
    "- `engine-size`: Size of the engine, continuous from 61 to 326.\n",
    "- `fuel-system`: Type of fuel system, e.g., 1bbl, mpfi.\n",
    "- `bore`: Diameter of each cylinder, continuous from 2.54 to 3.94.\n",
    "- `stroke`: Distance piston travels in cylinder, continuous from 2.07 to 4.17.\n",
    "- `compression-ratio`: Compression ratio of the engine, continuous from 7 to 23.\n",
    "- `horsepower`: Engine power, continuous from 48 to 288.\n",
    "- `peak-rpm`: Maximum engine speed, continuous from 4150 to 6600.\n",
    "- `city-mpg`: City mileage, continuous from 13 to 49.\n",
    "- `highway-mpg`: Highway mileage, continuous from 16 to 54.\n",
    "- `price`: Price of the car, continuous from 5118 to 45400.\n",
    "\n",
    "Citation : Schlimmer,Jeffrey. (1987). Automobile. UCI Machine Learning Repository. https://doi.org/10.24432/C5B01C."
   ]
  },
  {
   "cell_type": "code",
   "execution_count": null,
   "id": "b10d6f6b",
   "metadata": {},
   "outputs": [],
   "source": [
    "# Load and preview the dataset\n",
    "data_path = 'data/hierarchical/auto_clean/auto_86_dataset.csv'\n",
    "car_df = pd.read_csv(data_path)\n",
    "car_df.head()"
   ]
  },
  {
   "cell_type": "code",
   "execution_count": null,
   "id": "080a3838",
   "metadata": {},
   "outputs": [],
   "source": [
    "car_df.shape"
   ]
  },
  {
   "cell_type": "code",
   "execution_count": null,
   "id": "028e9eeb",
   "metadata": {},
   "outputs": [],
   "source": [
    "car_df = car_df.replace('?', np.nan)"
   ]
  },
  {
   "cell_type": "code",
   "execution_count": null,
   "id": "3a5b7572",
   "metadata": {},
   "outputs": [],
   "source": [
    "# Check data for missing values\n",
    "car_df.isna().sum(axis=0)"
   ]
  },
  {
   "cell_type": "code",
   "execution_count": null,
   "id": "1b8e6648",
   "metadata": {},
   "outputs": [],
   "source": [
    "car_df = car_df.drop(columns=['normalized-losses'])"
   ]
  },
  {
   "cell_type": "code",
   "execution_count": null,
   "id": "c8e2e4f8",
   "metadata": {},
   "outputs": [],
   "source": [
    "car_df.info()"
   ]
  },
  {
   "cell_type": "code",
   "execution_count": null,
   "id": "3dd73613",
   "metadata": {},
   "outputs": [],
   "source": [
    "pd.set_option('display.max_columns', None)\n",
    "car_df"
   ]
  },
  {
   "cell_type": "code",
   "execution_count": null,
   "id": "2af1743c",
   "metadata": {},
   "outputs": [],
   "source": [
    "categ_cols = ['make', 'fuel-type', 'aspiration', 'body-style', 'drive-wheels', 'engine-location', 'engine-type', 'fuel-system']"
   ]
  },
  {
   "cell_type": "code",
   "execution_count": null,
   "id": "82d1f8db",
   "metadata": {},
   "outputs": [],
   "source": [
    "num_mapper = {\n",
    "    'one': 1,\n",
    "    'two': 2,\n",
    "    'three': 3,\n",
    "    'four': 4,\n",
    "    'five': 5,\n",
    "    'six': 6,\n",
    "    'seven': 7,\n",
    "    'eight': 8,\n",
    "    'nine': 9,\n",
    "    'ten': 10\n",
    "}\n",
    "\n",
    "car_df['num-of-doors'] = car_df['num-of-doors'].map(num_mapper)\n",
    "car_df['num-of-cylinders'] = car_df['num-of-cylinders'].map(num_mapper)"
   ]
  },
  {
   "cell_type": "code",
   "execution_count": null,
   "id": "0a668436",
   "metadata": {},
   "outputs": [],
   "source": [
    "num_cols = list(set(car_df.columns) - set(categ_cols))\n",
    "\n",
    "car_df[num_cols] = car_df[num_cols].astype(float)"
   ]
  },
  {
   "cell_type": "code",
   "execution_count": null,
   "id": "e640d662",
   "metadata": {},
   "outputs": [],
   "source": [
    "car_df.info()"
   ]
  },
  {
   "cell_type": "code",
   "execution_count": null,
   "id": "34819f34",
   "metadata": {},
   "outputs": [],
   "source": [
    "# Drop missing values\n",
    "car_df = car_df.dropna().reset_index(drop=True)"
   ]
  },
  {
   "cell_type": "code",
   "execution_count": null,
   "id": "8bd50a73",
   "metadata": {},
   "outputs": [],
   "source": [
    "# Visual inspection of numerical variables\n",
    "plt.rcParams['figure.figsize'] = [12, 14]\n",
    "_ = car_df.hist(bins=20)"
   ]
  },
  {
   "cell_type": "code",
   "execution_count": null,
   "id": "97d0ae33",
   "metadata": {},
   "outputs": [],
   "source": [
    "# Plot categorical columns\n",
    "num_plots = len(categ_cols)\n",
    "\n",
    "# Determine number of rows needed for the grid\n",
    "num_rows = math.ceil(num_plots / 3.0)\n",
    "\n",
    "# Create subplots\n",
    "fig, axs = plt.subplots(num_rows, 3, figsize=(15, num_rows*5))\n",
    "\n",
    "# Flatten the axes array if there's more than one row\n",
    "axs = axs.flatten()\n",
    "\n",
    "# Plot the data\n",
    "for i, column in enumerate(categ_cols):\n",
    "    ax = axs[i] \n",
    "    car_df[column].value_counts().plot(\n",
    "        kind='bar', \n",
    "        ax=ax, \n",
    "        title=column, \n",
    "        xlabel=''\n",
    "    )\n",
    "\n",
    "plt.tight_layout()"
   ]
  },
  {
   "cell_type": "code",
   "execution_count": null,
   "id": "2266a346",
   "metadata": {},
   "outputs": [],
   "source": [
    "# Auto-create price bins\n",
    "bins = np.linspace(car_df['price'].min(), car_df['price'].max(), num=5)\n",
    "bins"
   ]
  },
  {
   "cell_type": "code",
   "execution_count": null,
   "id": "16a038c8",
   "metadata": {},
   "outputs": [],
   "source": [
    "# Customize price bins\n",
    "custom_bins = [ 5000 , 10000,  15188,  25259 , 35329,  45500]"
   ]
  },
  {
   "cell_type": "code",
   "execution_count": null,
   "id": "abc6edf8",
   "metadata": {},
   "outputs": [],
   "source": [
    "# Bin the price so we can easily plot prices\n",
    "# on the dendrogram\n",
    "car_sec_info = car_df.copy()\n",
    "car_sec_info['price_bins'] = pd.cut(car_sec_info['price'], custom_bins, labels=[\"P1\", \"P2\", \"P3\", \"P4\", \"P5\"])\n",
    "\n",
    "car_df = car_df.drop(columns='price')"
   ]
  },
  {
   "cell_type": "code",
   "execution_count": null,
   "id": "8bed852c",
   "metadata": {},
   "outputs": [],
   "source": [
    "# Number of cars per price bin\n",
    "car_sec_info['price_bins'].value_counts()"
   ]
  },
  {
   "cell_type": "code",
   "execution_count": null,
   "id": "095d2920",
   "metadata": {},
   "outputs": [],
   "source": [
    "# Get categorical and numerical columns\n",
    "categ_cols = list(car_df.select_dtypes(include=['object']).columns)\n",
    "num_cols = list(set(car_df.columns) - set(categ_cols))\n",
    "\n",
    "categ_bool = [col in categ_cols for col in car_df.columns]"
   ]
  },
  {
   "cell_type": "code",
   "execution_count": null,
   "id": "89ba74f5",
   "metadata": {},
   "outputs": [],
   "source": [
    "# Scale numerical columns\n",
    "scaler = StandardScaler()\n",
    "car_df[num_cols] = scaler.fit_transform(car_df[num_cols])"
   ]
  },
  {
   "cell_type": "code",
   "execution_count": null,
   "id": "e8639960",
   "metadata": {},
   "outputs": [],
   "source": [
    "# Visual inspection of numerical variables\n",
    "plt.rcParams['figure.figsize'] = [12, 14]\n",
    "_ = car_df.hist(bins=20)"
   ]
  },
  {
   "cell_type": "code",
   "execution_count": null,
   "id": "5d673190",
   "metadata": {},
   "outputs": [],
   "source": [
    "# Encode categorical variables\n",
    "ord_enc = OrdinalEncoder()\n",
    "car_df[categ_cols] = ord_enc.fit_transform(car_df[categ_cols])"
   ]
  },
  {
   "attachments": {},
   "cell_type": "markdown",
   "id": "db375075",
   "metadata": {},
   "source": [
    "### Perform clustering based on gower distance\n",
    "\n"
   ]
  },
  {
   "cell_type": "code",
   "execution_count": null,
   "id": "53c20413",
   "metadata": {},
   "outputs": [],
   "source": [
    "# Calculate distance based on both, numerical and categorical variables\n",
    "gow_distances = gower.gower_matrix(car_df, cat_features=categ_bool)"
   ]
  },
  {
   "cell_type": "code",
   "execution_count": null,
   "id": "c1a6f5e1",
   "metadata": {},
   "outputs": [],
   "source": [
    "# Perfrom UMAP dimensionality reduction\n",
    "umap_obj = umap.UMAP(n_neighbors=30, metric='precomputed')\n",
    "embedding_mtx = umap_obj.fit_transform(gow_distances)\n",
    "\n",
    "uplot.points(umap_obj)"
   ]
  },
  {
   "cell_type": "code",
   "execution_count": null,
   "id": "f449decb",
   "metadata": {},
   "outputs": [],
   "source": [
    "umap.plot.connectivity(umap_obj, show_points=True)"
   ]
  },
  {
   "cell_type": "code",
   "execution_count": null,
   "id": "ebde712e",
   "metadata": {},
   "outputs": [],
   "source": [
    "umap.plot.diagnostic(umap_obj, diagnostic_type='pca')"
   ]
  },
  {
   "cell_type": "code",
   "execution_count": null,
   "id": "648cb30b",
   "metadata": {},
   "outputs": [],
   "source": [
    "# Create dendrogram based on precomputed distance\n",
    "gow_distances_condens = squareform(gow_distances)\n",
    "\n",
    "linkage_matrix = linkage(\n",
    "    gow_distances_condens, \n",
    "    method='average'\n",
    ")"
   ]
  },
  {
   "cell_type": "code",
   "execution_count": null,
   "id": "b36a8550",
   "metadata": {},
   "outputs": [],
   "source": [
    "cophenetic_corr(\n",
    "    linkage_matrix=linkage_matrix,\n",
    "    data_mtx = gow_distances,\n",
    "    distance_measure='precomputed'\n",
    ")"
   ]
  },
  {
   "cell_type": "code",
   "execution_count": null,
   "id": "bff87dd1",
   "metadata": {
    "scrolled": false
   },
   "outputs": [],
   "source": [
    "# Plot the dendrogram\n",
    "plt.rcParams['figure.figsize'] = [12, 30] \n",
    "_ = dendrogram(\n",
    "    linkage_matrix, \n",
    "    orientation='left', \n",
    "    labels=car_df.index,\n",
    "    leaf_font_size=7\n",
    ")"
   ]
  },
  {
   "cell_type": "code",
   "execution_count": null,
   "id": "546f58ba",
   "metadata": {},
   "outputs": [],
   "source": [
    "# Plot the dendrogram\n",
    "plt.rcParams['figure.figsize'] = [12, 30] \n",
    "_ = dendrogram(\n",
    "    linkage_matrix, \n",
    "    orientation='left', \n",
    "    labels=car_sec_info['price_bins'].to_numpy(),\n",
    "    leaf_font_size=7\n",
    ")"
   ]
  },
  {
   "cell_type": "code",
   "execution_count": null,
   "id": "9760cbed",
   "metadata": {},
   "outputs": [],
   "source": [
    "# Calculate inconsistence matrix\n",
    "depth=4\n",
    "incosistent_mtx = inconsistent(linkage_matrix,depth)\n",
    "\n",
    "# Plot inconsistency scores for given depth\n",
    "plt.figure(figsize=(10, 7))\n",
    "plt.plot(incosistent_mtx[:,-1])\n",
    "plt.scatter(range(incosistent_mtx.shape[0]),incosistent_mtx[:,-1])\n",
    "plt.title('Inconsistency values at depth = {}'.format(depth))\n",
    "plt.xlabel('Index')\n",
    "plt.ylabel('Inconsistency coefficient')\n",
    "plt.show()"
   ]
  },
  {
   "cell_type": "code",
   "execution_count": null,
   "id": "d0e583a5",
   "metadata": {},
   "outputs": [],
   "source": [
    "# Perform clustering based on inconsistency\n",
    "# and print clusters\n",
    "clusters = fcluster(Z=linkage_matrix, t=1.6, criterion='inconsistent', R=incosistent_mtx)\n",
    "clusters"
   ]
  },
  {
   "cell_type": "code",
   "execution_count": null,
   "id": "0762b3f9",
   "metadata": {},
   "outputs": [],
   "source": [
    "labels = [\n",
    "    'clust {} - price bin {}'.format(clust, price) \n",
    "    for clust, price in zip(clusters, car_sec_info['price_bins'].to_numpy())\n",
    "]\n",
    "\n",
    "dendr_colors = plot_cluster_dendrogram(\n",
    "    linkage_matrix=linkage_matrix,\n",
    "    dataset_df=car_df,\n",
    "    clusters=clusters,\n",
    "    leaf_font_size=7,\n",
    "    labels=labels\n",
    ")"
   ]
  },
  {
   "cell_type": "code",
   "execution_count": null,
   "id": "a16fdc37",
   "metadata": {},
   "outputs": [],
   "source": [
    "_ = plot_silouethes_agglomer(\n",
    "    data_df=gow_distances,\n",
    "    clusters=clusters,\n",
    "    dendr_colors=dendr_colors,\n",
    "    embedding_mtx=embedding_mtx,\n",
    "    distance_measure='precomputed',\n",
    "    figsize=(16,12)\n",
    ")"
   ]
  },
  {
   "cell_type": "code",
   "execution_count": null,
   "id": "3df76cbc",
   "metadata": {},
   "outputs": [],
   "source": [
    "car_sec_info['cluster'] = clusters\n",
    "clust_size = car_sec_info['cluster'].value_counts().sort_index(ascending=False)\n",
    "clust_size"
   ]
  },
  {
   "cell_type": "code",
   "execution_count": null,
   "id": "4041691c",
   "metadata": {},
   "outputs": [],
   "source": [
    "keep_clust = clust_size[clust_size>2].index.to_list()\n",
    "keep_clust"
   ]
  },
  {
   "cell_type": "code",
   "execution_count": null,
   "id": "03f97019",
   "metadata": {},
   "outputs": [],
   "source": [
    "car_sec_info = car_sec_info[car_sec_info['cluster'].isin(keep_clust)]\n",
    "numeric_col_names = car_sec_info.select_dtypes(include=[np.number]).columns.tolist()\n",
    "\n",
    "\n",
    "# Plot cluster feature values\n",
    "for feature in car_sec_info.columns:\n",
    "    \n",
    "    if feature != 'cluster':\n",
    "        \n",
    "        print(CAR_85_COLUMN_DESCRIPTION[feature])\n",
    "    \n",
    "        if feature in numeric_col_names:\n",
    "            \n",
    "            plt.figure(figsize=(14,5))\n",
    "            sns.boxplot(car_sec_info, x='cluster', y=feature)\n",
    "            plt.title(feature)\n",
    "            plt.show()\n",
    "            \n",
    "        else:\n",
    "            \n",
    "            \n",
    "            proportions = car_sec_info.groupby(\n",
    "                'cluster'\n",
    "            )[feature].value_counts(\n",
    "                normalize=True\n",
    "            ).unstack()\n",
    "            \n",
    "            \n",
    "            if proportions.shape[1] > 15:\n",
    "                \n",
    "                # Create stacked bar plot\n",
    "                ax = proportions.plot(kind='bar', stacked=True, figsize=(14, 6), colormap='hsv')\n",
    "                plt.title(f'Cluster distribution for {feature}')\n",
    "                plt.ylabel('Proportion')\n",
    "                \n",
    "                # Define hatch patterns\n",
    "                patterns = [\"|\" , \"\\\\\" , \"/\" , \"+\" , \"-\", \".\", \"*\",\"x\", \"o\", \"O\" ]\n",
    "\n",
    "                # Apply hatch patterns\n",
    "                for i, bar_container in enumerate(ax.containers):\n",
    "                    hatch = patterns[i % len(patterns)]  # Cycle through patterns\n",
    "                    for bar in bar_container:\n",
    "                        bar.set_hatch(hatch)\n",
    "        \n",
    "            else:\n",
    "            \n",
    "                # Create stacked bar plot\n",
    "                ax = proportions.plot(kind='bar', stacked=True, figsize=(14, 6), colormap='Set1')\n",
    "                plt.title(f'Cluster distribution for {feature}')\n",
    "                plt.ylabel('Proportion')\n",
    "            \n",
    "\n",
    "            # Add legend\n",
    "            plt.legend(title=feature, bbox_to_anchor=(1.05, 1), loc='upper left', fontsize=13)\n",
    "\n",
    "            # Get category labels\n",
    "            category_labels = proportions.columns.tolist()[::-1]\n",
    "            plt.show()"
   ]
  },
  {
   "cell_type": "code",
   "execution_count": null,
   "id": "6cadfe92",
   "metadata": {},
   "outputs": [],
   "source": []
  }
 ],
 "metadata": {
  "kernelspec": {
   "display_name": "Python 3 (ipykernel)",
   "language": "python",
   "name": "python3"
  },
  "language_info": {
   "codemirror_mode": {
    "name": "ipython",
    "version": 3
   },
   "file_extension": ".py",
   "mimetype": "text/x-python",
   "name": "python",
   "nbconvert_exporter": "python",
   "pygments_lexer": "ipython3",
   "version": "3.11.3"
  }
 },
 "nbformat": 4,
 "nbformat_minor": 5
}
