{
 "cells": [
  {
   "cell_type": "markdown",
   "id": "f892ac05",
   "metadata": {},
   "source": [
    "## Agglomerative clustering with categorical data\n"
   ]
  },
  {
   "cell_type": "code",
   "execution_count": null,
   "id": "4804e496",
   "metadata": {},
   "outputs": [],
   "source": [
    "# Zoo dataset : https://www.kaggle.com/datasets/uciml/zoo-animal-classification/code?datasetId=586&searchQuery=hier&select=zoo.csv\n",
    "\n",
    "import pandas as pd\n",
    "import numpy as np\n",
    "\n",
    "import seaborn as sns\n",
    "from matplotlib import pyplot as plt\n",
    "\n",
    "from scipy.cluster.hierarchy import dendrogram, linkage, fcluster\n",
    "\n",
    "from ch_9_funcs import plot_cluster_dendrogram, cophenetic_corr\n",
    "\n",
    "sns.set_theme()"
   ]
  },
  {
   "cell_type": "markdown",
   "id": "0f37b293",
   "metadata": {},
   "source": [
    "## Animal zoo dataset"
   ]
  },
  {
   "attachments": {},
   "cell_type": "markdown",
   "id": "5972e96f",
   "metadata": {},
   "source": [
    "The Zoo Dataset is a comprehensive collection of data about various animals found in zoos worldwide. The dataset is composed of several attributes related to these animals, such as:\n",
    "\n",
    "- `animal_name`: The name of the animal.\n",
    "\n",
    "- `hair`: Indicates if the animal has hair (1 for yes, 0 for no).\n",
    "- `feathers`: Indicates if the animal has feathers (1 for yes, 0 for no).\n",
    "- `eggs`: Indicates if the animal lays eggs (1 for yes, 0 for no).\n",
    "- `milk`: Indicates if the animal produces milk (1 for yes, 0 for no).\n",
    "- `airborne`: Indicates if the animal can fly (1 for yes, 0 for no).\n",
    "- `aquatic`: Indicates if the animal lives in water (1 for yes, 0 for no).\n",
    "- `predator`: Indicates if the animal is a predator (1 for yes, 0 for no).\n",
    "- `toothed`: Indicates if the animal has teeth (1 for yes, 0 for no).\n",
    "- `backbone`: Indicates if the animal has a backbone (1 for yes, 0 for no).\n",
    "- `breathes`: Indicates if the animal breathes air (1 for yes, 0 for no).\n",
    "- `venomous`: Indicates if the animal is venomous (1 for yes, 0 for no).\n",
    "- `fins`: Indicates if the animal has fins (1 for yes, 0 for no).\n",
    "- `legs`: Number of legs the animal has (integer value).\n",
    "- `tail`: Indicates if the animal has a tail (1 for yes, 0 for no).\n",
    "- `domestic`: Indicates if the animal is domesticated (1 for yes, 0 for no).\n",
    "- `catsize`: Indicates if the animal is cat-sized or larger (1 for yes, 0 for no).\n",
    "- `class_type`: Numerical code indicating the animal's taxonomic class.\n",
    "\n",
    "\n",
    "Citation : Forsyth,Richard. (1990). Zoo. UCI Machine Learning Repository. https://doi.org/10.24432/C5R59V."
   ]
  },
  {
   "cell_type": "code",
   "execution_count": null,
   "id": "9b147351",
   "metadata": {},
   "outputs": [],
   "source": [
    "# Load the data\n",
    "zoo_path = 'data/hierarchical/zoo/zoo.csv'\n",
    "zoo_df = pd.read_csv(zoo_path)\n",
    "\n",
    "# Load class mapping\n",
    "class_mappings = 'data/hierarchical/zoo/class.csv'\n",
    "class_mapper = pd.read_csv(class_mappings)"
   ]
  },
  {
   "cell_type": "code",
   "execution_count": null,
   "id": "3b8eff60",
   "metadata": {},
   "outputs": [],
   "source": [
    "zoo_df.head()"
   ]
  },
  {
   "cell_type": "code",
   "execution_count": null,
   "id": "e26b8e4f",
   "metadata": {},
   "outputs": [],
   "source": [
    "class_mapper"
   ]
  },
  {
   "cell_type": "code",
   "execution_count": null,
   "id": "eb8db1ce",
   "metadata": {},
   "outputs": [],
   "source": [
    "zoo_df.shape"
   ]
  },
  {
   "cell_type": "code",
   "execution_count": null,
   "id": "ae2cd9d3",
   "metadata": {},
   "outputs": [],
   "source": [
    "zoo_df.isna().sum(axis=0)"
   ]
  },
  {
   "cell_type": "code",
   "execution_count": null,
   "id": "11a2fd75",
   "metadata": {},
   "outputs": [],
   "source": [
    "# Check number of unique animals \n",
    "zoo_df['animal_name'].nunique()"
   ]
  },
  {
   "cell_type": "code",
   "execution_count": null,
   "id": "cd0da3b0",
   "metadata": {},
   "outputs": [],
   "source": [
    "# Drop duplicates since there should be one species per row\n",
    "zoo_df = zoo_df.drop_duplicates('animal_name')\n",
    "zoo_df.shape"
   ]
  },
  {
   "cell_type": "code",
   "execution_count": null,
   "id": "0673e7a9",
   "metadata": {},
   "outputs": [],
   "source": [
    "# Map class id to class name\n",
    "class_map_dict = class_mapper.set_index('Class_Number')['Class_Type'].to_dict()\n",
    "zoo_df['class_type'] = zoo_df['class_type'].map(class_map_dict)\n",
    "\n",
    "# Extract class as separate object and drop class from zoo_df\n",
    "animal_class = zoo_df['class_type'] \n",
    "zoo_df = zoo_df.drop(columns=['class_type'])"
   ]
  },
  {
   "cell_type": "code",
   "execution_count": null,
   "id": "6eefc90d",
   "metadata": {},
   "outputs": [],
   "source": [
    "# Set animal name as index\n",
    "zoo_df = zoo_df.set_index('animal_name', drop=True)"
   ]
  },
  {
   "cell_type": "code",
   "execution_count": null,
   "id": "451ffe42",
   "metadata": {},
   "outputs": [],
   "source": [
    "_ = zoo_df.hist(figsize=(7,7))\n",
    "plt.tight_layout()"
   ]
  },
  {
   "attachments": {},
   "cell_type": "markdown",
   "id": "6ee82f33",
   "metadata": {},
   "source": [
    "### Agglomerative clustering with hamming distance"
   ]
  },
  {
   "cell_type": "code",
   "execution_count": null,
   "id": "590fcbc1",
   "metadata": {},
   "outputs": [],
   "source": [
    "linkage_matrix = linkage(\n",
    "    zoo_df.to_numpy(), \n",
    "    method='average', \n",
    "    metric='hamming'\n",
    ")"
   ]
  },
  {
   "cell_type": "code",
   "execution_count": null,
   "id": "08b83bee",
   "metadata": {},
   "outputs": [],
   "source": [
    "cophenetic_corr(\n",
    "    linkage_matrix=linkage_matrix,\n",
    "    data_mtx = zoo_df.to_numpy(),\n",
    "    distance_measure='hamming'\n",
    ")"
   ]
  },
  {
   "cell_type": "code",
   "execution_count": null,
   "id": "74081d64",
   "metadata": {},
   "outputs": [],
   "source": [
    "linkage_matrix[:,2] += 0.001"
   ]
  },
  {
   "cell_type": "code",
   "execution_count": null,
   "id": "6c44c62a",
   "metadata": {
    "scrolled": false
   },
   "outputs": [],
   "source": [
    "plt.rcParams['figure.figsize'] = [12, 24]\n",
    "_ = dendrogram(\n",
    "    linkage_matrix, \n",
    "    labels=zoo_df.index,\n",
    "    orientation='left',\n",
    "    leaf_font_size=8\n",
    ")"
   ]
  },
  {
   "cell_type": "code",
   "execution_count": null,
   "id": "d8c2e04b",
   "metadata": {},
   "outputs": [],
   "source": [
    "plt.rcParams['figure.figsize'] = [12, 24]\n",
    "_ = dendrogram(\n",
    "    linkage_matrix, \n",
    "    labels=animal_class.to_numpy(),\n",
    "    orientation='left',\n",
    "    leaf_font_size=8\n",
    ")"
   ]
  },
  {
   "cell_type": "code",
   "execution_count": null,
   "id": "eb135f68",
   "metadata": {},
   "outputs": [],
   "source": [
    "# Perform clustering \n",
    "clusters = fcluster(Z=linkage_matrix, t=0.28, criterion='distance')\n",
    "clusters"
   ]
  },
  {
   "cell_type": "code",
   "execution_count": null,
   "id": "a0864043",
   "metadata": {},
   "outputs": [],
   "source": [
    "_ = plot_cluster_dendrogram(\n",
    "    linkage_matrix=linkage_matrix,\n",
    "    dataset_df=zoo_df,\n",
    "    clusters=clusters,\n",
    "    leaf_font_size=7,\n",
    "    labels=animal_class.to_numpy()\n",
    ")"
   ]
  },
  {
   "cell_type": "code",
   "execution_count": null,
   "id": "a5b8e8c6",
   "metadata": {},
   "outputs": [],
   "source": [
    "_ = plot_cluster_dendrogram(\n",
    "    linkage_matrix=linkage_matrix,\n",
    "    dataset_df=zoo_df,\n",
    "    clusters=clusters,\n",
    "    leaf_font_size=7\n",
    ")"
   ]
  }
 ],
 "metadata": {
  "kernelspec": {
   "display_name": "Python 3 (ipykernel)",
   "language": "python",
   "name": "python3"
  },
  "language_info": {
   "codemirror_mode": {
    "name": "ipython",
    "version": 3
   },
   "file_extension": ".py",
   "mimetype": "text/x-python",
   "name": "python",
   "nbconvert_exporter": "python",
   "pygments_lexer": "ipython3",
   "version": "3.11.5"
  }
 },
 "nbformat": 4,
 "nbformat_minor": 5
}
