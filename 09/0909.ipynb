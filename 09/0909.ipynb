{
 "cells": [
  {
   "cell_type": "markdown",
   "id": "d77ee005",
   "metadata": {},
   "source": [
    "## Agglomerative clustering with scipy"
   ]
  },
  {
   "cell_type": "code",
   "execution_count": null,
   "id": "01151f0d",
   "metadata": {},
   "outputs": [],
   "source": [
    "import warnings\n",
    "\n",
    "import pandas as pd\n",
    "import numpy as np\n",
    "\n",
    "import seaborn as sns\n",
    "import matplotlib\n",
    "from matplotlib import pyplot as plt\n",
    "import matplotlib.colors as mcolors\n",
    "import matplotlib.patches as mpatches\n",
    "\n",
    "from sklearn.datasets import make_blobs\n",
    "\n",
    "from scipy.cluster.hierarchy import dendrogram, linkage, fcluster, inconsistent\n",
    "from scipy.cluster import hierarchy\n",
    "\n",
    "warnings.simplefilter(action='ignore', category=FutureWarning)\n",
    "\n",
    "sns.set_theme()\n",
    "plt.rcParams['figure.figsize'] = [9, 5]"
   ]
  },
  {
   "cell_type": "code",
   "execution_count": null,
   "id": "732716d9",
   "metadata": {},
   "outputs": [],
   "source": [
    "# Set up the collors for hierarchical clustering\n",
    "tab10_colors = plt.cm.tab10.colors  \n",
    "tab10_as_hex = [mcolors.to_hex(color) for color in tab10_colors]\n",
    "hierarchy.set_link_color_palette(tab10_as_hex)"
   ]
  },
  {
   "cell_type": "markdown",
   "id": "476ef2a8",
   "metadata": {},
   "source": [
    "### Artificial dataset"
   ]
  },
  {
   "cell_type": "code",
   "execution_count": null,
   "id": "5193d6a9",
   "metadata": {},
   "outputs": [],
   "source": [
    "# Create artificial dataset\n",
    "X, labels = make_blobs(\n",
    "    n_samples=120, centers=4, cluster_std=0.5, random_state=45\n",
    ")\n",
    "\n",
    "data_df = pd.DataFrame(X, columns=['dim1', 'dim2'])"
   ]
  },
  {
   "cell_type": "code",
   "execution_count": null,
   "id": "adf88763",
   "metadata": {},
   "outputs": [],
   "source": [
    "# Plot and colour based on reference label\n",
    "sns.scatterplot(data_df, x='dim1', y='dim2', hue=labels, palette='tab10')\n",
    "_ = plt.title('Scatterplot with true label')\n",
    "plt.gca().set_aspect('equal', adjustable='box')"
   ]
  },
  {
   "cell_type": "markdown",
   "id": "ee53a0a3",
   "metadata": {},
   "source": [
    "### \"Height cut\" based clustering"
   ]
  },
  {
   "cell_type": "code",
   "execution_count": null,
   "id": "f90b4e1f",
   "metadata": {},
   "outputs": [],
   "source": [
    "linkage_matrix = linkage(data_df, method='average')"
   ]
  },
  {
   "cell_type": "code",
   "execution_count": null,
   "id": "1c139a11",
   "metadata": {},
   "outputs": [],
   "source": [
    "# Draw the dendrogram\n",
    "plt.figure(figsize=(14,6))\n",
    "_ = dendrogram(\n",
    "    linkage_matrix, \n",
    "    leaf_font_size=7, \n",
    "    labels=data_df.index,\n",
    "    above_threshold_color='black',\n",
    "    color_threshold=20\n",
    ")"
   ]
  },
  {
   "cell_type": "code",
   "execution_count": null,
   "id": "222c06ba",
   "metadata": {},
   "outputs": [],
   "source": [
    "cut_height = 4\n",
    "clusters = fcluster(linkage_matrix, criterion='distance', t=cut_height)"
   ]
  },
  {
   "cell_type": "code",
   "execution_count": null,
   "id": "cad98963",
   "metadata": {},
   "outputs": [],
   "source": [
    "clusters"
   ]
  },
  {
   "cell_type": "code",
   "execution_count": null,
   "id": "f27895c7",
   "metadata": {},
   "outputs": [],
   "source": [
    "# Draw the dendrogram\n",
    "plt.figure(figsize=(14,6))\n",
    "_ = dendrogram(\n",
    "    linkage_matrix, \n",
    "    leaf_font_size=7, \n",
    "    labels=clusters, \n",
    "    above_threshold_color='black', \n",
    "    color_threshold=cut_height\n",
    ")\n",
    "plt.hlines(cut_height, xmin=-100, xmax=10000, linestyles='--')\n",
    "plt.title('Cut height = 4')"
   ]
  },
  {
   "cell_type": "code",
   "execution_count": null,
   "id": "d72f61c1",
   "metadata": {},
   "outputs": [],
   "source": [
    "# Plot and colour based on reference label\n",
    "sns.scatterplot(data_df, x='dim1', y='dim2', hue=clusters, palette='tab10')\n",
    "_ = plt.title('Clusters')"
   ]
  },
  {
   "cell_type": "markdown",
   "id": "cf505dd1",
   "metadata": {},
   "source": [
    "### Number of clusters based clustering"
   ]
  },
  {
   "cell_type": "code",
   "execution_count": null,
   "id": "20a1e4d1",
   "metadata": {},
   "outputs": [],
   "source": [
    "plt.figure(figsize=(14,6))\n",
    "_ = dendrogram(linkage_matrix, color_threshold=20)"
   ]
  },
  {
   "cell_type": "code",
   "execution_count": null,
   "id": "94d2317e",
   "metadata": {},
   "outputs": [],
   "source": [
    "# Cluster based on wanted number of clusters\n",
    "clusters = fcluster(Z=linkage_matrix, t=4, criterion='maxclust')\n",
    "clusters"
   ]
  },
  {
   "cell_type": "code",
   "execution_count": null,
   "id": "82fd6291",
   "metadata": {},
   "outputs": [],
   "source": [
    "# Plot and colour based on reference label\n",
    "sns.scatterplot(data_df, x='dim1', y='dim2', hue=clusters, palette='tab10')\n",
    "plt.title('Clusters')"
   ]
  },
  {
   "cell_type": "markdown",
   "id": "dd4098ad",
   "metadata": {},
   "source": [
    "### Color the dendrogram based on clustering"
   ]
  },
  {
   "cell_type": "code",
   "execution_count": null,
   "id": "88b1a431",
   "metadata": {},
   "outputs": [],
   "source": [
    "# Get unique clusters\n",
    "unique_clusters = np.unique(clusters)\n",
    "# Get first two columns of linkage matrix (representing nodes in nodes)\n",
    "trunc_linkage = linkage_matrix[:, :2].astype(np.int32)\n",
    "# Get last \"original\" point ID\n",
    "max_orig_point_id = data_df.shape[0] \n",
    "\n",
    "# Initialize dict that will hold\n",
    "# cluster-link relations\n",
    "cluster_link_dict = {}\n",
    "\n",
    "# Iterate through all the clusters\n",
    "for clust in unique_clusters:\n",
    "    \n",
    "    # Get all points belonging to current cluster\n",
    "    clust_points = np.where(clusters==clust)[0]\n",
    "    \n",
    "    # Iterate untill we collect all nodes associated\n",
    "    # with current cluster\n",
    "    while True:\n",
    "        \n",
    "        # Find all positions in linkage matrix where points from the current\n",
    "        # cluster are present. This positions in linkage matrix also\n",
    "        # denote IDs of merged nodes (merged node id = position in linkage mtx + max_orig_point_id)\n",
    "        points_present = np.isin(trunc_linkage, clust_points)\n",
    "        \n",
    "        # Sum the matrix in order to find positions where\n",
    "        # both points belong to current cluster\n",
    "        present_points_sum = np.sum(points_present,axis=1)\n",
    "        loc_of_twos = np.where(present_points_sum==2)[0]\n",
    "        \n",
    "        # Get node locations\n",
    "        nodes_to_add = list(loc_of_twos) \n",
    "        \n",
    "        # Variable that will be changed to True\n",
    "        # if new nodes are added to the dict\n",
    "        added_new = False\n",
    "        \n",
    "        # Iterate through the node\n",
    "        for node in nodes_to_add:\n",
    "            \n",
    "            # Get true ids of the nodes\n",
    "            node_pos = node + max_orig_point_id\n",
    "            \n",
    "            # Add new nodes\n",
    "            if node_pos not in cluster_link_dict:\n",
    "                added_new=True\n",
    "                cluster_link_dict[node_pos] = clust\n",
    "        \n",
    "        # If no new nodes are added, this means that all\n",
    "        # nodes associated with current cluster are already\n",
    "        # added.\n",
    "        # In this case break current loop and proceed to the next cluster.\n",
    "        if not added_new:\n",
    "            break\n",
    "        \n",
    "        # Add merged nodes for next itteration\n",
    "        new_clust_points = loc_of_twos + max_orig_point_id\n",
    "        clust_points = np.concatenate([clust_points, new_clust_points])\n",
    "\n",
    "# Get collor pallete having one color per cluster\n",
    "colors = plt.cm.rainbow(np.linspace(0, 1, len(set(clusters))))\n",
    "# Transform colors to hex format (dedrogram function requires it)\n",
    "colors_hex = [matplotlib.colors.rgb2hex(c) for c in colors]\n",
    "\n",
    "color_dict = {key: colors_hex[cluster_link_dict[key]-1] for key in cluster_link_dict}\n",
    "\n",
    "link_color_func = lambda x: color_dict[x] if x in color_dict else 'black'"
   ]
  },
  {
   "cell_type": "code",
   "execution_count": null,
   "id": "1a070136",
   "metadata": {},
   "outputs": [],
   "source": [
    "patches = [\n",
    "    mpatches.Patch(color=colors_hex[i], label=str(unique_clusters[i])) \n",
    "    for i in range(len(colors_hex))\n",
    "]\n",
    "\n",
    "plt.figure(figsize=(14,6))\n",
    "hierarchy.dendrogram(\n",
    "    linkage_matrix, \n",
    "    link_color_func=link_color_func,\n",
    "    orientation='top', \n",
    "    labels=data_df.index\n",
    ")\n",
    "plt.legend(handles=patches, loc='upper left')\n",
    "plt.title('K = 4')\n",
    "plt.show()"
   ]
  },
  {
   "cell_type": "code",
   "execution_count": null,
   "id": "ede77b86",
   "metadata": {},
   "outputs": [],
   "source": [
    "# Plot and colour based on reference label\n",
    "sns.scatterplot(data_df, x='dim1', y='dim2', hue=clusters, palette=colors_hex)\n",
    "plt.title('Clusters')"
   ]
  },
  {
   "cell_type": "code",
   "execution_count": null,
   "id": "2e38b88d",
   "metadata": {},
   "outputs": [],
   "source": [
    "from ch_9_funcs import plot_cluster_dendrogram"
   ]
  },
  {
   "cell_type": "markdown",
   "id": "c871f1e2",
   "metadata": {},
   "source": [
    "### Inconsistency method\n"
   ]
  },
  {
   "cell_type": "code",
   "execution_count": null,
   "id": "cf71fc1e",
   "metadata": {},
   "outputs": [],
   "source": [
    "# Calculate inconsistence matrix\n",
    "depth=4\n",
    "incosistent_mtx = inconsistent(linkage_matrix, depth)"
   ]
  },
  {
   "cell_type": "code",
   "execution_count": null,
   "id": "db517fc0",
   "metadata": {},
   "outputs": [],
   "source": [
    "incosistent_mtx[:10,:]"
   ]
  },
  {
   "cell_type": "code",
   "execution_count": null,
   "id": "dc1a33fa",
   "metadata": {},
   "outputs": [],
   "source": [
    "inconsistency_df = pd.DataFrame(\n",
    "    incosistent_mtx, \n",
    "    columns=['mean', 'std', 'num_links', 'inconsistency_coeff']\n",
    ")\n",
    "inconsistency_df.tail(10)"
   ]
  },
  {
   "cell_type": "code",
   "execution_count": null,
   "id": "779b6819",
   "metadata": {},
   "outputs": [],
   "source": [
    "linkage_df = pd.DataFrame(\n",
    "    linkage_matrix, \n",
    "    columns=['First group', 'Second group', 'Distance', 'Size']\n",
    ")\n",
    "linkage_df['New id'] = np.arange(linkage_df.shape[0]) + linkage_df.shape[0]+1\n",
    "\n",
    "linkage_df.tail(10)"
   ]
  },
  {
   "cell_type": "code",
   "execution_count": null,
   "id": "f1514a35",
   "metadata": {},
   "outputs": [],
   "source": [
    "# Plot inconsistency scores for given depth\n",
    "plt.figure(figsize=(10, 7))\n",
    "\n",
    "plt.plot(incosistent_mtx[:,-1])\n",
    "plt.scatter(\n",
    "    range(incosistent_mtx.shape[0]),\n",
    "    incosistent_mtx[:,-1], \n",
    "    s=10, c='red'\n",
    ")\n",
    "\n",
    "plt.title('Inconsistency values at depth = {}'.format(depth))\n",
    "plt.xlabel('Index')\n",
    "plt.ylabel('Inconsistency coefficient')\n",
    "plt.show()"
   ]
  },
  {
   "cell_type": "code",
   "execution_count": null,
   "id": "3daee209",
   "metadata": {},
   "outputs": [],
   "source": [
    "# Perform clustering by cutting dendogram based on obtained inconsistency threshold\n",
    "thold = 2.5\n",
    "clusters = fcluster(Z=linkage_matrix, t=thold, criterion='inconsistent', R=incosistent_mtx)\n",
    "\n",
    "plt.figure(figsize=(14,6))\n",
    "_ = plot_cluster_dendrogram(\n",
    "    clusters=clusters,\n",
    "    linkage_matrix=linkage_matrix,\n",
    "    dataset_df=data_df,\n",
    "    orientation='top'\n",
    ")"
   ]
  },
  {
   "cell_type": "code",
   "execution_count": null,
   "id": "cf4ee0dd",
   "metadata": {},
   "outputs": [],
   "source": [
    "# Perform clustering by cutting dendogram based on obtained inconsistency threshold\n",
    "thold = 2.2\n",
    "clusters = fcluster(Z=linkage_matrix, t=thold, criterion='inconsistent', R=incosistent_mtx)\n",
    "\n",
    "plt.figure(figsize=(14,6))\n",
    "dendr_colors = plot_cluster_dendrogram(\n",
    "    clusters=clusters,\n",
    "    linkage_matrix=linkage_matrix,\n",
    "    dataset_df=data_df,\n",
    "    orientation='top'\n",
    ")"
   ]
  },
  {
   "cell_type": "code",
   "execution_count": null,
   "id": "38990413",
   "metadata": {},
   "outputs": [],
   "source": [
    "# Plot clustering results\n",
    "sns.scatterplot(data_df, x='dim1', y='dim2', hue=clusters, palette=dendr_colors)\n",
    "plt.title('Scatterplot with true label')"
   ]
  },
  {
   "cell_type": "code",
   "execution_count": null,
   "id": "ed6940d2",
   "metadata": {},
   "outputs": [],
   "source": [
    "# Perform clustering by cutting dendogram based on obtained inconsistency threshold\n",
    "thold = 2.5\n",
    "clusters = fcluster(Z=linkage_matrix, t=thold, criterion='inconsistent', R=incosistent_mtx)"
   ]
  },
  {
   "cell_type": "markdown",
   "id": "607e2cc7",
   "metadata": {},
   "source": [
    "## Silouethe score"
   ]
  },
  {
   "cell_type": "code",
   "execution_count": null,
   "id": "80dbc8d6",
   "metadata": {},
   "outputs": [],
   "source": [
    "from sklearn.metrics import silhouette_samples, silhouette_score"
   ]
  },
  {
   "cell_type": "code",
   "execution_count": null,
   "id": "d7e63758",
   "metadata": {},
   "outputs": [],
   "source": [
    "y_lower = 10\n",
    "\n",
    "# Calculate average silhouette score\n",
    "silhouette_scr = silhouette_score(data_df, clusters)\n",
    "\n",
    "# Calculate silhouette score for each data point\n",
    "sample_silhouette_values = silhouette_samples(data_df, clusters)\n",
    "\n",
    "# Plot clustering and silouethes\n",
    "fig, (ax1, ax2) = plt.subplots(1, 2, figsize=(12,5))\n",
    "\n",
    "num_clust = np.unique(clusters).shape[0]\n",
    "\n",
    "if 0 in clusters:\n",
    "    adjust_factor = 0\n",
    "else:\n",
    "    adjust_factor = 1\n",
    "\n",
    "# Plot siluethe scores for points belonging to each cluster\n",
    "for clust_i in range(num_clust):\n",
    "    \n",
    "    # Get points bellogning to the current cluster\n",
    "    ith_cluster_silhouette_values = sample_silhouette_values[\n",
    "        clusters == clust_i + adjust_factor\n",
    "    ]\n",
    "    \n",
    "    # Sort points by silhouette value\n",
    "    ith_cluster_silhouette_values.sort()\n",
    "    \n",
    "    # Get size of current cluster\n",
    "    size_cluster_i = ith_cluster_silhouette_values.shape[0]\n",
    "    \n",
    "    # Get upper value of y cooridnate for current cluster\n",
    "    y_upper = y_lower + size_cluster_i\n",
    "    \n",
    "    # Fill values between y_lower and y_upper with silhouette score values\n",
    "    # for data points\n",
    "\n",
    "    color = dendr_colors[clust_i]\n",
    "\n",
    "    ax1.fill_betweenx(\n",
    "        np.arange(y_lower, y_upper),\n",
    "        0,\n",
    "        ith_cluster_silhouette_values,\n",
    "        facecolor=color,\n",
    "        edgecolor=color,\n",
    "        alpha=0.7\n",
    "    )\n",
    "    \n",
    "    # Label the silhouette plots with their cluster numbers at the middle\n",
    "    ax1.text(-0.05, y_lower + 0.5 * size_cluster_i, str(clust_i + adjust_factor))\n",
    "\n",
    "    # Compute the new y_lower for next plot\n",
    "    y_lower = y_upper + 10\n",
    "\n",
    "# Set title and labels silhouette subplot\n",
    "ax1.set_title(\"The silhouette plot for the various clusters.\")\n",
    "ax1.set_xlabel(\"The silhouette coefficient values\")\n",
    "ax1.set_ylabel(\"Cluster label\")\n",
    "\n",
    "# The vertical line for average silhouette score of all the values\n",
    "ax1.axvline(x=silhouette_scr, color=\"red\", linestyle=\"--\")\n",
    "\n",
    "# Clear the yaxis labels / ticks\n",
    "ax1.set_yticks([]) \n",
    "# Set x-ticks\n",
    "ax1.set_xticks([-0.1, 0, 0.2, 0.4, 0.6, 0.8, 1])\n",
    "\n",
    "# Map cluster labels to cluster colors, nipy_spectral provides\n",
    "\n",
    "colors = [dendr_colors[clust_i-adjust_factor] for clust_i in clusters]\n",
    "\n",
    "# 2nd Plot showing the actual clusters formed\n",
    "ax2.scatter(\n",
    "    data_df.to_numpy()[:, 0], \n",
    "    data_df.to_numpy()[:, 1],\n",
    "    marker=\".\", s=30, lw=0, \n",
    "    alpha=0.7, c=colors, \n",
    "    edgecolor=\"k\"\n",
    ")\n",
    "\n",
    "# Set title and labels for scatterplot\n",
    "ax2.set_title(\"The visualization of the clustered data.\")\n",
    "ax2.set_xlabel(\"dim1\")\n",
    "ax2.set_ylabel(\"dim2\")\n",
    "\n",
    "# Add main title\n",
    "plt.suptitle(\n",
    "    \"Silhouette analysis for KMeans clustering\",\n",
    "    fontsize=14,\n",
    "    fontweight=\"bold\",\n",
    ")\n",
    "\n",
    "# Show the plot\n",
    "plt.show()"
   ]
  }
 ],
 "metadata": {
  "kernelspec": {
   "display_name": "Python 3 (ipykernel)",
   "language": "python",
   "name": "python3"
  },
  "language_info": {
   "codemirror_mode": {
    "name": "ipython",
    "version": 3
   },
   "file_extension": ".py",
   "mimetype": "text/x-python",
   "name": "python",
   "nbconvert_exporter": "python",
   "pygments_lexer": "ipython3",
   "version": "3.11.3"
  }
 },
 "nbformat": 4,
 "nbformat_minor": 5
}
