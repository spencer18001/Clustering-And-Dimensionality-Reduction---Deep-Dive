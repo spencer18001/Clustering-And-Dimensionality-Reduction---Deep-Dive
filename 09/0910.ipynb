{
 "cells": [
  {
   "cell_type": "markdown",
   "id": "b9aee9f6",
   "metadata": {},
   "source": [
    "## Clustering iris and digits"
   ]
  },
  {
   "cell_type": "code",
   "execution_count": null,
   "id": "ba0f094b",
   "metadata": {},
   "outputs": [],
   "source": [
    "import warnings\n",
    "warnings.simplefilter(action='ignore', category=FutureWarning)\n",
    "\n",
    "import pandas as pd\n",
    "import numpy as np\n",
    "\n",
    "from matplotlib import pyplot as plt\n",
    "import seaborn as sns\n",
    "\n",
    "from sklearn.decomposition import PCA\n",
    "from sklearn.cluster import AgglomerativeClustering\n",
    "from sklearn.metrics import adjusted_rand_score\n",
    "\n",
    "from sklearn.datasets import load_iris\n",
    "from sklearn.datasets import fetch_openml\n",
    "\n",
    "from scipy.cluster.hierarchy import linkage, fcluster\n",
    "\n",
    "import umap \n",
    "import umap.plot as uplot\n",
    "\n",
    "plt.rcParams['figure.figsize'] = [9, 5]\n",
    "sns.set_theme()"
   ]
  },
  {
   "cell_type": "code",
   "execution_count": null,
   "id": "87e5ea04",
   "metadata": {},
   "outputs": [],
   "source": [
    "# Load iris dataset\n",
    "iris = load_iris()\n",
    "\n",
    "# Load iris dataset\n",
    "iris_df = pd.DataFrame(\n",
    "    iris['data'],\n",
    "    columns=iris['feature_names']\n",
    ")\n",
    "\n",
    "numer_cols = iris_df.columns\n",
    "\n",
    "# Load iris label\n",
    "iris_df['label'] = iris['target_names'][iris['target']]"
   ]
  },
  {
   "cell_type": "code",
   "execution_count": null,
   "id": "fdcfc9c3",
   "metadata": {},
   "outputs": [],
   "source": [
    "# Run PCA so we can show dataset in 2D space\n",
    "pca = PCA(n_components=2)\n",
    "pca_data = pca.fit_transform(iris_df[numer_cols].values)\n",
    "pca_data = np.column_stack([pca_data, iris_df['label'].values])\n",
    "pca_df = pd.DataFrame(pca_data, columns=['PC1', 'PC2', 'label'])\n",
    "\n",
    "# Plot and colour based on reference label\n",
    "sns.scatterplot(pca_df, x='PC1', y='PC2', hue='label')\n",
    "plt.title('Scatterplot with true label')"
   ]
  },
  {
   "cell_type": "code",
   "execution_count": null,
   "id": "7c1bcd74",
   "metadata": {},
   "outputs": [],
   "source": [
    "methods = ['single', 'complete', 'average', 'ward']\n",
    "\n",
    "for method in methods:\n",
    "\n",
    "    linkage_matrix = linkage(iris_df[numer_cols], method=method)\n",
    "    clusters = fcluster(linkage_matrix, t=3, criterion='maxclust')\n",
    "    \n",
    "    ari = adjusted_rand_score(\n",
    "        iris_df['label'].to_numpy(),\n",
    "        clusters\n",
    "    )\n",
    "\n",
    "    print('ARI : ' + str(ari))\n",
    "\n",
    "    # Plot and colour based on reference label\n",
    "    plt.figure()\n",
    "    sns.scatterplot(pca_df, x='PC1', y='PC2', hue=clusters)\n",
    "    plt.title('Cluster label - ' + method)\n",
    "    plt.show()"
   ]
  },
  {
   "cell_type": "markdown",
   "id": "232838bc",
   "metadata": {},
   "source": [
    "## Digits dataset"
   ]
  },
  {
   "cell_type": "code",
   "execution_count": null,
   "id": "e239185f",
   "metadata": {},
   "outputs": [],
   "source": [
    "# Load digits data\n",
    "mnist = fetch_openml('mnist_784', parser='auto')\n",
    "\n",
    "# Normalize digits data\n",
    "digits_data = mnist.data/255\n",
    "digit_labels = mnist.target\n",
    "\n",
    "# Subset the dataset\n",
    "digit_labels_df = pd.DataFrame(digit_labels)\n",
    "\n",
    "label_subset_df = digit_labels_df.groupby('class').head(500)\n",
    "\n",
    "digits_data = digits_data.loc[label_subset_df.index, :].reset_index(drop=True)\n",
    "digit_labels = label_subset_df['class'].to_numpy()"
   ]
  },
  {
   "cell_type": "code",
   "execution_count": null,
   "id": "53746dbf",
   "metadata": {},
   "outputs": [],
   "source": [
    "# Embed dataset\n",
    "mnist_umap = umap.UMAP(n_neighbors=30)\n",
    "embedding = mnist_umap.fit_transform(digits_data)\n",
    "\n",
    "# Plot 2D embedding\n",
    "uplot.points(mnist_umap, labels=digit_labels)"
   ]
  },
  {
   "cell_type": "code",
   "execution_count": null,
   "id": "d4f1d52c",
   "metadata": {},
   "outputs": [],
   "source": [
    "# Perform hierarchical clustering for single linkage\n",
    "clustering = AgglomerativeClustering(\n",
    "    n_clusters=10, linkage='single', \n",
    ").fit(digits_data)\n",
    "\n",
    "print('ARI = {}'.format(adjusted_rand_score(clustering.labels_, digit_labels)))\n",
    "uplot.points(mnist_umap, labels=clustering.labels_)\n",
    "_ = plt.title('Agglomerative clusters - single linkage')"
   ]
  },
  {
   "cell_type": "code",
   "execution_count": null,
   "id": "d586ab0e",
   "metadata": {},
   "outputs": [],
   "source": [
    "# Perform hierarchical clustering with complete linkage\n",
    "clustering = AgglomerativeClustering(\n",
    "    n_clusters=10, linkage='complete'\n",
    ").fit(digits_data)\n",
    "\n",
    "print('ARI = {}'.format(adjusted_rand_score(clustering.labels_, digit_labels)))\n",
    "uplot.points(mnist_umap, labels=clustering.labels_)\n",
    "_ = plt.title('Agglomerative clusters - complete linkage')"
   ]
  },
  {
   "cell_type": "code",
   "execution_count": null,
   "id": "caa8d08b",
   "metadata": {},
   "outputs": [],
   "source": [
    "# Perform hierarchical clustering with average linkage\n",
    "clustering = AgglomerativeClustering(\n",
    "    n_clusters=10, linkage='average'\n",
    ").fit(digits_data)\n",
    "\n",
    "print('ARI = {}'.format(adjusted_rand_score(clustering.labels_, digit_labels)))\n",
    "uplot.points(mnist_umap, labels=clustering.labels_)\n",
    "_ = plt.title('Agglomerative clusters - average linkage')"
   ]
  },
  {
   "cell_type": "code",
   "execution_count": null,
   "id": "7cd54b4a",
   "metadata": {},
   "outputs": [],
   "source": [
    "# Perform hierarchical clustering with ward linkage\n",
    "clustering = AgglomerativeClustering(\n",
    "    n_clusters=10, linkage='ward'\n",
    ").fit(digits_data)\n",
    "\n",
    "print('ARI = {}'.format(adjusted_rand_score(clustering.labels_, digit_labels)))\n",
    "uplot.points(mnist_umap, labels=clustering.labels_)\n",
    "_ = plt.title('Agglomerative clusters - ward linkage')"
   ]
  }
 ],
 "metadata": {
  "kernelspec": {
   "display_name": "Python 3 (ipykernel)",
   "language": "python",
   "name": "python3"
  },
  "language_info": {
   "codemirror_mode": {
    "name": "ipython",
    "version": 3
   },
   "file_extension": ".py",
   "mimetype": "text/x-python",
   "name": "python",
   "nbconvert_exporter": "python",
   "pygments_lexer": "ipython3",
   "version": "3.11.3"
  }
 },
 "nbformat": 4,
 "nbformat_minor": 5
}
