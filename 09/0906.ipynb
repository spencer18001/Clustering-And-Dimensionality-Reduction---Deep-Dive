{
 "cells": [
  {
   "cell_type": "markdown",
   "id": "b9aee9f6",
   "metadata": {},
   "source": [
    "## Dendrograms - demo"
   ]
  },
  {
   "cell_type": "code",
   "execution_count": null,
   "id": "ba0f094b",
   "metadata": {},
   "outputs": [],
   "source": [
    "import pandas as pd\n",
    "import numpy as np\n",
    "\n",
    "from matplotlib import pyplot as plt\n",
    "import seaborn as sns\n",
    "\n",
    "from sklearn.datasets import load_iris\n",
    "from sklearn.decomposition import PCA\n",
    "\n",
    "from scipy.cluster.hierarchy import dendrogram, linkage, cophenet\n",
    "from scipy.spatial.distance import pdist, squareform\n",
    "\n",
    "plt.rcParams['figure.figsize'] = [9, 5]\n",
    "sns.set_theme()"
   ]
  },
  {
   "attachments": {},
   "cell_type": "markdown",
   "id": "66797165",
   "metadata": {},
   "source": [
    "### Denrograms - iris subset"
   ]
  },
  {
   "cell_type": "code",
   "execution_count": null,
   "id": "c655949c",
   "metadata": {},
   "outputs": [],
   "source": [
    "# Load iris dataset\n",
    "iris = load_iris()\n",
    "\n",
    "# Format iris dataset as dataframe\n",
    "iris_df = pd.DataFrame(\n",
    "    iris['data'],\n",
    "    columns=iris['feature_names']\n",
    ")\n",
    "\n",
    "# Load iris labels\n",
    "iris_df['label'] = iris['target_names'][iris['target']]\n",
    "\n",
    "# Keep only petal length and petal width\n",
    "iris_df_sub = iris_df.filter(\n",
    "    items=[\n",
    "        'petal length (cm)', \n",
    "        'petal width (cm)', \n",
    "        'label'\n",
    "    ]\n",
    ")\n",
    "\n",
    "# Subset dataset to two columns for easier \n",
    "# visual inspection\n",
    "numer_cols = ['petal length (cm)', 'petal width (cm)']\n",
    "\n",
    "# Drop duplicates that have appeared\n",
    "# due to removing columns\n",
    "iris_df_sub = iris_df_sub.drop_duplicates().reset_index(drop=True)\n",
    "\n",
    "# Reduce dataset for easier dendrogram preview\n",
    "iris_df_sub = iris_df.groupby('label').sample(3, random_state=44).reset_index(drop=True)"
   ]
  },
  {
   "cell_type": "code",
   "execution_count": null,
   "id": "9b1086f2",
   "metadata": {},
   "outputs": [],
   "source": [
    "# Plot 'petal length (cm)' and 'petal width (cm)' with\n",
    "# cluster info and point idx\n",
    "sns.scatterplot(iris_df_sub, x='petal length (cm)', y='petal width (cm)',hue='label')\n",
    "for idx in iris_df_sub.index:\n",
    "    plt.text(\n",
    "        x=iris_df_sub.loc[idx,'petal length (cm)']+0.03, \n",
    "        y=iris_df_sub.loc[idx,'petal width (cm)'], \n",
    "        s=str(idx), \n",
    "        size='small'\n",
    "    )\n",
    "\n",
    "plt.title('Iris subset')"
   ]
  },
  {
   "cell_type": "code",
   "execution_count": null,
   "id": "dd60cea1",
   "metadata": {},
   "outputs": [],
   "source": [
    "linkage_matrix = linkage(iris_df_sub[numer_cols], method='ward')\n",
    "linkage_matrix"
   ]
  },
  {
   "cell_type": "code",
   "execution_count": null,
   "id": "a14d3a9d",
   "metadata": {},
   "outputs": [],
   "source": [
    "linkage_df = pd.DataFrame(linkage_matrix, columns=['First group', 'Second group', 'Distance', 'Size'])\n",
    "linkage_df['New id'] = np.arange(linkage_df.shape[0]) + linkage_df.shape[0]+1\n",
    "\n",
    "linkage_df"
   ]
  },
  {
   "cell_type": "code",
   "execution_count": null,
   "id": "02672031",
   "metadata": {},
   "outputs": [],
   "source": [
    "plt.figure()\n",
    "dendrogram(linkage_matrix, color_threshold=4)\n",
    "plt.title('Dendrogram - ward linkage')\n",
    "plt.show()"
   ]
  },
  {
   "cell_type": "code",
   "execution_count": null,
   "id": "03947251",
   "metadata": {},
   "outputs": [],
   "source": [
    "cophenet(linkage_matrix, pdist(iris_df_sub[numer_cols].to_numpy()))[0]"
   ]
  },
  {
   "cell_type": "code",
   "execution_count": null,
   "id": "42df3ba6",
   "metadata": {},
   "outputs": [],
   "source": [
    "def cophenetic_corr(linkage_matrix, data_mtx, distance_measure='euclidean'):\n",
    "    \n",
    "    if distance_measure != 'precomputed':\n",
    "        cop_corr = cophenet(\n",
    "            linkage_matrix, \n",
    "            pdist(data_mtx, metric=distance_measure),\n",
    "        )[0]\n",
    "        \n",
    "    else:\n",
    "        cop_corr = cophenet(\n",
    "            linkage_matrix, \n",
    "            squareform(data_mtx),\n",
    "        )[0]\n",
    "        \n",
    "    print(\n",
    "        'Cophenetic correlation : {}'.format(cop_corr)\n",
    "    )\n",
    "    "
   ]
  },
  {
   "cell_type": "code",
   "execution_count": null,
   "id": "8cec5e8c",
   "metadata": {},
   "outputs": [],
   "source": [
    "linkage_matrix = linkage(iris_df_sub[numer_cols], method='single')\n",
    "\n",
    "plt.figure()\n",
    "dendrogram(linkage_matrix, color_threshold=4)\n",
    "plt.title('Dendrogram - single linkage')\n",
    "plt.show()"
   ]
  },
  {
   "cell_type": "code",
   "execution_count": null,
   "id": "35177e31",
   "metadata": {},
   "outputs": [],
   "source": [
    "linkage_matrix = linkage(iris_df_sub[numer_cols], method='complete')\n",
    "\n",
    "plt.figure()\n",
    "dendrogram(linkage_matrix, color_threshold=4)\n",
    "plt.title('Dendrogram - complete linkage')\n",
    "plt.show()"
   ]
  },
  {
   "cell_type": "code",
   "execution_count": null,
   "id": "26224fef",
   "metadata": {},
   "outputs": [],
   "source": [
    "linkage_matrix = linkage(iris_df_sub[numer_cols], method='average')\n",
    "\n",
    "plt.figure()\n",
    "dendrogram(linkage_matrix, color_threshold=4)\n",
    "plt.title('Dendrogram - average linkage')\n",
    "plt.show()"
   ]
  },
  {
   "attachments": {},
   "cell_type": "markdown",
   "id": "af28672b",
   "metadata": {},
   "source": [
    "### Dendrograms - full iris dataset"
   ]
  },
  {
   "cell_type": "code",
   "execution_count": null,
   "id": "87e5ea04",
   "metadata": {},
   "outputs": [],
   "source": [
    "# Load iris dataset\n",
    "iris_df = pd.DataFrame(\n",
    "    iris['data'],\n",
    "    columns=iris['feature_names']\n",
    ")\n",
    "\n",
    "numer_cols = iris_df.columns\n",
    "\n",
    "# Load iris labels\n",
    "iris_df['label'] = iris['target_names'][iris['target']]"
   ]
  },
  {
   "cell_type": "code",
   "execution_count": null,
   "id": "fdcfc9c3",
   "metadata": {},
   "outputs": [],
   "source": [
    "# Run PCA so we can show dataset in 2D space\n",
    "pca = PCA(n_components=2)\n",
    "pca_data = pca.fit_transform(iris_df[numer_cols].values)\n",
    "pca_data = np.column_stack([pca_data, iris_df['label'].values])\n",
    "pca_df = pd.DataFrame(pca_data, columns=['PC1', 'PC2', 'label'])\n",
    "\n",
    "# Plot and colour based on reference label\n",
    "sns.scatterplot(pca_df, x='PC1', y='PC2', hue='label')\n",
    "plt.title('Scatterplot with true label')"
   ]
  },
  {
   "cell_type": "code",
   "execution_count": null,
   "id": "7c1bcd74",
   "metadata": {},
   "outputs": [],
   "source": [
    "linkage_matrix = linkage(iris_df[numer_cols], method='single')\n",
    "\n",
    "cophenetic_corr(linkage_matrix, iris_df[numer_cols].to_numpy())\n",
    "\n",
    "plt.figure(figsize=(16,8))\n",
    "dendrogram(linkage_matrix, color_threshold=1, labels=iris_df['label'].to_numpy(), leaf_font_size=8)\n",
    "plt.title('Dendrogram - single linkage')\n",
    "plt.show()"
   ]
  },
  {
   "cell_type": "code",
   "execution_count": null,
   "id": "48b6779a",
   "metadata": {},
   "outputs": [],
   "source": [
    "# Plot and colour based on reference label\n",
    "sns.scatterplot(pca_df, x='PC1', y='PC2', hue='label')\n",
    "plt.title('Scatterplot with true label')"
   ]
  },
  {
   "cell_type": "code",
   "execution_count": null,
   "id": "d1a4c9aa",
   "metadata": {},
   "outputs": [],
   "source": [
    "linkage_matrix = linkage(iris_df[numer_cols], method='complete')\n",
    "cophenetic_corr(linkage_matrix, iris_df[numer_cols].to_numpy())\n",
    "\n",
    "plt.figure(figsize=(16,8))\n",
    "dendrogram(linkage_matrix, color_threshold=4, labels=iris_df['label'].to_numpy(), leaf_font_size=8)\n",
    "plt.title('Dendrogram - complete linkage')\n",
    "plt.show()"
   ]
  },
  {
   "cell_type": "code",
   "execution_count": null,
   "id": "dbfe9dc5",
   "metadata": {},
   "outputs": [],
   "source": [
    "linkage_matrix = linkage(iris_df[numer_cols], method='average')\n",
    "cophenetic_corr(linkage_matrix, iris_df[numer_cols].to_numpy())\n",
    "\n",
    "plt.figure(figsize=(16,8))\n",
    "dendrogram(linkage_matrix, color_threshold=4, labels=iris_df['label'].to_numpy(), leaf_font_size=8)\n",
    "plt.title('Dendrogram - average linkage')\n",
    "plt.show()"
   ]
  },
  {
   "cell_type": "code",
   "execution_count": null,
   "id": "05664dc1",
   "metadata": {},
   "outputs": [],
   "source": [
    "linkage_matrix = linkage(iris_df[numer_cols], method='ward')\n",
    "cophenetic_corr(linkage_matrix, iris_df[numer_cols].to_numpy())\n",
    "\n",
    "plt.figure(figsize=(16,8))\n",
    "dendrogram(linkage_matrix, color_threshold=10, labels=iris_df['label'].to_numpy(), leaf_font_size=8)\n",
    "plt.title('Dendrogram - ward linkage')\n",
    "plt.show()"
   ]
  },
  {
   "cell_type": "markdown",
   "id": "4ddee3e0",
   "metadata": {},
   "source": [
    "### Dendrogram truncation"
   ]
  },
  {
   "cell_type": "code",
   "execution_count": null,
   "id": "50d2aa15",
   "metadata": {},
   "outputs": [],
   "source": [
    "# Truncated dendrogram\n",
    "linkage_matrix = linkage(iris_df[numer_cols], method='ward')\n",
    "\n",
    "plt.figure(figsize=(16,8))\n",
    "dendrogram(linkage_matrix, color_threshold=4, truncate_mode=\"level\", p=2)\n",
    "plt.title('Dendrogram - ward linkage')\n",
    "plt.show()"
   ]
  }
 ],
 "metadata": {
  "kernelspec": {
   "display_name": "Python 3 (ipykernel)",
   "language": "python",
   "name": "python3"
  },
  "language_info": {
   "codemirror_mode": {
    "name": "ipython",
    "version": 3
   },
   "file_extension": ".py",
   "mimetype": "text/x-python",
   "name": "python",
   "nbconvert_exporter": "python",
   "pygments_lexer": "ipython3",
   "version": "3.11.3"
  }
 },
 "nbformat": 4,
 "nbformat_minor": 5
}
