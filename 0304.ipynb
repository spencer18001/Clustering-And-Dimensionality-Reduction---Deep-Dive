{
  "cells": [
    {
      "cell_type": "markdown",
      "metadata": {
        "id": "view-in-github",
        "colab_type": "text"
      },
      "source": [
        "<a href=\"https://colab.research.google.com/github/spencer18001/Clustering-And-Dimensionality-Reduction---Deep-Dive/blob/main/0304.ipynb\" target=\"_parent\"><img src=\"https://colab.research.google.com/assets/colab-badge.svg\" alt=\"Open In Colab\"/></a>"
      ]
    },
    {
      "cell_type": "markdown",
      "metadata": {
        "id": "GOO3DgsbsedH"
      },
      "source": [
        "## Creating, slicing and modifying\n",
        "\n",
        "### Lecture agenda\n",
        "\n",
        "- Creating numpy arrays\n",
        "  \n",
        "- Slicing numpy arrays\n",
        "- Modifying numpy arrays\n",
        "- Searching for elements"
      ]
    },
    {
      "cell_type": "code",
      "execution_count": 1,
      "metadata": {
        "id": "RAUqSxiksedK"
      },
      "outputs": [],
      "source": [
        "import numpy as np"
      ]
    },
    {
      "cell_type": "markdown",
      "metadata": {
        "id": "gLb_l3HOsedL"
      },
      "source": [
        "### Creating numpy arrays"
      ]
    },
    {
      "cell_type": "code",
      "execution_count": 2,
      "metadata": {
        "id": "nz8ncOvlsedM",
        "outputId": "7fb1aa46-9b0a-4734-a062-8e9a72930650",
        "colab": {
          "base_uri": "https://localhost:8080/"
        }
      },
      "outputs": [
        {
          "output_type": "stream",
          "name": "stdout",
          "text": [
            "[1 2 3 4 5]\n",
            "<class 'numpy.ndarray'>\n"
          ]
        }
      ],
      "source": [
        "# 1D array from a list\n",
        "arr1 = np.array([1,2,3,4,5])\n",
        "print(arr1)\n",
        "print(type(arr1))"
      ]
    },
    {
      "cell_type": "code",
      "execution_count": 3,
      "metadata": {
        "id": "BVzGv_KCsedM",
        "outputId": "f5898c9c-18a3-44c6-da06-6661d4cdf61f",
        "colab": {
          "base_uri": "https://localhost:8080/"
        }
      },
      "outputs": [
        {
          "output_type": "stream",
          "name": "stdout",
          "text": [
            "[[1 2 3]\n",
            " [4 5 6]]\n",
            "<class 'numpy.ndarray'>\n"
          ]
        }
      ],
      "source": [
        "# 2D array from a list\n",
        "arr2 = np.array([[1,2,3], [4,5,6]])\n",
        "print(arr2)\n",
        "print(type(arr2))"
      ]
    },
    {
      "cell_type": "code",
      "execution_count": 4,
      "metadata": {
        "id": "9Nqt9uwSsedM",
        "outputId": "efa40508-acdc-440d-cf64-680414040a33",
        "colab": {
          "base_uri": "https://localhost:8080/"
        }
      },
      "outputs": [
        {
          "output_type": "stream",
          "name": "stdout",
          "text": [
            "(5,)\n",
            "(2, 3)\n"
          ]
        }
      ],
      "source": [
        "# shape\n",
        "print(arr1.shape)\n",
        "print(arr2.shape)"
      ]
    },
    {
      "cell_type": "code",
      "execution_count": 5,
      "metadata": {
        "id": "y_BfaIUEsedN",
        "outputId": "a526c3b0-f596-4c31-b7de-12f2e6f3e55d",
        "colab": {
          "base_uri": "https://localhost:8080/"
        }
      },
      "outputs": [
        {
          "output_type": "execute_result",
          "data": {
            "text/plain": [
              "array([[0., 0., 0., 0., 0.],\n",
              "       [0., 0., 0., 0., 0.],\n",
              "       [0., 0., 0., 0., 0.]])"
            ]
          },
          "metadata": {},
          "execution_count": 5
        }
      ],
      "source": [
        "# 2D array of zeros\n",
        "zero_arr = np.zeros(shape=(3,5))\n",
        "zero_arr"
      ]
    },
    {
      "cell_type": "code",
      "execution_count": 6,
      "metadata": {
        "id": "8qDB_qhbsedN",
        "outputId": "7f371a8d-bc30-4de8-c37a-75c783bf4f3b",
        "colab": {
          "base_uri": "https://localhost:8080/"
        }
      },
      "outputs": [
        {
          "output_type": "execute_result",
          "data": {
            "text/plain": [
              "array([0., 0., 0.])"
            ]
          },
          "metadata": {},
          "execution_count": 6
        }
      ],
      "source": [
        "# 1D array of zeros\n",
        "zero_arr = np.zeros(shape=(3))\n",
        "zero_arr"
      ]
    },
    {
      "cell_type": "code",
      "execution_count": 7,
      "metadata": {
        "id": "321umRjUsedO",
        "outputId": "37ec822d-4e88-4a04-e5bc-e22b1231ed5d",
        "colab": {
          "base_uri": "https://localhost:8080/"
        }
      },
      "outputs": [
        {
          "output_type": "execute_result",
          "data": {
            "text/plain": [
              "array([[7, 7, 7, 7, 7],\n",
              "       [7, 7, 7, 7, 7],\n",
              "       [7, 7, 7, 7, 7]])"
            ]
          },
          "metadata": {},
          "execution_count": 7
        }
      ],
      "source": [
        "# Array containing a single unique value\n",
        "const_arr = np.full(shape=(3,5), fill_value=7)\n",
        "const_arr"
      ]
    },
    {
      "cell_type": "code",
      "execution_count": 8,
      "metadata": {
        "id": "DsP6c60TsedP",
        "outputId": "64e0e57b-f6e0-46d7-8aa9-088115c396ed",
        "colab": {
          "base_uri": "https://localhost:8080/"
        }
      },
      "outputs": [
        {
          "output_type": "execute_result",
          "data": {
            "text/plain": [
              "array([0, 1, 2, 3, 4, 5, 6, 7, 8, 9])"
            ]
          },
          "metadata": {},
          "execution_count": 8
        }
      ],
      "source": [
        "# Numpy arange\n",
        "arrange1 = np.arange(10)\n",
        "arrange1"
      ]
    },
    {
      "cell_type": "code",
      "execution_count": 9,
      "metadata": {
        "id": "x6C8VqW-sedP",
        "outputId": "75d20dce-7038-4d36-fdce-f36462f55501",
        "colab": {
          "base_uri": "https://localhost:8080/"
        }
      },
      "outputs": [
        {
          "output_type": "execute_result",
          "data": {
            "text/plain": [
              "array([0. , 0.5, 1. , 1.5, 2. , 2.5, 3. , 3.5, 4. , 4.5, 5. , 5.5, 6. ,\n",
              "       6.5, 7. , 7.5, 8. , 8.5, 9. , 9.5])"
            ]
          },
          "metadata": {},
          "execution_count": 9
        }
      ],
      "source": [
        "# Create array based on start, stop and step\n",
        "arrange1 = np.arange(0, 10, 0.5)\n",
        "arrange1"
      ]
    },
    {
      "cell_type": "code",
      "execution_count": 10,
      "metadata": {
        "id": "iZ-579OvsedP",
        "outputId": "761d6582-c569-46fd-f53e-b4353620f7dc",
        "colab": {
          "base_uri": "https://localhost:8080/"
        }
      },
      "outputs": [
        {
          "output_type": "execute_result",
          "data": {
            "text/plain": [
              "array([[ 8, 45, 66, 81, 15, 75, 50, 93],\n",
              "       [84, 90, 10, 77, 81, 86,  2, 56],\n",
              "       [47,  5, 31, 56, 40, 15, 35, 50],\n",
              "       [61, 65, 80, 61, 97, 86, 90, 42],\n",
              "       [77, 11, 95, 99, 26, 12, 90, 68]])"
            ]
          },
          "metadata": {},
          "execution_count": 10
        }
      ],
      "source": [
        "# Random array\n",
        "# np.random.randint: Return random integers from low (inclusive) to high (exclusive).\n",
        "rand_arr = np.random.randint(0, 100, (5, 8))\n",
        "rand_arr"
      ]
    },
    {
      "cell_type": "markdown",
      "metadata": {
        "id": "kWlZ_4APsedQ"
      },
      "source": [
        "### Slicing numpy arrays\n",
        "\n",
        "Slicing in NumPy is a way of accessing a subset of elements from a NumPy array."
      ]
    },
    {
      "cell_type": "markdown",
      "metadata": {
        "id": "n919cx5ksedQ"
      },
      "source": [
        "##### 1D array"
      ]
    },
    {
      "cell_type": "code",
      "execution_count": 11,
      "metadata": {
        "id": "sqyBZhYgsedQ",
        "outputId": "b5481647-4615-45fb-a94c-6a3117dd1083",
        "colab": {
          "base_uri": "https://localhost:8080/"
        }
      },
      "outputs": [
        {
          "output_type": "execute_result",
          "data": {
            "text/plain": [
              "array([1, 2, 3, 4, 5])"
            ]
          },
          "metadata": {},
          "execution_count": 11
        }
      ],
      "source": [
        "arr1 = np.array([1,2,3,4,5])\n",
        "arr1"
      ]
    },
    {
      "cell_type": "code",
      "execution_count": 15,
      "metadata": {
        "id": "63WUkEf-sedR",
        "outputId": "121e81ed-fff0-43bf-8aca-77dc299b1cf2",
        "colab": {
          "base_uri": "https://localhost:8080/"
        }
      },
      "outputs": [
        {
          "output_type": "execute_result",
          "data": {
            "text/plain": [
              "(1, 3, 5)"
            ]
          },
          "metadata": {},
          "execution_count": 15
        }
      ],
      "source": [
        "arr1[0], arr1[2], arr1[-1]"
      ]
    },
    {
      "cell_type": "code",
      "execution_count": 17,
      "metadata": {
        "id": "rCv2CnnusedR",
        "outputId": "adc8936b-8864-4562-d43f-3fe815fea015",
        "colab": {
          "base_uri": "https://localhost:8080/"
        }
      },
      "outputs": [
        {
          "output_type": "execute_result",
          "data": {
            "text/plain": [
              "(array([3, 4]), array([1, 2, 3]), array([3, 4, 5]), array([2, 3]))"
            ]
          },
          "metadata": {},
          "execution_count": 17
        }
      ],
      "source": [
        "arr1[2:4], arr1[:3], arr1[2:], arr1[1:-2]"
      ]
    },
    {
      "cell_type": "code",
      "execution_count": 18,
      "metadata": {
        "id": "AN1RsELpsedS",
        "outputId": "b86b5d4b-ccff-401a-bfba-437b515c086d",
        "colab": {
          "base_uri": "https://localhost:8080/"
        }
      },
      "outputs": [
        {
          "output_type": "execute_result",
          "data": {
            "text/plain": [
              "array([1, 3])"
            ]
          },
          "metadata": {},
          "execution_count": 18
        }
      ],
      "source": [
        "# Slice with step\n",
        "arr1[0:4:2]"
      ]
    },
    {
      "cell_type": "code",
      "execution_count": 24,
      "metadata": {
        "id": "bO9UTkPCsedS",
        "outputId": "c71299a4-a67e-4e1f-d00b-6dd66c6185f1",
        "colab": {
          "base_uri": "https://localhost:8080/"
        }
      },
      "outputs": [
        {
          "output_type": "execute_result",
          "data": {
            "text/plain": [
              "(array([1, 4]), array([1, 4]))"
            ]
          },
          "metadata": {},
          "execution_count": 24
        }
      ],
      "source": [
        "# Slice with another numpy array\n",
        "idx_array = np.array([0, 3])\n",
        "arr1[idx_array], arr1[[0, 3]]"
      ]
    },
    {
      "cell_type": "code",
      "execution_count": 25,
      "metadata": {
        "id": "CoCNWDfusedT",
        "outputId": "607f311f-a31e-432b-8b43-b2d2402419c2",
        "colab": {
          "base_uri": "https://localhost:8080/"
        }
      },
      "outputs": [
        {
          "output_type": "execute_result",
          "data": {
            "text/plain": [
              "(array([1, 2, 4, 5]), array([1, 2, 4, 5]))"
            ]
          },
          "metadata": {},
          "execution_count": 25
        }
      ],
      "source": [
        "# Slice using boolean array\n",
        "bool_arr = np.array([True, True, False, True, True])\n",
        "arr1[bool_arr], arr1[[True, True, False, True, True]]"
      ]
    },
    {
      "cell_type": "markdown",
      "metadata": {
        "id": "QpgP3O2_sedT"
      },
      "source": [
        "##### 2D arrays"
      ]
    },
    {
      "cell_type": "code",
      "execution_count": 26,
      "metadata": {
        "id": "gz3ToMTisedT",
        "outputId": "460d8d9e-060a-4170-c3aa-17bc9ceff49c",
        "colab": {
          "base_uri": "https://localhost:8080/"
        }
      },
      "outputs": [
        {
          "output_type": "execute_result",
          "data": {
            "text/plain": [
              "array([[27, 64, 91, 92, 10, 73, 20, 60],\n",
              "       [53, 63, 71, 10, 30, 28, 22, 65],\n",
              "       [85, 26, 49, 58, 12, 92, 58, 81],\n",
              "       [98, 34, 42, 30, 24, 61, 47, 49],\n",
              "       [ 0, 81, 34,  5, 32, 81, 58, 59]])"
            ]
          },
          "metadata": {},
          "execution_count": 26
        }
      ],
      "source": [
        "# Random array\n",
        "rand_arr = np.random.randint(0, 100, (5, 8))\n",
        "rand_arr"
      ]
    },
    {
      "cell_type": "code",
      "execution_count": 31,
      "metadata": {
        "id": "GWJa_h-OsedT",
        "outputId": "df905f85-8cec-455d-80c6-f6c28eda729c",
        "colab": {
          "base_uri": "https://localhost:8080/"
        }
      },
      "outputs": [
        {
          "output_type": "execute_result",
          "data": {
            "text/plain": [
              "92"
            ]
          },
          "metadata": {},
          "execution_count": 31
        }
      ],
      "source": [
        "# Get single element\n",
        "rand_arr[0, 3]"
      ]
    },
    {
      "cell_type": "code",
      "execution_count": 35,
      "metadata": {
        "id": "slteVatVsedT",
        "outputId": "6816ef1a-0413-4848-aaa8-2d34a3e7b00b",
        "colab": {
          "base_uri": "https://localhost:8080/"
        }
      },
      "outputs": [
        {
          "output_type": "execute_result",
          "data": {
            "text/plain": [
              "(array([85, 26, 49, 58, 12, 92, 58, 81]),\n",
              " array([85, 26, 49, 58, 12, 92, 58, 81]))"
            ]
          },
          "metadata": {},
          "execution_count": 35
        }
      ],
      "source": [
        "# Get single row\n",
        "rand_arr[2, :], rand_arr[2]"
      ]
    },
    {
      "cell_type": "code",
      "execution_count": 36,
      "metadata": {
        "id": "a2yBXvYCsedT",
        "outputId": "ee7d7c6c-6b7a-49dd-9dda-0dd078d762d1",
        "colab": {
          "base_uri": "https://localhost:8080/"
        }
      },
      "outputs": [
        {
          "output_type": "execute_result",
          "data": {
            "text/plain": [
              "(array([[85, 26, 49, 58, 12, 92, 58, 81],\n",
              "        [98, 34, 42, 30, 24, 61, 47, 49]]),\n",
              " array([[85, 26, 49, 58, 12, 92, 58, 81],\n",
              "        [98, 34, 42, 30, 24, 61, 47, 49]]))"
            ]
          },
          "metadata": {},
          "execution_count": 36
        }
      ],
      "source": [
        "# Get multiple rows\n",
        "rand_arr[2:4, :], rand_arr[2:4]"
      ]
    },
    {
      "cell_type": "code",
      "execution_count": 38,
      "metadata": {
        "id": "_d8zI3QlsedU",
        "outputId": "ed217642-76c7-4bc3-d200-4999404de433",
        "colab": {
          "base_uri": "https://localhost:8080/"
        }
      },
      "outputs": [
        {
          "output_type": "execute_result",
          "data": {
            "text/plain": [
              "array([91, 71, 49, 42, 34])"
            ]
          },
          "metadata": {},
          "execution_count": 38
        }
      ],
      "source": [
        "# Get single column\n",
        "rand_arr[:, 2]"
      ]
    },
    {
      "cell_type": "code",
      "execution_count": 39,
      "metadata": {
        "id": "UEfzaWnXsedU",
        "outputId": "3b89d871-faa9-4759-9848-375145778aac",
        "colab": {
          "base_uri": "https://localhost:8080/"
        }
      },
      "outputs": [
        {
          "output_type": "execute_result",
          "data": {
            "text/plain": [
              "array([[91, 92],\n",
              "       [71, 10],\n",
              "       [49, 58],\n",
              "       [42, 30],\n",
              "       [34,  5]])"
            ]
          },
          "metadata": {},
          "execution_count": 39
        }
      ],
      "source": [
        "# Get multiple cols\n",
        "rand_arr[:, 2:4]"
      ]
    },
    {
      "cell_type": "code",
      "execution_count": 40,
      "metadata": {
        "id": "iQvDXYVlsedU",
        "outputId": "4c614fa1-5730-4307-8a7b-8590fe6aed30",
        "colab": {
          "base_uri": "https://localhost:8080/"
        }
      },
      "outputs": [
        {
          "output_type": "execute_result",
          "data": {
            "text/plain": [
              "array([[10, 30],\n",
              "       [58, 12],\n",
              "       [30, 24]])"
            ]
          },
          "metadata": {},
          "execution_count": 40
        }
      ],
      "source": [
        "# Slice based on rows and cols\n",
        "rand_arr[1:4, 3:5]"
      ]
    },
    {
      "cell_type": "code",
      "execution_count": 41,
      "metadata": {
        "id": "crumoLzTsedU",
        "outputId": "772c8964-a344-45f6-befe-0531132eb2a1",
        "colab": {
          "base_uri": "https://localhost:8080/"
        }
      },
      "outputs": [
        {
          "output_type": "execute_result",
          "data": {
            "text/plain": [
              "array([[27, 91],\n",
              "       [85, 49],\n",
              "       [ 0, 34]])"
            ]
          },
          "metadata": {},
          "execution_count": 41
        }
      ],
      "source": [
        "# Slice based on rows and cols and step\n",
        "rand_arr[0:5:2, 0:4:2]"
      ]
    },
    {
      "cell_type": "code",
      "execution_count": 42,
      "metadata": {
        "id": "6o0kHMhqsedV"
      },
      "outputs": [],
      "source": [
        "# Slice based on other numpy arrays\n",
        "row_idx = np.array([0,3])\n",
        "col_idx = np.array([0,1])"
      ]
    },
    {
      "cell_type": "code",
      "execution_count": 51,
      "metadata": {
        "id": "3k1D4WkAsedZ",
        "outputId": "0775d2ba-ed85-4cd3-c3c0-1e65ac406fc5",
        "colab": {
          "base_uri": "https://localhost:8080/"
        }
      },
      "outputs": [
        {
          "output_type": "execute_result",
          "data": {
            "text/plain": [
              "(array([[27, 64, 91, 92, 10, 73, 20, 60],\n",
              "        [98, 34, 42, 30, 24, 61, 47, 49]]),\n",
              " array([[27, 64, 91, 92, 10, 73, 20, 60],\n",
              "        [98, 34, 42, 30, 24, 61, 47, 49]]),\n",
              " array([[27, 64, 91, 92, 10, 73, 20, 60],\n",
              "        [98, 34, 42, 30, 24, 61, 47, 49]]))"
            ]
          },
          "metadata": {},
          "execution_count": 51
        }
      ],
      "source": [
        "# Get rows\n",
        "rand_arr[row_idx], rand_arr[row_idx, :], rand_arr[[0,3], :]"
      ]
    },
    {
      "cell_type": "code",
      "execution_count": 52,
      "metadata": {
        "id": "6n9_Ki1jsedZ",
        "outputId": "1ba81c4b-23bd-46f5-e599-2d219e555a0e",
        "colab": {
          "base_uri": "https://localhost:8080/"
        }
      },
      "outputs": [
        {
          "output_type": "execute_result",
          "data": {
            "text/plain": [
              "(array([[27, 64],\n",
              "        [53, 63],\n",
              "        [85, 26],\n",
              "        [98, 34],\n",
              "        [ 0, 81]]),\n",
              " array([[27, 64],\n",
              "        [53, 63],\n",
              "        [85, 26],\n",
              "        [98, 34],\n",
              "        [ 0, 81]]))"
            ]
          },
          "metadata": {},
          "execution_count": 52
        }
      ],
      "source": [
        "# Get cols\n",
        "rand_arr[:, col_idx], rand_arr[:, [0,1]]"
      ]
    },
    {
      "cell_type": "code",
      "source": [
        "rand_arr[row_idx, col_idx] # fancy indexing: return pairwise-indexed values"
      ],
      "metadata": {
        "id": "epn9cjb8w8Mf",
        "outputId": "fe00227f-54d9-4f94-909b-1b8714f7d229",
        "colab": {
          "base_uri": "https://localhost:8080/"
        }
      },
      "execution_count": 47,
      "outputs": [
        {
          "output_type": "execute_result",
          "data": {
            "text/plain": [
              "array([27, 34])"
            ]
          },
          "metadata": {},
          "execution_count": 47
        }
      ]
    },
    {
      "cell_type": "code",
      "execution_count": 53,
      "metadata": {
        "id": "2_i-ctEAsedZ",
        "outputId": "e44c3196-2ba9-47d7-85aa-5c50c98bfb91",
        "colab": {
          "base_uri": "https://localhost:8080/"
        }
      },
      "outputs": [
        {
          "output_type": "execute_result",
          "data": {
            "text/plain": [
              "array([[27, 64],\n",
              "       [98, 34]])"
            ]
          },
          "metadata": {},
          "execution_count": 53
        }
      ],
      "source": [
        "# Get intersection of rows and cols\n",
        "rand_arr[row_idx, :][:, col_idx]"
      ]
    },
    {
      "cell_type": "code",
      "source": [
        "np.ix_(row_idx, col_idx)"
      ],
      "metadata": {
        "id": "vUGCGBTQzS_8",
        "outputId": "1b89cae6-6e63-45de-9ba6-53a28c53ca9a",
        "colab": {
          "base_uri": "https://localhost:8080/"
        }
      },
      "execution_count": 55,
      "outputs": [
        {
          "output_type": "execute_result",
          "data": {
            "text/plain": [
              "(array([[0],\n",
              "        [3]]),\n",
              " array([[0, 1]]))"
            ]
          },
          "metadata": {},
          "execution_count": 55
        }
      ]
    },
    {
      "cell_type": "code",
      "execution_count": 59,
      "metadata": {
        "id": "-G_yXizPseda",
        "outputId": "790d9053-87a4-4fe0-8b9a-df7974fb36ab",
        "colab": {
          "base_uri": "https://localhost:8080/"
        }
      },
      "outputs": [
        {
          "output_type": "execute_result",
          "data": {
            "text/plain": [
              "(array([[27, 64],\n",
              "        [98, 34]]),\n",
              " array([[27, 64],\n",
              "        [98, 34]]))"
            ]
          },
          "metadata": {},
          "execution_count": 59
        }
      ],
      "source": [
        "# Another way\n",
        "rand_arr[np.ix_(row_idx, col_idx)], rand_arr[([[0],\n",
        "                                               [3]],\n",
        "                                              [[0, 1]])]"
      ]
    },
    {
      "cell_type": "markdown",
      "metadata": {
        "id": "rz41hrLaseda"
      },
      "source": [
        "##### Slicing based on boolean expressions"
      ]
    },
    {
      "cell_type": "code",
      "execution_count": 60,
      "metadata": {
        "id": "L5ArJ5alseda"
      },
      "outputs": [],
      "source": [
        "row_bool = np.array([True, True, False, False, False])\n",
        "cool_bool = np.array([True, True, False, False, False, False, False, False])"
      ]
    },
    {
      "cell_type": "code",
      "source": [
        "rand_arr[row_bool, cool_bool] # fancy indexing"
      ],
      "metadata": {
        "id": "gsE1RM9c0_OP",
        "outputId": "d981c8e8-51c6-4064-da92-0de86c487872",
        "colab": {
          "base_uri": "https://localhost:8080/"
        }
      },
      "execution_count": 66,
      "outputs": [
        {
          "output_type": "execute_result",
          "data": {
            "text/plain": [
              "array([27, 63])"
            ]
          },
          "metadata": {},
          "execution_count": 66
        }
      ]
    },
    {
      "cell_type": "code",
      "execution_count": 61,
      "metadata": {
        "id": "-CiT58eHseda",
        "outputId": "5f7bb9df-0fb4-458a-8f9a-9178e54c5696",
        "colab": {
          "base_uri": "https://localhost:8080/"
        }
      },
      "outputs": [
        {
          "output_type": "execute_result",
          "data": {
            "text/plain": [
              "array([[27, 64],\n",
              "       [53, 63]])"
            ]
          },
          "metadata": {},
          "execution_count": 61
        }
      ],
      "source": [
        "rand_arr[row_bool, :][:, cool_bool]"
      ]
    },
    {
      "cell_type": "code",
      "source": [
        "np.ix_([True, True, False, False, True], [True, True, False, False, True, False, False, False])"
      ],
      "metadata": {
        "id": "N6S1bn1F0fTI",
        "outputId": "5726540b-ce6f-4a6c-c355-b4eb087e6433",
        "colab": {
          "base_uri": "https://localhost:8080/"
        }
      },
      "execution_count": 63,
      "outputs": [
        {
          "output_type": "execute_result",
          "data": {
            "text/plain": [
              "(array([[0],\n",
              "        [1],\n",
              "        [4]]),\n",
              " array([[0, 1, 4]]))"
            ]
          },
          "metadata": {},
          "execution_count": 63
        }
      ]
    },
    {
      "cell_type": "code",
      "execution_count": 64,
      "metadata": {
        "id": "lfIWvey7seda",
        "outputId": "0a7b13a5-2146-44db-a123-45cbdb9a07be",
        "colab": {
          "base_uri": "https://localhost:8080/"
        }
      },
      "outputs": [
        {
          "output_type": "execute_result",
          "data": {
            "text/plain": [
              "array([[27, 64],\n",
              "       [53, 63]])"
            ]
          },
          "metadata": {},
          "execution_count": 64
        }
      ],
      "source": [
        "rand_arr[(np.ix_(row_bool, cool_bool))]"
      ]
    },
    {
      "cell_type": "code",
      "execution_count": 67,
      "metadata": {
        "id": "hwzRE0sisedb",
        "outputId": "c61b9123-5d46-4a30-bf6c-3cbe3cd78a12",
        "colab": {
          "base_uri": "https://localhost:8080/"
        }
      },
      "outputs": [
        {
          "output_type": "execute_result",
          "data": {
            "text/plain": [
              "array([[27, 64],\n",
              "       [53, 63]])"
            ]
          },
          "metadata": {},
          "execution_count": 67
        }
      ],
      "source": [
        "rand_arr[:2, cool_bool] # row uses slice, and column uses boolean array"
      ]
    },
    {
      "cell_type": "code",
      "execution_count": 68,
      "metadata": {
        "id": "-L3rcgFNsedb",
        "outputId": "55a0e9f5-f658-4544-b53f-8b9f31234588",
        "colab": {
          "base_uri": "https://localhost:8080/"
        }
      },
      "outputs": [
        {
          "output_type": "execute_result",
          "data": {
            "text/plain": [
              "array([[ True,  True,  True,  True,  True,  True,  True,  True],\n",
              "       [ True,  True,  True,  True,  True,  True,  True,  True],\n",
              "       [ True,  True,  True,  True,  True,  True,  True,  True],\n",
              "       [ True,  True,  True,  True,  True,  True,  True,  True],\n",
              "       [False,  True,  True, False,  True,  True,  True,  True]])"
            ]
          },
          "metadata": {},
          "execution_count": 68
        }
      ],
      "source": [
        "# We can use this for masking\n",
        "mask = rand_arr > 5\n",
        "mask"
      ]
    },
    {
      "cell_type": "code",
      "execution_count": 70,
      "metadata": {
        "id": "wKSHT6cDsedb",
        "outputId": "46411f9c-0b17-480c-8d80-d86317dacee9",
        "colab": {
          "base_uri": "https://localhost:8080/"
        }
      },
      "outputs": [
        {
          "output_type": "execute_result",
          "data": {
            "text/plain": [
              "(array([27, 64, 91, 92, 10, 73, 20, 60, 53, 63, 71, 10, 30, 28, 22, 65, 85,\n",
              "        26, 49, 58, 12, 92, 58, 81, 98, 34, 42, 30, 24, 61, 47, 49, 81, 34,\n",
              "        32, 81, 58, 59]),\n",
              " array([27, 64, 91, 92, 10, 73, 20, 60, 53, 63, 71, 10, 30, 28, 22, 65, 85,\n",
              "        26, 49, 58, 12, 92, 58, 81, 98, 34, 42, 30, 24, 61, 47, 49, 81, 34,\n",
              "        32, 81, 58, 59]))"
            ]
          },
          "metadata": {},
          "execution_count": 70
        }
      ],
      "source": [
        "rand_arr[mask], rand_arr[rand_arr > 5]"
      ]
    },
    {
      "cell_type": "markdown",
      "metadata": {
        "id": "xWZmLnh6sedb"
      },
      "source": [
        "### Modifying numpy arrays"
      ]
    },
    {
      "cell_type": "code",
      "execution_count": 71,
      "metadata": {
        "id": "Ilifv0tzsedb",
        "outputId": "61f6e801-0986-4181-abae-4e391fcbf1aa",
        "colab": {
          "base_uri": "https://localhost:8080/"
        }
      },
      "outputs": [
        {
          "output_type": "execute_result",
          "data": {
            "text/plain": [
              "array([[87, 96, 26, 16],\n",
              "       [52, 46, 35, 80],\n",
              "       [99, 89, 33, 60]])"
            ]
          },
          "metadata": {},
          "execution_count": 71
        }
      ],
      "source": [
        "eg_arr = np.random.randint(0, 100, (3, 4))\n",
        "eg_arr"
      ]
    },
    {
      "cell_type": "code",
      "execution_count": 72,
      "metadata": {
        "id": "TH4u0cV2sedb",
        "outputId": "63ae0076-9054-422f-ed20-01a50a73cbfe",
        "colab": {
          "base_uri": "https://localhost:8080/"
        }
      },
      "outputs": [
        {
          "output_type": "execute_result",
          "data": {
            "text/plain": [
              "array([[10, 96, 26, 16],\n",
              "       [52, 46, 35, 80],\n",
              "       [99, 89, 33, 60]])"
            ]
          },
          "metadata": {},
          "execution_count": 72
        }
      ],
      "source": [
        "# Modifying single element\n",
        "eg_arr[0,0] = 10\n",
        "eg_arr"
      ]
    },
    {
      "cell_type": "code",
      "execution_count": 73,
      "metadata": {
        "id": "xaW5iw1Ssedc",
        "outputId": "9cdc9b15-8e7e-4271-ba3b-6e40a9f3a080",
        "colab": {
          "base_uri": "https://localhost:8080/"
        }
      },
      "outputs": [
        {
          "output_type": "execute_result",
          "data": {
            "text/plain": [
              "array([[ 100, 1000,  500,  900],\n",
              "       [  52,   46,   35,   80],\n",
              "       [  99,   89,   33,   60]])"
            ]
          },
          "metadata": {},
          "execution_count": 73
        }
      ],
      "source": [
        "# Modifying row by 1D array\n",
        "eg_arr[0, :] = np.array([100, 1000, 500, 900])\n",
        "eg_arr"
      ]
    },
    {
      "cell_type": "code",
      "execution_count": 74,
      "metadata": {
        "id": "3dK1nDR6sedc",
        "outputId": "6c9435cc-8ddd-43dc-de37-7a3b12a643dc",
        "colab": {
          "base_uri": "https://localhost:8080/"
        }
      },
      "outputs": [
        {
          "output_type": "execute_result",
          "data": {
            "text/plain": [
              "array([[ 100, 1000,  500, 1900],\n",
              "       [  52,   46,   35,   80],\n",
              "       [  99,   89,   33,   60]])"
            ]
          },
          "metadata": {},
          "execution_count": 74
        }
      ],
      "source": [
        "# Modifying row by 2D array\n",
        "eg_arr[0, :] = np.array([[100, 1000, 500, 1900]])\n",
        "eg_arr"
      ]
    },
    {
      "cell_type": "code",
      "execution_count": 75,
      "metadata": {
        "id": "XQ59c4ahsedc",
        "outputId": "a7d455a7-f107-4e63-8caa-0963248b3f56",
        "colab": {
          "base_uri": "https://localhost:8080/"
        }
      },
      "outputs": [
        {
          "output_type": "execute_result",
          "data": {
            "text/plain": [
              "array([[  100,  1000,   500,   -10],\n",
              "       [   52,    46,    35, -1000],\n",
              "       [   99,    89,    33,     9]])"
            ]
          },
          "metadata": {},
          "execution_count": 75
        }
      ],
      "source": [
        "# Modifying column\n",
        "eg_arr[:, -1] = np.array([-10, -1000, 9])\n",
        "eg_arr"
      ]
    },
    {
      "cell_type": "code",
      "execution_count": 76,
      "metadata": {
        "id": "UiS294fMsedc",
        "outputId": "72e66032-5f83-423f-f4e9-51669056c54c",
        "colab": {
          "base_uri": "https://localhost:8080/"
        }
      },
      "outputs": [
        {
          "output_type": "execute_result",
          "data": {
            "text/plain": [
              "array([[  100,  1000,   500,   -10],\n",
              "       [   52,   222,   222, -1000],\n",
              "       [   99,   222,   222,     9]])"
            ]
          },
          "metadata": {},
          "execution_count": 76
        }
      ],
      "source": [
        "# Modify slice by single value\n",
        "eg_arr[1:3, 1:3] = 222\n",
        "eg_arr"
      ]
    },
    {
      "cell_type": "code",
      "execution_count": 77,
      "metadata": {
        "id": "L651mzXasedc",
        "outputId": "d1d311c7-04df-44dd-c284-988882610bd3",
        "colab": {
          "base_uri": "https://localhost:8080/"
        }
      },
      "outputs": [
        {
          "output_type": "execute_result",
          "data": {
            "text/plain": [
              "array([[  100,  1000,   500,   -10],\n",
              "       [   52,  1000,  2000, -1000],\n",
              "       [   99,  3000,  4000,     9]])"
            ]
          },
          "metadata": {},
          "execution_count": 77
        }
      ],
      "source": [
        "# Modify slice by 2D array\n",
        "eg_arr[1:3, 1:3] = np.array([[1000, 2000], [3000, 4000]])\n",
        "eg_arr"
      ]
    },
    {
      "cell_type": "code",
      "execution_count": 78,
      "metadata": {
        "id": "hw45QFzdsedc",
        "outputId": "46c6c64b-8a13-40c6-8510-b86144d0ef72",
        "colab": {
          "base_uri": "https://localhost:8080/"
        }
      },
      "outputs": [
        {
          "output_type": "execute_result",
          "data": {
            "text/plain": [
              "array([[  -17,  1000,   500,   -17],\n",
              "       [   52,  1000,  2000, -1000],\n",
              "       [  -17,  3000,  4000,   -17]])"
            ]
          },
          "metadata": {},
          "execution_count": 78
        }
      ],
      "source": [
        "# Modify based on index arrays\n",
        "row_idx = np.array([0,2])\n",
        "col_idx = np.array([0,3])\n",
        "eg_arr[np.ix_(row_idx, col_idx)] = -17\n",
        "eg_arr"
      ]
    },
    {
      "cell_type": "code",
      "execution_count": 79,
      "metadata": {
        "id": "Vs3t9-o0sedd",
        "outputId": "858d239a-f5ca-4a77-bd0e-733b0493c35f",
        "colab": {
          "base_uri": "https://localhost:8080/"
        }
      },
      "outputs": [
        {
          "output_type": "execute_result",
          "data": {
            "text/plain": [
              "array([[   0, 1000,  500,    0],\n",
              "       [  52, 1000, 2000,    0],\n",
              "       [   0, 3000, 4000,    0]])"
            ]
          },
          "metadata": {},
          "execution_count": 79
        }
      ],
      "source": [
        "# Modify based on boolean expression\n",
        "eg_arr[eg_arr < 0] = 0\n",
        "eg_arr"
      ]
    },
    {
      "cell_type": "markdown",
      "metadata": {
        "id": "LIH-sqdQsedd"
      },
      "source": [
        "### Searching for elements"
      ]
    },
    {
      "cell_type": "code",
      "execution_count": 80,
      "metadata": {
        "id": "FSMc_x2Wsedd",
        "outputId": "5cfcb071-5905-4bd2-8d77-656c1537b303",
        "colab": {
          "base_uri": "https://localhost:8080/"
        }
      },
      "outputs": [
        {
          "output_type": "execute_result",
          "data": {
            "text/plain": [
              "array([[80, 96, 61, 37, 46, 13, 96, 95],\n",
              "       [20, 88, 72, 25, 34,  9, 34,  8],\n",
              "       [29, 69, 41, 94, 23, 14, 11,  0],\n",
              "       [87, 91, 93, 66, 72, 75, 27, 42],\n",
              "       [69, 73, 63, 39, 87, 84, 26, 15]])"
            ]
          },
          "metadata": {},
          "execution_count": 80
        }
      ],
      "source": [
        "rand_arr = np.random.randint(0, 100, (5, 8))\n",
        "rand_arr"
      ]
    },
    {
      "cell_type": "code",
      "execution_count": 81,
      "metadata": {
        "id": "32ntq9w_sedd",
        "outputId": "10507539-84c0-48f7-bc53-f41d342cf36a",
        "colab": {
          "base_uri": "https://localhost:8080/"
        }
      },
      "outputs": [
        {
          "output_type": "execute_result",
          "data": {
            "text/plain": [
              "(array([0, 0, 0, 0, 0, 0, 0, 0, 1, 1, 1, 1, 1, 1, 1, 1, 2, 2, 2, 2, 2, 2,\n",
              "        2, 3, 3, 3, 3, 3, 3, 3, 3, 4, 4, 4, 4, 4, 4, 4, 4]),\n",
              " array([0, 1, 2, 3, 4, 5, 6, 7, 0, 1, 2, 3, 4, 5, 6, 7, 0, 1, 2, 3, 4, 5,\n",
              "        6, 0, 1, 2, 3, 4, 5, 6, 7, 0, 1, 2, 3, 4, 5, 6, 7]))"
            ]
          },
          "metadata": {},
          "execution_count": 81
        }
      ],
      "source": [
        "# Find index of elements according to condition\n",
        "np.where(rand_arr > 5)"
      ]
    },
    {
      "cell_type": "code",
      "execution_count": 83,
      "metadata": {
        "id": "XN7_Q217sedd",
        "outputId": "38a5c6e1-4c0b-4a35-da5d-ab5808b2fe8c",
        "colab": {
          "base_uri": "https://localhost:8080/"
        }
      },
      "outputs": [
        {
          "output_type": "execute_result",
          "data": {
            "text/plain": [
              "(array([ 0,  8,  9, 11, 13, 14, 15, 20, 23, 25, 26, 27, 29, 34, 37, 39, 41,\n",
              "        42, 46, 61, 63, 66, 69, 72, 73, 75, 80, 84, 87, 88, 91, 93, 94, 95,\n",
              "        96]),\n",
              " (array([ 0,  8,  9, 11, 13, 14, 15, 20, 23, 25, 26, 27, 29, 34, 37, 39, 41,\n",
              "         42, 46, 61, 63, 66, 69, 72, 73, 75, 80, 84, 87, 88, 91, 93, 94, 95,\n",
              "         96]),\n",
              "  array([1, 1, 1, 1, 1, 1, 1, 1, 1, 1, 1, 1, 1, 2, 1, 1, 1, 1, 1, 1, 1, 1,\n",
              "         2, 2, 1, 1, 1, 1, 2, 1, 1, 1, 1, 1, 2])))"
            ]
          },
          "metadata": {},
          "execution_count": 83
        }
      ],
      "source": [
        "# Unique elements\n",
        "np.unique(rand_arr), np.unique(rand_arr, return_counts=True)"
      ]
    }
  ],
  "metadata": {
    "kernelspec": {
      "display_name": "test_env_2",
      "language": "python",
      "name": "python3"
    },
    "language_info": {
      "codemirror_mode": {
        "name": "ipython",
        "version": 3
      },
      "file_extension": ".py",
      "mimetype": "text/x-python",
      "name": "python",
      "nbconvert_exporter": "python",
      "pygments_lexer": "ipython3",
      "version": "3.11.3"
    },
    "orig_nbformat": 4,
    "colab": {
      "provenance": [],
      "toc_visible": true,
      "include_colab_link": true
    }
  },
  "nbformat": 4,
  "nbformat_minor": 0
}