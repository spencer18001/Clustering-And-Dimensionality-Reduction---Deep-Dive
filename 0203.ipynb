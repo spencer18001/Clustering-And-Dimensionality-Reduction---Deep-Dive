{
 "cells": [
  {
   "attachments": {},
   "cell_type": "markdown",
   "metadata": {},
   "source": [
    "## Numeric data types"
   ]
  },
  {
   "cell_type": "code",
   "execution_count": null,
   "metadata": {},
   "outputs": [],
   "source": [
    "# Integer\n",
    "num_int = 42\n",
    "print(num_int)\n",
    "print(type(num_int))"
   ]
  },
  {
   "cell_type": "code",
   "execution_count": null,
   "metadata": {},
   "outputs": [],
   "source": [
    "# Float\n",
    "num_float = 7.8\n",
    "print(num_float)\n",
    "print(type(num_float))"
   ]
  },
  {
   "attachments": {},
   "cell_type": "markdown",
   "metadata": {},
   "source": [
    "##### Basic operations"
   ]
  },
  {
   "cell_type": "code",
   "execution_count": null,
   "metadata": {},
   "outputs": [],
   "source": [
    "# Basic math operations\n",
    "print('Addition: {}'.format(10 + 3)) # Addition\n",
    "print('Subtraction: {}'.format(10 - 3)) # Subtraction\n",
    "print('Multiplication: {}'.format(10 * 3)) # Multiplication\n",
    "print('Division: {}'.format(10 / 3)) # Division"
   ]
  },
  {
   "cell_type": "code",
   "execution_count": null,
   "metadata": {},
   "outputs": [],
   "source": [
    "# Power has python specific operator\n",
    "print('Exponentiation: {}'.format(10 ** 3)) # Power"
   ]
  },
  {
   "cell_type": "code",
   "execution_count": null,
   "metadata": {},
   "outputs": [],
   "source": [
    "# Python supports other division based operators\n",
    "print('Modulus: {}'.format(10 % 3)) # Modulus\n",
    "print('Floor division: {}'.format(10 // 3)) # Floor division"
   ]
  },
  {
   "attachments": {},
   "cell_type": "markdown",
   "metadata": {},
   "source": [
    "##### Datatype conversion"
   ]
  },
  {
   "cell_type": "code",
   "execution_count": null,
   "metadata": {},
   "outputs": [],
   "source": [
    "num_int"
   ]
  },
  {
   "cell_type": "code",
   "execution_count": null,
   "metadata": {},
   "outputs": [],
   "source": [
    "# Float to int \n",
    "eg1 = float(num_int)\n",
    "print(type(eg1))\n",
    "print(eg1)"
   ]
  },
  {
   "cell_type": "code",
   "execution_count": null,
   "metadata": {},
   "outputs": [],
   "source": [
    "num_float"
   ]
  },
  {
   "cell_type": "code",
   "execution_count": null,
   "metadata": {},
   "outputs": [],
   "source": [
    "# Int to float\n",
    "eg2 = int(num_float)\n",
    "print(type(eg2))\n",
    "print(eg2)"
   ]
  },
  {
   "cell_type": "code",
   "execution_count": null,
   "metadata": {},
   "outputs": [],
   "source": [
    "# String to float\n",
    "eg3 = float('4.5a')\n",
    "print(type(eg3))\n",
    "print(eg3)"
   ]
  },
  {
   "cell_type": "code",
   "execution_count": null,
   "metadata": {},
   "outputs": [],
   "source": [
    "# Addition of int and float results in float\n",
    "num_int + num_float"
   ]
  },
  {
   "cell_type": "code",
   "execution_count": null,
   "metadata": {},
   "outputs": [],
   "source": [
    "# Division of ints results in float\n",
    "8/2"
   ]
  },
  {
   "cell_type": "markdown",
   "metadata": {},
   "source": [
    "### Modifying the value"
   ]
  },
  {
   "cell_type": "code",
   "execution_count": null,
   "metadata": {},
   "outputs": [],
   "source": [
    "a = 1"
   ]
  },
  {
   "cell_type": "code",
   "execution_count": null,
   "metadata": {},
   "outputs": [],
   "source": [
    "a = a + 2\n",
    "a"
   ]
  },
  {
   "cell_type": "code",
   "execution_count": null,
   "metadata": {},
   "outputs": [],
   "source": [
    "a += 10\n",
    "a"
   ]
  },
  {
   "attachments": {},
   "cell_type": "markdown",
   "metadata": {},
   "source": [
    "##### Math library"
   ]
  },
  {
   "cell_type": "code",
   "execution_count": null,
   "metadata": {},
   "outputs": [],
   "source": [
    "import math\n",
    "\n",
    "print('Square root of 16 is: {}'.format(math.sqrt(16)))      \n",
    "print('3 raised to the power of 3 is: {}'.format(math.pow(3, 3)))                 \n",
    "print('Absolute value of -10 is: {}'.format(math.fabs(-10)))        \n",
    "print('Factorial of 5 is: {}'.format(math.factorial(5)))     \n",
    "print('Natural logarithm of 2 is: {}'.format(math.log(2)))   \n",
    "print('Base-10 logarithm of 100 is: {}'.format(math.log10(100)))   \n",
    "print('Exponential of 1 is: {}'.format(math.exp(1)))         \n",
    "print('Value of the mathematical constant PI is: {}'.format(math.pi))                  \n",
    "print('Value of the mathematical constant E is: {}'.format(math.e))  \n"
   ]
  }
 ],
 "metadata": {
  "kernelspec": {
   "display_name": "test_env_2",
   "language": "python",
   "name": "python3"
  },
  "language_info": {
   "codemirror_mode": {
    "name": "ipython",
    "version": 3
   },
   "file_extension": ".py",
   "mimetype": "text/x-python",
   "name": "python",
   "nbconvert_exporter": "python",
   "pygments_lexer": "ipython3",
   "version": "3.11.3"
  },
  "orig_nbformat": 4
 },
 "nbformat": 4,
 "nbformat_minor": 2
}
