{
  "cells": [
    {
      "cell_type": "markdown",
      "metadata": {
        "id": "view-in-github",
        "colab_type": "text"
      },
      "source": [
        "<a href=\"https://colab.research.google.com/github/spencer18001/Clustering-And-Dimensionality-Reduction---Deep-Dive/blob/main/0203.ipynb\" target=\"_parent\"><img src=\"https://colab.research.google.com/assets/colab-badge.svg\" alt=\"Open In Colab\"/></a>"
      ]
    },
    {
      "cell_type": "markdown",
      "metadata": {
        "id": "fbAG6lvKmIpR"
      },
      "source": [
        "## Numeric data types"
      ]
    },
    {
      "cell_type": "code",
      "execution_count": null,
      "metadata": {
        "id": "F4JLa0eRmIpU",
        "outputId": "738b333e-ae02-4339-e7e3-5f1481eb2433",
        "colab": {
          "base_uri": "https://localhost:8080/"
        }
      },
      "outputs": [
        {
          "output_type": "stream",
          "name": "stdout",
          "text": [
            "42\n",
            "<class 'int'>\n"
          ]
        }
      ],
      "source": [
        "# Integer\n",
        "num_int = 42\n",
        "print(num_int)\n",
        "print(type(num_int))"
      ]
    },
    {
      "cell_type": "code",
      "execution_count": null,
      "metadata": {
        "id": "QM40cYKVmIpW",
        "outputId": "6134b1ab-86a5-4fde-b8f1-4a206fbeb1b9",
        "colab": {
          "base_uri": "https://localhost:8080/"
        }
      },
      "outputs": [
        {
          "output_type": "stream",
          "name": "stdout",
          "text": [
            "7.8\n",
            "<class 'float'>\n"
          ]
        }
      ],
      "source": [
        "# Float\n",
        "num_float = 7.8\n",
        "print(num_float)\n",
        "print(type(num_float))"
      ]
    },
    {
      "cell_type": "markdown",
      "metadata": {
        "id": "vRL3WCmPmIpW"
      },
      "source": [
        "##### Basic operations"
      ]
    },
    {
      "cell_type": "code",
      "execution_count": null,
      "metadata": {
        "id": "KseThYOwmIpX",
        "outputId": "ccaec421-fb96-454a-8862-80f148a0d337",
        "colab": {
          "base_uri": "https://localhost:8080/"
        }
      },
      "outputs": [
        {
          "output_type": "stream",
          "name": "stdout",
          "text": [
            "Addition: 13\n",
            "Subtraction: 7\n",
            "Multiplication: 30\n",
            "Division: 3.3333333333333335\n"
          ]
        }
      ],
      "source": [
        "# Basic math operations\n",
        "print('Addition: {}'.format(10 + 3)) # Addition\n",
        "print('Subtraction: {}'.format(10 - 3)) # Subtraction\n",
        "print('Multiplication: {}'.format(10 * 3)) # Multiplication\n",
        "print('Division: {}'.format(10 / 3)) # Division"
      ]
    },
    {
      "cell_type": "code",
      "execution_count": null,
      "metadata": {
        "id": "mMU_fo9-mIpX",
        "outputId": "aefe5bff-506c-4e69-80ca-1c2e9c10118f",
        "colab": {
          "base_uri": "https://localhost:8080/"
        }
      },
      "outputs": [
        {
          "output_type": "stream",
          "name": "stdout",
          "text": [
            "Exponentiation: 1000\n"
          ]
        }
      ],
      "source": [
        "# Power has python specific operator\n",
        "print('Exponentiation: {}'.format(10 ** 3)) # Power"
      ]
    },
    {
      "cell_type": "code",
      "execution_count": null,
      "metadata": {
        "id": "f5ukLsl5mIpY",
        "outputId": "b4474613-6705-40d4-8239-52884b9403c5",
        "colab": {
          "base_uri": "https://localhost:8080/"
        }
      },
      "outputs": [
        {
          "output_type": "stream",
          "name": "stdout",
          "text": [
            "Modulus: 1\n",
            "Floor division: 3\n"
          ]
        }
      ],
      "source": [
        "# Python supports other division based operators\n",
        "print('Modulus: {}'.format(10 % 3)) # Modulus\n",
        "print('Floor division: {}'.format(10 // 3)) # Floor division"
      ]
    },
    {
      "cell_type": "markdown",
      "metadata": {
        "id": "aUMxqboImIpY"
      },
      "source": [
        "##### Datatype conversion"
      ]
    },
    {
      "cell_type": "code",
      "execution_count": null,
      "metadata": {
        "id": "d8QNpqJ8mIpZ",
        "outputId": "ce12d8fb-e198-4181-8f81-e771190290e5",
        "colab": {
          "base_uri": "https://localhost:8080/"
        }
      },
      "outputs": [
        {
          "output_type": "execute_result",
          "data": {
            "text/plain": [
              "42"
            ]
          },
          "metadata": {},
          "execution_count": 7
        }
      ],
      "source": [
        "num_int"
      ]
    },
    {
      "cell_type": "code",
      "execution_count": null,
      "metadata": {
        "id": "IHJ2K2pzmIpZ",
        "outputId": "057bfd09-86f9-413d-a38d-bfab318e1502",
        "colab": {
          "base_uri": "https://localhost:8080/"
        }
      },
      "outputs": [
        {
          "output_type": "stream",
          "name": "stdout",
          "text": [
            "<class 'float'>\n",
            "42.0\n"
          ]
        }
      ],
      "source": [
        "# Float to int\n",
        "eg1 = float(num_int)\n",
        "print(type(eg1))\n",
        "print(eg1)"
      ]
    },
    {
      "cell_type": "code",
      "execution_count": null,
      "metadata": {
        "id": "r2VRcv93mIpa",
        "outputId": "158b5144-dd07-4320-d7ff-179cc589086e",
        "colab": {
          "base_uri": "https://localhost:8080/"
        }
      },
      "outputs": [
        {
          "output_type": "execute_result",
          "data": {
            "text/plain": [
              "7.8"
            ]
          },
          "metadata": {},
          "execution_count": 9
        }
      ],
      "source": [
        "num_float"
      ]
    },
    {
      "cell_type": "code",
      "execution_count": null,
      "metadata": {
        "id": "nYOnkMITmIpa",
        "outputId": "514d33c3-d963-41cd-f26d-20f0cc0e5b1e",
        "colab": {
          "base_uri": "https://localhost:8080/"
        }
      },
      "outputs": [
        {
          "output_type": "stream",
          "name": "stdout",
          "text": [
            "<class 'int'>\n",
            "7\n"
          ]
        }
      ],
      "source": [
        "# Int to float\n",
        "eg2 = int(num_float)\n",
        "print(type(eg2))\n",
        "print(eg2)"
      ]
    },
    {
      "cell_type": "code",
      "execution_count": null,
      "metadata": {
        "id": "A3DBoFjbmIpb",
        "outputId": "50a12cf4-7486-4a20-f65c-716c9befe0e6",
        "colab": {
          "base_uri": "https://localhost:8080/",
          "height": 193
        }
      },
      "outputs": [
        {
          "output_type": "error",
          "ename": "ValueError",
          "evalue": "could not convert string to float: '4.5a'",
          "traceback": [
            "\u001b[0;31m---------------------------------------------------------------------------\u001b[0m",
            "\u001b[0;31mValueError\u001b[0m                                Traceback (most recent call last)",
            "\u001b[0;32m<ipython-input-11-a7585d2fadb6>\u001b[0m in \u001b[0;36m<cell line: 2>\u001b[0;34m()\u001b[0m\n\u001b[1;32m      1\u001b[0m \u001b[0;31m# String to float\u001b[0m\u001b[0;34m\u001b[0m\u001b[0;34m\u001b[0m\u001b[0m\n\u001b[0;32m----> 2\u001b[0;31m \u001b[0meg3\u001b[0m \u001b[0;34m=\u001b[0m \u001b[0mfloat\u001b[0m\u001b[0;34m(\u001b[0m\u001b[0;34m'4.5a'\u001b[0m\u001b[0;34m)\u001b[0m\u001b[0;34m\u001b[0m\u001b[0;34m\u001b[0m\u001b[0m\n\u001b[0m\u001b[1;32m      3\u001b[0m \u001b[0mprint\u001b[0m\u001b[0;34m(\u001b[0m\u001b[0mtype\u001b[0m\u001b[0;34m(\u001b[0m\u001b[0meg3\u001b[0m\u001b[0;34m)\u001b[0m\u001b[0;34m)\u001b[0m\u001b[0;34m\u001b[0m\u001b[0;34m\u001b[0m\u001b[0m\n\u001b[1;32m      4\u001b[0m \u001b[0mprint\u001b[0m\u001b[0;34m(\u001b[0m\u001b[0meg3\u001b[0m\u001b[0;34m)\u001b[0m\u001b[0;34m\u001b[0m\u001b[0;34m\u001b[0m\u001b[0m\n",
            "\u001b[0;31mValueError\u001b[0m: could not convert string to float: '4.5a'"
          ]
        }
      ],
      "source": [
        "# String to float\n",
        "eg3 = float('4.5a')\n",
        "print(type(eg3))\n",
        "print(eg3)"
      ]
    },
    {
      "cell_type": "code",
      "execution_count": null,
      "metadata": {
        "id": "_iiICy4nmIpb",
        "outputId": "f874e7a9-e3ae-4118-f543-5acd684fde3b",
        "colab": {
          "base_uri": "https://localhost:8080/"
        }
      },
      "outputs": [
        {
          "output_type": "execute_result",
          "data": {
            "text/plain": [
              "49.8"
            ]
          },
          "metadata": {},
          "execution_count": 12
        }
      ],
      "source": [
        "# Addition of int and float results in float\n",
        "num_int + num_float"
      ]
    },
    {
      "cell_type": "code",
      "execution_count": null,
      "metadata": {
        "id": "MBdIfSM8mIpb",
        "outputId": "97322da7-cafa-4062-aba2-9879d80b0e88",
        "colab": {
          "base_uri": "https://localhost:8080/"
        }
      },
      "outputs": [
        {
          "output_type": "execute_result",
          "data": {
            "text/plain": [
              "4.0"
            ]
          },
          "metadata": {},
          "execution_count": 13
        }
      ],
      "source": [
        "# !!!!!\n",
        "# Division of ints results in float\n",
        "8/2"
      ]
    },
    {
      "cell_type": "markdown",
      "metadata": {
        "id": "J8I_xyIcmIpc"
      },
      "source": [
        "### Modifying the value"
      ]
    },
    {
      "cell_type": "code",
      "execution_count": null,
      "metadata": {
        "id": "GCKiFxafmIpc"
      },
      "outputs": [],
      "source": [
        "a = 1"
      ]
    },
    {
      "cell_type": "code",
      "execution_count": null,
      "metadata": {
        "id": "RIqiYXcGmIpc",
        "outputId": "f4920a21-31ef-4ae2-cea2-39af72bf7864",
        "colab": {
          "base_uri": "https://localhost:8080/"
        }
      },
      "outputs": [
        {
          "output_type": "execute_result",
          "data": {
            "text/plain": [
              "3"
            ]
          },
          "metadata": {},
          "execution_count": 15
        }
      ],
      "source": [
        "a = a + 2\n",
        "a"
      ]
    },
    {
      "cell_type": "code",
      "execution_count": null,
      "metadata": {
        "id": "V8Hq0Cb3mIpc",
        "outputId": "4b4afd98-71e3-430a-d521-4563dfce63e9",
        "colab": {
          "base_uri": "https://localhost:8080/"
        }
      },
      "outputs": [
        {
          "output_type": "execute_result",
          "data": {
            "text/plain": [
              "13"
            ]
          },
          "metadata": {},
          "execution_count": 16
        }
      ],
      "source": [
        "a += 10\n",
        "a"
      ]
    },
    {
      "cell_type": "markdown",
      "metadata": {
        "id": "WQNnle8ymIpc"
      },
      "source": [
        "##### Math library"
      ]
    },
    {
      "cell_type": "code",
      "execution_count": null,
      "metadata": {
        "id": "tSyK_B9rmIpd",
        "outputId": "47c91dae-1cb5-4825-d814-ef793acd6327",
        "colab": {
          "base_uri": "https://localhost:8080/"
        }
      },
      "outputs": [
        {
          "output_type": "stream",
          "name": "stdout",
          "text": [
            "Square root of 16 is: 4.0\n",
            "3 raised to the power of 3 is: 27.0\n",
            "Absolute value of -10 is: 10.0\n",
            "Factorial of 5 is: 120\n",
            "Natural logarithm of 2 is: 0.6931471805599453\n",
            "Base-10 logarithm of 100 is: 2.0\n",
            "Exponential of 1 is: 2.718281828459045\n",
            "Value of the mathematical constant PI is: 3.141592653589793\n",
            "Value of the mathematical constant E is: 2.718281828459045\n"
          ]
        }
      ],
      "source": [
        "import math\n",
        "\n",
        "print('Square root of 16 is: {}'.format(math.sqrt(16)))\n",
        "print('3 raised to the power of 3 is: {}'.format(math.pow(3, 3)))\n",
        "print('Absolute value of -10 is: {}'.format(math.fabs(-10))) # !!!!!\n",
        "print('Factorial of 5 is: {}'.format(math.factorial(5)))\n",
        "print('Natural logarithm of 2 is: {}'.format(math.log(2)))\n",
        "print('Base-10 logarithm of 100 is: {}'.format(math.log10(100)))\n",
        "print('Exponential of 1 is: {}'.format(math.exp(1)))\n",
        "print('Value of the mathematical constant PI is: {}'.format(math.pi))\n",
        "print('Value of the mathematical constant E is: {}'.format(math.e))"
      ]
    },
    {
      "cell_type": "code",
      "source": [],
      "metadata": {
        "id": "0oAb24dLm9op"
      },
      "execution_count": null,
      "outputs": []
    }
  ],
  "metadata": {
    "kernelspec": {
      "display_name": "test_env_2",
      "language": "python",
      "name": "python3"
    },
    "language_info": {
      "codemirror_mode": {
        "name": "ipython",
        "version": 3
      },
      "file_extension": ".py",
      "mimetype": "text/x-python",
      "name": "python",
      "nbconvert_exporter": "python",
      "pygments_lexer": "ipython3",
      "version": "3.11.3"
    },
    "orig_nbformat": 4,
    "colab": {
      "provenance": [],
      "include_colab_link": true
    }
  },
  "nbformat": 4,
  "nbformat_minor": 0
}