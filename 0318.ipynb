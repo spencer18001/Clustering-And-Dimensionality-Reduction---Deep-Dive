{
 "cells": [
  {
   "cell_type": "markdown",
   "metadata": {},
   "source": [
    "## Operations on multiple data frames/series\n"
   ]
  },
  {
   "cell_type": "code",
   "execution_count": null,
   "metadata": {},
   "outputs": [],
   "source": [
    "import pandas as pd\n",
    "import numpy as np"
   ]
  },
  {
   "cell_type": "code",
   "execution_count": null,
   "metadata": {},
   "outputs": [],
   "source": [
    "data_dict_1 = {\n",
    "    'A': {0: 10, 1: 20, 2: 30, 3: 40, 4: 50, 5: 60},\n",
    "    'B': {0: 1, 1: 2, 2: 3, 3: 4, 4: 5, 5: 6},\n",
    "    'C': {0: 'Yes', 1: 'No', 2: 'Cat', 3: 'Dog', 4: 'Rabbit', 5: 'Fish'},\n",
    "    'D': {0: 'Thur', 1: 'Sun', 2: 'Thur', 3: 'Fri', 4: 'Sun', 5: 'Thur'},\n",
    "    'E': {0: True, 1: False, 2: False, 3: False, 4: True, 5: False},\n",
    "    'F': {0: True, 1: False, 2: False, 3: False, 4: True, 5: False},\n",
    "    'G': {0: 6.7, 1: 2.2, 2: 3.4, 3: 11.1, 4: 12, 5: 22}\n",
    "}\n",
    "\n",
    "data_dict_2 = {\n",
    "    'A': {0: 15, 1: 25, 2: 35, 3: 45, 4: 55, 5: 65},\n",
    "    'B': {0: 2, 1: 3, 2: 4, 3: 5, 4: 6, 5: 7},\n",
    "    'C': {0: 'No', 1: 'Yes', 2: 'Mouse', 3: 'Cat', 4: 'Dog', 5: 'Bird'},\n",
    "    'D': {0: 'Mon', 1: 'Tue', 2: 'Wed', 3: 'Thur', 4: 'Fri', 5: 'Sat'},\n",
    "    'E':  {0: False, 1: True, 2: True, 3: False, 4: True, 5: False},\n",
    "    'F': {0: True, 1: False, 2: False, 3: False, 4: True, 5: False},\n",
    "}"
   ]
  },
  {
   "cell_type": "code",
   "execution_count": null,
   "metadata": {},
   "outputs": [],
   "source": [
    "base_df_1 = pd.DataFrame(data_dict_1)\n",
    "\n",
    "base_df_1"
   ]
  },
  {
   "cell_type": "code",
   "execution_count": null,
   "metadata": {},
   "outputs": [],
   "source": [
    "base_df_2 = pd.DataFrame(data_dict_2)\n",
    "\n",
    "base_df_2"
   ]
  },
  {
   "cell_type": "markdown",
   "metadata": {},
   "source": [
    "### Two data frames"
   ]
  },
  {
   "cell_type": "code",
   "execution_count": null,
   "metadata": {},
   "outputs": [],
   "source": [
    "df1 = base_df_1[['A', 'B']]\n",
    "df2 = base_df_2[['A', 'B']]\n",
    "df3 = df1 + df2\n",
    "\n",
    "print('First df : ')\n",
    "display(df1)\n",
    "print('Second df :')\n",
    "display(df2)\n",
    "print('Result :')\n",
    "display(df3)"
   ]
  },
  {
   "cell_type": "code",
   "execution_count": null,
   "metadata": {},
   "outputs": [],
   "source": [
    "# Non matching columns\n",
    "\n",
    "df1 = base_df_1[['G', 'B']]\n",
    "bf2 = base_df_2[['A', 'B']]\n",
    "df3 = df1 + df2\n",
    "\n",
    "print('First df : ')\n",
    "display(df1)\n",
    "print('Second df :')\n",
    "display(df2)\n",
    "print('Result :')\n",
    "display(df3)"
   ]
  },
  {
   "cell_type": "code",
   "execution_count": null,
   "metadata": {},
   "outputs": [],
   "source": [
    "# Non matching indexes\n",
    "\n",
    "df1 = base_df_1[['A', 'B']]\n",
    "df1.index = [0, 1, 2, 3, 10, 11]\n",
    "bf2 = base_df_2[['A', 'B']]\n",
    "df3 = df1 + df2\n",
    "\n",
    "print('First df : ')\n",
    "display(df1)\n",
    "print('Second df :')\n",
    "display(df2)\n",
    "print('Result :')\n",
    "display(df3)"
   ]
  },
  {
   "cell_type": "code",
   "execution_count": null,
   "metadata": {},
   "outputs": [],
   "source": [
    "# Matching is performed based on index and column names\n",
    "\n",
    "df1 = base_df_1[['A', 'B']]\n",
    "df1.index = [5,4,3,2,1,0]\n",
    "df2 = base_df_2[['B', 'A']]\n",
    "df3 = df1 + df2\n",
    "\n",
    "print('First df : ')\n",
    "display(df1)\n",
    "print('Second df :')\n",
    "display(df2)\n",
    "print('Result :')\n",
    "display(df3)"
   ]
  },
  {
   "cell_type": "code",
   "execution_count": null,
   "metadata": {},
   "outputs": [],
   "source": [
    "# Operations between string columns\n",
    "\n",
    "df1= base_df_1[['C', 'D']]\n",
    "df2 = base_df_2[['C', 'D']]\n",
    "df3 = df1 + '_' + df2\n",
    "\n",
    "print('First df : ')\n",
    "display(df1)\n",
    "print('Second df :')\n",
    "display(df2)\n",
    "print('Result :')\n",
    "display(df3)"
   ]
  },
  {
   "cell_type": "code",
   "execution_count": null,
   "metadata": {},
   "outputs": [],
   "source": [
    "# Operations between boolean formats\n",
    "\n",
    "df1= base_df_1[['E', 'F']]\n",
    "df2 = base_df_2[['E', 'F']]\n",
    "df3 = df1 | df2\n",
    "\n",
    "print('First df : ')\n",
    "display(df1)\n",
    "print('Second df :')\n",
    "display(df2)\n",
    "print('Result :')\n",
    "display(df3)"
   ]
  },
  {
   "cell_type": "markdown",
   "metadata": {},
   "source": [
    "### Pandas functions"
   ]
  },
  {
   "cell_type": "code",
   "execution_count": null,
   "metadata": {},
   "outputs": [],
   "source": [
    "df1= base_df_1[['A', 'B']]\n",
    "df1.index = [0, 1, 2, 3, 10, 11]\n",
    "df2 = base_df_2[['A', 'B']]\n",
    "df3 = df1.add(df2, fill_value=0)\n",
    "\n",
    "print('First df : ')\n",
    "display(df1)\n",
    "print('Second df :')\n",
    "display(df2)\n",
    "print('Result :')\n",
    "display(df3)"
   ]
  },
  {
   "cell_type": "markdown",
   "metadata": {},
   "source": [
    "### Pandas series"
   ]
  },
  {
   "cell_type": "code",
   "execution_count": null,
   "metadata": {},
   "outputs": [],
   "source": [
    "# Summing series\n",
    "\n",
    "se1= base_df_1['B']\n",
    "se2 = base_df_2['A']\n",
    "se3 = se1 + se2\n",
    "\n",
    "print('First se : ')\n",
    "display(se1)\n",
    "print('Second se :')\n",
    "display(se2)\n",
    "print('Result :')\n",
    "display(se3)"
   ]
  },
  {
   "cell_type": "code",
   "execution_count": null,
   "metadata": {},
   "outputs": [],
   "source": [
    "# Non matching indexes\n",
    "\n",
    "se1= base_df_1['B']\n",
    "se1.index = [0, 1, 2, 3, 10, 11]\n",
    "se2 = base_df_2['A']\n",
    "se3 = se1 + se2\n",
    "\n",
    "print('First se : ')\n",
    "display(se1)\n",
    "print('Second se :')\n",
    "display(se2)\n",
    "print('Result :')\n",
    "display(se3)"
   ]
  },
  {
   "cell_type": "markdown",
   "metadata": {},
   "source": [
    "### Pandas series and data frames"
   ]
  },
  {
   "cell_type": "code",
   "execution_count": null,
   "metadata": {},
   "outputs": [],
   "source": [
    "df1 = base_df_1[['A', 'B']]\n",
    "\n",
    "se1 = pd.Series([100, 200], index=['A', 'B'])\n",
    "\n",
    "df3 = df1 + se1\n",
    "\n",
    "print('Data frame : ')\n",
    "display(df1)\n",
    "print('Data series :')\n",
    "display(se1)\n",
    "print('Result :')\n",
    "display(df3)"
   ]
  },
  {
   "cell_type": "code",
   "execution_count": null,
   "metadata": {},
   "outputs": [],
   "source": [
    "df3 = df1.add(se1, axis=1)\n",
    "df3\n",
    "\n",
    "print('Data frame : ')\n",
    "display(df1)\n",
    "print('Data series :')\n",
    "display(se1)\n",
    "print('Result :')\n",
    "display(df3)"
   ]
  },
  {
   "cell_type": "code",
   "execution_count": null,
   "metadata": {},
   "outputs": [],
   "source": [
    "df1= base_df_1[['A', 'B']]\n",
    "\n",
    "se1 = pd.Series([100, 200, 300, 400, 500, 600])\n",
    "\n",
    "df3 = df1.add(se1, axis=0)\n",
    "\n",
    "print('Data frame : ')\n",
    "display(df1)\n",
    "print('Data series :')\n",
    "display(se1)\n",
    "print('Result :')\n",
    "display(df3)"
   ]
  },
  {
   "cell_type": "markdown",
   "metadata": {},
   "source": [
    "### Merging"
   ]
  },
  {
   "cell_type": "code",
   "execution_count": null,
   "metadata": {},
   "outputs": [],
   "source": [
    "# Axis = 0\n",
    "\n",
    "df1 = base_df_1[['A', 'B']]\n",
    "df2 = base_df_2[['A', 'B']]\n",
    "df3 = pd.concat([df1, df2], axis=0)\n",
    "\n",
    "print('First df : ')\n",
    "display(df1)\n",
    "print('Second df :')\n",
    "display(df2)\n",
    "print('Result :')\n",
    "display(df3)"
   ]
  },
  {
   "cell_type": "code",
   "execution_count": null,
   "metadata": {},
   "outputs": [],
   "source": [
    "# Ignore index\n",
    "\n",
    "df1 = base_df_1[['A', 'B']]\n",
    "df2 = base_df_2[['A', 'B']]\n",
    "df3 = pd.concat([df1, df2], axis=0, ignore_index=True)\n",
    "\n",
    "print('First df : ')\n",
    "display(df1)\n",
    "print('Second df :')\n",
    "display(df2)\n",
    "print('Result :')\n",
    "display(df3)"
   ]
  },
  {
   "cell_type": "code",
   "execution_count": null,
   "metadata": {},
   "outputs": [],
   "source": [
    "# Axis = 1\n",
    "\n",
    "df1 = base_df_1[['A', 'B']]\n",
    "df2 = base_df_2[['A', 'B']]\n",
    "df3 = pd.concat([df1, df2], axis=1)\n",
    "\n",
    "print('First df : ')\n",
    "display(df1)\n",
    "print('Second df :')\n",
    "display(df2)\n",
    "print('Result :')\n",
    "display(df3)"
   ]
  },
  {
   "cell_type": "code",
   "execution_count": null,
   "metadata": {},
   "outputs": [],
   "source": [
    "# Non matching columns\n",
    "\n",
    "df1 = base_df_1[['A', 'B', 'C']]\n",
    "df2 = base_df_2[['A', 'B']]\n",
    "df3 = pd.concat([df1, df2], axis=0)\n",
    "\n",
    "print('First df : ')\n",
    "display(df1)\n",
    "print('Second df :')\n",
    "display(df2)\n",
    "print('Result :')\n",
    "display(df3)"
   ]
  },
  {
   "cell_type": "code",
   "execution_count": null,
   "metadata": {},
   "outputs": [],
   "source": [
    "# Data frame and series\n",
    "\n",
    "df1 = base_df_1[['A', 'B']]\n",
    "\n",
    "se1 = pd.Series([100, 200, 300, 400, 500, 600])\n",
    "\n",
    "df3 = pd.concat([df1, se1], axis=1)\n",
    "\n",
    "print('Data frame : ')\n",
    "display(df1)\n",
    "print('Data series :')\n",
    "display(se1)\n",
    "print('Result :')\n",
    "display(df3)"
   ]
  },
  {
   "cell_type": "code",
   "execution_count": null,
   "metadata": {},
   "outputs": [],
   "source": [
    "# Two pandas series\n",
    "\n",
    "se1 = pd.Series([100, 200, 300, 400, 500, 600], name=0)\n",
    "\n",
    "se2 = pd.Series([1000, 2000, 3000, 4000, 500, 600], name=1)\n",
    "\n",
    "\n",
    "df3 = pd.concat([se1, se2], axis=1)\n",
    "\n",
    "print('se1 : ')\n",
    "display(se1)\n",
    "print('se2 :')\n",
    "display(se2)\n",
    "print('Result :')\n",
    "display(df3)"
   ]
  }
 ],
 "metadata": {
  "kernelspec": {
   "display_name": "test_env_2",
   "language": "python",
   "name": "python3"
  },
  "language_info": {
   "codemirror_mode": {
    "name": "ipython",
    "version": 3
   },
   "file_extension": ".py",
   "mimetype": "text/x-python",
   "name": "python",
   "nbconvert_exporter": "python",
   "pygments_lexer": "ipython3",
   "version": "3.11.3"
  },
  "orig_nbformat": 4
 },
 "nbformat": 4,
 "nbformat_minor": 2
}
