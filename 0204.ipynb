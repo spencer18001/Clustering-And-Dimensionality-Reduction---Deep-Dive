{
 "cells": [
  {
   "attachments": {},
   "cell_type": "markdown",
   "metadata": {},
   "source": [
    "## Boolean datatype"
   ]
  },
  {
   "cell_type": "code",
   "execution_count": null,
   "metadata": {},
   "outputs": [],
   "source": [
    "true_val = True\n",
    "false_val = False\n",
    "\n",
    "print(type(true_val))\n",
    "print(type(false_val))"
   ]
  },
  {
   "attachments": {},
   "cell_type": "markdown",
   "metadata": {},
   "source": [
    "##### Comparison operators"
   ]
  },
  {
   "cell_type": "code",
   "execution_count": null,
   "metadata": {},
   "outputs": [],
   "source": [
    "print('Is 10 equal to 10?: {}'.format(10 == 10))              # Equal to\n",
    "print('Is 10 not equal to 5?: {}'.format(10 != 5))            # Not equal to\n",
    "print('Is 10 greater than 5?: {}'.format(10 > 5))             # Greater than\n",
    "print('Is 10 less than 5?: {}'.format(10 < 5))                # Less than\n",
    "print('Is 10 greater or equal to 10?: {}'.format(10 >= 10))   # Greater than or equal to\n",
    "print('Is 10 less than or equal to 5?: {}'.format(10 <= 5))   # Less than or equal to"
   ]
  },
  {
   "attachments": {},
   "cell_type": "markdown",
   "metadata": {},
   "source": [
    "##### IF statements"
   ]
  },
  {
   "cell_type": "code",
   "execution_count": null,
   "metadata": {},
   "outputs": [],
   "source": [
    "temperature = 30"
   ]
  },
  {
   "cell_type": "code",
   "execution_count": null,
   "metadata": {},
   "outputs": [],
   "source": [
    "temperature > 25"
   ]
  },
  {
   "cell_type": "code",
   "execution_count": null,
   "metadata": {},
   "outputs": [],
   "source": [
    "# Basic if statement\n",
    "\n",
    "if temperature > 35:\n",
    "    print('It is hot outside.')"
   ]
  },
  {
   "cell_type": "code",
   "execution_count": null,
   "metadata": {},
   "outputs": [],
   "source": [
    "# Basic if-else statement \n",
    "\n",
    "temperature = 20\n",
    "\n",
    "if temperature > 25:\n",
    "    print('It is hot outside.')\n",
    "\n",
    "else:\n",
    "    print('It is not hot inside.')"
   ]
  },
  {
   "cell_type": "code",
   "execution_count": null,
   "metadata": {},
   "outputs": [],
   "source": [
    "# Nested IF statements \n",
    "\n",
    "temperature = 16\n",
    "if temperature > 25:\n",
    "    print('It is hot outside.')\n",
    "else:\n",
    "    if temperature > 15:\n",
    "        print('It is not hot outside.')    \n",
    "    else:\n",
    "        print('It is cold outside.')"
   ]
  },
  {
   "cell_type": "code",
   "execution_count": null,
   "metadata": {},
   "outputs": [],
   "source": [
    "# Elif - more elegand way to implement\n",
    "# the same logic\n",
    "\n",
    "temperature = 16\n",
    "if temperature > 25:\n",
    "    print('It is hot outside.')\n",
    "elif temperature > 15:\n",
    "    print('It is not hot outside.')\n",
    "else:\n",
    "    print('It is cold outside.')"
   ]
  },
  {
   "attachments": {},
   "cell_type": "markdown",
   "metadata": {},
   "source": [
    "##### Boolean operators"
   ]
  },
  {
   "cell_type": "code",
   "execution_count": null,
   "metadata": {},
   "outputs": [],
   "source": [
    "# Classical and\n",
    "print('True and False is: {}'.format(True and False)) \n",
    "\n",
    "# Bitwise and\n",
    "print('True and False is: {}'.format(True & False)) "
   ]
  },
  {
   "cell_type": "code",
   "execution_count": null,
   "metadata": {},
   "outputs": [],
   "source": [
    "# Classical or\n",
    "print('True or False is: {}'.format(True or False)) \n",
    "\n",
    "# Bitwise or\n",
    "print('True or False is: {}'.format(True | False)) "
   ]
  },
  {
   "cell_type": "code",
   "execution_count": null,
   "metadata": {},
   "outputs": [],
   "source": [
    "print('Not True is: {}'.format(not True)) "
   ]
  },
  {
   "cell_type": "code",
   "execution_count": null,
   "metadata": {},
   "outputs": [],
   "source": [
    "# If statement with boolean operator\n",
    "temperature = 30\n",
    "is_summer = True\n",
    "if temperature > 25 and is_summer:\n",
    "    print('It is a hot summer day.') "
   ]
  }
 ],
 "metadata": {
  "kernelspec": {
   "display_name": "test_env_2",
   "language": "python",
   "name": "python3"
  },
  "language_info": {
   "codemirror_mode": {
    "name": "ipython",
    "version": 3
   },
   "file_extension": ".py",
   "mimetype": "text/x-python",
   "name": "python",
   "nbconvert_exporter": "python",
   "pygments_lexer": "ipython3",
   "version": "3.11.3"
  },
  "orig_nbformat": 4
 },
 "nbformat": 4,
 "nbformat_minor": 2
}
