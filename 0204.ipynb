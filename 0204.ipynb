{
  "cells": [
    {
      "cell_type": "markdown",
      "metadata": {
        "id": "view-in-github",
        "colab_type": "text"
      },
      "source": [
        "<a href=\"https://colab.research.google.com/github/spencer18001/Clustering-And-Dimensionality-Reduction---Deep-Dive/blob/main/0204.ipynb\" target=\"_parent\"><img src=\"https://colab.research.google.com/assets/colab-badge.svg\" alt=\"Open In Colab\"/></a>"
      ]
    },
    {
      "cell_type": "markdown",
      "metadata": {
        "id": "-cd1cYyBnbsQ"
      },
      "source": [
        "## Boolean datatype"
      ]
    },
    {
      "cell_type": "code",
      "execution_count": 1,
      "metadata": {
        "id": "zZh2gmzlnbsX",
        "outputId": "ce16f494-c6b7-4697-c3f3-308479aba67e",
        "colab": {
          "base_uri": "https://localhost:8080/"
        }
      },
      "outputs": [
        {
          "output_type": "stream",
          "name": "stdout",
          "text": [
            "<class 'bool'>\n",
            "<class 'bool'>\n"
          ]
        }
      ],
      "source": [
        "true_val = True\n",
        "false_val = False\n",
        "\n",
        "print(type(true_val))\n",
        "print(type(false_val))"
      ]
    },
    {
      "cell_type": "markdown",
      "metadata": {
        "id": "7BeaPi6Mnbsa"
      },
      "source": [
        "##### Comparison operators"
      ]
    },
    {
      "cell_type": "code",
      "execution_count": 2,
      "metadata": {
        "id": "aZKpQhzhnbsb",
        "outputId": "279ed29e-9e77-4b3f-e38e-810cfa794513",
        "colab": {
          "base_uri": "https://localhost:8080/"
        }
      },
      "outputs": [
        {
          "output_type": "stream",
          "name": "stdout",
          "text": [
            "Is 10 equal to 10?: True\n",
            "Is 10 not equal to 5?: True\n",
            "Is 10 greater than 5?: True\n",
            "Is 10 less than 5?: False\n",
            "Is 10 greater or equal to 10?: True\n",
            "Is 10 less than or equal to 5?: False\n"
          ]
        }
      ],
      "source": [
        "print('Is 10 equal to 10?: {}'.format(10 == 10))              # Equal to\n",
        "print('Is 10 not equal to 5?: {}'.format(10 != 5))            # Not equal to\n",
        "print('Is 10 greater than 5?: {}'.format(10 > 5))             # Greater than\n",
        "print('Is 10 less than 5?: {}'.format(10 < 5))                # Less than\n",
        "print('Is 10 greater or equal to 10?: {}'.format(10 >= 10))   # Greater than or equal to\n",
        "print('Is 10 less than or equal to 5?: {}'.format(10 <= 5))   # Less than or equal to"
      ]
    },
    {
      "cell_type": "markdown",
      "metadata": {
        "id": "DkVq5w5Dnbsc"
      },
      "source": [
        "##### IF statements"
      ]
    },
    {
      "cell_type": "code",
      "execution_count": 3,
      "metadata": {
        "id": "VwNTkaJ9nbsc"
      },
      "outputs": [],
      "source": [
        "temperature = 30"
      ]
    },
    {
      "cell_type": "code",
      "execution_count": 4,
      "metadata": {
        "id": "5gcrtmh9nbsd",
        "outputId": "c4e17797-086f-436d-9862-c04309553287",
        "colab": {
          "base_uri": "https://localhost:8080/"
        }
      },
      "outputs": [
        {
          "output_type": "execute_result",
          "data": {
            "text/plain": [
              "True"
            ]
          },
          "metadata": {},
          "execution_count": 4
        }
      ],
      "source": [
        "temperature > 25"
      ]
    },
    {
      "cell_type": "code",
      "execution_count": 5,
      "metadata": {
        "id": "VmEn2h5pnbse"
      },
      "outputs": [],
      "source": [
        "# Basic if statement\n",
        "\n",
        "if temperature > 35:\n",
        "    print('It is hot outside.')"
      ]
    },
    {
      "cell_type": "code",
      "execution_count": 6,
      "metadata": {
        "id": "Gle6kwN1nbsf",
        "outputId": "030bede4-49b5-4a60-a565-afad3bd2399a",
        "colab": {
          "base_uri": "https://localhost:8080/"
        }
      },
      "outputs": [
        {
          "output_type": "stream",
          "name": "stdout",
          "text": [
            "It is not hot inside.\n"
          ]
        }
      ],
      "source": [
        "# Basic if-else statement\n",
        "\n",
        "temperature = 20\n",
        "\n",
        "if temperature > 25:\n",
        "    print('It is hot outside.')\n",
        "else:\n",
        "    print('It is not hot inside.')"
      ]
    },
    {
      "cell_type": "code",
      "execution_count": 7,
      "metadata": {
        "id": "OlJV6WZPnbsg",
        "outputId": "400f31f0-a6b7-41cd-beee-784afe131501",
        "colab": {
          "base_uri": "https://localhost:8080/"
        }
      },
      "outputs": [
        {
          "output_type": "stream",
          "name": "stdout",
          "text": [
            "It is not hot outside.\n"
          ]
        }
      ],
      "source": [
        "# Nested IF statements\n",
        "\n",
        "temperature = 16\n",
        "if temperature > 25:\n",
        "    print('It is hot outside.')\n",
        "else:\n",
        "    if temperature > 15:\n",
        "        print('It is not hot outside.')\n",
        "    else:\n",
        "        print('It is cold outside.')"
      ]
    },
    {
      "cell_type": "code",
      "execution_count": 8,
      "metadata": {
        "id": "icmNNUJenbsh",
        "outputId": "056f6c24-39bf-4a59-c750-d4985c8d9958",
        "colab": {
          "base_uri": "https://localhost:8080/"
        }
      },
      "outputs": [
        {
          "output_type": "stream",
          "name": "stdout",
          "text": [
            "It is not hot outside.\n"
          ]
        }
      ],
      "source": [
        "# Elif - more elegand way to implement the same logic\n",
        "\n",
        "temperature = 16\n",
        "if temperature > 25:\n",
        "    print('It is hot outside.')\n",
        "elif temperature > 15:\n",
        "    print('It is not hot outside.')\n",
        "else:\n",
        "    print('It is cold outside.')"
      ]
    },
    {
      "cell_type": "markdown",
      "metadata": {
        "id": "T1AVucWPnbsi"
      },
      "source": [
        "##### Boolean operators"
      ]
    },
    {
      "cell_type": "code",
      "execution_count": 9,
      "metadata": {
        "id": "A0PocuxZnbsi",
        "outputId": "5cc3796f-9b80-44d7-aee2-8ac62510d331",
        "colab": {
          "base_uri": "https://localhost:8080/"
        }
      },
      "outputs": [
        {
          "output_type": "stream",
          "name": "stdout",
          "text": [
            "True and False is: False\n",
            "True and False is: False\n"
          ]
        }
      ],
      "source": [
        "# Classical and\n",
        "print('True and False is: {}'.format(True and False))\n",
        "\n",
        "# Bitwise and\n",
        "print('True and False is: {}'.format(True & False))"
      ]
    },
    {
      "cell_type": "code",
      "execution_count": 10,
      "metadata": {
        "id": "OURym8rOnbsj",
        "outputId": "0e6beb13-a80d-4420-b253-e5e7efbd81d7",
        "colab": {
          "base_uri": "https://localhost:8080/"
        }
      },
      "outputs": [
        {
          "output_type": "stream",
          "name": "stdout",
          "text": [
            "True or False is: True\n",
            "True or False is: True\n"
          ]
        }
      ],
      "source": [
        "# Classical or\n",
        "print('True or False is: {}'.format(True or False))\n",
        "\n",
        "# Bitwise or\n",
        "print('True or False is: {}'.format(True | False))"
      ]
    },
    {
      "cell_type": "code",
      "execution_count": 11,
      "metadata": {
        "id": "1tzuO6_Pnbsj",
        "outputId": "ef55394f-518d-47ed-c7a0-9ae2e4f18933",
        "colab": {
          "base_uri": "https://localhost:8080/"
        }
      },
      "outputs": [
        {
          "output_type": "stream",
          "name": "stdout",
          "text": [
            "Not True is: False\n"
          ]
        }
      ],
      "source": [
        "print('Not True is: {}'.format(not True))"
      ]
    },
    {
      "cell_type": "code",
      "execution_count": 12,
      "metadata": {
        "id": "kq4oKL12nbsk",
        "outputId": "04e9dd87-ba47-4c4c-8241-ebad222bfe37",
        "colab": {
          "base_uri": "https://localhost:8080/"
        }
      },
      "outputs": [
        {
          "output_type": "stream",
          "name": "stdout",
          "text": [
            "It is a hot summer day.\n"
          ]
        }
      ],
      "source": [
        "# If statement with boolean operator\n",
        "temperature = 30\n",
        "is_summer = True\n",
        "if temperature > 25 and is_summer:\n",
        "    print('It is a hot summer day.')"
      ]
    },
    {
      "cell_type": "code",
      "source": [],
      "metadata": {
        "id": "D6Z7Imdyn3_x"
      },
      "execution_count": null,
      "outputs": []
    }
  ],
  "metadata": {
    "kernelspec": {
      "display_name": "test_env_2",
      "language": "python",
      "name": "python3"
    },
    "language_info": {
      "codemirror_mode": {
        "name": "ipython",
        "version": 3
      },
      "file_extension": ".py",
      "mimetype": "text/x-python",
      "name": "python",
      "nbconvert_exporter": "python",
      "pygments_lexer": "ipython3",
      "version": "3.11.3"
    },
    "orig_nbformat": 4,
    "colab": {
      "provenance": [],
      "include_colab_link": true
    }
  },
  "nbformat": 4,
  "nbformat_minor": 0
}