{
  "cells": [
    {
      "cell_type": "markdown",
      "metadata": {
        "colab_type": "text",
        "id": "view-in-github"
      },
      "source": [
        "<a href=\"https://colab.research.google.com/github/spencer18001/Clustering-And-Dimensionality-Reduction---Deep-Dive/blob/main/0204.ipynb\" target=\"_parent\"><img src=\"https://colab.research.google.com/assets/colab-badge.svg\" alt=\"Open In Colab\"/></a>"
      ]
    },
    {
      "cell_type": "markdown",
      "metadata": {
        "id": "-cd1cYyBnbsQ"
      },
      "source": [
        "## Boolean datatype"
      ]
    },
    {
      "cell_type": "code",
      "execution_count": null,
      "metadata": {
        "colab": {
          "base_uri": "https://localhost:8080/"
        },
        "id": "zZh2gmzlnbsX",
        "outputId": "ce16f494-c6b7-4697-c3f3-308479aba67e"
      },
      "outputs": [
        {
          "name": "stdout",
          "output_type": "stream",
          "text": [
            "<class 'bool'>\n",
            "<class 'bool'>\n"
          ]
        }
      ],
      "source": [
        "true_val = True\n",
        "false_val = False\n",
        "\n",
        "print(type(true_val))\n",
        "print(type(false_val))"
      ]
    },
    {
      "cell_type": "markdown",
      "metadata": {
        "id": "7BeaPi6Mnbsa"
      },
      "source": [
        "##### Comparison operators"
      ]
    },
    {
      "cell_type": "code",
      "execution_count": null,
      "metadata": {
        "colab": {
          "base_uri": "https://localhost:8080/"
        },
        "id": "aZKpQhzhnbsb",
        "outputId": "279ed29e-9e77-4b3f-e38e-810cfa794513"
      },
      "outputs": [
        {
          "name": "stdout",
          "output_type": "stream",
          "text": [
            "Is 10 equal to 10?: True\n",
            "Is 10 not equal to 5?: True\n",
            "Is 10 greater than 5?: True\n",
            "Is 10 less than 5?: False\n",
            "Is 10 greater or equal to 10?: True\n",
            "Is 10 less than or equal to 5?: False\n"
          ]
        }
      ],
      "source": [
        "print('Is 10 equal to 10?: {}'.format(10 == 10))              # Equal to\n",
        "print('Is 10 not equal to 5?: {}'.format(10 != 5))            # Not equal to\n",
        "print('Is 10 greater than 5?: {}'.format(10 > 5))             # Greater than\n",
        "print('Is 10 less than 5?: {}'.format(10 < 5))                # Less than\n",
        "print('Is 10 greater or equal to 10?: {}'.format(10 >= 10))   # Greater than or equal to\n",
        "print('Is 10 less than or equal to 5?: {}'.format(10 <= 5))   # Less than or equal to"
      ]
    },
    {
      "cell_type": "markdown",
      "metadata": {
        "id": "DkVq5w5Dnbsc"
      },
      "source": [
        "##### IF statements"
      ]
    },
    {
      "cell_type": "code",
      "execution_count": null,
      "metadata": {
        "id": "VwNTkaJ9nbsc"
      },
      "outputs": [],
      "source": [
        "temperature = 30"
      ]
    },
    {
      "cell_type": "code",
      "execution_count": null,
      "metadata": {
        "colab": {
          "base_uri": "https://localhost:8080/"
        },
        "id": "5gcrtmh9nbsd",
        "outputId": "c4e17797-086f-436d-9862-c04309553287"
      },
      "outputs": [
        {
          "data": {
            "text/plain": [
              "True"
            ]
          },
          "execution_count": 4,
          "metadata": {},
          "output_type": "execute_result"
        }
      ],
      "source": [
        "temperature > 25"
      ]
    },
    {
      "cell_type": "code",
      "execution_count": null,
      "metadata": {
        "id": "VmEn2h5pnbse"
      },
      "outputs": [],
      "source": [
        "# Basic if statement\n",
        "\n",
        "if temperature > 35:\n",
        "    print('It is hot outside.')"
      ]
    },
    {
      "cell_type": "code",
      "execution_count": null,
      "metadata": {
        "colab": {
          "base_uri": "https://localhost:8080/"
        },
        "id": "Gle6kwN1nbsf",
        "outputId": "030bede4-49b5-4a60-a565-afad3bd2399a"
      },
      "outputs": [
        {
          "name": "stdout",
          "output_type": "stream",
          "text": [
            "It is not hot inside.\n"
          ]
        }
      ],
      "source": [
        "# Basic if-else statement\n",
        "\n",
        "temperature = 20\n",
        "\n",
        "if temperature > 25:\n",
        "    print('It is hot outside.')\n",
        "else:\n",
        "    print('It is not hot inside.')"
      ]
    },
    {
      "cell_type": "code",
      "execution_count": null,
      "metadata": {
        "colab": {
          "base_uri": "https://localhost:8080/"
        },
        "id": "OlJV6WZPnbsg",
        "outputId": "400f31f0-a6b7-41cd-beee-784afe131501"
      },
      "outputs": [
        {
          "name": "stdout",
          "output_type": "stream",
          "text": [
            "It is not hot outside.\n"
          ]
        }
      ],
      "source": [
        "# Nested IF statements\n",
        "\n",
        "temperature = 16\n",
        "if temperature > 25:\n",
        "    print('It is hot outside.')\n",
        "else:\n",
        "    if temperature > 15:\n",
        "        print('It is not hot outside.')\n",
        "    else:\n",
        "        print('It is cold outside.')"
      ]
    },
    {
      "cell_type": "code",
      "execution_count": null,
      "metadata": {
        "colab": {
          "base_uri": "https://localhost:8080/"
        },
        "id": "icmNNUJenbsh",
        "outputId": "056f6c24-39bf-4a59-c750-d4985c8d9958"
      },
      "outputs": [
        {
          "name": "stdout",
          "output_type": "stream",
          "text": [
            "It is not hot outside.\n"
          ]
        }
      ],
      "source": [
        "# Elif - more elegand way to implement the same logic\n",
        "\n",
        "temperature = 16\n",
        "if temperature > 25:\n",
        "    print('It is hot outside.')\n",
        "elif temperature > 15:\n",
        "    print('It is not hot outside.')\n",
        "else:\n",
        "    print('It is cold outside.')"
      ]
    },
    {
      "cell_type": "markdown",
      "metadata": {
        "id": "T1AVucWPnbsi"
      },
      "source": [
        "##### Boolean operators"
      ]
    },
    {
      "cell_type": "code",
      "execution_count": null,
      "metadata": {
        "colab": {
          "base_uri": "https://localhost:8080/"
        },
        "id": "A0PocuxZnbsi",
        "outputId": "5cc3796f-9b80-44d7-aee2-8ac62510d331"
      },
      "outputs": [
        {
          "name": "stdout",
          "output_type": "stream",
          "text": [
            "True and False is: False\n",
            "True and False is: False\n"
          ]
        }
      ],
      "source": [
        "# Classical and\n",
        "print('True and False is: {}'.format(True and False))\n",
        "\n",
        "# Bitwise and # !!!!!\n",
        "print('True and False is: {}'.format(True & False))"
      ]
    },
    {
      "cell_type": "code",
      "execution_count": null,
      "metadata": {
        "colab": {
          "base_uri": "https://localhost:8080/"
        },
        "id": "OURym8rOnbsj",
        "outputId": "0e6beb13-a80d-4420-b253-e5e7efbd81d7"
      },
      "outputs": [
        {
          "name": "stdout",
          "output_type": "stream",
          "text": [
            "True or False is: True\n",
            "True or False is: True\n"
          ]
        }
      ],
      "source": [
        "# Classical or\n",
        "print('True or False is: {}'.format(True or False))\n",
        "\n",
        "# Bitwise or\n",
        "print('True or False is: {}'.format(True | False))"
      ]
    },
    {
      "cell_type": "code",
      "execution_count": null,
      "metadata": {
        "colab": {
          "base_uri": "https://localhost:8080/"
        },
        "id": "1tzuO6_Pnbsj",
        "outputId": "ef55394f-518d-47ed-c7a0-9ae2e4f18933"
      },
      "outputs": [
        {
          "name": "stdout",
          "output_type": "stream",
          "text": [
            "Not True is: False\n"
          ]
        }
      ],
      "source": [
        "print('Not True is: {}'.format(not True))"
      ]
    },
    {
      "cell_type": "code",
      "execution_count": null,
      "metadata": {
        "colab": {
          "base_uri": "https://localhost:8080/"
        },
        "id": "kq4oKL12nbsk",
        "outputId": "04e9dd87-ba47-4c4c-8241-ebad222bfe37"
      },
      "outputs": [
        {
          "name": "stdout",
          "output_type": "stream",
          "text": [
            "It is a hot summer day.\n"
          ]
        }
      ],
      "source": [
        "# If statement with boolean operator\n",
        "temperature = 30\n",
        "is_summer = True\n",
        "if temperature > 25 and is_summer:\n",
        "    print('It is a hot summer day.')"
      ]
    },
    {
      "cell_type": "code",
      "execution_count": null,
      "metadata": {
        "id": "D6Z7Imdyn3_x"
      },
      "outputs": [],
      "source": []
    }
  ],
  "metadata": {
    "colab": {
      "include_colab_link": true,
      "provenance": []
    },
    "kernelspec": {
      "display_name": "Python 3.7.0 64-bit",
      "language": "python",
      "name": "python3"
    },
    "language_info": {
      "codemirror_mode": {
        "name": "ipython",
        "version": 3
      },
      "file_extension": ".py",
      "mimetype": "text/x-python",
      "name": "python",
      "nbconvert_exporter": "python",
      "pygments_lexer": "ipython3",
      "version": "3.7.0"
    },
    "orig_nbformat": 4,
    "vscode": {
      "interpreter": {
        "hash": "e774977668b7c0ae8309835a5187aa7fbf7669e7d0bb59755bc63e573643edcd"
      }
    }
  },
  "nbformat": 4,
  "nbformat_minor": 0
}
