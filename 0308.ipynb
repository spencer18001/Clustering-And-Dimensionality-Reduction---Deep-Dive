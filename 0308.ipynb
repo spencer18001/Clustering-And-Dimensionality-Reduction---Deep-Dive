{
 "cells": [
  {
   "attachments": {},
   "cell_type": "markdown",
   "metadata": {},
   "source": [
    "## Operations between numpy arrays\n",
    "\n",
    "### Operations between numpy arrays having same shape"
   ]
  },
  {
   "cell_type": "code",
   "execution_count": null,
   "metadata": {},
   "outputs": [],
   "source": [
    "import numpy as np"
   ]
  },
  {
   "cell_type": "code",
   "execution_count": null,
   "metadata": {},
   "outputs": [],
   "source": [
    "# 1D case\n",
    "\n",
    "arr1 = np.array([1, 2, 3, 4, 5, 6, 8])\n",
    "arr2 = np.array([6, 7, 8, 9, 10, 11,12])\n",
    "\n",
    "# Addition\n",
    "print(\"Addition:\", arr1 + arr2)\n",
    "\n",
    "# Subtraction\n",
    "print(\"Subtraction:\", arr2 - arr1)\n",
    "\n",
    "# Multiplication\n",
    "print(\"Multiplication:\", arr1 * arr2)\n",
    "\n",
    "# Division\n",
    "print(\"Division:\", arr2 / arr1)"
   ]
  },
  {
   "cell_type": "code",
   "execution_count": null,
   "metadata": {},
   "outputs": [],
   "source": [
    "# 2D case\n",
    "\n",
    "arr1 = np.array([[1, 2, 3], [4, 5, 6]])\n",
    "arr2 = np.array([[7, 8, 9], [10, 11, 12]])\n",
    "\n",
    "# Addition\n",
    "print(\"Addition:\\n\", arr1 + arr2)\n",
    "\n",
    "# Subtraction\n",
    "print(\"Subtraction:\\n\", arr2 - arr1)\n",
    "\n",
    "# Multiplication\n",
    "print(\"Multiplication:\\n\", arr1 * arr2)\n",
    "\n",
    "# Division\n",
    "print(\"Division:\\n\", arr2 / arr1)"
   ]
  },
  {
   "cell_type": "markdown",
   "metadata": {},
   "source": [
    "### Broadcasting\n",
    "\n",
    "#### Broadcasting 1-D arrays\n"
   ]
  },
  {
   "cell_type": "code",
   "execution_count": null,
   "metadata": {},
   "outputs": [],
   "source": [
    "# Simplest case - 1D\n",
    "# In order for this broadcast to work\n",
    "# dimension of arr2 must be 1\n",
    "\n",
    "arr1 = np.array([1, 2, 3])\n",
    "arr2 = np.array([1])\n",
    "\n",
    "print('Arr 1 : \\n {}'.format(arr1))\n",
    "print('Arr 2 : \\n {}'.format(arr2))\n",
    "\n",
    "arr1 + arr2"
   ]
  },
  {
   "cell_type": "code",
   "execution_count": null,
   "metadata": {},
   "outputs": [],
   "source": [
    "# If dimension of arr1 is not 1\n",
    "# we get error\n",
    "\n",
    "arr1 = np.array([1, 2, 3, 4])\n",
    "arr2 = np.array([1, 2])\n",
    "\n",
    "print('Arr 1 : \\n {}'.format(arr1))\n",
    "print('Arr 2 : \\n {}'.format(arr2))\n",
    "\n",
    "arr1 + arr2"
   ]
  },
  {
   "attachments": {},
   "cell_type": "markdown",
   "metadata": {},
   "source": [
    "##### Broadcasting 2-D arrays"
   ]
  },
  {
   "cell_type": "code",
   "execution_count": null,
   "metadata": {},
   "outputs": [],
   "source": [
    "arr1 = np.array([[1, 2, 3], [4,5,6]])\n",
    "arr2 = np.array([[1, 2, 3]])\n",
    "\n",
    "print('Arr 1 : \\n {}'.format(arr1))\n",
    "print('Arr 2 : \\n {}'.format(arr2))\n",
    "\n",
    "arr1 + arr2"
   ]
  },
  {
   "cell_type": "code",
   "execution_count": null,
   "metadata": {},
   "outputs": [],
   "source": [
    "arr1 = np.array([[1, 2, 3], [4,5,6]])\n",
    "arr2 = np.array([[1], [2]])\n",
    "\n",
    "print('Arr 1 : \\n {}'.format(arr1))\n",
    "print('Arr 2 : \\n {}'.format(arr2))\n",
    "\n",
    "arr1 + arr2\n"
   ]
  },
  {
   "cell_type": "code",
   "execution_count": null,
   "metadata": {},
   "outputs": [],
   "source": [
    "arr1 = np.array([[1, 2, 3]])\n",
    "arr2 = np.array([[4], [5], [6]])\n",
    "\n",
    "print('Arr 1 : \\n {}'.format(arr1))\n",
    "print('Arr 2 : \\n {}'.format(arr2))\n",
    "\n",
    "arr1 + arr2"
   ]
  },
  {
   "attachments": {},
   "cell_type": "markdown",
   "metadata": {},
   "source": [
    "##### Broadcasting arrays of different shappes"
   ]
  },
  {
   "cell_type": "code",
   "execution_count": null,
   "metadata": {},
   "outputs": [],
   "source": [
    "arr1 = np.array([[1, 2, 3], [4,5,6]])\n",
    "arr2 = np.array([1, 2, 3])\n",
    "\n",
    "print('Arr 1 : \\n {}'.format(arr1))\n",
    "print('Arr 2 : \\n {}'.format(arr2))\n",
    "\n",
    "arr1 + arr2"
   ]
  },
  {
   "cell_type": "code",
   "execution_count": null,
   "metadata": {},
   "outputs": [],
   "source": [
    "arr1 = np.array([[1, 2],[3,4], [5,6]])\n",
    "arr2 = np.array([1, 2, 3])\n",
    "\n",
    "print('Arr 1 : \\n {}'.format(arr1))\n",
    "print('Arr 2 : \\n {}'.format(arr2))\n",
    "\n",
    "arr1 + arr2"
   ]
  },
  {
   "cell_type": "code",
   "execution_count": null,
   "metadata": {},
   "outputs": [],
   "source": [
    "arr1 + np.expand_dims(arr2, axis=1)"
   ]
  },
  {
   "cell_type": "markdown",
   "metadata": {},
   "source": [
    "### Summary\n",
    "\n",
    "We have learned about:\n",
    "\n",
    "- Numpy array broadcasting"
   ]
  }
 ],
 "metadata": {
  "kernelspec": {
   "display_name": "test_env_2",
   "language": "python",
   "name": "python3"
  },
  "language_info": {
   "codemirror_mode": {
    "name": "ipython",
    "version": 3
   },
   "file_extension": ".py",
   "mimetype": "text/x-python",
   "name": "python",
   "nbconvert_exporter": "python",
   "pygments_lexer": "ipython3",
   "version": "3.11.3"
  },
  "orig_nbformat": 4
 },
 "nbformat": 4,
 "nbformat_minor": 2
}
