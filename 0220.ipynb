{
  "cells": [
    {
      "cell_type": "markdown",
      "metadata": {
        "id": "view-in-github",
        "colab_type": "text"
      },
      "source": [
        "<a href=\"https://colab.research.google.com/github/spencer18001/Clustering-And-Dimensionality-Reduction---Deep-Dive/blob/main/0220.ipynb\" target=\"_parent\"><img src=\"https://colab.research.google.com/assets/colab-badge.svg\" alt=\"Open In Colab\"/></a>"
      ]
    },
    {
      "cell_type": "markdown",
      "metadata": {
        "id": "MW5_hOBf_Krd"
      },
      "source": [
        "### Comprehensions\n",
        "\n",
        "Comprehensions in Python are a way of creating new sequences like lists or dictionaries from existing ones in a concise and efficient manner.\n",
        "\n",
        "#### Lecture contents\n",
        "\n",
        "- Problem statement\n",
        "- List comprehensions\n",
        "- Dictionary comprehension"
      ]
    },
    {
      "cell_type": "markdown",
      "metadata": {
        "id": "r4ejYCnK_Krh"
      },
      "source": [
        "#### Problem statement\n",
        "\n",
        "Compute the square of each element in the list."
      ]
    },
    {
      "cell_type": "code",
      "execution_count": 1,
      "metadata": {
        "id": "jcmHIlEi_Kri"
      },
      "outputs": [],
      "source": [
        "l1 = [1, 2, 3, 4, 5]"
      ]
    },
    {
      "cell_type": "code",
      "execution_count": 2,
      "metadata": {
        "id": "8tUdsoCC_Krj",
        "outputId": "d36ab2ba-034e-4443-e97e-1b68e9b759c0",
        "colab": {
          "base_uri": "https://localhost:8080/"
        }
      },
      "outputs": [
        {
          "output_type": "execute_result",
          "data": {
            "text/plain": [
              "[1, 4, 9, 16, 25]"
            ]
          },
          "metadata": {},
          "execution_count": 2
        }
      ],
      "source": [
        "square_list = []\n",
        "for el in l1:\n",
        "    square_list.append(el**2)\n",
        "square_list"
      ]
    },
    {
      "cell_type": "markdown",
      "metadata": {
        "id": "m0UkGEzn_Krk"
      },
      "source": [
        "Square all elements in the list that are not equal to 3."
      ]
    },
    {
      "cell_type": "code",
      "execution_count": 3,
      "metadata": {
        "id": "gaCcEZeS_Krk",
        "outputId": "a2f9f104-7637-496c-912f-a2f73880a660",
        "colab": {
          "base_uri": "https://localhost:8080/"
        }
      },
      "outputs": [
        {
          "output_type": "execute_result",
          "data": {
            "text/plain": [
              "[1, 4, 16, 25]"
            ]
          },
          "metadata": {},
          "execution_count": 3
        }
      ],
      "source": [
        "square_list = []\n",
        "for el in l1:\n",
        "    if el != 3:\n",
        "        square_list.append(el**2)\n",
        "square_list"
      ]
    },
    {
      "cell_type": "markdown",
      "metadata": {
        "id": "Y7djH7xc_Krl"
      },
      "source": [
        "##### List comprehension"
      ]
    },
    {
      "cell_type": "code",
      "execution_count": 4,
      "metadata": {
        "id": "JixqezKo_Krl",
        "outputId": "2dfd9be1-c08f-49c5-a922-e83a3aa50c92",
        "colab": {
          "base_uri": "https://localhost:8080/"
        }
      },
      "outputs": [
        {
          "output_type": "execute_result",
          "data": {
            "text/plain": [
              "[1, 4, 9, 16, 25]"
            ]
          },
          "metadata": {},
          "execution_count": 4
        }
      ],
      "source": [
        "l1 = [1, 2, 3, 4, 5]\n",
        "\n",
        "l2 = [el**2 for el in l1]\n",
        "l2"
      ]
    },
    {
      "cell_type": "code",
      "execution_count": 5,
      "metadata": {
        "id": "zwT6C-Hs_Krm",
        "outputId": "330445c4-a521-4dfe-b3e5-954b50b00323",
        "colab": {
          "base_uri": "https://localhost:8080/"
        }
      },
      "outputs": [
        {
          "output_type": "execute_result",
          "data": {
            "text/plain": [
              "[1, 4, 16, 25]"
            ]
          },
          "metadata": {},
          "execution_count": 5
        }
      ],
      "source": [
        "l3 = [el**2 for el in l1 if el != 3] # filter # !!!!!\n",
        "l3"
      ]
    },
    {
      "cell_type": "code",
      "execution_count": 7,
      "metadata": {
        "id": "fZL4uhEv_Krn",
        "outputId": "4d8ad516-31df-4ce7-fdba-8bc84ceb7c4e",
        "colab": {
          "base_uri": "https://localhost:8080/"
        }
      },
      "outputs": [
        {
          "output_type": "execute_result",
          "data": {
            "text/plain": [
              "[1, 4, 27, 16, 25]"
            ]
          },
          "metadata": {},
          "execution_count": 7
        }
      ],
      "source": [
        "l4 = [el**2 if el != 3 else el**3 for el in l1] # ternary operator # !!!!!\n",
        "l4"
      ]
    },
    {
      "cell_type": "code",
      "execution_count": 8,
      "metadata": {
        "id": "J59droLE_Krn",
        "outputId": "b6414ed9-f4af-4544-91af-61cc9dadb89c",
        "colab": {
          "base_uri": "https://localhost:8080/"
        }
      },
      "outputs": [
        {
          "output_type": "execute_result",
          "data": {
            "text/plain": [
              "[1, 4, 27, 25]"
            ]
          },
          "metadata": {},
          "execution_count": 8
        }
      ],
      "source": [
        "l5 = [el**2 if el != 3 else el**3 for el in l1 if el != 4] # !!!!!\n",
        "l5"
      ]
    },
    {
      "cell_type": "code",
      "execution_count": 9,
      "metadata": {
        "id": "QUcdXt5h_Kro",
        "outputId": "413df8fa-664f-4902-ef8d-054b32225dac",
        "colab": {
          "base_uri": "https://localhost:8080/"
        }
      },
      "outputs": [
        {
          "output_type": "execute_result",
          "data": {
            "text/plain": [
              "['a', 'b', 'c']"
            ]
          },
          "metadata": {},
          "execution_count": 9
        }
      ],
      "source": [
        "d1 = {\n",
        "    'a': 1,\n",
        "    'b': 2,\n",
        "    'c': 3\n",
        "}\n",
        "\n",
        "l6 = [el for el in d1] # !!!!!\n",
        "l6"
      ]
    },
    {
      "cell_type": "code",
      "execution_count": 10,
      "metadata": {
        "id": "8NRgWbg7_Kro",
        "outputId": "07d4c8b1-4b1a-4571-bf41-72198cf34342",
        "colab": {
          "base_uri": "https://localhost:8080/"
        }
      },
      "outputs": [
        {
          "output_type": "execute_result",
          "data": {
            "text/plain": [
              "[1, 2, 3]"
            ]
          },
          "metadata": {},
          "execution_count": 10
        }
      ],
      "source": [
        "l6 = [d1[el] for el in d1]\n",
        "l6"
      ]
    },
    {
      "cell_type": "markdown",
      "metadata": {
        "id": "P-l-iw02_Krp"
      },
      "source": [
        "##### Dict comprehension"
      ]
    },
    {
      "cell_type": "code",
      "execution_count": 11,
      "metadata": {
        "id": "BBUGqPbR_Krp",
        "outputId": "ee81a1c8-d6f9-42c3-86e9-b22179449020",
        "colab": {
          "base_uri": "https://localhost:8080/"
        }
      },
      "outputs": [
        {
          "output_type": "execute_result",
          "data": {
            "text/plain": [
              "{'apple': 5, 'banana': 6, 'cherry': 6, 'date': 4}"
            ]
          },
          "metadata": {},
          "execution_count": 11
        }
      ],
      "source": [
        "words = ['apple', 'banana', 'cherry', 'date']\n",
        "word_lengths = {word: len(word) for word in words} # !!!!!\n",
        "word_lengths"
      ]
    },
    {
      "cell_type": "code",
      "execution_count": 12,
      "metadata": {
        "id": "UIGy4zbk_Krq",
        "outputId": "3710ea43-eeaf-4266-d05c-79c1f126046e",
        "colab": {
          "base_uri": "https://localhost:8080/"
        }
      },
      "outputs": [
        {
          "output_type": "execute_result",
          "data": {
            "text/plain": [
              "{'apple': 5, 'banana': 6, 'cherry': 6, 'date': 4}"
            ]
          },
          "metadata": {},
          "execution_count": 12
        }
      ],
      "source": [
        "words = ['apple', 'banana', 3, 4, 'cherry', 'date']\n",
        "word_lengths = {word: len(word) for word in words if isinstance(word, str)}\n",
        "word_lengths"
      ]
    },
    {
      "cell_type": "code",
      "execution_count": 13,
      "metadata": {
        "id": "uSINASaK_Krq",
        "outputId": "fca20029-7d44-4f7c-a3d6-d1f9daa1a326",
        "colab": {
          "base_uri": "https://localhost:8080/"
        }
      },
      "outputs": [
        {
          "output_type": "execute_result",
          "data": {
            "text/plain": [
              "{'apple': 5, 'banana': 6, 3: None, 4: None, 'cherry': 6, 'date': 4}"
            ]
          },
          "metadata": {},
          "execution_count": 13
        }
      ],
      "source": [
        "words = ['apple', 'banana', 3, 4, 'cherry', 'date']\n",
        "word_lengths = {word: len(word) if isinstance(word, str) else None for word in words } # !!!!!\n",
        "word_lengths"
      ]
    },
    {
      "cell_type": "code",
      "execution_count": 14,
      "metadata": {
        "id": "dw-0F3Ac_Krq",
        "outputId": "b0edf7f0-8c74-4eac-88bb-2baade132b95",
        "colab": {
          "base_uri": "https://localhost:8080/"
        }
      },
      "outputs": [
        {
          "output_type": "execute_result",
          "data": {
            "text/plain": [
              "{'a': 1, 'b': 4, 'c': 9}"
            ]
          },
          "metadata": {},
          "execution_count": 14
        }
      ],
      "source": [
        "d1 = {\n",
        "    'a': 1,\n",
        "    'b': 2,\n",
        "    'c': 3\n",
        "}\n",
        "\n",
        "d2 = {key: d1[key]**2 for key in d1}\n",
        "d2"
      ]
    },
    {
      "cell_type": "code",
      "execution_count": 15,
      "metadata": {
        "id": "agKQ52q2_Krr",
        "outputId": "59092ed3-87ee-4cc6-c2ea-7304847a4682",
        "colab": {
          "base_uri": "https://localhost:8080/"
        }
      },
      "outputs": [
        {
          "output_type": "execute_result",
          "data": {
            "text/plain": [
              "{'a': 1, 'b': 4, 'c': 9}"
            ]
          },
          "metadata": {},
          "execution_count": 15
        }
      ],
      "source": [
        "d2 = {key: value**2 for key, value in d1.items()} # !!!!!\n",
        "d2"
      ]
    },
    {
      "cell_type": "markdown",
      "metadata": {
        "id": "tIo6FCbb_Krr"
      },
      "source": [
        "</br></br></br></br>\n",
        "\n",
        "### Summary\n",
        "\n",
        "#### We have learned:\n",
        "\n",
        "- What are comprehensions\n",
        "\n",
        "- List comprehensions\n",
        "\n",
        "- Dict comprehensions"
      ]
    }
  ],
  "metadata": {
    "kernelspec": {
      "display_name": "test_env_2",
      "language": "python",
      "name": "python3"
    },
    "language_info": {
      "codemirror_mode": {
        "name": "ipython",
        "version": 3
      },
      "file_extension": ".py",
      "mimetype": "text/x-python",
      "name": "python",
      "nbconvert_exporter": "python",
      "pygments_lexer": "ipython3",
      "version": "3.11.3"
    },
    "orig_nbformat": 4,
    "colab": {
      "provenance": [],
      "include_colab_link": true
    }
  },
  "nbformat": 4,
  "nbformat_minor": 0
}