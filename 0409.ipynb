{
 "cells": [
  {
   "cell_type": "markdown",
   "id": "c64be0f5",
   "metadata": {},
   "source": [
    "## KMeans, StandardScaler and ARI in sklearn"
   ]
  },
  {
   "cell_type": "code",
   "execution_count": null,
   "id": "e6c02e4b",
   "metadata": {},
   "outputs": [],
   "source": [
    "# sklearn imports\n",
    "from sklearn.datasets import load_iris\n",
    "from sklearn.cluster import KMeans\n",
    "from sklearn.preprocessing import StandardScaler\n",
    "from sklearn.metrics import adjusted_rand_score\n",
    "\n",
    "# pandas and numpy imports\n",
    "import pandas as pd\n",
    "import numpy as np\n",
    "\n",
    "# plotting imports\n",
    "import matplotlib.pyplot as plt\n",
    "import matplotlib.cm as cm\n",
    "import seaborn as sns\n",
    "\n",
    "# set sns theme and set pandas to display all rows and columns\n",
    "sns.set_theme()"
   ]
  },
  {
   "attachments": {},
   "cell_type": "markdown",
   "id": "36989c48",
   "metadata": {},
   "source": [
    "### Load Iris dataset - data exploration and preprocessing\n",
    "\n",
    "\n",
    "- The Iris dataset is a classic and widely used dataset in machine learning and statistics. \n",
    "\n",
    "- The dataset consists of measurements of four attributes of three different species of iris flowers: \n",
    "  - setosa\n",
    "  - versicolor\n",
    "  - virginica\n",
    "  \n",
    " </br>\n",
    "  \n",
    "- The four attributes measured for each flower are sepal length, sepal width, petal length, and petal width, all in centimeters. \n",
    "  \n",
    "- The dataset contains 150 observations, with 50 observations for each of the three species.\n"
   ]
  },
  {
   "cell_type": "code",
   "execution_count": null,
   "id": "a137467d",
   "metadata": {},
   "outputs": [],
   "source": [
    "# Load iris dataset\n",
    "iris = load_iris()\n",
    "\n",
    "print(iris.keys())"
   ]
  },
  {
   "cell_type": "code",
   "execution_count": null,
   "id": "8dd44390",
   "metadata": {},
   "outputs": [],
   "source": [
    "print(iris['data'])"
   ]
  },
  {
   "cell_type": "code",
   "execution_count": null,
   "id": "7f509909",
   "metadata": {},
   "outputs": [],
   "source": [
    "print(iris['feature_names'])"
   ]
  },
  {
   "cell_type": "code",
   "execution_count": null,
   "id": "1db8c560",
   "metadata": {},
   "outputs": [],
   "source": [
    "print(iris['target'])"
   ]
  },
  {
   "cell_type": "code",
   "execution_count": null,
   "id": "24138e99",
   "metadata": {},
   "outputs": [],
   "source": [
    "print(iris['target_names'])"
   ]
  },
  {
   "attachments": {},
   "cell_type": "markdown",
   "id": "4ac6962d",
   "metadata": {},
   "source": [
    "### Data analysis"
   ]
  },
  {
   "cell_type": "code",
   "execution_count": null,
   "id": "04ce6088",
   "metadata": {},
   "outputs": [],
   "source": [
    "# Create dataset df\n",
    "iris_df = pd.DataFrame(\n",
    "    iris['data'],\n",
    "    columns=iris['feature_names']\n",
    ")\n",
    "\n",
    "iris_df.head()"
   ]
  },
  {
   "cell_type": "code",
   "execution_count": null,
   "id": "b55b3e09",
   "metadata": {},
   "outputs": [],
   "source": [
    "iris_df.shape"
   ]
  },
  {
   "cell_type": "code",
   "execution_count": null,
   "id": "7d26f41a",
   "metadata": {},
   "outputs": [],
   "source": [
    "iris_df.isna().sum().T"
   ]
  },
  {
   "cell_type": "code",
   "execution_count": null,
   "id": "b13e7725",
   "metadata": {},
   "outputs": [],
   "source": [
    "# Summary statistics\n",
    "iris_df.describe().T"
   ]
  },
  {
   "cell_type": "code",
   "execution_count": null,
   "id": "e04f8d53",
   "metadata": {},
   "outputs": [],
   "source": [
    "# Plot features\n",
    "plt.figure()\n",
    "iris_df.hist()\n",
    "plt.suptitle(\"Iris histograms\")"
   ]
  },
  {
   "cell_type": "code",
   "execution_count": null,
   "id": "5113cad3",
   "metadata": {},
   "outputs": [],
   "source": [
    "# Data boxplots\n",
    "sns.boxplot(iris_df)"
   ]
  },
  {
   "attachments": {},
   "cell_type": "markdown",
   "id": "abc7e947",
   "metadata": {},
   "source": [
    "### Simplify the dataset\n",
    "\n",
    "To demonstrate a simple clustering example, we will retain only the 'petal length (cm)' and 'petal width (cm)' features and focus on the Setosa and Virginica species from the Iris dataset. We will keep only these two dimensions to easily visualize the clustering results in a 2D plot."
   ]
  },
  {
   "cell_type": "code",
   "execution_count": null,
   "id": "8a483673",
   "metadata": {},
   "outputs": [],
   "source": [
    "# Add label to the dataset\n",
    "iris_df['label'] = [iris['target_names'][target] for target in iris['target']]\n",
    "\n",
    "# Remove versicolor class\n",
    "iris_df = iris_df[iris_df['label'] != 'versicolor']\n",
    "\n",
    "# Keep only petal length and petal width\n",
    "iris_df = iris_df.filter(\n",
    "    items=[\n",
    "        'petal length (cm)', \n",
    "        'petal width (cm)', \n",
    "        'label'\n",
    "    ]\n",
    ")"
   ]
  },
  {
   "cell_type": "code",
   "execution_count": null,
   "id": "6af723ce",
   "metadata": {},
   "outputs": [],
   "source": [
    "# Scatterplot\n",
    "sns.scatterplot(\n",
    "    iris_df, \n",
    "    x='petal length (cm)', \n",
    "    y='petal width (cm)', \n",
    "    hue='label'\n",
    ")\n",
    "\n",
    "plt.title('Data subset - raw features')"
   ]
  },
  {
   "attachments": {},
   "cell_type": "markdown",
   "id": "71cd96b0",
   "metadata": {},
   "source": [
    "## Cluster the dataset without data scaling\n",
    "\n",
    "Even though scaling data is important preprocessing step for K-means clustering, following cell demonstrates that given the nautre of the data, K-means clustering can work just fine even without data scaling."
   ]
  },
  {
   "cell_type": "code",
   "execution_count": null,
   "id": "6ebc6692",
   "metadata": {},
   "outputs": [],
   "source": [
    "# Prepare K-means clustering input\n",
    "cluster_data = iris_df[['petal length (cm)', 'petal width (cm)']]\n",
    "\n",
    "# Run K-means clustering with k=2\n",
    "kmeans = KMeans(n_clusters=2, n_init='auto')\n",
    "kmeans.fit(cluster_data)\n",
    "\n",
    "# Extract cluster id for each data point\n",
    "iris_df['clusters'] = kmeans.predict(cluster_data)\n",
    "\n",
    "# Plot clustering\n",
    "sns.scatterplot(\n",
    "    iris_df, \n",
    "    x='petal length (cm)', \n",
    "    y='petal width (cm)', \n",
    "    hue='clusters'\n",
    ")"
   ]
  },
  {
   "attachments": {},
   "cell_type": "markdown",
   "id": "879d5f89",
   "metadata": {},
   "source": [
    "### Adjusted rand index for clustering comparison\n",
    "\n",
    "Sklearn **adjusted_rand_score** function can be used to compare clustering and labels even when clustering and labels have different formats (e.g. cluster ids are integers while label ids are strings)."
   ]
  },
  {
   "cell_type": "code",
   "execution_count": null,
   "id": "c9e759a4",
   "metadata": {},
   "outputs": [],
   "source": [
    "# Label values\n",
    "iris_df['label'].to_numpy()"
   ]
  },
  {
   "cell_type": "code",
   "execution_count": null,
   "id": "9ae0568d",
   "metadata": {},
   "outputs": [],
   "source": [
    "# Cluster values\n",
    "iris_df['clusters'].to_numpy()"
   ]
  },
  {
   "cell_type": "code",
   "execution_count": null,
   "id": "8a911309",
   "metadata": {},
   "outputs": [],
   "source": [
    "# Adjusted rand index - value of 1 means that original labels and clustering results match perfectly.\n",
    "adjusted_rand_score(iris_df['label'].to_numpy(), iris_df['clusters'].to_numpy())"
   ]
  },
  {
   "attachments": {},
   "cell_type": "markdown",
   "id": "b943f902",
   "metadata": {},
   "source": [
    "## Clustering with data scaling\n",
    "\n",
    "In this section, we will perform clustering on scaled data.\n",
    "\n",
    "Standard scaling, also known as Z-score normalization, is a data preprocessing technique that transforms features by centering them around the mean and scaling them to have a standard deviation of one, ensuring that all features contribute equally to the analysis and mitigating the influence of large variations in the original data."
   ]
  },
  {
   "cell_type": "code",
   "execution_count": null,
   "id": "4cdfc1c2",
   "metadata": {},
   "outputs": [],
   "source": [
    "# Prepare the input data\n",
    "cluster_data = iris_df[['petal length (cm)', 'petal width (cm)']]\n",
    "\n",
    "# Scale the data\n",
    "standard_scaler = StandardScaler()\n",
    "standard_scaler.fit(cluster_data)\n",
    "cluster_data = standard_scaler.transform(cluster_data)\n",
    "cluster_data = pd.DataFrame(\n",
    "    cluster_data, \n",
    "    columns = ['petal length (cm)', 'petal width (cm)']\n",
    ")\n",
    "\n",
    "# Run K-means clustering with k=2\n",
    "kmeans = KMeans(n_clusters=2, n_init='auto')\n",
    "kmeans.fit(cluster_data)\n",
    "\n",
    "\n",
    "# Extract cluster assignment for each data point\n",
    "cluster_data['clusters'] = kmeans.predict(cluster_data)\n",
    "\n",
    "# Plot clustering\n",
    "sns.scatterplot(\n",
    "    cluster_data, \n",
    "    x='petal length (cm)', \n",
    "    y='petal width (cm)', \n",
    "    hue=cluster_data['clusters']\n",
    ")\n",
    "\n",
    "plt.title('Scaled data')"
   ]
  },
  {
   "cell_type": "code",
   "execution_count": null,
   "id": "f5dd6e93",
   "metadata": {},
   "outputs": [],
   "source": [
    "# Adjusted rand index - value of 1 means that original labels and clustering results match perfectly.\n",
    "adjusted_rand_score(\n",
    "    iris_df['label'].to_numpy(), \n",
    "    iris_df['clusters'].to_numpy()\n",
    ")"
   ]
  }
 ],
 "metadata": {
  "kernelspec": {
   "display_name": "Python 3 (ipykernel)",
   "language": "python",
   "name": "python3"
  },
  "language_info": {
   "codemirror_mode": {
    "name": "ipython",
    "version": 3
   },
   "file_extension": ".py",
   "mimetype": "text/x-python",
   "name": "python",
   "nbconvert_exporter": "python",
   "pygments_lexer": "ipython3",
   "version": "3.11.3"
  }
 },
 "nbformat": 4,
 "nbformat_minor": 5
}
