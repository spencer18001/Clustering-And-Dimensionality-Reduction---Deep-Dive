{
 "cells": [
  {
   "cell_type": "markdown",
   "metadata": {},
   "source": [
    "## Merging numpy arrays\n",
    "\n",
    "### Lecture agenda\n",
    "\n",
    "- Merging numpy arrays\n",
    "  - Concatenations\n",
    "  - Stacking"
   ]
  },
  {
   "cell_type": "code",
   "execution_count": null,
   "metadata": {},
   "outputs": [],
   "source": [
    "import numpy as np"
   ]
  },
  {
   "attachments": {},
   "cell_type": "markdown",
   "metadata": {},
   "source": [
    "##### Concatenations"
   ]
  },
  {
   "cell_type": "code",
   "execution_count": null,
   "metadata": {},
   "outputs": [],
   "source": [
    "# Merge 2D arrays\n",
    "\n",
    "a = np.array([1, 2])\n",
    "b = np.array([5, 6, 7, 8])\n",
    "\n",
    "print('Arr 1 : \\n {}'.format(a))\n",
    "print('Arr 2 : \\n {}'.format(b))\n",
    "\n",
    "c = np.concatenate((a, b))\n",
    "c"
   ]
  },
  {
   "cell_type": "code",
   "execution_count": null,
   "metadata": {},
   "outputs": [],
   "source": [
    "# Merge, axis=0\n",
    "\n",
    "a = np.array([[1, 2], [3, 4]])\n",
    "b = np.array([[5, 6], [7, 8]])\n",
    "\n",
    "print('Arr 1 : \\n {}'.format(a))\n",
    "print('Arr 2 : \\n {}'.format(b))\n",
    "\n",
    "c = np.concatenate((a, b), axis=0)\n",
    "c"
   ]
  },
  {
   "cell_type": "code",
   "execution_count": null,
   "metadata": {},
   "outputs": [],
   "source": [
    "# Merge, axis=1\n",
    "\n",
    "a = np.array([[1, 2], [3, 4]])\n",
    "b = np.array([[5, 6], [7,8]])\n",
    "\n",
    "print('Arr 1 : \\n {}'.format(a))\n",
    "print('Arr 2 : \\n {}'.format(b))\n",
    "\n",
    "c = np.concatenate((a, b), axis=1)\n",
    "c"
   ]
  },
  {
   "cell_type": "code",
   "execution_count": null,
   "metadata": {},
   "outputs": [],
   "source": [
    "# Merge, axis=0\n",
    "\n",
    "a = np.array([[1, 2], [3, 4]])\n",
    "b = np.array([5, 6])\n",
    "\n",
    "print('Arr 1 : \\n {}'.format(a))\n",
    "print('Arr 2 : \\n {}'.format(b))\n",
    "\n",
    "c = np.concatenate((a, b), axis=0)\n",
    "c"
   ]
  },
  {
   "cell_type": "code",
   "execution_count": null,
   "metadata": {},
   "outputs": [],
   "source": [
    "# Merge, axis=0\n",
    "\n",
    "a = np.array([[1, 2], [3, 4]])\n",
    "b = np.array([5, 6])\n",
    "\n",
    "b = np.expand_dims(b, axis=0)\n",
    "\n",
    "print('Arr 1 : \\n {}'.format(a))\n",
    "print('Arr 2 : \\n {}'.format(b))\n",
    "\n",
    "c = np.concatenate((a, b), axis=0)\n",
    "c"
   ]
  },
  {
   "cell_type": "code",
   "execution_count": null,
   "metadata": {},
   "outputs": [],
   "source": [
    "### Concatenating multiple arrays\n",
    "\n",
    "# Define three 2D arrays\n",
    "a = np.array([[1, 2, 3], [4, 5, 6]])\n",
    "b = np.array([[7, 8, 9], [10, 11, 12]])\n",
    "c = np.array([[13, 14, 15], [16, 17, 18]])\n",
    "\n",
    "print('Arr 1 : \\n {}'.format(a))\n",
    "print('Arr 2 : \\n {}'.format(b))\n",
    "print('Arr 3 : \\n {}'.format(c))\n",
    "\n",
    "\n",
    "d = np.concatenate((a, b, c), axis=0) \n",
    "d"
   ]
  },
  {
   "attachments": {},
   "cell_type": "markdown",
   "metadata": {},
   "source": [
    "##### Stacking"
   ]
  },
  {
   "cell_type": "code",
   "execution_count": null,
   "metadata": {},
   "outputs": [],
   "source": [
    "# Vertical stacking\n",
    "\n",
    "a = np.array([1, 2])\n",
    "b = np.array([3, 4])\n",
    "\n",
    "print('Arr 1 : \\n {}'.format(a))\n",
    "print('Arr 2 : \\n {}'.format(b))\n",
    "\n",
    "c = np.vstack((a, b))\n",
    "c"
   ]
  },
  {
   "cell_type": "code",
   "execution_count": null,
   "metadata": {},
   "outputs": [],
   "source": [
    "# Vertical stacking\n",
    "\n",
    "a = np.array([1, 2])\n",
    "b = np.array([[3, 4], [5, 6]])\n",
    "\n",
    "print('Arr 1 : \\n {}'.format(a))\n",
    "print('Arr 2 : \\n {}'.format(b))\n",
    "\n",
    "c = np.vstack((a, b))\n",
    "c"
   ]
  },
  {
   "cell_type": "code",
   "execution_count": null,
   "metadata": {},
   "outputs": [],
   "source": [
    "# Column stacking\n",
    "\n",
    "a = np.array([1,2,3])\n",
    "b = np.array([2,3,4])\n",
    "\n",
    "print('Arr 1 : \\n {}'.format(a))\n",
    "print('Arr 2 : \\n {}'.format(b))\n",
    "\n",
    "c = np.column_stack((a,b))\n",
    "c"
   ]
  },
  {
   "cell_type": "code",
   "execution_count": null,
   "metadata": {},
   "outputs": [],
   "source": [
    "# Column stacking\n",
    "\n",
    "a = np.array([1,2,3])\n",
    "b = np.array([2,3,4])\n",
    "c = np.array([[10,20], [30, 40], [50, 60]])\n",
    "\n",
    "print('Arr 1 : \\n {}'.format(a))\n",
    "print('Arr 2 : \\n {}'.format(b))\n",
    "print('Arr 3 : \\n {}'.format(c))\n",
    "\n",
    "\n",
    "d = np.column_stack((a,b,c))\n",
    "d"
   ]
  }
 ],
 "metadata": {
  "kernelspec": {
   "display_name": "test_env_2",
   "language": "python",
   "name": "python3"
  },
  "language_info": {
   "codemirror_mode": {
    "name": "ipython",
    "version": 3
   },
   "file_extension": ".py",
   "mimetype": "text/x-python",
   "name": "python",
   "nbconvert_exporter": "python",
   "pygments_lexer": "ipython3",
   "version": "3.11.3"
  },
  "orig_nbformat": 4
 },
 "nbformat": 4,
 "nbformat_minor": 2
}
