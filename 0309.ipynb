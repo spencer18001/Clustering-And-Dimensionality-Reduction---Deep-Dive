{
  "cells": [
    {
      "cell_type": "markdown",
      "metadata": {
        "id": "view-in-github",
        "colab_type": "text"
      },
      "source": [
        "<a href=\"https://colab.research.google.com/github/spencer18001/Clustering-And-Dimensionality-Reduction---Deep-Dive/blob/main/0309.ipynb\" target=\"_parent\"><img src=\"https://colab.research.google.com/assets/colab-badge.svg\" alt=\"Open In Colab\"/></a>"
      ]
    },
    {
      "cell_type": "markdown",
      "metadata": {
        "id": "H9HwLiq59PJa"
      },
      "source": [
        "## Merging numpy arrays\n",
        "\n",
        "### Lecture agenda\n",
        "\n",
        "- Merging numpy arrays\n",
        "  - Concatenations\n",
        "  - Stacking"
      ]
    },
    {
      "cell_type": "code",
      "execution_count": 1,
      "metadata": {
        "id": "5wQNPEZw9PJe"
      },
      "outputs": [],
      "source": [
        "import numpy as np"
      ]
    },
    {
      "cell_type": "markdown",
      "metadata": {
        "id": "oHYao3Jw9PJf"
      },
      "source": [
        "##### Concatenations"
      ]
    },
    {
      "cell_type": "code",
      "execution_count": 2,
      "metadata": {
        "id": "nWh-1svG9PJg",
        "outputId": "f234e424-6e30-4844-cc5d-347fcad1d762",
        "colab": {
          "base_uri": "https://localhost:8080/"
        }
      },
      "outputs": [
        {
          "output_type": "stream",
          "name": "stdout",
          "text": [
            "Arr 1 : \n",
            " [1 2]\n",
            "Arr 2 : \n",
            " [5 6 7 8]\n"
          ]
        },
        {
          "output_type": "execute_result",
          "data": {
            "text/plain": [
              "array([1, 2, 5, 6, 7, 8])"
            ]
          },
          "metadata": {},
          "execution_count": 2
        }
      ],
      "source": [
        "# Merge 1D arrays\n",
        "\n",
        "a = np.array([1, 2])\n",
        "b = np.array([5, 6, 7, 8])\n",
        "\n",
        "print('Arr 1 : \\n {}'.format(a))\n",
        "print('Arr 2 : \\n {}'.format(b))\n",
        "\n",
        "c = np.concatenate((a, b))\n",
        "c"
      ]
    },
    {
      "cell_type": "code",
      "execution_count": 3,
      "metadata": {
        "id": "u6G4t0lE9PJg",
        "outputId": "2aaf2097-dd8a-45b9-df9e-ae73e3adffcf",
        "colab": {
          "base_uri": "https://localhost:8080/"
        }
      },
      "outputs": [
        {
          "output_type": "stream",
          "name": "stdout",
          "text": [
            "Arr 1 : \n",
            " [[1 2]\n",
            " [3 4]]\n",
            "Arr 2 : \n",
            " [[5 6]\n",
            " [7 8]]\n"
          ]
        },
        {
          "output_type": "execute_result",
          "data": {
            "text/plain": [
              "array([[1, 2],\n",
              "       [3, 4],\n",
              "       [5, 6],\n",
              "       [7, 8]])"
            ]
          },
          "metadata": {},
          "execution_count": 3
        }
      ],
      "source": [
        "# Merge, axis=0\n",
        "\n",
        "a = np.array([[1, 2], [3, 4]])\n",
        "b = np.array([[5, 6], [7, 8]])\n",
        "\n",
        "print('Arr 1 : \\n {}'.format(a))\n",
        "print('Arr 2 : \\n {}'.format(b))\n",
        "\n",
        "c = np.concatenate((a, b), axis=0)\n",
        "c"
      ]
    },
    {
      "cell_type": "code",
      "execution_count": 4,
      "metadata": {
        "id": "X2Od8IQa9PJg",
        "outputId": "b25f336b-bfa3-43ec-935e-4ab45d0be73c",
        "colab": {
          "base_uri": "https://localhost:8080/"
        }
      },
      "outputs": [
        {
          "output_type": "stream",
          "name": "stdout",
          "text": [
            "Arr 1 : \n",
            " [[1 2]\n",
            " [3 4]]\n",
            "Arr 2 : \n",
            " [[5 6]\n",
            " [7 8]]\n"
          ]
        },
        {
          "output_type": "execute_result",
          "data": {
            "text/plain": [
              "array([[1, 2, 5, 6],\n",
              "       [3, 4, 7, 8]])"
            ]
          },
          "metadata": {},
          "execution_count": 4
        }
      ],
      "source": [
        "# Merge, axis=1\n",
        "\n",
        "a = np.array([[1, 2], [3, 4]])\n",
        "b = np.array([[5, 6], [7,8]])\n",
        "\n",
        "print('Arr 1 : \\n {}'.format(a))\n",
        "print('Arr 2 : \\n {}'.format(b))\n",
        "\n",
        "c = np.concatenate((a, b), axis=1)\n",
        "c"
      ]
    },
    {
      "cell_type": "code",
      "execution_count": 5,
      "metadata": {
        "id": "dqEg9NnM9PJh",
        "outputId": "0954c369-1b63-4cb2-db2d-c275a5194e76",
        "colab": {
          "base_uri": "https://localhost:8080/",
          "height": 280
        }
      },
      "outputs": [
        {
          "output_type": "stream",
          "name": "stdout",
          "text": [
            "Arr 1 : \n",
            " [[1 2]\n",
            " [3 4]]\n",
            "Arr 2 : \n",
            " [5 6]\n"
          ]
        },
        {
          "output_type": "error",
          "ename": "ValueError",
          "evalue": "all the input arrays must have same number of dimensions, but the array at index 0 has 2 dimension(s) and the array at index 1 has 1 dimension(s)",
          "traceback": [
            "\u001b[0;31m---------------------------------------------------------------------------\u001b[0m",
            "\u001b[0;31mValueError\u001b[0m                                Traceback (most recent call last)",
            "\u001b[0;32m<ipython-input-5-adb0865169f3>\u001b[0m in \u001b[0;36m<cell line: 9>\u001b[0;34m()\u001b[0m\n\u001b[1;32m      7\u001b[0m \u001b[0mprint\u001b[0m\u001b[0;34m(\u001b[0m\u001b[0;34m'Arr 2 : \\n {}'\u001b[0m\u001b[0;34m.\u001b[0m\u001b[0mformat\u001b[0m\u001b[0;34m(\u001b[0m\u001b[0mb\u001b[0m\u001b[0;34m)\u001b[0m\u001b[0;34m)\u001b[0m\u001b[0;34m\u001b[0m\u001b[0;34m\u001b[0m\u001b[0m\n\u001b[1;32m      8\u001b[0m \u001b[0;34m\u001b[0m\u001b[0m\n\u001b[0;32m----> 9\u001b[0;31m \u001b[0mc\u001b[0m \u001b[0;34m=\u001b[0m \u001b[0mnp\u001b[0m\u001b[0;34m.\u001b[0m\u001b[0mconcatenate\u001b[0m\u001b[0;34m(\u001b[0m\u001b[0;34m(\u001b[0m\u001b[0ma\u001b[0m\u001b[0;34m,\u001b[0m \u001b[0mb\u001b[0m\u001b[0;34m)\u001b[0m\u001b[0;34m,\u001b[0m \u001b[0maxis\u001b[0m\u001b[0;34m=\u001b[0m\u001b[0;36m0\u001b[0m\u001b[0;34m)\u001b[0m\u001b[0;34m\u001b[0m\u001b[0;34m\u001b[0m\u001b[0m\n\u001b[0m\u001b[1;32m     10\u001b[0m \u001b[0mc\u001b[0m\u001b[0;34m\u001b[0m\u001b[0;34m\u001b[0m\u001b[0m\n",
            "\u001b[0;31mValueError\u001b[0m: all the input arrays must have same number of dimensions, but the array at index 0 has 2 dimension(s) and the array at index 1 has 1 dimension(s)"
          ]
        }
      ],
      "source": [
        "# Merge, axis=0\n",
        "\n",
        "a = np.array([[1, 2], [3, 4]])\n",
        "b = np.array([5, 6]) # 嚴格要求 rank 要一致\n",
        "\n",
        "print('Arr 1 : \\n {}'.format(a))\n",
        "print('Arr 2 : \\n {}'.format(b))\n",
        "\n",
        "c = np.concatenate((a, b), axis=0)\n",
        "c"
      ]
    },
    {
      "cell_type": "code",
      "execution_count": 6,
      "metadata": {
        "id": "Q-93DTZe9PJi",
        "outputId": "a32a2e18-134f-4daa-8d10-86f2926bffb8",
        "colab": {
          "base_uri": "https://localhost:8080/"
        }
      },
      "outputs": [
        {
          "output_type": "stream",
          "name": "stdout",
          "text": [
            "Arr 1 : \n",
            " [[1 2]\n",
            " [3 4]]\n",
            "Arr 2 : \n",
            " [[5 6]]\n"
          ]
        },
        {
          "output_type": "execute_result",
          "data": {
            "text/plain": [
              "array([[1, 2],\n",
              "       [3, 4],\n",
              "       [5, 6]])"
            ]
          },
          "metadata": {},
          "execution_count": 6
        }
      ],
      "source": [
        "# Merge, axis=0\n",
        "\n",
        "a = np.array([[1, 2], [3, 4]])\n",
        "b = np.array([5, 6])\n",
        "\n",
        "b = np.expand_dims(b, axis=0)\n",
        "\n",
        "print('Arr 1 : \\n {}'.format(a))\n",
        "print('Arr 2 : \\n {}'.format(b))\n",
        "\n",
        "c = np.concatenate((a, b), axis=0)\n",
        "c"
      ]
    },
    {
      "cell_type": "code",
      "execution_count": 7,
      "metadata": {
        "id": "jST3fQYk9PJi",
        "outputId": "c4830cc5-5d87-495b-d612-a9f5e47dfb70",
        "colab": {
          "base_uri": "https://localhost:8080/"
        }
      },
      "outputs": [
        {
          "output_type": "stream",
          "name": "stdout",
          "text": [
            "Arr 1 : \n",
            " [[1 2 3]\n",
            " [4 5 6]]\n",
            "Arr 2 : \n",
            " [[ 7  8  9]\n",
            " [10 11 12]]\n",
            "Arr 3 : \n",
            " [[13 14 15]\n",
            " [16 17 18]]\n"
          ]
        },
        {
          "output_type": "execute_result",
          "data": {
            "text/plain": [
              "array([[ 1,  2,  3],\n",
              "       [ 4,  5,  6],\n",
              "       [ 7,  8,  9],\n",
              "       [10, 11, 12],\n",
              "       [13, 14, 15],\n",
              "       [16, 17, 18]])"
            ]
          },
          "metadata": {},
          "execution_count": 7
        }
      ],
      "source": [
        "### Concatenating multiple arrays\n",
        "\n",
        "# Define three 2D arrays\n",
        "a = np.array([[1, 2, 3], [4, 5, 6]])\n",
        "b = np.array([[7, 8, 9], [10, 11, 12]])\n",
        "c = np.array([[13, 14, 15], [16, 17, 18]])\n",
        "\n",
        "print('Arr 1 : \\n {}'.format(a))\n",
        "print('Arr 2 : \\n {}'.format(b))\n",
        "print('Arr 3 : \\n {}'.format(c))\n",
        "\n",
        "\n",
        "d = np.concatenate((a, b, c), axis=0)\n",
        "d"
      ]
    },
    {
      "cell_type": "markdown",
      "metadata": {
        "id": "rxHGSVV79PJj"
      },
      "source": [
        "##### Stacking"
      ]
    },
    {
      "cell_type": "code",
      "execution_count": 8,
      "metadata": {
        "id": "DxObdQCo9PJj",
        "outputId": "6deccc94-e7b1-42e7-e492-3ab795cc67fe",
        "colab": {
          "base_uri": "https://localhost:8080/"
        }
      },
      "outputs": [
        {
          "output_type": "stream",
          "name": "stdout",
          "text": [
            "Arr 1 : \n",
            " [1 2]\n",
            "Arr 2 : \n",
            " [3 4]\n"
          ]
        },
        {
          "output_type": "execute_result",
          "data": {
            "text/plain": [
              "array([[1, 2],\n",
              "       [3, 4]])"
            ]
          },
          "metadata": {},
          "execution_count": 8
        }
      ],
      "source": [
        "# Vertical stacking\n",
        "\n",
        "a = np.array([1, 2])\n",
        "b = np.array([3, 4])\n",
        "\n",
        "print('Arr 1 : \\n {}'.format(a))\n",
        "print('Arr 2 : \\n {}'.format(b))\n",
        "\n",
        "c = np.vstack((a, b))\n",
        "c"
      ]
    },
    {
      "cell_type": "code",
      "execution_count": 9,
      "metadata": {
        "id": "WhSRo3W29PJk",
        "outputId": "0da26a24-0335-4713-c2aa-f2c870c6c77c",
        "colab": {
          "base_uri": "https://localhost:8080/"
        }
      },
      "outputs": [
        {
          "output_type": "stream",
          "name": "stdout",
          "text": [
            "Arr 1 : \n",
            " [1 2]\n",
            "Arr 2 : \n",
            " [[3 4]\n",
            " [5 6]]\n"
          ]
        },
        {
          "output_type": "execute_result",
          "data": {
            "text/plain": [
              "array([[1, 2],\n",
              "       [3, 4],\n",
              "       [5, 6]])"
            ]
          },
          "metadata": {},
          "execution_count": 9
        }
      ],
      "source": [
        "# Vertical stacking\n",
        "\n",
        "a = np.array([1, 2]) # 預設 1D array 為 row\n",
        "b = np.array([[3, 4], [5, 6]])\n",
        "\n",
        "print('Arr 1 : \\n {}'.format(a))\n",
        "print('Arr 2 : \\n {}'.format(b))\n",
        "\n",
        "c = np.vstack((a, b))\n",
        "c"
      ]
    },
    {
      "cell_type": "code",
      "execution_count": 10,
      "metadata": {
        "id": "IsTNQgmD9PJk",
        "outputId": "cd1442ba-bf5b-42e8-8948-8b4dd763dfbe",
        "colab": {
          "base_uri": "https://localhost:8080/"
        }
      },
      "outputs": [
        {
          "output_type": "stream",
          "name": "stdout",
          "text": [
            "Arr 1 : \n",
            " [1 2 3]\n",
            "Arr 2 : \n",
            " [2 3 4]\n"
          ]
        },
        {
          "output_type": "execute_result",
          "data": {
            "text/plain": [
              "array([[1, 2],\n",
              "       [2, 3],\n",
              "       [3, 4]])"
            ]
          },
          "metadata": {},
          "execution_count": 10
        }
      ],
      "source": [
        "# Column stacking\n",
        "\n",
        "a = np.array([1,2,3]) # 預設 1D array 為 column\n",
        "b = np.array([2,3,4])\n",
        "\n",
        "print('Arr 1 : \\n {}'.format(a))\n",
        "print('Arr 2 : \\n {}'.format(b))\n",
        "\n",
        "c = np.column_stack((a,b))\n",
        "c"
      ]
    },
    {
      "cell_type": "code",
      "execution_count": 11,
      "metadata": {
        "id": "QDm3ZVaR9PJk",
        "outputId": "a7d9a5f6-9721-4975-ac32-6197848d36f6",
        "colab": {
          "base_uri": "https://localhost:8080/"
        }
      },
      "outputs": [
        {
          "output_type": "stream",
          "name": "stdout",
          "text": [
            "Arr 1 : \n",
            " [1 2 3]\n",
            "Arr 2 : \n",
            " [2 3 4]\n",
            "Arr 3 : \n",
            " [[10 20]\n",
            " [30 40]\n",
            " [50 60]]\n"
          ]
        },
        {
          "output_type": "execute_result",
          "data": {
            "text/plain": [
              "array([[ 1,  2, 10, 20],\n",
              "       [ 2,  3, 30, 40],\n",
              "       [ 3,  4, 50, 60]])"
            ]
          },
          "metadata": {},
          "execution_count": 11
        }
      ],
      "source": [
        "# Column stacking\n",
        "\n",
        "a = np.array([1,2,3])\n",
        "b = np.array([2,3,4])\n",
        "c = np.array([[10,20], [30, 40], [50, 60]])\n",
        "\n",
        "print('Arr 1 : \\n {}'.format(a))\n",
        "print('Arr 2 : \\n {}'.format(b))\n",
        "print('Arr 3 : \\n {}'.format(c))\n",
        "\n",
        "\n",
        "d = np.column_stack((a,b,c))\n",
        "d"
      ]
    }
  ],
  "metadata": {
    "kernelspec": {
      "display_name": "test_env_2",
      "language": "python",
      "name": "python3"
    },
    "language_info": {
      "codemirror_mode": {
        "name": "ipython",
        "version": 3
      },
      "file_extension": ".py",
      "mimetype": "text/x-python",
      "name": "python",
      "nbconvert_exporter": "python",
      "pygments_lexer": "ipython3",
      "version": "3.11.3"
    },
    "orig_nbformat": 4,
    "colab": {
      "provenance": [],
      "include_colab_link": true
    }
  },
  "nbformat": 4,
  "nbformat_minor": 0
}