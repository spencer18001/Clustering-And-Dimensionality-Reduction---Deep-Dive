{
  "cells": [
    {
      "cell_type": "markdown",
      "metadata": {
        "id": "view-in-github",
        "colab_type": "text"
      },
      "source": [
        "<a href=\"https://colab.research.google.com/github/spencer18001/Clustering-And-Dimensionality-Reduction---Deep-Dive/blob/main/03/0306.ipynb\" target=\"_parent\"><img src=\"https://colab.research.google.com/assets/colab-badge.svg\" alt=\"Open In Colab\"/></a>"
      ]
    },
    {
      "cell_type": "markdown",
      "metadata": {
        "id": "30IslPpoAYZe"
      },
      "source": [
        "### Operations on single numpy arrays\n",
        "\n",
        "#### Lecture agenda\n",
        "\n",
        "- Operations on 1-D and 2-D arrays\n",
        "\n",
        "- Array reshaping"
      ]
    },
    {
      "cell_type": "code",
      "execution_count": null,
      "metadata": {
        "id": "DriDbCJjAYZi"
      },
      "outputs": [],
      "source": [
        "import numpy as np"
      ]
    },
    {
      "cell_type": "markdown",
      "metadata": {
        "id": "_vzOxzjrAYZj"
      },
      "source": [
        "##### Handling 1-D arrays\n"
      ]
    },
    {
      "cell_type": "code",
      "execution_count": null,
      "metadata": {
        "colab": {
          "base_uri": "https://localhost:8080/"
        },
        "id": "ywCcAJ8mAYZj",
        "outputId": "d837e936-51de-42cd-e422-351cc846ffb1"
      },
      "outputs": [
        {
          "data": {
            "text/plain": [
              "array([1, 2, 3, 4, 5, 6])"
            ]
          },
          "execution_count": 2,
          "metadata": {},
          "output_type": "execute_result"
        }
      ],
      "source": [
        "arr1 = np.array([1, 2, 3, 4, 5, 6])\n",
        "arr1"
      ]
    },
    {
      "cell_type": "code",
      "execution_count": null,
      "metadata": {
        "colab": {
          "base_uri": "https://localhost:8080/"
        },
        "id": "tOBpPHrwAYZk",
        "outputId": "13dc1b12-4ee1-4348-aac6-7c92651cebe0"
      },
      "outputs": [
        {
          "name": "stdout",
          "output_type": "stream",
          "text": [
            "Square root: [1.         1.41421356 1.73205081 2.         2.23606798 2.44948974]\n",
            "Exponential: [  2.71828183   7.3890561   20.08553692  54.59815003 148.4131591\n",
            " 403.42879349]\n",
            "Log: [0.         0.69314718 1.09861229 1.38629436 1.60943791 1.79175947]\n"
          ]
        }
      ],
      "source": [
        "# Mathematical operations\n",
        "\n",
        "# Square root of each element\n",
        "print(\"Square root:\", np.sqrt(arr1))\n",
        "\n",
        "# Exponential (base e) of each element\n",
        "print(\"Exponential:\", np.exp(arr1))\n",
        "\n",
        "# Log of each element\n",
        "print(\"Log:\", np.log(arr1))"
      ]
    },
    {
      "cell_type": "code",
      "execution_count": null,
      "metadata": {
        "colab": {
          "base_uri": "https://localhost:8080/"
        },
        "id": "-Cpq5n1QAYZk",
        "outputId": "cc30c82b-84b8-4345-eb38-5f8b3398aed8"
      },
      "outputs": [
        {
          "name": "stdout",
          "output_type": "stream",
          "text": [
            "Addition: [2 3 4 5 6 7]\n",
            "Multiplication: [ 2  4  6  8 10 12]\n",
            "Greather than 2: [False False  True  True  True  True]\n"
          ]
        }
      ],
      "source": [
        "# Operations with scalars\n",
        "\n",
        "# Adding a scalar to all elements in the array\n",
        "print(\"Addition:\", arr1 + 1)\n",
        "\n",
        "# Multiplying all elements in the array by a scalar\n",
        "print(\"Multiplication:\", arr1 * 2)\n",
        "\n",
        "# Comparison with a scalar\n",
        "print(\"Greather than 2:\", arr1 > 2)"
      ]
    },
    {
      "cell_type": "code",
      "execution_count": null,
      "metadata": {
        "colab": {
          "base_uri": "https://localhost:8080/"
        },
        "id": "H-RnZPxHAYZl",
        "outputId": "bcb8441b-1233-4c66-ea5c-45df7b5418c4"
      },
      "outputs": [
        {
          "name": "stdout",
          "output_type": "stream",
          "text": [
            "Sum: 21\n",
            "Average: 3.5\n",
            "Max: 6\n",
            "Min: 1\n"
          ]
        }
      ],
      "source": [
        "# Aggregation functions\n",
        "\n",
        "# Sum of elements\n",
        "print(\"Sum:\", np.sum(arr1))\n",
        "\n",
        "# Average of elements\n",
        "print(\"Average:\", np.mean(arr1))\n",
        "\n",
        "# Maximum element\n",
        "print(\"Max:\", np.max(arr1))\n",
        "\n",
        "# Minimum element\n",
        "print(\"Min:\", np.min(arr1))"
      ]
    },
    {
      "cell_type": "code",
      "execution_count": null,
      "metadata": {
        "colab": {
          "base_uri": "https://localhost:8080/"
        },
        "id": "nrbSkd8sAYZm",
        "outputId": "ad8f9b84-5529-4f07-ec8d-6c06f5830e20"
      },
      "outputs": [
        {
          "name": "stdout",
          "output_type": "stream",
          "text": [
            "Sorted: [1 1 2 4 8]\n"
          ]
        }
      ],
      "source": [
        "# Sorting\n",
        "\n",
        "arr3 = np.array([2,1,4,1,8])\n",
        "arr3.sort()\n",
        "\n",
        "print(\"Sorted:\", arr3)"
      ]
    },
    {
      "cell_type": "markdown",
      "metadata": {
        "id": "z1F9y5NKAYZn"
      },
      "source": [
        "##### 2-D arrays - basic operations"
      ]
    },
    {
      "cell_type": "code",
      "execution_count": null,
      "metadata": {
        "colab": {
          "base_uri": "https://localhost:8080/"
        },
        "id": "Tc0pfCQkAYZn",
        "outputId": "e80a3c8a-6e07-4873-f084-687e0897d92b"
      },
      "outputs": [
        {
          "data": {
            "text/plain": [
              "array([[1, 2, 3],\n",
              "       [4, 5, 6]])"
            ]
          },
          "execution_count": 7,
          "metadata": {},
          "output_type": "execute_result"
        }
      ],
      "source": [
        "arr1 = np.array([[1, 2, 3], [4, 5, 6]])\n",
        "arr1"
      ]
    },
    {
      "cell_type": "code",
      "execution_count": null,
      "metadata": {
        "colab": {
          "base_uri": "https://localhost:8080/"
        },
        "id": "ziEnj24vAYZo",
        "outputId": "53dee73b-88eb-4d91-dac0-d1de6b28abd1"
      },
      "outputs": [
        {
          "name": "stdout",
          "output_type": "stream",
          "text": [
            "Square root: \n",
            " [[1.         1.41421356 1.73205081]\n",
            " [2.         2.23606798 2.44948974]]\n",
            "Exponential: '\n",
            " [[  2.71828183   7.3890561   20.08553692]\n",
            " [ 54.59815003 148.4131591  403.42879349]]\n",
            "Log: \n",
            " [[0.         0.69314718 1.09861229]\n",
            " [1.38629436 1.60943791 1.79175947]]\n"
          ]
        }
      ],
      "source": [
        "# Mathematical operations\n",
        "\n",
        "# Square root of each element\n",
        "print(\"Square root: \\n\", np.sqrt(arr1))\n",
        "\n",
        "# Exponential (base e) of each element\n",
        "print(\"Exponential: '\\n\", np.exp(arr1))\n",
        "\n",
        "# Log of each element\n",
        "print(\"Log: \\n\", np.log(arr1))"
      ]
    },
    {
      "cell_type": "code",
      "execution_count": null,
      "metadata": {
        "colab": {
          "base_uri": "https://localhost:8080/"
        },
        "id": "-PT9gBi1AYZo",
        "outputId": "dc40480d-e9d5-4b3b-f8d0-207a2e4a2b9a"
      },
      "outputs": [
        {
          "name": "stdout",
          "output_type": "stream",
          "text": [
            "Addition:\n",
            " [[2 3 4]\n",
            " [5 6 7]]\n",
            "Multiplication:\n",
            " [[ 2  4  6]\n",
            " [ 8 10 12]]\n",
            "Greather than 2:\n",
            " [[False False  True]\n",
            " [ True  True  True]]\n"
          ]
        }
      ],
      "source": [
        "# Working with scalars\n",
        "\n",
        "# Adding a scalar to all elements in the array\n",
        "print(\"Addition:\\n\", arr1 + 1)\n",
        "\n",
        "# Multiplying all elements in the array by a scalar\n",
        "print(\"Multiplication:\\n\", arr1 * 2)\n",
        "\n",
        "# Multiplying all elements in the array by a scalar\n",
        "print(\"Greather than 2:\\n\", arr1 > 2)"
      ]
    },
    {
      "cell_type": "code",
      "execution_count": null,
      "metadata": {
        "colab": {
          "base_uri": "https://localhost:8080/"
        },
        "id": "8GBnf65zAYZp",
        "outputId": "a4ca2c0c-a39a-4b39-c3cc-3525a50a9e55"
      },
      "outputs": [
        {
          "name": "stdout",
          "output_type": "stream",
          "text": [
            "Sum: 21\n",
            "Average: 3.5\n",
            "Max: 6\n",
            "Min: 1\n"
          ]
        }
      ],
      "source": [
        "# Aggregation of the whole array\n",
        "\n",
        "# Sum of elements\n",
        "print(\"Sum:\", np.sum(arr1))\n",
        "\n",
        "# Average of elements\n",
        "print(\"Average:\", np.mean(arr1))\n",
        "\n",
        "# Maximum element\n",
        "print(\"Max:\", np.max(arr1))\n",
        "\n",
        "# Minimum element\n",
        "print(\"Min:\", np.min(arr1))"
      ]
    },
    {
      "cell_type": "code",
      "execution_count": null,
      "metadata": {
        "colab": {
          "base_uri": "https://localhost:8080/"
        },
        "id": "INWd_QLbAYZp",
        "outputId": "cbda02ff-1d84-43d3-bbae-e0bbeffc2231"
      },
      "outputs": [
        {
          "name": "stdout",
          "output_type": "stream",
          "text": [
            "Sum: [5 7 9]\n",
            "Average: [2.5 3.5 4.5]\n",
            "Max: [4 5 6]\n",
            "Min: [1 2 3]\n"
          ]
        }
      ],
      "source": [
        "# Aggregating columns\n",
        "\n",
        "# Sum of elements\n",
        "print(\"Sum:\", np.sum(arr1, axis=0)) # !!!!!\n",
        "\n",
        "# Average of elements\n",
        "print(\"Average:\", np.mean(arr1, axis=0))\n",
        "\n",
        "# Maximum element\n",
        "print(\"Max:\", np.max(arr1, axis=0))\n",
        "\n",
        "# Minimum element\n",
        "print(\"Min:\", np.min(arr1, axis=0))"
      ]
    },
    {
      "cell_type": "code",
      "execution_count": null,
      "metadata": {
        "colab": {
          "base_uri": "https://localhost:8080/"
        },
        "id": "fWyyJqW0AYZq",
        "outputId": "4781f406-b9ac-426c-a9a6-852e42b4ce4b"
      },
      "outputs": [
        {
          "name": "stdout",
          "output_type": "stream",
          "text": [
            "Sum: [ 6 15]\n",
            "Average: [2. 5.]\n",
            "Max: [3 6]\n",
            "Min: [1 4]\n"
          ]
        }
      ],
      "source": [
        "# Aggregating rows\n",
        "\n",
        "# Sum of elements\n",
        "print(\"Sum:\", np.sum(arr1, axis=1))\n",
        "\n",
        "# Average of elements\n",
        "print(\"Average:\", np.mean(arr1, axis=1))\n",
        "\n",
        "# Maximum element\n",
        "print(\"Max:\", np.max(arr1, axis=1))\n",
        "\n",
        "# Minimum element\n",
        "print(\"Min:\", np.min(arr1, axis=1))"
      ]
    },
    {
      "cell_type": "markdown",
      "metadata": {
        "id": "VMLvAmHpAYZq"
      },
      "source": [
        "##### Array reshaping"
      ]
    },
    {
      "cell_type": "code",
      "execution_count": null,
      "metadata": {
        "colab": {
          "base_uri": "https://localhost:8080/"
        },
        "id": "0-OlgDuuAYZq",
        "outputId": "6d8df1c6-6112-4098-c9a8-c9da05785e4b"
      },
      "outputs": [
        {
          "name": "stdout",
          "output_type": "stream",
          "text": [
            "[[1 2 3]\n",
            " [4 5 6]]\n",
            "Shape : (2, 3)\n"
          ]
        }
      ],
      "source": [
        "arr1 = np.array([[1, 2, 3], [4, 5, 6]])\n",
        "print(arr1)\n",
        "print('Shape : {}'.format(arr1.shape))"
      ]
    },
    {
      "cell_type": "code",
      "execution_count": null,
      "metadata": {
        "colab": {
          "base_uri": "https://localhost:8080/"
        },
        "id": "b6YdsXe3AYZq",
        "outputId": "c9df0cfe-baea-429f-acbd-70c5bb5fdb70"
      },
      "outputs": [
        {
          "name": "stdout",
          "output_type": "stream",
          "text": [
            "[[1 4]\n",
            " [2 5]\n",
            " [3 6]]\n",
            "Shape : (3, 2)\n"
          ]
        }
      ],
      "source": [
        "# Transpose\n",
        "arr2 = arr1.T\n",
        "print(arr2)\n",
        "print('Shape : {}'.format(arr2.shape))"
      ]
    },
    {
      "cell_type": "code",
      "execution_count": null,
      "metadata": {
        "colab": {
          "base_uri": "https://localhost:8080/"
        },
        "id": "nf5Kfi3GAYZr",
        "outputId": "f37fb3aa-e78e-46e6-efd6-d2c8fbb19399"
      },
      "outputs": [
        {
          "name": "stdout",
          "output_type": "stream",
          "text": [
            "[[1 2]\n",
            " [3 4]\n",
            " [5 6]]\n",
            "Shape : (3, 2)\n"
          ]
        }
      ],
      "source": [
        "# Custom reshape\n",
        "arr3 = np.reshape(arr1, newshape=(3, 2)) # !!!!!\n",
        "print(arr3)\n",
        "print('Shape : {}'.format(arr3.shape))"
      ]
    },
    {
      "cell_type": "code",
      "execution_count": null,
      "metadata": {
        "colab": {
          "base_uri": "https://localhost:8080/"
        },
        "id": "TNn8TsjjAYZr",
        "outputId": "1972ed2c-68e5-4081-f5a7-3c27e7634d1e"
      },
      "outputs": [
        {
          "name": "stdout",
          "output_type": "stream",
          "text": [
            "[1 2 3 4]\n",
            "Shape : (4,)\n"
          ]
        }
      ],
      "source": [
        "arr4 = np.array([1,2,3,4])\n",
        "print(arr4)\n",
        "print('Shape : {}'.format(arr4.shape))\n"
      ]
    },
    {
      "cell_type": "code",
      "execution_count": null,
      "metadata": {
        "colab": {
          "base_uri": "https://localhost:8080/"
        },
        "id": "L44VlgZRAYZr",
        "outputId": "98480a51-15ae-4d0a-e8d0-e57586de52cc"
      },
      "outputs": [
        {
          "name": "stdout",
          "output_type": "stream",
          "text": [
            "[[1 2 3 4]]\n",
            "Shape : (1, 4)\n"
          ]
        }
      ],
      "source": [
        "# Add new dimension at the beggining of the shape\n",
        "arr5 = np.expand_dims(arr4, axis=0) # !!!!!\n",
        "print(arr5)\n",
        "print('Shape : {}'.format(arr5.shape))"
      ]
    },
    {
      "cell_type": "code",
      "execution_count": null,
      "metadata": {
        "colab": {
          "base_uri": "https://localhost:8080/"
        },
        "id": "azsvCrj5AYZr",
        "outputId": "c40b12a1-84b2-4f6b-d637-f27f6ce2cc84"
      },
      "outputs": [
        {
          "name": "stdout",
          "output_type": "stream",
          "text": [
            "[[1]\n",
            " [2]\n",
            " [3]\n",
            " [4]]\n",
            "Shape : (4, 1)\n"
          ]
        }
      ],
      "source": [
        "# Add new dimension at the end of the shape\n",
        "arr6 = np.expand_dims(arr4, axis=1)\n",
        "print(arr6)\n",
        "print('Shape : {}'.format(arr6.shape))"
      ]
    },
    {
      "cell_type": "code",
      "execution_count": null,
      "metadata": {
        "colab": {
          "base_uri": "https://localhost:8080/"
        },
        "id": "RQloorMhAYZs",
        "outputId": "f28f1daf-d111-4986-f352-329c59841aaa"
      },
      "outputs": [
        {
          "name": "stdout",
          "output_type": "stream",
          "text": [
            "[1 2 3 4]\n",
            "Shape : (4,)\n"
          ]
        }
      ],
      "source": [
        "arr7 = np.squeeze(arr6) # !!!!!\n",
        "print(arr7)\n",
        "print('Shape : {}'.format(arr7.shape))"
      ]
    },
    {
      "cell_type": "code",
      "execution_count": null,
      "metadata": {
        "colab": {
          "base_uri": "https://localhost:8080/"
        },
        "id": "CWGSpkTfAYZs",
        "outputId": "1757e1b2-bcad-43fb-c7ba-d00634404bdd"
      },
      "outputs": [
        {
          "name": "stdout",
          "output_type": "stream",
          "text": [
            "[1 2 3 4]\n",
            "Shape : (4,)\n"
          ]
        }
      ],
      "source": [
        "arr8 = np.squeeze(arr5)\n",
        "print(arr8)\n",
        "print('Shape : {}'.format(arr8.shape))"
      ]
    },
    {
      "cell_type": "markdown",
      "metadata": {
        "id": "YNUKW_5XAYZs"
      },
      "source": [
        "### Summary\n",
        "\n",
        "We have learned about:\n",
        "\n",
        "- Operations on 1-D and 2-D arrays\n",
        "\n",
        "- Array reshaping"
      ]
    }
  ],
  "metadata": {
    "colab": {
      "provenance": [],
      "include_colab_link": true
    },
    "kernelspec": {
      "display_name": "test_env_2",
      "language": "python",
      "name": "python3"
    },
    "language_info": {
      "codemirror_mode": {
        "name": "ipython",
        "version": 3
      },
      "file_extension": ".py",
      "mimetype": "text/x-python",
      "name": "python",
      "nbconvert_exporter": "python",
      "pygments_lexer": "ipython3",
      "version": "3.11.3"
    },
    "orig_nbformat": 4
  },
  "nbformat": 4,
  "nbformat_minor": 0
}