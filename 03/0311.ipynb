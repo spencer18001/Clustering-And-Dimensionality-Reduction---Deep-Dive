{
  "cells": [
    {
      "cell_type": "markdown",
      "metadata": {
        "colab_type": "text",
        "id": "view-in-github"
      },
      "source": [
        "<a href=\"https://colab.research.google.com/github/spencer18001/Clustering-And-Dimensionality-Reduction---Deep-Dive/blob/main/03/0311.ipynb\" target=\"_parent\"><img src=\"https://colab.research.google.com/assets/colab-badge.svg\" alt=\"Open In Colab\"/></a>"
      ]
    },
    {
      "cell_type": "markdown",
      "metadata": {
        "id": "UCpoG8RCB5q0"
      },
      "source": [
        "### Working with matrices\n",
        "\n",
        "#### Lecture agenda\n",
        "\n",
        "- Creating matrices\n",
        "- Matrix adition and multiplication"
      ]
    },
    {
      "cell_type": "markdown",
      "metadata": {
        "id": "jufGo9LgB5q4"
      },
      "source": [
        "##### Creating matrices"
      ]
    },
    {
      "cell_type": "code",
      "execution_count": 1,
      "metadata": {
        "id": "YeyRwHrIB5q4"
      },
      "outputs": [],
      "source": [
        "import numpy as np"
      ]
    },
    {
      "cell_type": "code",
      "execution_count": 2,
      "metadata": {
        "colab": {
          "base_uri": "https://localhost:8080/"
        },
        "id": "eZaSIrv-B5q5",
        "outputId": "03ffdfbd-480f-48dd-ef28-94418b1eccf8"
      },
      "outputs": [
        {
          "data": {
            "text/plain": [
              "array([[ 1,  2,  3],\n",
              "       [ 4,  5,  6],\n",
              "       [ 7,  8,  9],\n",
              "       [10, 11, 12]])"
            ]
          },
          "execution_count": 2,
          "metadata": {},
          "output_type": "execute_result"
        }
      ],
      "source": [
        "# Custom matrix\n",
        "\n",
        "matrix = np.array([[1, 2, 3], [4, 5, 6], [7, 8, 9], [10, 11, 12]])\n",
        "matrix"
      ]
    },
    {
      "cell_type": "code",
      "execution_count": 3,
      "metadata": {
        "colab": {
          "base_uri": "https://localhost:8080/"
        },
        "id": "tsK26tIeB5q6",
        "outputId": "9d73ed94-1b37-446b-a4ff-b5246959c6da"
      },
      "outputs": [
        {
          "data": {
            "text/plain": [
              "array([[0., 0., 0.],\n",
              "       [0., 0., 0.],\n",
              "       [0., 0., 0.]])"
            ]
          },
          "execution_count": 3,
          "metadata": {},
          "output_type": "execute_result"
        }
      ],
      "source": [
        "# Zero matrix\n",
        "\n",
        "zero_matrix = np.zeros((3, 3))\n",
        "zero_matrix"
      ]
    },
    {
      "cell_type": "code",
      "execution_count": 4,
      "metadata": {
        "colab": {
          "base_uri": "https://localhost:8080/"
        },
        "id": "x4eM13jqB5q6",
        "outputId": "c7af8097-83ba-4a23-c6c1-ce973a55e37a"
      },
      "outputs": [
        {
          "data": {
            "text/plain": [
              "array([[1., 0., 0.],\n",
              "       [0., 1., 0.],\n",
              "       [0., 0., 1.]])"
            ]
          },
          "execution_count": 4,
          "metadata": {},
          "output_type": "execute_result"
        }
      ],
      "source": [
        "# Identity matrix\n",
        "\n",
        "identity_matrix = np.eye(3)\n",
        "identity_matrix"
      ]
    },
    {
      "cell_type": "code",
      "execution_count": 5,
      "metadata": {
        "colab": {
          "base_uri": "https://localhost:8080/"
        },
        "id": "OTzdro78B5q6",
        "outputId": "fa2418ea-ecb8-47b7-869e-3dd4d6d48b07"
      },
      "outputs": [
        {
          "name": "stdout",
          "output_type": "stream",
          "text": [
            "[[1. 1. 1.]\n",
            " [1. 1. 1.]\n",
            " [1. 1. 1.]]\n"
          ]
        }
      ],
      "source": [
        "# Matrix of ones\n",
        "\n",
        "ones_matrix = np.ones((3, 3))\n",
        "print(ones_matrix)"
      ]
    },
    {
      "cell_type": "code",
      "execution_count": 6,
      "metadata": {
        "colab": {
          "base_uri": "https://localhost:8080/"
        },
        "id": "tG9r2d1RB5q7",
        "outputId": "16e8f120-b590-47bf-e1ff-3faf60ec8314"
      },
      "outputs": [
        {
          "data": {
            "text/plain": [
              "array([[0.90565692, 0.28869347, 0.10255652],\n",
              "       [0.34841414, 0.43470568, 0.4388235 ],\n",
              "       [0.69353211, 0.1378665 , 0.30396029]])"
            ]
          },
          "execution_count": 6,
          "metadata": {},
          "output_type": "execute_result"
        }
      ],
      "source": [
        "# Random matrix\n",
        "# np.random.random: Return random floats in the half-open interval [0.0, 1.0).\n",
        "\n",
        "random_matrix = np.random.random((3, 3))\n",
        "random_matrix"
      ]
    },
    {
      "cell_type": "markdown",
      "metadata": {
        "id": "DHFBqA2yB5q8"
      },
      "source": [
        "##### Matrix operations"
      ]
    },
    {
      "cell_type": "code",
      "execution_count": 7,
      "metadata": {
        "colab": {
          "base_uri": "https://localhost:8080/"
        },
        "id": "V--ox7IAB5q8",
        "outputId": "5213e91a-2e9d-4e15-d530-844f41a827e8"
      },
      "outputs": [
        {
          "name": "stdout",
          "output_type": "stream",
          "text": [
            "Mat 1 : \n",
            " [[1 2]\n",
            " [3 4]]\n",
            "Mat 2 : \n",
            " [[5 6]\n",
            " [7 8]]\n"
          ]
        },
        {
          "data": {
            "text/plain": [
              "array([[ 6,  8],\n",
              "       [10, 12]])"
            ]
          },
          "execution_count": 7,
          "metadata": {},
          "output_type": "execute_result"
        }
      ],
      "source": [
        "# Matrix addition\n",
        "\n",
        "a = np.array([[1, 2], [3, 4]])\n",
        "b = np.array([[5, 6], [7, 8]])\n",
        "\n",
        "print('Mat 1 : \\n {}'.format(a))\n",
        "print('Mat 2 : \\n {}'.format(b))\n",
        "\n",
        "c = a + b\n",
        "c"
      ]
    },
    {
      "cell_type": "markdown",
      "metadata": {
        "id": "0V8oSz0WB5q9"
      },
      "source": [
        "Matrix multiplication\n",
        "\n",
        "![](https://github.com/spencer18001/Clustering-And-Dimensionality-Reduction---Deep-Dive/blob/main/imgs/mat_mul.png?raw=1)\n",
        "\n",
        "Source: https://commons.wikimedia.org/wiki/File:Matrix_multiplication_diagram.svg"
      ]
    },
    {
      "cell_type": "code",
      "execution_count": 8,
      "metadata": {
        "colab": {
          "base_uri": "https://localhost:8080/"
        },
        "id": "jaFrvzzXB5q9",
        "outputId": "3f2dcbc6-2b9b-4605-c79d-62e688b03252"
      },
      "outputs": [
        {
          "name": "stdout",
          "output_type": "stream",
          "text": [
            "Mat 1 : \n",
            " [[1 2]\n",
            " [3 4]]\n",
            "Mat 2 : \n",
            " [[5 6]\n",
            " [7 8]]\n"
          ]
        },
        {
          "data": {
            "text/plain": [
              "array([[19, 22],\n",
              "       [43, 50]])"
            ]
          },
          "execution_count": 8,
          "metadata": {},
          "output_type": "execute_result"
        }
      ],
      "source": [
        "# Matrix multiplication\n",
        "\n",
        "a = np.array([[1, 2], [3, 4]])\n",
        "b = np.array([[5, 6], [7, 8]])\n",
        "\n",
        "print('Mat 1 : \\n {}'.format(a))\n",
        "print('Mat 2 : \\n {}'.format(b))\n",
        "\n",
        "c = a @ b\n",
        "c"
      ]
    },
    {
      "cell_type": "code",
      "execution_count": 9,
      "metadata": {
        "colab": {
          "base_uri": "https://localhost:8080/"
        },
        "id": "0B7rp3SpB5q9",
        "outputId": "d70e1253-eb2b-41f2-8e17-60bffe21faa7"
      },
      "outputs": [
        {
          "data": {
            "text/plain": [
              "array([[ 5, 12],\n",
              "       [21, 32]])"
            ]
          },
          "execution_count": 9,
          "metadata": {},
          "output_type": "execute_result"
        }
      ],
      "source": [
        "a*b"
      ]
    },
    {
      "cell_type": "code",
      "execution_count": 10,
      "metadata": {
        "colab": {
          "base_uri": "https://localhost:8080/"
        },
        "id": "dAJbsHK9B5q-",
        "outputId": "dedbfb4d-482b-4143-9241-fa9616f97c2a"
      },
      "outputs": [
        {
          "name": "stdout",
          "output_type": "stream",
          "text": [
            "Mat 1 : \n",
            " [[1 2]\n",
            " [3 4]]\n"
          ]
        },
        {
          "data": {
            "text/plain": [
              "array([[1, 3],\n",
              "       [2, 4]])"
            ]
          },
          "execution_count": 10,
          "metadata": {},
          "output_type": "execute_result"
        }
      ],
      "source": [
        "# Matrix transponse\n",
        "\n",
        "a = np.array([[1, 2], [3, 4]])\n",
        "\n",
        "print('Mat 1 : \\n {}'.format(a))\n",
        "\n",
        "b = a.T\n",
        "b"
      ]
    }
  ],
  "metadata": {
    "colab": {
      "include_colab_link": true,
      "provenance": []
    },
    "kernelspec": {
      "display_name": "test_env_2",
      "language": "python",
      "name": "python3"
    },
    "language_info": {
      "codemirror_mode": {
        "name": "ipython",
        "version": 3
      },
      "file_extension": ".py",
      "mimetype": "text/x-python",
      "name": "python",
      "nbconvert_exporter": "python",
      "pygments_lexer": "ipython3",
      "version": "3.11.3"
    },
    "orig_nbformat": 4
  },
  "nbformat": 4,
  "nbformat_minor": 0
}
