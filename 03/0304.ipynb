{
  "cells": [
    {
      "cell_type": "markdown",
      "metadata": {
        "id": "view-in-github",
        "colab_type": "text"
      },
      "source": [
        "<a href=\"https://colab.research.google.com/github/spencer18001/Clustering-And-Dimensionality-Reduction---Deep-Dive/blob/main/03/0304.ipynb\" target=\"_parent\"><img src=\"https://colab.research.google.com/assets/colab-badge.svg\" alt=\"Open In Colab\"/></a>"
      ]
    },
    {
      "cell_type": "markdown",
      "metadata": {
        "id": "GOO3DgsbsedH"
      },
      "source": [
        "## Creating, slicing and modifying\n",
        "\n",
        "### Lecture agenda\n",
        "\n",
        "- Creating numpy arrays\n",
        "  \n",
        "- Slicing numpy arrays\n",
        "- Modifying numpy arrays\n",
        "- Searching for elements"
      ]
    },
    {
      "cell_type": "code",
      "execution_count": 1,
      "metadata": {
        "id": "RAUqSxiksedK"
      },
      "outputs": [],
      "source": [
        "import numpy as np"
      ]
    },
    {
      "cell_type": "markdown",
      "metadata": {
        "id": "gLb_l3HOsedL"
      },
      "source": [
        "### Creating numpy arrays"
      ]
    },
    {
      "cell_type": "code",
      "execution_count": 2,
      "metadata": {
        "colab": {
          "base_uri": "https://localhost:8080/"
        },
        "id": "nz8ncOvlsedM",
        "outputId": "f5e1c2ac-25fa-4a39-9990-93a69c4c0049"
      },
      "outputs": [
        {
          "output_type": "stream",
          "name": "stdout",
          "text": [
            "[1 2 3 4 5]\n",
            "<class 'numpy.ndarray'>\n"
          ]
        }
      ],
      "source": [
        "# 1D array from a list\n",
        "arr1 = np.array([1,2,3,4,5])\n",
        "print(arr1)\n",
        "print(type(arr1))"
      ]
    },
    {
      "cell_type": "code",
      "execution_count": 3,
      "metadata": {
        "colab": {
          "base_uri": "https://localhost:8080/"
        },
        "id": "BVzGv_KCsedM",
        "outputId": "903648ab-e858-41a7-ac3e-045b88d6d598"
      },
      "outputs": [
        {
          "output_type": "stream",
          "name": "stdout",
          "text": [
            "[[1 2 3]\n",
            " [4 5 6]]\n",
            "<class 'numpy.ndarray'>\n"
          ]
        }
      ],
      "source": [
        "# 2D array from a list\n",
        "arr2 = np.array([[1,2,3], [4,5,6]])\n",
        "print(arr2)\n",
        "print(type(arr2))"
      ]
    },
    {
      "cell_type": "code",
      "execution_count": 4,
      "metadata": {
        "colab": {
          "base_uri": "https://localhost:8080/"
        },
        "id": "9Nqt9uwSsedM",
        "outputId": "b6fc9f59-6fe6-4db0-8b95-e80eb35f0031"
      },
      "outputs": [
        {
          "output_type": "stream",
          "name": "stdout",
          "text": [
            "(5,)\n",
            "(2, 3)\n"
          ]
        }
      ],
      "source": [
        "# shape\n",
        "print(arr1.shape)\n",
        "print(arr2.shape)"
      ]
    },
    {
      "cell_type": "code",
      "execution_count": 5,
      "metadata": {
        "colab": {
          "base_uri": "https://localhost:8080/"
        },
        "id": "y_BfaIUEsedN",
        "outputId": "109d1644-58ff-4b7e-b6f4-bc98ac53e7db"
      },
      "outputs": [
        {
          "output_type": "execute_result",
          "data": {
            "text/plain": [
              "array([[0., 0., 0., 0., 0.],\n",
              "       [0., 0., 0., 0., 0.],\n",
              "       [0., 0., 0., 0., 0.]])"
            ]
          },
          "metadata": {},
          "execution_count": 5
        }
      ],
      "source": [
        "# 2D array of zeros\n",
        "zero_arr = np.zeros(shape=(3,5))\n",
        "zero_arr"
      ]
    },
    {
      "cell_type": "code",
      "execution_count": 6,
      "metadata": {
        "colab": {
          "base_uri": "https://localhost:8080/"
        },
        "id": "8qDB_qhbsedN",
        "outputId": "5fe818ab-2ba0-4afd-a489-8db67ae0758c"
      },
      "outputs": [
        {
          "output_type": "execute_result",
          "data": {
            "text/plain": [
              "array([0., 0., 0.])"
            ]
          },
          "metadata": {},
          "execution_count": 6
        }
      ],
      "source": [
        "# 1D array of zeros\n",
        "zero_arr = np.zeros(shape=(3))\n",
        "zero_arr"
      ]
    },
    {
      "cell_type": "code",
      "execution_count": 7,
      "metadata": {
        "colab": {
          "base_uri": "https://localhost:8080/"
        },
        "id": "321umRjUsedO",
        "outputId": "b1c59534-5689-47fd-e5ad-b10106ddefba"
      },
      "outputs": [
        {
          "output_type": "execute_result",
          "data": {
            "text/plain": [
              "array([[7, 7, 7, 7, 7],\n",
              "       [7, 7, 7, 7, 7],\n",
              "       [7, 7, 7, 7, 7]])"
            ]
          },
          "metadata": {},
          "execution_count": 7
        }
      ],
      "source": [
        "# Array containing a single unique value\n",
        "const_arr = np.full(shape=(3,5), fill_value=7) # !!!!!\n",
        "const_arr"
      ]
    },
    {
      "cell_type": "code",
      "execution_count": 8,
      "metadata": {
        "colab": {
          "base_uri": "https://localhost:8080/"
        },
        "id": "DsP6c60TsedP",
        "outputId": "e7e50e76-7a74-4a0d-d547-bccb2b202f85"
      },
      "outputs": [
        {
          "output_type": "execute_result",
          "data": {
            "text/plain": [
              "array([0, 1, 2, 3, 4, 5, 6, 7, 8, 9])"
            ]
          },
          "metadata": {},
          "execution_count": 8
        }
      ],
      "source": [
        "# Numpy arange\n",
        "arrange1 = np.arange(10)\n",
        "arrange1"
      ]
    },
    {
      "cell_type": "code",
      "execution_count": 9,
      "metadata": {
        "colab": {
          "base_uri": "https://localhost:8080/"
        },
        "id": "x6C8VqW-sedP",
        "outputId": "b3fdff45-df2a-4184-9ef6-fddc2ba5010d"
      },
      "outputs": [
        {
          "output_type": "execute_result",
          "data": {
            "text/plain": [
              "array([0. , 0.5, 1. , 1.5, 2. , 2.5, 3. , 3.5, 4. , 4.5, 5. , 5.5, 6. ,\n",
              "       6.5, 7. , 7.5, 8. , 8.5, 9. , 9.5])"
            ]
          },
          "metadata": {},
          "execution_count": 9
        }
      ],
      "source": [
        "# Create array based on start, stop and step\n",
        "arrange1 = np.arange(0, 10, 0.5) # !!!!!\n",
        "arrange1"
      ]
    },
    {
      "cell_type": "code",
      "execution_count": 10,
      "metadata": {
        "colab": {
          "base_uri": "https://localhost:8080/"
        },
        "id": "iZ-579OvsedP",
        "outputId": "887b8d66-7c7c-4f91-bccc-3d8703271535"
      },
      "outputs": [
        {
          "output_type": "execute_result",
          "data": {
            "text/plain": [
              "array([[ 3, 73, 40, 84, 74, 16, 60, 67],\n",
              "       [ 5, 43, 44, 66, 71, 80, 50, 57],\n",
              "       [45, 63, 85, 65, 70, 45, 93, 45],\n",
              "       [50, 79, 62, 85,  0, 94, 38, 39],\n",
              "       [60, 25, 52, 52, 48, 71, 46, 79]])"
            ]
          },
          "metadata": {},
          "execution_count": 10
        }
      ],
      "source": [
        "# Random array\n",
        "# np.random.randint: Return random integers from low (inclusive) to high (exclusive).\n",
        "rand_arr = np.random.randint(0, 100, (5, 8)) # !!!!!\n",
        "rand_arr"
      ]
    },
    {
      "cell_type": "markdown",
      "metadata": {
        "id": "kWlZ_4APsedQ"
      },
      "source": [
        "### Slicing numpy arrays\n",
        "\n",
        "Slicing in NumPy is a way of accessing a subset of elements from a NumPy array."
      ]
    },
    {
      "cell_type": "markdown",
      "metadata": {
        "id": "n919cx5ksedQ"
      },
      "source": [
        "##### 1D array"
      ]
    },
    {
      "cell_type": "code",
      "execution_count": 11,
      "metadata": {
        "colab": {
          "base_uri": "https://localhost:8080/"
        },
        "id": "sqyBZhYgsedQ",
        "outputId": "736e7791-d230-45e2-f42a-a80446b1de9d"
      },
      "outputs": [
        {
          "output_type": "execute_result",
          "data": {
            "text/plain": [
              "array([1, 2, 3, 4, 5])"
            ]
          },
          "metadata": {},
          "execution_count": 11
        }
      ],
      "source": [
        "arr1 = np.array([1,2,3,4,5])\n",
        "arr1"
      ]
    },
    {
      "cell_type": "code",
      "execution_count": 12,
      "metadata": {
        "colab": {
          "base_uri": "https://localhost:8080/"
        },
        "id": "63WUkEf-sedR",
        "outputId": "183d6138-9643-4d66-b49a-1d18ec63419a"
      },
      "outputs": [
        {
          "output_type": "execute_result",
          "data": {
            "text/plain": [
              "(1, 3, 5)"
            ]
          },
          "metadata": {},
          "execution_count": 12
        }
      ],
      "source": [
        "arr1[0], arr1[2], arr1[-1]"
      ]
    },
    {
      "cell_type": "code",
      "execution_count": 13,
      "metadata": {
        "colab": {
          "base_uri": "https://localhost:8080/"
        },
        "id": "rCv2CnnusedR",
        "outputId": "f33cfd8e-d8f1-4b2f-82ea-49bcfcec56a8"
      },
      "outputs": [
        {
          "output_type": "execute_result",
          "data": {
            "text/plain": [
              "(array([3, 4]), array([1, 2, 3]), array([3, 4, 5]), array([2, 3]))"
            ]
          },
          "metadata": {},
          "execution_count": 13
        }
      ],
      "source": [
        "arr1[2:4], arr1[:3], arr1[2:], arr1[1:-2]"
      ]
    },
    {
      "cell_type": "code",
      "execution_count": 14,
      "metadata": {
        "colab": {
          "base_uri": "https://localhost:8080/"
        },
        "id": "AN1RsELpsedS",
        "outputId": "8138c763-8f5a-46d5-8c1e-7369bbfc90a3"
      },
      "outputs": [
        {
          "output_type": "execute_result",
          "data": {
            "text/plain": [
              "array([1, 3])"
            ]
          },
          "metadata": {},
          "execution_count": 14
        }
      ],
      "source": [
        "# Slice with step\n",
        "arr1[0:4:2] # !!!!!"
      ]
    },
    {
      "cell_type": "code",
      "execution_count": 15,
      "metadata": {
        "colab": {
          "base_uri": "https://localhost:8080/"
        },
        "id": "bO9UTkPCsedS",
        "outputId": "73a66eff-e4f9-4b49-b6fa-ccceba6ffb89"
      },
      "outputs": [
        {
          "output_type": "execute_result",
          "data": {
            "text/plain": [
              "(array([1, 4]), array([1, 4]))"
            ]
          },
          "metadata": {},
          "execution_count": 15
        }
      ],
      "source": [
        "# Slice with another numpy array\n",
        "idx_array = np.array([0, 3])\n",
        "arr1[idx_array], arr1[[0, 3]] # !!!!!"
      ]
    },
    {
      "cell_type": "code",
      "execution_count": 16,
      "metadata": {
        "colab": {
          "base_uri": "https://localhost:8080/"
        },
        "id": "CoCNWDfusedT",
        "outputId": "668b0897-5554-4d46-acd9-c33f904629d4"
      },
      "outputs": [
        {
          "output_type": "execute_result",
          "data": {
            "text/plain": [
              "(array([1, 2, 4, 5]), array([1, 2, 4, 5]))"
            ]
          },
          "metadata": {},
          "execution_count": 16
        }
      ],
      "source": [
        "# Slice using boolean array\n",
        "bool_arr = np.array([True, True, False, True, True])\n",
        "arr1[bool_arr], arr1[[True, True, False, True, True]] # !!!!!"
      ]
    },
    {
      "cell_type": "markdown",
      "metadata": {
        "id": "QpgP3O2_sedT"
      },
      "source": [
        "##### 2D arrays"
      ]
    },
    {
      "cell_type": "code",
      "execution_count": 17,
      "metadata": {
        "colab": {
          "base_uri": "https://localhost:8080/"
        },
        "id": "gz3ToMTisedT",
        "outputId": "8c655ec7-b0b0-4aa3-fd99-6257790edb95"
      },
      "outputs": [
        {
          "output_type": "execute_result",
          "data": {
            "text/plain": [
              "array([[22, 32,  0, 91, 35, 43, 78, 39],\n",
              "       [88, 26, 44, 18, 31, 63, 61, 69],\n",
              "       [49, 72, 46, 72,  9, 39, 45, 21],\n",
              "       [25, 94, 24, 36, 40, 11, 65, 55],\n",
              "       [62, 14, 64,  3, 82, 73, 57, 61]])"
            ]
          },
          "metadata": {},
          "execution_count": 17
        }
      ],
      "source": [
        "# Random array\n",
        "rand_arr = np.random.randint(0, 100, (5, 8))\n",
        "rand_arr"
      ]
    },
    {
      "cell_type": "code",
      "execution_count": 18,
      "metadata": {
        "colab": {
          "base_uri": "https://localhost:8080/"
        },
        "id": "GWJa_h-OsedT",
        "outputId": "1dac8774-489a-425b-cede-ee30ac641b10"
      },
      "outputs": [
        {
          "output_type": "execute_result",
          "data": {
            "text/plain": [
              "91"
            ]
          },
          "metadata": {},
          "execution_count": 18
        }
      ],
      "source": [
        "# Get single element\n",
        "rand_arr[0, 3]"
      ]
    },
    {
      "cell_type": "code",
      "execution_count": 19,
      "metadata": {
        "colab": {
          "base_uri": "https://localhost:8080/"
        },
        "id": "slteVatVsedT",
        "outputId": "c5fa6c45-cf4d-4131-fc31-2d36810e3f6d"
      },
      "outputs": [
        {
          "output_type": "execute_result",
          "data": {
            "text/plain": [
              "(array([49, 72, 46, 72,  9, 39, 45, 21]),\n",
              " array([49, 72, 46, 72,  9, 39, 45, 21]))"
            ]
          },
          "metadata": {},
          "execution_count": 19
        }
      ],
      "source": [
        "# Get single row\n",
        "rand_arr[2, :], rand_arr[2] # !!!!!"
      ]
    },
    {
      "cell_type": "code",
      "execution_count": 20,
      "metadata": {
        "colab": {
          "base_uri": "https://localhost:8080/"
        },
        "id": "a2yBXvYCsedT",
        "outputId": "96e75df4-8ac1-4b6f-cfda-c80f6c25d254"
      },
      "outputs": [
        {
          "output_type": "execute_result",
          "data": {
            "text/plain": [
              "(array([[49, 72, 46, 72,  9, 39, 45, 21],\n",
              "        [25, 94, 24, 36, 40, 11, 65, 55]]),\n",
              " array([[49, 72, 46, 72,  9, 39, 45, 21],\n",
              "        [25, 94, 24, 36, 40, 11, 65, 55]]))"
            ]
          },
          "metadata": {},
          "execution_count": 20
        }
      ],
      "source": [
        "# Get multiple rows\n",
        "rand_arr[2:4, :], rand_arr[2:4] # !!!!!"
      ]
    },
    {
      "cell_type": "code",
      "execution_count": 21,
      "metadata": {
        "colab": {
          "base_uri": "https://localhost:8080/"
        },
        "id": "_d8zI3QlsedU",
        "outputId": "d202bb31-168d-4c15-d04c-2301e2a6b8db"
      },
      "outputs": [
        {
          "output_type": "execute_result",
          "data": {
            "text/plain": [
              "array([ 0, 44, 46, 24, 64])"
            ]
          },
          "metadata": {},
          "execution_count": 21
        }
      ],
      "source": [
        "# Get single column\n",
        "rand_arr[:, 2] # !!!!!"
      ]
    },
    {
      "cell_type": "code",
      "execution_count": 22,
      "metadata": {
        "colab": {
          "base_uri": "https://localhost:8080/"
        },
        "id": "UEfzaWnXsedU",
        "outputId": "27797002-55f4-447d-aeeb-8d2afeec3ff2"
      },
      "outputs": [
        {
          "output_type": "execute_result",
          "data": {
            "text/plain": [
              "array([[ 0, 91],\n",
              "       [44, 18],\n",
              "       [46, 72],\n",
              "       [24, 36],\n",
              "       [64,  3]])"
            ]
          },
          "metadata": {},
          "execution_count": 22
        }
      ],
      "source": [
        "# Get multiple cols\n",
        "rand_arr[:, 2:4] # !!!!!"
      ]
    },
    {
      "cell_type": "code",
      "execution_count": 23,
      "metadata": {
        "colab": {
          "base_uri": "https://localhost:8080/"
        },
        "id": "iQvDXYVlsedU",
        "outputId": "3e0ee548-297c-4be4-e1e9-59fbd4c6426d"
      },
      "outputs": [
        {
          "output_type": "execute_result",
          "data": {
            "text/plain": [
              "array([[18, 31],\n",
              "       [72,  9],\n",
              "       [36, 40]])"
            ]
          },
          "metadata": {},
          "execution_count": 23
        }
      ],
      "source": [
        "# Slice based on rows and cols\n",
        "rand_arr[1:4, 3:5]"
      ]
    },
    {
      "cell_type": "code",
      "execution_count": 24,
      "metadata": {
        "colab": {
          "base_uri": "https://localhost:8080/"
        },
        "id": "crumoLzTsedU",
        "outputId": "02d3a23f-44ab-4de3-99e8-879af694eabc"
      },
      "outputs": [
        {
          "output_type": "execute_result",
          "data": {
            "text/plain": [
              "array([[22,  0],\n",
              "       [49, 46],\n",
              "       [62, 64]])"
            ]
          },
          "metadata": {},
          "execution_count": 24
        }
      ],
      "source": [
        "# Slice based on rows and cols and step\n",
        "rand_arr[0:5:2, 0:4:2]"
      ]
    },
    {
      "cell_type": "code",
      "execution_count": 25,
      "metadata": {
        "id": "6o0kHMhqsedV"
      },
      "outputs": [],
      "source": [
        "# Slice based on other numpy arrays\n",
        "row_idx = np.array([0,3])\n",
        "col_idx = np.array([0,1])"
      ]
    },
    {
      "cell_type": "code",
      "execution_count": 26,
      "metadata": {
        "colab": {
          "base_uri": "https://localhost:8080/"
        },
        "id": "3k1D4WkAsedZ",
        "outputId": "91a2948a-837b-478f-820d-087c7e18d10d"
      },
      "outputs": [
        {
          "output_type": "execute_result",
          "data": {
            "text/plain": [
              "(array([[22, 32,  0, 91, 35, 43, 78, 39],\n",
              "        [25, 94, 24, 36, 40, 11, 65, 55]]),\n",
              " array([[22, 32,  0, 91, 35, 43, 78, 39],\n",
              "        [25, 94, 24, 36, 40, 11, 65, 55]]),\n",
              " array([[22, 32,  0, 91, 35, 43, 78, 39],\n",
              "        [25, 94, 24, 36, 40, 11, 65, 55]]))"
            ]
          },
          "metadata": {},
          "execution_count": 26
        }
      ],
      "source": [
        "# Get rows\n",
        "rand_arr[row_idx], rand_arr[row_idx, :], rand_arr[[0,3], :] # !!!!!"
      ]
    },
    {
      "cell_type": "code",
      "execution_count": 27,
      "metadata": {
        "colab": {
          "base_uri": "https://localhost:8080/"
        },
        "id": "6n9_Ki1jsedZ",
        "outputId": "8fc341fb-dee1-4ba7-f408-ab68f5d39de0"
      },
      "outputs": [
        {
          "output_type": "execute_result",
          "data": {
            "text/plain": [
              "(array([[22, 32],\n",
              "        [88, 26],\n",
              "        [49, 72],\n",
              "        [25, 94],\n",
              "        [62, 14]]),\n",
              " array([[22, 32],\n",
              "        [88, 26],\n",
              "        [49, 72],\n",
              "        [25, 94],\n",
              "        [62, 14]]))"
            ]
          },
          "metadata": {},
          "execution_count": 27
        }
      ],
      "source": [
        "# Get cols\n",
        "rand_arr[:, col_idx], rand_arr[:, [0,1]] # !!!!!"
      ]
    },
    {
      "cell_type": "code",
      "execution_count": 28,
      "metadata": {
        "colab": {
          "base_uri": "https://localhost:8080/"
        },
        "id": "epn9cjb8w8Mf",
        "outputId": "00810292-eeb9-42a4-8c8f-bacc0a1f6356"
      },
      "outputs": [
        {
          "output_type": "execute_result",
          "data": {
            "text/plain": [
              "array([22, 94])"
            ]
          },
          "metadata": {},
          "execution_count": 28
        }
      ],
      "source": [
        "rand_arr[row_idx, col_idx] # fancy indexing: return pairwise-indexed values # !!!!!"
      ]
    },
    {
      "cell_type": "code",
      "execution_count": 29,
      "metadata": {
        "colab": {
          "base_uri": "https://localhost:8080/"
        },
        "id": "2_i-ctEAsedZ",
        "outputId": "c07c84ae-77c6-4735-fb02-6eaf68f0ce10"
      },
      "outputs": [
        {
          "output_type": "execute_result",
          "data": {
            "text/plain": [
              "array([[22, 32],\n",
              "       [25, 94]])"
            ]
          },
          "metadata": {},
          "execution_count": 29
        }
      ],
      "source": [
        "# Get intersection of rows and cols\n",
        "rand_arr[row_idx, :][:, col_idx] # !!!!!"
      ]
    },
    {
      "cell_type": "code",
      "execution_count": 30,
      "metadata": {
        "colab": {
          "base_uri": "https://localhost:8080/"
        },
        "id": "vUGCGBTQzS_8",
        "outputId": "71072bb7-be86-4c60-c4cc-8ab9b5b0241d"
      },
      "outputs": [
        {
          "output_type": "execute_result",
          "data": {
            "text/plain": [
              "(array([[0],\n",
              "        [3]]),\n",
              " array([[0, 1]]))"
            ]
          },
          "metadata": {},
          "execution_count": 30
        }
      ],
      "source": [
        "np.ix_(row_idx, col_idx)"
      ]
    },
    {
      "cell_type": "code",
      "execution_count": 31,
      "metadata": {
        "colab": {
          "base_uri": "https://localhost:8080/"
        },
        "id": "-G_yXizPseda",
        "outputId": "88594b9b-555e-4079-dd63-2ce83a3ee546"
      },
      "outputs": [
        {
          "output_type": "execute_result",
          "data": {
            "text/plain": [
              "(array([[22, 32],\n",
              "        [25, 94]]),\n",
              " array([[22, 32],\n",
              "        [25, 94]]))"
            ]
          },
          "metadata": {},
          "execution_count": 31
        }
      ],
      "source": [
        "# Another way\n",
        "rand_arr[np.ix_(row_idx, col_idx)], rand_arr[([[0],\n",
        "                                               [3]],\n",
        "                                              [[0, 1]])] # !!!!!"
      ]
    },
    {
      "cell_type": "markdown",
      "metadata": {
        "id": "rz41hrLaseda"
      },
      "source": [
        "##### Slicing based on boolean expressions"
      ]
    },
    {
      "cell_type": "code",
      "execution_count": 32,
      "metadata": {
        "id": "L5ArJ5alseda"
      },
      "outputs": [],
      "source": [
        "row_bool = np.array([True, True, False, False, False])\n",
        "cool_bool = np.array([True, True, False, False, False, False, False, False])"
      ]
    },
    {
      "cell_type": "code",
      "execution_count": 33,
      "metadata": {
        "colab": {
          "base_uri": "https://localhost:8080/"
        },
        "id": "gsE1RM9c0_OP",
        "outputId": "797fcb87-e8cd-46eb-c256-57502af0f0cc"
      },
      "outputs": [
        {
          "output_type": "execute_result",
          "data": {
            "text/plain": [
              "array([22, 26])"
            ]
          },
          "metadata": {},
          "execution_count": 33
        }
      ],
      "source": [
        "rand_arr[row_bool, cool_bool] # fancy indexing # !!!!!"
      ]
    },
    {
      "cell_type": "code",
      "execution_count": 34,
      "metadata": {
        "colab": {
          "base_uri": "https://localhost:8080/"
        },
        "id": "-CiT58eHseda",
        "outputId": "71fb039e-0256-4e87-e103-dce8e4e505b5"
      },
      "outputs": [
        {
          "output_type": "execute_result",
          "data": {
            "text/plain": [
              "array([[22, 32],\n",
              "       [88, 26]])"
            ]
          },
          "metadata": {},
          "execution_count": 34
        }
      ],
      "source": [
        "rand_arr[row_bool, :][:, cool_bool] # !!!!!"
      ]
    },
    {
      "cell_type": "code",
      "execution_count": 35,
      "metadata": {
        "colab": {
          "base_uri": "https://localhost:8080/"
        },
        "id": "N6S1bn1F0fTI",
        "outputId": "40339bcf-e1ea-4f37-a429-a0a8610f8186"
      },
      "outputs": [
        {
          "output_type": "execute_result",
          "data": {
            "text/plain": [
              "(array([[0],\n",
              "        [1],\n",
              "        [4]]),\n",
              " array([[0, 1, 4]]))"
            ]
          },
          "metadata": {},
          "execution_count": 35
        }
      ],
      "source": [
        "np.ix_([True, True, False, False, True], [True, True, False, False, True, False, False, False])"
      ]
    },
    {
      "cell_type": "code",
      "execution_count": 36,
      "metadata": {
        "colab": {
          "base_uri": "https://localhost:8080/"
        },
        "id": "lfIWvey7seda",
        "outputId": "a708bc8a-075c-4810-d97a-5da35dfa5984"
      },
      "outputs": [
        {
          "output_type": "execute_result",
          "data": {
            "text/plain": [
              "array([[22, 32],\n",
              "       [88, 26]])"
            ]
          },
          "metadata": {},
          "execution_count": 36
        }
      ],
      "source": [
        "rand_arr[(np.ix_(row_bool, cool_bool))] # !!!!!"
      ]
    },
    {
      "cell_type": "code",
      "execution_count": 37,
      "metadata": {
        "colab": {
          "base_uri": "https://localhost:8080/"
        },
        "id": "hwzRE0sisedb",
        "outputId": "509be3e1-b192-4280-9922-2c41e9024d22"
      },
      "outputs": [
        {
          "output_type": "execute_result",
          "data": {
            "text/plain": [
              "array([[22, 32],\n",
              "       [88, 26]])"
            ]
          },
          "metadata": {},
          "execution_count": 37
        }
      ],
      "source": [
        "rand_arr[:2, cool_bool] # row uses slice, and column uses boolean array"
      ]
    },
    {
      "cell_type": "code",
      "execution_count": 38,
      "metadata": {
        "colab": {
          "base_uri": "https://localhost:8080/"
        },
        "id": "-L3rcgFNsedb",
        "outputId": "9c00293b-4e93-4d17-98e4-149163606459"
      },
      "outputs": [
        {
          "output_type": "execute_result",
          "data": {
            "text/plain": [
              "array([[ True,  True, False,  True,  True,  True,  True,  True],\n",
              "       [ True,  True,  True,  True,  True,  True,  True,  True],\n",
              "       [ True,  True,  True,  True,  True,  True,  True,  True],\n",
              "       [ True,  True,  True,  True,  True,  True,  True,  True],\n",
              "       [ True,  True,  True, False,  True,  True,  True,  True]])"
            ]
          },
          "metadata": {},
          "execution_count": 38
        }
      ],
      "source": [
        "# We can use this for masking\n",
        "mask = rand_arr > 5\n",
        "mask"
      ]
    },
    {
      "cell_type": "code",
      "execution_count": 39,
      "metadata": {
        "colab": {
          "base_uri": "https://localhost:8080/"
        },
        "id": "wKSHT6cDsedb",
        "outputId": "84c10124-b549-449c-9241-c783f5037c1a"
      },
      "outputs": [
        {
          "output_type": "execute_result",
          "data": {
            "text/plain": [
              "(array([22, 32, 91, 35, 43, 78, 39, 88, 26, 44, 18, 31, 63, 61, 69, 49, 72,\n",
              "        46, 72,  9, 39, 45, 21, 25, 94, 24, 36, 40, 11, 65, 55, 62, 14, 64,\n",
              "        82, 73, 57, 61]),\n",
              " array([22, 32, 91, 35, 43, 78, 39, 88, 26, 44, 18, 31, 63, 61, 69, 49, 72,\n",
              "        46, 72,  9, 39, 45, 21, 25, 94, 24, 36, 40, 11, 65, 55, 62, 14, 64,\n",
              "        82, 73, 57, 61]))"
            ]
          },
          "metadata": {},
          "execution_count": 39
        }
      ],
      "source": [
        "rand_arr[mask], rand_arr[rand_arr > 5] # !!!!!"
      ]
    },
    {
      "cell_type": "markdown",
      "metadata": {
        "id": "xWZmLnh6sedb"
      },
      "source": [
        "### Modifying numpy arrays"
      ]
    },
    {
      "cell_type": "code",
      "execution_count": 61,
      "metadata": {
        "colab": {
          "base_uri": "https://localhost:8080/"
        },
        "id": "Ilifv0tzsedb",
        "outputId": "4d51007d-855b-4d96-b93c-77b20d62fd43"
      },
      "outputs": [
        {
          "output_type": "execute_result",
          "data": {
            "text/plain": [
              "array([[41, 78,  6, 61],\n",
              "       [ 3, 53, 40, 19],\n",
              "       [11, 25,  1, 75]])"
            ]
          },
          "metadata": {},
          "execution_count": 61
        }
      ],
      "source": [
        "eg_arr = np.random.randint(0, 100, (3, 4))\n",
        "eg_arr"
      ]
    },
    {
      "cell_type": "code",
      "execution_count": 62,
      "metadata": {
        "colab": {
          "base_uri": "https://localhost:8080/"
        },
        "id": "TH4u0cV2sedb",
        "outputId": "50056ab3-f099-4203-9cfb-7acdd42e80a7"
      },
      "outputs": [
        {
          "output_type": "execute_result",
          "data": {
            "text/plain": [
              "array([[10, 78,  6, 61],\n",
              "       [ 3, 53, 40, 19],\n",
              "       [11, 25,  1, 75]])"
            ]
          },
          "metadata": {},
          "execution_count": 62
        }
      ],
      "source": [
        "# Modifying single element\n",
        "eg_arr[0,0] = 10\n",
        "eg_arr"
      ]
    },
    {
      "cell_type": "code",
      "execution_count": 63,
      "metadata": {
        "colab": {
          "base_uri": "https://localhost:8080/"
        },
        "id": "xaW5iw1Ssedc",
        "outputId": "972cc243-5c9d-4d02-c7aa-9e05ac079b94"
      },
      "outputs": [
        {
          "output_type": "execute_result",
          "data": {
            "text/plain": [
              "array([[ 100, 1000,  500,  900],\n",
              "       [   3,   53,   40,   19],\n",
              "       [  11,   25,    1,   75]])"
            ]
          },
          "metadata": {},
          "execution_count": 63
        }
      ],
      "source": [
        "# Modifying row by 1D array\n",
        "eg_arr[0, :] = np.array([100, 1000, 500, 900]) # !!!!!\n",
        "eg_arr"
      ]
    },
    {
      "cell_type": "code",
      "execution_count": 64,
      "metadata": {
        "colab": {
          "base_uri": "https://localhost:8080/"
        },
        "id": "3dK1nDR6sedc",
        "outputId": "6cc4e1a6-79db-4630-f794-78a138a8f605"
      },
      "outputs": [
        {
          "output_type": "execute_result",
          "data": {
            "text/plain": [
              "array([[ 100, 1000,  500, 1900],\n",
              "       [   3,   53,   40,   19],\n",
              "       [  11,   25,    1,   75]])"
            ]
          },
          "metadata": {},
          "execution_count": 64
        }
      ],
      "source": [
        "# Modifying row by 2D array\n",
        "eg_arr[0, :] = np.array([[100, 1000, 500, 1900]]) # !!!!!\n",
        "eg_arr"
      ]
    },
    {
      "cell_type": "code",
      "source": [
        "eg_arr[0, :] = np.array([[[100, 1000, 500, 1900]]]) # 感覺符合 broadcast 規則的可以減維操作 # !!!!!\n",
        "eg_arr, eg_arr[0, :].shape, np.array([[[100, 1000, 500, 1900]]]).shape"
      ],
      "metadata": {
        "id": "cQKgVC4RU4ZJ",
        "outputId": "d2e305df-7d4c-40e7-8b9a-fa71f022d8a2",
        "colab": {
          "base_uri": "https://localhost:8080/"
        }
      },
      "execution_count": 66,
      "outputs": [
        {
          "output_type": "execute_result",
          "data": {
            "text/plain": [
              "(array([[ 100, 1000,  500, 1900],\n",
              "        [   3,   53,   40,   19],\n",
              "        [  11,   25,    1,   75]]),\n",
              " (4,),\n",
              " (1, 1, 4))"
            ]
          },
          "metadata": {},
          "execution_count": 66
        }
      ]
    },
    {
      "cell_type": "code",
      "execution_count": 74,
      "metadata": {
        "colab": {
          "base_uri": "https://localhost:8080/"
        },
        "id": "XQ59c4ahsedc",
        "outputId": "d29dac4a-1363-4234-e8e7-169b085baf66"
      },
      "outputs": [
        {
          "output_type": "execute_result",
          "data": {
            "text/plain": [
              "array([[  100,  1000,   500,   -10],\n",
              "       [    3,    53,    40, -1000],\n",
              "       [   11,    25,     1,     9]])"
            ]
          },
          "metadata": {},
          "execution_count": 74
        }
      ],
      "source": [
        "# Modifying column\n",
        "eg_arr[:, -1] = np.array([-10, -1000, 9]) # !!!!!\n",
        "eg_arr"
      ]
    },
    {
      "cell_type": "code",
      "source": [
        "eg_arr[:, -1] = np.array([[[-10, -1000, 9]]]) # !!!!!\n",
        "eg_arr, eg_arr[:, -1].shape, np.array([[[-10, -1000, 9]]]).shape"
      ],
      "metadata": {
        "id": "WmMj6Yx-WLuj",
        "outputId": "5abf79fd-b944-4c9d-e3b2-013c2c14f1ba",
        "colab": {
          "base_uri": "https://localhost:8080/"
        }
      },
      "execution_count": 75,
      "outputs": [
        {
          "output_type": "execute_result",
          "data": {
            "text/plain": [
              "(array([[  100,  1000,   500,   -10],\n",
              "        [    3,    53,    40, -1000],\n",
              "        [   11,    25,     1,     9]]),\n",
              " (3,),\n",
              " (1, 1, 3))"
            ]
          },
          "metadata": {},
          "execution_count": 75
        }
      ]
    },
    {
      "cell_type": "code",
      "execution_count": 76,
      "metadata": {
        "colab": {
          "base_uri": "https://localhost:8080/"
        },
        "id": "UiS294fMsedc",
        "outputId": "865c43fa-2d3b-4024-cb40-33f1b1a1551d"
      },
      "outputs": [
        {
          "output_type": "execute_result",
          "data": {
            "text/plain": [
              "array([[  100,  1000,   500,   -10],\n",
              "       [    3,   222,   222, -1000],\n",
              "       [   11,   222,   222,     9]])"
            ]
          },
          "metadata": {},
          "execution_count": 76
        }
      ],
      "source": [
        "# Modify slice by single value\n",
        "eg_arr[1:3, 1:3] = 222 # !!!!!\n",
        "eg_arr"
      ]
    },
    {
      "cell_type": "code",
      "execution_count": 77,
      "metadata": {
        "colab": {
          "base_uri": "https://localhost:8080/"
        },
        "id": "L651mzXasedc",
        "outputId": "01b94752-28db-4016-b5c8-26d8ec64b567"
      },
      "outputs": [
        {
          "output_type": "execute_result",
          "data": {
            "text/plain": [
              "array([[  100,  1000,   500,   -10],\n",
              "       [    3,  1000,  2000, -1000],\n",
              "       [   11,  3000,  4000,     9]])"
            ]
          },
          "metadata": {},
          "execution_count": 77
        }
      ],
      "source": [
        "# Modify slice by 2D array\n",
        "eg_arr[1:3, 1:3] = np.array([[1000, 2000], [3000, 4000]]) # !!!!!\n",
        "eg_arr"
      ]
    },
    {
      "cell_type": "code",
      "execution_count": 78,
      "metadata": {
        "colab": {
          "base_uri": "https://localhost:8080/"
        },
        "id": "hw45QFzdsedc",
        "outputId": "866d0e9a-3777-4d0f-a80f-3de3209418c8"
      },
      "outputs": [
        {
          "output_type": "execute_result",
          "data": {
            "text/plain": [
              "array([[  -17,  1000,   500,   -17],\n",
              "       [    3,  1000,  2000, -1000],\n",
              "       [  -17,  3000,  4000,   -17]])"
            ]
          },
          "metadata": {},
          "execution_count": 78
        }
      ],
      "source": [
        "# Modify based on index arrays\n",
        "row_idx = np.array([0,2])\n",
        "col_idx = np.array([0,3])\n",
        "eg_arr[np.ix_(row_idx, col_idx)] = -17\n",
        "eg_arr"
      ]
    },
    {
      "cell_type": "code",
      "execution_count": 79,
      "metadata": {
        "colab": {
          "base_uri": "https://localhost:8080/"
        },
        "id": "Vs3t9-o0sedd",
        "outputId": "a5213dea-fdb3-4cfc-9d4a-c7a8eada5393"
      },
      "outputs": [
        {
          "output_type": "execute_result",
          "data": {
            "text/plain": [
              "array([[   0, 1000,  500,    0],\n",
              "       [   3, 1000, 2000,    0],\n",
              "       [   0, 3000, 4000,    0]])"
            ]
          },
          "metadata": {},
          "execution_count": 79
        }
      ],
      "source": [
        "# Modify based on boolean expression\n",
        "eg_arr[eg_arr < 0] = 0\n",
        "eg_arr"
      ]
    },
    {
      "cell_type": "markdown",
      "metadata": {
        "id": "LIH-sqdQsedd"
      },
      "source": [
        "### Searching for elements"
      ]
    },
    {
      "cell_type": "code",
      "execution_count": 80,
      "metadata": {
        "colab": {
          "base_uri": "https://localhost:8080/"
        },
        "id": "FSMc_x2Wsedd",
        "outputId": "d1d8b08a-6ed3-41e2-e79e-1489dcaa56f2"
      },
      "outputs": [
        {
          "output_type": "execute_result",
          "data": {
            "text/plain": [
              "array([[78,  2, 83, 55, 28, 14, 67, 96],\n",
              "       [32, 36, 11, 63, 90, 57, 81, 50],\n",
              "       [80,  7, 77, 73, 46, 34, 18, 43],\n",
              "       [91, 83, 31,  4, 48, 56,  3, 83],\n",
              "       [15, 70, 14, 51, 91, 69, 26, 97]])"
            ]
          },
          "metadata": {},
          "execution_count": 80
        }
      ],
      "source": [
        "rand_arr = np.random.randint(0, 100, (5, 8))\n",
        "rand_arr"
      ]
    },
    {
      "cell_type": "code",
      "execution_count": 81,
      "metadata": {
        "colab": {
          "base_uri": "https://localhost:8080/"
        },
        "id": "32ntq9w_sedd",
        "outputId": "74c64fae-7f34-46bd-b399-972013805846"
      },
      "outputs": [
        {
          "output_type": "execute_result",
          "data": {
            "text/plain": [
              "(array([0, 0, 0, 0, 0, 0, 0, 1, 1, 1, 1, 1, 1, 1, 1, 2, 2, 2, 2, 2, 2, 2,\n",
              "        2, 3, 3, 3, 3, 3, 3, 4, 4, 4, 4, 4, 4, 4, 4]),\n",
              " array([0, 2, 3, 4, 5, 6, 7, 0, 1, 2, 3, 4, 5, 6, 7, 0, 1, 2, 3, 4, 5, 6,\n",
              "        7, 0, 1, 2, 4, 5, 7, 0, 1, 2, 3, 4, 5, 6, 7]))"
            ]
          },
          "metadata": {},
          "execution_count": 81
        }
      ],
      "source": [
        "# Find index of elements according to condition\n",
        "# When only condition is provided, this function is a shorthand for np.asarray(condition).nonzero().\n",
        "# 回傳滿足條件的 index pair\n",
        "np.where(rand_arr > 5) # !!!!!"
      ]
    },
    {
      "cell_type": "code",
      "execution_count": 82,
      "metadata": {
        "colab": {
          "base_uri": "https://localhost:8080/"
        },
        "id": "XN7_Q217sedd",
        "outputId": "e2bdc0fd-f757-4bb5-dc9c-6782950facf7"
      },
      "outputs": [
        {
          "output_type": "execute_result",
          "data": {
            "text/plain": [
              "(array([ 2,  3,  4,  7, 11, 14, 15, 18, 26, 28, 31, 32, 34, 36, 43, 46, 48,\n",
              "        50, 51, 55, 56, 57, 63, 67, 69, 70, 73, 77, 78, 80, 81, 83, 90, 91,\n",
              "        96, 97]),\n",
              " (array([ 2,  3,  4,  7, 11, 14, 15, 18, 26, 28, 31, 32, 34, 36, 43, 46, 48,\n",
              "         50, 51, 55, 56, 57, 63, 67, 69, 70, 73, 77, 78, 80, 81, 83, 90, 91,\n",
              "         96, 97]),\n",
              "  array([1, 1, 1, 1, 1, 2, 1, 1, 1, 1, 1, 1, 1, 1, 1, 1, 1, 1, 1, 1, 1, 1,\n",
              "         1, 1, 1, 1, 1, 1, 1, 1, 1, 3, 1, 2, 1, 1])))"
            ]
          },
          "metadata": {},
          "execution_count": 82
        }
      ],
      "source": [
        "# Unique elements\n",
        "np.unique(rand_arr), np.unique(rand_arr, return_counts=True) # !!!!!"
      ]
    },
    {
      "cell_type": "code",
      "source": [],
      "metadata": {
        "id": "x6CCUL0PXA_z"
      },
      "execution_count": null,
      "outputs": []
    }
  ],
  "metadata": {
    "colab": {
      "provenance": [],
      "include_colab_link": true
    },
    "kernelspec": {
      "display_name": "test_env_2",
      "language": "python",
      "name": "python3"
    },
    "language_info": {
      "codemirror_mode": {
        "name": "ipython",
        "version": 3
      },
      "file_extension": ".py",
      "mimetype": "text/x-python",
      "name": "python",
      "nbconvert_exporter": "python",
      "pygments_lexer": "ipython3",
      "version": "3.11.3"
    },
    "orig_nbformat": 4
  },
  "nbformat": 4,
  "nbformat_minor": 0
}