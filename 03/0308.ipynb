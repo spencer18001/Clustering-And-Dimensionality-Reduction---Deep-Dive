{
  "cells": [
    {
      "cell_type": "markdown",
      "metadata": {
        "colab_type": "text",
        "id": "view-in-github"
      },
      "source": [
        "<a href=\"https://colab.research.google.com/github/spencer18001/Clustering-And-Dimensionality-Reduction---Deep-Dive/blob/main/03/0308.ipynb\" target=\"_parent\"><img src=\"https://colab.research.google.com/assets/colab-badge.svg\" alt=\"Open In Colab\"/></a>"
      ]
    },
    {
      "cell_type": "markdown",
      "metadata": {
        "id": "nsFXanVC4n-I"
      },
      "source": [
        "## Operations between numpy arrays\n",
        "\n",
        "### Operations between numpy arrays having same shape"
      ]
    },
    {
      "cell_type": "code",
      "execution_count": null,
      "metadata": {
        "id": "N1BxuSNP4n-L"
      },
      "outputs": [],
      "source": [
        "import numpy as np"
      ]
    },
    {
      "cell_type": "code",
      "execution_count": null,
      "metadata": {
        "colab": {
          "base_uri": "https://localhost:8080/"
        },
        "id": "eL2ySsdW4n-N",
        "outputId": "4b609289-b908-4959-a3ec-2047bf3e8a80"
      },
      "outputs": [
        {
          "name": "stdout",
          "output_type": "stream",
          "text": [
            "Addition: [ 7  9 11 13 15 17 20]\n",
            "Subtraction: [5 5 5 5 5 5 4]\n",
            "Multiplication: [ 6 14 24 36 50 66 96]\n",
            "Division: [6.         3.5        2.66666667 2.25       2.         1.83333333\n",
            " 1.5       ]\n"
          ]
        }
      ],
      "source": [
        "# 1D case\n",
        "\n",
        "arr1 = np.array([1, 2, 3, 4, 5, 6, 8])\n",
        "arr2 = np.array([6, 7, 8, 9, 10, 11,12])\n",
        "\n",
        "# Addition\n",
        "print(\"Addition:\", arr1 + arr2)\n",
        "\n",
        "# Subtraction\n",
        "print(\"Subtraction:\", arr2 - arr1)\n",
        "\n",
        "# Multiplication\n",
        "print(\"Multiplication:\", arr1 * arr2)\n",
        "\n",
        "# Division\n",
        "print(\"Division:\", arr2 / arr1)"
      ]
    },
    {
      "cell_type": "code",
      "execution_count": null,
      "metadata": {
        "colab": {
          "base_uri": "https://localhost:8080/"
        },
        "id": "5sjorDIo4n-O",
        "outputId": "b3425f5c-7003-4454-b32f-5933f486f2db"
      },
      "outputs": [
        {
          "name": "stdout",
          "output_type": "stream",
          "text": [
            "Addition:\n",
            " [[ 8 10 12]\n",
            " [14 16 18]]\n",
            "Subtraction:\n",
            " [[6 6 6]\n",
            " [6 6 6]]\n",
            "Multiplication:\n",
            " [[ 7 16 27]\n",
            " [40 55 72]]\n",
            "Division:\n",
            " [[7.  4.  3. ]\n",
            " [2.5 2.2 2. ]]\n"
          ]
        }
      ],
      "source": [
        "# 2D case\n",
        "\n",
        "arr1 = np.array([[1, 2, 3], [4, 5, 6]])\n",
        "arr2 = np.array([[7, 8, 9], [10, 11, 12]])\n",
        "\n",
        "# Addition\n",
        "print(\"Addition:\\n\", arr1 + arr2)\n",
        "\n",
        "# Subtraction\n",
        "print(\"Subtraction:\\n\", arr2 - arr1)\n",
        "\n",
        "# Multiplication\n",
        "print(\"Multiplication:\\n\", arr1 * arr2)\n",
        "\n",
        "# Division\n",
        "print(\"Division:\\n\", arr2 / arr1)"
      ]
    },
    {
      "cell_type": "markdown",
      "metadata": {
        "id": "S4ghGo2u4n-O"
      },
      "source": [
        "### Broadcasting\n",
        "\n",
        "#### Broadcasting 1-D arrays\n"
      ]
    },
    {
      "cell_type": "code",
      "execution_count": null,
      "metadata": {
        "colab": {
          "base_uri": "https://localhost:8080/"
        },
        "id": "9p8Dvtof4n-O",
        "outputId": "e39b586c-6449-4ad8-9fb2-2b76b4950193"
      },
      "outputs": [
        {
          "name": "stdout",
          "output_type": "stream",
          "text": [
            "Arr 1 : \n",
            " [1 2 3]\n",
            "Arr 2 : \n",
            " [1]\n"
          ]
        },
        {
          "data": {
            "text/plain": [
              "array([2, 3, 4])"
            ]
          },
          "execution_count": 4,
          "metadata": {},
          "output_type": "execute_result"
        }
      ],
      "source": [
        "# Simplest case - 1D\n",
        "# In order for this broadcast to work, dimension of arr2 must be 1\n",
        "\n",
        "arr1 = np.array([1, 2, 3])\n",
        "arr2 = np.array([1])\n",
        "\n",
        "print('Arr 1 : \\n {}'.format(arr1))\n",
        "print('Arr 2 : \\n {}'.format(arr2))\n",
        "\n",
        "arr1 + arr2"
      ]
    },
    {
      "cell_type": "code",
      "execution_count": null,
      "metadata": {
        "colab": {
          "base_uri": "https://localhost:8080/",
          "height": 245
        },
        "id": "BIVBkZth4n-P",
        "outputId": "c906d428-5b23-4371-ee74-6c3a9666153f"
      },
      "outputs": [
        {
          "name": "stdout",
          "output_type": "stream",
          "text": [
            "Arr 1 : \n",
            " [1 2 3 4]\n",
            "Arr 2 : \n",
            " [1 2]\n"
          ]
        },
        {
          "ename": "ValueError",
          "evalue": "operands could not be broadcast together with shapes (4,) (2,) ",
          "output_type": "error",
          "traceback": [
            "\u001b[0;31m---------------------------------------------------------------------------\u001b[0m",
            "\u001b[0;31mValueError\u001b[0m                                Traceback (most recent call last)",
            "\u001b[0;32m<ipython-input-5-580b68deb2f9>\u001b[0m in \u001b[0;36m<cell line: 9>\u001b[0;34m()\u001b[0m\n\u001b[1;32m      7\u001b[0m \u001b[0mprint\u001b[0m\u001b[0;34m(\u001b[0m\u001b[0;34m'Arr 2 : \\n {}'\u001b[0m\u001b[0;34m.\u001b[0m\u001b[0mformat\u001b[0m\u001b[0;34m(\u001b[0m\u001b[0marr2\u001b[0m\u001b[0;34m)\u001b[0m\u001b[0;34m)\u001b[0m\u001b[0;34m\u001b[0m\u001b[0;34m\u001b[0m\u001b[0m\n\u001b[1;32m      8\u001b[0m \u001b[0;34m\u001b[0m\u001b[0m\n\u001b[0;32m----> 9\u001b[0;31m \u001b[0marr1\u001b[0m \u001b[0;34m+\u001b[0m \u001b[0marr2\u001b[0m\u001b[0;34m\u001b[0m\u001b[0;34m\u001b[0m\u001b[0m\n\u001b[0m",
            "\u001b[0;31mValueError\u001b[0m: operands could not be broadcast together with shapes (4,) (2,) "
          ]
        }
      ],
      "source": [
        "# If dimension of arr1 is not 1, we get error\n",
        "\n",
        "arr1 = np.array([1, 2, 3, 4])\n",
        "arr2 = np.array([1, 2])\n",
        "\n",
        "print('Arr 1 : \\n {}'.format(arr1))\n",
        "print('Arr 2 : \\n {}'.format(arr2))\n",
        "\n",
        "arr1 + arr2"
      ]
    },
    {
      "cell_type": "markdown",
      "metadata": {
        "id": "MXCvWKI64n-Q"
      },
      "source": [
        "##### Broadcasting 2-D arrays"
      ]
    },
    {
      "cell_type": "code",
      "execution_count": null,
      "metadata": {
        "colab": {
          "base_uri": "https://localhost:8080/"
        },
        "id": "CNZZBSBe4n-Q",
        "outputId": "86f0f87b-8ead-4946-9fae-3111bcb116e7"
      },
      "outputs": [
        {
          "name": "stdout",
          "output_type": "stream",
          "text": [
            "Arr 1 : \n",
            " [[1 2 3]\n",
            " [4 5 6]]\n",
            "Arr 2 : \n",
            " [[1 2 3]]\n"
          ]
        },
        {
          "data": {
            "text/plain": [
              "array([[2, 4, 6],\n",
              "       [5, 7, 9]])"
            ]
          },
          "execution_count": 6,
          "metadata": {},
          "output_type": "execute_result"
        }
      ],
      "source": [
        "arr1 = np.array([[1, 2, 3], [4,5,6]])\n",
        "arr2 = np.array([[1, 2, 3]])\n",
        "\n",
        "print('Arr 1 : \\n {}'.format(arr1))\n",
        "print('Arr 2 : \\n {}'.format(arr2))\n",
        "\n",
        "arr1 + arr2"
      ]
    },
    {
      "cell_type": "code",
      "execution_count": null,
      "metadata": {
        "colab": {
          "base_uri": "https://localhost:8080/"
        },
        "id": "yYGUqpGz4n-R",
        "outputId": "b25dc7e9-e9dc-4ff6-aa65-1d6f1701a1c8"
      },
      "outputs": [
        {
          "name": "stdout",
          "output_type": "stream",
          "text": [
            "Arr 1 : \n",
            " [[1 2 3]\n",
            " [4 5 6]]\n",
            "Arr 2 : \n",
            " [[1]\n",
            " [2]]\n"
          ]
        },
        {
          "data": {
            "text/plain": [
              "array([[2, 3, 4],\n",
              "       [6, 7, 8]])"
            ]
          },
          "execution_count": 7,
          "metadata": {},
          "output_type": "execute_result"
        }
      ],
      "source": [
        "arr1 = np.array([[1, 2, 3], [4,5,6]])\n",
        "arr2 = np.array([[1], [2]])\n",
        "\n",
        "print('Arr 1 : \\n {}'.format(arr1))\n",
        "print('Arr 2 : \\n {}'.format(arr2))\n",
        "\n",
        "arr1 + arr2"
      ]
    },
    {
      "cell_type": "code",
      "execution_count": null,
      "metadata": {
        "colab": {
          "base_uri": "https://localhost:8080/"
        },
        "id": "zOJh5byi4n-R",
        "outputId": "bb26aea1-e5ab-4d30-a73b-0b896bf046bf"
      },
      "outputs": [
        {
          "name": "stdout",
          "output_type": "stream",
          "text": [
            "Arr 1 : \n",
            " [[1 2 3]]\n",
            "Arr 2 : \n",
            " [[4]\n",
            " [5]\n",
            " [6]]\n"
          ]
        },
        {
          "data": {
            "text/plain": [
              "array([[5, 6, 7],\n",
              "       [6, 7, 8],\n",
              "       [7, 8, 9]])"
            ]
          },
          "execution_count": 8,
          "metadata": {},
          "output_type": "execute_result"
        }
      ],
      "source": [
        "arr1 = np.array([[1, 2, 3]])\n",
        "arr2 = np.array([[4], [5], [6]])\n",
        "\n",
        "print('Arr 1 : \\n {}'.format(arr1))\n",
        "print('Arr 2 : \\n {}'.format(arr2))\n",
        "\n",
        "arr1 + arr2"
      ]
    },
    {
      "cell_type": "markdown",
      "metadata": {
        "id": "S0xbkxv24n-S"
      },
      "source": [
        "##### Broadcasting arrays of different shappes"
      ]
    },
    {
      "cell_type": "code",
      "execution_count": null,
      "metadata": {
        "colab": {
          "base_uri": "https://localhost:8080/"
        },
        "id": "Jph0EPOk4n-S",
        "outputId": "4965fdec-a55d-4cb9-9e4f-67a5f7c368df"
      },
      "outputs": [
        {
          "name": "stdout",
          "output_type": "stream",
          "text": [
            "Arr 1 : \n",
            " [[1 2 3]\n",
            " [4 5 6]]\n",
            "Arr 2 : \n",
            " [1 2 3]\n"
          ]
        },
        {
          "data": {
            "text/plain": [
              "array([[2, 4, 6],\n",
              "       [5, 7, 9]])"
            ]
          },
          "execution_count": 12,
          "metadata": {},
          "output_type": "execute_result"
        }
      ],
      "source": [
        "arr1 = np.array([[1, 2, 3], [4,5,6]])\n",
        "arr2 = np.array([1, 2, 3])\n",
        "\n",
        "print('Arr 1 : \\n {}'.format(arr1))\n",
        "print('Arr 2 : \\n {}'.format(arr2))\n",
        "\n",
        "arr1 + arr2"
      ]
    },
    {
      "cell_type": "code",
      "execution_count": null,
      "metadata": {
        "colab": {
          "base_uri": "https://localhost:8080/",
          "height": 280
        },
        "id": "j_GNi4ek4n-T",
        "outputId": "80b5934b-2b34-4aa5-f879-b5b1c4d4990b"
      },
      "outputs": [
        {
          "name": "stdout",
          "output_type": "stream",
          "text": [
            "Arr 1 : \n",
            " [[1 2]\n",
            " [3 4]\n",
            " [5 6]]\n",
            "Arr 2 : \n",
            " [1 2 3]\n"
          ]
        },
        {
          "ename": "ValueError",
          "evalue": "operands could not be broadcast together with shapes (3,2) (3,) ",
          "output_type": "error",
          "traceback": [
            "\u001b[0;31m---------------------------------------------------------------------------\u001b[0m",
            "\u001b[0;31mValueError\u001b[0m                                Traceback (most recent call last)",
            "\u001b[0;32m<ipython-input-13-58b71324dbaa>\u001b[0m in \u001b[0;36m<cell line: 7>\u001b[0;34m()\u001b[0m\n\u001b[1;32m      5\u001b[0m \u001b[0mprint\u001b[0m\u001b[0;34m(\u001b[0m\u001b[0;34m'Arr 2 : \\n {}'\u001b[0m\u001b[0;34m.\u001b[0m\u001b[0mformat\u001b[0m\u001b[0;34m(\u001b[0m\u001b[0marr2\u001b[0m\u001b[0;34m)\u001b[0m\u001b[0;34m)\u001b[0m\u001b[0;34m\u001b[0m\u001b[0;34m\u001b[0m\u001b[0m\n\u001b[1;32m      6\u001b[0m \u001b[0;34m\u001b[0m\u001b[0m\n\u001b[0;32m----> 7\u001b[0;31m \u001b[0marr1\u001b[0m \u001b[0;34m+\u001b[0m \u001b[0marr2\u001b[0m\u001b[0;34m\u001b[0m\u001b[0;34m\u001b[0m\u001b[0m\n\u001b[0m",
            "\u001b[0;31mValueError\u001b[0m: operands could not be broadcast together with shapes (3,2) (3,) "
          ]
        }
      ],
      "source": [
        "arr1 = np.array([[1, 2],[3,4], [5,6]])\n",
        "arr2 = np.array([1, 2, 3]) # broadcasting 是從頭開始塞維度\n",
        "\n",
        "print('Arr 1 : \\n {}'.format(arr1))\n",
        "print('Arr 2 : \\n {}'.format(arr2))\n",
        "\n",
        "arr1 + arr2"
      ]
    },
    {
      "cell_type": "code",
      "execution_count": null,
      "metadata": {
        "colab": {
          "base_uri": "https://localhost:8080/"
        },
        "id": "AtgMm9jz4n-T",
        "outputId": "2550cd66-bacc-4139-e9d1-0e7546ca543f"
      },
      "outputs": [
        {
          "data": {
            "text/plain": [
              "array([[2, 3],\n",
              "       [5, 6],\n",
              "       [8, 9]])"
            ]
          },
          "execution_count": 14,
          "metadata": {},
          "output_type": "execute_result"
        }
      ],
      "source": [
        "arr1 + np.expand_dims(arr2, axis=1)"
      ]
    },
    {
      "cell_type": "markdown",
      "metadata": {
        "id": "GgTTjMHY4n-T"
      },
      "source": [
        "### Summary\n",
        "\n",
        "We have learned about:\n",
        "\n",
        "- Numpy array broadcasting"
      ]
    }
  ],
  "metadata": {
    "colab": {
      "include_colab_link": true,
      "provenance": []
    },
    "kernelspec": {
      "display_name": "test_env_2",
      "language": "python",
      "name": "python3"
    },
    "language_info": {
      "codemirror_mode": {
        "name": "ipython",
        "version": 3
      },
      "file_extension": ".py",
      "mimetype": "text/x-python",
      "name": "python",
      "nbconvert_exporter": "python",
      "pygments_lexer": "ipython3",
      "version": "3.11.3"
    },
    "orig_nbformat": 4
  },
  "nbformat": 4,
  "nbformat_minor": 0
}
