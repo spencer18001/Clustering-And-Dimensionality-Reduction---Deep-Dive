{
  "cells": [
    {
      "cell_type": "markdown",
      "metadata": {
        "id": "view-in-github",
        "colab_type": "text"
      },
      "source": [
        "<a href=\"https://colab.research.google.com/github/spencer18001/Clustering-And-Dimensionality-Reduction---Deep-Dive/blob/main/0404.ipynb\" target=\"_parent\"><img src=\"https://colab.research.google.com/assets/colab-badge.svg\" alt=\"Open In Colab\"/></a>"
      ]
    },
    {
      "cell_type": "markdown",
      "metadata": {
        "id": "3cZ_sQxbAkkh"
      },
      "source": [
        "## K-means from scratch\n",
        "\n",
        "We will learn about:\n",
        "\n",
        "- Initialization\n",
        "- K-means algorithm\n",
        "- Inertia"
      ]
    },
    {
      "cell_type": "code",
      "execution_count": null,
      "metadata": {
        "id": "ovWBWzsPAkkk"
      },
      "outputs": [],
      "source": [
        "import pandas as pd\n",
        "import numpy as np\n",
        "from sklearn.datasets import make_blobs\n",
        "import matplotlib.pyplot as plt\n",
        "import seaborn as sns\n",
        "sns.set_style('darkgrid')"
      ]
    },
    {
      "cell_type": "markdown",
      "metadata": {
        "id": "CRnvCbT5Akkm"
      },
      "source": [
        "### Example dataset"
      ]
    },
    {
      "cell_type": "code",
      "execution_count": null,
      "metadata": {
        "id": "jziCmkXhAkkn"
      },
      "outputs": [],
      "source": [
        "# Generate the data\n",
        "X, y_true = make_blobs(\n",
        "    n_samples=500,\n",
        "    centers=[[0,0], [3,3], [-3,3]],\n",
        "    cluster_std=0.60,\n",
        "    random_state=1\n",
        ")\n",
        "\n",
        "# Transform to dataframe\n",
        "blobs_df  = pd.DataFrame(data=X, columns=['Feature 1', 'Feature 2'])\n",
        "\n",
        "# Plot the data\n",
        "sns.scatterplot(\n",
        "    blobs_df,\n",
        "    x='Feature 1',\n",
        "    y='Feature 2',\n",
        "    hue=y_true,\n",
        "    palette='tab10'\n",
        ").set_title('Dataset')"
      ]
    },
    {
      "cell_type": "markdown",
      "metadata": {
        "id": "m7QmeeiIAkkn"
      },
      "source": [
        "### Initialization"
      ]
    },
    {
      "cell_type": "code",
      "execution_count": null,
      "metadata": {
        "id": "Ic4sKQ00Akko"
      },
      "outputs": [],
      "source": [
        "# Set number of clusters\n",
        "NUM_CLUSTERS = 3\n",
        "COLOR_LIST = ['green', 'orange', 'blue']\n",
        "\n",
        "# Create range of cluster names\n",
        "cluster_ids = np.arange(NUM_CLUSTERS)"
      ]
    },
    {
      "cell_type": "markdown",
      "metadata": {
        "id": "UQwpwTH4Akko"
      },
      "source": [
        "#### Option #1 - random initialization"
      ]
    },
    {
      "cell_type": "code",
      "execution_count": null,
      "metadata": {
        "id": "KRTRfNBvAkko"
      },
      "outputs": [],
      "source": [
        "data_point_idxs = np.arange(X.shape[0])\n",
        "random_idx = np.random.choice(data_point_idxs, size=NUM_CLUSTERS, replace=False)\n",
        "clust_centers = X[random_idx]\n",
        "\n",
        "\n",
        "plt.figure(figsize=(7,6))\n",
        "sns.scatterplot(blobs_df, x='Feature 1', y='Feature 2')\n",
        "for clust_id, center in enumerate(clust_centers):\n",
        "    plt.scatter(\n",
        "        center[0],\n",
        "        center[1],\n",
        "        marker='X',\n",
        "        s=200,\n",
        "        color=COLOR_LIST[clust_id],\n",
        "        label=clust_id\n",
        "    )\n",
        "\n",
        "plt.title('Randomly initialized centroids')\n",
        "plt.legend()"
      ]
    },
    {
      "cell_type": "markdown",
      "metadata": {
        "id": "RoWEtGInAkkp"
      },
      "source": [
        "#### Option #2 - k-means++ initialization"
      ]
    },
    {
      "cell_type": "code",
      "execution_count": null,
      "metadata": {
        "id": "ocgoEp43Akkp"
      },
      "outputs": [],
      "source": [
        "# List containing initial cluster centers\n",
        "center_list = []\n",
        "\n",
        "# Select first center\n",
        "random_idx = np.random.choice(data_point_idxs, size=1)[0]\n",
        "center_list.append(X[random_idx])\n",
        "\n",
        "# Calculate distances from the first center\n",
        "distance = np.linalg.norm(X - center_list[0], axis=1)\n",
        "distance_mtx = np.expand_dims(distance, axis=1)\n",
        "\n",
        "# Iteration id\n",
        "next_center = 1"
      ]
    },
    {
      "cell_type": "code",
      "execution_count": null,
      "metadata": {
        "id": "r7ImIV2uAkkq"
      },
      "outputs": [],
      "source": [
        "# Generate centers\n",
        "while len(center_list) < NUM_CLUSTERS:\n",
        "\n",
        "    # For each point, find distance from closest center\n",
        "    dist_from_closest = np.min(distance_mtx, axis=1)\n",
        "    # Transform to probabilities\n",
        "    selection_probs = dist_from_closest/dist_from_closest.sum()\n",
        "\n",
        "    # Select new center based on this probabilities\n",
        "    center_pt_idx = np.random.choice(\n",
        "        data_point_idxs,\n",
        "        p=selection_probs\n",
        "    )\n",
        "\n",
        "    # Assign new centroid to center list\n",
        "    center_list.append(X[center_pt_idx])\n",
        "    next_center+=1\n",
        "\n",
        "    # Calculate distance from the new center\n",
        "    distance = np.linalg.norm(X - X[center_pt_idx], axis=1)\n",
        "    distance_mtx = np.column_stack([distance_mtx, distance])\n",
        "\n",
        "\n",
        "clust_centers = np.array(center_list)"
      ]
    },
    {
      "cell_type": "code",
      "execution_count": null,
      "metadata": {
        "id": "YFCxRpZ9Akkq"
      },
      "outputs": [],
      "source": [
        "# Display cluster centers\n",
        "clust_centers"
      ]
    },
    {
      "cell_type": "code",
      "execution_count": null,
      "metadata": {
        "id": "9Vh8IQOPAkkq"
      },
      "outputs": [],
      "source": [
        "# Plot k means ++ initial cluster centers\n",
        "plt.figure(figsize=(7,6))\n",
        "sns.scatterplot(blobs_df, x='Feature 1', y='Feature 2')\n",
        "color_list = ['green', 'orange', 'blue']\n",
        "for clust_id, center in enumerate(clust_centers):\n",
        "    plt.scatter(\n",
        "        center[0],\n",
        "        center[1],\n",
        "        marker='X',\n",
        "        s=200,\n",
        "        color=color_list[clust_id],\n",
        "        label=clust_id\n",
        "    )\n",
        "\n",
        "plt.title('K-means ++ initialized centroids')\n",
        "plt.legend()\n"
      ]
    },
    {
      "cell_type": "markdown",
      "metadata": {
        "id": "i3JiuIIjAkkq"
      },
      "source": [
        "### K-Means clustering"
      ]
    },
    {
      "cell_type": "code",
      "execution_count": null,
      "metadata": {
        "id": "goHNV4KfAkkq"
      },
      "outputs": [],
      "source": [
        "# Set MAX_ITER AND TOLERANCE\n",
        "MAX_ITER = 100\n",
        "TOLERANCE = 1e-4\n",
        "\n",
        "# Variable for current iteration\n",
        "curr_iter = 0\n",
        "\n",
        "# Iterate until convergence\n",
        "# or until MAX_ITER is reached\n",
        "while True:\n",
        "\n",
        "    # Each element of this list is np array\n",
        "    # containing distances from all points\n",
        "    # to the certain center\n",
        "    distance_list = []\n",
        "\n",
        "    # List that will be used\n",
        "    # to update centers\n",
        "    new_centers = []\n",
        "\n",
        "    # Iterate through the centers\n",
        "    for center in clust_centers:\n",
        "\n",
        "        # Calculate distance from all the points to\n",
        "        # the current center and add to the list\n",
        "        distance_list.append(\n",
        "            np.linalg.norm(X - center, axis=1)\n",
        "        )\n",
        "\n",
        "    # Stack elements of distance list into 2D array\n",
        "    distance_np = np.column_stack(distance_list)\n",
        "    # Find index of row containing minimum element\n",
        "    point_cluster = np.argmin(distance_np, axis=1)\n",
        "\n",
        "    # Update centers\n",
        "    for cluster_id in cluster_ids:\n",
        "\n",
        "        new_centers.append(X[point_cluster==cluster_id].mean(axis=0))\n",
        "\n",
        "    # Transform new centers to np array\n",
        "    new_centers = np.array(new_centers)\n",
        "\n",
        "    # Check if loop should be stopped\n",
        "    # due to MAX_ITER\n",
        "    if curr_iter >= MAX_ITER:\n",
        "        break\n",
        "\n",
        "    # Check if centers have moved\n",
        "    center_difference = np.linalg.norm(clust_centers - new_centers, axis=1)\n",
        "\n",
        "    # Check if centers are stable\n",
        "    if center_difference.max() < TOLERANCE:\n",
        "        break\n",
        "\n",
        "    # Make new centers clust_centers\n",
        "    clust_centers = new_centers\n",
        "\n",
        "    # Increase iteration counter\n",
        "    curr_iter += 1\n",
        "\n",
        ""
      ]
    },
    {
      "cell_type": "code",
      "execution_count": null,
      "metadata": {
        "id": "1xBYHf96Akkr"
      },
      "outputs": [],
      "source": [
        "# Plot final result\n",
        "plt.figure(figsize=(6, 5))\n",
        "\n",
        "sns.scatterplot(\n",
        "    blobs_df,\n",
        "    x='Feature 1',\n",
        "    y='Feature 2',\n",
        "    hue=point_cluster,\n",
        "    palette=color_list,\n",
        "    alpha=0.4\n",
        ")\n",
        "\n",
        "for clust_id, center in enumerate(clust_centers):\n",
        "    plt.scatter(\n",
        "        center[0],\n",
        "        center[1],\n",
        "        marker='X',\n",
        "        s=200,\n",
        "        color=color_list[clust_id]\n",
        "    )\n",
        "\n",
        "plt.title('Final clustering')"
      ]
    },
    {
      "cell_type": "markdown",
      "metadata": {
        "id": "3lC38IuPAkkr"
      },
      "source": [
        "#### Inertia\n",
        "\n",
        "$\n",
        "I = \\sum_{i=1}^{k} \\sum_{x \\in C_i} ||x - \\mu_i||^2\n",
        "$"
      ]
    },
    {
      "cell_type": "code",
      "execution_count": null,
      "metadata": {
        "id": "M-wpr3L5Akkr"
      },
      "outputs": [],
      "source": [
        "# Initialize inertia to 0\n",
        "inertia = 0\n",
        "\n",
        "# Loop going through data points for\n",
        "# each cluster\n",
        "for clust_id in cluster_ids:\n",
        "\n",
        "    # Calculate inertia portion for current cluster\n",
        "    clust_points = X[point_cluster == clust_id]\n",
        "    distance_from_center = np.linalg.norm(clust_points - clust_centers[clust_id], axis=1)\n",
        "\n",
        "    # Increase inertia\n",
        "    inertia += np.sum(distance_from_center**2)\n"
      ]
    },
    {
      "cell_type": "code",
      "execution_count": null,
      "metadata": {
        "id": "Fb0-e-FdAkkr"
      },
      "outputs": [],
      "source": [
        "inertia"
      ]
    },
    {
      "cell_type": "code",
      "execution_count": null,
      "metadata": {
        "id": "8IzQAgw7Akkr"
      },
      "outputs": [],
      "source": []
    }
  ],
  "metadata": {
    "kernelspec": {
      "display_name": "test_env_2",
      "language": "python",
      "name": "python3"
    },
    "language_info": {
      "codemirror_mode": {
        "name": "ipython",
        "version": 3
      },
      "file_extension": ".py",
      "mimetype": "text/x-python",
      "name": "python",
      "nbconvert_exporter": "python",
      "pygments_lexer": "ipython3",
      "version": "3.11.3"
    },
    "orig_nbformat": 4,
    "colab": {
      "provenance": [],
      "include_colab_link": true
    }
  },
  "nbformat": 4,
  "nbformat_minor": 0
}