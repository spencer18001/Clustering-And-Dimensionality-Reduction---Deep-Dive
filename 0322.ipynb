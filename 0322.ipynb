{
 "cells": [
  {
   "cell_type": "markdown",
   "metadata": {},
   "source": [
    "## Grouping pandas data frames\n"
   ]
  },
  {
   "attachments": {},
   "cell_type": "markdown",
   "metadata": {},
   "source": [
    "Tips dataset:\n",
    "\n",
    "1. `total_bill`: This is the total bill amount for the meal, including tax, in US dollars.\n",
    "\n",
    "2. `tip`: This is the tip amount that was left for the meal, also in US dollars.\n",
    "\n",
    "3. `sex`: This is the gender of the person who paid for the meal. It is a categorical variable with two levels: \"Male\" or \"Female\".\n",
    "\n",
    "4. `smoker`: This indicates whether or not the person who paid for the meal is a smoker. It is a categorical variable with two levels: \"Yes\" if the person is a smoker, and \"No\" if they are not.\n",
    "\n",
    "5. `day`: This is the day of the week that the meal took place. It is a categorical variable with four levels: \"Thur\", \"Fri\", \"Sat\", or \"Sun\".\n",
    "\n",
    "6. `time`: This is the time of day that the meal took place. It is a categorical variable with two levels: \"Lunch\" or \"Dinner\".\n",
    "\n",
    "7. `size`: This is the number of people in the party at the meal. This is a discrete numerical variable.\n",
    "\n",
    "Installing seaborn:\n",
    " - pip install seaborn"
   ]
  },
  {
   "cell_type": "markdown",
   "metadata": {},
   "source": [
    "#### Counting number of group instances\n"
   ]
  },
  {
   "cell_type": "code",
   "execution_count": null,
   "metadata": {},
   "outputs": [],
   "source": [
    "import pandas as pd\n",
    "import numpy as np\n",
    "import seaborn as sns\n",
    "import random \n",
    "\n",
    "random.seed(2)"
   ]
  },
  {
   "cell_type": "markdown",
   "metadata": {},
   "source": [
    "#### Groupby operation"
   ]
  },
  {
   "cell_type": "code",
   "execution_count": null,
   "metadata": {},
   "outputs": [],
   "source": [
    "tips = sns.load_dataset(\"tips\")"
   ]
  },
  {
   "cell_type": "code",
   "execution_count": null,
   "metadata": {},
   "outputs": [],
   "source": [
    "tips.head()"
   ]
  },
  {
   "cell_type": "code",
   "execution_count": null,
   "metadata": {},
   "outputs": [],
   "source": [
    "# Group by day\n",
    "tip_per_day = tips.groupby('day')"
   ]
  },
  {
   "cell_type": "code",
   "execution_count": null,
   "metadata": {},
   "outputs": [],
   "source": [
    "# Inspect contents of the group\n",
    "for group in tip_per_day:\n",
    "    \n",
    "    break"
   ]
  },
  {
   "cell_type": "code",
   "execution_count": null,
   "metadata": {},
   "outputs": [],
   "source": [
    "type(group)"
   ]
  },
  {
   "cell_type": "code",
   "execution_count": null,
   "metadata": {},
   "outputs": [],
   "source": [
    "len(group)"
   ]
  },
  {
   "cell_type": "code",
   "execution_count": null,
   "metadata": {},
   "outputs": [],
   "source": [
    "group[0]"
   ]
  },
  {
   "cell_type": "code",
   "execution_count": null,
   "metadata": {},
   "outputs": [],
   "source": [
    "group[1]"
   ]
  },
  {
   "cell_type": "code",
   "execution_count": null,
   "metadata": {},
   "outputs": [],
   "source": [
    "# Print contents of each group\n",
    "for group in tip_per_day:\n",
    "    \n",
    "    print(group[1].head())"
   ]
  },
  {
   "cell_type": "code",
   "execution_count": null,
   "metadata": {},
   "outputs": [],
   "source": [
    "# Average bill for each group\n",
    "average_bill_per_day = tips.groupby('day')['total_bill'].mean()\n",
    "\n",
    "print(average_bill_per_day)\n",
    "print(type(average_bill_per_day))"
   ]
  },
  {
   "cell_type": "code",
   "execution_count": null,
   "metadata": {},
   "outputs": [],
   "source": [
    "# Mean for each group\n",
    "average_bill_per_day = tips.groupby('day')[['total_bill', 'tip']].mean()\n",
    "\n",
    "print(average_bill_per_day)\n",
    "print(type(average_bill_per_day))"
   ]
  },
  {
   "cell_type": "code",
   "execution_count": null,
   "metadata": {},
   "outputs": [],
   "source": [
    "# Group the data by 'day' and 'time', and calculate the average total bill for each combination\n",
    "average_bill_per_day_and_time = tips.groupby(['day', 'time'])['total_bill'].mean()\n",
    "print(average_bill_per_day_and_time)"
   ]
  },
  {
   "cell_type": "code",
   "execution_count": null,
   "metadata": {},
   "outputs": [],
   "source": [
    "average_bill_per_day_and_time.reset_index()"
   ]
  },
  {
   "cell_type": "code",
   "execution_count": null,
   "metadata": {},
   "outputs": [],
   "source": [
    "# Group the data by 'day' and 'time', and calculate the average total bill for each combination\n",
    "average_bill_per_day_and_time = tips.groupby(['day', 'time'])['total_bill'].count()\n",
    "print(average_bill_per_day_and_time)"
   ]
  },
  {
   "cell_type": "code",
   "execution_count": null,
   "metadata": {},
   "outputs": [],
   "source": [
    "# Group the data by 'day' and 'time', and calculate the average total bill for each combination\n",
    "average_bill_per_day_and_time = tips.groupby(['day', 'time'], observed=True)['total_bill'].mean()\n",
    "print(average_bill_per_day_and_time)"
   ]
  },
  {
   "cell_type": "code",
   "execution_count": null,
   "metadata": {},
   "outputs": [],
   "source": [
    "average_bill_per_day_and_time.reset_index()"
   ]
  },
  {
   "cell_type": "markdown",
   "metadata": {},
   "source": [
    "#### Group and sort"
   ]
  },
  {
   "cell_type": "code",
   "execution_count": null,
   "metadata": {},
   "outputs": [],
   "source": [
    "tips_sorted = tips.sort_values('tip', ascending=False)\n",
    "average_bill_per_day = tips_sorted.groupby('day').head(3)\n",
    "average_bill_per_day"
   ]
  }
 ],
 "metadata": {
  "kernelspec": {
   "display_name": "test_env_2",
   "language": "python",
   "name": "python3"
  },
  "language_info": {
   "codemirror_mode": {
    "name": "ipython",
    "version": 3
   },
   "file_extension": ".py",
   "mimetype": "text/x-python",
   "name": "python",
   "nbconvert_exporter": "python",
   "pygments_lexer": "ipython3",
   "version": "3.11.3"
  },
  "orig_nbformat": 4
 },
 "nbformat": 4,
 "nbformat_minor": 2
}
