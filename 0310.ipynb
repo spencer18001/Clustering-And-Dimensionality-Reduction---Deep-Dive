{
 "cells": [
  {
   "attachments": {},
   "cell_type": "markdown",
   "metadata": {},
   "source": [
    "## Numpy datatypes\n",
    "\n",
    "### Lecture agenda\n",
    "- Datatypes\n",
    "- Datatype conversions\n",
    "\n",
    "Numpy array can contain only elements of one datatype."
   ]
  },
  {
   "cell_type": "code",
   "execution_count": null,
   "metadata": {},
   "outputs": [],
   "source": [
    "import numpy as np"
   ]
  },
  {
   "cell_type": "code",
   "execution_count": null,
   "metadata": {},
   "outputs": [],
   "source": [
    "int_arr = np.array([1, 2, 3, 4], dtype=np.int64)\n",
    "\n",
    "print(int_arr)\n",
    "print(int_arr.dtype)"
   ]
  },
  {
   "attachments": {},
   "cell_type": "markdown",
   "metadata": {},
   "source": [
    "`np.int32`: This is a 32-bit integer type. It can represent integer values from -2147483648 to 2147483647. It uses 32 bits of memory, which equals 4 bytes.\n",
    "\n",
    "`np.int64`: This is a 64-bit integer type. It can represent integer values from -9223372036854775808 to 9223372036854775807. It uses 64 bits of memory, which equals 8 bytes."
   ]
  },
  {
   "cell_type": "code",
   "execution_count": null,
   "metadata": {},
   "outputs": [],
   "source": [
    "int_arr = np.array([1, 2, 3, 4], dtype=np.int32)\n",
    "\n",
    "print(int_arr)\n",
    "print(int_arr.dtype)"
   ]
  },
  {
   "cell_type": "code",
   "execution_count": null,
   "metadata": {},
   "outputs": [],
   "source": [
    "float_arr = np.array([1.5, 2.5, 3.5, 4.5], dtype=np.float64)\n",
    "\n",
    "print(float_arr)\n",
    "print(float_arr.dtype)"
   ]
  },
  {
   "cell_type": "code",
   "execution_count": null,
   "metadata": {},
   "outputs": [],
   "source": [
    "bool_arr = np.array([True, False, True], dtype=np.bool_)\n",
    "\n",
    "print(bool_arr)\n",
    "print(bool_arr.dtype)"
   ]
  },
  {
   "attachments": {},
   "cell_type": "markdown",
   "metadata": {},
   "source": [
    "##### Datatype conversion"
   ]
  },
  {
   "cell_type": "code",
   "execution_count": null,
   "metadata": {},
   "outputs": [],
   "source": [
    "# Integer to float\n",
    "a = np.array([1, 2, 3, 4], dtype=np.int64)\n",
    "print(a)\n",
    "print(a.dtype)  \n",
    "\n",
    "b = a.astype(np.float64)\n",
    "print(b)\n",
    "print(b.dtype)"
   ]
  },
  {
   "cell_type": "code",
   "execution_count": null,
   "metadata": {},
   "outputs": [],
   "source": [
    "# We can not add float number to integer array\n",
    "a = np.array([1, 2, 3, 4], dtype=np.int64)\n",
    "print(a)\n",
    "\n",
    "a[0] = 9.1\n",
    "\n",
    "a"
   ]
  },
  {
   "cell_type": "code",
   "execution_count": null,
   "metadata": {},
   "outputs": [],
   "source": [
    "# Float to integer\n",
    "a = np.array([1.1, 2, 3.9, 4], dtype=np.float64)\n",
    "print(a)\n",
    "print(a.dtype)  \n",
    "\n",
    "b = a.astype(np.int64)\n",
    "print(b)\n",
    "print(b.dtype)"
   ]
  },
  {
   "cell_type": "code",
   "execution_count": null,
   "metadata": {},
   "outputs": [],
   "source": [
    "# Boolean to int\n",
    "a = np.array([True, False, True, True, False], dtype=np.bool_)\n",
    "\n",
    "print(a)\n",
    "print(a.dtype)\n",
    "\n",
    "# Convert the boolean array to an integer array\n",
    "b = a.astype(np.int64)\n",
    "\n",
    "print(b)  \n",
    "print(b.dtype) \n"
   ]
  }
 ],
 "metadata": {
  "kernelspec": {
   "display_name": "test_env_2",
   "language": "python",
   "name": "python3"
  },
  "language_info": {
   "codemirror_mode": {
    "name": "ipython",
    "version": 3
   },
   "file_extension": ".py",
   "mimetype": "text/x-python",
   "name": "python",
   "nbconvert_exporter": "python",
   "pygments_lexer": "ipython3",
   "version": "3.11.3"
  },
  "orig_nbformat": 4
 },
 "nbformat": 4,
 "nbformat_minor": 2
}
