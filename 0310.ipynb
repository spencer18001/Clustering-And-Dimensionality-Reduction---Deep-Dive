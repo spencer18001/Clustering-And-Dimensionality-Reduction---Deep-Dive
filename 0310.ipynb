{
  "cells": [
    {
      "cell_type": "markdown",
      "metadata": {
        "id": "view-in-github",
        "colab_type": "text"
      },
      "source": [
        "<a href=\"https://colab.research.google.com/github/spencer18001/Clustering-And-Dimensionality-Reduction---Deep-Dive/blob/main/0310.ipynb\" target=\"_parent\"><img src=\"https://colab.research.google.com/assets/colab-badge.svg\" alt=\"Open In Colab\"/></a>"
      ]
    },
    {
      "cell_type": "markdown",
      "metadata": {
        "id": "8yhSakJ6A3gl"
      },
      "source": [
        "## Numpy datatypes\n",
        "\n",
        "### Lecture agenda\n",
        "- Datatypes\n",
        "- Datatype conversions\n",
        "\n",
        "Numpy array can contain only elements of one datatype."
      ]
    },
    {
      "cell_type": "code",
      "execution_count": 1,
      "metadata": {
        "id": "XHm6rQEZA3go"
      },
      "outputs": [],
      "source": [
        "import numpy as np"
      ]
    },
    {
      "cell_type": "code",
      "execution_count": 2,
      "metadata": {
        "id": "WC-1ZOspA3gp",
        "outputId": "7255d53d-4849-45c6-e9ee-d58b0363dd87",
        "colab": {
          "base_uri": "https://localhost:8080/"
        }
      },
      "outputs": [
        {
          "output_type": "stream",
          "name": "stdout",
          "text": [
            "[1 2 3 4]\n",
            "int64\n"
          ]
        }
      ],
      "source": [
        "int_arr = np.array([1, 2, 3, 4], dtype=np.int64)\n",
        "\n",
        "print(int_arr)\n",
        "print(int_arr.dtype)"
      ]
    },
    {
      "cell_type": "markdown",
      "metadata": {
        "id": "0ZdFXZqJA3gq"
      },
      "source": [
        "`np.int32`: This is a 32-bit integer type. It can represent integer values from -2147483648 to 2147483647. It uses 32 bits of memory, which equals 4 bytes.\n",
        "\n",
        "`np.int64`: This is a 64-bit integer type. It can represent integer values from -9223372036854775808 to 9223372036854775807. It uses 64 bits of memory, which equals 8 bytes."
      ]
    },
    {
      "cell_type": "code",
      "execution_count": 3,
      "metadata": {
        "id": "P8ILslOAA3gq",
        "outputId": "3e70305d-8c09-48c2-be4a-1197ff227b3a",
        "colab": {
          "base_uri": "https://localhost:8080/"
        }
      },
      "outputs": [
        {
          "output_type": "stream",
          "name": "stdout",
          "text": [
            "[1 2 3 4]\n",
            "int32\n"
          ]
        }
      ],
      "source": [
        "int_arr = np.array([1, 2, 3, 4], dtype=np.int32)\n",
        "\n",
        "print(int_arr)\n",
        "print(int_arr.dtype)"
      ]
    },
    {
      "cell_type": "code",
      "execution_count": 4,
      "metadata": {
        "id": "LeHLQcO3A3gr",
        "outputId": "82f0df5a-7d8f-4e7e-83cb-f3e607aa01c9",
        "colab": {
          "base_uri": "https://localhost:8080/"
        }
      },
      "outputs": [
        {
          "output_type": "stream",
          "name": "stdout",
          "text": [
            "[1.5 2.5 3.5 4.5]\n",
            "float64\n"
          ]
        }
      ],
      "source": [
        "float_arr = np.array([1.5, 2.5, 3.5, 4.5], dtype=np.float64)\n",
        "\n",
        "print(float_arr)\n",
        "print(float_arr.dtype)"
      ]
    },
    {
      "cell_type": "code",
      "execution_count": 5,
      "metadata": {
        "id": "_6hHodrhA3gr",
        "outputId": "abc070dc-8884-496d-8e98-a97af7faa2e8",
        "colab": {
          "base_uri": "https://localhost:8080/"
        }
      },
      "outputs": [
        {
          "output_type": "stream",
          "name": "stdout",
          "text": [
            "[ True False  True]\n",
            "bool\n"
          ]
        }
      ],
      "source": [
        "bool_arr = np.array([True, False, True], dtype=np.bool_)\n",
        "\n",
        "print(bool_arr)\n",
        "print(bool_arr.dtype)"
      ]
    },
    {
      "cell_type": "markdown",
      "metadata": {
        "id": "vWkw0ukUA3gs"
      },
      "source": [
        "##### Datatype conversion"
      ]
    },
    {
      "cell_type": "code",
      "execution_count": 6,
      "metadata": {
        "id": "aurR8SVQA3gs",
        "outputId": "18a8c27b-c22a-429c-a089-1543f9eaefe0",
        "colab": {
          "base_uri": "https://localhost:8080/"
        }
      },
      "outputs": [
        {
          "output_type": "stream",
          "name": "stdout",
          "text": [
            "[1 2 3 4]\n",
            "int64\n",
            "[1. 2. 3. 4.]\n",
            "float64\n"
          ]
        }
      ],
      "source": [
        "# Integer to float\n",
        "a = np.array([1, 2, 3, 4], dtype=np.int64)\n",
        "print(a)\n",
        "print(a.dtype)\n",
        "\n",
        "b = a.astype(np.float64)\n",
        "print(b)\n",
        "print(b.dtype)"
      ]
    },
    {
      "cell_type": "code",
      "execution_count": 7,
      "metadata": {
        "id": "T71E--diA3gt",
        "outputId": "5ae8be3d-1498-4e18-870f-9e1a2d80a194",
        "colab": {
          "base_uri": "https://localhost:8080/"
        }
      },
      "outputs": [
        {
          "output_type": "stream",
          "name": "stdout",
          "text": [
            "[1 2 3 4]\n"
          ]
        },
        {
          "output_type": "execute_result",
          "data": {
            "text/plain": [
              "array([9, 2, 3, 4])"
            ]
          },
          "metadata": {},
          "execution_count": 7
        }
      ],
      "source": [
        "# We can not add float number to integer array (精度會遺失)\n",
        "a = np.array([1, 2, 3, 4], dtype=np.int64)\n",
        "print(a)\n",
        "\n",
        "a[0] = 9.1\n",
        "\n",
        "a"
      ]
    },
    {
      "cell_type": "code",
      "execution_count": 8,
      "metadata": {
        "id": "kAV8j31QA3gt",
        "outputId": "28f01306-98bc-4405-a8ba-fd37a156cde6",
        "colab": {
          "base_uri": "https://localhost:8080/"
        }
      },
      "outputs": [
        {
          "output_type": "stream",
          "name": "stdout",
          "text": [
            "[1.1 2.  3.9 4. ]\n",
            "float64\n",
            "[1 2 3 4]\n",
            "int64\n"
          ]
        }
      ],
      "source": [
        "# Float to integer\n",
        "a = np.array([1.1, 2, 3.9, 4], dtype=np.float64)\n",
        "print(a)\n",
        "print(a.dtype)\n",
        "\n",
        "b = a.astype(np.int64)\n",
        "print(b)\n",
        "print(b.dtype)"
      ]
    },
    {
      "cell_type": "code",
      "execution_count": 9,
      "metadata": {
        "id": "-gbADIMxA3gt",
        "outputId": "bcece990-c13f-4f81-eecc-a5fc2788b7e3",
        "colab": {
          "base_uri": "https://localhost:8080/"
        }
      },
      "outputs": [
        {
          "output_type": "stream",
          "name": "stdout",
          "text": [
            "[ True False  True  True False]\n",
            "bool\n",
            "[1 0 1 1 0]\n",
            "int64\n"
          ]
        }
      ],
      "source": [
        "# Boolean to int\n",
        "a = np.array([True, False, True, True, False], dtype=np.bool_)\n",
        "\n",
        "print(a)\n",
        "print(a.dtype)\n",
        "\n",
        "# Convert the boolean array to an integer array\n",
        "b = a.astype(np.int64)\n",
        "\n",
        "print(b)\n",
        "print(b.dtype)\n"
      ]
    }
  ],
  "metadata": {
    "kernelspec": {
      "display_name": "test_env_2",
      "language": "python",
      "name": "python3"
    },
    "language_info": {
      "codemirror_mode": {
        "name": "ipython",
        "version": 3
      },
      "file_extension": ".py",
      "mimetype": "text/x-python",
      "name": "python",
      "nbconvert_exporter": "python",
      "pygments_lexer": "ipython3",
      "version": "3.11.3"
    },
    "orig_nbformat": 4,
    "colab": {
      "provenance": [],
      "include_colab_link": true
    }
  },
  "nbformat": 4,
  "nbformat_minor": 0
}