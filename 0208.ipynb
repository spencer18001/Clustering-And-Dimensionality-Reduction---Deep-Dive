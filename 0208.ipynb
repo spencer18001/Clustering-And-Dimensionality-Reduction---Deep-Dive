{
  "cells": [
    {
      "cell_type": "markdown",
      "metadata": {
        "id": "view-in-github",
        "colab_type": "text"
      },
      "source": [
        "<a href=\"https://colab.research.google.com/github/spencer18001/Clustering-And-Dimensionality-Reduction---Deep-Dive/blob/main/0208.ipynb\" target=\"_parent\"><img src=\"https://colab.research.google.com/assets/colab-badge.svg\" alt=\"Open In Colab\"/></a>"
      ]
    },
    {
      "cell_type": "markdown",
      "metadata": {
        "id": "RSdtciKlsW8g"
      },
      "source": [
        "## Sets and tuples\n",
        "\n",
        "### Sets\n",
        "\n",
        "A set is mutable collection of unique elements.\n",
        "\n",
        "- It's defined by values separated by commas inside braces {}.\n",
        "  \n",
        "- Sets are unordered.\n",
        "- Sets also don't allow duplicates.\n",
        "- Sets can only contain unmutable elements.\n",
        "- Sets are iterable."
      ]
    },
    {
      "cell_type": "code",
      "execution_count": 1,
      "metadata": {
        "id": "jo5YZa7jsW8m",
        "outputId": "bf3ab9b0-9128-4e6b-a8ec-7f19d9c999ae",
        "colab": {
          "base_uri": "https://localhost:8080/"
        }
      },
      "outputs": [
        {
          "output_type": "stream",
          "name": "stdout",
          "text": [
            "{1, 'a', 'b'}\n",
            "<class 'set'>\n"
          ]
        }
      ],
      "source": [
        "# Creating simple set\n",
        "set1 = {1, 'a', 'b'}\n",
        "print(set1)\n",
        "print(type(set1))"
      ]
    },
    {
      "cell_type": "code",
      "execution_count": 2,
      "metadata": {
        "id": "3ibltxkgsW8n",
        "outputId": "cf12e7ed-2e43-4e89-e417-2b7d0787a4c6",
        "colab": {
          "base_uri": "https://localhost:8080/"
        }
      },
      "outputs": [
        {
          "output_type": "stream",
          "name": "stdout",
          "text": [
            "{1, 'a', 'b'}\n",
            "<class 'set'>\n"
          ]
        }
      ],
      "source": [
        "# Creating set from a list\n",
        "set1 = set([1, 'a', 'b']) # !!!!!\n",
        "print(set1)\n",
        "print(type(set1))"
      ]
    },
    {
      "cell_type": "code",
      "execution_count": 3,
      "metadata": {
        "id": "6R3Cd6vjsW8o",
        "outputId": "b0b3ac7b-a74c-4bc7-9f1d-d05210c1f5aa",
        "colab": {
          "base_uri": "https://localhost:8080/"
        }
      },
      "outputs": [
        {
          "output_type": "execute_result",
          "data": {
            "text/plain": [
              "{0, 2, 'a', 'b'}"
            ]
          },
          "metadata": {},
          "execution_count": 3
        }
      ],
      "source": [
        "# Sets cant have duplicate elements\n",
        "# Sets do not preserve order\n",
        "set2 = {'b', 'b', 'a', 0, 2}\n",
        "set2"
      ]
    },
    {
      "cell_type": "code",
      "execution_count": 4,
      "metadata": {
        "id": "Z_tqFj3jsW8o",
        "outputId": "ef5a5c07-ec11-4919-e4b2-1ad58e66c3d4",
        "colab": {
          "base_uri": "https://localhost:8080/"
        }
      },
      "outputs": [
        {
          "output_type": "execute_result",
          "data": {
            "text/plain": [
              "{1, 2, 7, 8, 9}"
            ]
          },
          "metadata": {},
          "execution_count": 4
        }
      ],
      "source": [
        "l1 = [9, 9, 9, 8, 7, 1, 1, 1, 2]\n",
        "set3 = set(l1)\n",
        "set3"
      ]
    },
    {
      "cell_type": "code",
      "execution_count": 5,
      "metadata": {
        "id": "dgBmoikAsW8o",
        "outputId": "fac5c01c-c525-4b28-99cc-dfe2ca1e98b4",
        "colab": {
          "base_uri": "https://localhost:8080/"
        }
      },
      "outputs": [
        {
          "output_type": "stream",
          "name": "stdout",
          "text": [
            "1\n",
            "2\n",
            "7\n",
            "8\n",
            "9\n"
          ]
        }
      ],
      "source": [
        "# Iterating over sets\n",
        "for el in set3:\n",
        "    print(el)"
      ]
    },
    {
      "cell_type": "code",
      "source": [
        "# !!!!!\n",
        "# Sets can only contain unmutable elements.\n",
        "set4 = {1,2,[3]}\n",
        "set4"
      ],
      "metadata": {
        "id": "pBMWRHsMtZz_",
        "outputId": "9c57f1b5-deb2-400e-c574-55e28aec9333",
        "colab": {
          "base_uri": "https://localhost:8080/",
          "height": 158
        }
      },
      "execution_count": 21,
      "outputs": [
        {
          "output_type": "error",
          "ename": "TypeError",
          "evalue": "unhashable type: 'list'",
          "traceback": [
            "\u001b[0;31m---------------------------------------------------------------------------\u001b[0m",
            "\u001b[0;31mTypeError\u001b[0m                                 Traceback (most recent call last)",
            "\u001b[0;32m<ipython-input-21-1793734fcfd3>\u001b[0m in \u001b[0;36m<cell line: 1>\u001b[0;34m()\u001b[0m\n\u001b[0;32m----> 1\u001b[0;31m \u001b[0mset4\u001b[0m \u001b[0;34m=\u001b[0m \u001b[0;34m{\u001b[0m\u001b[0;36m1\u001b[0m\u001b[0;34m,\u001b[0m\u001b[0;36m2\u001b[0m\u001b[0;34m,\u001b[0m\u001b[0;34m[\u001b[0m\u001b[0;36m3\u001b[0m\u001b[0;34m]\u001b[0m\u001b[0;34m}\u001b[0m\u001b[0;34m\u001b[0m\u001b[0;34m\u001b[0m\u001b[0m\n\u001b[0m\u001b[1;32m      2\u001b[0m \u001b[0mset4\u001b[0m\u001b[0;34m\u001b[0m\u001b[0;34m\u001b[0m\u001b[0m\n",
            "\u001b[0;31mTypeError\u001b[0m: unhashable type: 'list'"
          ]
        }
      ]
    },
    {
      "cell_type": "markdown",
      "metadata": {
        "id": "ELcAR4mjsW8p"
      },
      "source": [
        "#### Operations on sets"
      ]
    },
    {
      "cell_type": "code",
      "execution_count": 6,
      "metadata": {
        "id": "v5nbKzWnsW8q",
        "outputId": "a35b1313-8595-4402-e930-5c0ef604a924",
        "colab": {
          "base_uri": "https://localhost:8080/"
        }
      },
      "outputs": [
        {
          "output_type": "execute_result",
          "data": {
            "text/plain": [
              "{1, 2, 3, 4, 5, 6, 'a'}"
            ]
          },
          "metadata": {},
          "execution_count": 6
        }
      ],
      "source": [
        "# Add element to the set\n",
        "set4 = {1, 2, 3, 4, 5, 6}\n",
        "\n",
        "# !!!!!\n",
        "set4.add('a')\n",
        "set4"
      ]
    },
    {
      "cell_type": "code",
      "execution_count": 7,
      "metadata": {
        "id": "pe_nMSlXsW8q",
        "outputId": "4b34ce17-01b0-4260-97de-05378bb4e3ce",
        "colab": {
          "base_uri": "https://localhost:8080/"
        }
      },
      "outputs": [
        {
          "output_type": "execute_result",
          "data": {
            "text/plain": [
              "{1, 2, 20, 3, 4, 5, 6, 'a'}"
            ]
          },
          "metadata": {},
          "execution_count": 7
        }
      ],
      "source": [
        "# !!!!!\n",
        "# Concatenate sets\n",
        "set4.update({20})\n",
        "set4"
      ]
    },
    {
      "cell_type": "code",
      "execution_count": 8,
      "metadata": {
        "id": "XFoutXdFsW8r",
        "outputId": "ef9915b1-d84c-4e59-c4f4-5214fb29cd8a",
        "colab": {
          "base_uri": "https://localhost:8080/"
        }
      },
      "outputs": [
        {
          "output_type": "execute_result",
          "data": {
            "text/plain": [
              "{2, 20, 3, 4, 5, 6, 'a'}"
            ]
          },
          "metadata": {},
          "execution_count": 8
        }
      ],
      "source": [
        "# !!!!!\n",
        "# Pop random el\n",
        "pop_var = set4.pop()\n",
        "set4"
      ]
    },
    {
      "cell_type": "code",
      "execution_count": 9,
      "metadata": {
        "id": "wGLTdbdUsW8r",
        "outputId": "ccb44d24-61a0-4bae-a084-211bfb80a172",
        "colab": {
          "base_uri": "https://localhost:8080/"
        }
      },
      "outputs": [
        {
          "output_type": "execute_result",
          "data": {
            "text/plain": [
              "1"
            ]
          },
          "metadata": {},
          "execution_count": 9
        }
      ],
      "source": [
        "pop_var"
      ]
    },
    {
      "cell_type": "code",
      "execution_count": 10,
      "metadata": {
        "id": "L8OhL2IzsW8r",
        "outputId": "356cde6e-2419-4096-97f4-b352c4ee95d7",
        "colab": {
          "base_uri": "https://localhost:8080/"
        }
      },
      "outputs": [
        {
          "output_type": "execute_result",
          "data": {
            "text/plain": [
              "{2, 20, 3, 4, 6, 'a'}"
            ]
          },
          "metadata": {},
          "execution_count": 10
        }
      ],
      "source": [
        "# !!!!!\n",
        "# Remove certain element\n",
        "set4.remove(5)\n",
        "set4"
      ]
    },
    {
      "cell_type": "markdown",
      "metadata": {
        "id": "tAgj6NeCsW8s"
      },
      "source": [
        "#### Mathematical set operations"
      ]
    },
    {
      "cell_type": "code",
      "execution_count": 11,
      "metadata": {
        "id": "6JPHutw7sW8s",
        "outputId": "5f8e8524-75f8-4102-c78d-85fedaa79762",
        "colab": {
          "base_uri": "https://localhost:8080/"
        }
      },
      "outputs": [
        {
          "output_type": "stream",
          "name": "stdout",
          "text": [
            "Union : {1, 2, 3, 4, 5, 6}\n",
            "Union : {1, 2, 3, 4, 5, 6}\n"
          ]
        }
      ],
      "source": [
        "# Operations on multiple sets\n",
        "\n",
        "set1 = {1, 2, 3, 4}\n",
        "set2 = {3, 4, 5, 6}\n",
        "\n",
        "# !!!!!\n",
        "print('Union : {}'.format(set1.union(set2)))\n",
        "print('Union : {}'.format(set1 | set2))"
      ]
    },
    {
      "cell_type": "code",
      "execution_count": 12,
      "metadata": {
        "id": "m_tVFZG-sW8s",
        "outputId": "55d69768-339b-485c-a394-1a4bb582f590",
        "colab": {
          "base_uri": "https://localhost:8080/"
        }
      },
      "outputs": [
        {
          "output_type": "stream",
          "name": "stdout",
          "text": [
            "Intersection : {3, 4}\n",
            "Intersection : {3, 4}\n"
          ]
        }
      ],
      "source": [
        "# !!!!!\n",
        "print('Intersection : {}'.format(set1.intersection(set2)))\n",
        "print('Intersection : {}'.format(set1 & set2))"
      ]
    },
    {
      "cell_type": "code",
      "execution_count": 13,
      "metadata": {
        "id": "b5PGxacmsW8s",
        "outputId": "583a7860-4f02-4c5c-8a50-e8b83140d139",
        "colab": {
          "base_uri": "https://localhost:8080/"
        }
      },
      "outputs": [
        {
          "output_type": "stream",
          "name": "stdout",
          "text": [
            "Difference : {1, 2}\n",
            "Difference : {1, 2}\n"
          ]
        }
      ],
      "source": [
        "# !!!!!\n",
        "print('Difference : {}'.format(set1.difference(set2)))\n",
        "print('Difference : {}'.format(set1 - set2))"
      ]
    },
    {
      "cell_type": "markdown",
      "metadata": {
        "id": "ZgBNnfT_sW8t"
      },
      "source": [
        "####  Part 6 : Touples\n",
        "\n",
        "A tuple is an immutable collection of ordered elements.\n",
        "\n",
        "- Tuples are ordered.\n",
        "- Tuples are iterable.\n",
        "  \n",
        "- Tuples are immutable (meaning they cannot be changed, unlike lists).\n"
      ]
    },
    {
      "cell_type": "code",
      "execution_count": 14,
      "metadata": {
        "id": "badUsPNgsW8t",
        "outputId": "6b801eae-63ef-4df2-f8ea-03d174e1899d",
        "colab": {
          "base_uri": "https://localhost:8080/"
        }
      },
      "outputs": [
        {
          "output_type": "stream",
          "name": "stdout",
          "text": [
            "(1, 'a', True)\n",
            "<class 'tuple'>\n"
          ]
        }
      ],
      "source": [
        "# Create simple tuple\n",
        "t1 = (1,'a',True)\n",
        "print(t1)\n",
        "print(type(t1))"
      ]
    },
    {
      "cell_type": "code",
      "execution_count": 15,
      "metadata": {
        "id": "ZPhh6uynsW8t",
        "outputId": "58fafeb8-2183-413b-bb81-ea5212a8b026",
        "colab": {
          "base_uri": "https://localhost:8080/"
        }
      },
      "outputs": [
        {
          "output_type": "stream",
          "name": "stdout",
          "text": [
            "(1, 'a', True)\n",
            "<class 'tuple'>\n"
          ]
        }
      ],
      "source": [
        "# Create simple tuple\n",
        "t1 = 1,'a',True # !!!!!\n",
        "print(t1)\n",
        "print(type(t1))"
      ]
    },
    {
      "cell_type": "code",
      "execution_count": 16,
      "metadata": {
        "id": "XWAridf3sW8t",
        "outputId": "1b20e0f3-eb54-4c8a-ff6d-2149fc998c13",
        "colab": {
          "base_uri": "https://localhost:8080/"
        }
      },
      "outputs": [
        {
          "output_type": "stream",
          "name": "stdout",
          "text": [
            "(1, 'a', True)\n",
            "<class 'tuple'>\n"
          ]
        }
      ],
      "source": [
        "# Create simple tuple\n",
        "t1 = tuple([1,'a', True]) # !!!!!\n",
        "print(t1)\n",
        "print(type(t1))"
      ]
    },
    {
      "cell_type": "code",
      "execution_count": 17,
      "metadata": {
        "id": "8KkkLsKWsW8u",
        "outputId": "25767057-a026-4d14-fbf9-a172fa968c8e",
        "colab": {
          "base_uri": "https://localhost:8080/"
        }
      },
      "outputs": [
        {
          "output_type": "execute_result",
          "data": {
            "text/plain": [
              "1"
            ]
          },
          "metadata": {},
          "execution_count": 17
        }
      ],
      "source": [
        "# Indexing\n",
        "t1[0]"
      ]
    },
    {
      "cell_type": "code",
      "execution_count": 18,
      "metadata": {
        "id": "eWztlAhusW8u",
        "outputId": "d6268835-21ff-48b2-bceb-a0800b7c02f7",
        "colab": {
          "base_uri": "https://localhost:8080/"
        }
      },
      "outputs": [
        {
          "output_type": "execute_result",
          "data": {
            "text/plain": [
              "('a', True)"
            ]
          },
          "metadata": {},
          "execution_count": 18
        }
      ],
      "source": [
        "# Slicing\n",
        "t1[1:3]"
      ]
    },
    {
      "cell_type": "code",
      "execution_count": 19,
      "metadata": {
        "id": "ut1Vb-ynsW8u",
        "outputId": "143f5ad0-d89e-4c5e-8579-f6e7d8f3942b",
        "colab": {
          "base_uri": "https://localhost:8080/",
          "height": 158
        }
      },
      "outputs": [
        {
          "output_type": "error",
          "ename": "TypeError",
          "evalue": "'tuple' object does not support item assignment",
          "traceback": [
            "\u001b[0;31m---------------------------------------------------------------------------\u001b[0m",
            "\u001b[0;31mTypeError\u001b[0m                                 Traceback (most recent call last)",
            "\u001b[0;32m<ipython-input-19-17b657730d8c>\u001b[0m in \u001b[0;36m<cell line: 2>\u001b[0;34m()\u001b[0m\n\u001b[1;32m      1\u001b[0m \u001b[0;31m# Tuple is immutable\u001b[0m\u001b[0;34m\u001b[0m\u001b[0;34m\u001b[0m\u001b[0m\n\u001b[0;32m----> 2\u001b[0;31m \u001b[0mt1\u001b[0m\u001b[0;34m[\u001b[0m\u001b[0;36m0\u001b[0m\u001b[0;34m]\u001b[0m \u001b[0;34m=\u001b[0m \u001b[0;36m10\u001b[0m\u001b[0;34m\u001b[0m\u001b[0;34m\u001b[0m\u001b[0m\n\u001b[0m",
            "\u001b[0;31mTypeError\u001b[0m: 'tuple' object does not support item assignment"
          ]
        }
      ],
      "source": [
        "# Tuple is immutable\n",
        "t1[0] = 10"
      ]
    },
    {
      "cell_type": "code",
      "execution_count": 20,
      "metadata": {
        "id": "A5ArDGM7sW8u",
        "outputId": "c9e6b131-3821-4aef-93c0-5abe70b86e99",
        "colab": {
          "base_uri": "https://localhost:8080/"
        }
      },
      "outputs": [
        {
          "output_type": "stream",
          "name": "stdout",
          "text": [
            "1\n",
            "a\n",
            "True\n"
          ]
        }
      ],
      "source": [
        "# Iterate through tuple\n",
        "for el in t1:\n",
        "    print(el)"
      ]
    },
    {
      "cell_type": "code",
      "source": [],
      "metadata": {
        "id": "Xw4l1V8HtUaF"
      },
      "execution_count": null,
      "outputs": []
    }
  ],
  "metadata": {
    "kernelspec": {
      "display_name": "test_env_2",
      "language": "python",
      "name": "python3"
    },
    "language_info": {
      "codemirror_mode": {
        "name": "ipython",
        "version": 3
      },
      "file_extension": ".py",
      "mimetype": "text/x-python",
      "name": "python",
      "nbconvert_exporter": "python",
      "pygments_lexer": "ipython3",
      "version": "3.11.3"
    },
    "orig_nbformat": 4,
    "colab": {
      "provenance": [],
      "include_colab_link": true
    }
  },
  "nbformat": 4,
  "nbformat_minor": 0
}